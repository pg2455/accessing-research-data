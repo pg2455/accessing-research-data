{
 "cells": [
  {
   "cell_type": "markdown",
   "source": "# Week 3: the Twitter API\n\nIn this lesson, we're going to learn how to analyze and explore Twitter data with the Python/command line tool [twarc](https://twarc-project.readthedocs.io/en/latest/). We're specifically going to work with [twarc2](https://twarc-project.readthedocs.io/en/latest/twarc2/), which is designed for version 2 of the Twitter API (released in 2020) and the Academic Research track of the Twitter API (released in 2021), which enables researchers to collect tweets from the entire Twitter archive for free.\n\nTwarc was developed by a project called [Documenting the Now](https://www.docnow.io/). The DocNow team develops tools and ethical frameworks for social media research.\n\n> This notebook builds upon the work of [Melanie Walsh](https://melaniewalsh.github.io/Intro-Cultural-Analytics/), released under a [Creative Commons BY-NC-SA 4.0](https://creativecommons.org/licenses/by-nc-sa/4.0/) License. This notebook shares the same license.",
   "metadata": {
    "tags": [],
    "cell_id": "62702a47-a754-4fd6-8e13-9bd6af07bcad",
    "deepnote_cell_type": "markdown",
    "deepnote_cell_height": 319.1875
   }
  },
  {
   "cell_type": "markdown",
   "source": "<div class=\"alert-warning alert\">\n\n**Note1:** There is a major difference in the workflow throughout this exercise. It is because the way `twarc2` is designed. It is a command-line tool that needs to be run from a terminal shell. In a Jupyter notebook, we can run these shell commands directely from the notebook prefixing them with `!`.\n\nFor example, you might have used `ls` command in the terminal to list the contents of the directory. Try running `!ls` from this notebook now. \n</div>\n\n",
   "metadata": {
    "tags": [],
    "cell_id": "00001-469f99ed-b13a-4462-a915-6661f0c773da",
    "deepnote_cell_type": "markdown",
    "deepnote_cell_height": 207.984375
   }
  },
  {
   "cell_type": "code",
   "metadata": {
    "tags": [],
    "deepnote_to_be_reexecuted": false,
    "source_hash": "ad8f3ca4",
    "execution_start": 1646577149705,
    "execution_millis": 734,
    "output_cleared": true,
    "cell_id": "00002-7299fe08-1fd0-4db1-bbaf-c58d484864f8",
    "deepnote_cell_type": "code",
    "deepnote_cell_height": 81
   },
   "source": "!ls",
   "execution_count": null,
   "outputs": []
  },
  {
   "cell_type": "markdown",
   "source": "<div class=\"alert-warning alert\">\n\n**Note2:** The commands that we run using `!twarc2` will result in a file being saved in the local directory. You can check this file through the file browser towards the left hand side. We will use `pandas` to read the resulting file. \n\n</div>",
   "metadata": {
    "tags": [],
    "cell_id": "00003-6f5d05b3-dac4-4782-9c6e-f25d6896fd61",
    "deepnote_cell_type": "markdown",
    "deepnote_cell_height": 126.796875
   }
  },
  {
   "cell_type": "markdown",
   "source": "### Workflow\n\nWe will need to install three command line tools:\n- the program `twarc2` to access Twitter API, in order to archive tweets, counts, user metadata.\n- `twarc-csv`, a plugin to convert the tweets archived by `twarc2` into a CSV format.\n- `twarc-hashtags`, a plugin to analyze hashtag counts in the tweets retrieved by `twarc2`.\n\nNote: the program `twarc2` requires the Python package `twarc` (with no 2). The number ‘2’ is for the Twitter API v2.\n",
   "metadata": {
    "tags": [],
    "cell_id": "00004-50cae49c-a2cd-4dfd-9ba3-7db609d26cdf",
    "deepnote_cell_type": "markdown",
    "deepnote_cell_height": 223.984375
   }
  },
  {
   "cell_type": "code",
   "metadata": {
    "tags": [],
    "deepnote_to_be_reexecuted": false,
    "source_hash": "4b2b74b9",
    "execution_start": 1646577150449,
    "execution_millis": 14226,
    "output_cleared": true,
    "cell_id": "00005-d1c70e4a-91ad-426f-8eaf-1e25f4cd1870",
    "deepnote_cell_type": "code",
    "deepnote_cell_height": 135
   },
   "source": "%%capture\n!pip install twarc --upgrade\n!pip install twarc-csv --upgrade\n!pip install twarc-hashtags --upgrade",
   "execution_count": null,
   "outputs": []
  },
  {
   "cell_type": "markdown",
   "source": "## Configure and set up warc2\n\nOnce twarc2 is installed, you need to configure it with your API keys and/or bearer token so that you can actually access the API.\n\nIf you are running this notebook in DeepNote, select the terminal icon on the left hand side. If you are running this notebook in your local computer or on server, you will need to open a terminal. \n\nRun the following command in the terminal \n```\ntwarc2 configure\n\n```\n\n\nTwarc will ask for your bearer token, which you can copy and paste into the blank after the colon, and then press enter. You can optionally enter your API keys, as well.\n\nIf you’ve entered your information correctly, you should get a congratulatory message that looks something like this:\n\n```\nYour keys have been written to /Users/<your username>/Library/Application Support/twarc/config\n\n✨ ✨ ✨  Happy twarcing! ✨ ✨ ✨\n\n```\n\n<br />\n\nNow you’re ready to collect and analyze tweets!",
   "metadata": {
    "tags": [],
    "cell_id": "00006-68a784c0-2d22-4ea3-b1bc-a3d5a64a4b62",
    "deepnote_cell_type": "markdown",
    "deepnote_cell_height": 503.171875
   }
  },
  {
   "cell_type": "markdown",
   "source": "## Archive tweets matching a query\n\nTo collect tweets from the Twitter API, we need to form a query and ask twarc2 to download all the tweets that match it: `twarc2 search *query*`. The simplest kind of query is a keyword search, such as the phrase “Oxford Internet Institute,” which should return any tweet that contains all of these words in any order — `twarc2 search \"Oxford Internet Institute\"`.",
   "metadata": {
    "tags": [],
    "cell_id": "00007-6c1c3c74-038e-4f49-bdc1-a06720ca4fc2",
    "deepnote_cell_type": "markdown",
    "deepnote_cell_height": 175.59375
   }
  },
  {
   "cell_type": "markdown",
   "source": "<div class=\"alert-info alert\">\n\n**Exercise 0.1:** Retrieve the tweets that contain the keywords (in any order) \"Oxford Internet Institute\" and save them to `tweets-oii.json`\n\n</div>\n",
   "metadata": {
    "tags": [],
    "cell_id": "00008-c3992fe5-d3e6-47c3-a8d8-311876d134c2",
    "deepnote_cell_type": "markdown",
    "deepnote_cell_height": 126.796875
   }
  },
  {
   "cell_type": "markdown",
   "source": "To output Twitter data to a file, we include a filename with the “.jsonl” file extension, which stands for JSON lines, a special kind of JSON file:",
   "metadata": {
    "tags": [],
    "cell_id": "00009-daa67d53-ac13-4bca-9cc0-3206090caaba",
    "deepnote_cell_type": "markdown",
    "deepnote_cell_height": 74.796875
   }
  },
  {
   "cell_type": "code",
   "metadata": {
    "tags": [],
    "deepnote_to_be_reexecuted": false,
    "source_hash": "cbce5e7e",
    "execution_start": 1646577164695,
    "execution_millis": 2940,
    "output_cleared": true,
    "cell_id": "00010-9cc730c3-d097-443e-995c-c953640751a2",
    "deepnote_cell_type": "code",
    "deepnote_cell_height": 81
   },
   "source": "!twarc2 search \"Oxford Internet Institute\" tweets-oii.jsonl",
   "execution_count": null,
   "outputs": []
  },
  {
   "cell_type": "markdown",
   "source": "<div class=\"alert-info alert\">\n\n**Exercise 0.2:** Convert these tweets into a `csv` file named `tweet-oii.csv`.\n\nUse `pandas` in Python to load that CSV file and count the number of tweets returned by the search.\n</div>\n",
   "metadata": {
    "tags": [],
    "cell_id": "00011-9bb57ee7-8edb-4f95-9eac-40626302eb02",
    "deepnote_cell_type": "markdown",
    "deepnote_cell_height": 140.796875
   }
  },
  {
   "cell_type": "code",
   "metadata": {
    "tags": [],
    "deepnote_to_be_reexecuted": false,
    "source_hash": "48451602",
    "execution_start": 1646577167644,
    "execution_millis": 2398,
    "output_cleared": true,
    "cell_id": "00012-718e1547-4360-4a37-92c8-1a67d12953ab",
    "deepnote_cell_type": "code",
    "deepnote_cell_height": 81
   },
   "source": "!twarc2 csv tweets-oii.jsonl tweets-oii.csv",
   "execution_count": null,
   "outputs": []
  },
  {
   "cell_type": "code",
   "metadata": {
    "tags": [],
    "deepnote_to_be_reexecuted": false,
    "source_hash": "ffe61c6",
    "execution_start": 1646577170053,
    "execution_millis": 257,
    "output_cleared": true,
    "cell_id": "00013-ec086d66-fd64-4dd7-9b79-cf3d187a8c24",
    "deepnote_cell_type": "code",
    "deepnote_cell_height": 135
   },
   "source": "import pandas as pd \ntweets = pd.read_csv(\"tweets-oii.csv\")\n\ntweets.head()",
   "execution_count": null,
   "outputs": []
  },
  {
   "cell_type": "markdown",
   "source": "<div class=\"alert-info alert\">\n\n**Exercise 0.3:** Next, we are going to rename a number of columns to make the data more readable. we are going to rename the columns. Look at the columns and find which columns represent `date of the tweet`,`number of retweets`, `number of likes`, `number of quotes`,  `number of replies`, `author twitter handle`, `author name`, `author's twitter bio`, `text of the tweet`,  `whether the author is verified or not`.\n\n</div>",
   "metadata": {
    "tags": [],
    "cell_id": "00014-fca6f7b2-7fba-4e05-8dbf-82aebf69e681",
    "deepnote_cell_type": "markdown",
    "deepnote_cell_height": 171.59375
   }
  },
  {
   "cell_type": "code",
   "metadata": {
    "tags": [],
    "deepnote_to_be_reexecuted": false,
    "source_hash": "19167285",
    "execution_start": 1646577170388,
    "execution_millis": 920756,
    "output_cleared": true,
    "cell_id": "00015-17b92ca4-8411-4c68-9e15-478a5074f1b4",
    "deepnote_cell_type": "code",
    "deepnote_cell_height": 81
   },
   "source": "print(tweets.columns)",
   "execution_count": null,
   "outputs": []
  },
  {
   "cell_type": "code",
   "metadata": {
    "tags": [],
    "deepnote_to_be_reexecuted": false,
    "source_hash": "bcab2b2b",
    "execution_start": 1646577170402,
    "execution_millis": 917688,
    "output_cleared": true,
    "cell_id": "00016-06a841ef-19d9-4632-a491-acd1a5d0de10",
    "deepnote_cell_type": "code",
    "deepnote_cell_height": 387
   },
   "source": "def rename_dataframe_tweets(dataframe):\n    \"\"\" Rename the columns of a dataset archived by twarc2. \"\"\"\n    return dataframe.rename(columns={\n        'REPLACE THIS STRING WITH APPROPRIATE COLUMN NAME HERE': 'date',\n        'public_metrics.retweet_count': 'retweets', \n        'author.username': 'username', \n        'REPLACE THIS STRING WITH APPROPRIATE COLUMN NAME HERE': 'name',\n        'REPLACE THIS STRING WITH APPROPRIATE COLUMN NAME HERE': 'verified', \n        'REPLACE THIS STRING WITH APPROPRIATE COLUMN NAME HERE': 'likes', \n        'REPLACE THIS STRING WITH APPROPRIATE COLUMN NAME HERE': 'quotes', \n        'REPLACE THIS STRING WITH APPROPRIATE COLUMN NAME HERE': 'replies',\n        'REPLACE THIS STRING WITH APPROPRIATE COLUMN NAME HERE': 'user_bio',\n    })\n\ntweets = rename_dataframe_tweets(tweets)\n\n# note we are keeping the column `text` as it is. \ntweets = tweets[['date', 'retweets', 'username', 'name', 'verified', 'likes', 'quotes', 'replies', 'user_bio', 'text']]",
   "execution_count": null,
   "outputs": []
  },
  {
   "cell_type": "markdown",
   "source": "Now we can view our more focused DataFrame!",
   "metadata": {
    "tags": [],
    "cell_id": "00017-fed358e3-ce53-4077-b92a-1da6d7bb6126",
    "deepnote_cell_type": "markdown",
    "deepnote_cell_height": 52.390625
   }
  },
  {
   "cell_type": "code",
   "metadata": {
    "tags": [],
    "deepnote_to_be_reexecuted": false,
    "source_hash": "d36541de",
    "execution_start": 1646577170415,
    "execution_millis": 907715,
    "output_cleared": true,
    "cell_id": "00018-548f1594-faa2-40bf-9626-47ab53434f9e",
    "deepnote_cell_type": "code",
    "deepnote_cell_height": 81
   },
   "source": "tweets.head()",
   "execution_count": null,
   "outputs": []
  },
  {
   "cell_type": "markdown",
   "source": "<div class=\"alert-info alert\">\n\n**Exercise 0.4:** Let's have a look at the text of these tweets. Print 10 tweets from the dataframe. \n\n</div>",
   "metadata": {
    "tags": [],
    "cell_id": "00019-68298f07-89b5-4f0c-9140-9719977232d9",
    "deepnote_cell_type": "markdown",
    "deepnote_cell_height": 104.390625
   }
  },
  {
   "cell_type": "code",
   "metadata": {
    "tags": [],
    "deepnote_to_be_reexecuted": false,
    "source_hash": "58c9579f",
    "execution_start": 1646577170433,
    "execution_millis": 2618688,
    "output_cleared": true,
    "cell_id": "00020-c4d2e9af-b061-415a-9d20-542282dd7f20",
    "deepnote_cell_type": "code",
    "deepnote_cell_height": 81
   },
   "source": "### YOUR CODE HERE",
   "execution_count": null,
   "outputs": []
  },
  {
   "cell_type": "markdown",
   "source": "<div class=\"alert-info alert\">\n\n**Exercise 0.5:** Analyze  the hashtags in the above tweets and save the resulting counts of hashtags in a CSV file named `hashtags-oii.csv`. Read this csv file in `pandas` and check the counts of these hashtags.\n\n</div>",
   "metadata": {
    "tags": [],
    "cell_id": "00021-bfe701b3-c0c4-4383-bc52-8542d7343b27",
    "deepnote_cell_type": "markdown",
    "deepnote_cell_height": 126.796875
   }
  },
  {
   "cell_type": "code",
   "metadata": {
    "tags": [],
    "deepnote_to_be_reexecuted": false,
    "source_hash": "688fdd94",
    "execution_start": 1646577170444,
    "execution_millis": 2458,
    "output_cleared": true,
    "cell_id": "00022-a1d55782-37fb-487f-9a72-ab5d8cf066f9",
    "deepnote_cell_type": "code",
    "deepnote_cell_height": 81
   },
   "source": "!twarc2 hashtags tweets-oii.jsonl hashtags-oii.csv",
   "execution_count": null,
   "outputs": []
  },
  {
   "cell_type": "code",
   "metadata": {
    "tags": [],
    "deepnote_to_be_reexecuted": false,
    "source_hash": "efbd23fc",
    "execution_start": 1646577172905,
    "execution_millis": 38,
    "output_cleared": true,
    "cell_id": "00023-bebc2657-6440-48a7-88d6-a96b36a5042a",
    "deepnote_cell_type": "code",
    "deepnote_cell_height": 99
   },
   "source": "hashtags_oii = pd.read_csv('hashtags-oii.csv')\nhashtags_oii",
   "execution_count": null,
   "outputs": []
  },
  {
   "cell_type": "markdown",
   "source": "## Get Tweets (Academic Track, Full Twitter Archive)\n\nSo far we have been querying the standard Twitter API that limits the search results to the past 7 days. In order to search the full Twitter archive, we only need to add a single flag of `--archive` to our `twarc2 search` command so that the command now looks like `twarc2 search *query* --archive filename`. \n\n<div class=\"alert-info alert\">\n\n**Exercise 1:** Now repeat the Exercise 0.1, 0.2, and 0.3 by running the search query on the entire archive.\n\nFor the sake of clarity, add `-archive` to the .jsonl output file. For example, save the tweets in `tweet-oii-archive.jsonl`. \n\n</div>\n\n\n",
   "metadata": {
    "tags": [],
    "cell_id": "00024-f5b94796-fbd2-48c6-9792-fee9d63ee5a4",
    "deepnote_cell_type": "markdown",
    "deepnote_cell_height": 300.390625
   }
  },
  {
   "cell_type": "code",
   "metadata": {
    "tags": [],
    "deepnote_to_be_reexecuted": false,
    "source_hash": "6fb3b41",
    "execution_start": 1646577172965,
    "execution_millis": 100643,
    "output_cleared": true,
    "cell_id": "00025-d7f7a97b-ce8c-484e-9e87-afbe7a172b7c",
    "deepnote_cell_type": "code",
    "deepnote_cell_height": 135
   },
   "source": "# To limit the timit your query will take to run, let's add --start-time 2020-01-01 to limit tweets to 2020—2022.\n\n!twarc2 search **COMPLETE THIS QUERY** tweets-oii-archive.jsonl\n!twarc2 csv **COMPLETE THIS CONVERSION**",
   "execution_count": null,
   "outputs": []
  },
  {
   "cell_type": "code",
   "metadata": {
    "tags": [],
    "deepnote_to_be_reexecuted": false,
    "source_hash": "a0f04a0d",
    "execution_start": 1646577273618,
    "execution_millis": 460,
    "output_cleared": true,
    "cell_id": "00026-378dc3a4-e7ff-4973-959d-b57bd8ba13c2",
    "deepnote_cell_type": "code",
    "deepnote_cell_height": 171
   },
   "source": "tweets = pd.read_csv(\"REPLACE THIS STRING WITH APPROPRIATE FILENAME\")\n\ntweets = ## CALL THE FUNCTION TO RENAME THE COLUMNS  # We reuse the function we defined above\n\ntweets = tweets[['date', 'retweets', 'username', 'name', 'verified', 'likes', 'quotes', 'replies', 'user_bio']]\nprint(f\"We collected {tweets.shape[0]} tweets!\")",
   "execution_count": null,
   "outputs": []
  },
  {
   "cell_type": "code",
   "metadata": {
    "tags": [],
    "deepnote_to_be_reexecuted": false,
    "source_hash": "f925722e",
    "output_cleared": true,
    "execution_start": 1646577274074,
    "execution_millis": 3542,
    "cell_id": "00027-3363783f-2a8f-4fdf-800b-6f7e95c3aeab",
    "deepnote_cell_type": "code",
    "deepnote_cell_height": 81
   },
   "source": "!twarc2 hashtags **COMPLETE THIS CONVERSION**",
   "execution_count": null,
   "outputs": []
  },
  {
   "cell_type": "code",
   "metadata": {
    "tags": [],
    "deepnote_to_be_reexecuted": false,
    "source_hash": "6bbdfd85",
    "output_cleared": true,
    "execution_start": 1646577277632,
    "execution_millis": 370,
    "cell_id": "00028-377368dd-bc6a-479b-87e1-5004fd69394a",
    "deepnote_cell_type": "code",
    "deepnote_cell_height": 99
   },
   "source": "hashtags_oii = pd.read_csv(\"REPLACE THIS STRING WITH APPROPRIATE FILENAME\")\nhashtags_oii",
   "execution_count": null,
   "outputs": []
  },
  {
   "cell_type": "markdown",
   "source": "## Advanced Search of Twitter API\n\n\n\n",
   "metadata": {
    "tags": [],
    "cell_id": "00029-e132cda3-24a5-47f5-9544-f0c3e60bacdd",
    "deepnote_cell_type": "markdown",
    "deepnote_cell_height": 70
   }
  },
  {
   "cell_type": "markdown",
   "source": "The Twitter API is very complex and not everything can be taught in this class. Our aim is to show you the basis but also get you comfortable in constructing more complex queries.\n\nThere are many other operators that we can add to a query, which would allow us to collect tweets only from specific Twitter users or locations, or to only collect tweets that meet certain conditions, such as containing an image or being authored by a verified Twitter user. Here’s an table of the main search operators taken from the Twitter documentation (https://developer.twitter.com/en/docs/twitter-api/tweets/search/integrate/build-a-query#list). If you're interested, look also at:\n\n- Twarc's own documentation: https://twarc-project.readthedocs.io/en/latest/twarc2_en_us/\n- Some advanced examples from `twitterdev` Github account: https://github.com/twitterdev/getting-started-with-the-twitter-api-v2-for-academic-research/blob/main/modules/5-how-to-write-search-queries.md\n\n<hr />\n<br />\n\n| Search Operator      | Explanation | Example |\n|:---------------------|:------------|:------- |\n| `keyword`              | Matches a keyword within the body of a Tweet. |`so sweet and so cold` |                    \n| `\"exact phrase match\"` | Matches the exact phrase within the body of a Tweet. | `\"so sweet and so cold\" OR \"plums in the icebox\"` |\n| `-`                    | Do NOT match a keyword or operator | `birthday -happy`, `oxford -university` |\n| `#`                    | Matches any Tweet containing a recognized hashtag.  | `#arthistory` |\n| `from:`, `to:`         | Matches any Tweet from or to a specific user. | `from:cynddl` `to:cynddl` |\n| `place:`               | Matches Tweets tagged with the specified location or Twitter place ID. | `place:\"new york city\" OR place:london` |\n| `is:reply`, `is:quote` | Returns only replies or quote tweets. | `thank you is:reply` ` from:OxfordUCU is:quote` |\n| `is:verified`          | Returns only Tweets whose authors are verified by Twitter. | `buy NFT is:verified` |\n| `has:media`            | Matches Tweets that contain a media object, such as a photo, GIF, or video, as determined by Twitter. | `My new song is out has:media` |\n| `has:images`, `has:videos` | Matches Tweets that contain a recognized URL to an image. | `the view from my window has:images` |\n| `has:geo`              | Matches Tweets that have Tweet-specific geolocation data provided by the Twitter user. | `honeymoon has:geo` |\n",
   "metadata": {
    "tags": [],
    "cell_id": "00030-1ffaf8c2-da53-4c35-8d3b-0ca93ab8d710",
    "deepnote_cell_type": "markdown",
    "deepnote_cell_height": 749.546875
   }
  },
  {
   "cell_type": "markdown",
   "source": "\n### Query construction\n\n- To construct a query of two keywords with **logical AND**, use a space. So if the search term is `corona` and `coronavirus`, our query will be `\"corona coronavirus\"`\n- To construct a query of two keywords with **logical OR**, we use OR as a keyword. So if the search term is `corona`or `coronavirus` our query will be `\"corona OR coronavirus\"`\n- To construct a query to **match exact phrase**, we enclose that phrase in quotation marks. So if the search term is `covid` OR `corona virus`, our query will be `'corona OR \"corona virus\"'`. **NOTE** how we have enclosed the query in single quotes because the inner phrase needs to use double quotes.\n- To construct a **complex query** which has `keyword1` and either of `keyword2` or `keyword1`, we can enclose the OR condition in circular parenthesis. Thus, our query will be `\"keyword1 (keyword2 OR keyword3)\"`.\n\n### Filters\n\nThe table above presented a few filters you can add to your queries. For a full list, please refer to the API documentation. For instance:\n\n- To filter the tweets by authors who are verified by Twitter (journalists, artists, politicians, etc.), add `is:verified` to your query.  For example, to search for `keyword1` only from authors who are verified, our query will be ``keyword1 is:verified\"`\n- To filter by tweets that have some form of media, our query will look like `\"keyword1 has:media\"`\n\n### Other command-line options\n\nThere are two options that are specific to `twarc` so you will have to add them to your command instead to your query.\n\n- **Search limit:** if you want to limit your query to just 500 tweets, the command will look like `twarc2 search \"query\" --limit 500 output.jsonl`\n\n- **Time range:** if you want to limit your search reesults to a time range, the command will look like `twarc2 search --start-time 2014-07-17 --end-time 2014-07-24 \"query\" output.jsonl`\n\n\nLet's get used to all this through an example. ",
   "metadata": {
    "tags": [],
    "cell_id": "00031-8774672f-afdf-4ccf-add3-b5ad901ecc0e",
    "deepnote_cell_type": "markdown",
    "deepnote_cell_height": 718.96875
   }
  },
  {
   "cell_type": "markdown",
   "source": "<div class=\"alert-info alert\">\n\n**Exercise 2.1:** We will search for posts related to Russian invasion of Ukraine and the conflict in Ukraine. Since the volume of tweets containing `Ukraine` or `Russia` is too much to be dealt in the duration of the class, we will narrow down our search using keywords and filters.\n\nLet's construct a query with the following specifications:\n- contains exact words/phrases: either `Russia` or `Россия` and either `Ukraine` or `Украина`\n- is tweeted only by verified authors\n- contains hashtags\n- has media\n- is not a retweet (`-is:retweet`).\n\nWe will further limit our search results based on the following criteria\n- Maximum 50,000 tweets\n- Start date be 2022-02-27\n- End date be 2022-02-28\n\nStore the output in `tweets-ukr-rus.jsonl`.\n</div>\n",
   "metadata": {
    "tags": [],
    "cell_id": "00032-6ed30589-b8b5-4061-8355-103953789e13",
    "deepnote_cell_type": "markdown",
    "deepnote_cell_height": 483.578125
   }
  },
  {
   "cell_type": "code",
   "metadata": {
    "tags": [],
    "output_cleared": true,
    "deepnote_to_be_reexecuted": false,
    "source_hash": "d4f80ae8",
    "execution_start": 1646588429010,
    "execution_millis": 308,
    "cell_id": "00033-ac127e0d-052c-4d40-85e4-a675c81b2935",
    "deepnote_cell_type": "code",
    "deepnote_cell_height": 81
   },
   "source": "!twarc2 search **COMPLETE THIS QUERY**",
   "execution_count": null,
   "outputs": []
  },
  {
   "cell_type": "markdown",
   "source": "<div class=\"alert-info alert\">\n\n**Exercise 2.2:** Write the `twarc2` command to convert the `jsonl` file to a CSV file.\n</div>",
   "metadata": {
    "tags": [],
    "cell_id": "00034-60f50532-57b7-48dc-98c9-e9bb2e1834c8",
    "deepnote_cell_type": "markdown",
    "deepnote_cell_height": 104.390625
   }
  },
  {
   "cell_type": "code",
   "metadata": {
    "tags": [],
    "deepnote_to_be_reexecuted": false,
    "source_hash": "e5c77d5d",
    "execution_start": 1646577373275,
    "execution_millis": 11613,
    "output_cleared": true,
    "cell_id": "00035-003c2ef9-3dba-475a-a2f1-f9a71ba24cdf",
    "deepnote_cell_type": "code",
    "deepnote_cell_height": 81
   },
   "source": "!twarc2 csv **COMPLETE THIS CONVERSION**",
   "execution_count": null,
   "outputs": []
  },
  {
   "cell_type": "markdown",
   "source": "<div class=\"alert-info alert\">\n\n**Exercise 2.3:** Read the above CSV file using pandas\n\n- Look at the columns and find which columns represent `date of the tweet`,`number of retweets`, `number of likes`, `number of quotes`,  `number of replies`, `author twitter handle`, `author name`, `author's twitter bio`, `whether the author is verified or not`\n- Let's rename to `date`, `retweets`, `likes`, `quotes`, `replies`, `username`, `name`, `user_bio`, `verified`.\n- Let's keep only these columns as well as the main text of the tweet.\n\n</div>",
   "metadata": {
    "tags": [],
    "cell_id": "00036-73c6ec2f-527d-43f0-b2b0-69e04577a674",
    "deepnote_cell_type": "markdown",
    "deepnote_cell_height": 236.390625
   }
  },
  {
   "cell_type": "code",
   "metadata": {
    "tags": [],
    "deepnote_to_be_reexecuted": false,
    "source_hash": "5f857e3c",
    "execution_start": 1646578607824,
    "execution_millis": 487,
    "output_cleared": true,
    "cell_id": "00037-40e882ef-d74a-4b4d-aca1-57af7801ef44",
    "deepnote_cell_type": "code",
    "deepnote_cell_height": 81
   },
   "source": "tweets = pd.read_csv(\"REPLACE THIS STRING WITH APPROPRIATE FILENAME\")",
   "execution_count": null,
   "outputs": []
  },
  {
   "cell_type": "code",
   "metadata": {
    "tags": [],
    "deepnote_to_be_reexecuted": false,
    "source_hash": "a897c8bc",
    "execution_start": 1646577385474,
    "execution_millis": 49,
    "output_cleared": true,
    "cell_id": "00038-e7ff352d-e556-4a96-97a2-b66216123518",
    "deepnote_cell_type": "code",
    "deepnote_cell_height": 153
   },
   "source": "tweets = ## CALL THE FUNCTION TO RENAME THE COLUMNS  # We reuse the function we defined above\n\ntweets = tweets[['date', 'retweets', 'username', 'name', 'verified', 'likes', 'quotes', 'replies', 'user_bio', 'text']].copy()\n\ntweets.head()",
   "execution_count": null,
   "outputs": []
  },
  {
   "cell_type": "markdown",
   "source": "<div class=\"alert-info alert\">\n\n**Exercise 2.4:**  What are the most popular tweets? Let's sort them:\n\n- in descending order of the number of  likes;\n- in descending order of the number of  retweets.\n\nCheckout pandas sort_values function here: https://pandas.pydata.org/docs/reference/api/pandas.DataFrame.sort_values.html\n</div>",
   "metadata": {
    "tags": [],
    "cell_id": "00039-632e54b9-1931-40c9-bf17-1339b31b2d62",
    "deepnote_cell_type": "markdown",
    "deepnote_cell_height": 224.984375
   }
  },
  {
   "cell_type": "code",
   "metadata": {
    "tags": [],
    "deepnote_to_be_reexecuted": false,
    "source_hash": "fdbed2c1",
    "execution_start": 1646577385563,
    "execution_millis": 88,
    "output_cleared": true,
    "cell_id": "00040-06ee9be5-e2ff-4247-ba39-0d40fe8f8000",
    "deepnote_cell_type": "code",
    "deepnote_cell_height": 99
   },
   "source": "# number of likes\n## YOUR CODE HERE",
   "execution_count": null,
   "outputs": []
  },
  {
   "cell_type": "code",
   "metadata": {
    "tags": [],
    "deepnote_to_be_reexecuted": false,
    "source_hash": "5a072465",
    "execution_start": 1646577385664,
    "execution_millis": 96,
    "output_cleared": true,
    "cell_id": "00041-cce1904d-3d57-4fcb-a79d-189476370b55",
    "deepnote_cell_type": "code",
    "deepnote_cell_height": 99
   },
   "source": "# number of retweets\n## YOUR CODE HERE",
   "execution_count": null,
   "outputs": []
  },
  {
   "cell_type": "markdown",
   "source": "<div class=\"alert-info alert\">\n\n**Exercise 2.5:**  Let's plot the hourly frequency of tweets.\n\n- Check the type of elements that `date` column has. Are they `str` or `datatime` objects? If they are `str`, we need to convert them to `datetime` objects so that we can do the necessary aggregation. We will use `pd.to_datetime` to do that.\n- We will use a handy functionality in pandas to do a frequency count on datetime objects. To do that, we need to set the index of dataframe as `date` column.\n- We will use `resample` functionality of `pandas` to resample the datetime index into bins according to the specification. For example, if you want to plot daily frequency, pass the argument `'D'`, and if you want to plot hourly frequency, pass the argument `'H'`. Call `.resample('H')` on the dataframe obtained above.\n- In order to aggregate these results, we will use `.size()` function on the resampled dataframe.\n- Finally, we will plot the resulting counts using `.plot()`, a handy pandas method that calls the matplotlib library.\n\n</div>\n\n",
   "metadata": {
    "tags": [],
    "cell_id": "00042-2a78c5cc-3cbb-45b4-a8b5-a5a883e5cbac",
    "deepnote_cell_type": "markdown",
    "deepnote_cell_height": 354.375
   }
  },
  {
   "cell_type": "code",
   "metadata": {
    "tags": [],
    "deepnote_to_be_reexecuted": false,
    "source_hash": "9ddd804a",
    "execution_start": 1646577385808,
    "execution_millis": 10,
    "output_cleared": true,
    "cell_id": "00043-d0c2272d-cb69-4bf9-93e9-761c864d722f",
    "deepnote_cell_type": "code",
    "deepnote_cell_height": 189
   },
   "source": "# What does the date column contains? A series of string objects.\nprint(\n    ## YOUR CODE HERE TO PRINT 1st ELEMENT OF 'date' column\n    )\nprint(\n    ## YOUR CODE HERE TO PRINT THE TYPE 1st ELEMENT OF 'date' column. Hint: use type() function.\n    ) ",
   "execution_count": null,
   "outputs": []
  },
  {
   "cell_type": "code",
   "metadata": {
    "tags": [],
    "deepnote_to_be_reexecuted": false,
    "source_hash": "aebf7707",
    "execution_start": 1646577385809,
    "execution_millis": 1,
    "output_cleared": true,
    "cell_id": "00044-0a7b4945-f34d-478e-9a35-9a9d91b98f68",
    "deepnote_cell_type": "code",
    "deepnote_cell_height": 99
   },
   "source": "# Let's convert it to a pandas datetime series:\n## YOUR CODE HERE TO CONVERT 'date' column TO APPROPRIATE DATETIME OBJECTS",
   "execution_count": null,
   "outputs": []
  },
  {
   "cell_type": "code",
   "metadata": {
    "tags": [],
    "deepnote_to_be_reexecuted": false,
    "source_hash": "370260d8",
    "execution_start": 1646577385810,
    "execution_millis": 43,
    "output_cleared": true,
    "cell_id": "00045-a2452b3e-b0f8-4650-ac75-31370bb1fbad",
    "deepnote_cell_type": "code",
    "deepnote_cell_height": 189
   },
   "source": "# We convert the dataframe to have the date column as an ‘index’\ntweets_by_date = tweets.copy()\ntweets_by_date.set_index('date', inplace=True) ## >>>>> MAKE SURE YOU UNDERSTAND THIS: READ THE INSTRUCTIONS ABOVE <<<<<\n\n# We now make use of pandas' advanced timeseries processing tools: https://pandas.pydata.org/docs/reference/api/pandas.DataFrame.resample.html\nhourly_tweets = tweets_by_date.resample('H') ## >>>>> MAKE SURE YOU UNDERSTAND THIS: READ THE INSTRUCTIONS ABOVE <<<<<\nhourly_frequency_tweets = hourly_tweets.size()",
   "execution_count": null,
   "outputs": []
  },
  {
   "cell_type": "code",
   "metadata": {
    "tags": [],
    "deepnote_to_be_reexecuted": false,
    "source_hash": "2cfce037",
    "execution_start": 1646577385853,
    "execution_millis": 1875,
    "output_cleared": true,
    "cell_id": "00046-826669c6-62eb-43a3-8c0b-451ebdd79529",
    "deepnote_cell_type": "code",
    "deepnote_cell_height": 81
   },
   "source": "## YOUR CODE HERE TO PLOT HOURLY VOLUME OF TWEETS. Use pandas `plot()` function. ",
   "execution_count": null,
   "outputs": []
  },
  {
   "cell_type": "markdown",
   "source": "<div class=\"alert-warning alert\">\n\nAlthough pandas takes time to learn, you eventually gain a lot of times due to the advanced functions it provides.\n\nThis **resampling technique is very easy to transfer** for other sort of plots:\n- you can adjust the window from years to minutes. For instance, resampling with the rule `'D'` returns days, `'10T'` returns bins of 10 minutes…\n- you can use it to compute statistics on any columns, such as average number of likes for instance.\n\n</div>",
   "metadata": {
    "tags": [],
    "cell_id": "00047-3d57a50a-29b5-4a7a-b6da-e15a23805527",
    "deepnote_cell_type": "markdown",
    "deepnote_cell_height": 224.984375
   }
  },
  {
   "cell_type": "code",
   "metadata": {
    "tags": [],
    "deepnote_to_be_reexecuted": false,
    "source_hash": "a4525950",
    "execution_start": 1646577684691,
    "execution_millis": 724,
    "output_cleared": true,
    "cell_id": "00048-b7559131-d5ef-4420-8c79-e565f0b99d9b",
    "deepnote_cell_type": "code",
    "deepnote_cell_height": 99
   },
   "source": "hourly_tweets = tweets_by_date.resample('H')\nhourly_tweets.likes.mean().plot(title=\"Hourly average number of likes\", rot=45);",
   "execution_count": null,
   "outputs": []
  },
  {
   "cell_type": "markdown",
   "source": "<div class=\"alert-info alert\">\n\n\n**Exercise 2.7:** Plot the volume of retweets every 30 minutes.\n\n</div>",
   "metadata": {
    "tags": [],
    "cell_id": "00049-f61fa83b-cee1-43ee-b077-e234fa342884",
    "deepnote_cell_type": "markdown",
    "deepnote_cell_height": 104.390625
   }
  },
  {
   "cell_type": "code",
   "metadata": {
    "tags": [],
    "cell_id": "00050-e48b5ef5-bfe3-4bcd-8a42-af341eb00f59",
    "deepnote_cell_type": "code",
    "deepnote_cell_height": 66
   },
   "source": "## YOUR CODE HERE",
   "execution_count": null,
   "outputs": []
  },
  {
   "cell_type": "markdown",
   "source": "<div class=\"alert-info alert\">\n\n**Exercise 2.8:**  Use `twarc` to output summary of hashtags in the retrieved tweets and save the final output in CSV format at `hashtags-ukr-rus.csv`\n\n</div>",
   "metadata": {
    "tags": [],
    "cell_id": "00051-450d2012-c165-4ec5-87a0-25c1867dc4f9",
    "deepnote_cell_type": "markdown",
    "deepnote_cell_height": 126.796875
   }
  },
  {
   "cell_type": "code",
   "metadata": {
    "tags": [],
    "deepnote_to_be_reexecuted": false,
    "source_hash": "d4ac14a9",
    "execution_start": 1646577388079,
    "execution_millis": 4176,
    "output_cleared": true,
    "cell_id": "00052-0f11bd22-339e-4325-a71d-d51e685928eb",
    "deepnote_cell_type": "code",
    "deepnote_cell_height": 81
   },
   "source": "!twarc2 hashtags **COMPLETE THIS CONVERSION**",
   "execution_count": null,
   "outputs": []
  },
  {
   "cell_type": "markdown",
   "source": "<div class=\"alert-info alert\">\n\n**Exercise 2.9:**  Read the above CSV file and retrieve the top 10 hastags from there. \n\n</div>",
   "metadata": {
    "tags": [],
    "cell_id": "00053-fb7d4593-084d-448b-9e97-d8be779b6ef1",
    "deepnote_cell_type": "markdown",
    "deepnote_cell_height": 104.390625
   }
  },
  {
   "cell_type": "code",
   "metadata": {
    "tags": [],
    "deepnote_to_be_reexecuted": false,
    "source_hash": "954f4bcd",
    "execution_start": 1646577666254,
    "execution_millis": 20993,
    "output_cleared": true,
    "cell_id": "00054-9577d81c-9576-4dd9-9eee-671bf67338e9",
    "deepnote_cell_type": "code",
    "deepnote_cell_height": 99
   },
   "source": "hashtags_ukraine = pd.read_csv(\"REPLACE THIS STRING WITH APPROPRIATE FILENAME\")\nhashtags_ukraine.columns",
   "execution_count": null,
   "outputs": []
  },
  {
   "cell_type": "code",
   "metadata": {
    "tags": [],
    "deepnote_to_be_reexecuted": false,
    "source_hash": "67a4dfb6",
    "execution_start": 1646577392009,
    "execution_millis": 30,
    "output_cleared": true,
    "cell_id": "00055-19aaf3c3-011e-4fc3-b47e-b8c13b6a4821",
    "deepnote_cell_type": "code",
    "deepnote_cell_height": 99
   },
   "source": "## DISPLAY THE DATAFRAME IN DESCENDING ORDER OF HASHTAG COUNTS\n## YOUR CODE HERE",
   "execution_count": null,
   "outputs": []
  },
  {
   "cell_type": "markdown",
   "source": "## Optional: archiving only counts of tweets",
   "metadata": {
    "tags": [],
    "cell_id": "00056-eccd4111-b730-4f85-bbfb-c55ccf2a9c8b",
    "deepnote_cell_type": "markdown",
    "deepnote_cell_height": 70
   }
  },
  {
   "cell_type": "markdown",
   "source": "Some of the queries we tested above quickly take time. If you only want to collect aggregated counts of tweets, disagregated by days for instance, there's an easier way. ",
   "metadata": {
    "tags": [],
    "cell_id": "00057-ba4025cf-2e88-4c29-86e5-6fad509c85ef",
    "deepnote_cell_type": "markdown",
    "deepnote_cell_height": 74.796875
   }
  },
  {
   "cell_type": "markdown",
   "source": "<div class=\"alert alert-info\">\n\n**Exercise 3.1:** Execute the twarc2 command below to count the number of tweets that match a given query.\n\nWe will directly obtain the counts by day, in a CSV format.\n</div>\n",
   "metadata": {
    "tags": [],
    "cell_id": "00058-d8d5532d-faf1-44b4-ac41-284ea58acfa1",
    "deepnote_cell_type": "markdown",
    "deepnote_cell_height": 140.796875
   }
  },
  {
   "cell_type": "markdown",
   "source": "**Note:** To call `twarc` for counts, we execute the following command:\n\n```\n!twarc2 counts \"query\" --csv --granularity day > filename.csv\n```\n\n<br />\n\nHere, `--csv` specifies the desired output format, `--granularity` specifies the aggregation level, and \nthe keyword `>` redirects the output of the command before this keyword to the file mentioned after this keyword. ",
   "metadata": {
    "tags": [],
    "cell_id": "00059-e750e24f-509f-4a69-9fae-7498e9dfb6f7",
    "deepnote_cell_type": "markdown",
    "deepnote_cell_height": 174.390625
   }
  },
  {
   "cell_type": "code",
   "metadata": {
    "tags": [],
    "deepnote_to_be_reexecuted": false,
    "source_hash": "34eee9b5",
    "execution_start": 1646577392046,
    "execution_millis": 2791,
    "output_cleared": true,
    "cell_id": "00060-323ef592-56bc-4309-858a-718dee4eaf17",
    "deepnote_cell_type": "code",
    "deepnote_cell_height": 81
   },
   "source": "!twarc2 counts '(Russia OR Россия) (Ukraine OR Украина) is:verified has:media has:hashtags ' --csv --granularity day > counts-ukr-rus.csv ",
   "execution_count": null,
   "outputs": []
  },
  {
   "cell_type": "markdown",
   "source": "<div class=\"alert-info alert\">\n\n**Exercise 3.2:** Now use pandas to read the CSV file that you saved above. \n\n- How many columns are there? What does these column mean?\n- Plot the daily counts using pandas plot function : https://pandas.pydata.org/docs/reference/api/pandas.DataFrame.plot.html\n\n</div>",
   "metadata": {
    "tags": [],
    "cell_id": "00061-6fc49c53-8a0d-44c9-8259-e5da045e23b2",
    "deepnote_cell_type": "markdown",
    "deepnote_cell_height": 188.59375
   }
  },
  {
   "cell_type": "code",
   "metadata": {
    "tags": [],
    "deepnote_to_be_reexecuted": false,
    "source_hash": "69e3c793",
    "execution_start": 1646577394855,
    "execution_millis": 1,
    "output_cleared": true,
    "cell_id": "00062-30a908a0-1e67-4044-943f-6f3ff4135094",
    "deepnote_cell_type": "code",
    "deepnote_cell_height": 99
   },
   "source": "counts_ukr_rus = pd.read_csv(\"counts-ukr-rus.csv\")\nprint(counts_ukr_rus.columns)",
   "execution_count": null,
   "outputs": []
  },
  {
   "cell_type": "code",
   "metadata": {
    "tags": [],
    "deepnote_to_be_reexecuted": false,
    "source_hash": "bdf9dfa9",
    "execution_start": 1646577394884,
    "execution_millis": 27,
    "output_cleared": true,
    "cell_id": "00063-d831deda-1f9a-4f3d-8e18-f9b7d45b0a14",
    "deepnote_cell_type": "code",
    "deepnote_cell_height": 81
   },
   "source": "counts_ukr_rus.head()",
   "execution_count": null,
   "outputs": []
  },
  {
   "cell_type": "code",
   "metadata": {
    "tags": [],
    "deepnote_to_be_reexecuted": false,
    "source_hash": "7e10c700",
    "execution_start": 1646577394914,
    "execution_millis": 5,
    "output_cleared": true,
    "cell_id": "00064-977d14f0-d7c8-404f-ae7a-81d927072672",
    "deepnote_cell_type": "code",
    "deepnote_cell_height": 117
   },
   "source": "# Let's convert the start and end series to datetime\ncounts_ukr_rus['start'] = pd.to_datetime(counts_ukr_rus['start'])\ncounts_ukr_rus['end'] = pd.to_datetime(counts_ukr_rus['end'])",
   "execution_count": null,
   "outputs": []
  },
  {
   "cell_type": "code",
   "metadata": {
    "tags": [],
    "deepnote_to_be_reexecuted": false,
    "source_hash": "b0844f38",
    "execution_start": 1646577730182,
    "execution_millis": 604,
    "output_cleared": true,
    "cell_id": "00065-dd2e4f47-1116-4f87-8705-ee201c7ef59e",
    "deepnote_cell_type": "code",
    "deepnote_cell_height": 81
   },
   "source": "counts_ukr_rus.plot(y=\"day_count\", x=\"start\", rot=45, marker='x', legend=False, ylabel=\"Daily tweet volume\", xlabel=\"Day\");",
   "execution_count": null,
   "outputs": []
  },
  {
   "cell_type": "markdown",
   "source": "<div class=\"alert-warning alert\">\n\n**For more examples** of accessing data from Twitter API, check out `twarc`'s documentation: https://twarc-project.readthedocs.io/en/latest/twarc2_en_us/\n\nYou can notably use it to access the followers and friends (mutual followers) of a given user.\n\nIf you're interested in mapping networks, have a look at another plugin, twarc-network: https://github.com/DocNow/twarc-network\n\n</div>",
   "metadata": {
    "tags": [],
    "cell_id": "00066-8d32c7f4-db2a-4ffd-98ed-a56bad2f5f69",
    "deepnote_cell_type": "markdown",
    "deepnote_cell_height": 221.984375
   }
  },
  {
   "cell_type": "markdown",
   "source": "## This week's datasheet questions",
   "metadata": {
    "tags": [],
    "cell_id": "00067-79987007-564a-4a2c-929e-62f4b53b72d1",
    "deepnote_cell_type": "markdown",
    "deepnote_cell_height": 70
   }
  },
  {
   "cell_type": "markdown",
   "source": "Throughout this course, we will aim to build on the practice of documenting our datasets, using the Datasheet for Datasets framework (here is an <a href=\"https://github.com/zykls/folktables/blob/main/datasheet.md\">example of a datasheet\"</a>). In the notebook for this week, you designed a small dataset of tweets related to the conflict in Ukraine. Let's assume you plan to release this dataset online.\n\nHow would you structure your Datasheet for this small dataset? For this week's homework, please answer the following questions:",
   "metadata": {
    "tags": [],
    "cell_id": "00068-0c210583-b16d-4edf-95a3-f127e9e2a813",
    "deepnote_cell_type": "markdown",
    "deepnote_cell_height": 155.984375
   }
  },
  {
   "cell_type": "markdown",
   "source": ">**How was the data associated with each instance acquired?** Was the data directly observable (e.g., raw text, movie ratings), reported by subjects (e.g., survey responses), or indirectly inferred/derived from other data (e.g., part-of-speech tags, model-based guesses for age or language)? If data was reported by subjects or indirectly inferred/derived from other data, was the data validated/verified? If so, please describe how.\n\n...\n\n>**If the dataset is a sample from a larger set, what was the sampling strategy (e.g., deterministic, probabilistic with specific sampling probabilities)?**\n\n...\n\n>**Over what timeframe was the data collected? Does this timeframe match the creation timeframe of the data associated with the instances (e.g., recent crawl of old news articles)?** If not, please describe the timeframe in which the data associated with the instances was created.\n\n...\n\n>**Does the dataset contain data that, if viewed directly, might be offensive, insulting, threatening, or might otherwise cause anxiety?** If so, please describe why.\n\n...\n\n>**Did the individuals in question consent to the collection and use of their data?** If so, please describe (or show with screenshots or other information) how consent was requested and provided, and provide a link or other access point to, or otherwise reproduce, the exact language to which the individuals consented.\n\n...\n",
   "metadata": {
    "tags": [],
    "cell_id": "00069-d4f9c8bb-8898-4c83-ac36-6def3d7ff8d5",
    "deepnote_cell_type": "markdown",
    "deepnote_cell_height": 581.5625
   }
  },
  {
   "cell_type": "markdown",
   "source": "<a style='text-decoration:none;line-height:16px;display:flex;color:#5B5B62;padding:10px;justify-content:end;' href='https://deepnote.com?utm_source=created-in-deepnote-cell&projectId=f746e373-dc41-4dbe-b3f9-5f3af42ff658' target=\"_blank\">\n<img alt='Created in deepnote.com' style='display:inline;max-height:16px;margin:0px;margin-right:7.5px;' src='data:image/svg+xml;base64,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' > </img>\nCreated in <span style='font-weight:600;margin-left:4px;'>Deepnote</span></a>",
   "metadata": {
    "tags": [],
    "created_in_deepnote_cell": true,
    "deepnote_cell_type": "markdown"
   }
  }
 ],
 "nbformat": 4,
 "nbformat_minor": 2,
 "metadata": {
  "orig_nbformat": 2,
  "deepnote": {
   "is_reactive": false
  },
  "deepnote_notebook_id": "9b3f45c7-76d9-4f9c-bea0-0354e780f452",
  "deepnote_execution_queue": []
 }
}