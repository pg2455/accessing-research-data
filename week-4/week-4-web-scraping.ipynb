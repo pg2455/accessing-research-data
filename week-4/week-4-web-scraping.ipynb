{
 "cells": [
  {
   "cell_type": "markdown",
   "source": "# Week 4: Web Scraping",
   "metadata": {
    "cell_id": "7cba5860-19d5-4397-bc84-249577e22fa7",
    "tags": [],
    "deepnote_app_coordinates": {
     "x": 0,
     "y": null,
     "w": 12,
     "h": 5
    },
    "deepnote_cell_type": "markdown",
    "deepnote_cell_height": 82
   }
  },
  {
   "cell_type": "markdown",
   "source": "In this week, we will learn to automatically extract information from a website. To do so, we will need to to understand the following:\n\n- the HTML language, the building block of the Web;\n- the CSS language, describing how HTML elements are positioned, how text is displayed, etc.;\n- how CSS styling is encoded in HTML attributes withh ‘CSS selectors’;\n- inspecting a website in your browser and finding out how to select information to scrape.\n\nOnce we have the above basic understanding, we will use a Python library to help us automate information extraction from the websites.",
   "metadata": {
    "cell_id": "85dc1f31-3154-46fd-9be0-34880a0252cc",
    "tags": [],
    "deepnote_app_coordinates": {
     "x": 0,
     "y": 6,
     "w": 12,
     "h": 5
    },
    "deepnote_cell_type": "markdown",
    "deepnote_cell_height": 291.15625
   }
  },
  {
   "cell_type": "markdown",
   "source": "## HTML\n\nHyperText Markup Language (HTML) is the language that is interpreted by the web browsers to display Web page. Just like how Python code is interpreted by the Python interpreter, web browsers (e.g., Chrome, Firefox, Safari) are interpreters for HTML code. \n\nA simple example of an HTML code looks as follows:\n\n```\n<html>\n    <div>\n        <h1>Hello World!</h1>\n        <p>This is my first HTML code</p>\n    </div>\n</html>\n```",
   "metadata": {
    "cell_id": "2784fd4e-eb9d-4914-8bcd-6b96975f2407",
    "tags": [],
    "deepnote_app_coordinates": {
     "x": 0,
     "y": 12,
     "w": 12,
     "h": 5
    },
    "deepnote_cell_type": "markdown",
    "deepnote_cell_height": 369.890625
   }
  },
  {
   "cell_type": "markdown",
   "source": "<div class=\"alert-info alert\">\n\n**Exercise 0.1:** Go to https://htmledit.squarefree.com/ and insert the HTML code in the top input box. Notice how the the tags such as `<p>` or `</p>` disappear, thereby rendering only the text between these tags. \n\n</div>\n",
   "metadata": {
    "cell_id": "322ef2f4-af19-462c-acde-70debcc07143",
    "tags": [],
    "deepnote_app_coordinates": {
     "x": 0,
     "y": 18,
     "w": 12,
     "h": 5
    },
    "deepnote_cell_type": "markdown",
    "deepnote_cell_height": 147.390625
   }
  },
  {
   "cell_type": "markdown",
   "source": "### HTML Elements\n\n**Notice** how the tags appear in pairs as `<p>` and `</p>` or `<div>` and `</div>`. A start tag (e.g., `<p>`), text, and the end tag (e.g., `</p>`) forms an **HTML element**. A web browser display the text contained in these elements according to the element's function. Each of these tags have a specific purpose. Here are some examples:\n\n<hr />\n<br />\n\n| tag (name)              | Function | \n|:------------------------|:------------|\n| `p` (paragraph)         | Display the text as is |                    \n| `h1` (headline-1)       | Display the text as the main headline with bold and larger font |\n| `h2` (headline-2)       | Display the text as a sub headline with bold and slighlty smaller fond than `h1`|\n| `div` (division)        | Define a section in the HTML document |\n| `html` (root)           | Define the end and start of the HTML code | \n\n<br/>\n<hr/>\n\nFinally, these **tags are further nested**. In our example, a div-tag contains an h3-tag and a p-tag. \n\n<div class=\"alert-warning alert\">\n\nA **full list of all tag lists** is available here: https://www.w3schools.com/tags/default.asp\n</div>",
   "metadata": {
    "cell_id": "5cb2c0b0-5203-49e5-adec-a8f0f4233195",
    "tags": [],
    "deepnote_app_coordinates": {
     "x": 0,
     "y": 24,
     "w": 12,
     "h": 5
    },
    "deepnote_cell_type": "markdown",
    "deepnote_cell_height": 463.171875
   }
  },
  {
   "cell_type": "markdown",
   "source": "## CSS \n\nCascading Style Sheets (CSS) tells the web browser how to style the content of an element. It is the language that often accompanies any HTML code.The styling may include having specific font size, color, background color, and many more properties related to visually displaying that element. \n\nOne can understand the tags in HTML like `<h1>` as having some default CSS. However, when wee want to do more than that is availble in HTML tags, we will need to use CSS.\n\n```html\n<html>\n    <head>\n        <style>\n        p {\n            background-color: lightblue,\n            font-size: 20px\n        }\n\n        h1 {\n            text-align: center\n        }\n        </style>\n    </head>\n\n    <body>\n        <div>\n            <h1>Hello World!</h1>\n            <p>This is my first HTML code</p>\n        </div>\n    </body>\n</html>\n```\n\n",
   "metadata": {
    "cell_id": "525d10c0-7757-4987-8224-bc0cdb7e32c9",
    "tags": [],
    "deepnote_app_coordinates": {
     "x": 0,
     "y": 30,
     "w": 12,
     "h": 5
    },
    "deepnote_cell_type": "markdown",
    "deepnote_cell_height": 760.296875
   }
  },
  {
   "cell_type": "markdown",
   "source": "Since it is beyond the capacity of a notebook to render the above CSS in these blocks, we will use an online HTML hosting platform (JSFiddle) to test the previous example.\n\nClick on https://jsfiddle.net/pguptacs/vg8wuzL5/ to see how the above HTML code is displayed. If HTML doesn't display at the bottom right corner, then click on the `Run` button at the top-left corner of the window. \n\n**Note** how specifications like `text-align` or `background-color` stylize their respective HTML elements.\n**Note** that we have partitioned the HTML document into two sections using the head-tag and the body-tag. The head-tag contains all the metadata, while the body tag contains everything that needs to be displayed on a web page. \n\nThe above code is a cleaner way to separate out CSS styling and HTML code via style-tag nested within the head-tag. However, HTML is flexible enough to let the user define these styles in the individual elements. For example, study the code below and note how we moved style within the elements themselves.\n\n```\n<html>\n  <div>\n    <h1 style=\"text-align: center\";>Hello World!</h1>\n    <p style=\"background-color:lightblue; font-size:20px\">This is my first HTML code</p>\n  </div>\n</html>\n```",
   "metadata": {
    "cell_id": "0213ae5c-98fb-4aba-affc-582608a0000e",
    "tags": [],
    "deepnote_app_coordinates": {
     "x": 0,
     "y": 36,
     "w": 12,
     "h": 5
    },
    "deepnote_cell_type": "markdown",
    "deepnote_cell_height": 586.6875
   }
  },
  {
   "cell_type": "markdown",
   "source": "<div class=\"alert-info alert\">\n\n**Exercise 0.2:** Go to https://htmledit.squarefree.com/ and insert the HTML code in the top input box. Notice how the individual elements have been stylized in the similar fashion as the preceding HTML code with a separate style-tag.\n\n</div>",
   "metadata": {
    "cell_id": "d15f9da7-e175-4de0-b0fc-6a2dd35e246e",
    "tags": [],
    "deepnote_app_coordinates": {
     "x": 0,
     "y": 42,
     "w": 12,
     "h": 5
    },
    "deepnote_cell_type": "markdown",
    "deepnote_cell_height": 147.390625
   }
  },
  {
   "cell_type": "markdown",
   "source": "You can also view the above code snippet in JSFiddle here: https://jsfiddle.net/pguptacs/5s2av39u/",
   "metadata": {
    "cell_id": "7def48a2-e96d-4a2c-b1a2-93025947672b",
    "tags": [],
    "deepnote_app_coordinates": {
     "x": 0,
     "y": 48,
     "w": 12,
     "h": 5
    },
    "deepnote_cell_type": "markdown",
    "deepnote_cell_height": 73.890625
   }
  },
  {
   "cell_type": "markdown",
   "source": "### Advanced CSS styling using HTML attributes\n\nWe saw above that each start tag can have arguments like `style=\"text-align: center\"` to define the style of that element. An HTML code can quickly become too messy to read if we were to define styles in each of the elements. Thus, in an attempt to organize the CSS styling, one can imagine the following two situations -\n\n- **(A)** There are multiple elements which all need to be styled in the same way: HTML provides `class` attrbiutes to define such CSS styles using the CSS selector `.`\n- **(B)** There is an element that needs an unique CSS style: HTML provides `id` attribute to define a unique ID to that element and this element can be styled separately using the CSS selector `#`.\n\n**Note:** We have defined **HTML Attributes** and their corresponding **CSS Selector**. This distinction will become clearer with the following example that attributes `class` and `id` to the p-tags, and define their styles separately in the style sheet using their corresponding selector `.` and `#`. ",
   "metadata": {
    "cell_id": "11bafcbc-ab2b-4d19-928a-69e7b0e43e3d",
    "tags": [],
    "deepnote_app_coordinates": {
     "x": 0,
     "y": 54,
     "w": 12,
     "h": 5
    },
    "deepnote_cell_type": "markdown",
    "deepnote_cell_height": 332.984375
   }
  },
  {
   "cell_type": "markdown",
   "metadata": {
    "cell_id": "69bcefbb-04b9-403b-a8e5-672835fdced2",
    "tags": [],
    "deepnote_app_coordinates": {
     "x": 0,
     "y": 60,
     "w": 12,
     "h": 5
    },
    "deepnote_cell_type": "markdown",
    "deepnote_cell_height": 569.09375
   },
   "source": "```\n<html>\n    <head>\n        <style>\n        .done {\n            background-color: lightblue;\n            font-size: 20px\n        }\n\n        #todo {\n            background-color: lightgreen;\n            text-align: center\n        }\n        </style>\n    </head>\n\n    <body>\n        <div>\n            <h1>Hello World!</h1>\n            <p class=\"done\">I know how HTML works</p>\n            <p class=\"done\">I know how CSS works</p>\n            <p id=\"todo\">I am learning about HTML attributes and CSS selectors</p>\n        </div>\n    </body>\n</html>\n```",
   "execution_count": null
  },
  {
   "cell_type": "markdown",
   "source": "To display the above code, head to https://jsfiddle.net/pguptacs/o9vfryg8/ and notice the difference.",
   "metadata": {
    "cell_id": "b60c10c0-8efe-46e3-be08-d0f848b88815",
    "tags": [],
    "deepnote_app_coordinates": {
     "x": 0,
     "y": 66,
     "w": 12,
     "h": 5
    },
    "deepnote_cell_type": "markdown",
    "deepnote_cell_height": 73.890625
   }
  },
  {
   "cell_type": "markdown",
   "source": "<div class=\"alert-info alert\">\n\n**Example 0.3:** Think of what will happen when we have a class and id defined in the same attribute. For example, how will the following HTML code be rendered?\n\n</div>",
   "metadata": {
    "cell_id": "c3def9b6-cebb-4897-8cb0-452f152bafd4",
    "tags": [],
    "deepnote_app_coordinates": {
     "x": 0,
     "y": 72,
     "w": 12,
     "h": 5
    },
    "deepnote_cell_type": "markdown",
    "deepnote_cell_height": 126.796875
   }
  },
  {
   "cell_type": "markdown",
   "metadata": {
    "cell_id": "3971bef1-e16c-460f-a4cd-9eaa8a98797f",
    "tags": [],
    "deepnote_app_coordinates": {
     "x": 0,
     "y": 78,
     "w": 12,
     "h": 5
    },
    "deepnote_cell_type": "markdown",
    "deepnote_cell_height": 569.09375
   },
   "source": "```\n<html>\n    <head>\n        <style>\n        .done {\n            background-color: lightblue;\n            font-size: 20px\n        }\n\n        #todo {\n            background-color: lightgreen;\n            text-align: center\n        }\n        </style>\n    </head>\n\n    <body>\n        <div>\n            <h1>Hello World!</h1>\n            <p class=\"done\">I know how HTML works</p>\n            <p class=\"done\">I know how CSS works</p>\n            <p class=\"done\" id=\"todo\">I am learning about HTML attributes and CSS selectors</p>\n        </div>\n    </body>\n</html>\n```",
   "execution_count": null
  },
  {
   "cell_type": "markdown",
   "source": "Head over to https://jsfiddle.net/pguptacs/utbxoe48/ and note the following:\n\n-  `id` overwrites the style defined in CSS \n- Final style is the union of individual styles",
   "metadata": {
    "cell_id": "9908cf6e-67ab-4b87-a075-791383e7b35e",
    "tags": [],
    "deepnote_app_coordinates": {
     "x": 0,
     "y": 84,
     "w": 12,
     "h": 5
    },
    "deepnote_cell_type": "markdown",
    "deepnote_cell_height": 128.1875
   }
  },
  {
   "cell_type": "markdown",
   "source": "### Combining multiple HTML attributes\n\nFinally, many classes and ids can be combined in the same tag. For example, look at the code below and think about how it will be rendered.",
   "metadata": {
    "cell_id": "69a71ad4-512a-4f85-952b-ab8890db9781",
    "tags": [],
    "deepnote_app_coordinates": {
     "x": 0,
     "y": 90,
     "w": 12,
     "h": 5
    },
    "deepnote_cell_type": "markdown",
    "deepnote_cell_height": 122.796875
   }
  },
  {
   "cell_type": "markdown",
   "metadata": {
    "cell_id": "1b2fa5e6-fb86-4421-9f0c-386e91a1ae9e",
    "tags": [],
    "deepnote_app_coordinates": {
     "x": 0,
     "y": 96,
     "w": 12,
     "h": 5
    },
    "deepnote_cell_type": "markdown",
    "deepnote_cell_height": 652.296875
   },
   "source": "```\n<html>\n    <head>\n        <style>\n        .done {\n            background-color: lightblue;\n            font-size: 20px\n        }\n\n        #todo {\n            background-color: lightgreen;\n            text-align: center\n        }\n        \n        .weight {\n          font-weight: bold;\n        }\n         </style>\n    </head>\n\n    <body>\n        <div>\n            <h1>Hello World!</h1>\n            <p class=\"done weight\">I know how HTML works</p>\n            <p class=\"done weight\">I know how CSS works</p>\n            <p class=\"done \" id=\"todo\">I am learning about HTML attributes and CSS selectors</p>\n        </div>\n    </body>\n</html>\n```",
   "execution_count": null
  },
  {
   "cell_type": "markdown",
   "source": "Now head over to https://jsfiddle.net/pguptacs/03bu2tLs/ and check for yourself how it is rendered.",
   "metadata": {
    "cell_id": "8d181bdb-bbd9-445b-9182-27b52318f2ff",
    "tags": [],
    "deepnote_app_coordinates": {
     "x": 0,
     "y": 102,
     "w": 12,
     "h": 5
    },
    "deepnote_cell_type": "markdown",
    "deepnote_cell_height": 52.390625
   }
  },
  {
   "cell_type": "markdown",
   "source": "## Inspecting a web page\n\nTo extract information from a website automatically, we need to find out how to tell a computer what patterns to look for. To do so, we will make use of the HTMl code itself and the presence of elements and CSS scripts.\n\nLet's take as an example, the following website https://www.oii.ox.ac.uk/people/faculty/. \n\n- **Step 1:** Where do we find the HTML code of that page?\n    - Open the above URL in a separate window.\n    - Two-finger click on Mac (or right-click on windows) anywhere on the web page, and select the last option `Inspect` from the dropdown menu.\n    - This will open up a **console** in the web browser with options far beyond what we need in this course.\n    - Focus your attention on HTML code under the **Inspector** (Firefox) or **Elements** (Chrome) tab, which will also be the default view.\n    - For now, just know that this is how we can read the HTML code of any web page.\n\n\n<image src=\"https://mdn.mozillademos.org/files/16371/landingPage_PageInspector.png\" />\n\n- **Step 2:** We want to **extract the name of all the faculty members** at the OII. We can visually locate them within the blue blocks on the web page, but what does it mean in terms of the HTML code?\n    - How can we localize the HTML tags that correspond to the name of the faculty members?\n    - Reading all the HTML code is a gruesome task. Therefore, move the cursor over the faculty name (e.g., hover over where its written “Professor Victoria Nash”). Then right-click and repeat the above process of inspecting the source code.\n    - You will notice that the console now highlights the HTML element that contains this hovered text. Specifically, it will highlight the following element: `<h4>Professor Victoria Nash</h4>`.\n\n- **Step 3:** We are also interested in extracting other information (e.g., **bio and the department position**) from theses blue blocks.\n    - How do we locate the HTML element corresponding to the bigger blue box with name, photo, and bio?\n    - As a reminder, the HTML code is written via nested elements. Once you found the name, look at its parent and repeat until you found: an element… which contains all the child elements… which contains the title, photo, and bio.\n    - In the console, hover the mouse a few different elements, and notice how the corresponding color changes on the web page. This happens because the web browser highlights which element that is being currenlty hovered on. This is very helpful!\n    - Now notice that we are able to locate the bigger blue box by hovering over the element: `<article class=\"box  people-box light-background box-has-button third-at-full  has_url people  \">`\n\n- **Step 4:** Great! We have understood how the web page designer structured the HTML code such that the faculty information can be easily located under the article-tag with class as `box`, `people-box`, and so on. Now, perform a sanity check by hovering over the similar tags and verifying whether they correspond to the boxes of other faculty memebrs. \n\n\n",
   "metadata": {
    "cell_id": "02e6915b-f73c-4590-8571-15af324c2893",
    "tags": [],
    "deepnote_app_coordinates": {
     "x": 0,
     "y": 108,
     "w": 12,
     "h": 5
    },
    "deepnote_cell_type": "markdown",
    "deepnote_cell_height": 1287.390625
   }
  },
  {
   "cell_type": "markdown",
   "source": "## Automating Web Scraping using Python\n\nWe just understood the manual process of locating information on a web page. We will now automate that process using Python. Clearly, we need a tool to download a page and select HTML elements that match certain attributes. In our running example on extracting information about OII faculty members, we need to select elements with article-tag and attributes as box, people-box, etc. How can we do so using Python?\n\n\nWe need two libraries:\n- `requests` to download the HTML code of a web page. It is used by `requests-html`,\n- `requests-html` is a library that has functions to enable HTML parsing and search of information within the HTML code.",
   "metadata": {
    "cell_id": "168c9fcc-d233-47b4-a92a-8ded999a3d1c",
    "tags": [],
    "deepnote_app_coordinates": {
     "x": 0,
     "y": 114,
     "w": 12,
     "h": 5
    },
    "deepnote_cell_type": "markdown",
    "deepnote_cell_height": 394.625
   }
  },
  {
   "cell_type": "code",
   "metadata": {
    "tags": [],
    "cell_id": "ccbbf6db-74ec-4e27-b0c0-062deadcb491",
    "deepnote_to_be_reexecuted": false,
    "source_hash": "b73372e7",
    "execution_start": 1647287298577,
    "execution_millis": 14176,
    "output_cleared": true,
    "deepnote_app_coordinates": {
     "x": 0,
     "y": 120,
     "w": 12,
     "h": 5
    },
    "deepnote_cell_type": "code",
    "deepnote_cell_height": 117
   },
   "source": "%%capture\n!pip install requests\n!pip install requests-html",
   "execution_count": null,
   "outputs": []
  },
  {
   "cell_type": "code",
   "metadata": {
    "cell_id": "4acc6158-9d2b-42ed-8a09-3ba407997a58",
    "tags": [],
    "deepnote_to_be_reexecuted": false,
    "source_hash": "9a153f15",
    "execution_start": 1647287290440,
    "execution_millis": 24,
    "output_cleared": true,
    "deepnote_app_coordinates": {
     "x": 0,
     "y": 126,
     "w": 12,
     "h": 5
    },
    "deepnote_cell_type": "code",
    "deepnote_cell_height": 99
   },
   "source": "import pandas as pd\nfrom tqdm import tqdm  # fancy library to print the progress bar while iterating through a list",
   "execution_count": null,
   "outputs": []
  },
  {
   "cell_type": "markdown",
   "source": "<div class=\"alert-warning alert\">\n\n**Note:** Throughout the exercise, we create a browsing `session` below. Think of it as a virtual browser that will download the pages you tell it to crawl.\n\n</div>",
   "metadata": {
    "cell_id": "15f441e5-12ea-472c-b948-a2509823d01d",
    "tags": [],
    "deepnote_app_coordinates": {
     "x": 0,
     "y": 132,
     "w": 12,
     "h": 5
    },
    "deepnote_cell_type": "markdown",
    "deepnote_cell_height": 126.796875
   }
  },
  {
   "cell_type": "code",
   "metadata": {
    "cell_id": "f09a2ae7-8be8-4a3a-b426-6b4de132555b",
    "tags": [],
    "deepnote_to_be_reexecuted": false,
    "source_hash": "7eae3912",
    "execution_start": 1647287314084,
    "execution_millis": 415,
    "output_cleared": false,
    "deepnote_app_coordinates": {
     "x": 0,
     "y": 138,
     "w": 12,
     "h": 5
    },
    "deepnote_cell_type": "code",
    "deepnote_cell_height": 99
   },
   "source": "from requests_html import HTMLSession\nsession = HTMLSession()",
   "outputs": [],
   "execution_count": null
  },
  {
   "cell_type": "markdown",
   "source": "<div class=\"alert alert-info\">\n\n**Example 0.4:** To extract the HTML code of an URL, we will use the `session.get` method.\n\nExtract the HTML code of the website: https://www.oii.ox.ac.uk/people/faculty/ and print the HTML code. \n\n</div>",
   "metadata": {
    "cell_id": "d0e1d4d9-fc01-4881-b284-c1a1509198aa",
    "tags": [],
    "deepnote_app_coordinates": {
     "x": 0,
     "y": 144,
     "w": 12,
     "h": 5
    },
    "deepnote_cell_type": "markdown",
    "deepnote_cell_height": 183.796875
   }
  },
  {
   "cell_type": "code",
   "metadata": {
    "cell_id": "7fa7966c-4fd2-40bd-b353-bebfd3f0389c",
    "tags": [],
    "deepnote_to_be_reexecuted": false,
    "source_hash": "27ae2b65",
    "execution_start": 1647274731705,
    "execution_millis": 709,
    "output_cleared": true,
    "deepnote_app_coordinates": {
     "x": 0,
     "y": 150,
     "w": 12,
     "h": 5
    },
    "deepnote_cell_type": "code",
    "deepnote_cell_height": 81
   },
   "source": "r = session.get('https://www.oii.ox.ac.uk/people/faculty/')",
   "execution_count": null,
   "outputs": []
  },
  {
   "cell_type": "code",
   "metadata": {
    "cell_id": "3f1617e0-e57b-4ebf-924a-243261a32da7",
    "tags": [],
    "deepnote_to_be_reexecuted": false,
    "source_hash": "db1e6735",
    "execution_start": 1647274732419,
    "execution_millis": 39,
    "output_cleared": true,
    "deepnote_app_coordinates": {
     "x": 0,
     "y": 156,
     "w": 12,
     "h": 5
    },
    "deepnote_cell_type": "code",
    "deepnote_cell_height": 81
   },
   "source": "print(r.html.html)",
   "execution_count": null,
   "outputs": []
  },
  {
   "cell_type": "markdown",
   "source": "<div class=\"alert-info alert\">\n\n**Example 0.5:** Now, we are going to make use of the full potential of request-html.\n\nWe are going to find and extract all the elements corresponding to the tag `<article class=\"box people-box light-background box-has-button third-at-full has_url people\">`.\n\n</div>",
   "metadata": {
    "cell_id": "bffe3a87-6c62-4650-adee-18473e98b76c",
    "tags": [],
    "deepnote_app_coordinates": {
     "x": 0,
     "y": 462,
     "w": 12,
     "h": 5
    },
    "deepnote_cell_type": "markdown",
    "deepnote_cell_height": 206.1875
   }
  },
  {
   "cell_type": "markdown",
   "source": "<div class=\"alert-warning alert\">\n\n**Reminder:** Refer back to the definition of CSS selectors:\n- classes are prefaced by a `.` (e.g., `.box`, `people-box`)\n- unique id selectors by `#` (e.g., `#about`)\n- elements do not have any prefix (e.g., `div`, `h1`, `h2`)\n\nTo match an HTML element, we can combine all these selectors in a nested chain: `div.people-box h2` would match any `h2` element that is inside a `div` element with the `people-box` class.\n\nYou can do more complex patterns: `div.box.people-box.has_url` matches any `div` element that has the three classes `box`, `people-box`, and `has_url`.\n\nBe careful that:\n\n- The sequence of selectors matter as HTML is a nested code\n- The order matters: `.box p` matches a paragraph in a box, `p.box` matches a paragraph with the `box` class, `p .box` matches a box within a paragraph.\n\n</div>",
   "metadata": {
    "cell_id": "876e5522-0909-429e-9654-38021cdc429e",
    "tags": [],
    "deepnote_app_coordinates": {
     "x": 0,
     "y": 456,
     "w": 12,
     "h": 5
    },
    "deepnote_cell_type": "markdown",
    "deepnote_cell_height": 451.71875
   }
  },
  {
   "cell_type": "code",
   "metadata": {
    "cell_id": "85ea5467-ab22-46fd-8f0f-38c2cb5f8292",
    "tags": [],
    "deepnote_to_be_reexecuted": false,
    "source_hash": "37a9a923",
    "execution_start": 1647274732454,
    "execution_millis": 122,
    "output_cleared": true,
    "deepnote_app_coordinates": {
     "x": 0,
     "y": 162,
     "w": 12,
     "h": 5
    },
    "deepnote_cell_type": "code",
    "deepnote_cell_height": 99,
    "deepnote_output_heights": [
     481.875
    ]
   },
   "source": "faculty_members = r.html.find('article.box.people-box')\nfaculty_members",
   "execution_count": null,
   "outputs": []
  },
  {
   "cell_type": "code",
   "metadata": {
    "cell_id": "e68a635b-fa22-44ac-97eb-f5068e9bba5d",
    "tags": [],
    "deepnote_to_be_reexecuted": false,
    "source_hash": "4dee3113",
    "execution_start": 1647274732557,
    "execution_millis": 56,
    "output_cleared": true,
    "deepnote_app_coordinates": {
     "x": 0,
     "y": 168,
     "w": 12,
     "h": 5
    },
    "deepnote_cell_type": "code",
    "deepnote_cell_height": 99,
    "deepnote_output_heights": [
     481.875
    ]
   },
   "source": "faculty_members = r.html.find('.box.people-box')\nfaculty_members",
   "execution_count": null,
   "outputs": []
  },
  {
   "cell_type": "markdown",
   "source": "<div class=\"alert-warning alert\">\n\n**Note** how both the selectors `article.box.people-box` and `.box.people-box` return the required elements. It is entirely possible to have several ways to identify the same elements.\n\n</div>",
   "metadata": {
    "cell_id": "bbc20264-26f1-44c2-9172-45b2834be6ea",
    "tags": [],
    "deepnote_app_coordinates": {
     "x": 0,
     "y": 174,
     "w": 12,
     "h": 5
    },
    "deepnote_cell_type": "markdown",
    "deepnote_cell_height": 147.390625
   }
  },
  {
   "cell_type": "markdown",
   "source": "<div class=\"alert-info alert\">\n\n**Example 0.6:** Let's investigate the `faculty_members` elements returned above, and look at various nested elements and how their content that is displayed on the web page.\n\n- Select the first faculty member in the list (`faculty_members[0]`)\n- Go back to the web page and inspect its child elements under the `article` element. Try to understand which child element contains the name, position in the department, bio, and the link to their home page. \n\n\nFinally, go back to Python and use the `find` method of the first faculty member to extract the name, position, bio, and link.\n\n</div>",
   "metadata": {
    "cell_id": "f3c361b3-ebde-4e72-92e7-ae4627cb9088",
    "tags": [],
    "deepnote_app_coordinates": {
     "x": 0,
     "y": 180,
     "w": 12,
     "h": 5
    },
    "deepnote_cell_type": "markdown",
    "deepnote_cell_height": 269.78125
   }
  },
  {
   "cell_type": "code",
   "metadata": {
    "cell_id": "5e03516b-6650-4732-9bb8-7a363a823678",
    "tags": [],
    "deepnote_to_be_reexecuted": false,
    "source_hash": "b0e5f09c",
    "execution_start": 1647274732567,
    "execution_millis": 16,
    "output_cleared": true,
    "deepnote_app_coordinates": {
     "x": 0,
     "y": 186,
     "w": 12,
     "h": 5
    },
    "deepnote_cell_type": "code",
    "deepnote_cell_height": 81
   },
   "source": "first_person = r.html.find('.box.people-box')[0]",
   "execution_count": null,
   "outputs": []
  },
  {
   "cell_type": "markdown",
   "source": "Following is the rough sketch of article element:\n\n```\n<article>\n    <a href=\"URL TO THE HOMEPAGE\">\n    <img src=\"URL TO THE IMAGE\">\n    <div>\n        <h4>NAME</h4>\n        <p>POSITION IN THE DEPARTMENT</p>\n        <p>BIO</p>\n    </div>\n</article>\n```\n",
   "metadata": {
    "cell_id": "aa3bec27-737f-4e3a-a371-7173ebda7385",
    "tags": [],
    "deepnote_app_coordinates": {
     "x": 0,
     "y": 192,
     "w": 12,
     "h": 5
    },
    "deepnote_cell_type": "markdown",
    "deepnote_cell_height": 273.5625
   }
  },
  {
   "cell_type": "markdown",
   "source": "Clearly, we will find name in the first h4-tag, department position in the first p-tag, and bio in the second p-tag, and the URL to the home page in the first a-tag.",
   "metadata": {
    "cell_id": "585440fc-16b3-445d-a3dd-3ed0f0d211e6",
    "tags": [],
    "deepnote_app_coordinates": {
     "x": 0,
     "y": 198,
     "w": 12,
     "h": 5
    },
    "deepnote_cell_type": "markdown",
    "deepnote_cell_height": 74.796875
   }
  },
  {
   "cell_type": "code",
   "metadata": {
    "cell_id": "8100fa91-7089-444b-b917-b2e362bb0230",
    "tags": [],
    "deepnote_to_be_reexecuted": false,
    "source_hash": "a05f94ca",
    "execution_start": 1647274761567,
    "execution_millis": 23,
    "output_cleared": true,
    "deepnote_app_coordinates": {
     "x": 0,
     "y": 204,
     "w": 12,
     "h": 5
    },
    "deepnote_cell_type": "code",
    "deepnote_cell_height": 225
   },
   "source": "name = first_person.find('h4', first=True).text\npos = first_person.find('p')[0].text\nbio = first_person.find('p')[1].text\nhomepage_link = list(first_person.find('a', first=True).links)[0]\n\nprint(\"Name:\", name)\nprint(\"Position:\", pos)\nprint(\"Bio:\", bio)\nprint(\"URL:\", homepage_link)",
   "execution_count": null,
   "outputs": []
  },
  {
   "cell_type": "markdown",
   "source": "<div class=\"alert-info alert\">\n\n**Example 0.7:** Print name, position, and url of all the faculty members at OII. \n\n</div>",
   "metadata": {
    "cell_id": "c050438c-5fea-456f-be61-99572ac6c1a6",
    "tags": [],
    "deepnote_app_coordinates": {
     "x": 0,
     "y": 210,
     "w": 12,
     "h": 5
    },
    "deepnote_cell_type": "markdown",
    "deepnote_cell_height": 104.390625
   }
  },
  {
   "cell_type": "code",
   "metadata": {
    "cell_id": "2f7ebd48-91c6-465e-bd9f-83b77a73f24d",
    "tags": [],
    "deepnote_to_be_reexecuted": false,
    "source_hash": "f9abc3e1",
    "execution_start": 1647274763832,
    "execution_millis": 84,
    "output_cleared": true,
    "deepnote_app_coordinates": {
     "x": 0,
     "y": 216,
     "w": 12,
     "h": 5
    },
    "deepnote_cell_type": "code",
    "deepnote_cell_height": 171
   },
   "source": "for e in r.html.find('.box.people-box'):\n    name = e.find('h4', first=True).text\n    pos = e.find('p')[0].text\n    urls = list(e.links)\n    \n    print(name, \" | \",  pos, \" | \", urls[0])",
   "execution_count": null,
   "outputs": []
  },
  {
   "cell_type": "markdown",
   "source": "## Exercise 1: Web page crawler\n\n<div class=\"alert-info alert\">\n\n**Exercise 1.1:** Investigate the home page of Dr. Victoria Nash (or any other faculty member): https://www.oii.ox.ac.uk/people/profiles/victoria-nash/ and find the HTML elements\n\n- that contains contents in **About**. \n\n- that contains contents in **Current Courses**\n\n\n</div>\n\n",
   "metadata": {
    "cell_id": "01b23962-7a85-45f5-8e27-4610d04bb027",
    "tags": [],
    "deepnote_app_coordinates": {
     "x": 0,
     "y": 222,
     "w": 12,
     "h": 5
    },
    "deepnote_cell_type": "markdown",
    "deepnote_cell_height": 265.1875
   }
  },
  {
   "cell_type": "code",
   "metadata": {
    "cell_id": "bdf5b4ac-837d-42dd-a909-3ff8d8aa809c",
    "tags": [],
    "deepnote_to_be_reexecuted": false,
    "source_hash": "ce4f40a9",
    "execution_start": 1647274765028,
    "execution_millis": 1266,
    "output_cleared": true,
    "deepnote_app_coordinates": {
     "x": 0,
     "y": 228,
     "w": 12,
     "h": 5
    },
    "deepnote_cell_type": "code",
    "deepnote_cell_height": 81
   },
   "source": "r = # COMPLETE THE CODE TO CALL session.get",
   "execution_count": null,
   "outputs": []
  },
  {
   "cell_type": "code",
   "metadata": {
    "cell_id": "0c1dc914-b1d7-475c-929a-f74bd7cc1e9b",
    "tags": [],
    "deepnote_to_be_reexecuted": false,
    "source_hash": "9dbb47d7",
    "execution_start": 1647274766300,
    "execution_millis": 160,
    "output_cleared": true,
    "deepnote_app_coordinates": {
     "x": 0,
     "y": 234,
     "w": 12,
     "h": 5
    },
    "deepnote_cell_type": "code",
    "deepnote_cell_height": 99
   },
   "source": "about_section = # COMPLETE THE CODE TO SELECT THE ELEMENT BY ID\nprint(about_section.text)",
   "execution_count": null,
   "outputs": []
  },
  {
   "cell_type": "code",
   "metadata": {
    "cell_id": "0674e987-2cd6-4312-ada1-e96ac12ec94c",
    "tags": [],
    "deepnote_to_be_reexecuted": false,
    "source_hash": "715b44",
    "execution_start": 1647274766781,
    "execution_millis": 13,
    "output_cleared": true,
    "deepnote_app_coordinates": {
     "x": 0,
     "y": 240,
     "w": 12,
     "h": 5
    },
    "deepnote_cell_type": "code",
    "deepnote_cell_height": 135
   },
   "source": "teaching = r.html.find('REPLACE THIS STRING WITH APPROPRIATE CSS SELECTOR SEQUENCE')\nlist_of_classes = [<<REPLACE THIS WITH AN APPROPRIATE ATTRIBUTE TO ACCESS TEXT>> for t in teaching]\n\nprint(list_of_classes)",
   "execution_count": null,
   "outputs": []
  },
  {
   "cell_type": "markdown",
   "source": "<div class=\"alert-info alert\">\n\n**Example 1.2:** Make a function that takes a home page URL (string) as an argument and returns the content in the **About** section as well the list of courses being taught by the faculty in that term.\n\n- Call this function on https://www.oii.ox.ac.uk/people/profiles/victoria-nash/ and verify if its correct\n- Call this function on https://www.oii.ox.ac.uk/people/profiles/luc-rocher/ and verify if its correct\n\n</div>",
   "metadata": {
    "cell_id": "41ac5533-958a-4288-8ce1-b79b0b2f2748",
    "tags": [],
    "deepnote_app_coordinates": {
     "x": 0,
     "y": 246,
     "w": 12,
     "h": 5
    },
    "deepnote_cell_type": "markdown",
    "deepnote_cell_height": 254.53125
   }
  },
  {
   "cell_type": "code",
   "metadata": {
    "cell_id": "e94ddb72-8524-4c5c-82d5-b992033277ec",
    "tags": [],
    "deepnote_to_be_reexecuted": false,
    "source_hash": "7bcc1083",
    "execution_start": 1647274768689,
    "execution_millis": 0,
    "output_cleared": true,
    "deepnote_app_coordinates": {
     "x": 0,
     "y": 252,
     "w": 12,
     "h": 5
    },
    "deepnote_cell_type": "code",
    "deepnote_cell_height": 225
   },
   "source": "def crawl_homepage(URL):\n    r = session.get(URL)\n\n    about_section = # COMPLETE THE CODE TO SELECT THE ELEMENT BY ID AND SELECT THE TEXT\n\n    teaching = # COMPLETE THE CODE TO SELECT THE ELEMENT BY APPROPRIATE CSS SELECTOR SEQUENCE\n    list_of_classes = # COMPLETE THE CODE\n\n    return about_section, list_of_classes",
   "execution_count": null,
   "outputs": []
  },
  {
   "cell_type": "code",
   "metadata": {
    "cell_id": "41f973a6-c719-4167-91e0-20b44bfc8e49",
    "tags": [],
    "deepnote_to_be_reexecuted": false,
    "source_hash": "96f6c45c",
    "execution_start": 1647274769545,
    "execution_millis": 1146,
    "output_cleared": true,
    "deepnote_app_coordinates": {
     "x": 0,
     "y": 258,
     "w": 12,
     "h": 5
    },
    "deepnote_cell_type": "code",
    "deepnote_cell_height": 81,
    "deepnote_output_heights": [
     40.390625
    ]
   },
   "source": "crawl_homepage('https://www.oii.ox.ac.uk/people/profiles/victoria-nash/')",
   "execution_count": null,
   "outputs": []
  },
  {
   "cell_type": "code",
   "metadata": {
    "cell_id": "b490eafe-ee57-4d17-a85e-ee276415515a",
    "tags": [],
    "deepnote_to_be_reexecuted": false,
    "source_hash": "fc58cc9b",
    "execution_start": 1647274771991,
    "execution_millis": 940,
    "output_cleared": true,
    "deepnote_app_coordinates": {
     "x": 0,
     "y": 264,
     "w": 12,
     "h": 5
    },
    "deepnote_cell_type": "code",
    "deepnote_cell_height": 81,
    "deepnote_output_heights": [
     59.578125
    ]
   },
   "source": "crawl_homepage('https://www.oii.ox.ac.uk/people/profiles/luc-rocher/')",
   "execution_count": null,
   "outputs": []
  },
  {
   "cell_type": "markdown",
   "source": "<div class=\"alert-info alert\">\n\n**Example 1.3:** Make a dataframe containing the following information about the OII faculty members: `name` , `position` in the department, `shortbio` as specified on  https://www.oii.ox.ac.uk/people/faculty/ , `url` of their homepage, `about` contents on their homepage, and `courses` that they are teaching currently. \n\n</div>",
   "metadata": {
    "cell_id": "3827e11d-0f42-4e5e-b431-54961875b5f0",
    "tags": [],
    "deepnote_app_coordinates": {
     "x": 0,
     "y": 270,
     "w": 12,
     "h": 5
    },
    "deepnote_cell_type": "markdown",
    "deepnote_cell_height": 192.1875
   }
  },
  {
   "cell_type": "code",
   "metadata": {
    "cell_id": "bbe3025d-cb1d-4f84-9d28-e8e1152551eb",
    "tags": [],
    "deepnote_to_be_reexecuted": false,
    "source_hash": "236e7c8c",
    "execution_start": 1647274777554,
    "execution_millis": 28104,
    "output_cleared": true,
    "deepnote_app_coordinates": {
     "x": 0,
     "y": 276,
     "w": 12,
     "h": 5
    },
    "deepnote_cell_type": "code",
    "deepnote_cell_height": 351
   },
   "source": "page_to_crawl = \"REPLACE THE STRING WITH APPROPRIATE URL\"\nr = session.get(page_to_crawl)\n\npeople = []\n\nfor people_box in r.html.find('REPLACE THIS STRING WITH APPROPRIATE CSS SELECTOR SEQUENCE'):\n    name = people_box.find('h4', first=True).text\n    pos = people_box.find('p')[0].text\n    shortbio = people_box.find('p')[1].text\n    homepage_url = list(people_box.links)[0]\n\n    about, courses = # CALL THE FUNCTION \n    \n    people.append(dict(name=name, pos=pos, shortbio=shortbio, url=homepage_url, about=about, courses=courses))\n\npeople_df = pd.DataFrame(people)",
   "execution_count": null,
   "outputs": []
  },
  {
   "cell_type": "code",
   "metadata": {
    "cell_id": "3f9c4943-c4a8-4780-a98e-d190e447ca9d",
    "tags": [],
    "deepnote_to_be_reexecuted": false,
    "source_hash": "64b8c5af",
    "execution_start": 1647274805700,
    "execution_millis": 130,
    "output_cleared": true,
    "deepnote_table_state": {
     "pageSize": 10,
     "pageIndex": 0,
     "filters": [],
     "sortBy": []
    },
    "deepnote_table_loading": false,
    "deepnote_app_coordinates": {
     "x": 0,
     "y": 282,
     "w": 12,
     "h": 5
    },
    "deepnote_cell_type": "code",
    "deepnote_cell_height": 81
   },
   "source": "people_df",
   "execution_count": null,
   "outputs": []
  },
  {
   "cell_type": "markdown",
   "source": "## Exercise 2: Understanding the limits of data scraping\n\n\n<div class=\"alert-info alert\">\n\n- Go to https://www.instagram.com/oxford_uni/\n- Inspect the elements, what selectors would you use to extract the description, number of followers, and the URL of each post?\n- Now use `session` to extract HTML code of the above link\n- Extract all the links from this HTML. How many links did it return?\n- Print the HTML code returned above and check the header of that HTML. What does the title say? What is different this time compared to the previous exercise?\n\n</div>",
   "metadata": {
    "cell_id": "f1a36a20-fc54-4c4b-989d-909baed0816f",
    "tags": [],
    "deepnote_app_coordinates": {
     "x": 0,
     "y": 288,
     "w": 12,
     "h": 5
    },
    "deepnote_cell_type": "markdown",
    "deepnote_cell_height": 371.71875
   }
  },
  {
   "cell_type": "code",
   "metadata": {
    "cell_id": "68c83730-6d31-45f0-a649-a8aafb60a53c",
    "tags": [],
    "deepnote_to_be_reexecuted": false,
    "source_hash": "83266b12",
    "execution_start": 1647274906974,
    "execution_millis": 312,
    "output_cleared": true,
    "deepnote_app_coordinates": {
     "x": 0,
     "y": 294,
     "w": 12,
     "h": 5
    },
    "deepnote_cell_type": "code",
    "deepnote_cell_height": 81
   },
   "source": "r = session.get('REPLACE THE STRING WITH APPROPRIATE URL')",
   "execution_count": null,
   "outputs": []
  },
  {
   "cell_type": "code",
   "metadata": {
    "cell_id": "c6566467-ad40-4f49-bf88-5881c2abb9ec",
    "tags": [],
    "deepnote_to_be_reexecuted": false,
    "source_hash": "3cef8c01",
    "execution_start": 1647274907580,
    "execution_millis": 27,
    "output_cleared": true,
    "deepnote_app_coordinates": {
     "x": 0,
     "y": 300,
     "w": 12,
     "h": 5
    },
    "deepnote_cell_type": "code",
    "deepnote_cell_height": 117,
    "deepnote_output_heights": [
     21.1875
    ]
   },
   "source": "## access links using `.links` attribute on r.html\n\n# YOUR CODE HERE",
   "execution_count": null,
   "outputs": []
  },
  {
   "cell_type": "markdown",
   "source": "What happened? Let's look at the source code:",
   "metadata": {
    "cell_id": "20d59e20-8f0f-4eae-8a05-d9e67669f4b7",
    "tags": [],
    "deepnote_app_coordinates": {
     "x": 0,
     "y": 306,
     "w": 12,
     "h": 5
    },
    "deepnote_cell_type": "markdown",
    "deepnote_cell_height": 52.390625
   }
  },
  {
   "cell_type": "code",
   "metadata": {
    "cell_id": "345ab9b9-55ec-48d6-bef8-d8daad5c9947",
    "tags": [],
    "deepnote_to_be_reexecuted": false,
    "source_hash": "db1e6735",
    "execution_start": 1647274909236,
    "execution_millis": 49,
    "output_cleared": true,
    "deepnote_app_coordinates": {
     "x": 0,
     "y": 312,
     "w": 12,
     "h": 5
    },
    "deepnote_cell_type": "code",
    "deepnote_cell_height": 135
   },
   "source": "## access html source code  using `.html` attribute on r.html\nprint(\n    # YOUR CODE HERE\n)",
   "execution_count": null,
   "outputs": []
  },
  {
   "cell_type": "markdown",
   "source": "Did you notice that Instagram forces you to login? The title of that page at the top is `<title>Login • Instagram</title>`. We arrived directly at the login page!\n\nScraping Instagram would require a much more complex authentication process, and does not mean you won't be labelled as bot (your account could be locked or blocked). While doing so is beyond the scope of this lab, keep in mind that pitfall when evaluating which websites you can scrape or not.",
   "metadata": {
    "cell_id": "f963175b-4249-4146-a978-f6be2136cf7f",
    "tags": [],
    "deepnote_app_coordinates": {
     "x": 0,
     "y": 318,
     "w": 12,
     "h": 5
    },
    "deepnote_cell_type": "markdown",
    "deepnote_cell_height": 155.984375
   }
  },
  {
   "cell_type": "markdown",
   "source": "## Exercise 3: Let's scrape El País\n\nLet's now see if we can use our new scraping skills on a different website, the Spanish newspaper El País. We would like to collect all news articles published on a given date, for instance January 1st 1990 to start with.\n\nHead towards https://elpais.com/hemeroteca/1990-01-01/ and inspect the webpage. Look at the **elements corresponding to the article headline** and the way the CSS classes are defined. While doable, the meaning of the classes is missing: the classes `c` and `c--m-n` appear to encode an article block. (This is likely an automatic optimization done to minimize bandwith and reduce the size of a webpage.)",
   "metadata": {
    "cell_id": "630a51b0-7e26-4ca8-8966-8324b40b38e8",
    "tags": [],
    "deepnote_app_coordinates": {
     "x": 0,
     "y": 324,
     "w": 12,
     "h": 5
    },
    "deepnote_cell_type": "markdown",
    "deepnote_cell_height": 234.390625
   }
  },
  {
   "cell_type": "code",
   "source": "# Let's start by crawling the list of articles from 1990-01-01:\n\nr = session.get(\"https://elpais.com/hemeroteca/1990-01-01/\")",
   "metadata": {
    "cell_id": "984913d2-eee1-49f6-8790-cf845f3e8825",
    "tags": [],
    "deepnote_to_be_reexecuted": false,
    "source_hash": "ef99dd9c",
    "execution_start": 1647274914013,
    "execution_millis": 898,
    "output_cleared": true,
    "deepnote_app_coordinates": {
     "x": 0,
     "y": 474,
     "w": 12,
     "h": 5
    },
    "deepnote_cell_type": "code",
    "deepnote_cell_height": 117
   },
   "outputs": [],
   "execution_count": null
  },
  {
   "cell_type": "markdown",
   "source": "<div class=\"alert alert-info\">\n\n**Exercise 3.1** Our first task is to extract the links to the pages containing articles published that date.\n\nWe have two solutions:\n1. we extract all the links in the webpage into a list. We then filter that list to keep only the URLs that point to a news article\n2. we find the HTML element with as children all the links to news articles, then extract all its links\n\nRun the commands below and compare them. Which one seems easier for you?\n\n</div>",
   "metadata": {
    "cell_id": "ede52d68-355a-4441-9604-0cd150a4a617",
    "tags": [],
    "deepnote_app_coordinates": {
     "x": 0,
     "y": 468,
     "w": 12,
     "h": 5
    },
    "deepnote_cell_type": "markdown",
    "deepnote_cell_height": 261.390625
   }
  },
  {
   "cell_type": "code",
   "metadata": {
    "cell_id": "d72126c2-aa94-4af3-9e21-b4b61c145089",
    "tags": [],
    "deepnote_to_be_reexecuted": false,
    "source_hash": "6f982f2b",
    "execution_start": 1647274915036,
    "execution_millis": 36,
    "output_cleared": true,
    "deepnote_app_coordinates": {
     "x": 0,
     "y": 330,
     "w": 12,
     "h": 5
    },
    "deepnote_cell_type": "code",
    "deepnote_cell_height": 369
   },
   "source": "# Solution 1\n\nimport re\n\n# We create a list of all the links on the webpage we crawled:\n\nall_links = # YOUR CODE HERE\n\nprint(f\"We collected {len(all_links)} URLs\")\nprint(all_links)\n\n# We filter that using a regular expression (https://automatetheboringstuff.com/2e/chapter7/):\nlinks_to_articles = [link for link in all_links if re.match(\"/diario/1990(.*).html\", link)]\n\n# Our new list includes all the link to a ‘diario’ page:\nprint(f\"We filtered down to {len(links_to_articles)} article URLs\")\nprint(links_to_articles)",
   "execution_count": null,
   "outputs": []
  },
  {
   "cell_type": "code",
   "metadata": {
    "cell_id": "91ad0498-59b8-48fb-b0e0-01df2c5260f1",
    "tags": [],
    "deepnote_to_be_reexecuted": false,
    "source_hash": "6e79a7cc",
    "execution_start": 1647274916733,
    "execution_millis": 16,
    "output_cleared": true,
    "deepnote_app_coordinates": {
     "x": 0,
     "y": 336,
     "w": 12,
     "h": 5
    },
    "deepnote_cell_type": "code",
    "deepnote_cell_height": 297
   },
   "source": "# Solution 2: \n\n# after inspection, we will collect all the headers-2 (h2) elements with the class 'c_t'\narticle_headers = r.html.find('REPLACE THIS STRING WITH APPROPRIATE CSS SELECTOR SEQUENCE')\n\nlinks_to_articles = []\nfor h2 in article_headers:\n    links_to_articles.extend(\n        # YOUR CODE HERE TO ACCESS links in h2\n            ) # there should be only one link\n\nprint(f\"We collected {len(links_to_articles)} article URLs\")\nprint(links_to_articles)",
   "execution_count": null,
   "outputs": []
  },
  {
   "cell_type": "markdown",
   "source": "<div class=\"alert-warning alert\">\n\n**Note:** We see that all of the links start with `/diario/year/month/date/blah/blah`. If you copy any of those links and paste it in your browser, it will not work. Full link is actually, `https://elpais.com/diario/year/month/date/blah/blah`. The former path is referred to as **relative path** and the latter path is referred to as **absolute path**. It is really up to the web site developers, which one they prefer. I our case, we have access to the relative paths, so we need to convert them to absolute paths before we can crawl the articles. \n\n\n</div>",
   "metadata": {
    "cell_id": "d8b214e6-bba7-4e07-9be5-3ba6d4a5df6c",
    "tags": [],
    "deepnote_app_coordinates": {
     "x": 0,
     "y": 0,
     "w": 12,
     "h": 5
    },
    "deepnote_cell_type": "markdown",
    "deepnote_cell_height": 193.984375
   }
  },
  {
   "cell_type": "markdown",
   "source": "<div class=\"alert-info alert\">\n\n**Exercise 3.2:** Let's now extract information from that first article\n- Select the first article link\n- Covert the link to absolute link and call the crawler on that link. \n\n</div>",
   "metadata": {
    "cell_id": "d4518814-cc61-4c59-9a23-d79cd8f7feac",
    "tags": [],
    "deepnote_app_coordinates": {
     "x": 0,
     "y": 480,
     "w": 12,
     "h": 5
    },
    "deepnote_cell_type": "markdown",
    "deepnote_cell_height": 166.1875
   }
  },
  {
   "cell_type": "code",
   "metadata": {
    "cell_id": "3e71bc06-a60c-4b13-8690-3b44d23abfdd",
    "tags": [],
    "deepnote_to_be_reexecuted": false,
    "source_hash": "b96e5f5d",
    "execution_start": 1647274918450,
    "execution_millis": 31,
    "output_cleared": true,
    "deepnote_app_coordinates": {
     "x": 0,
     "y": 342,
     "w": 12,
     "h": 5
    },
    "deepnote_cell_type": "code",
    "deepnote_cell_height": 99
   },
   "source": "article_one = # YOUR CODE HERE\nprint(article_one)",
   "execution_count": null,
   "outputs": []
  },
  {
   "cell_type": "code",
   "metadata": {
    "cell_id": "5b5378a0-4189-417a-92dd-df4cd4a4d4df",
    "tags": [],
    "deepnote_to_be_reexecuted": false,
    "source_hash": "8482bc80",
    "execution_start": 1647274919631,
    "execution_millis": 1549,
    "output_cleared": true,
    "deepnote_app_coordinates": {
     "x": 0,
     "y": 348,
     "w": 12,
     "h": 5
    },
    "deepnote_cell_type": "code",
    "deepnote_cell_height": 153
   },
   "source": "absolute_link = f'https://elpais.com{article_one}'\nprint(\"absolute link\", absolute_link)\n\nr = # YOUR CODE HERE TO CRAWL absolute_link\nprint(r.url)",
   "execution_count": null,
   "outputs": []
  },
  {
   "cell_type": "markdown",
   "source": "<div class=\"alert alert-info\">\n\n**Exercise 3.3** Let's extract the title, author, and full text of the article.\n\nOpen the page of the above url in your browser and inspect it. Find which HTML element and CSS selector to use in order to match title, author, and full text.\n\nFor full text, think how would you match all the paragraphs?\n</div>",
   "metadata": {
    "cell_id": "34657e16-d702-4983-9f06-a03217b69195",
    "tags": [],
    "deepnote_app_coordinates": {
     "x": 0,
     "y": 486,
     "w": 12,
     "h": 5
    },
    "deepnote_cell_type": "markdown",
    "deepnote_cell_height": 199.59375
   }
  },
  {
   "cell_type": "code",
   "metadata": {
    "cell_id": "8ff6a5da-d565-431b-9211-892723301533",
    "tags": [],
    "deepnote_to_be_reexecuted": false,
    "source_hash": "42b1afa8",
    "execution_start": 1647274921169,
    "execution_millis": 122,
    "output_cleared": true,
    "deepnote_app_coordinates": {
     "x": 0,
     "y": 354,
     "w": 12,
     "h": 5
    },
    "deepnote_cell_type": "code",
    "deepnote_cell_height": 99
   },
   "source": "title = r.html.find('REPLACE THIS STRING WITH APPROPRIATE TAG NAME', first=True).text\nprint(title)",
   "execution_count": null,
   "outputs": []
  },
  {
   "cell_type": "code",
   "metadata": {
    "cell_id": "afb1fcdc-0ba8-4a59-8cca-c9b9108ef3c1",
    "tags": [],
    "deepnote_to_be_reexecuted": false,
    "source_hash": "a4c65688",
    "execution_start": 1647274922476,
    "execution_millis": 9,
    "output_cleared": true,
    "deepnote_app_coordinates": {
     "x": 0,
     "y": 360,
     "w": 12,
     "h": 5
    },
    "deepnote_cell_type": "code",
    "deepnote_cell_height": 99
   },
   "source": "author = r.html.find('REPLACE THIS STRING WITH APPROPRIATE CSS CLASS SELECTOR AND CLASS NAME', first=True).text\nprint(author)",
   "execution_count": null,
   "outputs": []
  },
  {
   "cell_type": "code",
   "metadata": {
    "cell_id": "484ff70f-2819-4438-b13d-8fa03c951c96",
    "tags": [],
    "deepnote_to_be_reexecuted": false,
    "source_hash": "d73bef57",
    "execution_start": 1647274924982,
    "execution_millis": 12,
    "output_cleared": true,
    "deepnote_app_coordinates": {
     "x": 0,
     "y": 366,
     "w": 12,
     "h": 5
    },
    "deepnote_cell_type": "code",
    "deepnote_cell_height": 261
   },
   "source": "# The full text is divided into paragraphs. Let's first match all the paragraphs:\n\n# How would you match all the paragraphs?\nall_the_paragraphs = r.html.find('REPLACE THIS STRING WITH APPROPRIATE CSS SELECTORS FOR PARAGRAPHS IN article')\nprint(f\"We collected {len(all_the_paragraphs)} paragraphs.\")\n\n# Then, we extract the text of each paragraph and put them all into a list\nparagraph_texts = [p.text for p in all_the_paragraphs]\n\n# Finally, we concatenate the paragraph texts into a full_text object\nfull_text = '\\n'.join(paragraph_texts)",
   "execution_count": null,
   "outputs": []
  },
  {
   "cell_type": "markdown",
   "source": "<div class=\"alert alert-info\">\n\n**Exercise 3.4** Fill the function `process_article` below. It takes an article path (e.g., `/diario/1990/01/02/madrid/631283054_850215.html`), crawl it, and returns a dictionary with title, author, and full text.\n</div>",
   "metadata": {
    "cell_id": "ec22db18-d82d-425a-9ade-308902958928",
    "tags": [],
    "deepnote_app_coordinates": {
     "x": 0,
     "y": 492,
     "w": 12,
     "h": 5
    },
    "deepnote_cell_type": "markdown",
    "deepnote_cell_height": 126.796875
   }
  },
  {
   "cell_type": "code",
   "metadata": {
    "cell_id": "cb66dfd0-a2b5-4252-b6fa-c6db23e32392",
    "tags": [],
    "deepnote_to_be_reexecuted": false,
    "source_hash": "d8738e6a",
    "execution_start": 1647287279647,
    "execution_millis": 1,
    "output_cleared": true,
    "deepnote_app_coordinates": {
     "x": 0,
     "y": 372,
     "w": 12,
     "h": 5
    },
    "deepnote_cell_type": "code",
    "deepnote_cell_height": 243
   },
   "source": "def process_article(article_path):\n    article_url = f'https://elpais.com{article_path}'\n    r = session.get(article_url)\n\n    title = # COMPLETE THIS CODE (REFER TO THE CODE SNIPPETS ABOVE)\n    author = # COMPLETE THIS CODE (REFER TO THE CODE SNIPPETS ABOVE)\n    paragraphs = # COMPLETE THIS CODE (REFER TO THE CODE SNIPPETS ABOVE)\n    full_text = # COMPLETE THIS CODE (REFER TO THE CODE SNIPPETS ABOVE)\n\n    return dict(title=title, author=author, full_text=full_text)",
   "execution_count": null,
   "outputs": []
  },
  {
   "cell_type": "code",
   "metadata": {
    "cell_id": "5053366f-1a94-4425-8c91-e22cdfc30026",
    "tags": [],
    "deepnote_to_be_reexecuted": false,
    "source_hash": "8379c947",
    "execution_start": 1647274929298,
    "execution_millis": 231,
    "output_cleared": true,
    "deepnote_app_coordinates": {
     "x": 0,
     "y": 378,
     "w": 12,
     "h": 5
    },
    "deepnote_cell_type": "code",
    "deepnote_cell_height": 81,
    "deepnote_output_heights": [
     59.578125
    ]
   },
   "source": "process_article(article_one)",
   "execution_count": null,
   "outputs": []
  },
  {
   "cell_type": "markdown",
   "source": "<div class=\"alert-info alert\">\n\n**Exercise 3.5:** Loop over all the article links published on January 1st, 1990 and scrape all their contents. You can use list comprehension to loop over all the articles.\n\n- Make a DataFrame of the data scraped above\n- Add a column, `date` to your dataframe that contains the date January 1st, 1990 in pandas DateTime format. \n\n</div>",
   "metadata": {
    "cell_id": "1c2fd5ab-bd66-4cb4-be15-c0287de679f0",
    "tags": [],
    "deepnote_app_coordinates": {
     "x": 0,
     "y": 498,
     "w": 12,
     "h": 5
    },
    "deepnote_cell_type": "markdown",
    "deepnote_cell_height": 188.59375
   }
  },
  {
   "cell_type": "code",
   "metadata": {
    "cell_id": "48d659e3-8a4d-4ab9-9f29-df94fc9edcf9",
    "tags": [],
    "deepnote_to_be_reexecuted": false,
    "source_hash": "f2dc7aa5",
    "execution_start": 1647274931908,
    "execution_millis": 42679,
    "output_cleared": true,
    "deepnote_app_coordinates": {
     "x": 0,
     "y": 384,
     "w": 12,
     "h": 5
    },
    "deepnote_cell_type": "code",
    "deepnote_cell_height": 99
   },
   "source": "content_from_1990_01_01 = [<<CALL FUNCTION ON THIS LINK TO PROCESS IT>> for link in tqdm(links_to_articles)]\ndf_1990_01_01 = pd.DataFrame(content_from_1990_01_01)",
   "execution_count": null,
   "outputs": []
  },
  {
   "cell_type": "code",
   "metadata": {
    "cell_id": "b0868d8c-eb23-497b-a9b0-6fb9534cce6d",
    "tags": [],
    "deepnote_to_be_reexecuted": false,
    "source_hash": "7d6c5c38",
    "execution_start": 1647274974592,
    "execution_millis": 0,
    "output_cleared": true,
    "deepnote_app_coordinates": {
     "x": 0,
     "y": 390,
     "w": 12,
     "h": 5
    },
    "deepnote_cell_type": "code",
    "deepnote_cell_height": 99
   },
   "source": "# Let's convert the date into a meaningful Python format:\ndf_1990_01_01['date'] = pd.to_datetime('1990-01-01').date()",
   "execution_count": null,
   "outputs": []
  },
  {
   "cell_type": "code",
   "metadata": {
    "cell_id": "fdf89a74-a1b2-4efd-b4e7-9192d5ea23ea",
    "tags": [],
    "deepnote_to_be_reexecuted": false,
    "source_hash": "8f5fe2a6",
    "execution_start": 1647274974613,
    "execution_millis": 63,
    "output_cleared": true,
    "deepnote_app_coordinates": {
     "x": 0,
     "y": 396,
     "w": 12,
     "h": 5
    },
    "deepnote_cell_type": "code",
    "deepnote_cell_height": 81
   },
   "source": "df_1990_01_01",
   "execution_count": null,
   "outputs": []
  },
  {
   "cell_type": "markdown",
   "source": "<div class=\"alert-info alert\">\n\n**Exercise 3.5:** How would we collect **one year of data**? Complete the function below.\n\nThe code snippet below simplify our manual process. Notice how simply iterating over all the potential dates (from `'1990-01-01'` to `'1990-12-31'`) would allow us to crawl the entire 1990 archive. All that in less than a few dozens lines of Python.\n\n</div>\n\n ",
   "metadata": {
    "cell_id": "bbe8e7da-1717-49dd-afc2-3de3ade103b2",
    "tags": [],
    "deepnote_app_coordinates": {
     "x": 0,
     "y": 402,
     "w": 12,
     "h": 5
    },
    "deepnote_cell_type": "markdown",
    "deepnote_cell_height": 185.59375
   }
  },
  {
   "cell_type": "code",
   "metadata": {
    "cell_id": "8399b3d8-d73a-454b-8b94-07d1a28e501d",
    "tags": [],
    "deepnote_to_be_reexecuted": false,
    "source_hash": "74f7f1c2",
    "execution_start": 1647287271172,
    "execution_millis": 1,
    "output_cleared": true,
    "deepnote_app_coordinates": {
     "x": 0,
     "y": 408,
     "w": 12,
     "h": 5
    },
    "deepnote_cell_type": "code",
    "deepnote_cell_height": 297
   },
   "source": "def article_urls_for_one_date(str_date, str_year):\n    \"\"\"\n    Return links to all articles of El País for a given date.\n\n    Arguments:\n        - str_date (str): a string formated as yyyy-mm-dd\n    \"\"\"\n    absolute_link = # YOUR CODE HERE\n    r = session.get(absolute_link)\n\n    all_links = # YOUR CODE HERE TO COLLECT ALL LINKS\n    links_to_articles = [link for link in all_links if re.match(f\"/diario/{str_year}(.*).html\", link)]\n    return links_to_articles",
   "execution_count": null,
   "outputs": []
  },
  {
   "cell_type": "code",
   "metadata": {
    "cell_id": "7f696f97-22a5-454f-b195-a063f11a9ddd",
    "tags": [],
    "deepnote_to_be_reexecuted": false,
    "source_hash": "64771788",
    "execution_start": 1647274974648,
    "execution_millis": 4530,
    "output_cleared": true,
    "deepnote_app_coordinates": {
     "x": 0,
     "y": 414,
     "w": 12,
     "h": 5
    },
    "deepnote_cell_type": "code",
    "deepnote_cell_height": 117
   },
   "source": "articles_to_crawl = article_urls_for_one_date('1990-01-01', '1990')\ndf = pd.DataFrame([process_article(link) for link in tqdm(articles_to_crawl)])\ndf['date'] = pd.to_datetime('1990-01-01').date()",
   "execution_count": null,
   "outputs": []
  },
  {
   "cell_type": "markdown",
   "source": "<div class=\"alert-warning alert\">\n\nHow to iterate over dates in a year? Checkout: https://stackoverflow.com/a/1060352/3413239\n\n</div>",
   "metadata": {
    "cell_id": "88988d87-c2a5-477a-b21a-5570f35d7478",
    "tags": [],
    "deepnote_app_coordinates": {
     "x": 0,
     "y": 0,
     "w": 12,
     "h": 5
    },
    "deepnote_cell_type": "markdown",
    "deepnote_cell_height": 104.390625
   }
  },
  {
   "cell_type": "code",
   "source": "# THIS IS DONE FOR YOU (NO EXERCISE HERE)\n\nfrom datetime import date, timedelta\nimport re\n\nall_articles_df = []\n\n# code copied from the Stackoverflow link above\nstart_date = date(1990, 1, 1)\nend_date = date(1990, 1, 4)\ndelta = timedelta(days=1)\nwhile start_date <= end_date:\n    str_date = start_date.strftime(\"%Y-%m-%d\")\n    str_year = start_date.strftime(\"%Y\")\n\n    print(str_date)\n\n    # our own code\n    articles_to_crawl = article_urls_for_one_date(str_date, str_year)\n    df = pd.DataFrame([process_article(link) for link in tqdm(articles_to_crawl)])\n    df['date'] = pd.to_datetime(str_date).date()\n\n    # collect all dataframe in a list\n    all_articles_df.append(df)\n\n    start_date += delta\n\n\n# concatenation of all dataframes\nall_articles_df = pd.concat(all_articles_df)\n\n# let's look\nprint(\"Number of articles collected: \", all_articles_df.shape[0])\n\n",
   "metadata": {
    "cell_id": "1ee92239-afe2-4a4e-81f9-daa8f6b66252",
    "tags": [],
    "deepnote_app_coordinates": {
     "x": 0,
     "y": 0,
     "w": 12,
     "h": 5
    },
    "deepnote_to_be_reexecuted": false,
    "source_hash": "e3863dad",
    "execution_start": 1647287482272,
    "execution_millis": 88225,
    "output_cleared": true,
    "deepnote_cell_type": "code",
    "deepnote_cell_height": 693
   },
   "outputs": [],
   "execution_count": null
  },
  {
   "cell_type": "code",
   "source": "all_articles_df.sample(10)",
   "metadata": {
    "cell_id": "8e7fbccd-bef3-4f46-a996-5deecd617976",
    "tags": [],
    "deepnote_app_coordinates": {
     "x": 0,
     "y": 0,
     "w": 12,
     "h": 5
    },
    "deepnote_to_be_reexecuted": false,
    "source_hash": "4ca5a5b8",
    "execution_start": 1647287584421,
    "execution_millis": 41,
    "output_cleared": true,
    "deepnote_cell_type": "code",
    "deepnote_cell_height": 598
   },
   "outputs": [],
   "execution_count": null
  },
  {
   "cell_type": "markdown",
   "source": "## Exercise 3 (optional): Extracting information from BitChute search engine\n\nBitChute is a popular video platform for alt-right and far-right communities. In this optional exercise, we will see how to scrape information from BitChute. This exercise is optional and **does not work** in a Jupyter notebook.\n\n<div class=\"alert alert-info\">\n\n**Exercise 4.1** Inspect https://www.bitchute.com/search/?query=oxford&kind=video and try to find the elements that match a video title.\n\nThen run the following commands **from your local terminal** on your machine.\n\n</div>",
   "metadata": {
    "cell_id": "d0a71659-4383-44b2-bedd-93097af35291",
    "tags": [],
    "deepnote_app_coordinates": {
     "x": 0,
     "y": 420,
     "w": 12,
     "h": 5
    },
    "deepnote_cell_type": "markdown",
    "deepnote_cell_height": 317.984375
   }
  },
  {
   "cell_type": "code",
   "source": "%%capture\n!pip install requests-html",
   "metadata": {
    "cell_id": "93832d0e-fbbd-4e36-acee-4c64d5eb696b",
    "tags": [],
    "output_cleared": true,
    "deepnote_to_be_reexecuted": true,
    "source_hash": "8bc1b1a9",
    "deepnote_app_coordinates": {
     "x": 0,
     "y": 510,
     "w": 12,
     "h": 5
    },
    "deepnote_cell_type": "code",
    "deepnote_cell_height": 99
   },
   "outputs": [],
   "execution_count": null
  },
  {
   "cell_type": "code",
   "metadata": {
    "cell_id": "43911645-c392-4db6-ac53-9d4640b5c738",
    "tags": [],
    "deepnote_to_be_reexecuted": true,
    "source_hash": "b2dede03",
    "execution_start": 1647273007020,
    "execution_millis": 431,
    "output_cleared": true,
    "deepnote_app_coordinates": {
     "x": 0,
     "y": 426,
     "w": 12,
     "h": 5
    },
    "deepnote_cell_type": "code",
    "deepnote_cell_height": 135
   },
   "source": "from requests_html import HTMLSession\nsession = HTMLSession()\n\nr = session.get('https://www.bitchute.com/search/?query=oxford&kind=video')",
   "execution_count": null,
   "outputs": []
  },
  {
   "cell_type": "code",
   "metadata": {
    "cell_id": "b89c70db-2003-404e-8e39-ee06dcc79ed7",
    "tags": [],
    "output_cleared": true,
    "deepnote_to_be_reexecuted": true,
    "source_hash": "9b9fa705",
    "execution_start": 1647274015616,
    "execution_millis": 78,
    "deepnote_app_coordinates": {
     "x": 0,
     "y": 432,
     "w": 12,
     "h": 5
    },
    "deepnote_cell_type": "code",
    "deepnote_cell_height": 135
   },
   "source": "# What should this extract?\n\ntitles = r.html.find('.video-result-title')\nprint(len(titles))",
   "execution_count": null,
   "outputs": []
  },
  {
   "cell_type": "markdown",
   "source": "We are running into a problem! In fact, the browser doesn't have time to render the video elements, which are loaded a few milliseconds after we crawl the page. Let's fix that.\n\nWe will use some advanced Python functions (asynchronous features), that you don't need to fully understand. Intuitively, requests-html is going to download Google Chrome, then instruct Chrome to crawl the page. This will simulate an actual browser acccessing the page.",
   "metadata": {
    "cell_id": "0180047e-6bcc-4d49-8c90-d6fe7be6bc42",
    "tags": [],
    "deepnote_app_coordinates": {
     "x": 0,
     "y": 504,
     "w": 12,
     "h": 5
    },
    "deepnote_cell_type": "markdown",
    "deepnote_cell_height": 155.984375
   }
  },
  {
   "cell_type": "code",
   "source": "from requests_html import AsyncHTMLSession\nsession = AsyncHTMLSession()\n\nr = await session.get(\"https://www.bitchute.com/search/?query=oxford&kind=video\")\n\nawait r.html.arender()",
   "metadata": {
    "cell_id": "adc68bc6-e42c-4d90-8ba1-ccda804d71a0",
    "tags": [],
    "output_cleared": true,
    "deepnote_to_be_reexecuted": true,
    "source_hash": "82aae885",
    "deepnote_app_coordinates": {
     "x": 0,
     "y": 516,
     "w": 12,
     "h": 5
    },
    "deepnote_cell_type": "code",
    "deepnote_cell_height": 171
   },
   "outputs": [],
   "execution_count": null
  },
  {
   "cell_type": "code",
   "source": "titles = r.html.find('.video-result-title')\nprint(len(titles))",
   "metadata": {
    "cell_id": "b35e414f-de01-489f-a04a-f383c1752b7b",
    "tags": [],
    "deepnote_to_be_reexecuted": true,
    "source_hash": "2201f615",
    "execution_start": 1647274030968,
    "execution_millis": 7,
    "output_cleared": true,
    "deepnote_app_coordinates": {
     "x": 0,
     "y": 522,
     "w": 12,
     "h": 5
    },
    "deepnote_cell_type": "code",
    "deepnote_cell_height": 99
   },
   "outputs": [],
   "execution_count": null
  },
  {
   "cell_type": "markdown",
   "source": "Again, this shouldn't work. Let's do a final test, this time by instructing Chrome to wait for a full second and scroll down until videos are loaded.",
   "metadata": {
    "cell_id": "4a5d7874-70bc-401c-a12c-de542623eea5",
    "tags": [],
    "deepnote_app_coordinates": {
     "x": 0,
     "y": 528,
     "w": 12,
     "h": 5
    },
    "deepnote_cell_type": "markdown",
    "deepnote_cell_height": 74.796875
   }
  },
  {
   "cell_type": "code",
   "source": "session = AsyncHTMLSession()\n\nr = await session.get(\"https://www.bitchute.com/search/?query=oxford&kind=video\")\nawait r.html.arender(sleep=1, scrolldown=10)",
   "metadata": {
    "cell_id": "dc4c2043-720a-46d1-9fec-c2d7d64621a4",
    "tags": [],
    "output_cleared": true,
    "deepnote_to_be_reexecuted": true,
    "source_hash": "4ce8fee3",
    "deepnote_app_coordinates": {
     "x": 0,
     "y": 534,
     "w": 12,
     "h": 5
    },
    "deepnote_cell_type": "code",
    "deepnote_cell_height": 135
   },
   "outputs": [],
   "execution_count": null
  },
  {
   "cell_type": "code",
   "source": "titles = r.html.find('.video-result-title')\nprint(len(titles)) # We should get approximately 30 titles now!",
   "metadata": {
    "cell_id": "fc558c69-0217-4818-ada6-36ef1517000d",
    "tags": [],
    "output_cleared": true,
    "deepnote_to_be_reexecuted": true,
    "source_hash": "9add1b4",
    "deepnote_app_coordinates": {
     "x": 0,
     "y": 540,
     "w": 12,
     "h": 5
    },
    "deepnote_cell_type": "code",
    "deepnote_cell_height": 99
   },
   "outputs": [],
   "execution_count": null
  },
  {
   "cell_type": "markdown",
   "source": "## Homework 4: this week's datasheet questions",
   "metadata": {
    "cell_id": "435ba3c7-0df0-40cc-a587-77a1406a94a5",
    "tags": [],
    "deepnote_app_coordinates": {
     "x": 0,
     "y": 438,
     "w": 12,
     "h": 5
    },
    "deepnote_cell_type": "markdown",
    "deepnote_cell_height": 70
   }
  },
  {
   "cell_type": "markdown",
   "source": "Throughout this course, we will aim to build on the practice of documenting our datasets, using the Datasheet for Datasets framework (here is an <a href=\"https://github.com/zykls/folktables/blob/main/datasheet.md\">example of a datasheet\"</a>). In the homework for this week, you designed a small dataset of page content scraped from El País. Let's assume you plan to use this dataset in your research project.\n\nHow would you structure your Datasheet for this small dataset? For this week's homework, please answer the following questions:",
   "metadata": {
    "cell_id": "cb922b3d-b397-47c3-a583-b7648c1c5a2e",
    "tags": [],
    "deepnote_app_coordinates": {
     "x": 0,
     "y": 444,
     "w": 12,
     "h": 5
    },
    "deepnote_cell_type": "markdown",
    "deepnote_cell_height": 155.984375
   }
  },
  {
   "cell_type": "markdown",
   "source": "> **Was any preprocessing/cleaning/labeling of the data done** (e.g., discretization or bucketing, tokenization, part-of-speech tagging, SIFT feature extraction, removal of instances, processing of missing values)? If so, please provide a description. If not, you may skip the remainder of the questions in this section.\n>\n>...\n\n>**What tasks could the dataset be used for?**\n>\n>...\n\n>**Is there anything about the composition of the dataset or the way it was collected and preprocessed/cleaned/labeled that might impact future uses?** For example, is there anything that a future user might need to know to avoid uses that could result in unfair treatment of individuals or groups (e.g., stereotyping, quality of service issues) or other undesirable harms (e.g., financial harms, legal risks) If so, please provide a description. Is there anything a future user could do to mitigate these undesirable harms?\n>\n>...\n\n>**Are there tasks for which the dataset should not be used?** If so, please provide a description.\n>\n>...\n\n",
   "metadata": {
    "cell_id": "d8e6a755-1a55-41a5-82e0-f1a5eea95062",
    "tags": [],
    "deepnote_app_coordinates": {
     "x": 0,
     "y": 450,
     "w": 12,
     "h": 5
    },
    "deepnote_cell_type": "markdown",
    "deepnote_cell_height": 455.578125
   }
  },
  {
   "cell_type": "markdown",
   "source": "<a style='text-decoration:none;line-height:16px;display:flex;color:#5B5B62;padding:10px;justify-content:end;' href='https://deepnote.com?utm_source=created-in-deepnote-cell&projectId=9632b0a8-3b9c-434e-a03f-c4a54dda873b' target=\"_blank\">\n<img alt='Created in deepnote.com' style='display:inline;max-height:16px;margin:0px;margin-right:7.5px;' src='data:image/svg+xml;base64,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' > </img>\nCreated in <span style='font-weight:600;margin-left:4px;'>Deepnote</span></a>",
   "metadata": {
    "tags": [],
    "created_in_deepnote_cell": true,
    "deepnote_cell_type": "markdown"
   }
  }
 ],
 "nbformat": 4,
 "nbformat_minor": 2,
 "metadata": {
  "orig_nbformat": 2,
  "deepnote": {
   "is_reactive": false
  },
  "deepnote_notebook_id": "b9958d79-7682-4d41-b811-390d80f0215d",
  "deepnote_execution_queue": [],
  "deepnote_app_layout": "article"
 }
}