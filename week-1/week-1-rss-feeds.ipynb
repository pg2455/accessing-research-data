{
 "cells": [
  {
   "cell_type": "markdown",
   "source": "# Week 1: Parsing RSS feeds",
   "metadata": {
    "cell_id": "c94a325d-bbb5-449e-a2f3-8ab5692c1b29",
    "tags": [],
    "deepnote_app_coordinates": {
     "x": 0,
     "y": null,
     "w": 12,
     "h": 5
    },
    "deepnote_cell_height": 82,
    "deepnote_cell_type": "markdown"
   }
  },
  {
   "cell_type": "code",
   "metadata": {
    "cell_id": "3f9a082e-028a-427f-8620-01569417e84f",
    "deepnote_to_be_reexecuted": false,
    "source_hash": "3af68841",
    "execution_start": 1645181456669,
    "execution_millis": 33645,
    "deepnote_app_coordinates": {
     "x": 0,
     "y": 6,
     "w": 12,
     "h": 5
    },
    "deepnote_cell_height": 117,
    "deepnote_cell_type": "code"
   },
   "source": "%%capture\n!pip install --upgrade feedparser\n!pip install --upgrade pandas",
   "execution_count": null,
   "outputs": []
  },
  {
   "cell_type": "code",
   "metadata": {
    "cell_id": "00001-75b67504-030c-4215-bbbc-ec38b59871ce",
    "deepnote_to_be_reexecuted": false,
    "source_hash": "5f5b508c",
    "execution_start": 1645181490333,
    "execution_millis": 3065,
    "deepnote_app_coordinates": {
     "x": 0,
     "y": 12,
     "w": 12,
     "h": 5
    },
    "deepnote_cell_height": 99,
    "deepnote_cell_type": "code"
   },
   "source": "import seaborn as sns\nsns.set()",
   "execution_count": null,
   "outputs": []
  },
  {
   "cell_type": "code",
   "metadata": {
    "cell_id": "00002-7f25c3d9-d248-40d2-a63f-beb2317416c2",
    "deepnote_to_be_reexecuted": false,
    "source_hash": "fe2706b7",
    "execution_start": 1645181493412,
    "execution_millis": 22,
    "deepnote_app_coordinates": {
     "x": 0,
     "y": 18,
     "w": 12,
     "h": 5
    },
    "deepnote_cell_height": 99,
    "deepnote_cell_type": "code"
   },
   "source": "import pprint\nimport pandas as pd",
   "execution_count": null,
   "outputs": []
  },
  {
   "cell_type": "markdown",
   "source": "## Introduction to parsing RSS feeds\n\nRSS, an acronym for Really Simple Syndication, is a text format for web content syndication. RSS is a standardised format, a dialect of XML, that allows humans and machines to track the content of a website (from articles, news, blogs, to forums) and see what has been changed or updated.\n\nMost blogs and many websites have RSS feeds. For instance, http://feeds.bbci.co.uk/news/rss.xml?edition=uk points to the RSS feed of the BBC. If you click on the previous link, your browser will render a human-readable view of that RSS feed. If you look at the source (_Right click_ then _View Page Source_ of Firefox), you can see what the original RSS syntax look like.\n\nHere are a few more examples of RSS feeds from newspapers:\n- https://www.voanews.com/api/zqgpqoekmmqo\n- https://moxie.foxnews.com/feedburner/latest.xml\n- http://rss.cnn.com/rss/cnn_topstories.rss\n\nAdditionally, head to Wired to hear more about the history and politics of RSS feeds: https://www.wired.com/story/rss-readers-feedly-inoreader-old-reader/\n\nIf you are keen on plugging in to RSS feeds using your browsers, here is a nice tutorial:  https://www.leeds.anglican.org/content/easy-guide-how-do-i-subscribe-rss-feed\n",
   "metadata": {
    "cell_id": "00003-ff6c62e6-5f94-4431-aa5a-cf1d2c403cf5",
    "deepnote_app_coordinates": {
     "x": 0,
     "y": 24,
     "w": 12,
     "h": 5
    },
    "deepnote_cell_height": 498,
    "deepnote_cell_type": "markdown"
   }
  },
  {
   "cell_type": "markdown",
   "source": "## Parsing RSS feeds in Python\n\nBelow, you can find a simple toy example of an RSS feed, using the traditional XML markup syntax with its nested tags (begins with < and ends with >).\n\n",
   "metadata": {
    "cell_id": "f0f8cd72-973e-4ed6-a6e3-62c8982a083e",
    "tags": [],
    "deepnote_app_coordinates": {
     "x": 0,
     "y": 30,
     "w": 12,
     "h": 5
    },
    "deepnote_cell_height": 130.8000030517578,
    "deepnote_cell_type": "markdown"
   }
  },
  {
   "cell_type": "code",
   "metadata": {
    "cell_id": "00004-c7f17775-87ca-42d6-9a41-79ba731b321a",
    "deepnote_to_be_reexecuted": false,
    "source_hash": "1dd4b3ac",
    "execution_start": 1645181493441,
    "execution_millis": 9,
    "deepnote_app_coordinates": {
     "x": 0,
     "y": 36,
     "w": 12,
     "h": 5
    },
    "deepnote_cell_height": 423,
    "deepnote_cell_type": "code"
   },
   "source": "example_rss = \"\"\"<?xml version=\"1.0\" encoding=\"UTF-8\" ?>\n<rss version=\"2.0\">\n\n<channel>\n  <title>W3Schools Home Page</title>\n  <link>https://www.w3schools.com</link>\n  <description>Free web building tutorials</description>\n  <item>\n    <title>RSS Tutorial</title>\n    <link>https://www.w3schools.com/xml/xml_rss.asp</link>\n    <description>New RSS tutorial on W3Schools</description>\n  </item>\n  <item>\n    <title>XML Tutorial</title>\n    <link>https://www.w3schools.com/xml</link>\n    <description>New XML tutorial on W3Schools</description>\n  </item>\n</channel>\n\n</rss>\"\"\"",
   "execution_count": null,
   "outputs": []
  },
  {
   "cell_type": "markdown",
   "source": "Instead of manually parsing this feed in Python, we will use a library (Universal Feed Parser), that automatically converts a string encoding an RSS feed into a dictionary.\n\nUniversal Feed Parser parses many types of syndication feeds found online (RSS 0.90, Netscape RSS 0.91, Userland RSS 0.91, RSS 0.92, RSS 0.93, RSS 0.94, RSS 1.0, RSS 2.0, Atom 0.3, Atom 1.0, CDF feeds…). It is extremely simple to use. The module has one primary public function, `parse`. `parse` takes one required argument, either a URL, a local filename, or a string containing feed data in any format.",
   "metadata": {
    "cell_id": "61eaeb4e-9cfc-4235-9124-c28aad806e08",
    "tags": [],
    "deepnote_app_coordinates": {
     "x": 0,
     "y": 42,
     "w": 12,
     "h": 5
    },
    "deepnote_cell_height": 275.6000061035156,
    "deepnote_cell_type": "markdown"
   }
  },
  {
   "cell_type": "code",
   "metadata": {
    "cell_id": "884b95a5-4f06-457b-bb83-12a8386a838d",
    "tags": [],
    "deepnote_to_be_reexecuted": false,
    "source_hash": "4183eb0e",
    "execution_start": 1645181493471,
    "execution_millis": 70,
    "deepnote_app_coordinates": {
     "x": 0,
     "y": 48,
     "w": 12,
     "h": 5
    },
    "deepnote_cell_height": 81,
    "deepnote_cell_type": "code"
   },
   "source": "import feedparser",
   "execution_count": null,
   "outputs": []
  },
  {
   "cell_type": "markdown",
   "source": "Below, we parse the feed encoded in the string `example_rss` into a dictionary named `parsed_rss`. We then print it using `pprint.pprint` instead of the usual `print`. `pprint` is a standard Python module that let you “pretty-print” objects in a nicer form.",
   "metadata": {
    "cell_id": "766cab33-c189-4b1a-9854-22251ac0498d",
    "tags": [],
    "deepnote_to_be_reexecuted": false,
    "source_hash": "c5e56340",
    "execution_start": 1643577373571,
    "execution_millis": 20,
    "deepnote_app_coordinates": {
     "x": 0,
     "y": 54,
     "w": 12,
     "h": 5
    },
    "deepnote_cell_height": 97.19999694824219,
    "deepnote_cell_type": "markdown"
   }
  },
  {
   "cell_type": "code",
   "metadata": {
    "cell_id": "00005-5804d53d-f0a2-4539-9e0d-162830d0d199",
    "deepnote_to_be_reexecuted": false,
    "source_hash": "1a920f86",
    "execution_start": 1645181493550,
    "execution_millis": 110,
    "deepnote_app_coordinates": {
     "x": 0,
     "y": 60,
     "w": 12,
     "h": 5
    },
    "deepnote_cell_height": 719,
    "deepnote_cell_type": "code"
   },
   "source": "parsed_rss = feedparser.parse(example_rss)\npprint.pprint(parsed_rss)",
   "execution_count": null,
   "outputs": [
    {
     "name": "stdout",
     "text": "{'bozo': False,\n 'encoding': 'utf-8',\n 'entries': [{'link': 'https://www.w3schools.com/xml/xml_rss.asp',\n              'links': [{'href': 'https://www.w3schools.com/xml/xml_rss.asp',\n                         'rel': 'alternate',\n                         'type': 'text/html'}],\n              'summary': 'New RSS tutorial on W3Schools',\n              'summary_detail': {'base': '',\n                                 'language': None,\n                                 'type': 'text/html',\n                                 'value': 'New RSS tutorial on W3Schools'},\n              'title': 'RSS Tutorial',\n              'title_detail': {'base': '',\n                               'language': None,\n                               'type': 'text/plain',\n                               'value': 'RSS Tutorial'}},\n             {'link': 'https://www.w3schools.com/xml',\n              'links': [{'href': 'https://www.w3schools.com/xml',\n                         'rel': 'alternate',\n                         'type': 'text/html'}],\n              'summary': 'New XML tutorial on W3Schools',\n              'summary_detail': {'base': '',\n                                 'language': None,\n                                 'type': 'text/html',\n                                 'value': 'New XML tutorial on W3Schools'},\n              'title': 'XML Tutorial',\n              'title_detail': {'base': '',\n                               'language': None,\n                               'type': 'text/plain',\n                               'value': 'XML Tutorial'}}],\n 'feed': {'link': 'https://www.w3schools.com',\n          'links': [{'href': 'https://www.w3schools.com',\n                     'rel': 'alternate',\n                     'type': 'text/html'}],\n          'subtitle': 'Free web building tutorials',\n          'subtitle_detail': {'base': '',\n                              'language': None,\n                              'type': 'text/html',\n                              'value': 'Free web building tutorials'},\n          'title': 'W3Schools Home Page',\n          'title_detail': {'base': '',\n                           'language': None,\n                           'type': 'text/plain',\n                           'value': 'W3Schools Home Page'}},\n 'headers': {},\n 'namespaces': {},\n 'version': 'rss20'}\n",
     "output_type": "stream"
    }
   ]
  },
  {
   "cell_type": "markdown",
   "source": "You can read more about the processing and sanitisation performed by Universal Feed parser on the module documentation at https://feedparser.readthedocs.io/en/latest/.\n\nBriefly, the `feedparser.parse` function returns a dictionary with:\n1. a few metadata related to the parsing (bozo, encoding, version…),\n2. information about the feed itself (link, title, subtitle),\n3. and a list of all the entries.",
   "metadata": {
    "cell_id": "3198f7c1-25a3-4693-8d7f-38ccd1f181b1",
    "tags": [],
    "deepnote_app_coordinates": {
     "x": 0,
     "y": 66,
     "w": 12,
     "h": 5
    },
    "deepnote_cell_height": 212.39999389648438,
    "deepnote_cell_type": "markdown"
   }
  },
  {
   "cell_type": "code",
   "metadata": {
    "cell_id": "00006-84e280b9-0980-43b7-90d2-bcab97d21e4a",
    "deepnote_output_heights": [
     21
    ],
    "deepnote_to_be_reexecuted": false,
    "source_hash": "6f5d4153",
    "execution_start": 1645181493660,
    "execution_millis": 27,
    "deepnote_app_coordinates": {
     "x": 0,
     "y": 72,
     "w": 12,
     "h": 5
    },
    "deepnote_cell_height": 136,
    "deepnote_cell_type": "code"
   },
   "source": "# General informations about the channel:\nparsed_rss['feed']['title'], parsed_rss['feed']['link']",
   "execution_count": null,
   "outputs": [
    {
     "output_type": "execute_result",
     "execution_count": 7,
     "data": {
      "text/plain": "('W3Schools Home Page', 'https://www.w3schools.com')"
     },
     "metadata": {}
    }
   ]
  },
  {
   "cell_type": "code",
   "metadata": {
    "cell_id": "00007-9e86ec22-1b8c-4d32-8351-66fd22bf5bb1",
    "deepnote_to_be_reexecuted": false,
    "source_hash": "93161094",
    "execution_start": 1645181493731,
    "execution_millis": 1,
    "deepnote_output_heights": [
     21
    ],
    "deepnote_app_coordinates": {
     "x": 0,
     "y": 78,
     "w": 12,
     "h": 5
    },
    "deepnote_cell_height": 129.6999969482422,
    "deepnote_cell_type": "code"
   },
   "source": "nb_articles = len(parsed_rss['entries'])\nprint(f\"The RSS feed has {nb_articles} entries\")",
   "execution_count": null,
   "outputs": [
    {
     "name": "stdout",
     "text": "The RSS feed has 2 entries\n",
     "output_type": "stream"
    }
   ]
  },
  {
   "cell_type": "code",
   "metadata": {
    "cell_id": "00008-b3f0e590-4fd8-4721-9479-8881bbc6ab46",
    "deepnote_to_be_reexecuted": false,
    "source_hash": "d2c32d93",
    "execution_start": 1645181493732,
    "execution_millis": 3,
    "deepnote_app_coordinates": {
     "x": 0,
     "y": 84,
     "w": 12,
     "h": 5
    },
    "deepnote_cell_height": 203.39999389648438,
    "deepnote_cell_type": "code"
   },
   "source": "# Printing out the title and link of each entry:\nfor entry in parsed_rss['entries']:\n    title = entry['title']\n    link = entry['link']\n    print(f\"{title} -- {link}\")",
   "execution_count": null,
   "outputs": [
    {
     "name": "stdout",
     "text": "RSS Tutorial -- https://www.w3schools.com/xml/xml_rss.asp\nXML Tutorial -- https://www.w3schools.com/xml\n",
     "output_type": "stream"
    }
   ]
  },
  {
   "cell_type": "markdown",
   "source": "## Exercise 1: loading and parsing a remote feed\n\n<div class=\"alert alert-info\">\n\n##### Exercise 1.1\nGo to https://www.bbc.co.uk/news/10628494 and find the URL of the main news RSS feed.\nCopy it below and load the RSS feed using feedparser.\n</div>",
   "metadata": {
    "cell_id": "00009-1204ab89-e745-43ce-b1c0-a150f57311c6",
    "deepnote_app_coordinates": {
     "x": 0,
     "y": 90,
     "w": 12,
     "h": 5
    },
    "deepnote_cell_height": 258.79998779296875,
    "deepnote_cell_type": "markdown"
   }
  },
  {
   "cell_type": "code",
   "metadata": {
    "cell_id": "00010-010cfb6d-a864-4eb3-8ee1-338506e9732e",
    "deepnote_to_be_reexecuted": false,
    "source_hash": "cbd535ab",
    "execution_start": 1645458719954,
    "execution_millis": 6,
    "deepnote_app_coordinates": {
     "x": 0,
     "y": 96,
     "w": 12,
     "h": 5
    },
    "deepnote_cell_height": 81,
    "deepnote_cell_type": "code"
   },
   "source": "# Your code here",
   "execution_count": null,
   "outputs": []
  },
  {
   "cell_type": "markdown",
   "source": "<div class=\"alert alert-info\">\n\n##### Exercise 1.2\n\nPrint the number of entries in the feed and print the titles of the first five entries\n\n</div>",
   "metadata": {
    "cell_id": "234b6ab7-5924-4cb9-8ae3-8b939ad6e495",
    "tags": [],
    "deepnote_app_coordinates": {
     "x": 0,
     "y": 102,
     "w": 12,
     "h": 5
    },
    "deepnote_cell_height": 145,
    "deepnote_cell_type": "markdown"
   }
  },
  {
   "cell_type": "code",
   "metadata": {
    "cell_id": "00011-dacca4d8-8610-4d47-80d0-d0363325359d",
    "deepnote_to_be_reexecuted": false,
    "source_hash": "cbd535ab",
    "execution_start": 1645458713155,
    "execution_millis": 7,
    "deepnote_app_coordinates": {
     "x": 0,
     "y": 108,
     "w": 12,
     "h": 5
    },
    "deepnote_cell_height": 301.8999938964844,
    "deepnote_cell_type": "code"
   },
   "source": "# Your code here",
   "execution_count": null,
   "outputs": []
  },
  {
   "cell_type": "markdown",
   "source": "## Exercise 2: Storing RSS Feeds for later use\n\n\n<div class=\"alert alert-info\">\n\n##### Exercise 2.1\n\nFirst, we are going to convert the entries of dictionary into a [pandas DataFrame](https://pandas.pydata.org/pandas-docs/stable/user_guide/dsintro.html#dataframe).\n\n<ul>\n<li>Keep only the four following columns: `title`, `summary`, `link`, `published`.</li>\n<li>Convert `published` to the standard `datetime` object interpretable by Python. </li>\n<li>Check the first few entries in the resulting dataframe</li>\n</ul>\n \n\n</div>",
   "metadata": {
    "cell_id": "00012-23b9cb76-0464-40f7-8fd0-c34f0e842808",
    "deepnote_app_coordinates": {
     "x": 0,
     "y": 114,
     "w": 12,
     "h": 5
    },
    "deepnote_cell_height": 235,
    "deepnote_cell_type": "markdown"
   }
  },
  {
   "cell_type": "code",
   "metadata": {
    "cell_id": "00013-7952d7bc-1891-4013-9dd0-539226107d17",
    "deepnote_output_heights": [
     177
    ],
    "deepnote_to_be_reexecuted": false,
    "source_hash": "cf2047e3",
    "execution_start": 1645181503803,
    "execution_millis": 10,
    "deepnote_app_coordinates": {
     "x": 0,
     "y": 120,
     "w": 12,
     "h": 5
    },
    "deepnote_cell_height": 99,
    "deepnote_cell_type": "code"
   },
   "source": "# Your code here",
   "execution_count": null,
   "outputs": []
  },
  {
   "cell_type": "markdown",
   "source": "<div class=\"alert alert-info\">\nNow, save the dataframe into a CSV file for later use.\n</div>\n\n\n<div class=\"alert alert-warning\">\n\n**Note:** if `index=True` (default option), `pandas` save an extra column indicating index number which, in our case, will be the row numbers. There are cases when index will be non-numerical or, if numerical, not representative of row numbers. `index=True` will be useful in those cases. \n\n</div>",
   "metadata": {
    "cell_id": "6241dcf6-bcb1-4459-b651-e44a09ed4f2d",
    "tags": [],
    "deepnote_app_coordinates": {
     "x": 0,
     "y": 138,
     "w": 12,
     "h": 5
    },
    "deepnote_cell_height": 208,
    "deepnote_cell_type": "markdown"
   }
  },
  {
   "cell_type": "code",
   "metadata": {
    "cell_id": "f378ac28-ba56-420f-879f-e31eb4d11a95",
    "tags": [],
    "deepnote_to_be_reexecuted": false,
    "source_hash": "cbd535ab",
    "execution_start": 1645459223007,
    "execution_millis": 2,
    "deepnote_app_coordinates": {
     "x": 0,
     "y": 150,
     "w": 12,
     "h": 5
    },
    "deepnote_cell_height": 396,
    "deepnote_cell_type": "code"
   },
   "source": "# Your code here",
   "execution_count": null,
   "outputs": []
  },
  {
   "cell_type": "markdown",
   "source": "<div class=\"alert alert-info\">\n\n##### Exercise 2.3: collection over time\n\nAssuming a day has passed, write a code snippet to:\n1. load the old CSV file with the RSS feeds you saved\n2.  fetch the new RSS feed, transform it into a pandas DataFrame\n3. concatenate it with the older RSS feeds\n4. save the resulting DataFrame to CSV back again.\n\n</div>",
   "metadata": {
    "cell_id": "debd0cf1-8007-4e94-8257-f2cddcf636dc",
    "tags": [],
    "deepnote_app_coordinates": {
     "x": 0,
     "y": 156,
     "w": 12,
     "h": 5
    },
    "deepnote_cell_height": 253,
    "deepnote_cell_type": "markdown"
   }
  },
  {
   "cell_type": "code",
   "metadata": {
    "cell_id": "847dfe54-66a8-43ef-b684-898abb574fc3",
    "tags": [],
    "deepnote_to_be_reexecuted": false,
    "source_hash": "385a100a",
    "execution_start": 1645181514009,
    "execution_millis": 178,
    "deepnote_app_coordinates": {
     "x": 0,
     "y": 162,
     "w": 12,
     "h": 5
    },
    "deepnote_cell_height": 261,
    "deepnote_cell_type": "code"
   },
   "source": "# Your code here",
   "execution_count": null,
   "outputs": []
  },
  {
   "cell_type": "markdown",
   "source": "<div class=\"alert alert-info\">\n\n##### Exercise 2.4 (optional)\n\nIn data science and computer science, it is a good practice to write code in a modular fashion. This practice entails writing functions that are responsible for one and only one task. Can you think of modularizing the above code snippet?\n\nHere is one way to modularize the above code snippet:\n- a function `load_rss` takes as input, a string, and returns a pandas `DataFrame`;\n- a function `retrieve_rss` takes as input, a string for rss url, and returns a pandas `DataFrame`;\n- a function `concat_and_save_rss` takes as input, two pandas `DataFrame`, and returns nothing.\n\n</div>",
   "metadata": {
    "cell_id": "0539c271-4866-42a8-a14e-0f9d02c27215",
    "tags": [],
    "deepnote_app_coordinates": {
     "x": 0,
     "y": 168,
     "w": 12,
     "h": 5
    },
    "deepnote_cell_height": 353.6000061035156,
    "deepnote_cell_type": "markdown"
   }
  },
  {
   "cell_type": "markdown",
   "source": "## Exercise 3: Understanding the collected feed\n\n<div class=\"alert alert-info\">\n\n##### Exercise 3.1\n\nUsing the dataframe or the entries dictionary, **print out the time of the day each article was published**.\n\nFor pandas, read the following pages to learn how to use datetime columns:\n- extracting hours: https://pandas.pydata.org/docs/reference/api/pandas.Series.dt.hour.html\n- and other attributes that can be computed automatically: https://pandas.pydata.org/pandas-docs/stable/user_guide/timeseries.html#time-date-components\n\n</div>",
   "metadata": {
    "cell_id": "00016-987002b0-d588-4925-91e5-d2215d9e7802",
    "deepnote_app_coordinates": {
     "x": 0,
     "y": 186,
     "w": 12,
     "h": 5
    },
    "deepnote_cell_height": 331.3999938964844,
    "deepnote_cell_type": "markdown"
   }
  },
  {
   "cell_type": "code",
   "metadata": {
    "cell_id": "00017-d362def7-9b63-4bee-9d9a-cf168272d8d5",
    "deepnote_output_heights": [
     117
    ],
    "deepnote_to_be_reexecuted": false,
    "source_hash": "cbd535ab",
    "execution_start": 1645459263241,
    "execution_millis": 3,
    "deepnote_app_coordinates": {
     "x": 0,
     "y": 192,
     "w": 12,
     "h": 5
    },
    "deepnote_cell_height": 214,
    "deepnote_cell_type": "code"
   },
   "source": "# Your code here",
   "execution_count": null,
   "outputs": []
  },
  {
   "cell_type": "markdown",
   "source": "<div class=\"alert alert-info\">\n\n##### Exercise 3.2: sanity checks\n\nWe should always do some sanity checks on the data. For example,\n- Can you find the type of values that `df.published_hour` takes? Is it `str` or `int`? \n- What should be the type of `df.published_hour`? If it is not of correct type, can you perform the necessary conversion?\n- What is the timezone of `df.published`? Is it what we expect? Does it depend on the location of news source? For example, can you check what timezone are the RSS feeds from The New York Times (https://www.nytimes.com/rss)\n\n</div>\n\n",
   "metadata": {
    "cell_id": "00021-c68a839c-17e2-4ad6-a0d3-1bd1c6ca64e6",
    "deepnote_app_coordinates": {
     "x": 0,
     "y": 216,
     "w": 12,
     "h": 5
    },
    "deepnote_cell_height": 294.79998779296875,
    "deepnote_cell_type": "markdown"
   }
  },
  {
   "cell_type": "code",
   "metadata": {
    "cell_id": "3783bd2f-5f81-4748-972e-75e1689037b6",
    "tags": [],
    "deepnote_cell_height": 66,
    "deepnote_cell_type": "code"
   },
   "source": "",
   "execution_count": null,
   "outputs": []
  },
  {
   "cell_type": "markdown",
   "source": "\n<div class=\"alert alert-info\">\n\n##### Exercise 3.3\nCount up all occurrences of publication hours. Which time of day seems to have the highest level of publication?\n\nNote: With pandas, you can use the `value_counts()` method of the `published.dt.hour` series.\n</div>",
   "metadata": {
    "cell_id": "ec94e964-a317-4f98-9d52-74cf20c076b7",
    "tags": [],
    "deepnote_cell_height": 221.60000610351562,
    "deepnote_cell_type": "markdown"
   }
  },
  {
   "cell_type": "code",
   "metadata": {
    "cell_id": "31b7580e-5850-4d9e-9a49-a7d6e15f34ef",
    "tags": [],
    "deepnote_to_be_reexecuted": false,
    "source_hash": "73e3a362",
    "execution_start": 1645181627415,
    "execution_millis": 0,
    "deepnote_app_coordinates": {
     "x": 0,
     "y": 222,
     "w": 12,
     "h": 5
    },
    "deepnote_cell_height": 117,
    "deepnote_cell_type": "code"
   },
   "source": "# Your code here",
   "execution_count": null,
   "outputs": []
  },
  {
   "cell_type": "markdown",
   "source": "<div class=\"alert alert-info\">\n\n##### Exercise 3.3: searching for keywords\n\nPrint out each article title where a keyword is present in either the title or the summary.\n\nYou can do this by iterating over the entries dictionary `d[\"entries\"]` or, better, by selecting a subset of the DataFrame. For the latter, you can use the methods `df.summary.str.contains` (or `df.title.str.contains`) to search for rows for which the summary (title) contains a given substring.\n\n</div>",
   "metadata": {
    "cell_id": "00025-b0f841ae-a260-4e47-abed-6a2dfce97d91",
    "deepnote_app_coordinates": {
     "x": 0,
     "y": 252,
     "w": 12,
     "h": 5
    },
    "deepnote_cell_height": 244,
    "deepnote_cell_type": "markdown"
   }
  },
  {
   "cell_type": "code",
   "metadata": {
    "cell_id": "00026-44bfee49-b71f-4f0e-8c13-25fd2c32f938",
    "deepnote_to_be_reexecuted": false,
    "source_hash": "cbd535ab",
    "execution_start": 1645459345056,
    "execution_millis": 1,
    "deepnote_app_coordinates": {
     "x": 0,
     "y": 258,
     "w": 12,
     "h": 5
    },
    "deepnote_cell_height": 554.5999755859375,
    "deepnote_cell_type": "code"
   },
   "source": "# Your code here",
   "execution_count": null,
   "outputs": []
  },
  {
   "cell_type": "markdown",
   "source": "<div class=\"alert alert-info\">\n\n##### Exercise 3.4\n\nNow, count the number of entries containing the keyword in either the summary or the title.\n\n</div>",
   "metadata": {
    "cell_id": "00028-033ba4a3-146b-4acc-b38a-ab823d7f0bcd",
    "deepnote_app_coordinates": {
     "x": 0,
     "y": 270,
     "w": 12,
     "h": 5
    },
    "deepnote_cell_height": 145,
    "deepnote_cell_type": "markdown"
   }
  },
  {
   "cell_type": "code",
   "metadata": {
    "cell_id": "00029-51348fae-b74f-49b6-959b-2f08a80e35ab",
    "deepnote_output_heights": [
     21
    ],
    "deepnote_to_be_reexecuted": false,
    "source_hash": "cbd535ab",
    "execution_start": 1645459424160,
    "execution_millis": 1,
    "deepnote_app_coordinates": {
     "x": 0,
     "y": 276,
     "w": 12,
     "h": 5
    },
    "deepnote_cell_height": 118,
    "deepnote_cell_type": "code"
   },
   "source": "# Your code here",
   "execution_count": null,
   "outputs": []
  },
  {
   "cell_type": "markdown",
   "source": "# Homework: RSS from multiple sources\n\nIn this exercise, we will aggregate RSS feeds from multiple news soruces. As a standard practice, when the same task needs to be repeated, it is useful to write a function to do so. \n\nWe will use the following `website_name` and `url` pairs for our demonstration.",
   "metadata": {
    "cell_id": "00031-80d62ad5-7cb8-47c7-ac7b-4618e3aa71dc",
    "deepnote_app_coordinates": {
     "x": 0,
     "y": 288,
     "w": 12,
     "h": 5
    },
    "deepnote_cell_height": 231.1999969482422,
    "deepnote_cell_type": "markdown"
   }
  },
  {
   "cell_type": "code",
   "metadata": {
    "cell_id": "00032-a3974f42-4ba2-48a8-999f-1bce8aee8f6b",
    "deepnote_to_be_reexecuted": false,
    "source_hash": "4ad3cb75",
    "execution_start": 1645181706661,
    "execution_millis": 1,
    "deepnote_app_coordinates": {
     "x": 0,
     "y": 294,
     "w": 12,
     "h": 5
    },
    "deepnote_cell_height": 225,
    "deepnote_cell_type": "code"
   },
   "source": "rss_feeds = {\n    'BBC': 'feed://feeds.bbci.co.uk/news/rss.xml',\n    'Daily Mail': 'feed://dailymail.co.uk/home/index.rss',\n    'Telegraph': 'feed://telegraph.co.uk/rss.xml',\n    'Independent': 'feed://independent.co.uk/rss',\n    'Daily Mirror': 'feed://mirror.co.uk/?service=rss',\n    'Guardian': 'feed://theguardian.com/uk/rss',\n    'FT': 'feed://ft.com/rss/home/uk'\n}",
   "execution_count": null,
   "outputs": []
  },
  {
   "cell_type": "markdown",
   "source": "<div class=\"alert alert-info\">\n\n##### Exercise 4.1\n\nWrite a function `parse_rss_feed(url, website_name)` that takes in two inputs, `url` of string type and `website_name` of string type, and returns a pandas `DataFrame` of RSS feeds (including a new column with the website name).\n\n</div>",
   "metadata": {
    "cell_id": "c9843ed2-8791-4f81-b116-761619901a9b",
    "tags": [],
    "deepnote_app_coordinates": {
     "x": 0,
     "y": 414,
     "w": 12,
     "h": 5
    },
    "deepnote_cell_height": 162.8000030517578,
    "deepnote_cell_type": "markdown"
   }
  },
  {
   "cell_type": "code",
   "metadata": {
    "cell_id": "00033-1f0a7dde-1467-4fa4-b92e-145a5a15ce1a",
    "deepnote_to_be_reexecuted": false,
    "source_hash": "cbd535ab",
    "execution_start": 1645459444797,
    "execution_millis": 13,
    "deepnote_app_coordinates": {
     "x": 0,
     "y": 300,
     "w": 12,
     "h": 5
    },
    "deepnote_cell_height": 189,
    "deepnote_cell_type": "code"
   },
   "source": "# Your code here",
   "execution_count": null,
   "outputs": []
  },
  {
   "cell_type": "markdown",
   "source": "<div class=\"alert alert-info\">\n\n##### Exercise 4.2\n\nUsing the pandas `pd.concat` method and the function `parse_rss_feed` aggregate all the RSS feeds from `rss_feeds`.\n\n</div>",
   "metadata": {
    "cell_id": "550c50e0-70ef-4969-b247-0ae29f1d8d3b",
    "tags": [],
    "deepnote_app_coordinates": {
     "x": 0,
     "y": 420,
     "w": 12,
     "h": 5
    },
    "deepnote_cell_height": 140.39999389648438,
    "deepnote_cell_type": "markdown"
   }
  },
  {
   "cell_type": "code",
   "metadata": {
    "cell_id": "00034-ae745cda-28fe-4644-9c13-82106a9ad095",
    "deepnote_to_be_reexecuted": false,
    "source_hash": "cbd535ab",
    "execution_start": 1645459453172,
    "execution_millis": 6,
    "deepnote_app_coordinates": {
     "x": 0,
     "y": 306,
     "w": 12,
     "h": 5
    },
    "deepnote_cell_height": 81,
    "deepnote_cell_type": "code"
   },
   "source": "# Your code here",
   "execution_count": null,
   "outputs": []
  },
  {
   "cell_type": "markdown",
   "source": "<div class=\"alert alert-info\">\n\n##### Exercise 4.3\nMake a bar plot displaying number of RSS feeds on a particular (a) date, (b) publishing hour, and (c) website. \n\n**Hint:** Checkout `sns.countplot`: https://seaborn.pydata.org/generated/seaborn.countplot.html\n\n</div>\n\n<br />\n\n<div class=\"alert alert-warning\">\n\n**Note:** As we develop visualization, it is considered a good practice to use a color-blind friendly palette to make your work more inclusive. \n\nHere are some resources on colour-blind palette in seaborn:\n<ul>\n    <li>https://seaborn.pydata.org/tutorial/color_palettes.html#qualitative-color-palettes</li>\n    <li>https://medium.com/@neuralnets/data-visualization-with-python-and-seaborn-part-3-69647c19bf2</li>\n</ul>\n\n</div>\n",
   "metadata": {
    "cell_id": "521dffca-bca9-4f80-9b69-fc81d707b12b",
    "tags": [],
    "deepnote_app_coordinates": {
     "x": 0,
     "y": 312,
     "w": 12,
     "h": 5
    },
    "deepnote_cell_height": 691.7999877929688,
    "deepnote_cell_type": "markdown"
   }
  },
  {
   "cell_type": "code",
   "metadata": {
    "cell_id": "00035-af79750a-c819-4898-a040-e857a9993b5e",
    "deepnote_output_heights": [
     270
    ],
    "deepnote_to_be_reexecuted": false,
    "source_hash": "e0a2edec",
    "execution_start": 1645459492168,
    "execution_millis": 4,
    "deepnote_app_coordinates": {
     "x": 0,
     "y": 318,
     "w": 12,
     "h": 5
    },
    "deepnote_cell_height": 367,
    "deepnote_cell_type": "code"
   },
   "source": "# Your code here for (a)",
   "execution_count": null,
   "outputs": []
  },
  {
   "cell_type": "markdown",
   "source": "",
   "metadata": {
    "cell_id": "724b641d-66fd-4360-b12b-2494632d405a",
    "tags": [],
    "deepnote_app_coordinates": {
     "x": 0,
     "y": 324,
     "w": 12,
     "h": 5
    },
    "deepnote_cell_height": 46,
    "deepnote_cell_type": "markdown"
   }
  },
  {
   "cell_type": "code",
   "metadata": {
    "cell_id": "00036-c1a66e16-abf8-44b0-87b3-014f996d86d5",
    "deepnote_output_heights": [
     270
    ],
    "deepnote_to_be_reexecuted": false,
    "source_hash": "c9392a27",
    "execution_start": 1645459495460,
    "execution_millis": 2,
    "deepnote_app_coordinates": {
     "x": 0,
     "y": 330,
     "w": 12,
     "h": 5
    },
    "deepnote_cell_height": 367,
    "deepnote_cell_type": "code"
   },
   "source": "# Your code here for (b)",
   "execution_count": null,
   "outputs": []
  },
  {
   "cell_type": "code",
   "metadata": {
    "cell_id": "00037-ac3ab8f9-690d-4956-978a-a992233a65a7",
    "deepnote_output_heights": [
     270
    ],
    "deepnote_to_be_reexecuted": false,
    "source_hash": "c9392a27",
    "execution_start": 1645459499627,
    "execution_millis": 3,
    "deepnote_app_coordinates": {
     "x": 0,
     "y": 336,
     "w": 12,
     "h": 5
    },
    "deepnote_cell_height": 367,
    "deepnote_cell_type": "code"
   },
   "source": "# Your code here for (c)",
   "execution_count": null,
   "outputs": []
  },
  {
   "cell_type": "markdown",
   "source": "<div class=\"alert alert-info\">\n\n##### Exercise 4.4\n\nFind all those RSS Feeds that contain either of the words in its title or summary. Use the following list of words:\n- Word List A: climate, carbon, sustainab, green, energy\n- Word List B: police, constable, cops, officer, weapon\n\n</div>\n\n<div class=\"alert alert-warning\">\n\n**Note1:** If you are not familiar with Regular Expressions, it will be useful to learn a bit about them here. From Wikipedia - *A regular expression (shortened as regex or regexp) is a sequence of characters that specifies a search pattern in text.* It can be extremely powerful **if used correctly**. There are various ways one can form patterns. Here is a cheatsheet that can be useful to learn what are various ways one can form these expressions — https://dl.icewarp.com/online_help/203030104.htm. \n\n**Note2:** Check here for all pandas functions that can use regex — https://dl.icewarp.com/online_help/203030104.htm and https://kanoki.org/2019/11/12/how-to-use-regex-in-pandas/ \n\n</div>",
   "metadata": {
    "cell_id": "32643a03-a676-420c-ac6e-659d059e519c",
    "tags": [],
    "deepnote_app_coordinates": {
     "x": 0,
     "y": 426,
     "w": 12,
     "h": 5
    },
    "deepnote_cell_height": 305.79998779296875,
    "deepnote_cell_type": "markdown"
   }
  },
  {
   "cell_type": "code",
   "metadata": {
    "cell_id": "00038-73a5fa8b-87ba-433a-8870-b5362f2db654",
    "deepnote_output_heights": [
     611
    ],
    "deepnote_to_be_reexecuted": false,
    "source_hash": "e412828f",
    "execution_start": 1645459542544,
    "execution_millis": 1,
    "deepnote_app_coordinates": {
     "x": 0,
     "y": 342,
     "w": 12,
     "h": 5
    },
    "deepnote_cell_height": 780,
    "deepnote_cell_type": "code"
   },
   "source": "pattern = 'climate|carbon|sustainab|green|energy'\n\n# Your code here for (A)",
   "execution_count": null,
   "outputs": []
  },
  {
   "cell_type": "code",
   "source": "",
   "metadata": {
    "cell_id": "ba2a34d1-f700-4f61-aea1-c3c90efc8b21",
    "deepnote_to_be_reexecuted": false,
    "source_hash": "b623e53d",
    "execution_start": 1645181739297,
    "execution_millis": 0,
    "deepnote_app_coordinates": {
     "x": 0,
     "y": 348,
     "w": 12,
     "h": 5
    },
    "deepnote_cell_height": 54,
    "deepnote_cell_type": "visualization"
   },
   "execution_count": null,
   "outputs": []
  },
  {
   "cell_type": "code",
   "metadata": {
    "cell_id": "00039-07766514-80ac-49a5-aded-8b6828e9deed",
    "deepnote_output_heights": [
     611
    ],
    "deepnote_to_be_reexecuted": false,
    "source_hash": "a28ebcb0",
    "execution_start": 1645459552323,
    "execution_millis": 4,
    "deepnote_app_coordinates": {
     "x": 0,
     "y": 354,
     "w": 12,
     "h": 5
    },
    "deepnote_cell_height": 670,
    "deepnote_cell_type": "code"
   },
   "source": "# Your code here for (B)",
   "execution_count": null,
   "outputs": []
  },
  {
   "cell_type": "markdown",
   "source": "<div class=\"alert alert-danger\">\n\n##### Advanced! If you need a challenge: robust search for keywords\n\nThe method we used works well for a basic search, but is not perfect. For instance, searching for ‘river’ will match both ‘river’, ‘rivers’, but also ’screwdrivers’, ‘strivers’, and ‘driver’. A much better solution is to use simple NLP techniques to extract words and lemmatize them. If you are interested, look at spacy's <a href=\"https://spacy.io/usage/linguistic-features#lemmatization\">lemmatization tutorial</a>.\n\nThis library is reasonably easy to use, highly recommend using it! If you are interested, try below to install spacy and define a small function that match a word in a sentence:\n\n```\nmatch_word(\"driver\", \"My screwdriver is on the table\")  # returns False\nmatch_word(\"read\", \"I was reading the paper.\")  # returns True\n``` \n\n</div>",
   "metadata": {
    "cell_id": "a05b1984-fc2c-42e6-8352-ec4c91ee19d4",
    "tags": [],
    "deepnote_cell_height": 260.79998779296875,
    "deepnote_cell_type": "markdown"
   }
  },
  {
   "cell_type": "code",
   "metadata": {
    "cell_id": "3bffc46e-e936-41a0-96c6-3cabd25c3d26",
    "tags": [],
    "deepnote_cell_height": 66,
    "deepnote_cell_type": "code"
   },
   "source": "",
   "execution_count": null,
   "outputs": []
  },
  {
   "cell_type": "markdown",
   "source": "# Optional: RSS Aggregators\n\nImagine you want to get RSS feeds from all available news sources in the UK, far more than you know of. Due to the widespread use of RSS feeds, there are commercial services that have been developed to aggregate RSS feeds from various sources. NewsCatcher (and its Python package `newscatcherapi`) is one of them. Read more about it here: https://github.com/NewscatcherAPI/newscatcherapi-sdk-python\n\n\nIn this exercise, we will run a basic setup of the library. There are far more things that can be done with such aggregators, but our aim is to expose to the tools that you can use in your research.\n\n<div class=\"alert alert-info\">\n\n- First, install the Python package `newscatcherapi`\n\n- Second, register at app.newscatcherapi.com for a free acount and save your access key.\n\n- Finally, as a simple exercise, query the aggregator to collect all news article related to climate and do a value count on the source. \n</div>",
   "metadata": {
    "cell_id": "00040-38c1af94-f846-4434-a34e-dd2970eda57e",
    "deepnote_app_coordinates": {
     "x": 0,
     "y": 360,
     "w": 12,
     "h": 5
    },
    "deepnote_cell_height": 343.79998779296875,
    "deepnote_cell_type": "markdown"
   }
  },
  {
   "cell_type": "code",
   "metadata": {
    "cell_id": "00043-6eac1d6b-8ea3-49d5-a39b-97fd678df6c6",
    "deepnote_to_be_reexecuted": false,
    "source_hash": "ad40862",
    "execution_start": 1643643506837,
    "execution_millis": 3913,
    "deepnote_app_coordinates": {
     "x": 0,
     "y": 366,
     "w": 12,
     "h": 5
    },
    "deepnote_cell_height": 99,
    "deepnote_cell_type": "code"
   },
   "source": "%%capture\n!pip install newscatcherapi",
   "execution_count": null,
   "outputs": []
  },
  {
   "cell_type": "code",
   "metadata": {
    "cell_id": "00044-9b647a23-48bb-4d22-bdcd-aecff74a92a9",
    "deepnote_to_be_reexecuted": false,
    "source_hash": "83236973",
    "execution_start": 1643643510751,
    "execution_millis": 5,
    "deepnote_app_coordinates": {
     "x": 0,
     "y": 372,
     "w": 12,
     "h": 5
    },
    "deepnote_cell_height": 81,
    "deepnote_cell_type": "code"
   },
   "source": "from newscatcherapi import NewsCatcherApiClient",
   "execution_count": null,
   "outputs": []
  },
  {
   "cell_type": "code",
   "metadata": {
    "cell_id": "00045-4f0bd5af-b4e8-4faa-b9e0-ce62be2d0704",
    "deepnote_to_be_reexecuted": false,
    "source_hash": "dcdbd0d2",
    "execution_start": 1643643510759,
    "execution_millis": 1,
    "deepnote_app_coordinates": {
     "x": 0,
     "y": 378,
     "w": 12,
     "h": 5
    },
    "deepnote_cell_height": 207,
    "deepnote_cell_type": "code"
   },
   "source": "newscatcherapi = NewsCatcherApiClient(x_api_key='YOUR API KEY GOES HERE') \n\nall_articles = newscatcherapi.get_search(q='climate',\n                                         lang='en',\n                                         countries='GB',\n                                         page_size=100)\n\ndf_news = pd.DataFrame(all_articles['articles'])",
   "execution_count": null,
   "outputs": []
  },
  {
   "cell_type": "markdown",
   "source": "Explore how NewsCatcher encodes information. What additional fields does this service offer compared to RSS feeds?\nWhere do you think they come from?",
   "metadata": {
    "cell_id": "6ff156b5-a6d5-4ec8-9abb-6e20d84086a0",
    "tags": [],
    "deepnote_cell_height": 74.80000305175781,
    "deepnote_cell_type": "markdown"
   }
  },
  {
   "cell_type": "code",
   "metadata": {
    "cell_id": "f7bf2419-ab23-4c23-975d-83d23f23aed9",
    "tags": [],
    "deepnote_cell_height": 66,
    "deepnote_cell_type": "code"
   },
   "source": "df_news.head()",
   "execution_count": null,
   "outputs": []
  },
  {
   "cell_type": "code",
   "metadata": {
    "cell_id": "00049-2c947df9-5192-4fca-8a4f-6c76ff77513e",
    "deepnote_output_heights": [
     253
    ],
    "deepnote_to_be_reexecuted": false,
    "source_hash": "6b862059",
    "execution_start": 1643643511255,
    "execution_millis": 371,
    "deepnote_app_coordinates": {
     "x": 0,
     "y": 402,
     "w": 12,
     "h": 5
    },
    "deepnote_cell_height": 350,
    "deepnote_cell_type": "code"
   },
   "source": "df_news.clean_url.value_counts()[:10].plot.barh();",
   "execution_count": null,
   "outputs": [
    {
     "data": {
      "text/plain": "<Figure size 432x288 with 1 Axes>",
      "image/png": "[encoded data removed]"
     },
     "metadata": {
      "image/png": {
       "width": 482,
       "height": 251
      }
     },
     "output_type": "display_data"
    }
   ]
  },
  {
   "cell_type": "markdown",
   "source": "<div class=\"alert alert-info\">\n\nNow, reproduce the exercise 4.4 using NewsCatcher. What do you notice in terms of volume of collected articles?\n\n</div>",
   "metadata": {
    "cell_id": "d3a46d6c-8758-4169-a8f4-82d6084baab1",
    "tags": [],
    "deepnote_cell_height": 126.80000305175781,
    "deepnote_cell_type": "markdown"
   }
  },
  {
   "cell_type": "code",
   "metadata": {
    "cell_id": "c11c282e-ba7d-4092-a04c-a450501908ac",
    "tags": [],
    "deepnote_cell_height": 66,
    "deepnote_cell_type": "code"
   },
   "source": "# Your code here (optional)",
   "execution_count": null,
   "outputs": []
  },
  {
   "cell_type": "markdown",
   "source": "## Documenting your final dataset using a ‘datasheet’\n\nIn exercise 4.4, you built a dataset from online sources, parsed, filtered, processed using code you developed. Increasingly, journals and conferences ask researchers to document how they collected data.\n\nGebru et al. proposed in 2018 a new toolkit ([Datasheets for Datasets](https://arxiv.org/abs/1803.09010)) to improve the transparency when releasing datasets as well as the standardise how datasets are described. A ‘datasheet’ documents the motivation behind the dataset creation, the dataset composition, collection process, recommended uses, and many other characteristics. In the words of Gebru et al., the goal is to:\n\n> facilitate better communication between dataset creators and dataset consumers, and encourage the […] community to prioritize transparency and accountability.\n\nThroughout this course, we will aim to build on the practice of documenting our datasets. For each week, the homework  will comprise some form of dataset collection. You will also be required to answer 4-5 questions on the dataset you collect for that week.\n\nYou can find an example of a datasheet here: https://github.com/zykls/folktables/blob/main/datasheet.md for the Folktables Python package. You can think of a datasheet as a set of standardised questions & answers that describe the content and ethics of your dataset.\n\n--------\n\n\n<div class=\"alert alert-info\">\nFor this week's homework, we will start with basic Motivation and Composition questions. Look back at the dataset you assembed for exercise 4.4 and answer the following questions.\n</div>",
   "metadata": {
    "cell_id": "0346d7d9-47c8-47aa-a5d9-906175ba886b",
    "tags": [],
    "deepnote_cell_height": 638.2000122070312,
    "deepnote_cell_type": "markdown"
   }
  },
  {
   "cell_type": "markdown",
   "source": "\n>**For what purpose was the dataset created?** *Was there a specific task in mind? Was there a specific gap that needed to be filled?*\n>\n>...",
   "metadata": {
    "cell_id": "f00a85ff-d1c4-431a-bee3-fd9abb957a02",
    "tags": [],
    "deepnote_cell_height": 125.19999694824219,
    "deepnote_cell_type": "markdown"
   }
  },
  {
   "cell_type": "markdown",
   "source": "\n>**Who created the dataset (e.g., which team) and on behalf of which entity?**\n>\n>...",
   "metadata": {
    "cell_id": "2c29453d-9a5c-4db6-a61e-69a56c27ceed",
    "tags": [],
    "deepnote_cell_height": 102.80000305175781,
    "deepnote_cell_type": "markdown"
   }
  },
  {
   "cell_type": "markdown",
   "source": "\n>**What do the instances that comprise the dataset represent (e.g., documents, photos, people, countries)?** Are there multiple types of instances (e.g., movies, users, and ratings; people and interactions between them; nodes and edges)? Please provide a description.\n>\n>...",
   "metadata": {
    "cell_id": "e7dda19d-6716-4e27-82e5-0286fc0fb20d",
    "tags": [],
    "deepnote_cell_height": 147.60000610351562,
    "deepnote_cell_type": "markdown"
   }
  },
  {
   "cell_type": "markdown",
   "source": "\n>**How many instances are there in total (of each type, if appropriate)?**\n>\n>...\n",
   "metadata": {
    "cell_id": "8a42a497-23ea-44c0-a220-66811c606ba3",
    "tags": [],
    "deepnote_cell_height": 109,
    "deepnote_cell_type": "markdown"
   }
  },
  {
   "cell_type": "markdown",
   "source": "\n\n>**Does the dataset contain all possible instances or is it a sample (not necessarily random) of instances from a larger set? If the dataset is a sample, then what is the larger set? Is the sample representative of the larger set (e.g., geographic coverage)?** If so, please describe how this representativeness was validated/verified. If it is not representative of the larger set, please describe why not (e.g., to cover a more diverse range of instances, because instances were withheld or unavailable)\n>\n>...",
   "metadata": {
    "cell_id": "2c7ef535-4deb-44db-aee0-e549051084fa",
    "tags": [],
    "deepnote_cell_height": 214.8000030517578,
    "deepnote_cell_type": "markdown"
   }
  },
  {
   "cell_type": "code",
   "metadata": {
    "cell_id": "00050-f5268f73-7ce1-40ed-bdb2-76a98c3a7f68",
    "deepnote_to_be_reexecuted": false,
    "source_hash": "b623e53d",
    "execution_start": 1643643511626,
    "execution_millis": 1,
    "deepnote_app_coordinates": {
     "x": 0,
     "y": 408,
     "w": 12,
     "h": 5
    },
    "deepnote_cell_height": 81,
    "deepnote_cell_type": "code"
   },
   "source": "",
   "execution_count": null,
   "outputs": []
  },
  {
   "cell_type": "markdown",
   "source": "<a style='text-decoration:none;line-height:16px;display:flex;color:#5B5B62;padding:10px;justify-content:end;' href='https://deepnote.com?utm_source=created-in-deepnote-cell&projectId=f746e373-dc41-4dbe-b3f9-5f3af42ff658' target=\"_blank\">\n<img alt='Created in deepnote.com' style='display:inline;max-height:16px;margin:0px;margin-right:7.5px;' src='data:image/svg+xml;base64,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' > </img>\nCreated in <span style='font-weight:600;margin-left:4px;'>Deepnote</span></a>",
   "metadata": {
    "tags": [],
    "created_in_deepnote_cell": true,
    "deepnote_cell_type": "markdown"
   }
  }
 ],
 "nbformat": 4,
 "nbformat_minor": 2,
 "metadata": {
  "interpreter": {
   "hash": "c8511966bd1d45a04ebd3c979265354aa9ba6f4b41a10b44ad2e8fd927e54775"
  },
  "kernelspec": {
   "display_name": "Python 3.8.3 64-bit ('base': conda)",
   "language": "python",
   "name": "python3"
  },
  "language_info": {
   "codemirror_mode": {
    "name": "ipython",
    "version": 3
   },
   "file_extension": ".py",
   "mimetype": "text/x-python",
   "name": "python",
   "nbconvert_exporter": "python",
   "pygments_lexer": "ipython3",
   "version": "3.9.0"
  },
  "orig_nbformat": 4,
  "deepnote_notebook_id": "b0de8e2e-9c6c-44b4-842f-b8e5386f8c2c",
  "deepnote": {},
  "deepnote_execution_queue": [],
  "deepnote_app_layout": "article"
 }
}