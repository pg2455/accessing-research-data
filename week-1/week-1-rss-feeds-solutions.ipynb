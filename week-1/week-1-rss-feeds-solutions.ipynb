{
 "cells": [
  {
   "cell_type": "markdown",
   "source": "# Week 1: Parsing RSS feeds",
   "metadata": {
    "tags": [],
    "deepnote_app_coordinates": {
     "x": 0,
     "y": null,
     "w": 12,
     "h": 5
    },
    "cell_id": "93fa9e32-7d6b-4beb-9182-ce0c96489aae",
    "deepnote_cell_type": "markdown",
    "deepnote_cell_height": 82
   }
  },
  {
   "cell_type": "code",
   "metadata": {
    "deepnote_to_be_reexecuted": false,
    "source_hash": "3af68841",
    "execution_start": 1647003815091,
    "execution_millis": 13084,
    "deepnote_app_coordinates": {
     "x": 0,
     "y": 6,
     "w": 12,
     "h": 5
    },
    "cell_id": "00001-606393cb-3302-4755-8f96-ec3c7d8022df",
    "deepnote_cell_type": "code",
    "deepnote_cell_height": 117
   },
   "source": "%%capture\n!pip install --upgrade feedparser\n!pip install --upgrade pandas",
   "execution_count": null,
   "outputs": []
  },
  {
   "cell_type": "code",
   "metadata": {
    "deepnote_to_be_reexecuted": false,
    "source_hash": "5f5b508c",
    "execution_start": 1647003828184,
    "execution_millis": 3197,
    "deepnote_app_coordinates": {
     "x": 0,
     "y": 12,
     "w": 12,
     "h": 5
    },
    "cell_id": "00002-ac99e98a-f17f-4bbe-a168-b7d19d11dde2",
    "deepnote_cell_type": "code",
    "deepnote_cell_height": 99
   },
   "source": "import seaborn as sns\nsns.set()",
   "execution_count": null,
   "outputs": []
  },
  {
   "cell_type": "code",
   "metadata": {
    "deepnote_to_be_reexecuted": false,
    "source_hash": "fe2706b7",
    "execution_start": 1647003831387,
    "execution_millis": 11,
    "deepnote_app_coordinates": {
     "x": 0,
     "y": 18,
     "w": 12,
     "h": 5
    },
    "cell_id": "00003-e348b129-1f03-49b5-9d4c-94ee3cf0eb46",
    "deepnote_cell_type": "code",
    "deepnote_cell_height": 99
   },
   "source": "import pprint\nimport pandas as pd",
   "execution_count": null,
   "outputs": []
  },
  {
   "cell_type": "markdown",
   "source": "## Introduction to parsing RSS feeds\n\nRSS, an acronym for Really Simple Syndication, is a text format for web content syndication. RSS is a standardised format, a dialect of XML, that allows humans and machines to track the content of a website (from articles, news, blogs, to forums) and see what has been changed or updated.\n\nMost blogs and many websites have RSS feeds. For instance, http://feeds.bbci.co.uk/news/rss.xml?edition=uk points to the RSS feed of the BBC. If you click on the previous link, your browser will render a human-readable view of that RSS feed. If you look at the source (_Right click_ then _View Page Source_ of Firefox), you can see what the original RSS syntax look like.\n\nHere are a few more examples of RSS feeds from newspapers:\n- https://www.voanews.com/api/zqgpqoekmmqo\n- https://moxie.foxnews.com/feedburner/latest.xml\n- http://rss.cnn.com/rss/cnn_topstories.rss\n\nAdditionally, head to Wired to hear more about the history and politics of RSS feeds: https://www.wired.com/story/rss-readers-feedly-inoreader-old-reader/\n\nIf you are keen on plugging in to RSS feeds using your browsers, here is a nice tutorial:  https://www.leeds.anglican.org/content/easy-guide-how-do-i-subscribe-rss-feed\n",
   "metadata": {
    "deepnote_app_coordinates": {
     "x": 0,
     "y": 24,
     "w": 12,
     "h": 5
    },
    "cell_id": "00004-55d2d282-9a18-4648-8453-65876563781d",
    "deepnote_cell_type": "markdown",
    "deepnote_cell_height": 475.578125
   }
  },
  {
   "cell_type": "markdown",
   "source": "## Parsing RSS feeds in Python\n\nBelow, you can find a simple toy example of an RSS feed, using the traditional XML markup syntax with its nested tags (begins with < and ends with >).\n\n",
   "metadata": {
    "tags": [],
    "deepnote_app_coordinates": {
     "x": 0,
     "y": 30,
     "w": 12,
     "h": 5
    },
    "cell_id": "00005-d53e5e81-a4ea-4542-b89e-eb394ff2b717",
    "deepnote_cell_type": "markdown",
    "deepnote_cell_height": 130.796875
   }
  },
  {
   "cell_type": "code",
   "metadata": {
    "deepnote_to_be_reexecuted": false,
    "source_hash": "1dd4b3ac",
    "execution_start": 1647003831408,
    "execution_millis": 5,
    "deepnote_app_coordinates": {
     "x": 0,
     "y": 36,
     "w": 12,
     "h": 5
    },
    "cell_id": "00006-7201c821-4e4d-4ed5-ad1d-8d602e295471",
    "deepnote_cell_type": "code",
    "deepnote_cell_height": 423
   },
   "source": "example_rss = \"\"\"<?xml version=\"1.0\" encoding=\"UTF-8\" ?>\n<rss version=\"2.0\">\n\n<channel>\n  <title>W3Schools Home Page</title>\n  <link>https://www.w3schools.com</link>\n  <description>Free web building tutorials</description>\n  <item>\n    <title>RSS Tutorial</title>\n    <link>https://www.w3schools.com/xml/xml_rss.asp</link>\n    <description>New RSS tutorial on W3Schools</description>\n  </item>\n  <item>\n    <title>XML Tutorial</title>\n    <link>https://www.w3schools.com/xml</link>\n    <description>New XML tutorial on W3Schools</description>\n  </item>\n</channel>\n\n</rss>\"\"\"",
   "execution_count": null,
   "outputs": []
  },
  {
   "cell_type": "markdown",
   "source": "Instead of manually parsing this feed in Python, we will use a library (Universal Feed Parser), that automatically converts a string encoding an RSS feed into a dictionary.\n\nUniversal Feed Parser parses many types of syndication feeds found online (RSS 0.90, Netscape RSS 0.91, Userland RSS 0.91, RSS 0.92, RSS 0.93, RSS 0.94, RSS 1.0, RSS 2.0, Atom 0.3, Atom 1.0, CDF feeds…). It is extremely simple to use. The module has one primary public function, `parse`. `parse` takes one required argument, either a URL, a local filename, or a string containing feed data in any format.",
   "metadata": {
    "tags": [],
    "deepnote_app_coordinates": {
     "x": 0,
     "y": 42,
     "w": 12,
     "h": 5
    },
    "cell_id": "00007-1a7ba36e-b213-4ebb-b910-86773c655a1b",
    "deepnote_cell_type": "markdown",
    "deepnote_cell_height": 178.390625
   }
  },
  {
   "cell_type": "code",
   "metadata": {
    "tags": [],
    "deepnote_to_be_reexecuted": false,
    "source_hash": "4183eb0e",
    "execution_start": 1647003831416,
    "execution_millis": 47,
    "deepnote_app_coordinates": {
     "x": 0,
     "y": 48,
     "w": 12,
     "h": 5
    },
    "cell_id": "00008-2cd88f96-700c-4a98-ad54-9df8789db003",
    "deepnote_cell_type": "code",
    "deepnote_cell_height": 81
   },
   "source": "import feedparser",
   "execution_count": null,
   "outputs": []
  },
  {
   "cell_type": "markdown",
   "source": "Below, we parse the feed encoded in the string `example_rss` into a dictionary named `parsed_rss`. We then print it using `pprint.pprint` instead of the usual `print`. `pprint` is a standard Python module that let you “pretty-print” objects in a nicer form.",
   "metadata": {
    "tags": [],
    "deepnote_to_be_reexecuted": false,
    "source_hash": "c5e56340",
    "execution_start": 1643577373571,
    "execution_millis": 20,
    "deepnote_app_coordinates": {
     "x": 0,
     "y": 54,
     "w": 12,
     "h": 5
    },
    "cell_id": "00009-5f0f43d4-f3f8-4069-8660-b8a22a771758",
    "deepnote_cell_type": "markdown",
    "deepnote_cell_height": 97.1875
   }
  },
  {
   "cell_type": "code",
   "metadata": {
    "deepnote_to_be_reexecuted": false,
    "source_hash": "1a920f86",
    "execution_start": 1647003831472,
    "execution_millis": 286,
    "deepnote_app_coordinates": {
     "x": 0,
     "y": 60,
     "w": 12,
     "h": 5
    },
    "cell_id": "00010-df9e1140-1f1e-409d-a9c5-f2f993bcbcdf",
    "deepnote_cell_type": "code",
    "deepnote_cell_height": 719
   },
   "source": "parsed_rss = feedparser.parse(example_rss)\npprint.pprint(parsed_rss)",
   "execution_count": null,
   "outputs": [
    {
     "name": "stdout",
     "text": "{'bozo': False,\n 'encoding': 'utf-8',\n 'entries': [{'link': 'https://www.w3schools.com/xml/xml_rss.asp',\n              'links': [{'href': 'https://www.w3schools.com/xml/xml_rss.asp',\n                         'rel': 'alternate',\n                         'type': 'text/html'}],\n              'summary': 'New RSS tutorial on W3Schools',\n              'summary_detail': {'base': '',\n                                 'language': None,\n                                 'type': 'text/html',\n                                 'value': 'New RSS tutorial on W3Schools'},\n              'title': 'RSS Tutorial',\n              'title_detail': {'base': '',\n                               'language': None,\n                               'type': 'text/plain',\n                               'value': 'RSS Tutorial'}},\n             {'link': 'https://www.w3schools.com/xml',\n              'links': [{'href': 'https://www.w3schools.com/xml',\n                         'rel': 'alternate',\n                         'type': 'text/html'}],\n              'summary': 'New XML tutorial on W3Schools',\n              'summary_detail': {'base': '',\n                                 'language': None,\n                                 'type': 'text/html',\n                                 'value': 'New XML tutorial on W3Schools'},\n              'title': 'XML Tutorial',\n              'title_detail': {'base': '',\n                               'language': None,\n                               'type': 'text/plain',\n                               'value': 'XML Tutorial'}}],\n 'feed': {'link': 'https://www.w3schools.com',\n          'links': [{'href': 'https://www.w3schools.com',\n                     'rel': 'alternate',\n                     'type': 'text/html'}],\n          'subtitle': 'Free web building tutorials',\n          'subtitle_detail': {'base': '',\n                              'language': None,\n                              'type': 'text/html',\n                              'value': 'Free web building tutorials'},\n          'title': 'W3Schools Home Page',\n          'title_detail': {'base': '',\n                           'language': None,\n                           'type': 'text/plain',\n                           'value': 'W3Schools Home Page'}},\n 'headers': {},\n 'namespaces': {},\n 'version': 'rss20'}\n",
     "output_type": "stream"
    }
   ]
  },
  {
   "cell_type": "markdown",
   "source": "You can read more about the processing and sanitisation performed by Universal Feed parser on the module documentation at https://feedparser.readthedocs.io/en/latest/.\n\nBriefly, the `feedparser.parse` function returns a dictionary with:\n1. a few metadata related to the parsing (bozo, encoding, version…),\n2. information about the feed itself (link, title, subtitle),\n3. and a list of all the entries.",
   "metadata": {
    "tags": [],
    "deepnote_app_coordinates": {
     "x": 0,
     "y": 66,
     "w": 12,
     "h": 5
    },
    "cell_id": "00011-7d2bfba5-1d10-4a07-a3a3-8e25aa8ef61c",
    "deepnote_cell_type": "markdown",
    "deepnote_cell_height": 212.390625
   }
  },
  {
   "cell_type": "code",
   "metadata": {
    "deepnote_to_be_reexecuted": false,
    "source_hash": "6f5d4153",
    "execution_start": 1647003831543,
    "execution_millis": 222,
    "deepnote_app_coordinates": {
     "x": 0,
     "y": 72,
     "w": 12,
     "h": 5
    },
    "cell_id": "00012-395263a0-ec4c-45df-887f-7bb49d7f0e04",
    "deepnote_cell_type": "code",
    "deepnote_cell_height": 136.1875,
    "deepnote_output_heights": [
     21.1875
    ]
   },
   "source": "# General informations about the channel:\nparsed_rss['feed']['title'], parsed_rss['feed']['link']",
   "execution_count": null,
   "outputs": [
    {
     "output_type": "execute_result",
     "execution_count": 7,
     "data": {
      "text/plain": "('W3Schools Home Page', 'https://www.w3schools.com')"
     },
     "metadata": {}
    }
   ]
  },
  {
   "cell_type": "code",
   "metadata": {
    "deepnote_to_be_reexecuted": false,
    "source_hash": "93161094",
    "execution_start": 1647003831586,
    "execution_millis": 181,
    "deepnote_app_coordinates": {
     "x": 0,
     "y": 78,
     "w": 12,
     "h": 5
    },
    "cell_id": "00013-7205fc47-5cf2-461d-99d8-4d19e31e43a0",
    "deepnote_cell_type": "code",
    "deepnote_cell_height": 129.6875
   },
   "source": "nb_articles = len(parsed_rss['entries'])\nprint(f\"The RSS feed has {nb_articles} entries\")",
   "execution_count": null,
   "outputs": [
    {
     "name": "stdout",
     "text": "The RSS feed has 2 entries\n",
     "output_type": "stream"
    }
   ]
  },
  {
   "cell_type": "code",
   "metadata": {
    "deepnote_to_be_reexecuted": false,
    "source_hash": "d2c32d93",
    "execution_start": 1647003831587,
    "execution_millis": 0,
    "deepnote_app_coordinates": {
     "x": 0,
     "y": 84,
     "w": 12,
     "h": 5
    },
    "cell_id": "00014-d71ea2f9-e923-406b-b61f-4572d943c024",
    "deepnote_cell_type": "code",
    "deepnote_cell_height": 203.390625
   },
   "source": "# Printing out the title and link of each entry:\nfor entry in parsed_rss['entries']:\n    title = entry['title']\n    link = entry['link']\n    print(f\"{title} -- {link}\")",
   "execution_count": null,
   "outputs": [
    {
     "name": "stdout",
     "text": "RSS Tutorial -- https://www.w3schools.com/xml/xml_rss.asp\nXML Tutorial -- https://www.w3schools.com/xml\n",
     "output_type": "stream"
    }
   ]
  },
  {
   "cell_type": "markdown",
   "source": "## Exercise 1: loading and parsing a remote feed\n\n<div class=\"alert alert-info\">\n\n##### Exercise 1.1\nGo to https://www.bbc.co.uk/news/10628494 and find the URL of the main news RSS feed.\nCopy it below and load the RSS feed using feedparser.\n</div>",
   "metadata": {
    "deepnote_app_coordinates": {
     "x": 0,
     "y": 90,
     "w": 12,
     "h": 5
    },
    "cell_id": "00015-17d37b4b-147c-4974-a7ba-ea67b5d524c5",
    "deepnote_cell_type": "markdown",
    "deepnote_cell_height": 218.796875
   }
  },
  {
   "cell_type": "code",
   "metadata": {
    "deepnote_to_be_reexecuted": false,
    "source_hash": "b5b6466c",
    "execution_start": 1647003831588,
    "execution_millis": 180,
    "deepnote_app_coordinates": {
     "x": 0,
     "y": 96,
     "w": 12,
     "h": 5
    },
    "cell_id": "00016-c3983d96-bf5d-4734-a5de-a8df2eff684d",
    "deepnote_cell_type": "code",
    "deepnote_cell_height": 81
   },
   "source": "d = feedparser.parse('feed://feeds.bbci.co.uk/news/rss.xml')",
   "execution_count": null,
   "outputs": []
  },
  {
   "cell_type": "markdown",
   "source": "<div class=\"alert alert-info\">\n\n##### Exercise 1.2\n\nPrint the number of entries in the feed and print the titles of the first five entries\n\n</div>",
   "metadata": {
    "tags": [],
    "deepnote_app_coordinates": {
     "x": 0,
     "y": 102,
     "w": 12,
     "h": 5
    },
    "cell_id": "00017-2604b5cd-99a8-4859-b8a3-e7d079b2d461",
    "deepnote_cell_type": "markdown",
    "deepnote_cell_height": 140.390625
   }
  },
  {
   "cell_type": "code",
   "metadata": {
    "deepnote_to_be_reexecuted": false,
    "source_hash": "37d354e1",
    "execution_start": 1647003831698,
    "execution_millis": 1210396925,
    "deepnote_app_coordinates": {
     "x": 0,
     "y": 108,
     "w": 12,
     "h": 5
    },
    "cell_id": "00018-1d1f5a8f-aa21-4ed1-b27c-9134fdd76a3a",
    "deepnote_cell_type": "code",
    "deepnote_cell_height": 301.859375
   },
   "source": "# Solution:\nprint(f\"The feed has {len(d['entries'])} entries\\n\")\n\nfor entry in d['entries'][:5]:\n    print(entry['title'])",
   "execution_count": null,
   "outputs": [
    {
     "name": "stdout",
     "text": "The feed has 51 entries\n\nOn the front line of the battle for Kharkiv\nUkraine war: Large Russian convoy redeploys near Kyiv - satellite images\nUkraine war: People can welcome refugees into their homes - PM\nUkraine brings significant economic uncertainty, Rishi Sunak warns\nUkraine war: Putin seeks foreign volunteers to fight in Ukraine\n",
     "output_type": "stream"
    }
   ]
  },
  {
   "cell_type": "markdown",
   "source": "## Exercise 2: Storing RSS Feeds for later use\n\n\n<div class=\"alert alert-info\">\n\n##### Exercise 2.1\n\nFirst, we are going to convert the entries dictionary into a [pandas DataFrame](https://pandas.pydata.org/pandas-docs/stable/user_guide/dsintro.html#dataframe).\n\n<ul>\n<li>Keep only the four following columns: `title`, `summary`, `link`, `published`.</li>\n<li>Convert `published` to the standard `datetime` object interpretable by Python. </li>\n<li>Check the first few entries in the resulting dataframe</li>\n</ul>\n\n</div>",
   "metadata": {
    "deepnote_app_coordinates": {
     "x": 0,
     "y": 114,
     "w": 12,
     "h": 5
    },
    "cell_id": "00019-035b73d2-025d-4811-ae6f-8e1ddf46b999",
    "deepnote_cell_type": "markdown",
    "deepnote_cell_height": 283.59375
   }
  },
  {
   "cell_type": "code",
   "metadata": {
    "deepnote_to_be_reexecuted": false,
    "source_hash": "cf2047e3",
    "execution_start": 1647003831699,
    "execution_millis": 70,
    "deepnote_app_coordinates": {
     "x": 0,
     "y": 120,
     "w": 12,
     "h": 5
    },
    "cell_id": "00020-3d8f8427-5922-4624-8952-a9eff8be56dd",
    "deepnote_cell_type": "code",
    "deepnote_cell_height": 99
   },
   "source": "# Solution:\ndf = pd.DataFrame(d.entries, columns=['title', 'summary', 'link', 'published'])",
   "execution_count": null,
   "outputs": []
  },
  {
   "cell_type": "code",
   "metadata": {
    "deepnote_to_be_reexecuted": false,
    "source_hash": "d964a994",
    "execution_start": 1647003831700,
    "execution_millis": 0,
    "deepnote_app_coordinates": {
     "x": 0,
     "y": 126,
     "w": 12,
     "h": 5
    },
    "cell_id": "00021-fc01b92b-ee94-4212-a380-62d709abd218",
    "deepnote_cell_type": "code",
    "deepnote_cell_height": 99
   },
   "source": "# Convert the published column to a standard datetime object:\ndf.published = pd.to_datetime(df.published)",
   "execution_count": null,
   "outputs": []
  },
  {
   "cell_type": "code",
   "metadata": {
    "tags": [],
    "deepnote_to_be_reexecuted": false,
    "source_hash": "9d9bfc8f",
    "execution_start": 1647004052004,
    "execution_millis": 121,
    "cell_id": "00022-a3342bb1-78e1-4391-a238-66f09e0dc3e7",
    "deepnote_cell_type": "code",
    "deepnote_cell_height": 634
   },
   "source": "# how to filter non null values \ntmp_filter = df['summary'].isnull()\ndf[~tmp_filter]",
   "execution_count": null,
   "outputs": [
    {
     "output_type": "execute_result",
     "execution_count": 19,
     "data": {
      "application/vnd.deepnote.dataframe.v3+json": {
       "column_count": 4,
       "row_count": 51,
       "columns": [
        {
         "name": "title",
         "dtype": "object",
         "stats": {
          "unique_count": 51,
          "nan_count": 0,
          "categories": [
           {
            "name": "On the front line of the battle for Kharkiv",
            "count": 1
           },
           {
            "name": "Ukraine war: Large Russian convoy redeploys near Kyiv - satellite images",
            "count": 1
           },
           {
            "name": "49 others",
            "count": 49
           }
          ]
         }
        },
        {
         "name": "summary",
         "dtype": "object",
         "stats": {
          "unique_count": 51,
          "nan_count": 0,
          "categories": [
           {
            "name": "Quentin Sommerville and cameraman Darren Conway are with Ukrainian forces fighting to stop the Russian advance on the country's second city.",
            "count": 1
           },
           {
            "name": "Images of the convoy's redeployment appear to signal a renewed push towards the Ukrainian capital.",
            "count": 1
           },
           {
            "name": "49 others",
            "count": 49
           }
          ]
         }
        },
        {
         "name": "link",
         "dtype": "object",
         "stats": {
          "unique_count": 51,
          "nan_count": 0,
          "categories": [
           {
            "name": "https://www.bbc.co.uk/news/world-europe-60693166?at_medium=RSS&at_campaign=KARANGA",
            "count": 1
           },
           {
            "name": "https://www.bbc.co.uk/news/world-europe-60702464?at_medium=RSS&at_campaign=KARANGA",
            "count": 1
           },
           {
            "name": "49 others",
            "count": 49
           }
          ]
         }
        },
        {
         "name": "published",
         "dtype": "datetime64[ns, UTC]",
         "stats": {
          "unique_count": 51,
          "nan_count": 0,
          "min": "2022-03-09 18:22:06+00:00",
          "max": "2022-03-11 12:56:06+00:00",
          "histogram": [
           {
            "bin_start": 1646850126000000000,
            "bin_end": 1646865450000000000,
            "count": 1
           },
           {
            "bin_start": 1646865450000000000,
            "bin_end": 1646880774000000000,
            "count": 6
           },
           {
            "bin_start": 1646880774000000000,
            "bin_end": 1646896098000000000,
            "count": 0
           },
           {
            "bin_start": 1646896098000000000,
            "bin_end": 1646911422000000000,
            "count": 2
           },
           {
            "bin_start": 1646911422000000000,
            "bin_end": 1646926746000000000,
            "count": 3
           },
           {
            "bin_start": 1646926746000000000,
            "bin_end": 1646942070000000000,
            "count": 10
           },
           {
            "bin_start": 1646942070000000000,
            "bin_end": 1646957394000000000,
            "count": 5
           },
           {
            "bin_start": 1646957394000000000,
            "bin_end": 1646972718000000000,
            "count": 3
           },
           {
            "bin_start": 1646972718000000000,
            "bin_end": 1646988042000000000,
            "count": 5
           },
           {
            "bin_start": 1646988042000000000,
            "bin_end": 1647003366000000000,
            "count": 16
           }
          ]
         }
        },
        {
         "name": "_deepnote_index_column",
         "dtype": "int64"
        }
       ],
       "rows": [
        {
         "title": "On the front line of the battle for Kharkiv",
         "summary": "Quentin Sommerville and cameraman Darren Conway are with Ukrainian forces fighting to stop the Russ…",
         "link": "https://www.bbc.co.uk/news/world-europe-60693166?at_medium=RSS&at_campaign=KARANGA",
         "published": "2022-03-10T17:04:13.000000",
         "_deepnote_index_column": 0
        },
        {
         "title": "Ukraine war: Large Russian convoy redeploys near Kyiv - satellite images",
         "summary": "Images of the convoy's redeployment appear to signal a renewed push towards the Ukrainian capital.",
         "link": "https://www.bbc.co.uk/news/world-europe-60702464?at_medium=RSS&at_campaign=KARANGA",
         "published": "2022-03-11T08:40:54.000000",
         "_deepnote_index_column": 1
        },
        {
         "title": "Ukraine war: People can welcome refugees into their homes - PM",
         "summary": "Details of a sponsorship visa scheme to host Ukrainians will be revealed on Monday, Boris Johnson s…",
         "link": "https://www.bbc.co.uk/news/uk-60701941?at_medium=RSS&at_campaign=KARANGA",
         "published": "2022-03-11T12:28:00.000000",
         "_deepnote_index_column": 2
        },
        {
         "title": "Ukraine brings significant economic uncertainty, Rishi Sunak warns",
         "summary": "The UK economy rebounds in January but the chancellor warns of uncertainty due to the invasion of U…",
         "link": "https://www.bbc.co.uk/news/business-60699815?at_medium=RSS&at_campaign=KARANGA",
         "published": "2022-03-11T11:32:38.000000",
         "_deepnote_index_column": 3
        },
        {
         "title": "Ukraine war: Putin seeks foreign volunteers to fight in Ukraine",
         "summary": "\"We need to give them what they want and help them get to the conflict zone,\" the Russian leader sa…",
         "link": "https://www.bbc.co.uk/news/world-europe-60705486?at_medium=RSS&at_campaign=KARANGA",
         "published": "2022-03-11T10:41:28.000000",
         "_deepnote_index_column": 4
        },
        {
         "title": "Sarah Everard: Met Police breached rights of vigil organisers",
         "summary": "Police forced the four vigil organisers to cancel their plans to mark the death of Sarah Everard.",
         "link": "https://www.bbc.co.uk/news/uk-england-london-60707646?at_medium=RSS&at_campaign=KARANGA",
         "published": "2022-03-11T11:26:54.000000",
         "_deepnote_index_column": 5
        },
        {
         "title": "Which companies are pulling out of Russia?",
         "summary": "Reputational risk and practical difficulties means the exodus of firms is growing but some remain.",
         "link": "https://www.bbc.co.uk/news/business-60571133?at_medium=RSS&at_campaign=KARANGA",
         "published": "2022-03-11T11:41:47.000000",
         "_deepnote_index_column": 6
        },
        {
         "title": "War in Ukraine: Facebook to allow calls for violence against Putin",
         "summary": "In response, Russia has called on the US to stop the \"extremist activities\" of parent company Meta.",
         "link": "https://www.bbc.co.uk/news/technology-60702619?at_medium=RSS&at_campaign=KARANGA",
         "published": "2022-03-11T07:50:54.000000",
         "_deepnote_index_column": 7
        },
        {
         "title": "Jussie Smollett sentenced to 150 days in jail in attack hoax case",
         "summary": "A Chicago judge told Jussie Smollett that he has \"turned his life upside down\" with the hoax.",
         "link": "https://www.bbc.co.uk/news/world-us-canada-60695975?at_medium=RSS&at_campaign=KARANGA",
         "published": "2022-03-11T01:58:32.000000",
         "_deepnote_index_column": 8
        },
        {
         "title": "Redditch Asda stabbing: Boy, 14, charged with murder",
         "summary": "The teenager appears in court charged with murder and is remanded in custody.",
         "link": "https://www.bbc.co.uk/news/uk-england-hereford-worcester-60703984?at_medium=RSS&at_campaign=KARANGA",
         "published": "2022-03-11T10:45:13.000000",
         "_deepnote_index_column": 9
        }
       ]
      },
      "text/plain": "                                                title  \\\n0         On the front line of the battle for Kharkiv   \n1   Ukraine war: Large Russian convoy redeploys ne...   \n2   Ukraine war: People can welcome refugees into ...   \n3   Ukraine brings significant economic uncertaint...   \n4   Ukraine war: Putin seeks foreign volunteers to...   \n5   Sarah Everard: Met Police breached rights of v...   \n6          Which companies are pulling out of Russia?   \n7   War in Ukraine: Facebook to allow calls for vi...   \n8   Jussie Smollett sentenced to 150 days in jail ...   \n9   Redditch Asda stabbing: Boy, 14, charged with ...   \n10     Katy Perry wins in Dark Horse copyright appeal   \n11  Winter Paralympics: Ollie Hill wins bronze for...   \n12  Watch: Our correspondent on the front line, wi...   \n13  Ukraine maps: At-a-glance guide to the Russia war   \n14  Ukraine war: Images reveal scale of destructio...   \n15  Ukraine war: 'I have 20 children here, please ...   \n16  What is a war crime, and could Putin be prosec...   \n17  War in Ukraine: A family's 'torturous' UK visa...   \n18  Ukraine: What sanctions are being imposed on R...   \n19  Ukraine: What happened on day 15 of Russia's i...   \n20  Ukraine war: Column of Russian tanks ambushed ...   \n21  WATCH: Disposal experts defuse unexploded bomb...   \n22  Roman Abramovich: What do Russian owner's sanc...   \n23              What is a thermobaric or vacuum bomb?   \n24  Quiz of the week: Who helped Dolly write a novel?   \n25  Pregnancy loss: 'I just don't think we're bein...   \n26  The Papers: 'Roman empire falls' and 'hotline ...   \n27  Russia-Ukraine war: Foreign fighters go to joi...   \n28  Ukraine war: Indian students on the trauma of ...   \n29       UK boy donates teddy bear to Ukrainian child   \n30  Classic Queen cover art for A Day at the Races...   \n31             The Ukrainian sisters separated by war   \n32  Gracie Spinks: Receipt could have traced kille...   \n33                 ‘It was a nightmare in that place’   \n34  Climate change: Can the Russian energy crisis ...   \n35         Does your boss really care what you think?   \n36  Covid-19 in the UK: How many coronavirus cases...   \n37  Timbuktu manuscripts: Mali's ancient documents...   \n38    The Capitol riot trial that tore a family apart   \n39  Ukraine war: How reliant is the world on Russi...   \n40            Fact-checking PM's claim about refugees   \n41  Israel's Bennett plays peacemaker in Ukraine-R...   \n42  Winter Paralympics: 'I chose to have my leg am...   \n43  Drought robs Amazon communities of 'life-givin...   \n44  Kidney donor: I call my remaining one Home Alo...   \n45  The Marvellous Neil Baldwin is back to make us...   \n46       Chelsea fans urged to stop Abramovich chants   \n47  England 'really optimistic' unwell Itoje will ...   \n48  'Caged lion' Joshua could fight Wilder or Joyc...   \n49  Players Championship: Ian Poulter sprints to f...   \n50  MOTD Rewind: Man Utd 1-6 Tottenham - How Spurs...   \n\n                                              summary  \\\n0   Quentin Sommerville and cameraman Darren Conwa...   \n1   Images of the convoy's redeployment appear to ...   \n2   Details of a sponsorship visa scheme to host U...   \n3   The UK economy rebounds in January but the cha...   \n4   \"We need to give them what they want and help ...   \n5   Police forced the four vigil organisers to can...   \n6   Reputational risk and practical difficulties m...   \n7   In response, Russia has called on the US to st...   \n8   A Chicago judge told Jussie Smollett that he h...   \n9   The teenager appears in court charged with mur...   \n10  Perry will no longer have to pay the rapper Fl...   \n11  Debutant Ollie Hill wins Britain's first Paral...   \n12  The BBC spent a week with Ukrainian forces in ...   \n13  Russian troops have expanded their offensive a...   \n14  Photos and satellite images show the devastati...   \n15  Tens of thousands of children in Ukrainian sta...   \n16  If Russia has carried out war crimes in Ukrain...   \n17  Luke Morgan has spent the last fortnight helpi...   \n18  Western nations have imposed severe sanctions ...   \n19  On the frontline in the battle for Kharkiv - a...   \n20  Drone footage appears to show Russian tanks un...   \n21  An unexploded 500kg (1102lb) bomb was discover...   \n22  What do sanctions imposed on Roman Abramovich ...   \n23  What is a thermobaric or vacuum bomb, and why ...   \n24  How closely have you been paying attention to ...   \n25  Four black women explain their devastating exp...   \n26  Claims the Chelsea owner has \"blood on his han...   \n27  Nearly 20,000 international volunteers have si...   \n28  The BBC follows some of the thousands of stude...   \n29  Will decided to help after finding out from hi...   \n30  The piece was by David Costa, an artist who wo...   \n31  Tetyana Nesterchuk is safe in London while her...   \n32  A bag of weapons found before she died has bee...   \n33  For abuse survivors, Friday's apology has been...   \n34  An energy strategy is due - but can it get the...   \n35  The real reasons companies are making an extra...   \n36  Explore the data on coronavirus in the UK and ...   \n37  The thousands of manuscripts contain centuries...   \n38  Guy Reffitt was convicted of taking part in th...   \n39  Russia has threatened to cut off gas supplies ...   \n40  The PM claimed the UK had done more to resettl...   \n41  Prime Minister Naftali Bennett is an unlikely ...   \n42  Musician Shona chose to have her leg amputated...   \n43  Low water levels mean riverside communities lo...   \n44  Azeem Ahmad, who donated one of his kidneys to...   \n45  Baldwin was played by Toby Jones in the Bafta-...   \n46  Chelsea supporters are urged to stop chanting ...   \n47  England lock Maro Itoje was unwell overnight, ...   \n48  Anthony Joshua is refusing to take an \"easy in...   \n49  Ian Poulter sprints to complete his birdie on ...   \n50  Watch how Tottenham Hotspur pulled off one of ...   \n\n                                                 link  \\\n0   https://www.bbc.co.uk/news/world-europe-606931...   \n1   https://www.bbc.co.uk/news/world-europe-607024...   \n2   https://www.bbc.co.uk/news/uk-60701941?at_medi...   \n3   https://www.bbc.co.uk/news/business-60699815?a...   \n4   https://www.bbc.co.uk/news/world-europe-607054...   \n5   https://www.bbc.co.uk/news/uk-england-london-6...   \n6   https://www.bbc.co.uk/news/business-60571133?a...   \n7   https://www.bbc.co.uk/news/technology-60702619...   \n8   https://www.bbc.co.uk/news/world-us-canada-606...   \n9   https://www.bbc.co.uk/news/uk-england-hereford...   \n10  https://www.bbc.co.uk/news/entertainment-arts-...   \n11  https://www.bbc.co.uk/sport/winter-sports/6070...   \n12  https://www.bbc.co.uk/news/world-europe-606995...   \n13  https://www.bbc.co.uk/news/world-europe-605066...   \n14  https://www.bbc.co.uk/news/world-europe-606954...   \n15  https://www.bbc.co.uk/news/world-europe-606675...   \n16  https://www.bbc.co.uk/news/world-60690688?at_m...   \n17  https://www.bbc.co.uk/news/world-europe-606954...   \n18  https://www.bbc.co.uk/news/world-europe-601256...   \n19  https://www.bbc.co.uk/news/world-europe-606975...   \n20  https://www.bbc.co.uk/news/world-europe-606993...   \n21  https://www.bbc.co.uk/news/world-europe-606895...   \n22  https://www.bbc.co.uk/sport/football/60684038?...   \n23  https://www.bbc.co.uk/news/business-60571395?a...   \n24  https://www.bbc.co.uk/news/world-60685025?at_m...   \n25  https://www.bbc.co.uk/news/world-us-canada-606...   \n26  https://www.bbc.co.uk/news/blogs-the-papers-60...   \n27  https://www.bbc.co.uk/news/world-europe-606966...   \n28  https://www.bbc.co.uk/news/world-asia-60689267...   \n29  https://www.bbc.co.uk/news/uk-england-tees-606...   \n30  https://www.bbc.co.uk/news/uk-england-wiltshir...   \n31  https://www.bbc.co.uk/news/uk-england-london-6...   \n32  https://www.bbc.co.uk/news/uk-england-derbyshi...   \n33  https://www.bbc.co.uk/news/uk-northern-ireland...   \n34  https://www.bbc.co.uk/news/uk-politics-6068392...   \n35  https://www.bbc.co.uk/news/business-60381024?a...   \n36  https://www.bbc.co.uk/news/uk-51768274?at_medi...   \n37  https://www.bbc.co.uk/news/world-africa-606896...   \n38  https://www.bbc.co.uk/news/world-us-canada-606...   \n39  https://www.bbc.co.uk/news/58888451?at_medium=...   \n40  https://www.bbc.co.uk/news/60679290?at_medium=...   \n41  https://www.bbc.co.uk/news/world-middle-east-6...   \n42  https://www.bbc.co.uk/news/disability-60642118...   \n43  https://www.bbc.co.uk/news/world-latin-america...   \n44  https://www.bbc.co.uk/news/health-60661268?at_...   \n45  https://www.bbc.co.uk/news/entertainment-arts-...   \n46  https://www.bbc.co.uk/sport/football/60704463?...   \n47  https://www.bbc.co.uk/sport/rugby-union/606674...   \n48  https://www.bbc.co.uk/sport/boxing/60697861?at...   \n49  https://www.bbc.co.uk/sport/av/golf/60706881?a...   \n50  https://www.bbc.co.uk/sport/av/football/589038...   \n\n                   published  \n0  2022-03-10 17:04:13+00:00  \n1  2022-03-11 08:40:54+00:00  \n2  2022-03-11 12:28:00+00:00  \n3  2022-03-11 11:32:38+00:00  \n4  2022-03-11 10:41:28+00:00  \n5  2022-03-11 11:26:54+00:00  \n6  2022-03-11 11:41:47+00:00  \n7  2022-03-11 07:50:54+00:00  \n8  2022-03-11 01:58:32+00:00  \n9  2022-03-11 10:45:13+00:00  \n10 2022-03-11 10:34:51+00:00  \n11 2022-03-11 08:37:03+00:00  \n12 2022-03-10 22:47:46+00:00  \n13 2022-03-11 10:50:19+00:00  \n14 2022-03-10 16:53:10+00:00  \n15 2022-03-11 00:01:01+00:00  \n16 2022-03-10 12:14:57+00:00  \n17 2022-03-10 17:49:20+00:00  \n18 2022-03-10 17:16:09+00:00  \n19 2022-03-10 22:02:16+00:00  \n20 2022-03-10 16:44:30+00:00  \n21 2022-03-10 09:12:48+00:00  \n22 2022-03-11 06:47:16+00:00  \n23 2022-03-10 11:34:56+00:00  \n24 2022-03-10 17:35:44+00:00  \n25 2022-03-11 04:26:46+00:00  \n26 2022-03-11 05:29:57+00:00  \n27 2022-03-11 00:02:52+00:00  \n28 2022-03-10 14:23:59+00:00  \n29 2022-03-10 16:50:38+00:00  \n30 2022-03-10 17:17:35+00:00  \n31 2022-03-11 11:36:00+00:00  \n32 2022-03-11 02:07:24+00:00  \n33 2022-03-11 12:27:59+00:00  \n34 2022-03-11 01:59:25+00:00  \n35 2022-03-11 00:09:13+00:00  \n36 2022-03-10 17:28:59+00:00  \n37 2022-03-10 17:10:58+00:00  \n38 2022-03-09 23:35:41+00:00  \n39 2022-03-10 11:22:57+00:00  \n40 2022-03-09 18:22:06+00:00  \n41 2022-03-10 00:57:16+00:00  \n42 2022-03-10 01:16:37+00:00  \n43 2022-03-10 01:13:51+00:00  \n44 2022-03-10 01:18:17+00:00  \n45 2022-03-10 01:20:18+00:00  \n46 2022-03-11 12:23:32+00:00  \n47 2022-03-11 12:31:22+00:00  \n48 2022-03-11 10:59:46+00:00  \n49 2022-03-11 10:22:44+00:00  \n50 2022-03-11 12:56:06+00:00  ",
      "text/html": "<div>\n<style scoped>\n    .dataframe tbody tr th:only-of-type {\n        vertical-align: middle;\n    }\n\n    .dataframe tbody tr th {\n        vertical-align: top;\n    }\n\n    .dataframe thead th {\n        text-align: right;\n    }\n</style>\n<table border=\"1\" class=\"dataframe\">\n  <thead>\n    <tr style=\"text-align: right;\">\n      <th></th>\n      <th>title</th>\n      <th>summary</th>\n      <th>link</th>\n      <th>published</th>\n    </tr>\n  </thead>\n  <tbody>\n    <tr>\n      <th>0</th>\n      <td>On the front line of the battle for Kharkiv</td>\n      <td>Quentin Sommerville and cameraman Darren Conwa...</td>\n      <td>https://www.bbc.co.uk/news/world-europe-606931...</td>\n      <td>2022-03-10 17:04:13+00:00</td>\n    </tr>\n    <tr>\n      <th>1</th>\n      <td>Ukraine war: Large Russian convoy redeploys ne...</td>\n      <td>Images of the convoy's redeployment appear to ...</td>\n      <td>https://www.bbc.co.uk/news/world-europe-607024...</td>\n      <td>2022-03-11 08:40:54+00:00</td>\n    </tr>\n    <tr>\n      <th>2</th>\n      <td>Ukraine war: People can welcome refugees into ...</td>\n      <td>Details of a sponsorship visa scheme to host U...</td>\n      <td>https://www.bbc.co.uk/news/uk-60701941?at_medi...</td>\n      <td>2022-03-11 12:28:00+00:00</td>\n    </tr>\n    <tr>\n      <th>3</th>\n      <td>Ukraine brings significant economic uncertaint...</td>\n      <td>The UK economy rebounds in January but the cha...</td>\n      <td>https://www.bbc.co.uk/news/business-60699815?a...</td>\n      <td>2022-03-11 11:32:38+00:00</td>\n    </tr>\n    <tr>\n      <th>4</th>\n      <td>Ukraine war: Putin seeks foreign volunteers to...</td>\n      <td>\"We need to give them what they want and help ...</td>\n      <td>https://www.bbc.co.uk/news/world-europe-607054...</td>\n      <td>2022-03-11 10:41:28+00:00</td>\n    </tr>\n    <tr>\n      <th>5</th>\n      <td>Sarah Everard: Met Police breached rights of v...</td>\n      <td>Police forced the four vigil organisers to can...</td>\n      <td>https://www.bbc.co.uk/news/uk-england-london-6...</td>\n      <td>2022-03-11 11:26:54+00:00</td>\n    </tr>\n    <tr>\n      <th>6</th>\n      <td>Which companies are pulling out of Russia?</td>\n      <td>Reputational risk and practical difficulties m...</td>\n      <td>https://www.bbc.co.uk/news/business-60571133?a...</td>\n      <td>2022-03-11 11:41:47+00:00</td>\n    </tr>\n    <tr>\n      <th>7</th>\n      <td>War in Ukraine: Facebook to allow calls for vi...</td>\n      <td>In response, Russia has called on the US to st...</td>\n      <td>https://www.bbc.co.uk/news/technology-60702619...</td>\n      <td>2022-03-11 07:50:54+00:00</td>\n    </tr>\n    <tr>\n      <th>8</th>\n      <td>Jussie Smollett sentenced to 150 days in jail ...</td>\n      <td>A Chicago judge told Jussie Smollett that he h...</td>\n      <td>https://www.bbc.co.uk/news/world-us-canada-606...</td>\n      <td>2022-03-11 01:58:32+00:00</td>\n    </tr>\n    <tr>\n      <th>9</th>\n      <td>Redditch Asda stabbing: Boy, 14, charged with ...</td>\n      <td>The teenager appears in court charged with mur...</td>\n      <td>https://www.bbc.co.uk/news/uk-england-hereford...</td>\n      <td>2022-03-11 10:45:13+00:00</td>\n    </tr>\n    <tr>\n      <th>10</th>\n      <td>Katy Perry wins in Dark Horse copyright appeal</td>\n      <td>Perry will no longer have to pay the rapper Fl...</td>\n      <td>https://www.bbc.co.uk/news/entertainment-arts-...</td>\n      <td>2022-03-11 10:34:51+00:00</td>\n    </tr>\n    <tr>\n      <th>11</th>\n      <td>Winter Paralympics: Ollie Hill wins bronze for...</td>\n      <td>Debutant Ollie Hill wins Britain's first Paral...</td>\n      <td>https://www.bbc.co.uk/sport/winter-sports/6070...</td>\n      <td>2022-03-11 08:37:03+00:00</td>\n    </tr>\n    <tr>\n      <th>12</th>\n      <td>Watch: Our correspondent on the front line, wi...</td>\n      <td>The BBC spent a week with Ukrainian forces in ...</td>\n      <td>https://www.bbc.co.uk/news/world-europe-606995...</td>\n      <td>2022-03-10 22:47:46+00:00</td>\n    </tr>\n    <tr>\n      <th>13</th>\n      <td>Ukraine maps: At-a-glance guide to the Russia war</td>\n      <td>Russian troops have expanded their offensive a...</td>\n      <td>https://www.bbc.co.uk/news/world-europe-605066...</td>\n      <td>2022-03-11 10:50:19+00:00</td>\n    </tr>\n    <tr>\n      <th>14</th>\n      <td>Ukraine war: Images reveal scale of destructio...</td>\n      <td>Photos and satellite images show the devastati...</td>\n      <td>https://www.bbc.co.uk/news/world-europe-606954...</td>\n      <td>2022-03-10 16:53:10+00:00</td>\n    </tr>\n    <tr>\n      <th>15</th>\n      <td>Ukraine war: 'I have 20 children here, please ...</td>\n      <td>Tens of thousands of children in Ukrainian sta...</td>\n      <td>https://www.bbc.co.uk/news/world-europe-606675...</td>\n      <td>2022-03-11 00:01:01+00:00</td>\n    </tr>\n    <tr>\n      <th>16</th>\n      <td>What is a war crime, and could Putin be prosec...</td>\n      <td>If Russia has carried out war crimes in Ukrain...</td>\n      <td>https://www.bbc.co.uk/news/world-60690688?at_m...</td>\n      <td>2022-03-10 12:14:57+00:00</td>\n    </tr>\n    <tr>\n      <th>17</th>\n      <td>War in Ukraine: A family's 'torturous' UK visa...</td>\n      <td>Luke Morgan has spent the last fortnight helpi...</td>\n      <td>https://www.bbc.co.uk/news/world-europe-606954...</td>\n      <td>2022-03-10 17:49:20+00:00</td>\n    </tr>\n    <tr>\n      <th>18</th>\n      <td>Ukraine: What sanctions are being imposed on R...</td>\n      <td>Western nations have imposed severe sanctions ...</td>\n      <td>https://www.bbc.co.uk/news/world-europe-601256...</td>\n      <td>2022-03-10 17:16:09+00:00</td>\n    </tr>\n    <tr>\n      <th>19</th>\n      <td>Ukraine: What happened on day 15 of Russia's i...</td>\n      <td>On the frontline in the battle for Kharkiv - a...</td>\n      <td>https://www.bbc.co.uk/news/world-europe-606975...</td>\n      <td>2022-03-10 22:02:16+00:00</td>\n    </tr>\n    <tr>\n      <th>20</th>\n      <td>Ukraine war: Column of Russian tanks ambushed ...</td>\n      <td>Drone footage appears to show Russian tanks un...</td>\n      <td>https://www.bbc.co.uk/news/world-europe-606993...</td>\n      <td>2022-03-10 16:44:30+00:00</td>\n    </tr>\n    <tr>\n      <th>21</th>\n      <td>WATCH: Disposal experts defuse unexploded bomb...</td>\n      <td>An unexploded 500kg (1102lb) bomb was discover...</td>\n      <td>https://www.bbc.co.uk/news/world-europe-606895...</td>\n      <td>2022-03-10 09:12:48+00:00</td>\n    </tr>\n    <tr>\n      <th>22</th>\n      <td>Roman Abramovich: What do Russian owner's sanc...</td>\n      <td>What do sanctions imposed on Roman Abramovich ...</td>\n      <td>https://www.bbc.co.uk/sport/football/60684038?...</td>\n      <td>2022-03-11 06:47:16+00:00</td>\n    </tr>\n    <tr>\n      <th>23</th>\n      <td>What is a thermobaric or vacuum bomb?</td>\n      <td>What is a thermobaric or vacuum bomb, and why ...</td>\n      <td>https://www.bbc.co.uk/news/business-60571395?a...</td>\n      <td>2022-03-10 11:34:56+00:00</td>\n    </tr>\n    <tr>\n      <th>24</th>\n      <td>Quiz of the week: Who helped Dolly write a novel?</td>\n      <td>How closely have you been paying attention to ...</td>\n      <td>https://www.bbc.co.uk/news/world-60685025?at_m...</td>\n      <td>2022-03-10 17:35:44+00:00</td>\n    </tr>\n    <tr>\n      <th>25</th>\n      <td>Pregnancy loss: 'I just don't think we're bein...</td>\n      <td>Four black women explain their devastating exp...</td>\n      <td>https://www.bbc.co.uk/news/world-us-canada-606...</td>\n      <td>2022-03-11 04:26:46+00:00</td>\n    </tr>\n    <tr>\n      <th>26</th>\n      <td>The Papers: 'Roman empire falls' and 'hotline ...</td>\n      <td>Claims the Chelsea owner has \"blood on his han...</td>\n      <td>https://www.bbc.co.uk/news/blogs-the-papers-60...</td>\n      <td>2022-03-11 05:29:57+00:00</td>\n    </tr>\n    <tr>\n      <th>27</th>\n      <td>Russia-Ukraine war: Foreign fighters go to joi...</td>\n      <td>Nearly 20,000 international volunteers have si...</td>\n      <td>https://www.bbc.co.uk/news/world-europe-606966...</td>\n      <td>2022-03-11 00:02:52+00:00</td>\n    </tr>\n    <tr>\n      <th>28</th>\n      <td>Ukraine war: Indian students on the trauma of ...</td>\n      <td>The BBC follows some of the thousands of stude...</td>\n      <td>https://www.bbc.co.uk/news/world-asia-60689267...</td>\n      <td>2022-03-10 14:23:59+00:00</td>\n    </tr>\n    <tr>\n      <th>29</th>\n      <td>UK boy donates teddy bear to Ukrainian child</td>\n      <td>Will decided to help after finding out from hi...</td>\n      <td>https://www.bbc.co.uk/news/uk-england-tees-606...</td>\n      <td>2022-03-10 16:50:38+00:00</td>\n    </tr>\n    <tr>\n      <th>30</th>\n      <td>Classic Queen cover art for A Day at the Races...</td>\n      <td>The piece was by David Costa, an artist who wo...</td>\n      <td>https://www.bbc.co.uk/news/uk-england-wiltshir...</td>\n      <td>2022-03-10 17:17:35+00:00</td>\n    </tr>\n    <tr>\n      <th>31</th>\n      <td>The Ukrainian sisters separated by war</td>\n      <td>Tetyana Nesterchuk is safe in London while her...</td>\n      <td>https://www.bbc.co.uk/news/uk-england-london-6...</td>\n      <td>2022-03-11 11:36:00+00:00</td>\n    </tr>\n    <tr>\n      <th>32</th>\n      <td>Gracie Spinks: Receipt could have traced kille...</td>\n      <td>A bag of weapons found before she died has bee...</td>\n      <td>https://www.bbc.co.uk/news/uk-england-derbyshi...</td>\n      <td>2022-03-11 02:07:24+00:00</td>\n    </tr>\n    <tr>\n      <th>33</th>\n      <td>‘It was a nightmare in that place’</td>\n      <td>For abuse survivors, Friday's apology has been...</td>\n      <td>https://www.bbc.co.uk/news/uk-northern-ireland...</td>\n      <td>2022-03-11 12:27:59+00:00</td>\n    </tr>\n    <tr>\n      <th>34</th>\n      <td>Climate change: Can the Russian energy crisis ...</td>\n      <td>An energy strategy is due - but can it get the...</td>\n      <td>https://www.bbc.co.uk/news/uk-politics-6068392...</td>\n      <td>2022-03-11 01:59:25+00:00</td>\n    </tr>\n    <tr>\n      <th>35</th>\n      <td>Does your boss really care what you think?</td>\n      <td>The real reasons companies are making an extra...</td>\n      <td>https://www.bbc.co.uk/news/business-60381024?a...</td>\n      <td>2022-03-11 00:09:13+00:00</td>\n    </tr>\n    <tr>\n      <th>36</th>\n      <td>Covid-19 in the UK: How many coronavirus cases...</td>\n      <td>Explore the data on coronavirus in the UK and ...</td>\n      <td>https://www.bbc.co.uk/news/uk-51768274?at_medi...</td>\n      <td>2022-03-10 17:28:59+00:00</td>\n    </tr>\n    <tr>\n      <th>37</th>\n      <td>Timbuktu manuscripts: Mali's ancient documents...</td>\n      <td>The thousands of manuscripts contain centuries...</td>\n      <td>https://www.bbc.co.uk/news/world-africa-606896...</td>\n      <td>2022-03-10 17:10:58+00:00</td>\n    </tr>\n    <tr>\n      <th>38</th>\n      <td>The Capitol riot trial that tore a family apart</td>\n      <td>Guy Reffitt was convicted of taking part in th...</td>\n      <td>https://www.bbc.co.uk/news/world-us-canada-606...</td>\n      <td>2022-03-09 23:35:41+00:00</td>\n    </tr>\n    <tr>\n      <th>39</th>\n      <td>Ukraine war: How reliant is the world on Russi...</td>\n      <td>Russia has threatened to cut off gas supplies ...</td>\n      <td>https://www.bbc.co.uk/news/58888451?at_medium=...</td>\n      <td>2022-03-10 11:22:57+00:00</td>\n    </tr>\n    <tr>\n      <th>40</th>\n      <td>Fact-checking PM's claim about refugees</td>\n      <td>The PM claimed the UK had done more to resettl...</td>\n      <td>https://www.bbc.co.uk/news/60679290?at_medium=...</td>\n      <td>2022-03-09 18:22:06+00:00</td>\n    </tr>\n    <tr>\n      <th>41</th>\n      <td>Israel's Bennett plays peacemaker in Ukraine-R...</td>\n      <td>Prime Minister Naftali Bennett is an unlikely ...</td>\n      <td>https://www.bbc.co.uk/news/world-middle-east-6...</td>\n      <td>2022-03-10 00:57:16+00:00</td>\n    </tr>\n    <tr>\n      <th>42</th>\n      <td>Winter Paralympics: 'I chose to have my leg am...</td>\n      <td>Musician Shona chose to have her leg amputated...</td>\n      <td>https://www.bbc.co.uk/news/disability-60642118...</td>\n      <td>2022-03-10 01:16:37+00:00</td>\n    </tr>\n    <tr>\n      <th>43</th>\n      <td>Drought robs Amazon communities of 'life-givin...</td>\n      <td>Low water levels mean riverside communities lo...</td>\n      <td>https://www.bbc.co.uk/news/world-latin-america...</td>\n      <td>2022-03-10 01:13:51+00:00</td>\n    </tr>\n    <tr>\n      <th>44</th>\n      <td>Kidney donor: I call my remaining one Home Alo...</td>\n      <td>Azeem Ahmad, who donated one of his kidneys to...</td>\n      <td>https://www.bbc.co.uk/news/health-60661268?at_...</td>\n      <td>2022-03-10 01:18:17+00:00</td>\n    </tr>\n    <tr>\n      <th>45</th>\n      <td>The Marvellous Neil Baldwin is back to make us...</td>\n      <td>Baldwin was played by Toby Jones in the Bafta-...</td>\n      <td>https://www.bbc.co.uk/news/entertainment-arts-...</td>\n      <td>2022-03-10 01:20:18+00:00</td>\n    </tr>\n    <tr>\n      <th>46</th>\n      <td>Chelsea fans urged to stop Abramovich chants</td>\n      <td>Chelsea supporters are urged to stop chanting ...</td>\n      <td>https://www.bbc.co.uk/sport/football/60704463?...</td>\n      <td>2022-03-11 12:23:32+00:00</td>\n    </tr>\n    <tr>\n      <th>47</th>\n      <td>England 'really optimistic' unwell Itoje will ...</td>\n      <td>England lock Maro Itoje was unwell overnight, ...</td>\n      <td>https://www.bbc.co.uk/sport/rugby-union/606674...</td>\n      <td>2022-03-11 12:31:22+00:00</td>\n    </tr>\n    <tr>\n      <th>48</th>\n      <td>'Caged lion' Joshua could fight Wilder or Joyc...</td>\n      <td>Anthony Joshua is refusing to take an \"easy in...</td>\n      <td>https://www.bbc.co.uk/sport/boxing/60697861?at...</td>\n      <td>2022-03-11 10:59:46+00:00</td>\n    </tr>\n    <tr>\n      <th>49</th>\n      <td>Players Championship: Ian Poulter sprints to f...</td>\n      <td>Ian Poulter sprints to complete his birdie on ...</td>\n      <td>https://www.bbc.co.uk/sport/av/golf/60706881?a...</td>\n      <td>2022-03-11 10:22:44+00:00</td>\n    </tr>\n    <tr>\n      <th>50</th>\n      <td>MOTD Rewind: Man Utd 1-6 Tottenham - How Spurs...</td>\n      <td>Watch how Tottenham Hotspur pulled off one of ...</td>\n      <td>https://www.bbc.co.uk/sport/av/football/589038...</td>\n      <td>2022-03-11 12:56:06+00:00</td>\n    </tr>\n  </tbody>\n</table>\n</div>"
     },
     "metadata": {}
    }
   ]
  },
  {
   "cell_type": "code",
   "metadata": {
    "deepnote_to_be_reexecuted": false,
    "source_hash": "c085b6ba",
    "execution_start": 1647003831741,
    "execution_millis": 273,
    "deepnote_app_coordinates": {
     "x": 0,
     "y": 132,
     "w": 12,
     "h": 5
    },
    "cell_id": "00023-609f9fe5-4a1d-4c21-be22-bafbead6cc6f",
    "deepnote_cell_type": "code",
    "deepnote_cell_height": 393
   },
   "source": "df.head()",
   "execution_count": null,
   "outputs": [
    {
     "output_type": "execute_result",
     "execution_count": 14,
     "data": {
      "application/vnd.deepnote.dataframe.v3+json": {
       "column_count": 4,
       "row_count": 5,
       "columns": [
        {
         "name": "title",
         "dtype": "object",
         "stats": {
          "unique_count": 5,
          "nan_count": 0,
          "categories": [
           {
            "name": "On the front line of the battle for Kharkiv",
            "count": 1
           },
           {
            "name": "Ukraine war: Large Russian convoy redeploys near Kyiv - satellite images",
            "count": 1
           },
           {
            "name": "3 others",
            "count": 3
           }
          ]
         }
        },
        {
         "name": "summary",
         "dtype": "object",
         "stats": {
          "unique_count": 5,
          "nan_count": 0,
          "categories": [
           {
            "name": "Quentin Sommerville and cameraman Darren Conway are with Ukrainian forces fighting to stop the Russian advance on the country's second city.",
            "count": 1
           },
           {
            "name": "Images of the convoy's redeployment appear to signal a renewed push towards the Ukrainian capital.",
            "count": 1
           },
           {
            "name": "3 others",
            "count": 3
           }
          ]
         }
        },
        {
         "name": "link",
         "dtype": "object",
         "stats": {
          "unique_count": 5,
          "nan_count": 0,
          "categories": [
           {
            "name": "https://www.bbc.co.uk/news/world-europe-60693166?at_medium=RSS&at_campaign=KARANGA",
            "count": 1
           },
           {
            "name": "https://www.bbc.co.uk/news/world-europe-60702464?at_medium=RSS&at_campaign=KARANGA",
            "count": 1
           },
           {
            "name": "3 others",
            "count": 3
           }
          ]
         }
        },
        {
         "name": "published",
         "dtype": "datetime64[ns, UTC]",
         "stats": {
          "unique_count": 5,
          "nan_count": 0,
          "min": "2022-03-10 17:04:13+00:00",
          "max": "2022-03-11 12:28:00+00:00",
          "histogram": [
           {
            "bin_start": 1646931853000000000,
            "bin_end": 1646938835700000000,
            "count": 1
           },
           {
            "bin_start": 1646938835700000000,
            "bin_end": 1646945818400000000,
            "count": 0
           },
           {
            "bin_start": 1646945818400000000,
            "bin_end": 1646952801100000000,
            "count": 0
           },
           {
            "bin_start": 1646952801100000000,
            "bin_end": 1646959783800000000,
            "count": 0
           },
           {
            "bin_start": 1646959783800000000,
            "bin_end": 1646966766500000000,
            "count": 0
           },
           {
            "bin_start": 1646966766500000000,
            "bin_end": 1646973749200000000,
            "count": 0
           },
           {
            "bin_start": 1646973749200000000,
            "bin_end": 1646980731900000000,
            "count": 0
           },
           {
            "bin_start": 1646980731900000000,
            "bin_end": 1646987714600000000,
            "count": 0
           },
           {
            "bin_start": 1646987714600000000,
            "bin_end": 1646994697300000000,
            "count": 1
           },
           {
            "bin_start": 1646994697300000000,
            "bin_end": 1647001680000000000,
            "count": 3
           }
          ]
         }
        },
        {
         "name": "_deepnote_index_column",
         "dtype": "int64"
        }
       ],
       "rows": [
        {
         "title": "On the front line of the battle for Kharkiv",
         "summary": "Quentin Sommerville and cameraman Darren Conway are with Ukrainian forces fighting to stop the Russ…",
         "link": "https://www.bbc.co.uk/news/world-europe-60693166?at_medium=RSS&at_campaign=KARANGA",
         "published": "2022-03-10T17:04:13.000000",
         "_deepnote_index_column": 0
        },
        {
         "title": "Ukraine war: Large Russian convoy redeploys near Kyiv - satellite images",
         "summary": "Images of the convoy's redeployment appear to signal a renewed push towards the Ukrainian capital.",
         "link": "https://www.bbc.co.uk/news/world-europe-60702464?at_medium=RSS&at_campaign=KARANGA",
         "published": "2022-03-11T08:40:54.000000",
         "_deepnote_index_column": 1
        },
        {
         "title": "Ukraine war: People can welcome refugees into their homes - PM",
         "summary": "Details of a sponsorship visa scheme to host Ukrainians will be revealed on Monday, Boris Johnson s…",
         "link": "https://www.bbc.co.uk/news/uk-60701941?at_medium=RSS&at_campaign=KARANGA",
         "published": "2022-03-11T12:28:00.000000",
         "_deepnote_index_column": 2
        },
        {
         "title": "Ukraine brings significant economic uncertainty, Rishi Sunak warns",
         "summary": "The UK economy rebounds in January but the chancellor warns of uncertainty due to the invasion of U…",
         "link": "https://www.bbc.co.uk/news/business-60699815?at_medium=RSS&at_campaign=KARANGA",
         "published": "2022-03-11T11:32:38.000000",
         "_deepnote_index_column": 3
        },
        {
         "title": "Ukraine war: Putin seeks foreign volunteers to fight in Ukraine",
         "summary": "\"We need to give them what they want and help them get to the conflict zone,\" the Russian leader sa…",
         "link": "https://www.bbc.co.uk/news/world-europe-60705486?at_medium=RSS&at_campaign=KARANGA",
         "published": "2022-03-11T10:41:28.000000",
         "_deepnote_index_column": 4
        }
       ]
      },
      "text/plain": "                                               title  \\\n0        On the front line of the battle for Kharkiv   \n1  Ukraine war: Large Russian convoy redeploys ne...   \n2  Ukraine war: People can welcome refugees into ...   \n3  Ukraine brings significant economic uncertaint...   \n4  Ukraine war: Putin seeks foreign volunteers to...   \n\n                                             summary  \\\n0  Quentin Sommerville and cameraman Darren Conwa...   \n1  Images of the convoy's redeployment appear to ...   \n2  Details of a sponsorship visa scheme to host U...   \n3  The UK economy rebounds in January but the cha...   \n4  \"We need to give them what they want and help ...   \n\n                                                link                 published  \n0  https://www.bbc.co.uk/news/world-europe-606931... 2022-03-10 17:04:13+00:00  \n1  https://www.bbc.co.uk/news/world-europe-607024... 2022-03-11 08:40:54+00:00  \n2  https://www.bbc.co.uk/news/uk-60701941?at_medi... 2022-03-11 12:28:00+00:00  \n3  https://www.bbc.co.uk/news/business-60699815?a... 2022-03-11 11:32:38+00:00  \n4  https://www.bbc.co.uk/news/world-europe-607054... 2022-03-11 10:41:28+00:00  ",
      "text/html": "<div>\n<style scoped>\n    .dataframe tbody tr th:only-of-type {\n        vertical-align: middle;\n    }\n\n    .dataframe tbody tr th {\n        vertical-align: top;\n    }\n\n    .dataframe thead th {\n        text-align: right;\n    }\n</style>\n<table border=\"1\" class=\"dataframe\">\n  <thead>\n    <tr style=\"text-align: right;\">\n      <th></th>\n      <th>title</th>\n      <th>summary</th>\n      <th>link</th>\n      <th>published</th>\n    </tr>\n  </thead>\n  <tbody>\n    <tr>\n      <th>0</th>\n      <td>On the front line of the battle for Kharkiv</td>\n      <td>Quentin Sommerville and cameraman Darren Conwa...</td>\n      <td>https://www.bbc.co.uk/news/world-europe-606931...</td>\n      <td>2022-03-10 17:04:13+00:00</td>\n    </tr>\n    <tr>\n      <th>1</th>\n      <td>Ukraine war: Large Russian convoy redeploys ne...</td>\n      <td>Images of the convoy's redeployment appear to ...</td>\n      <td>https://www.bbc.co.uk/news/world-europe-607024...</td>\n      <td>2022-03-11 08:40:54+00:00</td>\n    </tr>\n    <tr>\n      <th>2</th>\n      <td>Ukraine war: People can welcome refugees into ...</td>\n      <td>Details of a sponsorship visa scheme to host U...</td>\n      <td>https://www.bbc.co.uk/news/uk-60701941?at_medi...</td>\n      <td>2022-03-11 12:28:00+00:00</td>\n    </tr>\n    <tr>\n      <th>3</th>\n      <td>Ukraine brings significant economic uncertaint...</td>\n      <td>The UK economy rebounds in January but the cha...</td>\n      <td>https://www.bbc.co.uk/news/business-60699815?a...</td>\n      <td>2022-03-11 11:32:38+00:00</td>\n    </tr>\n    <tr>\n      <th>4</th>\n      <td>Ukraine war: Putin seeks foreign volunteers to...</td>\n      <td>\"We need to give them what they want and help ...</td>\n      <td>https://www.bbc.co.uk/news/world-europe-607054...</td>\n      <td>2022-03-11 10:41:28+00:00</td>\n    </tr>\n  </tbody>\n</table>\n</div>"
     },
     "metadata": {}
    }
   ]
  },
  {
   "cell_type": "markdown",
   "source": "Now, save the dataframe into a CSV file for later use.\n\n<div class=\"alert alert-warning\">\n\n**Note:** if `index=True` (default option), `pandas` save an extra column indicating index number which, in our case, will be the row numbers. There are cases when index will be non-numerical or, if numerical, not representative of row numbers. `index=True` will be useful in those cases. \n\n</div>",
   "metadata": {
    "tags": [],
    "deepnote_app_coordinates": {
     "x": 0,
     "y": 138,
     "w": 12,
     "h": 5
    },
    "cell_id": "00024-e071389d-1359-4bae-afab-0290990c9250",
    "deepnote_cell_type": "markdown",
    "deepnote_cell_height": 185.59375
   }
  },
  {
   "cell_type": "code",
   "metadata": {
    "tags": [],
    "deepnote_to_be_reexecuted": true,
    "source_hash": "325965bc",
    "execution_start": 1645793722799,
    "execution_millis": 339,
    "deepnote_app_coordinates": {
     "x": 0,
     "y": 150,
     "w": 12,
     "h": 5
    },
    "cell_id": "00026-594676bb-ba0e-446b-8592-3dadda84c430",
    "deepnote_cell_type": "code",
    "deepnote_cell_height": 447
   },
   "source": "# Sanity checks - load the csv file and check the columns of the saved dataset\n# try this block after using `index=True` in the above block and note the difference.\nsaved_rss = pd.read_csv(\"rss_feeds.csv\")\nsaved_rss.head()",
   "execution_count": null,
   "outputs": [
    {
     "output_type": "execute_result",
     "execution_count": 19,
     "data": {
      "application/vnd.deepnote.dataframe.v3+json": {
       "column_count": 4,
       "row_count": 5,
       "columns": [
        {
         "name": "title",
         "dtype": "object",
         "stats": {
          "unique_count": 5,
          "nan_count": 0,
          "categories": [
           {
            "name": "Ukraine conflict: Kyiv braces for Russian assault",
            "count": 1
           },
           {
            "name": "Russia bans British airlines from its airspace",
            "count": 1
           },
           {
            "name": "3 others",
            "count": 3
           }
          ]
         }
        },
        {
         "name": "summary",
         "dtype": "object",
         "stats": {
          "unique_count": 5,
          "nan_count": 0,
          "categories": [
           {
            "name": "The Ministry of Defence made the call as Russian forces reached the northern outskirts of Kyiv.",
            "count": 1
           },
           {
            "name": "Russia says the move is a response to the UK's 'unfriendly' decision to ban Aeroflot from the UK.",
            "count": 1
           },
           {
            "name": "3 others",
            "count": 3
           }
          ]
         }
        },
        {
         "name": "link",
         "dtype": "object",
         "stats": {
          "unique_count": 5,
          "nan_count": 0,
          "categories": [
           {
            "name": "https://www.bbc.co.uk/news/world-europe-60513116?at_medium=RSS&at_campaign=KARANGA",
            "count": 1
           },
           {
            "name": "https://www.bbc.co.uk/news/business-60505417?at_medium=RSS&at_campaign=KARANGA",
            "count": 1
           },
           {
            "name": "3 others",
            "count": 3
           }
          ]
         }
        },
        {
         "name": "published",
         "dtype": "object",
         "stats": {
          "unique_count": 5,
          "nan_count": 0,
          "categories": [
           {
            "name": "2022-02-25 12:01:02+00:00",
            "count": 1
           },
           {
            "name": "2022-02-25 11:43:30+00:00",
            "count": 1
           },
           {
            "name": "3 others",
            "count": 3
           }
          ]
         }
        },
        {
         "name": "_deepnote_index_column",
         "dtype": "int64"
        }
       ],
       "rows": [
        {
         "title": "Ukraine conflict: Kyiv braces for Russian assault",
         "summary": "The Ministry of Defence made the call as Russian forces reached the northern outskirts of Kyiv.",
         "link": "https://www.bbc.co.uk/news/world-europe-60513116?at_medium=RSS&at_campaign=KARANGA",
         "published": "2022-02-25 12:01:02+00:00",
         "_deepnote_index_column": 0
        },
        {
         "title": "Russia bans British airlines from its airspace",
         "summary": "Russia says the move is a response to the UK's 'unfriendly' decision to ban Aeroflot from the UK.",
         "link": "https://www.bbc.co.uk/news/business-60505417?at_medium=RSS&at_campaign=KARANGA",
         "published": "2022-02-25 11:43:30+00:00",
         "_deepnote_index_column": 1
        },
        {
         "title": "Russia stripped of Champions League final",
         "summary": "The 2022 Champions League final will be played in Paris after Russia was stripped of the match foll…",
         "link": "https://www.bbc.co.uk/sport/football/60520933?at_medium=RSS&at_campaign=KARANGA",
         "published": "2022-02-25 12:42:01+00:00",
         "_deepnote_index_column": 2
        },
        {
         "title": "Ukraine invasion: UK troops will not fight against Russia says Wallace",
         "summary": "The defence secretary says Britain will not be \"directly\" involved but is supporting Ukraine forces.",
         "link": "https://www.bbc.co.uk/news/uk-60522745?at_medium=RSS&at_campaign=KARANGA",
         "published": "2022-02-25 12:32:08+00:00",
         "_deepnote_index_column": 3
        },
        {
         "title": "Stock markets rebound on Russia sanctions",
         "summary": "Oil prices fall back and shares across the UK, Europe and Asia rise as concerns ease over sanctions.",
         "link": "https://www.bbc.co.uk/news/business-60518578?at_medium=RSS&at_campaign=KARANGA",
         "published": "2022-02-25 12:04:32+00:00",
         "_deepnote_index_column": 4
        }
       ]
      },
      "text/plain": "                                               title  \\\n0  Ukraine conflict: Kyiv braces for Russian assault   \n1     Russia bans British airlines from its airspace   \n2          Russia stripped of Champions League final   \n3  Ukraine invasion: UK troops will not fight aga...   \n4          Stock markets rebound on Russia sanctions   \n\n                                             summary  \\\n0  The Ministry of Defence made the call as Russi...   \n1  Russia says the move is a response to the UK's...   \n2  The 2022 Champions League final will be played...   \n3  The defence secretary says Britain will not be...   \n4  Oil prices fall back and shares across the UK,...   \n\n                                                link  \\\n0  https://www.bbc.co.uk/news/world-europe-605131...   \n1  https://www.bbc.co.uk/news/business-60505417?a...   \n2  https://www.bbc.co.uk/sport/football/60520933?...   \n3  https://www.bbc.co.uk/news/uk-60522745?at_medi...   \n4  https://www.bbc.co.uk/news/business-60518578?a...   \n\n                   published  \n0  2022-02-25 12:01:02+00:00  \n1  2022-02-25 11:43:30+00:00  \n2  2022-02-25 12:42:01+00:00  \n3  2022-02-25 12:32:08+00:00  \n4  2022-02-25 12:04:32+00:00  ",
      "text/html": "<div>\n<style scoped>\n    .dataframe tbody tr th:only-of-type {\n        vertical-align: middle;\n    }\n\n    .dataframe tbody tr th {\n        vertical-align: top;\n    }\n\n    .dataframe thead th {\n        text-align: right;\n    }\n</style>\n<table border=\"1\" class=\"dataframe\">\n  <thead>\n    <tr style=\"text-align: right;\">\n      <th></th>\n      <th>title</th>\n      <th>summary</th>\n      <th>link</th>\n      <th>published</th>\n    </tr>\n  </thead>\n  <tbody>\n    <tr>\n      <th>0</th>\n      <td>Ukraine conflict: Kyiv braces for Russian assault</td>\n      <td>The Ministry of Defence made the call as Russi...</td>\n      <td>https://www.bbc.co.uk/news/world-europe-605131...</td>\n      <td>2022-02-25 12:01:02+00:00</td>\n    </tr>\n    <tr>\n      <th>1</th>\n      <td>Russia bans British airlines from its airspace</td>\n      <td>Russia says the move is a response to the UK's...</td>\n      <td>https://www.bbc.co.uk/news/business-60505417?a...</td>\n      <td>2022-02-25 11:43:30+00:00</td>\n    </tr>\n    <tr>\n      <th>2</th>\n      <td>Russia stripped of Champions League final</td>\n      <td>The 2022 Champions League final will be played...</td>\n      <td>https://www.bbc.co.uk/sport/football/60520933?...</td>\n      <td>2022-02-25 12:42:01+00:00</td>\n    </tr>\n    <tr>\n      <th>3</th>\n      <td>Ukraine invasion: UK troops will not fight aga...</td>\n      <td>The defence secretary says Britain will not be...</td>\n      <td>https://www.bbc.co.uk/news/uk-60522745?at_medi...</td>\n      <td>2022-02-25 12:32:08+00:00</td>\n    </tr>\n    <tr>\n      <th>4</th>\n      <td>Stock markets rebound on Russia sanctions</td>\n      <td>Oil prices fall back and shares across the UK,...</td>\n      <td>https://www.bbc.co.uk/news/business-60518578?a...</td>\n      <td>2022-02-25 12:04:32+00:00</td>\n    </tr>\n  </tbody>\n</table>\n</div>"
     },
     "metadata": {}
    }
   ]
  },
  {
   "cell_type": "code",
   "metadata": {
    "tags": [],
    "deepnote_to_be_reexecuted": true,
    "source_hash": "b1fa7447",
    "execution_start": 1645794081435,
    "execution_millis": 255,
    "cell_id": "00027-467d5f3f-0072-4df9-8990-5aaa0b42a843",
    "deepnote_cell_type": "code",
    "deepnote_cell_height": 136.1875,
    "deepnote_output_heights": [
     21.1875
    ]
   },
   "source": "saved_rss['published'] = pd.to_datetime(saved_rss['published'])\nsaved_rss['published'][3]",
   "execution_count": null,
   "outputs": [
    {
     "output_type": "execute_result",
     "execution_count": 32,
     "data": {
      "text/plain": "Timestamp('2022-02-25 12:32:08+0000', tz='UTC')"
     },
     "metadata": {}
    }
   ]
  },
  {
   "cell_type": "markdown",
   "source": "<div class=\"alert alert-info\">\n\n##### Exercise 2.3: collection over time\n\nAssuming a day has passed, write a code snippet to:\n1. load the old CSV file with the RSS feeds you saved\n2.  fetch the new RSS feed, transform it into a pandas DataFrame\n3. concatenate it with the older RSS feeds\n4. save the resulting DataFrame to CSV back again.\n\n</div>",
   "metadata": {
    "tags": [],
    "deepnote_app_coordinates": {
     "x": 0,
     "y": 156,
     "w": 12,
     "h": 5
    },
    "cell_id": "00028-04b619ce-2792-4822-be55-c0df2e6af441",
    "deepnote_cell_type": "markdown",
    "deepnote_cell_height": 252.984375
   }
  },
  {
   "cell_type": "code",
   "metadata": {
    "tags": [],
    "deepnote_to_be_reexecuted": true,
    "source_hash": "385a100a",
    "execution_start": 1645181514009,
    "execution_millis": 178,
    "deepnote_app_coordinates": {
     "x": 0,
     "y": 162,
     "w": 12,
     "h": 5
    },
    "cell_id": "00029-9f47f84d-45a8-4330-bf7d-fe66d3ac48e3",
    "deepnote_cell_type": "code",
    "deepnote_cell_height": 261
   },
   "source": "# load the existing rss feeds\nsaved_rss = pd.read_csv(\"rss_feeds.csv\")\n\n# retrieve new rss feeds and make a dataframe\nnew_rss = feedparser.parse('feed://feeds.bbci.co.uk/news/rss.xml')\nnew_rss = pd.DataFrame(new_rss.entries, columns=['title', 'summary', 'link', 'published'])\nnew_rss.published = pd.to_datetime(new_rss.published)\n\n# concatenate and save \nconcat_rss = pd.concat([saved_rss, new_rss])\nconcat_rss.to_csv('rss_feeds.csv')",
   "execution_count": null,
   "outputs": []
  },
  {
   "cell_type": "markdown",
   "source": "<div class=\"alert alert-info\">\n\n##### Exercise 2.4 (optional)\n\nIn data science and computer science, it is a good practice to write code in a modular fashion. This practice entails writing functions that are responsible for one and only one task. Can you think of modularizing the above code snippet?\n\nHere is one way to modularize the above code snippet:\n- a function `load_rss` takes as input, a string, and returns a pandas `DataFrame`;\n- a function `retrieve_rss` takes as input, a string for rss url, and returns a pandas `DataFrame`;\n- a function `concat_and_save_rss` takes as input, two pandas `DataFrame`, and returns nothing.\n\n</div>",
   "metadata": {
    "tags": [],
    "deepnote_app_coordinates": {
     "x": 0,
     "y": 168,
     "w": 12,
     "h": 5
    },
    "cell_id": "00030-67fa5e1d-43f0-4e9a-b8af-bdc6a9b334f1",
    "deepnote_cell_type": "markdown",
    "deepnote_cell_height": 286.390625
   }
  },
  {
   "cell_type": "markdown",
   "source": "## Exercise 3: Understanding the collected feed\n\n<div class=\"alert alert-info\">\n\n##### Exercise 3.1\n\nUsing the dataframe or the entries dictionary, **print out the time of the day each article was published**.\n\nFor pandas, read the following pages to learn how to use datetime columns:\n- extracting hours: https://pandas.pydata.org/docs/reference/api/pandas.Series.dt.hour.html\n- and other attributes that can be computed automatically: https://pandas.pydata.org/pandas-docs/stable/user_guide/timeseries.html#time-date-components\n\n</div>",
   "metadata": {
    "deepnote_app_coordinates": {
     "x": 0,
     "y": 186,
     "w": 12,
     "h": 5
    },
    "cell_id": "00031-2e681eaa-7fce-4ec8-b9b9-c30d04c9c81d",
    "deepnote_cell_type": "markdown",
    "deepnote_cell_height": 316.984375
   }
  },
  {
   "cell_type": "code",
   "metadata": {
    "deepnote_to_be_reexecuted": true,
    "source_hash": "56933bb1",
    "execution_start": 1645181520213,
    "execution_millis": 9,
    "deepnote_app_coordinates": {
     "x": 0,
     "y": 192,
     "w": 12,
     "h": 5
    },
    "cell_id": "00032-5512a1c5-4567-42ec-baed-187cd362e5b0",
    "deepnote_cell_type": "code",
    "deepnote_cell_height": 214.171875,
    "deepnote_output_heights": [
     117.171875
    ]
   },
   "source": "df.published.head()",
   "execution_count": null,
   "outputs": [
    {
     "output_type": "execute_result",
     "execution_count": 18,
     "data": {
      "text/plain": "0   2022-02-18 10:44:51+00:00\n1   2022-02-18 08:55:55+00:00\n2   2022-02-18 06:25:15+00:00\n3   2022-02-18 07:43:57+00:00\n4   2022-02-18 01:21:22+00:00\nName: published, dtype: datetime64[ns, UTC]"
     },
     "metadata": {}
    }
   ]
  },
  {
   "cell_type": "code",
   "metadata": {
    "deepnote_to_be_reexecuted": true,
    "source_hash": "ec0db1c7",
    "execution_start": 1645181587736,
    "execution_millis": 9,
    "deepnote_app_coordinates": {
     "x": 0,
     "y": 204,
     "w": 12,
     "h": 5
    },
    "cell_id": "00033-8bbf6039-1f53-4cf6-833d-78dff2bd149f",
    "deepnote_cell_type": "code",
    "deepnote_cell_height": 229.78125,
    "deepnote_output_heights": [
     78.78125
    ]
   },
   "source": "# Solution using the dt.hour series\n\ndf['published_hour'] = df.published.dt.hour\ndf.published_hour.values",
   "execution_count": null,
   "outputs": [
    {
     "output_type": "execute_result",
     "execution_count": 20,
     "data": {
      "text/plain": "array([10,  8,  6,  7,  1,  9,  1, 10,  8,  0, 17,  6, 22,  0,  6, 21, 18,\n       14,  0,  0,  0,  8,  0,  0, 16,  0, 16, 16,  6, 11,  6, 10, 23, 23,\n        8,  6,  4,  9, 15, 23,  3,  6, 13,  9,  0, 11,  0,  0,  0,  0, 18,\n       12,  0, 17, 12, 13, 11,  9, 12, 17, 12, 10,  9, 11, 15,  9,  9, 13])"
     },
     "metadata": {}
    }
   ]
  },
  {
   "cell_type": "code",
   "metadata": {
    "deepnote_to_be_reexecuted": true,
    "source_hash": "bb87f5f1",
    "execution_start": 1645181602975,
    "execution_millis": 16,
    "deepnote_app_coordinates": {
     "x": 0,
     "y": 210,
     "w": 12,
     "h": 5
    },
    "cell_id": "00034-5d7089ea-52a6-4730-8ad4-a2037dd0fa37",
    "deepnote_cell_type": "code",
    "deepnote_cell_height": 809
   },
   "source": "# Solution using a for loop to iterate over every row\n\n# We iterate over each row and, for each, print out the URL.\nfor _, row in df.iterrows():\n    title = row['title']\n    hour = row['published_hour']\n    print(f\"Article '{title}' at hour '{hour}'\")",
   "execution_count": null,
   "outputs": [
    {
     "name": "stdout",
     "text": "Article 'Storm Eunice: Millions across UK told to stay home as severe winds hit' at hour '10'\nArticle 'Covid: NHS bosses call for free tests and isolation to remain' at hour '8'\nArticle 'Actions of Valieva's coach 'chilling', says IOC' at hour '6'\nArticle 'Call to keep testing free and Covid passes scrapped in Wales' at hour '7'\nArticle ''My child is in pain - but I'm helpless'' at hour '1'\nArticle 'Covid pass: Wales' law for cinemas and nightclubs ends' at hour '9'\nArticle 'Afghan refugees days from illegal status - lawyers' at hour '1'\nArticle 'Greek ferry: Hundreds evacuated from Olympia blaze off Corfu' at hour '10'\nArticle 'Hybrid working is here to stay, say managers' at hour '8'\nArticle 'The women at the forefront of Sudan’s protests' at hour '0'\nArticle 'Quiz of the week: Which songs were used as a weapon?' at hour '17'\nArticle 'The Papers: UK on red alert for 'storm of the century'' at hour '6'\nArticle 'Australia: The Aboriginal hairdressers delighting remote towns' at hour '22'\nArticle 'Africa's week in pictures: 11-17 February 2022' at hour '0'\nArticle 'Storm Eunice: A guide to preparing' at hour '6'\nArticle 'Tom Daley completes 4-day homecoming challenge for Comic Relief' at hour '21'\nArticle 'Rylee Foster: Liverpool goalkeeper on 'miracle' recovery after car accident' at hour '18'\nArticle 'Nottinghamshire father delivers own child for second time' at hour '14'\nArticle 'Covid: What's life like for unvaccinated people in the UK?' at hour '0'\nArticle 'SmartWater: The forensic spray helping keep women safe' at hour '0'\nArticle 'Storm Eunice: How do I claim for damage?' at hour '0'\nArticle 'Tamera: 'Having synaesthesia means I see colours when I hear music'' at hour '8'\nArticle ''I love talking to people about where the food comes from'' at hour '0'\nArticle 'Beijing Olympics: What’s wrong with natural snow?' at hour '0'\nArticle 'Why are French troops leaving Mali, and what will it mean for the region?' at hour '16'\nArticle 'Indian tea start-ups search for an exotic edge' at hour '0'\nArticle 'Ukraine border guards on the watch for Russian advance' at hour '16'\nArticle 'Prince Andrew: Where does he get his money from?' at hour '16'\nArticle 'The divide over Scotland’s gender laws' at hour '6'\nArticle 'Children in care looked after by grandparents 'on the cheap'' at hour '11'\nArticle 'Housing: Fairy tale estate aimed at keeping young people local' at hour '6'\nArticle 'Hamilton 'attacking again' as Mercedes launch new car' at hour '10'\nArticle ''More like the England I know' - Canada boss Priestman after Lionesses draw' at hour '23'\nArticle ''It's only halfway' - Van Bronckhorst calm after Rangers' stunning Europa League win at Borussia Dortmund' at hour '23'\nArticle 'Can West Ham's Bowen crown fight to the top with England call-up?' at hour '8'\nArticle ''He's with me in every competition' - brother's death inspires Borthwick run of success' at hour '6'\nArticle 'Winter Olympics: China's Eileen Gu wins halfpipe gold, GB's Zoe Atkin finishes ninth' at hour '4'\nArticle 'Winter Olympics: Watch what happens when you mix the curling with snowboarding commentary' at hour '9'\nArticle ''This is our home': The Americans who refuse to leave Ukraine' at hour '15'\nArticle 'Ukraine: Invasion fears are hype and hysteria - Russian diplomat' at hour '23'\nArticle 'Ukrainians wary of Russian claims of withdrawal' at hour '3'\nArticle 'What does Putin want?' at hour '6'\nArticle 'How does Nord Stream 2 fit into Ukraine crisis?' at hour '13'\nArticle 'Ukraine: What is Nato and why doesn't Russia trust it?' at hour '9'\nArticle 'The fear of fleeing home twice' at hour '0'\nArticle 'How prepared is Russia for an attack?' at hour '11'\nArticle 'Ukraine tensions: Can diplomacy prevent war?' at hour '0'\nArticle 'Ukraine crisis: Is Russia waging an information war?' at hour '0'\nArticle 'Olaf Scholz: Ukraine crisis a challenge for German leader' at hour '0'\nArticle 'Ukraine tensions: After eight years of war, an eastern city unifies against Russia' at hour '0'\nArticle 'Ukraine crisis: 'We don't have the option to leave'' at hour '18'\nArticle 'Child Covid vaccinations: Your questions answered' at hour '12'\nArticle 'Can Boris Johnson avoid a lockdown party fine?' at hour '0'\nArticle 'Covid-19 in the UK: How many coronavirus cases are there in my area?' at hour '17'\nArticle 'What are the Covid self-isolation rules and when will they be scrapped?' at hour '12'\nArticle 'What are the travel rules for France, the US, and other popular destinations?' at hour '13'\nArticle 'How do we know Covid vaccines are safe?' at hour '11'\nArticle 'What are the Covid rules in England, Scotland, Wales and Northern Ireland?' at hour '9'\nArticle 'Covid: How to look after yourself at home' at hour '12'\nArticle 'What are the latest rules for face coverings and masks?' at hour '17'\nArticle 'Omicron symptoms: Is a runny nose a cold or Covid?' at hour '12'\nArticle 'What are the Covid rules in schools and will they stay open this term?' at hour '10'\nArticle 'What Covid tests do I still need to travel abroad?' at hour '9'\nArticle 'How do I book my Covid jab and does it work against Omicron?' at hour '11'\nArticle 'When should I take a Covid test now?' at hour '15'\nArticle 'Coronavirus treatments: What progress is being made?' at hour '9'\nArticle 'Covid: How will my exams be different this year?' at hour '9'\nArticle 'Covid map: Coronavirus cases, deaths, vaccinations by country' at hour '13'\n",
     "output_type": "stream"
    }
   ]
  },
  {
   "cell_type": "markdown",
   "source": "<div class=\"alert alert-info\">\n\n##### Exercise 3.2: sanity checks\n\nWe should always do some sanity checks on the data. For example,\n- Can you find the type of values that `df.published_hour` takes? Is it `str` or `int`? \n- What should be the type of `df.published_hour`? If it is not of correct type, can you perform the necessary conversion?\n- What is the timezone of `df.published`? Is it what we expect? Does it depend on the location of news source? For example, can you check what timezone are the RSS feeds from The New York Times (https://www.nytimes.com/rss)\n\n</div>\n\n",
   "metadata": {
    "deepnote_app_coordinates": {
     "x": 0,
     "y": 216,
     "w": 12,
     "h": 5
    },
    "cell_id": "00035-a1cb0cfb-99f5-4092-b7a7-baeac1bce7d4",
    "deepnote_cell_type": "markdown",
    "deepnote_cell_height": 272.390625
   }
  },
  {
   "cell_type": "code",
   "metadata": {
    "tags": [],
    "deepnote_to_be_reexecuted": true,
    "source_hash": "b623e53d",
    "cell_id": "00036-750b3d6a-9e69-46d2-9775-8393560689b1",
    "deepnote_cell_type": "code",
    "deepnote_cell_height": 81
   },
   "source": "",
   "execution_count": null,
   "outputs": []
  },
  {
   "cell_type": "markdown",
   "source": "\n<div class=\"alert alert-info\">\n\n##### Exercise 3.3\nCount up all occurrences of publication hours. Which time of day seems to have the highest level of publication?\n\nNote: With pandas, you can use the `value_counts()` method of the `published.dt.hour` series.\n</div>",
   "metadata": {
    "tags": [],
    "cell_id": "00037-a267a1f7-0244-42e1-9b7f-a8bd4d2e82a4",
    "deepnote_cell_type": "markdown",
    "deepnote_cell_height": 176.796875
   }
  },
  {
   "cell_type": "code",
   "metadata": {
    "tags": [],
    "deepnote_to_be_reexecuted": true,
    "source_hash": "73e3a362",
    "execution_start": 1645181627415,
    "execution_millis": 0,
    "deepnote_app_coordinates": {
     "x": 0,
     "y": 222,
     "w": 12,
     "h": 5
    },
    "cell_id": "00038-52988977-e1ee-4d0d-9a27-dfc588bc7459",
    "deepnote_cell_type": "code",
    "deepnote_cell_height": 117
   },
   "source": "# Type conversion \n# Check out apply function in pandas here: https://pandas.pydata.org/docs/reference/api/pandas.DataFrame.apply.html\ndf.published_hour = df.published_hour.apply(int)",
   "execution_count": null,
   "outputs": []
  },
  {
   "cell_type": "code",
   "metadata": {
    "deepnote_to_be_reexecuted": true,
    "source_hash": "906b12f",
    "execution_start": 1643647759777,
    "execution_millis": 7,
    "deepnote_app_coordinates": {
     "x": 0,
     "y": 228,
     "w": 12,
     "h": 5
    },
    "cell_id": "00039-7ece946d-eccd-4058-8465-b7ee9e809ed7",
    "deepnote_cell_type": "code",
    "deepnote_cell_height": 626.515625
   },
   "source": "# Solution #1 using the entries dict:\n\nhours_count = {}\nfor entry in d[\"entries\"]:\n    if not entry[\"published_parsed\"].tm_hour in hours_count:\n        hours_count[entry[\"published_parsed\"].tm_hour] = 1\n    else:\n        hours_count[entry[\"published_parsed\"].tm_hour] += 1\n\nfor hour, count in hours_count.items():\n    print(f\"Hour {hour} appeared {count} times\")",
   "execution_count": null,
   "outputs": [
    {
     "name": "stdout",
     "text": "Hour 15 appeared 4 times\nHour 14 appeared 5 times\nHour 10 appeared 5 times\nHour 12 appeared 4 times\nHour 11 appeared 3 times\nHour 13 appeared 1 times\nHour 1 appeared 5 times\nHour 0 appeared 11 times\nHour 18 appeared 1 times\nHour 2 appeared 1 times\nHour 20 appeared 1 times\nHour 21 appeared 1 times\nHour 6 appeared 3 times\nHour 9 appeared 2 times\nHour 16 appeared 1 times\nHour 17 appeared 2 times\nHour 8 appeared 3 times\nHour 22 appeared 1 times\n",
     "output_type": "stream"
    }
   ]
  },
  {
   "cell_type": "code",
   "metadata": {
    "deepnote_to_be_reexecuted": true,
    "source_hash": "d00b82fe",
    "execution_start": 1645181641870,
    "execution_millis": 9,
    "deepnote_app_coordinates": {
     "x": 0,
     "y": 234,
     "w": 12,
     "h": 5
    },
    "cell_id": "00040-61d4dc15-2428-42ae-ae18-5e74bad45c87",
    "deepnote_cell_type": "code",
    "deepnote_cell_height": 647.90625
   },
   "source": "# Solution #2 using the entries dict with defaultdict:\n\nfrom collections import defaultdict\n\nhours_count = defaultdict(int)\nfor entry in d[\"entries\"]:\n    hours_count[entry[\"published_parsed\"].tm_hour] += 1\n\nfor hour, count in hours_count.items():\n    print(f\"Hour {hour} appeared {count} times\")",
   "execution_count": null,
   "outputs": [
    {
     "name": "stdout",
     "text": "Hour 10 appeared 4 times\nHour 8 appeared 4 times\nHour 6 appeared 7 times\nHour 7 appeared 1 times\nHour 1 appeared 2 times\nHour 9 appeared 7 times\nHour 0 appeared 14 times\nHour 17 appeared 3 times\nHour 22 appeared 1 times\nHour 21 appeared 1 times\nHour 18 appeared 2 times\nHour 14 appeared 1 times\nHour 16 appeared 3 times\nHour 11 appeared 4 times\nHour 23 appeared 3 times\nHour 4 appeared 1 times\nHour 15 appeared 2 times\nHour 3 appeared 1 times\nHour 13 appeared 3 times\nHour 12 appeared 4 times\n",
     "output_type": "stream"
    }
   ]
  },
  {
   "cell_type": "code",
   "metadata": {
    "deepnote_to_be_reexecuted": true,
    "source_hash": "fc3e2b16",
    "execution_start": 1643643504324,
    "execution_millis": 10,
    "deepnote_app_coordinates": {
     "x": 0,
     "y": 240,
     "w": 12,
     "h": 5
    },
    "cell_id": "00041-7eaba722-b76e-43ef-be89-3c3748846862",
    "deepnote_cell_type": "code",
    "deepnote_cell_height": 554.515625
   },
   "source": "# Solution #3 using pandas:\n\nhours_count = df.published_hour.value_counts()\nhours_count.sort_values(inplace=True, ascending=False)\n\nfor hour, count in hours_count.to_dict().items():\n    print(f\"Hour {hour} appeared {count} times\")",
   "execution_count": null,
   "outputs": [
    {
     "name": "stdout",
     "text": "Hour 0 appeared 11 times\nHour 1 appeared 5 times\nHour 14 appeared 5 times\nHour 10 appeared 5 times\nHour 12 appeared 4 times\nHour 15 appeared 4 times\nHour 6 appeared 3 times\nHour 8 appeared 3 times\nHour 11 appeared 3 times\nHour 17 appeared 2 times\nHour 9 appeared 2 times\nHour 18 appeared 1 times\nHour 21 appeared 1 times\nHour 20 appeared 1 times\nHour 13 appeared 1 times\nHour 16 appeared 1 times\nHour 2 appeared 1 times\nHour 22 appeared 1 times\n",
     "output_type": "stream"
    }
   ]
  },
  {
   "cell_type": "code",
   "metadata": {
    "tags": [],
    "deepnote_to_be_reexecuted": true,
    "source_hash": "511d9b5b",
    "execution_start": 1643647331459,
    "execution_millis": 8,
    "deepnote_app_coordinates": {
     "x": 0,
     "y": 246,
     "w": 12,
     "h": 5
    },
    "cell_id": "00042-5afc4162-be54-4fb3-b68d-caba54c87a7f",
    "deepnote_cell_type": "code",
    "deepnote_cell_height": 708.6875
   },
   "source": "# Solution #4 using a Counter object\n\nfrom collections import Counter\n\nhours_count = Counter(df.published_hour)\n\nfor i in range(0, 24):\n    print(f\"Hour: {i} appeard {hours_count[i]} times\")\n",
   "execution_count": null,
   "outputs": [
    {
     "name": "stdout",
     "text": "Hour: 0 appeard 11 times\nHour: 1 appeard 5 times\nHour: 2 appeard 1 times\nHour: 3 appeard 0 times\nHour: 4 appeard 0 times\nHour: 5 appeard 0 times\nHour: 6 appeard 3 times\nHour: 7 appeard 0 times\nHour: 8 appeard 3 times\nHour: 9 appeard 2 times\nHour: 10 appeard 5 times\nHour: 11 appeard 3 times\nHour: 12 appeard 4 times\nHour: 13 appeard 1 times\nHour: 14 appeard 5 times\nHour: 15 appeard 4 times\nHour: 16 appeard 1 times\nHour: 17 appeard 2 times\nHour: 18 appeard 1 times\nHour: 19 appeard 0 times\nHour: 20 appeard 1 times\nHour: 21 appeard 1 times\nHour: 22 appeard 1 times\nHour: 23 appeard 0 times\n",
     "output_type": "stream"
    }
   ]
  },
  {
   "cell_type": "markdown",
   "source": "<div class=\"alert alert-info\">\n\n##### Exercise 3.3: searching for keywords\n\nPrint out each article title where a keyword is present in either the title or the summary.\n\nYou can do this by iterating over the entries dictionary `d[\"entries\"]` or, better, by selecting a subset of the DataFrame. For the latter, you can use the methods `df.summary.str.contains` (or `df.title.str.contains`) to search for rows for which the summary (title) contains a given substring.\n\n</div>",
   "metadata": {
    "deepnote_app_coordinates": {
     "x": 0,
     "y": 252,
     "w": 12,
     "h": 5
    },
    "cell_id": "00043-2c113122-197c-444a-bf69-f2d7cd18acea",
    "deepnote_cell_type": "markdown",
    "deepnote_cell_height": 221.59375
   }
  },
  {
   "cell_type": "code",
   "metadata": {
    "deepnote_to_be_reexecuted": true,
    "source_hash": "6f09aa97",
    "execution_start": 1645181676845,
    "execution_millis": 7,
    "deepnote_app_coordinates": {
     "x": 0,
     "y": 258,
     "w": 12,
     "h": 5
    },
    "cell_id": "00044-50989db8-4a4b-4459-978e-50ae54e482fa",
    "deepnote_cell_type": "code",
    "deepnote_cell_height": 554.515625
   },
   "source": "# Solution #1 using the entries dictionary:\n\nkeyword = \"covid\"\n\nfor entry in d[\"entries\"]:\n    if keyword in entry[\"title\"].lower() or keyword in entry[\"summary\"].lower():\n        print(entry[\"title\"])",
   "execution_count": null,
   "outputs": [
    {
     "name": "stdout",
     "text": "Covid: NHS bosses call for free tests and isolation to remain\nCall to keep testing free and Covid passes scrapped in Wales\nCovid pass: Wales' law for cinemas and nightclubs ends\nCovid: What's life like for unvaccinated people in the UK?\nChild Covid vaccinations: Your questions answered\nCovid-19 in the UK: How many coronavirus cases are there in my area?\nWhat are the Covid self-isolation rules and when will they be scrapped?\nHow do we know Covid vaccines are safe?\nWhat are the Covid rules in England, Scotland, Wales and Northern Ireland?\nCovid: How to look after yourself at home\nOmicron symptoms: Is a runny nose a cold or Covid?\nWhat are the Covid rules in schools and will they stay open this term?\nWhat Covid tests do I still need to travel abroad?\nHow do I book my Covid jab and does it work against Omicron?\nWhen should I take a Covid test now?\nCoronavirus treatments: What progress is being made?\nCovid: How will my exams be different this year?\nCovid map: Coronavirus cases, deaths, vaccinations by country\n",
     "output_type": "stream"
    }
   ]
  },
  {
   "cell_type": "code",
   "metadata": {
    "deepnote_to_be_reexecuted": true,
    "source_hash": "8854a680",
    "execution_start": 1645181690234,
    "execution_millis": 10,
    "deepnote_app_coordinates": {
     "x": 0,
     "y": 264,
     "w": 12,
     "h": 5
    },
    "cell_id": "00045-28b02751-c485-49e6-a69f-7ed0cba7fdba",
    "deepnote_cell_type": "code",
    "deepnote_cell_height": 517.703125,
    "deepnote_output_heights": [
     366.703125
    ]
   },
   "source": "# Solution #2 by filtering the dataframe:\n\ndf_filtered = df[(df.summary.str.contains(keyword, case=False)) | (df.title.str.contains(keyword, case=False))]\ndf_filtered.title",
   "execution_count": null,
   "outputs": [
    {
     "output_type": "execute_result",
     "execution_count": 25,
     "data": {
      "text/plain": "1     Covid: NHS bosses call for free tests and isol...\n3     Call to keep testing free and Covid passes scr...\n5     Covid pass: Wales' law for cinemas and nightcl...\n18    Covid: What's life like for unvaccinated peopl...\n51    Child Covid vaccinations: Your questions answered\n53    Covid-19 in the UK: How many coronavirus cases...\n54    What are the Covid self-isolation rules and wh...\n56              How do we know Covid vaccines are safe?\n57    What are the Covid rules in England, Scotland,...\n58            Covid: How to look after yourself at home\n60    Omicron symptoms: Is a runny nose a cold or Co...\n61    What are the Covid rules in schools and will t...\n62    What Covid tests do I still need to travel abr...\n63    How do I book my Covid jab and does it work ag...\n64                 When should I take a Covid test now?\n65    Coronavirus treatments: What progress is being...\n66     Covid: How will my exams be different this year?\n67    Covid map: Coronavirus cases, deaths, vaccinat...\nName: title, dtype: object"
     },
     "metadata": {}
    }
   ]
  },
  {
   "cell_type": "markdown",
   "source": "<div class=\"alert alert-info\">\n\n##### Exercise 3.4\n\nNow, count the number of entries containing the keyword in either the summary or the title.\n\n</div>",
   "metadata": {
    "deepnote_app_coordinates": {
     "x": 0,
     "y": 270,
     "w": 12,
     "h": 5
    },
    "cell_id": "00046-008b9b24-39ea-45a9-975b-5b4bbbd72a2b",
    "deepnote_cell_type": "markdown",
    "deepnote_cell_height": 140.390625
   }
  },
  {
   "cell_type": "code",
   "metadata": {
    "deepnote_to_be_reexecuted": true,
    "source_hash": "c8220eba",
    "execution_start": 1645181702811,
    "execution_millis": 5,
    "deepnote_app_coordinates": {
     "x": 0,
     "y": 276,
     "w": 12,
     "h": 5
    },
    "cell_id": "00047-f70464d9-7b5d-4029-8c20-a58a3daf7136",
    "deepnote_cell_type": "code",
    "deepnote_cell_height": 118.1875,
    "deepnote_output_heights": [
     21.1875
    ]
   },
   "source": "len(df_filtered)",
   "execution_count": null,
   "outputs": [
    {
     "output_type": "execute_result",
     "execution_count": 26,
     "data": {
      "text/plain": "18"
     },
     "metadata": {}
    }
   ]
  },
  {
   "cell_type": "code",
   "metadata": {
    "deepnote_to_be_reexecuted": true,
    "source_hash": "c3a28a29",
    "execution_start": 1645181703537,
    "execution_millis": 9,
    "deepnote_app_coordinates": {
     "x": 0,
     "y": 282,
     "w": 12,
     "h": 5
    },
    "cell_id": "00048-dc9806d0-ad13-4856-9757-28c7f622f1a7",
    "deepnote_cell_type": "code",
    "deepnote_cell_height": 129.6875
   },
   "source": "title_and_summary = (df.title + df.summary).str.lower()\nprint(title_and_summary.str.contains(keyword).sum())",
   "execution_count": null,
   "outputs": [
    {
     "name": "stdout",
     "text": "18\n",
     "output_type": "stream"
    }
   ]
  },
  {
   "cell_type": "markdown",
   "source": "# Homework: RSS from multiple sources\n\nIn this exercise, we will aggregate RSS feeds from multiple news soruces. As a standard practice, when the same task needs to be repeated, it is useful to write a function to do so. \n\nWe will use the following `website_name` and `url` pairs for our demonstration.",
   "metadata": {
    "deepnote_app_coordinates": {
     "x": 0,
     "y": 288,
     "w": 12,
     "h": 5
    },
    "cell_id": "00049-37cfb159-247b-4231-9637-18b3ef9465cd",
    "deepnote_cell_type": "markdown",
    "deepnote_cell_height": 179.1875
   }
  },
  {
   "cell_type": "code",
   "metadata": {
    "deepnote_to_be_reexecuted": true,
    "source_hash": "4ad3cb75",
    "execution_start": 1645181706661,
    "execution_millis": 1,
    "deepnote_app_coordinates": {
     "x": 0,
     "y": 294,
     "w": 12,
     "h": 5
    },
    "cell_id": "00050-74122a3a-875c-4b41-b2bc-de5a6bbf6bf9",
    "deepnote_cell_type": "code",
    "deepnote_cell_height": 225
   },
   "source": "rss_feeds = {\n    'BBC': 'feed://feeds.bbci.co.uk/news/rss.xml',\n    'Daily Mail': 'feed://dailymail.co.uk/home/index.rss',\n    'Telegraph': 'feed://telegraph.co.uk/rss.xml',\n    'Independent': 'feed://independent.co.uk/rss',\n    'Daily Mirror': 'feed://mirror.co.uk/?service=rss',\n    'Guardian': 'feed://theguardian.com/uk/rss',\n    'FT': 'feed://ft.com/rss/home/uk'\n}",
   "execution_count": null,
   "outputs": []
  },
  {
   "cell_type": "markdown",
   "source": "<div class=\"alert alert-info\">\n\n##### Exercise 4.1\n\nWrite a function `parse_rss_feed(url, website_name)` that takes in two inputs, `url` of string type and `website_name` of string type, and returns a pandas `DataFrame` of RSS feeds (including a new column with the website name).\n\n</div>",
   "metadata": {
    "tags": [],
    "deepnote_app_coordinates": {
     "x": 0,
     "y": 414,
     "w": 12,
     "h": 5
    },
    "cell_id": "00051-205ff771-dfce-49b2-a22f-f4e723f17168",
    "deepnote_cell_type": "markdown",
    "deepnote_cell_height": 162.796875
   }
  },
  {
   "cell_type": "code",
   "metadata": {
    "deepnote_to_be_reexecuted": true,
    "source_hash": "34cec10d",
    "execution_start": 1645181719005,
    "execution_millis": 0,
    "deepnote_app_coordinates": {
     "x": 0,
     "y": 300,
     "w": 12,
     "h": 5
    },
    "cell_id": "00052-ce3793c3-82f4-4467-8ac5-f4d1ba575f3f",
    "deepnote_cell_type": "code",
    "deepnote_cell_height": 189
   },
   "source": "def parse_rss_feed(url, website_name):\n    parsed_rss = feedparser.parse(url)\n\n    df = pd.DataFrame(parsed_rss['entries'], columns=['title', 'summary', 'link', 'published'])\n    df['website'] = website_name\n    df.published = pd.to_datetime(df.published)\n    return df",
   "execution_count": null,
   "outputs": []
  },
  {
   "cell_type": "markdown",
   "source": "<div class=\"alert alert-info\">\n\n##### Exercise 4.2\n\nUsing the pandas `pd.concat` method and the function `parse_rss_feed` aggregate all the RSS feeds from `rss_feeds`.\n\n</div>",
   "metadata": {
    "tags": [],
    "deepnote_app_coordinates": {
     "x": 0,
     "y": 420,
     "w": 12,
     "h": 5
    },
    "cell_id": "00053-03c2d911-703d-4edc-8332-b4ddb6ed9e9d",
    "deepnote_cell_type": "markdown",
    "deepnote_cell_height": 140.390625
   }
  },
  {
   "cell_type": "code",
   "metadata": {
    "deepnote_to_be_reexecuted": true,
    "source_hash": "1ea886f8",
    "execution_start": 1645181720863,
    "execution_millis": 2276,
    "deepnote_app_coordinates": {
     "x": 0,
     "y": 306,
     "w": 12,
     "h": 5
    },
    "cell_id": "00054-7a452222-646e-4753-af48-a40b06473eef",
    "deepnote_cell_type": "code",
    "deepnote_cell_height": 81
   },
   "source": "df_all = pd.concat([parse_rss_feed(feed, website_name) for website_name, feed in rss_feeds.items()], ignore_index=True)",
   "execution_count": null,
   "outputs": []
  },
  {
   "cell_type": "markdown",
   "source": "<div class=\"alert alert-info\">\n\n##### Exercise 4.3\nMake a bar plot displaying number of RSS feeds on a particular (a) date, (b) publishing hour, and (c) website. \n\n**Hint:** Checkout `sns.countplot`: https://seaborn.pydata.org/generated/seaborn.countplot.html\n\n</div>\n\n<br />\n\n<div class=\"alert alert-warning\">\n\n**Note:** As we develop visualization, it is considered a good practice to use a color-blind friendly palette to make your work more inclusive. \n\nHere are some resources on colour-blind palette in seaborn:\n<ul>\n    <li>https://seaborn.pydata.org/tutorial/color_palettes.html#qualitative-color-palettes</li>\n    <li>https://medium.com/@neuralnets/data-visualization-with-python-and-seaborn-part-3-69647c19bf2</li>\n</ul>\n\n</div>\n",
   "metadata": {
    "tags": [],
    "deepnote_app_coordinates": {
     "x": 0,
     "y": 312,
     "w": 12,
     "h": 5
    },
    "cell_id": "00055-f68dca80-9766-4b28-b23f-dc3fc9595e0a",
    "deepnote_cell_type": "markdown",
    "deepnote_cell_height": 394.1875
   }
  },
  {
   "cell_type": "code",
   "metadata": {
    "deepnote_to_be_reexecuted": true,
    "source_hash": "7041453b",
    "execution_start": 1645181724344,
    "execution_millis": 821,
    "deepnote_app_coordinates": {
     "x": 0,
     "y": 318,
     "w": 12,
     "h": 5
    },
    "cell_id": "00056-01322bbf-8d99-4dc4-823c-7f62248a4916",
    "deepnote_cell_type": "code",
    "deepnote_cell_height": 367,
    "deepnote_output_heights": [
     270
    ]
   },
   "source": "sns.countplot(y=df_all.published.dt.date, data=df_all);",
   "execution_count": null,
   "outputs": [
    {
     "data": {
      "text/plain": "<Figure size 432x288 with 1 Axes>",
      "image/png": "[encoded data removed]"
     },
     "metadata": {
      "image/png": {
       "width": 439,
       "height": 268
      }
     },
     "output_type": "display_data"
    }
   ]
  },
  {
   "cell_type": "markdown",
   "source": "",
   "metadata": {
    "tags": [],
    "deepnote_app_coordinates": {
     "x": 0,
     "y": 324,
     "w": 12,
     "h": 5
    },
    "cell_id": "00057-fbbbf9be-bbc8-46e5-96dc-f62ef1646423",
    "deepnote_cell_type": "markdown",
    "deepnote_cell_height": 46
   }
  },
  {
   "cell_type": "code",
   "metadata": {
    "deepnote_to_be_reexecuted": true,
    "source_hash": "748ddc4f",
    "execution_start": 1645181727674,
    "execution_millis": 424,
    "deepnote_app_coordinates": {
     "x": 0,
     "y": 330,
     "w": 12,
     "h": 5
    },
    "cell_id": "00058-05132ef7-28de-4db8-80e4-e6eb9a6ad5fd",
    "deepnote_cell_type": "code",
    "deepnote_cell_height": 367,
    "deepnote_output_heights": [
     270
    ]
   },
   "source": "sns.countplot(y=df_all.published.dt.hour, data=df_all);",
   "execution_count": null,
   "outputs": [
    {
     "data": {
      "text/plain": "<Figure size 432x288 with 1 Axes>",
      "image/png": "[encoded data removed]"
     },
     "metadata": {
      "image/png": {
       "width": 389,
       "height": 268
      }
     },
     "output_type": "display_data"
    }
   ]
  },
  {
   "cell_type": "code",
   "metadata": {
    "deepnote_to_be_reexecuted": true,
    "source_hash": "ed3556f2",
    "execution_start": 1645181730334,
    "execution_millis": 370,
    "deepnote_app_coordinates": {
     "x": 0,
     "y": 336,
     "w": 12,
     "h": 5
    },
    "cell_id": "00059-bd110603-5652-4944-a131-721b6e4bc6fe",
    "deepnote_cell_type": "code",
    "deepnote_cell_height": 367,
    "deepnote_output_heights": [
     270
    ]
   },
   "source": "sns.countplot(y=\"website\", data=df_all);",
   "execution_count": null,
   "outputs": [
    {
     "data": {
      "text/plain": "<Figure size 432x288 with 1 Axes>",
      "image/png": "[encoded data removed]"
     },
     "metadata": {
      "image/png": {
       "width": 445,
       "height": 268
      }
     },
     "output_type": "display_data"
    }
   ]
  },
  {
   "cell_type": "markdown",
   "source": "<div class=\"alert alert-info\">\n\n##### Exercise 4.4\n\nFind all those RSS Feeds that contain either of the words in its title or summary. Use the following list of words:\n- Word List A: climate, carbon, sustainab, green, energy\n- Word List B: police, constable, cops, officer, weapon\n\n</div>\n\n<div class=\"alert alert-warning\">\n\n**Note1:** If you are not familiar with Regular Expressions, it will be useful to learn a bit about them here. From Wikipedia - *A regular expression (shortened as regex or regexp) is a sequence of characters that specifies a search pattern in text.* It can be extremely powerful **if used correctly**. There are various ways one can form patterns. Here is a cheatsheet that can be useful to learn what are various ways one can form these expressions — https://dl.icewarp.com/online_help/203030104.htm. \n\n**Note2:** Check here for all pandas functions that can use regex — https://dl.icewarp.com/online_help/203030104.htm and https://kanoki.org/2019/11/12/how-to-use-regex-in-pandas/ \n\n</div>",
   "metadata": {
    "tags": [],
    "deepnote_app_coordinates": {
     "x": 0,
     "y": 426,
     "w": 12,
     "h": 5
    },
    "cell_id": "00060-9829393c-d9e0-46cc-bb29-577445f30686",
    "deepnote_cell_type": "markdown",
    "deepnote_cell_height": 433.375
   }
  },
  {
   "cell_type": "code",
   "metadata": {
    "deepnote_to_be_reexecuted": true,
    "source_hash": "c6017436",
    "execution_start": 1645181737726,
    "execution_millis": 73,
    "deepnote_app_coordinates": {
     "x": 0,
     "y": 342,
     "w": 12,
     "h": 5
    },
    "cell_id": "00061-94e2eaa1-df92-424a-9d40-fc9519d1c1ff",
    "deepnote_cell_type": "code",
    "deepnote_cell_height": 670
   },
   "source": "pattern = 'climate|carbon|sustainab|green|energy'\n\nmatching_items = df_all.title.str.contains(pattern, case=False) | df_all.summary.str.contains(pattern, case=False)\n\ndf_all[matching_items]",
   "execution_count": null,
   "outputs": [
    {
     "output_type": "execute_result",
     "execution_count": 34,
     "data": {
      "application/vnd.deepnote.dataframe.v3+json": {
       "column_count": 5,
       "row_count": 24,
       "columns": [
        {
         "name": "title",
         "dtype": "object",
         "stats": {
          "unique_count": 24,
          "nan_count": 0,
          "categories": [
           {
            "name": "Two men have a lucky escape when car smashes into cable box right next to them in Willenhall [Video]",
            "count": 1
           },
           {
            "name": "Spring could arrive 10 DAYS earlier by 2100, study warns",
            "count": 1
           },
           {
            "name": "22 others",
            "count": 22
           }
          ]
         }
        },
        {
         "name": "summary",
         "dtype": "object",
         "stats": {
          "unique_count": 23,
          "nan_count": 1,
          "categories": [
           {
            "name": "Two men narrowly avoided being ploughed into by an out-of-control car that smashed into a green BT cable box right next to them on Ashmore Lake Way, Willenhall, West Midlands on January 28.",
            "count": 1
           },
           {
            "name": "22 others",
            "count": 22
           },
           {
            "name": "Missing",
            "count": 1
           }
          ]
         }
        },
        {
         "name": "link",
         "dtype": "object",
         "stats": {
          "unique_count": 24,
          "nan_count": 0,
          "categories": [
           {
            "name": "https://www.dailymail.co.uk/news/article-10526731/Two-men-lucky-escape-car-smashes-cable-box-right-Willenhall-Video.html?ns_mchannel=rss&ns_campaign=1490&ito=1490",
            "count": 1
           },
           {
            "name": "https://www.dailymail.co.uk/sciencetech/article-10526879/Spring-arrive-10-DAYS-earlier-2100-study-warns.html?ns_mchannel=rss&ns_campaign=1490&ito=1490",
            "count": 1
           },
           {
            "name": "22 others",
            "count": 22
           }
          ]
         }
        },
        {
         "name": "published",
         "dtype": "datetime64[ns, UTC]",
         "stats": {
          "unique_count": 24,
          "nan_count": 0,
          "min": "2021-10-20 16:04:10+00:00",
          "max": "2022-02-18 10:42:09+00:00",
          "histogram": [
           {
            "bin_start": 1634745850000000000,
            "bin_end": 1635789357900000000,
            "count": 1
           },
           {
            "bin_start": 1635789357900000000,
            "bin_end": 1636832865800000000,
            "count": 1
           },
           {
            "bin_start": 1636832865800000000,
            "bin_end": 1637876373700000000,
            "count": 0
           },
           {
            "bin_start": 1637876373700000000,
            "bin_end": 1638919881600000000,
            "count": 0
           },
           {
            "bin_start": 1638919881600000000,
            "bin_end": 1639963389500000000,
            "count": 0
           },
           {
            "bin_start": 1639963389500000000,
            "bin_end": 1641006897400000000,
            "count": 0
           },
           {
            "bin_start": 1641006897400000000,
            "bin_end": 1642050405300000000,
            "count": 1
           },
           {
            "bin_start": 1642050405300000000,
            "bin_end": 1643093913200000000,
            "count": 3
           },
           {
            "bin_start": 1643093913200000000,
            "bin_end": 1644137421100000000,
            "count": 1
           },
           {
            "bin_start": 1644137421100000000,
            "bin_end": 1645180929000000000,
            "count": 17
           }
          ]
         }
        },
        {
         "name": "website",
         "dtype": "object",
         "stats": {
          "unique_count": 4,
          "nan_count": 0,
          "categories": [
           {
            "name": "Guardian",
            "count": 17
           },
           {
            "name": "Daily Mail",
            "count": 4
           },
           {
            "name": "2 others",
            "count": 3
           }
          ]
         }
        },
        {
         "name": "_deepnote_index_column",
         "dtype": "int64"
        }
       ],
       "rows": [
        {
         "title": "Two men have a lucky escape when car smashes into cable box right next to them in Willenhall [Video]",
         "summary": "Two men narrowly avoided being ploughed into by an out-of-control car that smashed into a green BT …",
         "link": "https://www.dailymail.co.uk/news/article-10526731/Two-men-lucky-escape-car-smashes-cable-box-right-…",
         "published": "2022-02-18T10:42:09.000000",
         "website": "Daily Mail",
         "_deepnote_index_column": 77
        },
        {
         "title": "Spring could arrive 10 DAYS earlier by 2100, study warns",
         "summary": "Researchers from the Ohio State University say that a drop in the total number of rainy days is cau…",
         "link": "https://www.dailymail.co.uk/sciencetech/article-10526879/Spring-arrive-10-DAYS-earlier-2100-study-w…",
         "published": "2022-02-18T10:15:42.000000",
         "website": "Daily Mail",
         "_deepnote_index_column": 86
        },
        {
         "title": "Why being 'ghosted' by a best friend is the cruellest heartbreak, writes top novelist JANE GREEN",
         "summary": "JANE GREEN: Despite being able to move between many different groups, I am the kind of woman who li…",
         "link": "https://www.dailymail.co.uk/femail/article-10525363/Why-ghosted-best-friend-cruellest-heartbreak-wr…",
         "published": "2022-02-18T02:57:13.000000",
         "website": "Daily Mail",
         "_deepnote_index_column": 121
        },
        {
         "title": "ROSIE GREEN: My love is like a red, red nose…",
         "summary": "There's a reason in sickness and in health is included in the marriage vows: illness is testing not…",
         "link": "https://www.dailymail.co.uk/home/you/article-10484797/ROSIE-GREEN-love-like-red-red-nose.html?ns_mc…",
         "published": "2022-02-13T00:02:23.000000",
         "website": "Daily Mail",
         "_deepnote_index_column": 217
        },
        {
         "title": "How to avoid the green levies that add £153 on to energy bills",
         "summary": "nan",
         "link": "https://www.telegraph.co.uk/money/consumer-affairs/how-avoid-green-levies-social-environenal-tax-en…",
         "published": "2022-02-18T07:56:16.000000",
         "website": "Telegraph",
         "_deepnote_index_column": 261
        },
        {
         "title": "Who is eligible for help with energy bills and council tax?",
         "summary": "<p>Electricity and gas costs to soar by almost £700 a year from April, says Ofgem </p>",
         "link": "https://www.independent.co.uk/news/uk/home-news/energy-bill-council-tax-help-claim-b2017255.html",
         "published": "2022-02-18T09:47:37.000000",
         "website": "Independent",
         "_deepnote_index_column": 367
        },
        {
         "title": "Storm Eunice: Wind energy generating staggering 42% of electricity across Britain",
         "summary": "<p>But storm is expected to cause major disruption </p>",
         "link": "https://www.independent.co.uk/news/uk/politics/storm-eunice-wind-today-electricity-uk-b2018031.html",
         "published": "2022-02-18T09:35:35.000000",
         "website": "Independent",
         "_deepnote_index_column": 380
        },
        {
         "title": "Double trouble with insulation in older homes | Letters",
         "summary": "<p><strong>Colin Burke </strong>on when thick curtains won’t suffice, <strong>Phil Ebbrell </strong…",
         "link": "https://www.theguardian.com/society/2022/feb/17/double-trouble-with-insulation-in-older-homes",
         "published": "2022-02-17T18:15:08.000000",
         "website": "Guardian",
         "_deepnote_index_column": 464
        },
        {
         "title": "Staff from climate sceptic group recruited by Tory MP behind net zero attacks",
         "summary": "<p>Further links emerge between Craig Mackinlay’s Net Zero Scrutiny Group and Global Warming Policy…",
         "link": "https://www.theguardian.com/environment/2022/feb/17/staff-from-climate-sceptic-group-recruited-by-t…",
         "published": "2022-02-17T14:17:51.000000",
         "website": "Guardian",
         "_deepnote_index_column": 478
        },
        {
         "title": "Harmful subsidies: why is the world still funding the destruction of nature?",
         "summary": "<p>Government-financed support in sectors including agriculture, fossil fuels and water is incentiv…",
         "link": "https://www.theguardian.com/environment/2022/feb/17/harmful-subsidies-why-is-the-world-still-fundin…",
         "published": "2022-02-17T06:30:28.000000",
         "website": "Guardian",
         "_deepnote_index_column": 479
        }
       ]
      },
      "text/plain": "                                                 title  \\\n77   Two men have a lucky escape when car smashes i...   \n86   Spring could arrive 10 DAYS earlier by 2100, s...   \n121  Why being 'ghosted' by a best friend is the cr...   \n217      ROSIE GREEN: My love is like a red, red nose…   \n261  How to avoid the green levies that add £153 on...   \n367  Who is eligible for help with energy bills and...   \n380  Storm Eunice: Wind energy generating staggerin...   \n464  Double trouble with insulation in older homes ...   \n478  Staff from climate sceptic group recruited by ...   \n479  Harmful subsidies: why is the world still fund...   \n480  UK green economy has failed to grow since 2014...   \n481  Lobbying fears as MPs’ interest groups receive...   \n487  TfL junk food ad ban has helped Londoners shop...   \n501  The Tories attacking the UK’s net zero plans -...   \n507  Life in the Arctic: how climate change is kill...   \n512  Indigenous activists on tackling the climate c...   \n517  Nikesh Shukla: ‘Reading Spider-Man made me fee...   \n522  Lab-grown chicken and ‘bleeding bean burgers’:...   \n524  From flexible working to voice notes: 11 thing...   \n529  Eating out is an indulgence – so is putting ca...   \n531  New York brand Collina Strada offers a club-re...   \n535  Tell us: share your experience of the cost of ...   \n544  Sign up for the Winter Olympics daily briefing...   \n545  Sign up for Down to Earth: The best way to mak...   \n\n                                               summary  \\\n77   Two men narrowly avoided being ploughed into b...   \n86   Researchers from the Ohio State University say...   \n121  JANE GREEN: Despite being able to move between...   \n217  There's a reason in sickness and in health is ...   \n261                                                NaN   \n367  <p>Electricity and gas costs to soar by almost...   \n380  <p>But storm is expected to cause major disrup...   \n464  <p><strong>Colin Burke </strong>on when thick ...   \n478  <p>Further links emerge between Craig Mackinla...   \n479  <p>Government-financed support in sectors incl...   \n480  <p>Office for National Statistics finds ‘no si...   \n481  <p>Exclusive: chair of standards committee cal...   \n487  <p>Researchers estimate a 1,000 calorie decrea...   \n501  <p>The Net Zero Scrutiny Group insists it acce...   \n507  <p>As the arctic warms four times faster than ...   \n512  <p>Despite only making up about 6% of the glob...   \n517  <p>The author and screenwriter on his love of ...   \n522  <p>From 3D-printed steak to vegan junk food, p...   \n524  <p>The pandemic and climate crisis have accele...   \n529  <p>Yes, we need to do something about obesity....   \n531  <p>Spoof reality TV film substituted for fashi...   \n535  <p>Tell us how you manage financially as price...   \n544  <p>Running throughout the Winter Olympics, a g...   \n545  <p>Subscribe to receive an exclusive weekly pi...   \n\n                                                  link  \\\n77   https://www.dailymail.co.uk/news/article-10526...   \n86   https://www.dailymail.co.uk/sciencetech/articl...   \n121  https://www.dailymail.co.uk/femail/article-105...   \n217  https://www.dailymail.co.uk/home/you/article-1...   \n261  https://www.telegraph.co.uk/money/consumer-aff...   \n367  https://www.independent.co.uk/news/uk/home-new...   \n380  https://www.independent.co.uk/news/uk/politics...   \n464  https://www.theguardian.com/society/2022/feb/1...   \n478  https://www.theguardian.com/environment/2022/f...   \n479  https://www.theguardian.com/environment/2022/f...   \n480  https://www.theguardian.com/environment/2022/f...   \n481  https://www.theguardian.com/politics/2022/feb/...   \n487  https://www.theguardian.com/society/2022/feb/1...   \n501  https://www.theguardian.com/environment/audio/...   \n507  https://www.theguardian.com/world/video/2022/j...   \n512  https://www.theguardian.com/environment/video/...   \n517  https://www.theguardian.com/books/2022/feb/18/...   \n522  https://www.theguardian.com/norm-and-als-guide...   \n524  https://www.theguardian.com/norm-and-als-guide...   \n529  https://www.theguardian.com/food/2022/feb/17/e...   \n531  https://www.theguardian.com/fashion/2022/feb/1...   \n535  https://www.theguardian.com/money/2022/jan/12/...   \n544  https://www.theguardian.com/sport/2022/jan/19/...   \n545  https://www.theguardian.com/info/ng-interactiv...   \n\n                    published      website  \n77  2022-02-18 10:42:09+00:00   Daily Mail  \n86  2022-02-18 10:15:42+00:00   Daily Mail  \n121 2022-02-18 02:57:13+00:00   Daily Mail  \n217 2022-02-13 00:02:23+00:00   Daily Mail  \n261 2022-02-18 07:56:16+00:00    Telegraph  \n367 2022-02-18 09:47:37+00:00  Independent  \n380 2022-02-18 09:35:35+00:00  Independent  \n464 2022-02-17 18:15:08+00:00     Guardian  \n478 2022-02-17 14:17:51+00:00     Guardian  \n479 2022-02-17 06:30:28+00:00     Guardian  \n480 2022-02-17 15:12:29+00:00     Guardian  \n481 2022-02-17 17:15:41+00:00     Guardian  \n487 2022-02-17 21:34:05+00:00     Guardian  \n501 2022-02-18 03:00:01+00:00     Guardian  \n507 2022-01-25 11:30:33+00:00     Guardian  \n512 2021-11-04 10:30:27+00:00     Guardian  \n517 2022-02-18 10:00:02+00:00     Guardian  \n522 2022-01-17 11:59:20+00:00     Guardian  \n524 2022-01-17 11:57:35+00:00     Guardian  \n529 2022-02-17 12:00:35+00:00     Guardian  \n531 2022-02-17 13:55:20+00:00     Guardian  \n535 2022-01-12 15:44:59+00:00     Guardian  \n544 2022-01-19 12:18:34+00:00     Guardian  \n545 2021-10-20 16:04:10+00:00     Guardian  ",
      "text/html": "<div>\n<style scoped>\n    .dataframe tbody tr th:only-of-type {\n        vertical-align: middle;\n    }\n\n    .dataframe tbody tr th {\n        vertical-align: top;\n    }\n\n    .dataframe thead th {\n        text-align: right;\n    }\n</style>\n<table border=\"1\" class=\"dataframe\">\n  <thead>\n    <tr style=\"text-align: right;\">\n      <th></th>\n      <th>title</th>\n      <th>summary</th>\n      <th>link</th>\n      <th>published</th>\n      <th>website</th>\n    </tr>\n  </thead>\n  <tbody>\n    <tr>\n      <th>77</th>\n      <td>Two men have a lucky escape when car smashes i...</td>\n      <td>Two men narrowly avoided being ploughed into b...</td>\n      <td>https://www.dailymail.co.uk/news/article-10526...</td>\n      <td>2022-02-18 10:42:09+00:00</td>\n      <td>Daily Mail</td>\n    </tr>\n    <tr>\n      <th>86</th>\n      <td>Spring could arrive 10 DAYS earlier by 2100, s...</td>\n      <td>Researchers from the Ohio State University say...</td>\n      <td>https://www.dailymail.co.uk/sciencetech/articl...</td>\n      <td>2022-02-18 10:15:42+00:00</td>\n      <td>Daily Mail</td>\n    </tr>\n    <tr>\n      <th>121</th>\n      <td>Why being 'ghosted' by a best friend is the cr...</td>\n      <td>JANE GREEN: Despite being able to move between...</td>\n      <td>https://www.dailymail.co.uk/femail/article-105...</td>\n      <td>2022-02-18 02:57:13+00:00</td>\n      <td>Daily Mail</td>\n    </tr>\n    <tr>\n      <th>217</th>\n      <td>ROSIE GREEN: My love is like a red, red nose…</td>\n      <td>There's a reason in sickness and in health is ...</td>\n      <td>https://www.dailymail.co.uk/home/you/article-1...</td>\n      <td>2022-02-13 00:02:23+00:00</td>\n      <td>Daily Mail</td>\n    </tr>\n    <tr>\n      <th>261</th>\n      <td>How to avoid the green levies that add £153 on...</td>\n      <td>NaN</td>\n      <td>https://www.telegraph.co.uk/money/consumer-aff...</td>\n      <td>2022-02-18 07:56:16+00:00</td>\n      <td>Telegraph</td>\n    </tr>\n    <tr>\n      <th>367</th>\n      <td>Who is eligible for help with energy bills and...</td>\n      <td>&lt;p&gt;Electricity and gas costs to soar by almost...</td>\n      <td>https://www.independent.co.uk/news/uk/home-new...</td>\n      <td>2022-02-18 09:47:37+00:00</td>\n      <td>Independent</td>\n    </tr>\n    <tr>\n      <th>380</th>\n      <td>Storm Eunice: Wind energy generating staggerin...</td>\n      <td>&lt;p&gt;But storm is expected to cause major disrup...</td>\n      <td>https://www.independent.co.uk/news/uk/politics...</td>\n      <td>2022-02-18 09:35:35+00:00</td>\n      <td>Independent</td>\n    </tr>\n    <tr>\n      <th>464</th>\n      <td>Double trouble with insulation in older homes ...</td>\n      <td>&lt;p&gt;&lt;strong&gt;Colin Burke &lt;/strong&gt;on when thick ...</td>\n      <td>https://www.theguardian.com/society/2022/feb/1...</td>\n      <td>2022-02-17 18:15:08+00:00</td>\n      <td>Guardian</td>\n    </tr>\n    <tr>\n      <th>478</th>\n      <td>Staff from climate sceptic group recruited by ...</td>\n      <td>&lt;p&gt;Further links emerge between Craig Mackinla...</td>\n      <td>https://www.theguardian.com/environment/2022/f...</td>\n      <td>2022-02-17 14:17:51+00:00</td>\n      <td>Guardian</td>\n    </tr>\n    <tr>\n      <th>479</th>\n      <td>Harmful subsidies: why is the world still fund...</td>\n      <td>&lt;p&gt;Government-financed support in sectors incl...</td>\n      <td>https://www.theguardian.com/environment/2022/f...</td>\n      <td>2022-02-17 06:30:28+00:00</td>\n      <td>Guardian</td>\n    </tr>\n    <tr>\n      <th>480</th>\n      <td>UK green economy has failed to grow since 2014...</td>\n      <td>&lt;p&gt;Office for National Statistics finds ‘no si...</td>\n      <td>https://www.theguardian.com/environment/2022/f...</td>\n      <td>2022-02-17 15:12:29+00:00</td>\n      <td>Guardian</td>\n    </tr>\n    <tr>\n      <th>481</th>\n      <td>Lobbying fears as MPs’ interest groups receive...</td>\n      <td>&lt;p&gt;Exclusive: chair of standards committee cal...</td>\n      <td>https://www.theguardian.com/politics/2022/feb/...</td>\n      <td>2022-02-17 17:15:41+00:00</td>\n      <td>Guardian</td>\n    </tr>\n    <tr>\n      <th>487</th>\n      <td>TfL junk food ad ban has helped Londoners shop...</td>\n      <td>&lt;p&gt;Researchers estimate a 1,000 calorie decrea...</td>\n      <td>https://www.theguardian.com/society/2022/feb/1...</td>\n      <td>2022-02-17 21:34:05+00:00</td>\n      <td>Guardian</td>\n    </tr>\n    <tr>\n      <th>501</th>\n      <td>The Tories attacking the UK’s net zero plans -...</td>\n      <td>&lt;p&gt;The Net Zero Scrutiny Group insists it acce...</td>\n      <td>https://www.theguardian.com/environment/audio/...</td>\n      <td>2022-02-18 03:00:01+00:00</td>\n      <td>Guardian</td>\n    </tr>\n    <tr>\n      <th>507</th>\n      <td>Life in the Arctic: how climate change is kill...</td>\n      <td>&lt;p&gt;As the arctic warms four times faster than ...</td>\n      <td>https://www.theguardian.com/world/video/2022/j...</td>\n      <td>2022-01-25 11:30:33+00:00</td>\n      <td>Guardian</td>\n    </tr>\n    <tr>\n      <th>512</th>\n      <td>Indigenous activists on tackling the climate c...</td>\n      <td>&lt;p&gt;Despite only making up about 6% of the glob...</td>\n      <td>https://www.theguardian.com/environment/video/...</td>\n      <td>2021-11-04 10:30:27+00:00</td>\n      <td>Guardian</td>\n    </tr>\n    <tr>\n      <th>517</th>\n      <td>Nikesh Shukla: ‘Reading Spider-Man made me fee...</td>\n      <td>&lt;p&gt;The author and screenwriter on his love of ...</td>\n      <td>https://www.theguardian.com/books/2022/feb/18/...</td>\n      <td>2022-02-18 10:00:02+00:00</td>\n      <td>Guardian</td>\n    </tr>\n    <tr>\n      <th>522</th>\n      <td>Lab-grown chicken and ‘bleeding bean burgers’:...</td>\n      <td>&lt;p&gt;From 3D-printed steak to vegan junk food, p...</td>\n      <td>https://www.theguardian.com/norm-and-als-guide...</td>\n      <td>2022-01-17 11:59:20+00:00</td>\n      <td>Guardian</td>\n    </tr>\n    <tr>\n      <th>524</th>\n      <td>From flexible working to voice notes: 11 thing...</td>\n      <td>&lt;p&gt;The pandemic and climate crisis have accele...</td>\n      <td>https://www.theguardian.com/norm-and-als-guide...</td>\n      <td>2022-01-17 11:57:35+00:00</td>\n      <td>Guardian</td>\n    </tr>\n    <tr>\n      <th>529</th>\n      <td>Eating out is an indulgence – so is putting ca...</td>\n      <td>&lt;p&gt;Yes, we need to do something about obesity....</td>\n      <td>https://www.theguardian.com/food/2022/feb/17/e...</td>\n      <td>2022-02-17 12:00:35+00:00</td>\n      <td>Guardian</td>\n    </tr>\n    <tr>\n      <th>531</th>\n      <td>New York brand Collina Strada offers a club-re...</td>\n      <td>&lt;p&gt;Spoof reality TV film substituted for fashi...</td>\n      <td>https://www.theguardian.com/fashion/2022/feb/1...</td>\n      <td>2022-02-17 13:55:20+00:00</td>\n      <td>Guardian</td>\n    </tr>\n    <tr>\n      <th>535</th>\n      <td>Tell us: share your experience of the cost of ...</td>\n      <td>&lt;p&gt;Tell us how you manage financially as price...</td>\n      <td>https://www.theguardian.com/money/2022/jan/12/...</td>\n      <td>2022-01-12 15:44:59+00:00</td>\n      <td>Guardian</td>\n    </tr>\n    <tr>\n      <th>544</th>\n      <td>Sign up for the Winter Olympics daily briefing...</td>\n      <td>&lt;p&gt;Running throughout the Winter Olympics, a g...</td>\n      <td>https://www.theguardian.com/sport/2022/jan/19/...</td>\n      <td>2022-01-19 12:18:34+00:00</td>\n      <td>Guardian</td>\n    </tr>\n    <tr>\n      <th>545</th>\n      <td>Sign up for Down to Earth: The best way to mak...</td>\n      <td>&lt;p&gt;Subscribe to receive an exclusive weekly pi...</td>\n      <td>https://www.theguardian.com/info/ng-interactiv...</td>\n      <td>2021-10-20 16:04:10+00:00</td>\n      <td>Guardian</td>\n    </tr>\n  </tbody>\n</table>\n</div>"
     },
     "metadata": {}
    }
   ]
  },
  {
   "cell_type": "code",
   "source": "",
   "metadata": {
    "deepnote_to_be_reexecuted": true,
    "source_hash": "b623e53d",
    "execution_start": 1645181739297,
    "execution_millis": 0,
    "deepnote_app_coordinates": {
     "x": 0,
     "y": 348,
     "w": 12,
     "h": 5
    },
    "cell_id": "00062-d97bdd1e-26ab-4f02-b56d-0d7d31132fd1",
    "deepnote_cell_type": "visualization",
    "deepnote_cell_height": 54
   },
   "execution_count": null,
   "outputs": []
  },
  {
   "cell_type": "code",
   "metadata": {
    "deepnote_to_be_reexecuted": true,
    "source_hash": "3b6887cf",
    "execution_start": 1645181739433,
    "execution_millis": 76,
    "deepnote_app_coordinates": {
     "x": 0,
     "y": 354,
     "w": 12,
     "h": 5
    },
    "cell_id": "00063-5c6b7fdc-4a19-4bb8-8041-605d656ab656",
    "deepnote_cell_type": "code",
    "deepnote_cell_height": 670
   },
   "source": "pattern = 'police|constable|cops|officer|weapon'\n\nmatching_items = df_all.title.str.contains(pattern, case=False) | df_all.summary.str.contains(pattern, case=False)\n\ndf_all[matching_items]",
   "execution_count": null,
   "outputs": [
    {
     "output_type": "execute_result",
     "execution_count": 35,
     "data": {
      "application/vnd.deepnote.dataframe.v3+json": {
       "column_count": 5,
       "row_count": 25,
       "columns": [
        {
         "name": "title",
         "dtype": "object",
         "stats": {
          "unique_count": 25,
          "nan_count": 0,
          "categories": [
           {
            "name": "Quiz of the week: Which songs were used as a weapon?",
            "count": 1
           },
           {
            "name": "SmartWater: The forensic spray helping keep women safe",
            "count": 1
           },
           {
            "name": "23 others",
            "count": 23
           }
          ]
         }
        },
        {
         "name": "summary",
         "dtype": "object",
         "stats": {
          "unique_count": 23,
          "nan_count": 2,
          "categories": [
           {
            "name": "How closely have you been paying attention to what's been going on during the past seven days?",
            "count": 1
           },
           {
            "name": "22 others",
            "count": 22
           },
           {
            "name": "Missing",
            "count": 2
           }
          ]
         }
        },
        {
         "name": "link",
         "dtype": "object",
         "stats": {
          "unique_count": 25,
          "nan_count": 0,
          "categories": [
           {
            "name": "https://www.bbc.co.uk/news/world-60394107?at_medium=RSS&at_campaign=KARANGA",
            "count": 1
           },
           {
            "name": "https://www.bbc.co.uk/news/technology-60414452?at_medium=RSS&at_campaign=KARANGA",
            "count": 1
           },
           {
            "name": "23 others",
            "count": 23
           }
          ]
         }
        },
        {
         "name": "published",
         "dtype": "datetime64[ns, UTC]",
         "stats": {
          "unique_count": 25,
          "nan_count": 0,
          "min": "2021-12-18 10:00:00+00:00",
          "max": "2022-02-18 10:29:56+00:00",
          "histogram": [
           {
            "bin_start": 1639821600000000000,
            "bin_end": 1640357459600000000,
            "count": 1
           },
           {
            "bin_start": 1640357459600000000,
            "bin_end": 1640893319200000000,
            "count": 0
           },
           {
            "bin_start": 1640893319200000000,
            "bin_end": 1641429178800000000,
            "count": 0
           },
           {
            "bin_start": 1641429178800000000,
            "bin_end": 1641965038400000000,
            "count": 0
           },
           {
            "bin_start": 1641965038400000000,
            "bin_end": 1642500898000000000,
            "count": 0
           },
           {
            "bin_start": 1642500898000000000,
            "bin_end": 1643036757600000000,
            "count": 1
           },
           {
            "bin_start": 1643036757600000000,
            "bin_end": 1643572617200000000,
            "count": 0
           },
           {
            "bin_start": 1643572617200000000,
            "bin_end": 1644108476800000000,
            "count": 0
           },
           {
            "bin_start": 1644108476800000000,
            "bin_end": 1644644336400000000,
            "count": 0
           },
           {
            "bin_start": 1644644336400000000,
            "bin_end": 1645180196000000000,
            "count": 23
           }
          ]
         }
        },
        {
         "name": "website",
         "dtype": "object",
         "stats": {
          "unique_count": 6,
          "nan_count": 0,
          "categories": [
           {
            "name": "Daily Mail",
            "count": 10
           },
           {
            "name": "Guardian",
            "count": 6
           },
           {
            "name": "4 others",
            "count": 9
           }
          ]
         }
        },
        {
         "name": "_deepnote_index_column",
         "dtype": "int64"
        }
       ],
       "rows": [
        {
         "title": "Quiz of the week: Which songs were used as a weapon?",
         "summary": "How closely have you been paying attention to what's been going on during the past seven days?",
         "link": "https://www.bbc.co.uk/news/world-60394107?at_medium=RSS&at_campaign=KARANGA",
         "published": "2022-02-17T17:24:51.000000",
         "website": "BBC",
         "_deepnote_index_column": 10
        },
        {
         "title": "SmartWater: The forensic spray helping keep women safe",
         "summary": "Police forces in England are trialling SmartWater as one of their domestic violence tools.",
         "link": "https://www.bbc.co.uk/news/technology-60414452?at_medium=RSS&at_campaign=KARANGA",
         "published": "2022-02-18T00:55:07.000000",
         "website": "BBC",
         "_deepnote_index_column": 19
        },
        {
         "title": "Can Boris Johnson avoid a lockdown party fine?",
         "summary": "The PM is hoping his replies to police on Downing Street gatherings will get him off the hook.",
         "link": "https://www.bbc.co.uk/news/uk-politics-60401498?at_medium=RSS&at_campaign=KARANGA",
         "published": "2022-02-17T00:57:27.000000",
         "website": "BBC",
         "_deepnote_index_column": 52
        },
        {
         "title": "Mental health nurse who was accused of assault and lost her unborn baby wins two-year court battle",
         "summary": "Heidi Mullis, 32, who was pregnant at the time, was charged with assault and using threatening beha…",
         "link": "https://www.dailymail.co.uk/news/article-10526921/Mental-health-nurse-accused-assault-lost-unborn-b…",
         "published": "2022-02-18T10:22:24.000000",
         "website": "Daily Mail",
         "_deepnote_index_column": 83
        },
        {
         "title": "Canada cops arrest Freedom Convoy organizer after warning protesters in Ottawa to 'get out now'",
         "summary": "Protest leaders Tamara Lich and Chris Barber were arrested in Ottawa on Thursday evening as police …",
         "link": "https://www.dailymail.co.uk/news/article-10524801/Trudeau-fights-emergency-powers-alive-Parliament.…",
         "published": "2022-02-18T10:17:41.000000",
         "website": "Daily Mail",
         "_deepnote_index_column": 85
        },
        {
         "title": "If Trudeau orders the police to drag away the Freedom Convoy he'll tear Canada apart: TARA HENLEY",
         "summary": "HENLEY: I fear that Canadians are headed for the sort of volatile, drawn-out, intractable conflict …",
         "link": "https://www.dailymail.co.uk/news/article-10524891/If-Trudeau-orders-police-drag-away-Freedom-Convoy…",
         "published": "2022-02-18T01:36:55.000000",
         "website": "Daily Mail",
         "_deepnote_index_column": 132
        },
        {
         "title": "Three Met Police officers charged with sharing 'grossly offensive' messages with Wayne Couzens",
         "summary": "Two serving Met Police officers and one former PC have been charged with sharing 'grossly offensive…",
         "link": "https://www.dailymail.co.uk/news/article-10523575/Three-Met-Police-officers-charged-sharing-grossly…",
         "published": "2022-02-18T01:17:30.000000",
         "website": "Daily Mail",
         "_deepnote_index_column": 135
        },
        {
         "title": "Katie Price's fiance Carl Woods, 33, insists he 'didn't lay a finger on her'",
         "summary": "Police confirmed today that the 33-year-old, who is engaged to the reality star, had been charged u…",
         "link": "https://www.dailymail.co.uk/news/article-10525213/Katie-Prices-fiance-Carl-Woods-33-insists-didnt-l…",
         "published": "2022-02-17T23:43:29.000000",
         "website": "Daily Mail",
         "_deepnote_index_column": 147
        },
        {
         "title": "Blinken says Putin might use a 'REAL' chemical weapons attack before invading Ukraine",
         "summary": "Blinken on Thursday said Russia's plans for a false flag operation could include a chemical attack …",
         "link": "https://www.dailymail.co.uk/news/article-10523601/Kamala-Harris-leaves-Munich-Conference-artillery-…",
         "published": "2022-02-17T23:34:50.000000",
         "website": "Daily Mail",
         "_deepnote_index_column": 148
        },
        {
         "title": "A legend in his own landscape: For decades John Constable was spurned by a snobby art establishment",
         "summary": "James Hamilton's latest biography of Suffolk-born landscape painter John Constable is warm-hearted …",
         "link": "https://www.dailymail.co.uk/home/books/article-10524765/A-legend-landscape-decades-John-Constable-s…",
         "published": "2022-02-17T22:03:48.000000",
         "website": "Daily Mail",
         "_deepnote_index_column": 163
        }
       ]
      },
      "text/plain": "                                                 title  \\\n10   Quiz of the week: Which songs were used as a w...   \n19   SmartWater: The forensic spray helping keep wo...   \n52      Can Boris Johnson avoid a lockdown party fine?   \n83   Mental health nurse who was accused of assault...   \n85   Canada cops arrest Freedom Convoy organizer af...   \n132  If Trudeau orders the police to drag away the ...   \n135  Three Met Police officers charged with sharing...   \n147  Katie Price's fiance Carl Woods, 33, insists h...   \n148  Blinken says Putin might use a 'REAL' chemical...   \n163  A legend in his own landscape: For decades Joh...   \n166  Police launch murder probe after mother, 35, a...   \n183  Met Police firearms officer David Carrick, 47,...   \n184  Controversial royal satire which mocked Prince...   \n289  How Chelsea are weaponising the loan system - ...   \n296  Canada protest: Police arrest leaders of truck...   \n343  Dozens of live monkeys found inside bags secur...   \n376  Met Police deletes ‘unacceptable’ tweet critic...   \n381  Thieves kill TV producer in Pakistan's Karachi...   \n414  'Perfectly healthy' man, 20, dies suddenly as ...   \n454  British police are hounding a journalist for h...   \n459  Clearly Britain loses more than it gains from ...   \n464  Double trouble with insulation in older homes ...   \n485  Angela Rayner: police should ‘shoot terrorists...   \n510  The Black Cop: a police officer's story of rac...   \n514  How white mobs firebombed homes and decimated ...   \n\n                                               summary  \\\n10   How closely have you been paying attention to ...   \n19   Police forces in England are trialling SmartWa...   \n52   The PM is hoping his replies to police on Down...   \n83   Heidi Mullis, 32, who was pregnant at the time...   \n85   Protest leaders Tamara Lich and Chris Barber w...   \n132  HENLEY: I fear that Canadians are headed for t...   \n135  Two serving Met Police officers and one former...   \n147  Police confirmed today that the 33-year-old, w...   \n148  Blinken on Thursday said Russia's plans for a ...   \n163  James Hamilton's latest biography of Suffolk-b...   \n166  EXCLUSIVE: The mum - named by friends as Nicho...   \n183  PC David Carrick, 47, who has been suspended b...   \n184  The Prince, which starred Prince Harry's frien...   \n289                                                NaN   \n296                                                NaN   \n343  <p>Police suspect it is a failed attempt to sm...   \n376  <p>London mayor says force ‘amplifying informa...   \n381  Police say thieves on a motorcycle shot and ki...   \n414  Police broke into missing Abraham Bamgbose's f...   \n454  <p>Chris Mullin’s exposure of the Birmingham S...   \n459  <p>The royal jubilee would be a cheerful end t...   \n464  <p><strong>Colin Burke </strong>on when thick ...   \n485  <p>Deputy Labour leader criticised for hardlin...   \n510  <p>This intimate portrait of Gamal 'G' Turawa,...   \n514  <p><i>This is the final episode of <a href=\"ht...   \n\n                                                  link  \\\n10   https://www.bbc.co.uk/news/world-60394107?at_m...   \n19   https://www.bbc.co.uk/news/technology-60414452...   \n52   https://www.bbc.co.uk/news/uk-politics-6040149...   \n83   https://www.dailymail.co.uk/news/article-10526...   \n85   https://www.dailymail.co.uk/news/article-10524...   \n132  https://www.dailymail.co.uk/news/article-10524...   \n135  https://www.dailymail.co.uk/news/article-10523...   \n147  https://www.dailymail.co.uk/news/article-10525...   \n148  https://www.dailymail.co.uk/news/article-10523...   \n163  https://www.dailymail.co.uk/home/books/article...   \n166  https://www.dailymail.co.uk/news/article-10524...   \n183  https://www.dailymail.co.uk/news/article-10524...   \n184  https://www.dailymail.co.uk/femail/article-105...   \n289  https://www.telegraph.co.uk/football/2022/02/1...   \n296  https://www.telegraph.co.uk/world-news/2022/02...   \n343  https://www.independent.co.uk/asia/southeast-a...   \n376  https://www.independent.co.uk/news/uk/politics...   \n381  https://www.independent.co.uk/news/karachi-pak...   \n414  https://www.mirror.co.uk/news/uk-news/perfectl...   \n454  https://www.theguardian.com/commentisfree/2022...   \n459  https://www.theguardian.com/commentisfree/2022...   \n464  https://www.theguardian.com/society/2022/feb/1...   \n485  https://www.theguardian.com/politics/2022/feb/...   \n510  https://www.theguardian.com/global/video/2022/...   \n514  https://www.theguardian.com/us-news/video/2021...   \n\n                    published       website  \n10  2022-02-17 17:24:51+00:00           BBC  \n19  2022-02-18 00:55:07+00:00           BBC  \n52  2022-02-17 00:57:27+00:00           BBC  \n83  2022-02-18 10:22:24+00:00    Daily Mail  \n85  2022-02-18 10:17:41+00:00    Daily Mail  \n132 2022-02-18 01:36:55+00:00    Daily Mail  \n135 2022-02-18 01:17:30+00:00    Daily Mail  \n147 2022-02-17 23:43:29+00:00    Daily Mail  \n148 2022-02-17 23:34:50+00:00    Daily Mail  \n163 2022-02-17 22:03:48+00:00    Daily Mail  \n166 2022-02-17 21:26:59+00:00    Daily Mail  \n183 2022-02-17 16:03:43+00:00    Daily Mail  \n184 2022-02-17 15:28:56+00:00    Daily Mail  \n289 2022-02-18 07:30:00+00:00     Telegraph  \n296 2022-02-18 06:00:00+00:00     Telegraph  \n343 2022-02-18 10:16:32+00:00   Independent  \n376 2022-02-17 17:30:54+00:00   Independent  \n381 2022-02-18 09:32:56+00:00   Independent  \n414 2022-02-18 10:29:56+00:00  Daily Mirror  \n454 2022-02-18 08:00:06+00:00      Guardian  \n459 2022-02-17 14:50:36+00:00      Guardian  \n464 2022-02-17 18:15:08+00:00      Guardian  \n485 2022-02-17 17:12:44+00:00      Guardian  \n510 2022-01-19 12:00:11+00:00      Guardian  \n514 2021-12-18 10:00:00+00:00      Guardian  ",
      "text/html": "<div>\n<style scoped>\n    .dataframe tbody tr th:only-of-type {\n        vertical-align: middle;\n    }\n\n    .dataframe tbody tr th {\n        vertical-align: top;\n    }\n\n    .dataframe thead th {\n        text-align: right;\n    }\n</style>\n<table border=\"1\" class=\"dataframe\">\n  <thead>\n    <tr style=\"text-align: right;\">\n      <th></th>\n      <th>title</th>\n      <th>summary</th>\n      <th>link</th>\n      <th>published</th>\n      <th>website</th>\n    </tr>\n  </thead>\n  <tbody>\n    <tr>\n      <th>10</th>\n      <td>Quiz of the week: Which songs were used as a w...</td>\n      <td>How closely have you been paying attention to ...</td>\n      <td>https://www.bbc.co.uk/news/world-60394107?at_m...</td>\n      <td>2022-02-17 17:24:51+00:00</td>\n      <td>BBC</td>\n    </tr>\n    <tr>\n      <th>19</th>\n      <td>SmartWater: The forensic spray helping keep wo...</td>\n      <td>Police forces in England are trialling SmartWa...</td>\n      <td>https://www.bbc.co.uk/news/technology-60414452...</td>\n      <td>2022-02-18 00:55:07+00:00</td>\n      <td>BBC</td>\n    </tr>\n    <tr>\n      <th>52</th>\n      <td>Can Boris Johnson avoid a lockdown party fine?</td>\n      <td>The PM is hoping his replies to police on Down...</td>\n      <td>https://www.bbc.co.uk/news/uk-politics-6040149...</td>\n      <td>2022-02-17 00:57:27+00:00</td>\n      <td>BBC</td>\n    </tr>\n    <tr>\n      <th>83</th>\n      <td>Mental health nurse who was accused of assault...</td>\n      <td>Heidi Mullis, 32, who was pregnant at the time...</td>\n      <td>https://www.dailymail.co.uk/news/article-10526...</td>\n      <td>2022-02-18 10:22:24+00:00</td>\n      <td>Daily Mail</td>\n    </tr>\n    <tr>\n      <th>85</th>\n      <td>Canada cops arrest Freedom Convoy organizer af...</td>\n      <td>Protest leaders Tamara Lich and Chris Barber w...</td>\n      <td>https://www.dailymail.co.uk/news/article-10524...</td>\n      <td>2022-02-18 10:17:41+00:00</td>\n      <td>Daily Mail</td>\n    </tr>\n    <tr>\n      <th>132</th>\n      <td>If Trudeau orders the police to drag away the ...</td>\n      <td>HENLEY: I fear that Canadians are headed for t...</td>\n      <td>https://www.dailymail.co.uk/news/article-10524...</td>\n      <td>2022-02-18 01:36:55+00:00</td>\n      <td>Daily Mail</td>\n    </tr>\n    <tr>\n      <th>135</th>\n      <td>Three Met Police officers charged with sharing...</td>\n      <td>Two serving Met Police officers and one former...</td>\n      <td>https://www.dailymail.co.uk/news/article-10523...</td>\n      <td>2022-02-18 01:17:30+00:00</td>\n      <td>Daily Mail</td>\n    </tr>\n    <tr>\n      <th>147</th>\n      <td>Katie Price's fiance Carl Woods, 33, insists h...</td>\n      <td>Police confirmed today that the 33-year-old, w...</td>\n      <td>https://www.dailymail.co.uk/news/article-10525...</td>\n      <td>2022-02-17 23:43:29+00:00</td>\n      <td>Daily Mail</td>\n    </tr>\n    <tr>\n      <th>148</th>\n      <td>Blinken says Putin might use a 'REAL' chemical...</td>\n      <td>Blinken on Thursday said Russia's plans for a ...</td>\n      <td>https://www.dailymail.co.uk/news/article-10523...</td>\n      <td>2022-02-17 23:34:50+00:00</td>\n      <td>Daily Mail</td>\n    </tr>\n    <tr>\n      <th>163</th>\n      <td>A legend in his own landscape: For decades Joh...</td>\n      <td>James Hamilton's latest biography of Suffolk-b...</td>\n      <td>https://www.dailymail.co.uk/home/books/article...</td>\n      <td>2022-02-17 22:03:48+00:00</td>\n      <td>Daily Mail</td>\n    </tr>\n    <tr>\n      <th>166</th>\n      <td>Police launch murder probe after mother, 35, a...</td>\n      <td>EXCLUSIVE: The mum - named by friends as Nicho...</td>\n      <td>https://www.dailymail.co.uk/news/article-10524...</td>\n      <td>2022-02-17 21:26:59+00:00</td>\n      <td>Daily Mail</td>\n    </tr>\n    <tr>\n      <th>183</th>\n      <td>Met Police firearms officer David Carrick, 47,...</td>\n      <td>PC David Carrick, 47, who has been suspended b...</td>\n      <td>https://www.dailymail.co.uk/news/article-10524...</td>\n      <td>2022-02-17 16:03:43+00:00</td>\n      <td>Daily Mail</td>\n    </tr>\n    <tr>\n      <th>184</th>\n      <td>Controversial royal satire which mocked Prince...</td>\n      <td>The Prince, which starred Prince Harry's frien...</td>\n      <td>https://www.dailymail.co.uk/femail/article-105...</td>\n      <td>2022-02-17 15:28:56+00:00</td>\n      <td>Daily Mail</td>\n    </tr>\n    <tr>\n      <th>289</th>\n      <td>How Chelsea are weaponising the loan system - ...</td>\n      <td>NaN</td>\n      <td>https://www.telegraph.co.uk/football/2022/02/1...</td>\n      <td>2022-02-18 07:30:00+00:00</td>\n      <td>Telegraph</td>\n    </tr>\n    <tr>\n      <th>296</th>\n      <td>Canada protest: Police arrest leaders of truck...</td>\n      <td>NaN</td>\n      <td>https://www.telegraph.co.uk/world-news/2022/02...</td>\n      <td>2022-02-18 06:00:00+00:00</td>\n      <td>Telegraph</td>\n    </tr>\n    <tr>\n      <th>343</th>\n      <td>Dozens of live monkeys found inside bags secur...</td>\n      <td>&lt;p&gt;Police suspect it is a failed attempt to sm...</td>\n      <td>https://www.independent.co.uk/asia/southeast-a...</td>\n      <td>2022-02-18 10:16:32+00:00</td>\n      <td>Independent</td>\n    </tr>\n    <tr>\n      <th>376</th>\n      <td>Met Police deletes ‘unacceptable’ tweet critic...</td>\n      <td>&lt;p&gt;London mayor says force ‘amplifying informa...</td>\n      <td>https://www.independent.co.uk/news/uk/politics...</td>\n      <td>2022-02-17 17:30:54+00:00</td>\n      <td>Independent</td>\n    </tr>\n    <tr>\n      <th>381</th>\n      <td>Thieves kill TV producer in Pakistan's Karachi...</td>\n      <td>Police say thieves on a motorcycle shot and ki...</td>\n      <td>https://www.independent.co.uk/news/karachi-pak...</td>\n      <td>2022-02-18 09:32:56+00:00</td>\n      <td>Independent</td>\n    </tr>\n    <tr>\n      <th>414</th>\n      <td>'Perfectly healthy' man, 20, dies suddenly as ...</td>\n      <td>Police broke into missing Abraham Bamgbose's f...</td>\n      <td>https://www.mirror.co.uk/news/uk-news/perfectl...</td>\n      <td>2022-02-18 10:29:56+00:00</td>\n      <td>Daily Mirror</td>\n    </tr>\n    <tr>\n      <th>454</th>\n      <td>British police are hounding a journalist for h...</td>\n      <td>&lt;p&gt;Chris Mullin’s exposure of the Birmingham S...</td>\n      <td>https://www.theguardian.com/commentisfree/2022...</td>\n      <td>2022-02-18 08:00:06+00:00</td>\n      <td>Guardian</td>\n    </tr>\n    <tr>\n      <th>459</th>\n      <td>Clearly Britain loses more than it gains from ...</td>\n      <td>&lt;p&gt;The royal jubilee would be a cheerful end t...</td>\n      <td>https://www.theguardian.com/commentisfree/2022...</td>\n      <td>2022-02-17 14:50:36+00:00</td>\n      <td>Guardian</td>\n    </tr>\n    <tr>\n      <th>464</th>\n      <td>Double trouble with insulation in older homes ...</td>\n      <td>&lt;p&gt;&lt;strong&gt;Colin Burke &lt;/strong&gt;on when thick ...</td>\n      <td>https://www.theguardian.com/society/2022/feb/1...</td>\n      <td>2022-02-17 18:15:08+00:00</td>\n      <td>Guardian</td>\n    </tr>\n    <tr>\n      <th>485</th>\n      <td>Angela Rayner: police should ‘shoot terrorists...</td>\n      <td>&lt;p&gt;Deputy Labour leader criticised for hardlin...</td>\n      <td>https://www.theguardian.com/politics/2022/feb/...</td>\n      <td>2022-02-17 17:12:44+00:00</td>\n      <td>Guardian</td>\n    </tr>\n    <tr>\n      <th>510</th>\n      <td>The Black Cop: a police officer's story of rac...</td>\n      <td>&lt;p&gt;This intimate portrait of Gamal 'G' Turawa,...</td>\n      <td>https://www.theguardian.com/global/video/2022/...</td>\n      <td>2022-01-19 12:00:11+00:00</td>\n      <td>Guardian</td>\n    </tr>\n    <tr>\n      <th>514</th>\n      <td>How white mobs firebombed homes and decimated ...</td>\n      <td>&lt;p&gt;&lt;i&gt;This is the final episode of &lt;a href=\"ht...</td>\n      <td>https://www.theguardian.com/us-news/video/2021...</td>\n      <td>2021-12-18 10:00:00+00:00</td>\n      <td>Guardian</td>\n    </tr>\n  </tbody>\n</table>\n</div>"
     },
     "metadata": {}
    }
   ]
  },
  {
   "cell_type": "markdown",
   "source": "<div class=\"alert alert-danger\">\n\n##### Advanced! If you need a challenge: robust search for keywords\n\nThe method we used works well for a basic search, but is not perfect. For instance, searching for ‘river’ will match both ‘river’, ‘rivers’, but also ’screwdrivers’, ‘strivers’, and ‘driver’. A much better solution is to use simple NLP techniques to extract words and lemmatize them. If you are interested, look at spacy's <a href=\"https://spacy.io/usage/linguistic-features#lemmatization\">lemmatization tutorial</a>.\n\nThis library is reasonably easy to use, highly recommend using it! If you are interested, try below to install spacy and define a small function that match a word in a sentence:\n\n```\nmatch_word(\"driver\", \"My screwdriver is on the table\")  # returns False\nmatch_word(\"read\", \"I was reading the paper.\")  # returns True\n``` \n\n</div>",
   "metadata": {
    "tags": [],
    "cell_id": "00064-a6c5ead6-3135-4e41-839d-ed7a783002dc",
    "deepnote_cell_type": "markdown",
    "deepnote_cell_height": 305.578125
   }
  },
  {
   "cell_type": "code",
   "metadata": {
    "tags": [],
    "deepnote_to_be_reexecuted": true,
    "source_hash": "b623e53d",
    "cell_id": "00065-e23dc00f-8769-4beb-873d-318748115ef0",
    "deepnote_cell_type": "code",
    "deepnote_cell_height": 81
   },
   "source": "",
   "execution_count": null,
   "outputs": []
  },
  {
   "cell_type": "markdown",
   "source": "# Optional: RSS Aggregators\n\nImagine you want to get RSS feeds from all available news sources in the UK, far more than you know of. Due to the widespread use of RSS feeds, there are commercial services that have been developed to aggregate RSS feeds from various sources. NewsCatcher (and its Python package `newscatcherapi`) is one of them. Read more about it here: https://github.com/NewscatcherAPI/newscatcherapi-sdk-python\n\n\nIn this exercise, we will run a basic setup of the library. There are far more things that can be done with such aggregators, but our aim is to expose to the tools that you can use in your research.\n\n<div class=\"alert alert-info\">\n\n- First, install the Python package `newscatcherapi`\n\n- Second, register at app.newscatcherapi.com for a free acount and save your access key.\n\n- Finally, as a simple exercise, query the aggregator to collect all news article related to climate and do a value count on the source. \n</div>",
   "metadata": {
    "deepnote_app_coordinates": {
     "x": 0,
     "y": 360,
     "w": 12,
     "h": 5
    },
    "cell_id": "00066-e2f58170-a26f-46e4-94fb-825a48d72d44",
    "deepnote_cell_type": "markdown",
    "deepnote_cell_height": 410.984375
   }
  },
  {
   "cell_type": "code",
   "metadata": {
    "deepnote_to_be_reexecuted": true,
    "source_hash": "ad40862",
    "execution_start": 1643643506837,
    "execution_millis": 3913,
    "deepnote_app_coordinates": {
     "x": 0,
     "y": 366,
     "w": 12,
     "h": 5
    },
    "cell_id": "00067-f330a449-9581-46ed-95ee-4510e517b27f",
    "deepnote_cell_type": "code",
    "deepnote_cell_height": 99
   },
   "source": "%%capture\n!pip install newscatcherapi",
   "execution_count": null,
   "outputs": []
  },
  {
   "cell_type": "code",
   "metadata": {
    "deepnote_to_be_reexecuted": true,
    "source_hash": "83236973",
    "execution_start": 1643643510751,
    "execution_millis": 5,
    "deepnote_app_coordinates": {
     "x": 0,
     "y": 372,
     "w": 12,
     "h": 5
    },
    "cell_id": "00068-3d30b198-b3ac-4018-b1e6-9cb312f0827e",
    "deepnote_cell_type": "code",
    "deepnote_cell_height": 81
   },
   "source": "from newscatcherapi import NewsCatcherApiClient",
   "execution_count": null,
   "outputs": []
  },
  {
   "cell_type": "code",
   "metadata": {
    "deepnote_to_be_reexecuted": true,
    "source_hash": "49bccec6",
    "execution_start": 1643643510759,
    "execution_millis": 1,
    "deepnote_app_coordinates": {
     "x": 0,
     "y": 378,
     "w": 12,
     "h": 5
    },
    "cell_id": "00069-15753505-f2c4-4bd9-893d-1709d039f474",
    "deepnote_cell_type": "code",
    "deepnote_cell_height": 207
   },
   "source": "newscatcherapi = NewsCatcherApiClient(x_api_key='YOUR API KEY GOES HERE') \n\nall_articles = newscatcherapi.get_search(q='climate',\n                                         lang='en',\n                                         countries='GB',\n                                         page_size=100)\n\ndf_news = pd.DataFrame(all_articles['articles'])",
   "execution_count": null,
   "outputs": []
  },
  {
   "cell_type": "markdown",
   "source": "Explore how NewsCatcher encodes information. What additional fields does this service offer compared to RSS feeds?\nWhere do you think they come from?",
   "metadata": {
    "tags": [],
    "cell_id": "00070-84c0609c-23c9-4b25-8ed4-9d0feeed8694",
    "deepnote_cell_type": "markdown",
    "deepnote_cell_height": 74.796875
   }
  },
  {
   "cell_type": "code",
   "metadata": {
    "tags": [],
    "deepnote_to_be_reexecuted": true,
    "source_hash": "3cb29d37",
    "cell_id": "00071-604fd0ed-7dee-4e6d-b658-72803db20235",
    "deepnote_cell_type": "code",
    "deepnote_cell_height": 81
   },
   "source": "df_news.head()",
   "execution_count": null,
   "outputs": []
  },
  {
   "cell_type": "code",
   "metadata": {
    "deepnote_to_be_reexecuted": true,
    "source_hash": "6b862059",
    "execution_start": 1643643511255,
    "execution_millis": 371,
    "deepnote_app_coordinates": {
     "x": 0,
     "y": 402,
     "w": 12,
     "h": 5
    },
    "cell_id": "00072-3d23acbd-e677-4f70-afb2-2118af946c59",
    "deepnote_cell_type": "code",
    "deepnote_cell_height": 350,
    "deepnote_output_heights": [
     253
    ]
   },
   "source": "df_news.clean_url.value_counts()[:10].plot.barh();",
   "execution_count": null,
   "outputs": [
    {
     "data": {
      "text/plain": "<Figure size 432x288 with 1 Axes>",
      "image/png": "[encoded data removed]"
     },
     "metadata": {
      "image/png": {
       "width": 482,
       "height": 251
      }
     },
     "output_type": "display_data"
    }
   ]
  },
  {
   "cell_type": "markdown",
   "source": "<div class=\"alert alert-info\">\n\nNow, reproduce the exercise 4.4 using NewsCatcher. What do you notice in terms of volume of collected articles?\n\n</div>",
   "metadata": {
    "tags": [],
    "cell_id": "00073-e3527f7a-5009-46a8-b289-024dc0a4d5ca",
    "deepnote_cell_type": "markdown",
    "deepnote_cell_height": 104.390625
   }
  },
  {
   "cell_type": "code",
   "metadata": {
    "tags": [],
    "deepnote_to_be_reexecuted": true,
    "source_hash": "b623e53d",
    "cell_id": "00074-4e71ca3b-a014-4ad5-879d-030d47f66e91",
    "deepnote_cell_type": "code",
    "deepnote_cell_height": 81
   },
   "source": "",
   "execution_count": null,
   "outputs": []
  },
  {
   "cell_type": "markdown",
   "source": "## Documenting your final dataset using a ‘datasheet’\n\nIn exercise 4.4, you built a dataset from online sources, parsed, filtered, processed using code you developed. Increasingly, journals and conferences ask researchers to document how they collected data.\n\nGebru et al. proposed in 2018 a new toolkit ([Datasheets for Datasets](https://arxiv.org/abs/1803.09010)) to improve the transparency when releasing datasets as well as the standardise how datasets are described. A ‘datasheet’ documents the motivation behind the dataset creation, the dataset composition, collection process, recommended uses, and many other characteristics. In the words of Gebru et al., the goal is to:\n\n> facilitate better communication between dataset creators and dataset consumers, and encourage the […] community to prioritize transparency and accountability.\n\nThroughout this course, we will aim to build on the practice of documenting our datasets. For each week, the homework  will comprise some form of dataset collection. You will also be required to answer 4-5 questions on the dataset you collect for that week.\n\nYou can find an example of a datasheet here: https://github.com/zykls/folktables/blob/main/datasheet.md for the Folktables Python package. You can think of a datasheet as a set of standardised questions & answers that describe the content and ethics of your dataset.\n\n--------\n\n\n<div class=\"alert alert-info\">\nFor this week's homework, we will start with basic Motivation and Composition questions. Look back at the dataset you assembed for exercise 4.4 and answer the following questions.\n</div>",
   "metadata": {
    "tags": [],
    "cell_id": "00075-ac931006-b2cc-4b70-b103-31faad1a279e",
    "deepnote_cell_type": "markdown",
    "deepnote_cell_height": 553.375
   }
  },
  {
   "cell_type": "markdown",
   "source": "\n>**For what purpose was the dataset created?** *Was there a specific task in mind? Was there a specific gap that needed to be filled?*\n>\n>...",
   "metadata": {
    "tags": [],
    "cell_id": "00076-96fb1d2c-7ff6-4493-b0c4-038b1bca7ee8",
    "deepnote_cell_type": "markdown",
    "deepnote_cell_height": 125.1875
   }
  },
  {
   "cell_type": "markdown",
   "source": "\n>**Who created the dataset (e.g., which team) and on behalf of which entity?**\n>\n>...",
   "metadata": {
    "tags": [],
    "cell_id": "00077-10a7ebff-2c61-413e-a7f5-223ab09e06a3",
    "deepnote_cell_type": "markdown",
    "deepnote_cell_height": 102.796875
   }
  },
  {
   "cell_type": "markdown",
   "source": "\n>**What do the instances that comprise the dataset represent (e.g., documents, photos, people, countries)?** Are there multiple types of instances (e.g., movies, users, and ratings; people and interactions between them; nodes and edges)? Please provide a description.\n>\n>...",
   "metadata": {
    "tags": [],
    "cell_id": "00078-06819048-c4ed-46be-bfe9-7bfae6eae930",
    "deepnote_cell_type": "markdown",
    "deepnote_cell_height": 147.59375
   }
  },
  {
   "cell_type": "markdown",
   "source": "\n>**How many instances are there in total (of each type, if appropriate)?**\n>\n>...\n",
   "metadata": {
    "tags": [],
    "cell_id": "00079-8ba66278-3307-4f7a-86ed-746245e1a4f4",
    "deepnote_cell_type": "markdown",
    "deepnote_cell_height": 102.796875
   }
  },
  {
   "cell_type": "markdown",
   "source": "\n\n>**Does the dataset contain all possible instances or is it a sample (not necessarily random) of instances from a larger set? If the dataset is a sample, then what is the larger set? Is the sample representative of the larger set (e.g., geographic coverage)?** If so, please describe how this representativeness was validated/verified. If it is not representative of the larger set, please describe why not (e.g., to cover a more diverse range of instances, because instances were withheld or unavailable)\n>\n>...",
   "metadata": {
    "tags": [],
    "cell_id": "00080-8ce2f940-f2b3-4f13-9ad8-8ecc511985c3",
    "deepnote_cell_type": "markdown",
    "deepnote_cell_height": 192.390625
   }
  },
  {
   "cell_type": "code",
   "metadata": {
    "deepnote_to_be_reexecuted": true,
    "source_hash": "b623e53d",
    "execution_start": 1643643511626,
    "execution_millis": 1,
    "deepnote_app_coordinates": {
     "x": 0,
     "y": 408,
     "w": 12,
     "h": 5
    },
    "cell_id": "00081-1b9014f9-7bcf-49d0-8384-207ec7ae43d3",
    "deepnote_cell_type": "code",
    "deepnote_cell_height": 81
   },
   "source": "",
   "execution_count": null,
   "outputs": []
  },
  {
   "cell_type": "markdown",
   "source": "<a style='text-decoration:none;line-height:16px;display:flex;color:#5B5B62;padding:10px;justify-content:end;' href='https://deepnote.com?utm_source=created-in-deepnote-cell&projectId=f746e373-dc41-4dbe-b3f9-5f3af42ff658' target=\"_blank\">\n<img alt='Created in deepnote.com' style='display:inline;max-height:16px;margin:0px;margin-right:7.5px;' src='data:image/svg+xml;base64,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' > </img>\nCreated in <span style='font-weight:600;margin-left:4px;'>Deepnote</span></a>",
   "metadata": {
    "tags": [],
    "created_in_deepnote_cell": true,
    "deepnote_cell_type": "markdown"
   }
  }
 ],
 "nbformat": 4,
 "nbformat_minor": 2,
 "metadata": {
  "interpreter": {
   "hash": "c8511966bd1d45a04ebd3c979265354aa9ba6f4b41a10b44ad2e8fd927e54775"
  },
  "kernelspec": {
   "display_name": "Python 3.8.3 64-bit ('base': conda)",
   "language": "python",
   "name": "python3"
  },
  "language_info": {
   "codemirror_mode": {
    "name": "ipython",
    "version": 3
   },
   "file_extension": ".py",
   "mimetype": "text/x-python",
   "name": "python",
   "nbconvert_exporter": "python",
   "pygments_lexer": "ipython3",
   "version": "3.9.0"
  },
  "orig_nbformat": 4,
  "deepnote_notebook_id": "fcd3e2f5-8818-45df-9d8a-0ddfb9dfaa63",
  "deepnote": {},
  "deepnote_execution_queue": [],
  "deepnote_app_layout": "article"
 }
}