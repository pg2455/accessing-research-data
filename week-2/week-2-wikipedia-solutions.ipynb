{
 "cells": [
  {
   "cell_type": "markdown",
   "source": "# Week 2B: Accessing data from Wikipedia",
   "metadata": {
    "cell_id": "80ac79ca-a0ef-4081-a14b-42ec81ce898f",
    "tags": [],
    "deepnote_app_coordinates": {
     "x": 0,
     "y": null,
     "w": 12,
     "h": 5
    },
    "deepnote_cell_type": "markdown"
   }
  },
  {
   "cell_type": "markdown",
   "source": "## Learning to use the ‘requests‘ Python library\n\nIn the first notebook on Reddit, we used the PushShift API. Fortunately, there was a Python library, psaw, that simplified calling the API. Without psaw, we need to manually select parameters, craft the URL correct, call it, and parse the answer.\n\n\nFor example, to search for Reddit posts mentioning the word “science”, we need to use the endpoint https://api.pushshift.io/reddit/search/submission/. Therefore, the final query will look like https://api.pushshift.io/reddit/search/submission/?q=science.\n\n`requests` is a general purpose Python library to send HTTP requests, the technical protocol used to communicate with remote APIs. There are different types of HTTP requests that this library support and that you may encounter for more complex APIs (e.g., GET, POST, PUT, DELETE, etc.). For the purpose of requesting data from the APIs we cover in this couse, we will only need to learn about the GET requests. \n\nThe library is extremely well documented with tutorials: https://docs.python-requests.org/en/latest/\n",
   "metadata": {
    "cell_id": "d9c467b0-446d-4028-aa67-d2feb87132ca",
    "tags": [],
    "deepnote_cell_height": 226,
    "deepnote_app_coordinates": {
     "x": 0,
     "y": 18,
     "w": 12,
     "h": 5
    },
    "deepnote_cell_type": "markdown"
   }
  },
  {
   "cell_type": "code",
   "metadata": {
    "cell_id": "5efbed6a-e825-4b2a-8bda-7cc4f2671139",
    "tags": [],
    "deepnote_to_be_reexecuted": false,
    "source_hash": "a933caac",
    "execution_start": 1646038770920,
    "execution_millis": 3020,
    "deepnote_cell_height": 99,
    "deepnote_app_coordinates": {
     "x": 0,
     "y": 24,
     "w": 12,
     "h": 5
    },
    "deepnote_cell_type": "code"
   },
   "source": "%%capture\n# Run this cell to install the requests library using the Python package manager pip\n!pip install requests",
   "execution_count": null,
   "outputs": []
  },
  {
   "cell_type": "code",
   "metadata": {
    "cell_id": "c52acc9e-91b3-49d7-b54a-a85bb87fd2c7",
    "tags": [],
    "deepnote_to_be_reexecuted": false,
    "source_hash": "f6cb1ae6",
    "execution_start": 1646038773946,
    "execution_millis": 0,
    "deepnote_app_coordinates": {
     "x": 0,
     "y": 30,
     "w": 12,
     "h": 5
    },
    "deepnote_cell_type": "code"
   },
   "source": "import json\nimport pandas as pd\nimport requests",
   "execution_count": null,
   "outputs": []
  },
  {
   "cell_type": "markdown",
   "source": "#### Using Requests to query Reddit APIs",
   "metadata": {
    "cell_id": "2ef38dd4-8ffd-4de6-a2a3-908b02708f3f",
    "tags": [],
    "deepnote_cell_height": 70,
    "deepnote_app_coordinates": {
     "x": 0,
     "y": 36,
     "w": 12,
     "h": 5
    },
    "deepnote_cell_type": "markdown"
   }
  },
  {
   "cell_type": "markdown",
   "source": "<div class=\"alert alert-info\">\n\n**Exercise 0:** Use `requests` library to extract submissions containing the term \"science\" using the following API endpoint: https://api.pushshift.io/reddit/search/submission/ \n\n</div>",
   "metadata": {
    "cell_id": "737cbf4e-e6dd-4fb5-a83d-aa3a52d8783a",
    "tags": [],
    "deepnote_cell_height": 52.399993896484375,
    "deepnote_app_coordinates": {
     "x": 0,
     "y": 42,
     "w": 12,
     "h": 5
    },
    "deepnote_cell_type": "markdown"
   }
  },
  {
   "cell_type": "code",
   "metadata": {
    "cell_id": "3c183621-09e7-43e9-b821-7735a6176665",
    "tags": [],
    "deepnote_to_be_reexecuted": false,
    "source_hash": "e9cbd043",
    "execution_start": 1645983323275,
    "execution_millis": 2562,
    "deepnote_cell_height": 183.6999969482422,
    "deepnote_app_coordinates": {
     "x": 0,
     "y": 48,
     "w": 12,
     "h": 5
    },
    "deepnote_cell_type": "code"
   },
   "source": "r = requests.get(\"https://api.pushshift.io/reddit/search/submission/\", params={'q':\"science\"})\nprint(r.url)",
   "execution_count": null,
   "outputs": [
    {
     "name": "stdout",
     "text": "https://api.pushshift.io/reddit/search/submission/?q=science\n",
     "output_type": "stream"
    }
   ]
  },
  {
   "cell_type": "markdown",
   "source": "\n`requests` return an object. It contains attributes that can be used to access information about that request. For example, `r.url` shows the actual url that was queried, `r.text` shows the text response, and `r.json()` will show the json formatted response. \n\n<div class=\"alert alert-warning\">\n\n**Note1:** `.json()` is a method rather than an attribute.\n\n**Note2:** Comapre the above url to manual querying of the Reddit API in Week2A assignment. Are they same?\n\n</div>",
   "metadata": {
    "cell_id": "83546eda-cb73-4493-94ac-105f031255ad",
    "tags": [],
    "deepnote_cell_height": 111.19999694824219,
    "deepnote_app_coordinates": {
     "x": 0,
     "y": 54,
     "w": 12,
     "h": 5
    },
    "deepnote_cell_type": "markdown"
   }
  },
  {
   "cell_type": "code",
   "metadata": {
    "cell_id": "9c453113-d37e-472f-9606-74b1c08ef7a3",
    "tags": [],
    "deepnote_to_be_reexecuted": false,
    "source_hash": "b2493f51",
    "execution_start": 1645983325845,
    "execution_millis": 41,
    "deepnote_output_heights": [
     null,
     21
    ],
    "deepnote_cell_height": 217.6999969482422,
    "deepnote_app_coordinates": {
     "x": 0,
     "y": 60,
     "w": 12,
     "h": 5
    },
    "deepnote_cell_type": "code"
   },
   "source": "r.text \n# print(r.text) # to see the formatted string",
   "execution_count": null,
   "outputs": [
    {
     "output_type": "execute_result",
     "execution_count": 4,
     "data": {
      "text/plain": "'{\\n    \"data\": [\\n        {\\n            \"all_awardings\": [],\\n            \"allow_live_comments\": false,\\n            \"author\": \"Acrobatic_Comb1015\",\\n            \"author_flair_css_class\": null,\\n            \"author_flair_richtext\": [],\\n            \"author_flair_text\": null,\\n            \"author_flair_type\": \"text\",\\n            \"author_fullname\": \"t2_8iwiho4l\",\\n            \"author_is_blocked\": false,\\n            \"author_patreon_flair\": false,\\n            \"author_premium\": false,\\n            \"awarders\": [],\\n            \"can_mod_post\": false,\\n            \"contest_mode\": false,\\n            \"created_utc\": 1645983289,\\n            \"domain\": \"self.premed\",\\n            \"full_link\": \"https://www.reddit.com/r/premed/comments/t2t9v6/high_stats_low_clinical_volunteering_urm_app/\",\\n            \"gildings\": {},\\n            \"id\": \"t2t9v6\",\\n            \"is_created_from_ads_ui\": false,\\n            \"is_crosspostable\": true,\\n            \"is_meta\": false,\\n            \"is_original_content\": false,\\n            \"is_reddit_media_domain\": false,\\n            \"is_robot_indexable\": true,\\n            \"is_self\": true,\\n            \"is_video\": false,\\n            \"link_flair_background_color\": \"#007373\",\\n            \"link_flair_css_class\": \"standard\",\\n            \"link_flair_richtext\": [\\n                {\\n                    \"e\": \"text\",\\n                    \"t\": \"\\\\ud83d\\\\udd2e App Review\"\\n                }\\n            ],\\n            \"link_flair_template_id\": \"09e2b230-a339-11e9-b961-0ef4f937b248\",\\n            \"link_flair_text\": \"\\\\ud83d\\\\udd2e App Review\",\\n            \"link_flair_text_color\": \"light\",\\n            \"link_flair_type\": \"richtext\",\\n            \"locked\": false,\\n            \"media_only\": false,\\n            \"no_follow\": false,\\n            \"num_comments\": 0,\\n            \"num_crossposts\": 0,\\n            \"over_18\": false,\\n            \"parent_whitelist_status\": \"all_ads\",\\n            \"permalink\": \"/r/premed/comments/t2t9v6/high_stats_low_clinical_volunteering_urm_app/\",\\n            \"pinned\": false,\\n            \"post_hint\": \"self\",\\n            \"preview\": {\\n                \"enabled\": false,\\n                \"images\": [\\n                    {\\n                        \"id\": \"0nNKXOOCvYJSnDMjvX-D72jJTinmsxBmGg-t-SYJJQ8\",\\n                        \"resolutions\": [\\n                            {\\n                                \"height\": 56,\\n                                \"url\": \"https://external-preview.redd.it/_jDV_h6nL_LlzDs5Im3ivxgT-ew5xa52OshHxkA8x_k.jpg?width=108&amp;crop=smart&amp;auto=webp&amp;s=12c4cabfa22f9951c278c8244666696595eb70cf\",\\n                                \"width\": 108\\n                            },\\n                            {\\n                                \"height\": 113,\\n                                \"url\": \"https://external-preview.redd.it/_jDV_h6nL_LlzDs5Im3ivxgT-ew5xa52OshHxkA8x_k.jpg?width=216&amp;crop=smart&amp;auto=webp&amp;s=39696676c90722563d631f7b9a44610940a62f39\",\\n                                \"width\": 216\\n                            },\\n                            {\\n                                \"height\": 168,\\n                                \"url\": \"https://external-preview.redd.it/_jDV_h6nL_LlzDs5Im3ivxgT-ew5xa52OshHxkA8x_k.jpg?width=320&amp;crop=smart&amp;auto=webp&amp;s=33814a42ba24b6705a8b1901c5fc42bfc9ec4d32\",\\n                                \"width\": 320\\n                            },\\n                            {\\n                                \"height\": 336,\\n                                \"url\": \"https://external-preview.redd.it/_jDV_h6nL_LlzDs5Im3ivxgT-ew5xa52OshHxkA8x_k.jpg?width=640&amp;crop=smart&amp;auto=webp&amp;s=bf8728828f748589b29db7f8bc1419a57fb2c163\",\\n                                \"width\": 640\\n                            },\\n                            {\\n                                \"height\": 504,\\n                                \"url\": \"https://external-preview.redd.it/_jDV_h6nL_LlzDs5Im3ivxgT-ew5xa52OshHxkA8x_k.jpg?width=960&amp;crop=smart&amp;auto=webp&amp;s=4964f5b1577439ed9530337168bde7926d45294d\",\\n                                \"width\": 960\\n                            },\\n                            {\\n                                \"height\": 567,\\n                                \"url\": \"https://external-preview.redd.it/_jDV_h6nL_LlzDs5Im3ivxgT-ew5xa52OshHxkA8x_k.jpg?width=1080&amp;crop=smart&amp;auto=webp&amp;s=f177f567d843d17c1781a30a1a5a2ed8a4a566bd\",\\n                                \"width\": 1080\\n                            }\\n                        ],\\n                        \"source\": {\\n                            \"height\": 630,\\n                            \"url\": \"https://external-preview.redd.it/_jDV_h6nL_LlzDs5Im3ivxgT-ew5xa52OshHxkA8x_k.jpg?auto=webp&amp;s=38ad2b4c3c4d5a08a8d0eeae68040f968e0a75e5\",\\n                            \"width\": 1200\\n                        },\\n                        \"variants\": {}\\n                    }\\n                ]\\n            },\\n            \"pwls\": 6,\\n            \"retrieved_on\": 1645983300,\\n            \"score\": 1,\\n            \"selftext\": \"Hi, Im making this post because I\\'ve seen mixed opinions among friends and counselors in regards to which schools I should apply for. I have high stats but kind of low clinical volunteering and Im having a hard time acquiring more due to covid (specially since I live with my grandmother and she is immunocompromised). Which tiers of schools should I aim for? Thanks.\\\\n\\\\n* State/Country of Residence: Georgia\\\\n* Ties to other States/Regions: Nope\\\\n* [URM](https://www.aamc.org/what-we-do/mission-areas/diversity-inclusion/underrepresented-in-medicine)? (Y/N): Y (Hispanic)\\\\n* Year in School: 4\\\\n* Undergraduate Major(s)/Minor(s): Major in Biology\\\\n* Graduate Degrees (if applicable): N/A\\\\n* Cumulative GPA: 4.0\\\\n* Science GPA: 4.0\\\\n* MCAT Score(s): 521\\\\n* Research Experience: Around 1500 hours on wet lab research on my university, 100 hours on online REU, and 100 hours on a microbiology lab\\\\n* Publications/Abstracts/Posters (include how you were credited e.g. first author, second author, etc.): 1 poster and 1 thesis \\\\n* Clinical Experience (paid or volunteer): 100 hours of volunteering on a local group that helped doctors who visited patients on their homes.\\\\n* Physician Shadowing: 25 hours on person; 25 online\\\\n* Non-Clinical Volunteering: 300 Red Cross volunteer, 50 working with homeless and 100 working on crisistextline\\\\n* Other Extracurricular Activities: 200 hours tutoring\\\\n* Other Employment History: N/A\\\\n* Immediate family members in medicine? (Y/N):N\\\\n* Specialty of Interest (if applicable):\\\\n* Interest in Primary Care (Y/N):N\\\\n* Interest in Rural Health (Y/N):N\\\\n* Medical School List: N/A\",\\n            \"send_replies\": true,\\n            \"spoiler\": false,\\n            \"stickied\": false,\\n            \"subreddit\": \"premed\",\\n            \"subreddit_id\": \"t5_2rlp9\",\\n            \"subreddit_subscribers\": 251229,\\n            \"subreddit_type\": \"public\",\\n            \"thumbnail\": \"self\",\\n            \"title\": \"High Stats, Low Clinical volunteering URM App Review\",\\n            \"total_awards_received\": 0,\\n            \"treatment_tags\": [],\\n            \"upvote_ratio\": 1.0,\\n            \"url\": \"https://www.reddit.com/r/premed/comments/t2t9v6/high_stats_low_clinical_volunteering_urm_app/\",\\n            \"whitelist_status\": \"all_ads\",\\n            \"wls\": 6\\n        },\\n        {\\n            \"all_awardings\": [],\\n            \"allow_live_comments\": false,\\n            \"author\": \"SoftSeaSpider\",\\n            \"author_flair_css_class\": null,\\n            \"author_flair_richtext\": [\\n                {\\n                    \"e\": \"text\",\\n                    \"t\": \"17\"\\n                }\\n            ],\\n            \"author_flair_template_id\": \"f2e6204c-9bc7-11e1-af72-12313b078981\",\\n            \"author_flair_text\": \"17\",\\n            \"author_flair_text_color\": \"dark\",\\n            \"author_flair_type\": \"richtext\",\\n            \"author_fullname\": \"t2_3zp9qwzb\",\\n            \"author_is_blocked\": false,\\n            \"author_patreon_flair\": false,\\n            \"author_premium\": true,\\n            \"awarders\": [],\\n            \"can_mod_post\": false,\\n            \"contest_mode\": false,\\n            \"created_utc\": 1645983122,\\n            \"domain\": \"self.teenagers\",\\n            \"full_link\": \"https://www.reddit.com/r/teenagers/comments/t2t7r1/babe_wdym_men_cant_cry_theres_literally_science/\",\\n            \"gildings\": {},\\n            \"id\": \"t2t7r1\",\\n            \"is_created_from_ads_ui\": false,\\n            \"is_crosspostable\": true,\\n            \"is_meta\": false,\\n            \"is_original_content\": false,\\n            \"is_reddit_media_domain\": false,\\n            \"is_robot_indexable\": true,\\n            \"is_self\": true,\\n            \"is_video\": false,\\n            \"link_flair_background_color\": \"#edeff1\",\\n            \"link_flair_css_class\": \"meme\",\\n            \"link_flair_richtext\": [\\n                {\\n                    \"e\": \"text\",\\n                    \"t\": \"Meme\"\\n                }\\n            ],\\n            \"link_flair_template_id\": \"68e40d50-6435-11e2-97c8-12313b0c247a\",\\n            \"link_flair_text\": \"Meme\",\\n            \"link_flair_text_color\": \"dark\",\\n            \"link_flair_type\": \"richtext\",\\n            \"locked\": false,\\n            \"media_only\": false,\\n            \"no_follow\": true,\\n            \"num_comments\": 0,\\n            \"num_crossposts\": 0,\\n            \"over_18\": false,\\n            \"parent_whitelist_status\": \"no_ads\",\\n            \"permalink\": \"/r/teenagers/comments/t2t7r1/babe_wdym_men_cant_cry_theres_literally_science/\",\\n            \"pinned\": false,\\n            \"pwls\": 0,\\n            \"retrieved_on\": 1645983133,\\n            \"score\": 1,\\n            \"selftext\": \"I don\\\\u2019t care that you\\\\u2019re \\\\u201chaving a mental breakdown\\\\u201d not everything is about you. \\\\n\\\\nNo you don\\\\u2019t have to apologize, it\\\\u2019s fine. Just stop being so manipulative all the time, it\\\\u2019s not that hard babe \\\\n\\\\n\\\\n(/satire)\",\\n            \"send_replies\": true,\\n            \"spoiler\": false,\\n            \"stickied\": false,\\n            \"subreddit\": \"teenagers\",\\n            \"subreddit_id\": \"t5_2rjli\",\\n            \"subreddit_subscribers\": 2744404,\\n            \"subreddit_type\": \"public\",\\n            \"thumbnail\": \"self\",\\n            \"title\": \"Babe, wdym? Men can\\\\u2019t cry. There\\\\u2019s literally science about why men are just emotionless. Stop talking about your feelings, you\\\\u2019re being so manipulative rn\",\\n            \"total_awards_received\": 0,\\n            \"treatment_tags\": [],\\n            \"upvote_ratio\": 1.0,\\n            \"url\": \"https://www.reddit.com/r/teenagers/comments/t2t7r1/babe_wdym_men_cant_cry_theres_literally_science/\",\\n            \"whitelist_status\": \"no_ads\",\\n            \"wls\": 0\\n        },\\n        {\\n            \"all_awardings\": [],\\n            \"allow_live_comments\": false,\\n            \"author\": \"Ordinary_Craft\",\\n            \"author_flair_css_class\": null,\\n            \"author_flair_richtext\": [],\\n            \"author_flair_text\": null,\\n            \"author_flair_type\": \"text\",\\n            \"author_fullname\": \"t2_6l105jav\",\\n            \"author_is_blocked\": false,\\n            \"author_patreon_flair\": false,\\n            \"author_premium\": false,\\n            \"awarders\": [],\\n            \"can_mod_post\": false,\\n            \"contest_mode\": false,\\n            \"created_utc\": 1645983099,\\n            \"domain\": \"udemy.store\",\\n            \"full_link\": \"https://www.reddit.com/r/couponsuk/comments/t2t7fe/ultimate_python_bootcamp_for_data_science_machine/\",\\n            \"gildings\": {},\\n            \"id\": \"t2t7fe\",\\n            \"is_created_from_ads_ui\": false,\\n            \"is_crosspostable\": true,\\n            \"is_meta\": false,\\n            \"is_original_content\": false,\\n            \"is_reddit_media_domain\": false,\\n            \"is_robot_indexable\": true,\\n            \"is_self\": false,\\n            \"is_video\": false,\\n            \"link_flair_background_color\": \"\",\\n            \"link_flair_richtext\": [],\\n            \"link_flair_text_color\": \"dark\",\\n            \"link_flair_type\": \"text\",\\n            \"locked\": false,\\n            \"media_only\": false,\\n            \"no_follow\": true,\\n            \"num_comments\": 0,\\n            \"num_crossposts\": 0,\\n            \"over_18\": false,\\n            \"permalink\": \"/r/couponsuk/comments/t2t7fe/ultimate_python_bootcamp_for_data_science_machine/\",\\n            \"pinned\": false,\\n            \"post_hint\": \"link\",\\n            \"preview\": {\\n                \"enabled\": false,\\n                \"images\": [\\n                    {\\n                        \"id\": \"FDzekJgf35SCvdmyFx2aOVimlaKD7eKGMvK0TxrO_eE\",\\n                        \"resolutions\": [\\n                            {\\n                                \"height\": 60,\\n                                \"url\": \"https://external-preview.redd.it/l0Q3zbvOynyLczxs4MKek34R3DJFGC_O6TvkG1mWEVA.jpg?width=108&amp;crop=smart&amp;auto=webp&amp;s=0ed73452b5272416f2162ce6228de1f653f6cee5\",\\n                                \"width\": 108\\n                            },\\n                            {\\n                                \"height\": 121,\\n                                \"url\": \"https://external-preview.redd.it/l0Q3zbvOynyLczxs4MKek34R3DJFGC_O6TvkG1mWEVA.jpg?width=216&amp;crop=smart&amp;auto=webp&amp;s=98cf933e5f4be99720c3b2c85818eeaa656c6b67\",\\n                                \"width\": 216\\n                            },\\n                            {\\n                                \"height\": 180,\\n                                \"url\": \"https://external-preview.redd.it/l0Q3zbvOynyLczxs4MKek34R3DJFGC_O6TvkG1mWEVA.jpg?width=320&amp;crop=smart&amp;auto=webp&amp;s=4934dc7488e2cf29323df5cdbf4295760dc05a4c\",\\n                                \"width\": 320\\n                            }\\n                        ],\\n                        \"source\": {\\n                            \"height\": 270,\\n                            \"url\": \"https://external-preview.redd.it/l0Q3zbvOynyLczxs4MKek34R3DJFGC_O6TvkG1mWEVA.jpg?auto=webp&amp;s=059ba80d84d5d3003aa36a7fbe1296639a459219\",\\n                            \"width\": 480\\n                        },\\n                        \"variants\": {}\\n                    }\\n                ]\\n            },\\n            \"retrieved_on\": 1645983110,\\n            \"score\": 1,\\n            \"selftext\": \"\",\\n            \"send_replies\": true,\\n            \"spoiler\": false,\\n            \"stickied\": false,\\n            \"subreddit\": \"couponsuk\",\\n            \"subreddit_id\": \"t5_30fll\",\\n            \"subreddit_subscribers\": 1579,\\n            \"subreddit_type\": \"public\",\\n            \"thumbnail\": \"https://b.thumbs.redditmedia.com/5zrLkniWdZ0tDXrDvUXuo2kGjGnhXMzhO0EkL3gp4_s.jpg\",\\n            \"thumbnail_height\": 78,\\n            \"thumbnail_width\": 140,\\n            \"title\": \"Ultimate Python Bootcamp For Data Science &amp; Machine Learning - free course from udemy for limited time\",\\n            \"total_awards_received\": 0,\\n            \"treatment_tags\": [],\\n            \"upvote_ratio\": 1.0,\\n            \"url\": \"https://www.udemy.store/2022/02/ultimate-python-bootcamp-for-data.html\",\\n            \"url_overridden_by_dest\": \"https://www.udemy.store/2022/02/ultimate-python-bootcamp-for-data.html\"\\n        },\\n        {\\n            \"all_awardings\": [],\\n            \"allow_live_comments\": false,\\n            \"author\": \"Wise_One6869\",\\n            \"author_flair_css_class\": null,\\n            \"author_flair_richtext\": [],\\n            \"author_flair_text\": null,\\n            \"author_flair_type\": \"text\",\\n            \"author_fullname\": \"t2_j0hppovd\",\\n            \"author_is_blocked\": false,\\n            \"author_patreon_flair\": false,\\n            \"author_premium\": false,\\n            \"awarders\": [],\\n            \"can_mod_post\": false,\\n            \"contest_mode\": false,\\n            \"created_utc\": 1645983095,\\n            \"domain\": \"self.EssaysHelper\",\\n            \"full_link\": \"https://www.reddit.com/r/EssaysHelper/comments/t2t7dw/hire_me_i_proffer_professional_aid_in_research/\",\\n            \"gildings\": {},\\n            \"id\": \"t2t7dw\",\\n            \"is_created_from_ads_ui\": false,\\n            \"is_crosspostable\": true,\\n            \"is_meta\": false,\\n            \"is_original_content\": false,\\n            \"is_reddit_media_domain\": false,\\n            \"is_robot_indexable\": true,\\n            \"is_self\": true,\\n            \"is_video\": false,\\n            \"link_flair_background_color\": \"\",\\n            \"link_flair_richtext\": [],\\n            \"link_flair_text_color\": \"dark\",\\n            \"link_flair_type\": \"text\",\\n            \"locked\": false,\\n            \"media_only\": false,\\n            \"no_follow\": true,\\n            \"num_comments\": 0,\\n            \"num_crossposts\": 0,\\n            \"over_18\": false,\\n            \"parent_whitelist_status\": \"all_ads\",\\n            \"permalink\": \"/r/EssaysHelper/comments/t2t7dw/hire_me_i_proffer_professional_aid_in_research/\",\\n            \"pinned\": false,\\n            \"pwls\": 6,\\n            \"retrieved_on\": 1645983106,\\n            \"score\": 1,\\n            \"selftext\": \" \\\\n\\\\nHello students, I am a professional and well-rated writer with seven years of experience. I am well-versed in different fields which include Computer Science, Electrical Engineering, Aeronautics, and Aviation Technology, Political Science, Marketing, Theater and Media Arts, Business Management, Philosophy, Geometry, Management, Engineering, Accounting, History, Nursing, Statistics, English, Literature, (Social Sciences), Finance, Agriculture, Law, Sociology, Biology, Political Science, Accounting Software, Business among Others.\\\\n\\\\n**To contact my services; please send your instructions and the deadline to** [homeworkwriter48@gmail.com](mailto:homeworkwriter48@gmail.com)\\\\n\\\\n**Services Offered but not limited to.**\\\\n\\\\n\\\\u00b7 Essay writing.\\\\n\\\\n\\\\u00b7 Research Papers.\\\\n\\\\n\\\\u00b7 Online Class Management.\\\\n\\\\n\\\\u00b7 Peer responses/ Class discussions.\\\\n\\\\n. Lab Reports.\\\\n\\\\n\\\\u00b7 Research Proposals.\\\\n\\\\n**Why use my services?**\\\\n\\\\n**I**. I am a reliable, experienced, and trustworthy writer with the capability to provide well-done assignments and essays.\\\\n\\\\n**II.** I am time conscious: I deliver assignments before the stipulated deadline so that the client may have time to have a look at the assignment,\\\\n\\\\n**III**. I attach Turn It In reports alongside the assignment as proof that the assignment is original and written from scratch.\\\\n\\\\n**IV.** I take careful consideration in all the attachments presented by the client which include rubrics and instructions to ensure that I do not miss any important information.\\\\n\\\\n**To contact my services; please send your instructions and the deadline to** [homeworkwriter48@gmail.com](mailto:homeworkwriter48@gmail.com)\\\\n\\\\n***I charge $ 15 per page*** to all writing formats which include MLA/ HARVARD/ APA, CHICAGO, OSCOLA.\\\\n\\\\nEnjoy your family times and holidays as I work on your assignments. It is a guarantee that I will deliver the assignments before the deadline. As earlier mentioned I deliver plagiarized free assignments and will upload a plagiarized report attached to the assignment. Thank you.\\\\n\\\\n**FREQUENTLY ASKED QUESTIONS (FAQS).**\\\\n\\\\n* *What services do you offer?*\\\\n\\\\nI offer writing services in different fields which include Mathematics, Physics, Psychology, Nursing, Medicine, and Chemistry among others.\\\\n\\\\n* *Do your prices change with short deadline assignments?*\\\\n\\\\nI normally charge a standard $ 15 whether the assignment is given on short notice or has a long deadline.\\\\n\\\\n* *Do you give discounts on returning clients?*\\\\n\\\\nSure! I give a 30% discount on all returning clients or when they vouch for their loved ones and friends.\\\\n\\\\n* *How will I know that my assignment is original and thus not plagiarized?*\\\\n\\\\nIt is my obligation to attach a Turn it In Report to all the assignments I upload to clients.\\\\n\\\\n* *Do you prefer another payment method apart from PayPal?*\\\\n\\\\nI use PayPal as my main payment method. I believe it is the easiest and convenient method for both parties.\\\\n\\\\n* *Do I have to pay additional cash for revisions?*\\\\n\\\\nTrust me! Due to my experience in the writing industry, revisions or modifications needed are extremely rare. However, in the case of such issues, no additional fee should be paid.\\\\n\\\\n**To contact my services; please send your instructions and the deadline to** [homeworkwriter48@gmail.com](mailto:homeworkwriter48@gmail.com)\",\\n            \"send_replies\": true,\\n            \"spoiler\": false,\\n            \"stickied\": false,\\n            \"subreddit\": \"EssaysHelper\",\\n            \"subreddit_id\": \"t5_2nj7ph\",\\n            \"subreddit_subscribers\": 1159,\\n            \"subreddit_type\": \"public\",\\n            \"thumbnail\": \"self\",\\n            \"title\": \"[HIRE ME] I Proffer Professional Aid In Research Papers, Anointed Bibliography, News articles, Essay &amp; Exams, Assignments, Mathematics Calculus , Java, C++, Python, SQL, HTML/CSS/JS Programming, Chemistry &amp; Physics. Available Now At homeworkwriter48@gmail.com.\",\\n            \"total_awards_received\": 0,\\n            \"treatment_tags\": [],\\n            \"upvote_ratio\": 1.0,\\n            \"url\": \"https://www.reddit.com/r/EssaysHelper/comments/t2t7dw/hire_me_i_proffer_professional_aid_in_research/\",\\n            \"whitelist_status\": \"all_ads\",\\n            \"wls\": 6\\n        },\\n        {\\n            \"all_awardings\": [],\\n            \"allow_live_comments\": false,\\n            \"author\": \"bezdenka\",\\n            \"author_flair_css_class\": null,\\n            \"author_flair_richtext\": [],\\n            \"author_flair_text\": null,\\n            \"author_flair_type\": \"text\",\\n            \"author_fullname\": \"t2_ima8ye09\",\\n            \"author_is_blocked\": false,\\n            \"author_patreon_flair\": false,\\n            \"author_premium\": false,\\n            \"awarders\": [],\\n            \"can_mod_post\": false,\\n            \"contest_mode\": false,\\n            \"created_utc\": 1645983019,\\n            \"domain\": \"trv-science.ru\",\\n            \"full_link\": \"https://www.reddit.com/r/ukraine/comments/t2t6c8/open_letter_of_russian_scientists_and_science/\",\\n            \"gildings\": {},\\n            \"id\": \"t2t6c8\",\\n            \"is_created_from_ads_ui\": false,\\n            \"is_crosspostable\": false,\\n            \"is_meta\": false,\\n            \"is_original_content\": false,\\n            \"is_reddit_media_domain\": false,\\n            \"is_robot_indexable\": false,\\n            \"is_self\": false,\\n            \"is_video\": false,\\n            \"link_flair_background_color\": \"\",\\n            \"link_flair_richtext\": [],\\n            \"link_flair_text_color\": \"dark\",\\n            \"link_flair_type\": \"text\",\\n            \"locked\": false,\\n            \"media_only\": false,\\n            \"no_follow\": true,\\n            \"num_comments\": 0,\\n            \"num_crossposts\": 0,\\n            \"over_18\": false,\\n            \"parent_whitelist_status\": \"no_ads\",\\n            \"permalink\": \"/r/ukraine/comments/t2t6c8/open_letter_of_russian_scientists_and_science/\",\\n            \"pinned\": false,\\n            \"post_hint\": \"link\",\\n            \"preview\": {\\n                \"enabled\": false,\\n                \"images\": [\\n                    {\\n                        \"id\": \"nqLq9SHd8s9oRixxRVzzD1IJUoHStFCKCjWSKC03WyM\",\\n                        \"resolutions\": [\\n                            {\\n                                \"height\": 169,\\n                                \"url\": \"https://external-preview.redd.it/vaUKVdJECjb1sRPKcon1ggbtDVvtwA4Ey-4t3ACV4Ko.jpg?width=108&amp;crop=smart&amp;auto=webp&amp;s=ae9d2805e7fe7a040b49f16bf1d90754e615e6ce\",\\n                                \"width\": 108\\n                            },\\n                            {\\n                                \"height\": 338,\\n                                \"url\": \"https://external-preview.redd.it/vaUKVdJECjb1sRPKcon1ggbtDVvtwA4Ey-4t3ACV4Ko.jpg?width=216&amp;crop=smart&amp;auto=webp&amp;s=b610545c0df6bb6e109eb29a205fc2270da7e490\",\\n                                \"width\": 216\\n                            },\\n                            {\\n                                \"height\": 502,\\n                                \"url\": \"https://external-preview.redd.it/vaUKVdJECjb1sRPKcon1ggbtDVvtwA4Ey-4t3ACV4Ko.jpg?width=320&amp;crop=smart&amp;auto=webp&amp;s=20b15b2f7f1703b661fe6135b1995b7191ac1e03\",\\n                                \"width\": 320\\n                            },\\n                            {\\n                                \"height\": 1004,\\n                                \"url\": \"https://external-preview.redd.it/vaUKVdJECjb1sRPKcon1ggbtDVvtwA4Ey-4t3ACV4Ko.jpg?width=640&amp;crop=smart&amp;auto=webp&amp;s=b6b5c7c13dea6a547ba398a7220779ee6a6a40f5\",\\n                                \"width\": 640\\n                            }\\n                        ],\\n                        \"source\": {\\n                            \"height\": 1406,\\n                            \"url\": \"https://external-preview.redd.it/vaUKVdJECjb1sRPKcon1ggbtDVvtwA4Ey-4t3ACV4Ko.jpg?auto=webp&amp;s=1e8a8a5f63ee540794ca0d500c0c9968838e5e77\",\\n                            \"width\": 896\\n                        },\\n                        \"variants\": {}\\n                    }\\n                ]\\n            },\\n            \"pwls\": 0,\\n            \"removed_by_category\": \"moderator\",\\n            \"retrieved_on\": 1645983030,\\n            \"score\": 1,\\n            \"selftext\": \"\",\\n            \"send_replies\": true,\\n            \"spoiler\": false,\\n            \"stickied\": false,\\n            \"subreddit\": \"ukraine\",\\n            \"subreddit_id\": \"t5_2qqcn\",\\n            \"subreddit_subscribers\": 294360,\\n            \"subreddit_type\": \"public\",\\n            \"thumbnail\": \"https://a.thumbs.redditmedia.com/KaoeK6CCltqHLF5bCq3LBWWqSdHewcGH_ENCdjqHZr0.jpg\",\\n            \"thumbnail_height\": 140,\\n            \"thumbnail_width\": 140,\\n            \"title\": \"Open letter of Russian scientists and science journalists against the war with Ukraine - \\\\u0422\\\\u0440\\\\u043e\\\\u0438\\\\u0446\\\\u043a\\\\u0438\\\\u0439 \\\\u0432\\\\u0430\\\\u0440\\\\u0438\\\\u0430\\\\u043d\\\\u0442 \\\\u2014 \\\\u041d\\\\u0430\\\\u0443\\\\u043a\\\\u0430\",\\n            \"total_awards_received\": 0,\\n            \"treatment_tags\": [],\\n            \"upvote_ratio\": 1.0,\\n            \"url\": \"https://trv-science.ru/en/2022/02/we-are-against-war-en/\",\\n            \"url_overridden_by_dest\": \"https://trv-science.ru/en/2022/02/we-are-against-war-en/\",\\n            \"whitelist_status\": \"no_ads\",\\n            \"wls\": 0\\n        },\\n        {\\n            \"all_awardings\": [],\\n            \"allow_live_comments\": false,\\n            \"author\": \"Furystorm\",\\n            \"author_flair_background_color\": \"\",\\n            \"author_flair_css_class\": null,\\n            \"author_flair_richtext\": [],\\n            \"author_flair_text\": \"RSI Furyman, Trader, Trades: 3066\",\\n            \"author_flair_text_color\": \"dark\",\\n            \"author_flair_type\": \"text\",\\n            \"author_fullname\": \"t2_jx9qa\",\\n            \"author_is_blocked\": false,\\n            \"author_patreon_flair\": false,\\n            \"author_premium\": false,\\n            \"awarders\": [],\\n            \"can_mod_post\": false,\\n            \"contest_mode\": false,\\n            \"created_utc\": 1645983009,\\n            \"domain\": \"self.Starcitizen_trades\",\\n            \"full_link\": \"https://www.reddit.com/r/Starcitizen_trades/comments/t2t66h/wts_furystorms_boutique_\\\\u0296_galaxys_finest_\\\\u0296/\",\\n            \"gildings\": {},\\n            \"id\": \"t2t66h\",\\n            \"is_created_from_ads_ui\": false,\\n            \"is_crosspostable\": true,\\n            \"is_meta\": false,\\n            \"is_original_content\": false,\\n            \"is_reddit_media_domain\": false,\\n            \"is_robot_indexable\": true,\\n            \"is_self\": true,\\n            \"is_video\": false,\\n            \"link_flair_background_color\": \"\",\\n            \"link_flair_css_class\": \"wts\",\\n            \"link_flair_richtext\": [],\\n            \"link_flair_text\": \"selling\",\\n            \"link_flair_text_color\": \"dark\",\\n            \"link_flair_type\": \"text\",\\n            \"locked\": false,\\n            \"media_only\": false,\\n            \"no_follow\": true,\\n            \"num_comments\": 0,\\n            \"num_crossposts\": 0,\\n            \"over_18\": false,\\n            \"parent_whitelist_status\": \"some_ads\",\\n            \"permalink\": \"/r/Starcitizen_trades/comments/t2t66h/wts_furystorms_boutique_\\\\u0296_galaxys_finest_\\\\u0296/\",\\n            \"pinned\": false,\\n            \"post_hint\": \"self\",\\n            \"preview\": {\\n                \"enabled\": false,\\n                \"images\": [\\n                    {\\n                        \"id\": \"Jp-3J44SoPbHrjN7kX6A-d5rErPzzB0H91H8uEEisgE\",\\n                        \"resolutions\": [\\n                            {\\n                                \"height\": 94,\\n                                \"url\": \"https://external-preview.redd.it/6_fRNaDRssRLZsqhGZFTcpSvWrfK5N6pFGzsF9XGhk8.png?width=108&amp;crop=smart&amp;auto=webp&amp;s=92f47b22dd9b4b8103c9a546b8d32e4d71b44ff5\",\\n                                \"width\": 108\\n                            },\\n                            {\\n                                \"height\": 189,\\n                                \"url\": \"https://external-preview.redd.it/6_fRNaDRssRLZsqhGZFTcpSvWrfK5N6pFGzsF9XGhk8.png?width=216&amp;crop=smart&amp;auto=webp&amp;s=95446dae958eb3c8e626e289ebde13c3b6a2c193\",\\n                                \"width\": 216\\n                            },\\n                            {\\n                                \"height\": 280,\\n                                \"url\": \"https://external-preview.redd.it/6_fRNaDRssRLZsqhGZFTcpSvWrfK5N6pFGzsF9XGhk8.png?width=320&amp;crop=smart&amp;auto=webp&amp;s=623c559d19a35eb0aa6d1fcd94e9f0008ae060f7\",\\n                                \"width\": 320\\n                            },\\n                            {\\n                                \"height\": 561,\\n                                \"url\": \"https://external-preview.redd.it/6_fRNaDRssRLZsqhGZFTcpSvWrfK5N6pFGzsF9XGhk8.png?width=640&amp;crop=smart&amp;auto=webp&amp;s=cbecd89dff56498ed4d1c592e01069e4e5f393cd\",\\n                                \"width\": 640\\n                            }\\n                        ],\\n                        \"source\": {\\n                            \"height\": 713,\\n                            \"url\": \"https://external-preview.redd.it/6_fRNaDRssRLZsqhGZFTcpSvWrfK5N6pFGzsF9XGhk8.png?auto=webp&amp;s=34e861ac6ccf239296a2f8203be862a6935e9d2a\",\\n                            \"width\": 813\\n                        },\\n                        \"variants\": {}\\n                    }\\n                ]\\n            },\\n            \"pwls\": 7,\\n            \"retrieved_on\": 1645983020,\\n            \"score\": 1,\\n            \"selftext\": \"\\\\u2593\\\\u2593\\\\u2593\\\\u2593\\\\u2593\\\\u2593\\\\u2593\\\\u2593\\\\u2593\\\\u2593\\\\u2593\\\\u2593\\\\u2593\\\\u2593\\\\u2593\\\\u2593\\\\u2593\\\\u2593\\\\u2593\\\\u2593\\\\u2593\\\\u2593\\\\u2593\\\\u2593\\\\u2593\\\\u2593\\\\u2593\\\\u2593\\\\u2593\\\\u2593\\\\u2593\\\\u2593\\\\u2593\\\\u2593\\\\u2593\\\\u2593\\\\u2593\\\\u2593\\\\u2593\\\\u2593\\\\u2593\\\\u2593\\\\u2593\\\\u2593\\\\u2593\\\\u2593\\\\u2593\\\\u2593\\\\u2593\\\\u2593\\\\u2593\\\\u2593\\\\u2593\\\\u2593\\\\u2593\\\\u2593\\\\u2593\\\\u2593\\\\u2593\\\\u2593\\\\u2593\\\\u2593\\\\u2593\\\\u2593\\\\u2593\\\\u2593\\\\u2593\\\\u2593\\\\u2593\\\\u2593\\\\u2593\\\\u2593\\\\n### \\\\ud83d\\\\udc7d\\\\ud83d\\\\udc7d\\\\ud83d\\\\udc7d Welcome to [**Furystorm\\'s boutique**](https://www.reddit.com/r/Starcitizen_trades/comments/dom951/store_furystorms_boutique_%CE%BB8_%CA%96_galaxys_finest_%CA%96/) ( \\\\u0361\\\\u00b0 \\\\u035c\\\\u0296 \\\\u0361\\\\u00b0) \\\\ud83d\\\\udc7d\\\\ud83d\\\\udc7d\\\\ud83d\\\\udc7d\\\\n\\\\n[Click here](https://www.reddit.com/r/Starcitizen_trades/comments/8fb9th/inventory_furystorms_boutique_additional_items/) to see links for previous stores with a lot of positive feedback from happy customers\\\\n\\\\u2593\\\\u2593\\\\u2593\\\\u2593\\\\u2593\\\\u2593\\\\u2593\\\\u2593\\\\u2593\\\\u2593\\\\u2593\\\\u2593\\\\u2593\\\\u2593\\\\u2593\\\\u2593\\\\u2593\\\\u2593\\\\u2593\\\\u2593\\\\u2593\\\\u2593\\\\u2593\\\\u2593\\\\u2593\\\\u2593\\\\u2593\\\\u2593\\\\u2593\\\\u2593\\\\u2593\\\\u2593\\\\u2593\\\\u2593\\\\u2593\\\\u2593\\\\u2593\\\\u2593\\\\u2593\\\\u2593\\\\u2593\\\\u2593\\\\u2593\\\\u2593\\\\u2593\\\\u2593\\\\u2593\\\\u2593\\\\u2593\\\\u2593\\\\u2593\\\\u2593\\\\u2593\\\\u2593\\\\u2593\\\\u2593\\\\u2593\\\\u2593\\\\u2593\\\\u2593\\\\u2593\\\\u2593\\\\u2593\\\\u2593\\\\u2593\\\\u2593\\\\u2593\\\\u2593\\\\u2593\\\\u2593\\\\u2593\\\\u2593\\\\n\\\\n&gt; **New players - use this code (STAR-MRG5-2TBJ) on registration to get additional 5000 UEC for free!**\\\\n\\\\n&gt; [**(Just click this link)**](https://robertsspaceindustries.com/enlist?referral=STAR-MRG5-2TBJ)\\\\n\\\\n\\\\u2593\\\\u2593\\\\u2593\\\\u2593\\\\u2593\\\\u2593\\\\u2593\\\\u2593\\\\u2593\\\\u2593\\\\u2593\\\\u2593\\\\u2593\\\\u2593\\\\u2593\\\\u2593\\\\u2593\\\\u2593\\\\u2593\\\\u2593\\\\u2593\\\\u2593\\\\u2593\\\\u2593\\\\u2593\\\\u2593\\\\u2593\\\\u2593\\\\u2593\\\\u2593\\\\u2593\\\\u2593\\\\u2593\\\\u2593\\\\u2593\\\\u2593\\\\u2593\\\\u2593\\\\u2593\\\\u2593\\\\u2593\\\\u2593\\\\u2593\\\\u2593\\\\u2593\\\\u2593\\\\u2593\\\\u2593\\\\u2593\\\\u2593\\\\u2593\\\\u2593\\\\u2593\\\\u2593\\\\u2593\\\\u2593\\\\u2593\\\\u2593\\\\u2593\\\\u2593\\\\u2593\\\\u2593\\\\u2593\\\\u2593\\\\u2593\\\\u2593\\\\u2593\\\\u2593\\\\u2593\\\\u2593\\\\u2593\\\\u2593\\\\n\\\\n**Currencies accepted:** PayPal: [$] [\\\\u20ac] [\\\\u20bd], Skrill (+10%): [\\\\u20ac], Crypto(+5%): \\\\u0243 (BTC), BCH, can take others \\\\n___\\\\n\\\\n###To make an order [\\\\ud83d\\\\udce8 PM me via Reddit](https://www.reddit.com/message/compose?to=Furystorm&amp;subject=Star%20Citizen%20order&amp;message=Order%20list%3A%20%0A%0APaypal%3A%20[Your%20Paypal%20Email]%0A%0ARSI%20Handle%3A%20 ) or [via Discord (Furystorm#4218)](https://discord.gg/BhEP2g4)\\\\n___\\\\n\\\\n\\\\u2554\\\\u2550\\\\u2550\\\\u2550\\\\u2550\\\\u2550\\\\u2550\\\\u2550\\\\u2550\\\\u2550\\\\u2550\\\\u2550\\\\u2550\\\\u2550\\\\u2550\\\\u2550\\\\u2550\\\\u2550\\\\u2550\\\\u2550\\\\u2550\\\\u2550\\\\u2550\\\\u2550\\\\u2557\\\\n\\\\n\\\\u2551 **\\\\u262d\\\\u262d\\\\u262d STORE CONTENTS \\\\u262d\\\\u262d\\\\u262d** \\\\u2551        \\\\n\\\\n\\\\u255a\\\\u2550\\\\u2550\\\\u2550\\\\u2550\\\\u2550\\\\u2550\\\\u2550\\\\u2550\\\\u2550\\\\u2550\\\\u2550\\\\u2550\\\\u2550\\\\u2550\\\\u2550\\\\u2550\\\\u2550\\\\u2550\\\\u2550\\\\u2550\\\\u2550\\\\u2550\\\\u2550\\\\u255d\\\\n\\\\nStore is divided into 2 parts due to max. symbol limitations:\\\\n\\\\n**Part 1** - Main ships &amp; upgrades in demand\\\\n\\\\n    1. Referral Service\\\\n    2. Special offers\\\\n    3. Store credits\\\\n    4. Game and ship combo packages\\\\n    5. LTI Standalone ships\\\\n    6. non-LTI ships &amp; packages, common\\\\n    7. Planetary Vehicles &amp; combo packages\\\\n    8. Modules, Pods, battlefield upgrade Kits, other items\\\\n    9. Cross-Chassis Upgrades (CCUs), ships\\\\n    10. Cross-Chassis Upgrades (CCUs), ships\\\\n\\\\n**Part 2**, [click here to see [Inventory]](https://www.reddit.com/r/Starcitizen_trades/comments/8fb9th/inventory_furystorms_boutique_additional_items/) post - Uncommon upgrades, ships, Terms &amp; Useful info\\\\n\\\\n    11. Cross-Chassis Upgrades (CCUs), planetary vehicles\\\\n    12. non-LTI ships &amp; packages, uncommon\\\\n    13. Cross-Chassis Upgrades (CCUs), Rare &amp; uncommon paths\\\\n    14. Insurance types explanation\\\\n    15. Terms\\\\n    16. Useful information\\\\n\\\\n___\\\\n\\\\n\\\\u2554\\\\u2550\\\\u2550\\\\u2550\\\\u2550\\\\u2550\\\\u2550\\\\u2550\\\\u2550\\\\u2550\\\\u2550\\\\u2550\\\\u2550\\\\u2550\\\\u2550\\\\u2550\\\\u2550\\\\u2550\\\\u2550\\\\u2550\\\\u2550\\\\u2557\\\\n\\\\n **\\\\u25ba1\\\\u25c4 REFERRAL SERVICE**                \\\\n\\\\n\\\\u255a\\\\u2550\\\\u2550\\\\u2550\\\\u2550\\\\u2550\\\\u2550\\\\u2550\\\\u2550\\\\u2550\\\\u2550\\\\u2550\\\\u2550\\\\u2550\\\\u2550\\\\u2550\\\\u2550\\\\u2550\\\\u2550\\\\u2550\\\\u2550\\\\u255d\\\\n\\\\n&gt; **20 $ per each**\\\\n\\\\nInfo about rewards can be found here - https://robertsspaceindustries.com/referral-program\\\\n\\\\n___\\\\n\\\\n\\\\n\\\\u2554\\\\u2550\\\\u2550\\\\u2550\\\\u2550\\\\u2550\\\\u2550\\\\u2550\\\\u2550\\\\u2550\\\\u2550\\\\u2550\\\\u2550\\\\u2550\\\\u2550\\\\u2550\\\\u2550\\\\u2550\\\\u2550\\\\u2557\\\\n\\\\n **\\\\u25ba2\\\\u25c4 SPECIAL OFFERS**                \\\\n\\\\n\\\\u255a\\\\u2550\\\\u2550\\\\u2550\\\\u2550\\\\u2550\\\\u2550\\\\u2550\\\\u2550\\\\u2550\\\\u2550\\\\u2550\\\\u2550\\\\u2550\\\\u2550\\\\u2550\\\\u2550\\\\u2550\\\\u2550\\\\u255d\\\\n\\\\n&gt;\\\\u2570( \\\\u0361\\\\u00b0 \\\\u035c\\\\u0296 \\\\u0361\\\\u00b0 )\\\\u3064\\\\u2500\\\\u2500\\\\u2606\\\\n\\\\n**Item** | **Price, $** | \\\\n:--- | :--- | \\\\nMisc Razor LX concept with serial #| 200 | \\\\nUpgrade - Caterpillar to Caterpillar Best in Show Edition  | 60 |\\\\nUpgrade - Mole to Merchantman Upgrade | 139 | \\\\nUpgrade - Starfarer Gemini to Merchantman Upgrade | 109 | \\\\nUpgrade - Constellation Aquila to Orion | 169 | \\\\nCitizenCon 2951 Digital Goodies   | 9 |\\\\nUpgrade - 600i EXPLORER TO CARRACK EXPEDITION | 129 |\\\\nGemini LH86 Pistol - Voyager edition | 6 |\\\\n\\\\n___\\\\n\\\\n\\\\u2554\\\\u2550\\\\u2550\\\\u2550\\\\u2550\\\\u2550\\\\u2550\\\\u2550\\\\u2550\\\\u2550\\\\u2550\\\\u2550\\\\u2550\\\\u2550\\\\u2550\\\\u2550\\\\u2550\\\\u2550\\\\u2550\\\\u2550\\\\u2550\\\\u2550\\\\u2550\\\\u2550\\\\u2550\\\\u2550\\\\u2550\\\\u2550\\\\u2550\\\\u2550\\\\u2550\\\\u2550\\\\u2550\\\\u2550\\\\u2557\\\\n\\\\n **\\\\u25ba4\\\\u25c4 GAME AND SHIP COMBO PACKAGES**                \\\\n\\\\n\\\\u255a\\\\u2550\\\\u2550\\\\u2550\\\\u2550\\\\u2550\\\\u2550\\\\u2550\\\\u2550\\\\u2550\\\\u2550\\\\u2550\\\\u2550\\\\u2550\\\\u2550\\\\u2550\\\\u2550\\\\u2550\\\\u2550\\\\u2550\\\\u2550\\\\u2550\\\\u2550\\\\u2550\\\\u2550\\\\u2550\\\\u2550\\\\u2550\\\\u2550\\\\u2550\\\\u2550\\\\u2550\\\\u2550\\\\u2550\\\\u255d\\\\n\\\\n\\\\n**Package** | **Insurance** | **MMO+SQ42 Included** | **Price, $** | **Comments** | \\\\n:--- | :---: | :---: | :---: | :--- | \\\\n[Package - Aurora LN](http://i.imgur.com/7KtUecV.png) | 3MI | Yes | 57 | Aurora LN (best aurora) Starter package |\\\\nMustang Alpha Starter  | 3MI | Yes | 55 | - |  \\\\n[Anniversary 2017 Mustang Discount Starter](https://i.gyazo.com/2a72772fc836df5bcc12210fe76c1383.png) | 5YI | No | 54 | - | \\\\n[Nox 2 pack](https://i.imgur.com/udKvufT.png) | LTI | No | 121 | Nox + Nox Kue | \\\\n[Aopoa Nox 5 Pack](http://i.imgur.com/XCFQpoY.png) | LTI | No | 242 | 4 Nox + 1 Nox Kue | \\\\n[Race Team Pack](https://i.imgur.com/ot8k151.png) | LTI | No | 168 | X1 + NOX + Dragonfly Black | \\\\n[Origin X1 THREE-PACK](https://i.imgur.com/2ySJr76.png) | LTI | No | 174 | X1 Baseline + Velocity + Force | \\\\n[Entrepreneur pack](https://i.imgur.com/C4vYaQk.png) | LTI | Yes | 683 | Prospector + Vulture + Vulcan + Hull B + Ursa Rover | \\\\n[The Tortoise and the Hurricane](https://i.imgur.com/F7lqFWl.png) | LTI | No | 415 | Anvil Hurricane + Anvil Terrapin | \\\\n[Starfarer + Nox 2 pack](http://i.imgur.com/7NmvZXv.png) | LTI | No | 431 | Starfarer + Nox + Nox Kue | \\\\n[Origin 600i Series Combo Pack](http://i.imgur.com/ip05IRz.png) | LTI | No | 977 | 600i Luxury + Exploration + Origin X1 | \\\\n[Scoundrel Pack](https://i.imgur.com/4w6Gl2y.png) | LTI | Yes | 788 | 7 Items, see picture | \\\\n[Aegis Wrecking Crew Pack](https://i.imgur.com/AOarYVP.png) | LTI | No | 1155 | Reclaimer + Vulcan + Eclipse + Avenger Warlock/Titan | \\\\n[Exotic Mega Pack](https://i.imgur.com/C88VvCt.png) | LTI | No | 1260 | Banu MM + Genesis Starliner + Khartu-al + other small ships | \\\\nUEE Exploration 2948 Pack | LTI | Yes| 850 | Carrack, Terrapin, Freelancer DUR, Cyclone RN | \\\\n\\\\n___\\\\n\\\\n\\\\u2554\\\\u2550\\\\u2550\\\\u2550\\\\u2550\\\\u2550\\\\u2550\\\\u2550\\\\u2550\\\\u2550\\\\u2550\\\\u2550\\\\u2550\\\\u2550\\\\u2550\\\\u2550\\\\u2550\\\\u2550\\\\u2550\\\\u2550\\\\u2550\\\\u2550\\\\u2550\\\\u2550\\\\u2550\\\\u2550\\\\u2550\\\\u2557\\\\n\\\\n **\\\\u25ba5\\\\u25c4 LTI STANDALONE SHIPS**                \\\\n\\\\n\\\\u255a\\\\u2550\\\\u2550\\\\u2550\\\\u2550\\\\u2550\\\\u2550\\\\u2550\\\\u2550\\\\u2550\\\\u2550\\\\u2550\\\\u2550\\\\u2550\\\\u2550\\\\u2550\\\\u2550\\\\u2550\\\\u2550\\\\u2550\\\\u2550\\\\u2550\\\\u2550\\\\u2550\\\\u2550\\\\u2550\\\\u2550\\\\u255d\\\\n\\\\nCCU-d ships are upgraded from another ship. Also I have ships from original sale - they may come with different bonuses but are more expensive.\\\\n\\\\n&gt; **You can click on the price of original sale item to see it\\'s contents.**\\\\n\\\\n**Ship manufacturer** | **Ship model** | **Insurance** | **Price (CCU-d), $** | **Price (Original sale), $** | \\\\n:--- | :--- | :--- | :--- | :--- | \\\\n**Aopoa (Xi\\'an)** | Khartu-Al | LTI | 184 | - | \\\\n- | Nox | LTI | - | [77](http://i.imgur.com/NPnIEQt.png) | \\\\n- | Nox Kue | LTI | - | [77](http://i.imgur.com/aUXWhcU.png) | \\\\n- | San\\'Tok.Yai | LTI | 231 | - | \\\\n**Aegis Dynamics** | Avenger Titan | LTI | 70 | 84 | \\\\n- | Avenger Titan Renegade | LTI | 95 | [111](https://i.imgur.com/g6z5j4N.png) | \\\\n- | Avenger Stalker | LTI | 84 | - | \\\\n- | Avenger Warlock | LTI | 105 | - | \\\\n- | Eclipse | LTI | 315 | [333](https://i.imgur.com/T3LyjVD.jpg) | \\\\n- | Gladius | LTI | 116 | - | \\\\n- | Gladius Valiant | LTI | 132 | [142](https://i.imgur.com/8HaRvJu.png) | \\\\n- | Hammerhead | LTI | 672 | 777 | \\\\n- | Hammerhead Best in Show Edition | LTI | 746 | - | \\\\n- | Nautilus | LTI | 672 | - | \\\\n- | Reclaimer | LTI | 347 | 550 | \\\\n- | Reclaimer Best in Show Edition | LTI | 357 | - | \\\\n- | Redeemer | LTI | 333 | - | \\\\n- | Retaliator Bomber | LTI | 284 | 305 | \\\\n- | Sabre | LTI | 184 | 221 | \\\\n- | Sabre Comet | LTI | 195 | - | \\\\n- | Vanguard Warden | LTI | 263 | 357 | \\\\n- | Vanguard Harbinger | LTI | 289 | - | \\\\n- | Vanguard Sentinel | LTI | 268 | - | \\\\n- | Vanguard Hoplite | LTI | 231 | [268](https://i.imgur.com/SEWpzJs.png) | \\\\n- | Vulcan | LTI | 216 | [242](https://i.imgur.com/GX7uAuL.png) | \\\\n**ARGO Astronautics** | MPUV Cargo | LTI | 74 | [84](http://i.imgur.com/CdGtmc6.png) | \\\\n- | MPUV Personnel | LTI | - | [89](https://i.imgur.com/IQ5W4VK.png) | \\\\n- | SRV | LTI | 165 | - | \\\\n- | Mole | LTI | 321 | - | \\\\n- | Combo Pack | LTI | - | [111](http://i.imgur.com/nLczdjl.png) | \\\\n**Anvil Aerospace** | Arrow | LTI | 95 | 137 | \\\\n- | C8X Pisces Expedition | LTI | - | 74 | \\\\n- | Carrack | LTI | 441 | - | \\\\n- | Carrack W/C8X | LTI | 461 | - | \\\\n- | Carrack Expedition | LTI | 468 | - | \\\\n- | Carrack Expedition W/C8X | LTI | 489 | - | \\\\n- | Crucible | LTI | 369 | [431](http://i.imgur.com/uuwAhGr.png) | \\\\n- | F7C Hornet | LTI | 121 | - | \\\\n- | F7C Hornet Wildfire | LTI | 189 | 210 | \\\\n- | F7C-S Hornet Ghost | LTI | 140 | - | \\\\n- | F7C-R Hornet Tracker | LTI | 155 | - | \\\\n- | F7C-M Super Hornet | LTI | 199 | 252 | \\\\n- | F7C-M Hornet Heartseeker | LTI | 200 | - | \\\\n- | Gladiator | LTI | 177 | 221 | \\\\n- | Hawk | LTI | 116 | 126 | \\\\n- | Hurricane | LTI | 210 | 226 | \\\\n- | Terrapin | LTI | 231 | 252 | \\\\n- | Valkyrie | LTI | 368 | - | \\\\n**Banu** | Merchantman | LTI | 420 | [-](https://i.imgur.com/0akyLEL.png) | \\\\n- | Defender | LTI | 226 | 237 | \\\\n**Consolidated outland** | Mustang Beta | LTI | 95 | - | \\\\n- | Mustang Gamma | LTI | 74 | - | \\\\n- | Mustang Delta | LTI | 84 | - | \\\\n- | Pioneer | LTI | - | [1399](https://i.imgur.com/wdBUHNk.png) | \\\\n**Crusader Industries** | Ares Inferno | LTI | 252 | - | \\\\n- | Ares Ion | LTI | 252 | - | \\\\n- | Genesis Starliner | LTI | 368 | 499 | \\\\n- | C2 Hercules | LTI | 378 | - | \\\\n- | M2 Hercules | LTI | 504 | - | \\\\n- | A2 Hercules | LTI | 756 | - | \\\\n- | Mercury Star Runner | LTI | 273 | - | \\\\n**Drake Interplanetary** | Dragonfly Yellowjacket | LTI | - | [77](http://i.imgur.com/vSDPLko.png) | \\\\n- | Dragonfly Black | LTI | - | [77](http://i.imgur.com/tWPZ64C.png) | \\\\n- | Dragonfly Ride Together Two-Pack | LTI | - | [116](http://i.imgur.com/HxHDV9p.png) | \\\\n- | Buccaneer | LTI | 126 | [142](https://i.imgur.com/xoppcSw.png) | \\\\n- | Caterpillar | LTI | 336 | - | \\\\n- | Caterpillar Best in Show Edition | LTI | 347 | - | \\\\n- | Corsair | LTI | 237 | - | \\\\n- | Cutlass Black | LTI | 116 | - | \\\\n- | Cutlass Black Best in Show Edition | LTI | 126 | - | \\\\n- | Cutlass Steel | LTI | 221 | - | \\\\n- | Cutlass Red | LTI | 142 | - | \\\\n- | Cutlass Blue | LTI | 168 | - | \\\\n- | Herald | LTI | 111 | - | \\\\n- | Vulture | LTI | 158 | - | \\\\n**Esperia** | Vanduul Blade | LTI | 284 | [305](http://i.imgur.com/RcYJNg1.png) | \\\\n- | Vanduul Glaive | LTI | 373 | - | \\\\n- | Prowler | LTI | 420 | 499 | \\\\n- | Talon | LTI | 132 | - | \\\\n- | Talon Shrike | LTI | 132 | - | \\\\n**Gatac** | Railen | LTI | 242 | - | \\\\n**Greycat Industrial** | ROC | LTI | 77 | - | \\\\n**Kruger Intergalactic** | P-72 Archimedes | LTI | - | [74](http://i.imgur.com/jmMOk3S.png) | \\\\n**MISC** | Endeavor BASE | LTI | 378 | - | \\\\n- | Endeavor DISCOVERY-CLASS | LTI | - | 630 | \\\\n- | Endeavor Master Set 2018 | LTI | - | [1399](https://i.imgur.com/DZHuPdC.png) | \\\\n- | Freelancer | LTI | 121 | - | \\\\n- | Freelancer DUR | LTI | 147 | - | \\\\n- | Freelancer MAX | LTI | 163 | - | \\\\n- | Freelancer MIS | LTI | 184 | - | \\\\n- | HULL A | LTI | 99 | 116 | \\\\n- | HULL B | LTI | 147 | 158 | \\\\n- | HULL C | LTI | 357 | - | \\\\n- | HULL D | LTI | 462 | - | \\\\n- | Odyssey | LTI | 609 | - | \\\\n- | Razor | LTI | 163 | 179 | \\\\n- | Razor LX | LTI | 168 | - | \\\\n- | Razor EX | LTI | 174 | - | \\\\n- | Prospector | LTI | 163 | [179](http://i.imgur.com/A7HNEo0.png) | \\\\n- | Reliant Kore (Mini Hauler) | LTI | 84 | 105 | \\\\n- | Reliant Tana (Skirmisher) | LTI | 95 | - | \\\\n- | Reliant Mako (News Van) | LTI | 121 | - | \\\\n- | Reliant Sen (Researcher) | LTI | 105 | - | \\\\n- | Starfarer | LTI | 315 | 389 | \\\\n- | Starfarer Gemini | LTI | 347 | 441 | \\\\n**Origin Jumpworks** | X1 Baseline | LTI | - | [63](https://i.imgur.com/yXyGEQW.png) | \\\\n- | X1 Velocity | LTI | - | 69 | \\\\n- | X1 Force | LTI | - | 74 | \\\\n- | M50 | LTI | 121 | 147 | \\\\n- | 85X | LTI | - | [74](http://i.imgur.com/SfxJ9fh.png) | \\\\n- | 100I | LTI | 74 | 90 | \\\\n- | 125A | LTI | 79 | - | \\\\n- | 135C | LTI | 84 | - | \\\\n- | 300I | LTI | 77 | - | \\\\n- | 315P | LTI | 77 | - | \\\\n- | 325A | LTI | 93 | - | \\\\n- | 350R | LTI | 137 | - | \\\\n- | 400i | LTI | 265 | - | \\\\n- | 600i Touring | LTI | 420 | [473](http://i.imgur.com/s2aG1Ec.png) | \\\\n- | 600i Exploration | LTI | 441 | [510](http://i.imgur.com/LcH4sz4.png) | \\\\n**RSI** | Aurora CL | LTI | 74 | - | \\\\n- | Apollo Triage | LTI | 268 | - | \\\\n- | Apollo Medivac | LTI | 294 | - | \\\\n- | Mantis | LTI | 168 | - | \\\\n- | Perseus | LTI | 583 | [-](http://i.imgur.com/Jv8Onu6.png) | \\\\n- | Polaris | LTI | 777 | [999](http://i.imgur.com/Jv8Onu6.png) | \\\\n- | Constellation Taurus | LTI | 179 | - | \\\\n- | Constellation Andromeda | LTI | 252 | 315 | \\\\n- | Constellation Aquila | LTI | 321 | - | \\\\n- | Orion | LTI | 489 | - | \\\\n\\\\n\\\\n\\\\n___\\\\n\\\\n\\\\u2554\\\\u2550\\\\u2550\\\\u2550\\\\u2550\\\\u2550\\\\u2550\\\\u2550\\\\u2550\\\\u2550\\\\u2550\\\\u2550\\\\u2550\\\\u2550\\\\u2550\\\\u2550\\\\u2550\\\\u2550\\\\u2550\\\\u2550\\\\u2550\\\\u2550\\\\u2550\\\\u2550\\\\u2550\\\\u2550\\\\u2550\\\\u2550\\\\u2550\\\\u2550\\\\u2550\\\\u2550\\\\u2550\\\\u2550\\\\u2550\\\\u2550\\\\u2550\\\\u2557\\\\n\\\\n **\\\\u25ba6\\\\u25c4 NON-LTI SHIPS &amp; PACKAGES, COMMON**                \\\\n\\\\n\\\\u255a\\\\u2550\\\\u2550\\\\u2550\\\\u2550\\\\u2550\\\\u2550\\\\u2550\\\\u2550\\\\u2550\\\\u2550\\\\u2550\\\\u2550\\\\u2550\\\\u2550\\\\u2550\\\\u2550\\\\u2550\\\\u2550\\\\u2550\\\\u2550\\\\u2550\\\\u2550\\\\u2550\\\\u2550\\\\u2550\\\\u2550\\\\u2550\\\\u2550\\\\u2550\\\\u2550\\\\u2550\\\\u2550\\\\u2550\\\\u2550\\\\u2550\\\\u2550\\\\u255d\\\\n\\\\n**Ship/Package** | **Insurance** | **Price, $** | **Comments** | \\\\n:--- | :---: | :---: | :--- | \\\\n[Consolidated Outland Mustang Alpha Vindicator](https://i.imgur.com/m3xir72.png) | 6MI | 45 | Limited Vindicator version | \\\\nKruger P-72 Archimedes | 10YI | 55 | - | \\\\nKruger P-72 Archimedes | 6YI | 45 | - | \\\\nKruger P-52 Merlin | 6YI | 37 | - | \\\\nRSI Aurora ES | 10YI | 37 | - | \\\\nArgo MPUV 1C Cargo | 10YI | 53 | - | \\\\nMISC Endeavor OLYMPIC-CLASS | 4YI | 578 | Endeavor with modules | \\\\nRSI Constellation Phoenix | 10YI | 420 | - | \\\\n[RSI Constellation Phoenix](https://i.imgur.com/eranuZ0.png) | 6YI | 399 | - | \\\\nOrigin 890 Jump | 6MI | 1099 | - | \\\\nOrigin 890 Jump | 6YI | 1299 | - | \\\\nOrigin 890 Jump | 10YI | 1399 | - | \\\\n___\\\\n\\\\n\\\\u2554\\\\u2550\\\\u2550\\\\u2550\\\\u2550\\\\u2550\\\\u2550\\\\u2550\\\\u2550\\\\u2550\\\\u2550\\\\u2550\\\\u2550\\\\u2550\\\\u2550\\\\u2550\\\\u2550\\\\u2550\\\\u2550\\\\u2550\\\\u2550\\\\u2550\\\\u2550\\\\u2550\\\\u2550\\\\u2550\\\\u2550\\\\u2550\\\\u2550\\\\u2550\\\\u2550\\\\u2550\\\\u2550\\\\u2550\\\\u2550\\\\u2550\\\\u2550\\\\u2550\\\\u2550\\\\u2550\\\\u2550\\\\u2550\\\\u2550\\\\u2557\\\\n\\\\n **\\\\u25ba7\\\\u25c4 PLANETARY VEHICLES &amp; COMBO PACKAGES**                \\\\n\\\\n\\\\u255a\\\\u2550\\\\u2550\\\\u2550\\\\u2550\\\\u2550\\\\u2550\\\\u2550\\\\u2550\\\\u2550\\\\u2550\\\\u2550\\\\u2550\\\\u2550\\\\u2550\\\\u2550\\\\u2550\\\\u2550\\\\u2550\\\\u2550\\\\u2550\\\\u2550\\\\u2550\\\\u2550\\\\u2550\\\\u2550\\\\u2550\\\\u2550\\\\u2550\\\\u2550\\\\u2550\\\\u2550\\\\u2550\\\\u2550\\\\u2550\\\\u2550\\\\u2550\\\\u2550\\\\u2550\\\\u2550\\\\u2550\\\\u2550\\\\u2550\\\\u255d\\\\n\\\\n**Vehicle** | **Insurance** | **Price (CCU-d), $** | **Price (Concept), $** | **Comments** | \\\\n:--- | :---: | :---: | :---: | :--- | \\\\nAnvil Ballista | LTI | 153 |  | - | \\\\n[Greycat PTV](https://i.imgur.com/4EKqXOR.png) | 6YI |  | 27 | - | \\\\nGreycat PTV | 10YI |  | 37 | - | \\\\nOrigin G12 | LTI | 74 | - | - | \\\\nOrigin G12R | LTI | 79 | 84 | - | \\\\nOrigin G12A | LTI | 84 | 89 | - | \\\\n[Tumbril Cyclone](https://i.imgur.com/AhhhUXX.png) | LTI |  | 74 | Base version | \\\\n[Tumbril Cyclone-TR](https://i.imgur.com/wAatRSi.png) | LTI |  | 79 | With ground turret | \\\\n[Tumbril Cyclone-RC](https://i.imgur.com/gxC9TYD.png) | LTI |  | 79 | Speedster | \\\\n[Tumbril Cyclone-AA](https://i.imgur.com/8b20uMf.png) | LTI |  | 95 | Anti-air + countermeasures | \\\\n[Tumbril Cyclone-RN](https://i.imgur.com/euVVN2Y.png) | LTI |  | 79 | Scout &amp; Scan | \\\\n[Tumbril Ranger RC](https://i.imgur.com/AW2eRMK.png) | LTI | 95 |  | Racer | \\\\nTumbril Ranger CV | LTI | 100 | 116 | Offroad | \\\\nTumbril Ranger TR | LTI | 100 |  | With Gun | \\\\n[Tumbril Nova](https://i.imgur.com/DvSSybC.png) | LTI | 126 | 132 | Tank | \\\\nRSI URSA Rover | 5YI |  | 63 | - | \\\\n[RSI URSA Rover Fortuna](https://i.imgur.com/MckeXHa.png) | LTI | 74 |  | Limited green skin edition | \\\\n\\\\n\\\\n___\\\\n\\\\nBelow are listed combo packs with different combination of vehicles, or with space ships\\\\n\\\\n**Combo packs** | **Insurance** | **Price (Concept), $** | **Comments** | \\\\n:--- | :---: | :---: | :--- | \\\\n[Offroad Vehicle Pack](https://i.imgur.com/CsRjBRt.png) | LTI | 137 | Cyclone TR + URSA + Greycat PTV | \\\\n[Tumbril Cyclone Pack](https://i.imgur.com/THOVLpw.png) | LTI | 305 | All Cyclones | \\\\n[All-Terrain Vehicle Mega Pack](http://i.imgur.com/NhPs5Ho.png) | LTI | 473 | All Cyclones + Ursa + Lynx + Greycat | \\\\n[Air and Space Pack LTI](http://i.imgur.com/kCR80Co.png) | LTI | 315 | Terrapin + Cyclone AA | \\\\n[Ground Vehicle Pack VIP](https://i.imgur.com/NgX7AAV.png) | LTI | 378 | Gragonfly + Nox + X1 + Ursa + Cyclone + Nova + bonus | \\\\n[Deluxe Ground Vehicle Pack VIP](https://i.imgur.com/dSFX050.png) | LTI | 840 | A lot of items, check screenshot | \\\\n\\\\n\\\\n___\\\\n\\\\n\\\\u2554\\\\u2550\\\\u2550\\\\u2550\\\\u2550\\\\u2550\\\\u2550\\\\u2550\\\\u2550\\\\u2550\\\\u2550\\\\u2550\\\\u2550\\\\u2550\\\\u2550\\\\u2550\\\\u2550\\\\u2550\\\\u2550\\\\u2550\\\\u2550\\\\u2550\\\\u2550\\\\u2550\\\\u2550\\\\u2550\\\\u2550\\\\u2550\\\\u2550\\\\u2550\\\\u2550\\\\u2550\\\\u2550\\\\u2550\\\\u2550\\\\u2550\\\\u2550\\\\u2550\\\\u2550\\\\u2550\\\\u2550\\\\u2550\\\\u2550\\\\u2550\\\\u2550\\\\u2550\\\\u2550\\\\u2550\\\\u2557\\\\n\\\\n **\\\\u25ba8.1\\\\u25c4 MODULES, PODS, BATTLEFIELD UPGRADE KITS (BUKS)**, OTHER ITEMS                \\\\n\\\\n\\\\u255a\\\\u2550\\\\u2550\\\\u2550\\\\u2550\\\\u2550\\\\u2550\\\\u2550\\\\u2550\\\\u2550\\\\u2550\\\\u2550\\\\u2550\\\\u2550\\\\u2550\\\\u2550\\\\u2550\\\\u2550\\\\u2550\\\\u2550\\\\u2550\\\\u2550\\\\u2550\\\\u2550\\\\u2550\\\\u2550\\\\u2550\\\\u2550\\\\u2550\\\\u2550\\\\u2550\\\\u2550\\\\u2550\\\\u2550\\\\u2550\\\\u2550\\\\u2550\\\\u2550\\\\u2550\\\\u2550\\\\u2550\\\\u2550\\\\u2550\\\\u2550\\\\u2550\\\\u2550\\\\u2550\\\\u2550\\\\u255d\\\\n\\\\n**Module** | **Insurance** | **Price, $** | \\\\n:--- | :---: | :---: | \\\\n**MISC Endeavor Modules (Pods)** | **-** | **-** | \\\\n[FUEL POD](http://i.imgur.com/SvEkRMb.png) | **LTI** | **137** | \\\\n[BIODOME POD](http://i.imgur.com/qvCXaa0.png) | **LTI** | **242** |  \\\\n[TELESCOPE ARRAY POD](http://i.imgur.com/zFX7rH0.png) | **LTI** | **242** | \\\\nBIODOME POD | 6YI | 126 | \\\\nTELESCOPE ARRAY POD | 6YI | 153 | \\\\nSUPERCOLLIDER POD | 6YI | 155 | \\\\nSERVICE EQUIPMENT AND CREW POD | 6YI | 53 | \\\\nGENERAL RESEARCH POD | 6YI | 72 | \\\\nGENERAL SCIENCE POD | 6YI | 71 | \\\\nFUEL POD | 6YI | 60 | \\\\nMEDICAL BAY POD | 6YI | 105 | \\\\nLANDING BAY | 6YI | 105 | \\\\n**Aegis Vanguard battlefield upgrade kits** |  |  | \\\\nSentinel battlefield upgrade kit | LTI| 130 | \\\\nHarbinger battlefield upgrade kit | LTI | 140 | \\\\nWarden battlefield upgrade kit | 6MI | 27 | \\\\nSentinel battlefield upgrade kit | 6MI | 42 | \\\\nHarbinger battlefield upgrade kit | 6MI | 63 | \\\\n**Retaliator modules** |  |  | \\\\nRetaliator cargo rear module | LTI | 99 | \\\\nRetaliator rear torpedo bay | 24MI | 120 |\\\\nRetaliator front torpedo bay | 24MI| 120 |\\\\n**Other stuff** |  |  | \\\\n[Add-ons - Aegis Idris P after market kit](https://i.imgur.com/DiRQqRJ.png) | - | 294 | \\\\n\\\\n\\\\n___\\\\n\\\\n\\\\n\\\\u2554\\\\u2550\\\\u2550\\\\u2550\\\\u2550\\\\u2550\\\\u2550\\\\u2550\\\\u2550\\\\u2550\\\\u2550\\\\u2550\\\\u2550\\\\u2550\\\\u2550\\\\u2550\\\\u2550\\\\u2550\\\\u2550\\\\u2550\\\\u2550\\\\u2550\\\\u2550\\\\u2550\\\\u2550\\\\u2550\\\\u2550\\\\u2550\\\\u2550\\\\u2550\\\\u2550\\\\u2550\\\\u2550\\\\u2550\\\\u2550\\\\u2550\\\\u2550\\\\u2550\\\\u2550\\\\u2550\\\\u2550\\\\u2550\\\\u2550\\\\u2550\\\\u2550\\\\u2550\\\\u2550\\\\u2550\\\\u2550\\\\u2550\\\\u2550\\\\u2550\\\\u2550\\\\u2557\\\\n\\\\n **\\\\u25ba8.2 \\\\u25c4 FPS WEAPONS, ARMOR, CLOTHES AND OTHER GEAR**                \\\\n\\\\n\\\\u255a\\\\u2550\\\\u2550\\\\u2550\\\\u2550\\\\u2550\\\\u2550\\\\u2550\\\\u2550\\\\u2550\\\\u2550\\\\u2550\\\\u2550\\\\u2550\\\\u2550\\\\u2550\\\\u2550\\\\u2550\\\\u2550\\\\u2550\\\\u2550\\\\u2550\\\\u2550\\\\u2550\\\\u2550\\\\u2550\\\\u2550\\\\u2550\\\\u2550\\\\u2550\\\\u2550\\\\u2550\\\\u2550\\\\u2550\\\\u2550\\\\u2550\\\\u2550\\\\u2550\\\\u2550\\\\u2550\\\\u2550\\\\u2550\\\\u2550\\\\u2550\\\\u2550\\\\u2550\\\\u2550\\\\u2550\\\\u2550\\\\u2550\\\\u2550\\\\u2550\\\\u2550\\\\u255d\\\\n\\\\n**Module** | **Insurance** | **Price, $** | \\\\n:--- | :---: | :---: | \\\\nOverlord \\\\\"Dust Storm\\\\\" Armor Set  | - | 11 | \\\\nOverlord \\\\\"Riptide\\\\\" Armor Set  | - | 11 | \\\\nOverlord Helmets \\\\\"Silent Strike\\\\\" Pack | - | 8 | \\\\nOverlord Helmets \\\\\"Forces of Nature\\\\\" Pack  | - | 8 | \\\\nParasite Replica Helmet (Original) | - | 11 | \\\\nParasite Replica Helmet (Dark Birth)  | - | 11 | \\\\nStegman\\'s Cordimon \\\\\"Voyager\\\\\" Complete Outfit | - | 11 | \\\\nStegman\\'s IndVest \\\\u201cPathfinder\\\\u201d Complete Outfit | - | 11 | \\\\nRSI MacFlex Rust Society full armor set (5 items) | - | 21 | \\\\nRSI Venture Rust Society full armor set (5 items) | - | 32 | \\\\nMr. Refinement\\\\u2019s Cabinet of Rare &amp; Exquisite Spirits | - | 11 | \\\\n[Life in the \\'Verse Shirts Pack #1](https://i.imgur.com/qVQGJAE.png) | - | 5 | \\\\n[Life in the \\'Verse Shirts Pack #2](https://i.imgur.com/vEZZT4Y.png) | - | 5 | \\\\n[\\\\\"Caudillo\\\\\" Helmets Pack #1 by CC\\'s Conversions](https://i.imgur.com/8mzqV98.png) | - | 8 | \\\\n[\\\\\"Caudillo\\\\\" Helmets Pack #2 by CC\\'s Conversions](https://i.imgur.com/1fzkS4p.png) | - | 8 | \\\\n[\\\\\"Caudillo\\\\\" Helmets Pack #3 by CC\\'s Conversions](https://i.gyazo.com/6745697885a27f1651a319cd65efbc56.png) | - | 8 | \\\\nQuikFlarePro Pack | - | 5 | \\\\nQuikFlarePro Pack Deluxe | - | 6 | \\\\nPolar Vortex Collection | - | 7 | \\\\nCold Front Collection | - | 7 | \\\\nUltiFlex FSK-8 \\\\\"Mirage\\\\\" Combat Knife | - | 5 | \\\\nUltiFlex FSK-8 \\\\\"Ghost\\\\\" Combat Knife | - | 5 | \\\\nUrban Collection by Element Authority | - | 11 | \\\\nAdventurer Collection by Element Authority | - | 11 | \\\\nManaslu Rust Society Jacket | - | 8 | \\\\nRSI Horizon Rust Society Helmet | - | 8 | \\\\nRSI Beacon Rust Society Undersuit | - | 6 | \\\\nPaladin helmet | - | 10 | \\\\n\\\\n\\\\u2554\\\\u2550\\\\u2550\\\\u2550\\\\u2550\\\\u2550\\\\u2550\\\\u2550\\\\u2550\\\\u2550\\\\u2550\\\\u2550\\\\u2550\\\\u2550\\\\u2550\\\\u2550\\\\u2550\\\\u2550\\\\u2550\\\\u2550\\\\u2550\\\\u2550\\\\u2550\\\\u2550\\\\u2550\\\\u2550\\\\u2550\\\\u2550\\\\u2550\\\\u2550\\\\u2550\\\\u2550\\\\u2550\\\\u2550\\\\u2550\\\\u2550\\\\u2550\\\\u2550\\\\u2550\\\\u2550\\\\u2550\\\\u2557\\\\n\\\\n **\\\\u25ba9\\\\u25c4 CROSS-CHASSIS UPGRADES (CCUS), SHIPS**                \\\\n\\\\n\\\\u255a\\\\u2550\\\\u2550\\\\u2550\\\\u2550\\\\u2550\\\\u2550\\\\u2550\\\\u2550\\\\u2550\\\\u2550\\\\u2550\\\\u2550\\\\u2550\\\\u2550\\\\u2550\\\\u2550\\\\u2550\\\\u2550\\\\u2550\\\\u2550\\\\u2550\\\\u2550\\\\u2550\\\\u2550\\\\u2550\\\\u2550\\\\u2550\\\\u2550\\\\u2550\\\\u2550\\\\u2550\\\\u2550\\\\u2550\\\\u2550\\\\u2550\\\\u2550\\\\u2550\\\\u2550\\\\u2550\\\\u2550\\\\u255d\\\\n\\\\n_______\\\\n\\\\n&gt; **IAE-insurance upgrades (adds IAE insurance (10 years) to your ship)**\\\\n\\\\n_______\\\\n\\\\n**Upgrade** | **Price, $** | \\\\n:--- | :--- |\\\\nProspector to F7C-M Super Hornet | 50 | \\\\nVanguard Warden to Caterpillar | 60 | \\\\n\\\\n_______\\\\n\\\\nSorted by: Manufacturer -&gt; ship\\\\n\\\\n**Target ship manufacturer** | **Target ship** | **Upgrade from** | **Price, $** | \\\\n:--- | :--- | :--- | :--- | \\\\n**Aegis Dynamics** | **Avenger Titan Renegade** | 325A | 18 | \\\\n- | **Avenger Warlock** | 325A | 29 | \\\\n- | Avenger Warlock | Arrow | 26 | \\\\n- | **Eclipse** | Constellation Andromeda | 78 | \\\\n- | Eclipse | Vanguard Sentinel | 37 | \\\\n- | Eclipse | Vanguard Warden | 53 | \\\\n- | Eclipse | Blade | 37 | \\\\n- | **Gladius Valiant** | Cutlass Black | 22 | \\\\n- | Gladius Valiant | M50 | 23 | \\\\n- | **Hammerhead** | Constellation Aquila | 483 | \\\\n- | Hammerhead | 600i Touring | 357 | \\\\n- | Hammerhead | 600i Explorer | 315 | \\\\n- | Hammerhead | Merchantman | 236 | \\\\n- | Hammerhead | Hull D | 341 | \\\\n- | Hammerhead | Crucible | 446 | \\\\n- | Hammerhead | Carrack | 278 | \\\\n- | Hammerhead | Reclaimer | 383 | \\\\n- | Hammerhead | Prowler | 351 | \\\\n- | Hammerhead | Orion | 210 | \\\\n- | Hammerhead | Glaive | 446 | \\\\n- | **Hammerhead** | A2 Hercules | 52 | \\\\n- | **Nautilus** | Constellation Aquila | 467 | \\\\n- | Nautilus | Endeavor | 425 | \\\\n- | Nautilus | Crucible | 425 | \\\\n- | Nautilus | Genesis Starliner | 372 | \\\\n- | Nautilus | M2 Hercules | 246 | \\\\n- | Nautilus | Merchantman | 215 | \\\\n- | Nautilus | A2 Hercules | 57 | \\\\n- | Nautilus | 600i Explorer | 294 | \\\\n- | Nautilus | 600i Touring | 336 | \\\\n- | Nautilus | Orion | 189 | \\\\n- | Nautilus | Prowler | 330 | \\\\n- | Nautilus | Carrack | 278 | \\\\n- | Nautilus | Reclaimer | 372 | \\\\n- | Nautilus | Hull D | 320 | \\\\n- | Nautilus | C2 Hercules | 372 | \\\\n- | Nautilus | Valkyrie | 399 | \\\\n- | **Reclaimer** | Constellation Aquila | 115 | \\\\n- | Reclaimer | Starfarer Gemini | 84 | \\\\n- | Reclaimer | Endeavor | 73 | \\\\n- | Reclaimer | Crucible | 73 | \\\\n- | **Redeemer** | Constellation Andromeda | 78 | \\\\n- | Redeemer | Vanguard Hoplite | 84 | \\\\n- | Redeemer | Mole | 26 | \\\\n- | **Retaliator Bomber** | Constellation Andromeda | 57 | \\\\n- | **Retaliator Base** | F7C-R Hornet Tracker | 25 | \\\\n- | **Sabre** | Prospector | 31 | \\\\n- | Sabre | Gladiator | 16 | \\\\n- | **Sabre Comet** | Sabre | 31 | \\\\n- | Sabre Comet | Freelancer MIS | 26 | \\\\n- | Sabre Comet | Khartu-Al | 31 | \\\\n- | Sabre Comet | F7C Hornet Wildfire | 23 | \\\\n- | Sabre Comet | Gladiator | 35 | \\\\n- | Sabre Comet | F7C-M Super Hornet | 20 | \\\\n- | **Vanguard Harbinger** | Constellation Andromeda | 68 | \\\\n- | Vanguard Harbinger | Retaliator Bomber | 31 | \\\\n- | Vanguard Harbinger | Vanguard Sentinel | 26 | \\\\n- | Vanguard Harbinger | Vanguard Hoplite | 73 | \\\\n- | Vanguard Harbinger | Vanguard Warden | 42 | \\\\n- | **Vanguard Hoplite** | Constellation Taurus | 59 | \\\\n- | Vanguard Hoplite | San\\'Tok.Yai | 28 | \\\\n- | Vanguard Hoplite | Defender | 28 | \\\\n- | Vanguard Hoplite | Corsair | 33 | \\\\n- | Vanguard Hoplite | F7C-M Super Hornet Heartseeker | 54 | \\\\n- | Vanguard Hoplite | Hurricane | 54 | \\\\n- | Vanguard Hoplite | Terrapin | 28 | \\\\n- | **Vanguard Sentinel** | Constellation Andromeda | 52 | \\\\n- | Vanguard Sentinel | Vanguard Warden | 31 | \\\\n- | **Vanguard Warden** | Constellation Andromeda | 31 | \\\\n- | Vanguard Warden | Vanguard Hoplite | 40 | \\\\n- | **Vulcan** | Constellation Taurus | 25 | \\\\n- | Vulcan | Prospector | 61 | \\\\n**Anvil Aerospace** | **Carrack** | Constellation Aquila | 273 | \\\\n- | Carrack | Mole | 320 | \\\\n- | Carrack | M2 Hercules | 99 | \\\\n- | Carrack | 600i Explorer | 147 | \\\\n- | Carrack | 600i Touring | 189 | \\\\n- | Carrack | Orion | 42 | \\\\n- | Carrack | Prowler | 183 | \\\\n- | Carrack | Reclaimer | 225 | \\\\n- | Carrack | Genesis Starliner | 225 | \\\\n- | Carrack | Valkyrie | 215 | \\\\n- | Carrack | C2 Hercules | 189 | \\\\n- | Carrack | Hull D | 178 | \\\\n- | Carrack | Merchantman | 73 | \\\\n- | Carrack | Endeavor | 283 | \\\\n- | Carrack | Crucible | 283 | \\\\n- | Carrack | Starfarer Gemini | 294 | \\\\n**-** | **Carrack W/C8X** | Carrack | 38 | \\\\n- | Carrack Expedition | Carrack | 42 | \\\\n- | Carrack Expedition W/C8X | Carrack | 63 | \\\\n- | **Crucible** | Starfarer Gemini | 26 | \\\\n- | Crucible | Constellation Aquila | 99 | \\\\n- | F7C-M Super Hornet | Prospector | 37 | \\\\n- | F7C-M Super Hornet | Khartu-AL | 22 | \\\\n- | F7C-M Super Hornet | F7C Hornet Wildfire | 16 | \\\\n- | F7C-M Super Hornet | Gladiator | 27 | \\\\n- | F7C-M Super Hornet | Freelancer MIS | 16 | \\\\n- | F7C-M Super Hornet | Sabre | 22 | \\\\n- | F7C-M Super Hornet | Razor EX | 37 | \\\\n- | **F7C-M Super Hornet Heartseeker** | Constellation Taurus | 21 | \\\\n- | F7C-M Super Hornet Heartseeker | Freelancer MAX | 63 | \\\\n- | F7C-M Super Hornet Heartseeker | Prospector | 57 | \\\\n- | F7C-M Super Hornet Heartseeker | Razor EX | 57 | \\\\n- | F7C-M Super Hornet Heartseeker | Gladiator | 47 | \\\\n- | F7C-M Super Hornet Heartseeker | Khartu-AL | 42 | \\\\n- | F7C-M Super Hornet Heartseeker | Sabre | 42 | \\\\n- | F7C-M Super Hornet Heartseeker | Sabre Comet | 26 | \\\\n- | F7C-M Super Hornet Heartseeker | F7C Hornet Wildfire | 36 | \\\\n- | F7C-M Super Hornet Heartseeker | Freelancer MIS | 36 | \\\\n- | **F7C Hornet Wildfire** | Prospector | 31 | \\\\n- | F7C Hornet Wildfire | Khartu-Al | 16 | \\\\n- | F7C Hornet Wildfire | Gladiator | 22 | \\\\n- | F7C Hornet Wildfire | Sabre | 16 | \\\\n- | **Gladiator** | Prospector | 21 | \\\\n- | **Hawk** | Gladius | 21 | \\\\n- | **Hurricane** | Constellation Taurus | 16 | \\\\n- | Hurricane | Prospector | 53 | \\\\n- | Hurricane | Gladiator | 43 | \\\\n- | Hurricane | F7C Hornet Wildfire | 32 | \\\\n- | Hurricane | F7C-M Super Hornet | 27 | \\\\n- | Hurricane | Freelancer MIS | 32 | \\\\n- | Hurricane | Sabre | 37 | \\\\n- | Hurricane | Sabre Comet | 22 | \\\\n- | Hurricane | Khartu-Al | 37 | \\\\n- | **Terrapin** | Prospector | 84 | \\\\n- | Terrapin | Constellation Taurus | 44 | \\\\n- | Terrapin | Freelancer MAX | 86 | \\\\n- | Terrapin | F7C-M Super Hornet | 57 | \\\\n- | Terrapin | Freelancer MIS | 63 | \\\\n- | Terrapin | Vulcan | 36 | \\\\n- | Terrapin | Gladiator | 73 | \\\\n- | Terrapin | Khartu-Al | 65 | \\\\n- | Terrapin | Sabre | 65 | \\\\n- | **Valkyrie** | Constellation Aquila | 84 | \\\\n- | Valkyrie | Endeavor | 42 | \\\\n- | Valkyrie | Starfarer Gemini | 52 | \\\\n- | Valkyrie | Crucible | 42 | \\\\n- | Valkyrie | Glaive | 42 | \\\\n**Aopoa (Xi\\'an)** | **Khartu-Al** | Prospector | 29 | \\\\n- | Khartu-Al | Freelancer MAX | 31 | \\\\n- | **Nox** | Aurora LN | 27 | \\\\n- | Nox | Dragonfly Black | 15 | \\\\n- | Nox | Dragonfly Yellowjacket | 15 | \\\\n- | Nox | MPUV Cargo | 27 | \\\\n- | **Nox Kue** | Aurora LN | 23 | \\\\n- | Nox Kue | Dragonfly Black | 15 | \\\\n- | Nox Kue | Dragonfly Yellowjacket | 15 | \\\\n- | Nox Kue | Mustang Beta | 15 | \\\\n- | Nox Kue | MPUV Personnel | 15 | \\\\n- | Nox Kue | X1 Baseline | 15 | \\\\n- | Nox Kue | MPUV Cargo | 22 | \\\\n- | **San\\'Tok.Yai** | Constellation Taurus | 46 | \\\\n- | San\\'Tok.Yai | Hurricane | 40 | \\\\n- | San\\'Tok.Yai | Vulcan | 35 | \\\\n**ARGO Astronautics** | **MPUV Personnel** | Aurora LN | 15 | \\\\n- | **MPUV Cargo** | Mustang Alpha | 15 | \\\\n- | **SRV** | F7C-R Hornet Tracker | 21 | \\\\n- | SRV | Vulture | 21 | \\\\n- | SRV | Razor | 15 | \\\\n**Banu** | **Merchantman** | Mole | 145 | \\\\n- | Merchantman | Starfarer Gemini | 119 | \\\\n- | Merchantman | Prowler | 126 | \\\\n- | Merchantman | 600i Touring | 131 | \\\\n- | Merchantman | 600i Explorer | 89 | \\\\n- | Merchantman | Genesis Starliner | 168 | \\\\n- | **Defender** | Constellation Taurus | 42 | \\\\n- | Defender | Retaliator Base | 84 | \\\\n- | Defender | Cutlass Blue | 57 | \\\\n- | Defender | Freelancer MIS | 65 | \\\\n- | Defender | Gladiator | 70 | \\\\n- | Defender | Khartu-Al | 65 | \\\\n- | Defender | Sabre | 65 | \\\\n- | Defender | F7C Hornet Wildfire | 59 | \\\\n- | Defender | F7C-M Super Hornet | 55 | \\\\n**Consolidated outland** | **Mustang Delta** | Mustang Gamma | 22 | \\\\n- | Mustang Delta | Avenger Stalker | 15 | \\\\n**Crusader Industries** | **Genesis Starliner** | Constellation Aquila | 120 | \\\\n- | Genesis Starliner | Endeavor | 73 | \\\\n- | **Ares Inferno** | Constellation Andromeda | 26 | \\\\n- | Ares Ion | Constellation Andromeda | 26 | \\\\n- | **A2 Hercules** | 600i Touring | 341 | \\\\n- | A2 Hercules | 600i Explorer | 299 | \\\\n- | A2 Hercules | Carrack | 273 | \\\\n- | A2 Hercules | Constellation Aquila | 472 | \\\\n- | A2 Hercules | Crucible | 430 | \\\\n- | A2 Hercules | Endeavor | 430 | \\\\n- | A2 Hercules | Hull D | 325 | \\\\n- | A2 Hercules | Merchantman | 220 | \\\\n- | A2 Hercules | Orion | 194 | \\\\n- | A2 Hercules | Prowler | 336 | \\\\n- | A2 Hercules | Reclaimer | 378 | \\\\n- | A2 Hercules | Starfarer Gemini | 451 | \\\\n- | **C2 Hercules** | Constellation Aquila | 115 | \\\\n- | C2 Hercules | Valkyrie | 47 | \\\\n- | C2 Hercules | Crucible | 73 | \\\\n- | C2 Hercules | Endeavor | 73 | \\\\n- | C2 Hercules | Glaive | 73 | \\\\n- | C2 Hercules | Starfarer Gemini | 84 | \\\\n- | **M2 Hercules** | Constellation Aquila | 241 | \\\\n- | M2 Hercules | 600i Touring | 110 | \\\\n- | M2 Hercules | 600i Explorer | 68 | \\\\n- | M2 Hercules | C2 Hercules | 147 | \\\\n- | M2 Hercules | Crucible | 199 | \\\\n- | M2 Hercules | Endeavor | 199 | \\\\n- | M2 Hercules | Genesis Starliner | 147 | \\\\n- | M2 Hercules | Hull D | 94 | \\\\n- | M2 Hercules | Prowler | 105 | \\\\n- | M2 Hercules | Reclaimer | 147 | \\\\n- | M2 Hercules | Starfarer Gemini | 210 | \\\\n- | **Mercury Star Runner** | Prospector | 120 | \\\\n- | Mercury Star Runner | San\\'tok.yai | 52 | \\\\n- | Mercury Star Runner | Defender | 52 | \\\\n- | Mercury Star Runner | F7C Hornet Wildfire | 99 | \\\\n- | Mercury Star Runner | F7C-M Super Hornet | 94 | \\\\n- | Mercury Star Runner | Freelancer MIS | 99 | \\\\n- | Mercury Star Runner | Hurricane | 78 | \\\\n- | Mercury Star Runner | Khartu-Al | 105 | \\\\n- | Mercury Star Runner | Razor EX | 120 | \\\\n- | Mercury Star Runner | Sabre Comet | 89 | \\\\n- | Mercury Star Runner | Sabre | 105 | \\\\n- | Mercury Star Runner | Terrapin | 52 | \\\\n- | Mercury Star Runner | Vulcan | 73 | \\\\n**Drake Interplanetary** | **Buccaneer** | Cutlass Black | 21 | \\\\n- | **Caterpillar** | Constellation Andromeda | 116 | \\\\n- | Caterpillar | Constellation Aquila | 36 | \\\\n- | Caterpillar | Retaliator Bomber | 78 | \\\\n- | Caterpillar | Redeemer | 26 | \\\\n- | **Corsair** | Prospector | 78 | \\\\n- | Corsair | Constellation Taurus | 42 | \\\\n- | Corsair | Freelancer MAX | 84 | \\\\n- | Corsair | Freelancer MIS | 57 | \\\\n- | Corsair | Sabre | 63 | \\\\n- | Corsair | Sabre Comet | 47 | \\\\n- | Corsair | Gladiator | 68 | \\\\n- | Corsair | F7C-M Super Hornet | 52 | \\\\n- | Corsair | F7C-M Super Hornet Heartseeker | 36 | \\\\n- | Corsair | F7C Hornet Wildfire | 57 | \\\\n- | Corsair | Vulcan | 31 | \\\\n- | Corsair | Hurricane | 36 | \\\\n- | Corsair | Razor EX | 78 | \\\\n- | Corsair | Khartu-Al | 63 | \\\\n- | **Cutlass Black BIS** | Gladius | 42 | \\\\n- | **Cutlass Blue** | F7C-R Hornet Tracker | 47 | \\\\n- | Cutlass Blue | Razor | 36 | \\\\n- | Cutlass Blue | Prospector | 31 | \\\\n- | **Dragonfly Black** | Aurora LN | 15 | \\\\n- | Dragonfly Black | MPUV Cargo | 15 | \\\\n- | **Herald** | 325A | 26 | \\\\n- | Herald | Avenger Titan Renegade | 21 | \\\\n- | **Vulture** | Freelancer DUR | 15 | \\\\n**Esperia** | **Blade** | Constellation Andromeda | 52 | \\\\n- | **Glaive** | Constellation Aquila | 99 | \\\\n- | Glaive | Starfarer Gemini | 63 | \\\\n- | **Talon** | Gladius | 36 | \\\\n- | Talon | Reliant Mako (News Van) | 31 | \\\\n- | Talon Shrike | Gladius | 36 | \\\\n- | Talon Shrike | Reliant Mako (News Van) | 31 | \\\\n- | **Prowler** | Constellation Aquila | 162 | \\\\n- | Prowler | Reclaimer | 68 | \\\\n- | Prowler | Genesis Starliner | 68 | \\\\n- | Prowler | Endeavor | 120 | \\\\n- | Prowler | Crucible | 120 | \\\\n- | Prowler | 600i Touring | 42 | \\\\n**MISC** | **Freelancer MIS** | Prospector | 32 | \\\\n- | Freelancer MIS | Freelancer MAX | 37 | \\\\n- | Freelancer MIS | Gladiator | 22 | \\\\n- | Freelancer MIS | Sabre | 16 | \\\\n- | Freelancer MIS | Razor EX | 32 | \\\\n- | **Endeavor** | Constellation Aquila | 84 | \\\\n- | Endeavor | Starfarer Gemini | 52 | \\\\n- | **Hull A** | 300I | 36 | \\\\n- | Hull A | Mustang Gamma | 36 | \\\\n- | **Hull B** | 325A | 94 | \\\\n- | **Hull C** | Constellation Andromeda | 136 | \\\\n- | **Hull D** | Constellation Aquila | 178 | \\\\n- | Hull D | Starfarer Gemini | 157 | \\\\n- | **Razor** | F7C-R Hornet Tracker | 15 | \\\\n- | **Razor LX** | F7C-R Hornet Tracker | 21 | \\\\n- | Razor LX | Razor | 15 | \\\\n- | **Razor EX** | Freelancer MAX | 15 | \\\\n- | Razor EX | SRV | 15 | \\\\n- | Razor EX | Retaliator Base | 15 | \\\\n- | Razor EX | Razor LX | 15 | \\\\n- | **Reliant Tana (Skirmisher)** | 325a | 15 | \\\\n- | **Reliant Sen (Researcher)** | Arrow | 21 | \\\\n- | **Reliant Mako (News Van)** | Gladius | 15 | \\\\n- | **Starfarer** | Constellation Andromeda | 76 | \\\\n- | Starfarer | Vanguard Warden | 55 | \\\\n- | Starfarer | Vanguard Harbinger | 24 | \\\\n- | Starfarer | Vanguard Sentinel | 39 | \\\\n- | Starfarer | Vanguard Hoplite | 81 | \\\\n- | Starfarer | Blade | 39 | \\\\n- | Starfarer | Retaliator Bomber | 39 | \\\\n- | Starfarer | Apollo Medivac | 39 | \\\\n- | **Starfarer Gemini** | Constellation Aquila | 63 | \\\\n- | Starfarer Gemini | Mole | 47 | \\\\n**Origin Jumpworks** | **350r** | Freelancer | 28 | \\\\n- | 350r | F7C Hornet | 28 | \\\\n- | **M50** | Gladius | 22 | \\\\n- | **85X** | Aurora CL | 15 | \\\\n- | **100i** | Dragonfly Black | 18 | \\\\n- | 100i | Dragonfly Yellowjacket | 18 | \\\\n- | 100i | MPUV Personnel | 22 | \\\\n- | 100i | Mustang Beta | 22 | \\\\n- | 100i | X1 Baseline | 22 | \\\\n- | **125a** | 100i | 22 | \\\\n- | 125a | 85X | 19 | \\\\n- | 125a | Avenger Titan | 14 | \\\\n- | 125a | Ursa Rover | 19 | \\\\n- | 125a | X1 Force | 19 | \\\\n- | **135C** | 100i | 27 | \\\\n- | 135C | 125a | 15 | \\\\n- | 135C | 300i | 19 | \\\\n- | 135C | Cyclone | 19 | \\\\n- | 135C | Mustang Gamma | 19 | \\\\n- | **X1 Baseline** | Mustang Alpha | 21 | \\\\n- | X1 Baseline | Aurora LN | 15 | \\\\n- | X1 Baseline | MPUV Cargo | 15 | \\\\n- | **X1 Velocity** | Mustang Beta | 15 | \\\\n- | X1 Velocity | MPUV Personnel | 15 | \\\\n- | X1 Velocity | X1 Baseline | 15 | \\\\n- | **X1 Force** | Aurora CL | 15 | \\\\n- | X1 Force | X1 Velocity | 15 | \\\\n- | X1 Force | Nox | 15 | \\\\n- | **600i Touring** | Constellation Aquila | 152 | \\\\n- | 600i Touring | Constellation Phoenix | 110 | \\\\n- | 600i Touring | Reclaimer | 57 | \\\\n- | 600i Touring | Starfarer Gemini | 120 | \\\\n- | 600i Touring | Endeavor | 110 | \\\\n- | 600i Touring | Crucible | 110 | \\\\n- | 600i Touring | Eclipse | 162 | \\\\n- | 600i Touring | Genesis Starliner | 57 | \\\\n- | 600i Touring | C2 Hercules | 57 | \\\\n- | **600i Explorer** | 600i Touring | 63 | \\\\n- | 600i Explorer | Constellation Aquila | 194 | \\\\n- | 600i Explorer | Prowler | 57 | \\\\n- | 600i Explorer | Genesis Starliner | 99 | \\\\n- | 600i Explorer | Starfarer Gemini | 162 | \\\\n- | 600i Explorer | Endeavor | 152 | \\\\n- | 600i Explorer | Reclaimer | 99 | \\\\n- | 600i Explorer | Crucible | 152 | \\\\n- | 600i Explorer | Hull D | 47 | \\\\n- | 600i Explorer | C2 Hercules | 99 | \\\\n**RSI** | **Apollo Triage** | Constellation Andromeda | 23 | \\\\n- | Apollo Triage | San\\'tok.yai | 44 | \\\\n- | **Apollo Medivac** | Constellation Andromeda | 49 | \\\\n- | Apollo Medivac | Vanguard Warden | 26 | \\\\n- | Apollo Medivac | Apollo Triage | 36 | \\\\n- | Apollo Medivac | Vanguard Hoplite | 52 | \\\\n- | **Constellation Taurus** | F7C-R Hornet Tracker | 47 | \\\\n- | Constellation Taurus | Razor | 42 | \\\\n- | **Mantis** | F7C-R Hornet Tracker | 21 | \\\\n- | Mantis | Vulture | 21 | \\\\n- | Mantis | Razor | 15 | \\\\n- | Mantis | Ballista | 21 | \\\\n- | **Perseus** | Mole | 409 | \\\\n- | Perseus | Carrack | 110 | \\\\n- | Perseus | Carrack W/C8X | 89 | \\\\n- | Perseus | Carrack Expedition | 84 | \\\\n- | Perseus | Carrack Expedition W/C8X | 63 | \\\\n- | Perseus | Merchantman | 162 | \\\\n- | Perseus | Orion | 136 | \\\\n- | Perseus | 600i Explorer | 241 | \\\\n- | Perseus | M2 Hercules | 194 | \\\\n- | Perseus | Hull D | 267 | \\\\n- | **Polaris** | Constellation Aquila | 535 | \\\\n- | Polaris | Perseus | 183 | \\\\n- | Polaris | A2 Hercules | 175 | \\\\n- | Polaris | M2 Hercules | 357 | \\\\n- | Polaris | Nautilus Solstice Edition | 149 | \\\\n- | Polaris | Hammerhead | 149 | \\\\n- | Polaris | Carrack | 367 | \\\\n- | Polaris | Crucible | 499 | \\\\n- | Polaris | Merchantman | 315 | \\\\n- | Polaris | Orion | 257 | \\\\n- | **Orion** | Constellation Aquila | 246 | \\\\n- | Orion | Merchantman | 57 | \\\\n- | Orion | Starfarer | 246 | \\\\n- | Orion | 600i Touring | 194 | \\\\n- | Orion | Reclaimer | 215 | \\\\n- | Orion | Genesis Starliner | 215 | \\\\n- | Orion | Prowler | 173 | \\\\n\\\\n\\\\n\\\\u2554\\\\u2550\\\\u2550\\\\u2550\\\\u2550\\\\u2550\\\\u2550\\\\u2550\\\\u2550\\\\u2550\\\\u2550\\\\u2550\\\\u2550\\\\u2550\\\\u2550\\\\u2550\\\\u2550\\\\u2550\\\\u2550\\\\u2550\\\\u2550\\\\u2550\\\\u2550\\\\u2550\\\\u2550\\\\u2550\\\\u2550\\\\u2550\\\\u2550\\\\u2550\\\\u2550\\\\u2550\\\\u2550\\\\u2550\\\\u2550\\\\u2550\\\\u2550\\\\u2550\\\\u2550\\\\u2550\\\\u2550\\\\u2557\\\\n\\\\n **\\\\u25ba10\\\\u25c4 CROSS-CHASSIS UPGRADES (CCUS), DOWNGRADE**                \\\\n\\\\n\\\\u255a\\\\u2550\\\\u2550\\\\u2550\\\\u2550\\\\u2550\\\\u2550\\\\u2550\\\\u2550\\\\u2550\\\\u2550\\\\u2550\\\\u2550\\\\u2550\\\\u2550\\\\u2550\\\\u2550\\\\u2550\\\\u2550\\\\u2550\\\\u2550\\\\u2550\\\\u2550\\\\u2550\\\\u2550\\\\u2550\\\\u2550\\\\u2550\\\\u2550\\\\u2550\\\\u2550\\\\u2550\\\\u2550\\\\u2550\\\\u2550\\\\u2550\\\\u2550\\\\u2550\\\\u2550\\\\u2550\\\\u2550\\\\u255d\\\\n\\\\nCCUs from more to less expensive ships\\\\n\\\\n**Target ship manufacturer** | **Target ship** | **Upgrade from** | **Price, $** | \\\\n:--- | :--- | :--- | :--- | \\\\n**Aegis Dynamics** | **Eclipse** | Redeemer | 64 | \\\\n- | Eclipse | Caterpillar | 17 | \\\\n- | **Vanguard Harbinger** | Constellation Aquila | 17 | \\\\n- | **Vanguard Hoplite** | Constellation Andromeda | 30 | \\\\n- | **Reclaimer** | Hull D | 94 | \\\\n- | Reclaimer | Merchantman | 78 | \\\\n- | **Vulcan** | Defender | 26 | \\\\n- | Vulcan | Terrapin | 15 | \\\\n- | **Sabre** | Constellation Taurus | 32 | \\\\n- | Sabre | Freelancer MIS | 16 | \\\\n- | Sabre Comet | Constellation Taurus | 52 | \\\\n- | Retaliator Bomber | Redeemer | 36 | \\\\n- | **Vanguard Harbinger** | Redeemer | 57 | \\\\n- | **Vanguard Sentinel** | Redeemer | 42 | \\\\n- | **Vanguard Warden** | Redeemer | 26 | \\\\n- | Vanguard Warden | Hull C | 26 | \\\\n**Anvil Aerospace** | **F7C-M Super Hornet** | Constellation Taurus | 47 | \\\\n- | **F7C Hornet Wildfire** | Constellation Taurus | 37 | \\\\n- | **Gladiator** | Constellation Taurus | 26 | \\\\n- | F7C-M Super Hornet Heartseeker | Defender | 21 | \\\\n- | Hurricane | Defender | 21 | \\\\n- | **Gladiator** | Constellation Taurus | 26 | \\\\n- | Gladiator | Cutlass Blue | 28 | \\\\n- | Valkyrie | Hull D | 42 | \\\\n- | Valkyrie | Merchantman | 47 | \\\\n- | Valkyrie | C2 Hercules | 31 | \\\\n**Aopoa (Xi\\'an)** | **Khartu-Al** | Constellation Taurus | 31 | \\\\n**Consolidated outland** | **Mustang Delta** | Hull A | 15 | \\\\n**Crusader Industries** | Genesis Starliner | Hull D | 73 | \\\\n- | Genesis Starliner | Merchantman | 73 | \\\\n- | C2 Hercules | Hull D | 31 | \\\\n- | C2 Hercules | Merchantman | 42 | \\\\n- | M2 Hercules | Orion | 52 | \\\\n**Drake Interplanetary** | Corsair | Defender | 42 | \\\\n**Esperia** | Prowler | Merchantman | 120 | \\\\n- | Prowler | Hull D | 105 | \\\\n**MISC** | **Freelancer MIS** | Constellation Taurus | 37 | \\\\n- | Freelancer MIS | Cutlass Blue | 37 | \\\\n- | Razor | Freelancer MAX | 15 | \\\\n- | **Razor EX** | Constellation Taurus | 15 | \\\\n- | Razor EX | Cutlass Blue | 15 | \\\\n- | **Starfarer** | Constellation Aquila | 37 | \\\\n**-** | Starfarer | Caterpillar | 18 | \\\\n**Origin Jumpworks** | **350r** | Cutlass Red | 15 | \\\\n- | 600i Touring | Hull D | 110 | \\\\n- | 600i Touring | Prowler | 110 | \\\\n- | 600i Explorer | Merchantman | 152 | \\\\n- | 600i Explorer | Carrack | 99 | \\\\n**RSI** | Apollo Triage | Mercury Star Runner | 42 | \\\\n- | Orion | Carrack | 120 | \\\\n\\\\n\\\\n\\\\n___\\\\n\\\\n\\\\u2554\\\\u2550\\\\u2550\\\\u2550\\\\u2550\\\\u2550\\\\u2550\\\\u2550\\\\u2550\\\\u2550\\\\u2550\\\\u2550\\\\u2550\\\\u2550\\\\u2550\\\\u2550\\\\u2550\\\\u2550\\\\u2550\\\\u2550\\\\u2550\\\\u2550\\\\u2550\\\\u2550\\\\u2550\\\\u2550\\\\u2550\\\\u2550\\\\u2550\\\\u2550\\\\u2550\\\\u2550\\\\u2557\\\\n\\\\n**[Click here](https://www.reddit.com/r/Starcitizen_trades/comments/8fb9th/inventory_furystorms_boutique_additional_items/) to continue to\\\\n2nd part of the store**            \\\\n\\\\n\\\\u255a\\\\u2550\\\\u2550\\\\u2550\\\\u2550\\\\u2550\\\\u2550\\\\u2550\\\\u2550\\\\u2550\\\\u2550\\\\u2550\\\\u2550\\\\u2550\\\\u2550\\\\u2550\\\\u2550\\\\u2550\\\\u2550\\\\u2550\\\\u2550\\\\u2550\\\\u2550\\\\u2550\\\\u2550\\\\u2550\\\\u2550\\\\u2550\\\\u2550\\\\u2550\\\\u2550\\\\u2550\\\\u255d\\\\n\\\\n___\\\\n\\\\n[*New players - use this code (STAR-MRG5-2TBJ) on registration to get additional 5000 UEC for free! (just click this link)*](https://robertsspaceindustries.com/enlist?referral=STAR-MRG5-2TBJ)\",\\n            \"send_replies\": true,\\n            \"spoiler\": false,\\n            \"stickied\": false,\\n            \"subreddit\": \"Starcitizen_trades\",\\n            \"subreddit_id\": \"t5_2xwvq\",\\n            \"subreddit_subscribers\": 25628,\\n            \"subreddit_type\": \"public\",\\n            \"thumbnail\": \"self\",\\n            \"title\": \"[WTS] Furystorm\\'s boutique\\\\u2122 (\\\\u2310 \\\\u0361\\\\u25a0 \\\\u035c\\\\u0296 \\\\u0361\\\\u25a0) Galaxy\\'s Finest (\\\\u2310 \\\\u0361\\\\u25a0 \\\\u035c\\\\u0296 \\\\u0361\\\\u25a0) \\\\u272a LTI/Starter packages \\\\u272a Original concepts \\\\u272a Carrack \\\\u272a Polaris \\\\u2605 Orion \\\\u2605 LTI ships &amp; upgrades (Banu Merchantman/Caterpillar/Sabre/Vanguard/Warden/Glaive etc.) \\\\u2605 Vanguard BUKs \\\\u2605 Planetary Vehicles \\\\u2605 Flair items \\\\u2605\",\\n            \"total_awards_received\": 0,\\n            \"treatment_tags\": [],\\n            \"upvote_ratio\": 1.0,\\n            \"url\": \"https://www.reddit.com/r/Starcitizen_trades/comments/t2t66h/wts_furystorms_boutique_\\\\u0296_galaxys_finest_\\\\u0296/\",\\n            \"whitelist_status\": \"some_ads\",\\n            \"wls\": 7\\n        },\\n        {\\n            \"all_awardings\": [],\\n            \"allow_live_comments\": false,\\n            \"author\": \"natureboyldn\",\\n            \"author_flair_css_class\": null,\\n            \"author_flair_richtext\": [],\\n            \"author_flair_text\": null,\\n            \"author_flair_type\": \"text\",\\n            \"author_fullname\": \"t2_1hlfgaqr\",\\n            \"author_is_blocked\": false,\\n            \"author_patreon_flair\": false,\\n            \"author_premium\": false,\\n            \"awarders\": [],\\n            \"can_mod_post\": false,\\n            \"contest_mode\": false,\\n            \"created_utc\": 1645982911,\\n            \"domain\": \"politico.eu\",\\n            \"full_link\": \"https://www.reddit.com/r/worldnews/comments/t2t4wn/russian_official_apologizes_to_ukraine_at_climate/\",\\n            \"gildings\": {},\\n            \"id\": \"t2t4wn\",\\n            \"is_created_from_ads_ui\": false,\\n            \"is_crosspostable\": true,\\n            \"is_meta\": false,\\n            \"is_original_content\": false,\\n            \"is_reddit_media_domain\": false,\\n            \"is_robot_indexable\": true,\\n            \"is_self\": false,\\n            \"is_video\": false,\\n            \"link_flair_background_color\": \"\",\\n            \"link_flair_css_class\": \"russia\",\\n            \"link_flair_richtext\": [],\\n            \"link_flair_text\": \"Russia/Ukraine\",\\n            \"link_flair_text_color\": \"dark\",\\n            \"link_flair_type\": \"text\",\\n            \"locked\": false,\\n            \"media_only\": false,\\n            \"no_follow\": false,\\n            \"num_comments\": 0,\\n            \"num_crossposts\": 0,\\n            \"over_18\": false,\\n            \"parent_whitelist_status\": \"all_ads\",\\n            \"permalink\": \"/r/worldnews/comments/t2t4wn/russian_official_apologizes_to_ukraine_at_climate/\",\\n            \"pinned\": false,\\n            \"post_hint\": \"link\",\\n            \"preview\": {\\n                \"enabled\": false,\\n                \"images\": [\\n                    {\\n                        \"id\": \"mw7JlWGej5DIAC8xqe1sFSl3YdDxE5NGP-KrxQi0-Vo\",\\n                        \"resolutions\": [\\n                            {\\n                                \"height\": 56,\\n                                \"url\": \"https://external-preview.redd.it/YW5hfDAMX0uD41rpC6OLa-wJ-Wml5fU7fxd7Gpe9UQE.jpg?width=108&amp;crop=smart&amp;auto=webp&amp;s=2ea83d2cc32de7dcb0888c1c23a0f379c755518f\",\\n                                \"width\": 108\\n                            },\\n                            {\\n                                \"height\": 113,\\n                                \"url\": \"https://external-preview.redd.it/YW5hfDAMX0uD41rpC6OLa-wJ-Wml5fU7fxd7Gpe9UQE.jpg?width=216&amp;crop=smart&amp;auto=webp&amp;s=4c61c35f463f53acb7a6f4ffb4dd05d20126e218\",\\n                                \"width\": 216\\n                            },\\n                            {\\n                                \"height\": 168,\\n                                \"url\": \"https://external-preview.redd.it/YW5hfDAMX0uD41rpC6OLa-wJ-Wml5fU7fxd7Gpe9UQE.jpg?width=320&amp;crop=smart&amp;auto=webp&amp;s=81dfc97a9566fa4dadda95ceabb6553ccde4d313\",\\n                                \"width\": 320\\n                            },\\n                            {\\n                                \"height\": 336,\\n                                \"url\": \"https://external-preview.redd.it/YW5hfDAMX0uD41rpC6OLa-wJ-Wml5fU7fxd7Gpe9UQE.jpg?width=640&amp;crop=smart&amp;auto=webp&amp;s=aaaeaea6e202ce6904abdae54d12872a8087294e\",\\n                                \"width\": 640\\n                            },\\n                            {\\n                                \"height\": 504,\\n                                \"url\": \"https://external-preview.redd.it/YW5hfDAMX0uD41rpC6OLa-wJ-Wml5fU7fxd7Gpe9UQE.jpg?width=960&amp;crop=smart&amp;auto=webp&amp;s=e8399bef73f4fd13f5a2402758da26a1d592f6ad\",\\n                                \"width\": 960\\n                            },\\n                            {\\n                                \"height\": 567,\\n                                \"url\": \"https://external-preview.redd.it/YW5hfDAMX0uD41rpC6OLa-wJ-Wml5fU7fxd7Gpe9UQE.jpg?width=1080&amp;crop=smart&amp;auto=webp&amp;s=b39c1a11b8f0a4d46ebc57b192e9a34a579f6cdc\",\\n                                \"width\": 1080\\n                            }\\n                        ],\\n                        \"source\": {\\n                            \"height\": 630,\\n                            \"url\": \"https://external-preview.redd.it/YW5hfDAMX0uD41rpC6OLa-wJ-Wml5fU7fxd7Gpe9UQE.jpg?auto=webp&amp;s=5a159554434c970c9dab97cd8c8cc9ebac49ba5d\",\\n                            \"width\": 1200\\n                        },\\n                        \"variants\": {}\\n                    }\\n                ]\\n            },\\n            \"pwls\": 6,\\n            \"retrieved_on\": 1645982921,\\n            \"score\": 2,\\n            \"selftext\": \"\",\\n            \"send_replies\": true,\\n            \"spoiler\": false,\\n            \"stickied\": false,\\n            \"subreddit\": \"worldnews\",\\n            \"subreddit_id\": \"t5_2qh13\",\\n            \"subreddit_subscribers\": 27991989,\\n            \"subreddit_type\": \"public\",\\n            \"thumbnail\": \"default\",\\n            \"thumbnail_height\": 73,\\n            \"thumbnail_width\": 140,\\n            \"title\": \"Russian official apologizes to Ukraine at climate science meeting\",\\n            \"total_awards_received\": 0,\\n            \"treatment_tags\": [],\\n            \"upvote_ratio\": 1.0,\\n            \"url\": \"https://www.politico.eu/article/russian-official-apologizes-to-ukraine-at-climate-science-meeting/\",\\n            \"url_overridden_by_dest\": \"https://www.politico.eu/article/russian-official-apologizes-to-ukraine-at-climate-science-meeting/\",\\n            \"whitelist_status\": \"all_ads\",\\n            \"wls\": 6\\n        },\\n        {\\n            \"all_awardings\": [],\\n            \"allow_live_comments\": false,\\n            \"author\": \"NapoleonBoneparty\",\\n            \"author_flair_css_class\": null,\\n            \"author_flair_richtext\": [\\n                {\\n                    \"e\": \"text\",\\n                    \"t\": \"17\"\\n                }\\n            ],\\n            \"author_flair_template_id\": \"f2e6204c-9bc7-11e1-af72-12313b078981\",\\n            \"author_flair_text\": \"17\",\\n            \"author_flair_text_color\": \"dark\",\\n            \"author_flair_type\": \"richtext\",\\n            \"author_fullname\": \"t2_ctsxhj9m\",\\n            \"author_is_blocked\": false,\\n            \"author_patreon_flair\": false,\\n            \"author_premium\": false,\\n            \"awarders\": [],\\n            \"can_mod_post\": false,\\n            \"contest_mode\": false,\\n            \"created_utc\": 1645982902,\\n            \"domain\": \"self.teenagers\",\\n            \"full_link\": \"https://www.reddit.com/r/teenagers/comments/t2t4s6/i_take_the_act_in_over_a_month_any_tips_and/\",\\n            \"gildings\": {},\\n            \"id\": \"t2t4s6\",\\n            \"is_created_from_ads_ui\": false,\\n            \"is_crosspostable\": true,\\n            \"is_meta\": false,\\n            \"is_original_content\": false,\\n            \"is_reddit_media_domain\": false,\\n            \"is_robot_indexable\": true,\\n            \"is_self\": true,\\n            \"is_video\": false,\\n            \"link_flair_background_color\": \"\",\\n            \"link_flair_css_class\": \"other\",\\n            \"link_flair_richtext\": [\\n                {\\n                    \"e\": \"text\",\\n                    \"t\": \"Other\"\\n                }\\n            ],\\n            \"link_flair_template_id\": \"855d88d0-845f-11e3-8645-12313d18400c\",\\n            \"link_flair_text\": \"Other\",\\n            \"link_flair_text_color\": \"dark\",\\n            \"link_flair_type\": \"richtext\",\\n            \"locked\": false,\\n            \"media_only\": false,\\n            \"no_follow\": true,\\n            \"num_comments\": 0,\\n            \"num_crossposts\": 0,\\n            \"over_18\": false,\\n            \"parent_whitelist_status\": \"no_ads\",\\n            \"permalink\": \"/r/teenagers/comments/t2t4s6/i_take_the_act_in_over_a_month_any_tips_and/\",\\n            \"pinned\": false,\\n            \"pwls\": 0,\\n            \"retrieved_on\": 1645982912,\\n            \"score\": 1,\\n            \"selftext\": \" I\\\\u2019m  nervous. But to be honest, I\\\\u2019m not worried about the math and reading  sections. What scares me to shits, is the math and science parts. With  science, I think I\\\\u2019m really going to sit there and analyse the data. So  I\\\\u2019m definitely going to take my time. But math is going to be a terrible. Especially because my math teacher is terrible and doesn\\\\u2019t  teach properly. For those that have took the ACT, what was your score?\",\\n            \"send_replies\": true,\\n            \"spoiler\": false,\\n            \"stickied\": false,\\n            \"subreddit\": \"teenagers\",\\n            \"subreddit_id\": \"t5_2rjli\",\\n            \"subreddit_subscribers\": 2744405,\\n            \"subreddit_type\": \"public\",\\n            \"thumbnail\": \"self\",\\n            \"title\": \"I take the ACT in over a month. Any tips and suggestions?\",\\n            \"total_awards_received\": 0,\\n            \"treatment_tags\": [],\\n            \"upvote_ratio\": 1.0,\\n            \"url\": \"https://www.reddit.com/r/teenagers/comments/t2t4s6/i_take_the_act_in_over_a_month_any_tips_and/\",\\n            \"whitelist_status\": \"no_ads\",\\n            \"wls\": 0\\n        },\\n        {\\n            \"all_awardings\": [],\\n            \"allow_live_comments\": false,\\n            \"author\": \"Leg__Day\",\\n            \"author_flair_background_color\": \"#dadada\",\\n            \"author_flair_css_class\": null,\\n            \"author_flair_richtext\": [\\n                {\\n                    \"e\": \"text\",\\n                    \"t\": \"Simrell MVS\"\\n                }\\n            ],\\n            \"author_flair_template_id\": \"0cb0a36e-6f1b-11eb-9019-0e6c65a023cd\",\\n            \"author_flair_text\": \"Simrell MVS\",\\n            \"author_flair_text_color\": \"dark\",\\n            \"author_flair_type\": \"richtext\",\\n            \"author_fullname\": \"t2_jn23h\",\\n            \"author_is_blocked\": false,\\n            \"author_patreon_flair\": false,\\n            \"author_premium\": false,\\n            \"awarders\": [],\\n            \"can_mod_post\": false,\\n            \"contest_mode\": false,\\n            \"created_utc\": 1645982898,\\n            \"domain\": \"self.vaporents\",\\n            \"full_link\": \"https://www.reddit.com/r/vaporents/comments/t2t4pv/science_of_glass/\",\\n            \"gildings\": {},\\n            \"id\": \"t2t4pv\",\\n            \"is_created_from_ads_ui\": false,\\n            \"is_crosspostable\": true,\\n            \"is_meta\": false,\\n            \"is_original_content\": false,\\n            \"is_reddit_media_domain\": false,\\n            \"is_robot_indexable\": true,\\n            \"is_self\": true,\\n            \"is_video\": false,\\n            \"link_flair_background_color\": \"#c1e3e6\",\\n            \"link_flair_css_class\": \"beginner\",\\n            \"link_flair_richtext\": [\\n                {\\n                    \"e\": \"text\",\\n                    \"t\": \"Beginner\"\\n                }\\n            ],\\n            \"link_flair_template_id\": \"d33d02bc-13ea-11e5-9049-0e4ea2f1c787\",\\n            \"link_flair_text\": \"Beginner\",\\n            \"link_flair_text_color\": \"dark\",\\n            \"link_flair_type\": \"richtext\",\\n            \"locked\": false,\\n            \"media_only\": false,\\n            \"no_follow\": true,\\n            \"num_comments\": 0,\\n            \"num_crossposts\": 0,\\n            \"over_18\": false,\\n            \"parent_whitelist_status\": \"no_ads\",\\n            \"permalink\": \"/r/vaporents/comments/t2t4pv/science_of_glass/\",\\n            \"pinned\": false,\\n            \"pwls\": 0,\\n            \"retrieved_on\": 1645982908,\\n            \"score\": 1,\\n            \"selftext\": \"Hey experts, I have a question about the effects of vaping through glass. This might be anecdotal and not the case for everyone, but when I vape my MVS through my little 7\\\\u201d Grav bubbler glass piece the high and taste is greatly reduced versus if I go straight to the face. Why is this? Stupid noob question I know but I would love to know why and if it\\\\u2019s possible to achieve similar high\\\\u2019s and great flavor through glass?\",\\n            \"send_replies\": true,\\n            \"spoiler\": false,\\n            \"stickied\": false,\\n            \"subreddit\": \"vaporents\",\\n            \"subreddit_id\": \"t5_2upjd\",\\n            \"subreddit_subscribers\": 186982,\\n            \"subreddit_type\": \"public\",\\n            \"thumbnail\": \"self\",\\n            \"title\": \"Science of Glass?\",\\n            \"total_awards_received\": 0,\\n            \"treatment_tags\": [],\\n            \"upvote_ratio\": 1.0,\\n            \"url\": \"https://www.reddit.com/r/vaporents/comments/t2t4pv/science_of_glass/\",\\n            \"whitelist_status\": \"no_ads\",\\n            \"wls\": 0\\n        },\\n        {\\n            \"all_awardings\": [],\\n            \"allow_live_comments\": false,\\n            \"author\": \"snaresamn\",\\n            \"author_flair_css_class\": null,\\n            \"author_flair_richtext\": [],\\n            \"author_flair_text\": null,\\n            \"author_flair_type\": \"text\",\\n            \"author_fullname\": \"t2_62z5y\",\\n            \"author_is_blocked\": false,\\n            \"author_patreon_flair\": false,\\n            \"author_premium\": false,\\n            \"awarders\": [],\\n            \"can_mod_post\": false,\\n            \"contest_mode\": false,\\n            \"created_utc\": 1645982890,\\n            \"crosspost_parent\": \"t3_t2t489\",\\n            \"crosspost_parent_list\": [\\n                {\\n                    \"all_awardings\": [],\\n                    \"allow_live_comments\": false,\\n                    \"approved_at_utc\": null,\\n                    \"approved_by\": null,\\n                    \"archived\": false,\\n                    \"author\": \"snaresamn\",\\n                    \"author_flair_background_color\": null,\\n                    \"author_flair_css_class\": null,\\n                    \"author_flair_richtext\": [],\\n                    \"author_flair_template_id\": null,\\n                    \"author_flair_text\": null,\\n                    \"author_flair_text_color\": null,\\n                    \"author_flair_type\": \"text\",\\n                    \"author_fullname\": \"t2_62z5y\",\\n                    \"author_is_blocked\": false,\\n                    \"author_patreon_flair\": false,\\n                    \"author_premium\": false,\\n                    \"awarders\": [],\\n                    \"banned_at_utc\": null,\\n                    \"banned_by\": null,\\n                    \"can_gild\": true,\\n                    \"can_mod_post\": false,\\n                    \"category\": null,\\n                    \"clicked\": false,\\n                    \"content_categories\": null,\\n                    \"contest_mode\": false,\\n                    \"created\": 1645982857.0,\\n                    \"created_utc\": 1645982857.0,\\n                    \"discussion_type\": null,\\n                    \"distinguished\": null,\\n                    \"domain\": \"girtsd.org\",\\n                    \"downs\": 0,\\n                    \"edited\": false,\\n                    \"gilded\": 0,\\n                    \"gildings\": {},\\n                    \"hidden\": false,\\n                    \"hide_score\": true,\\n                    \"id\": \"t2t489\",\\n                    \"is_created_from_ads_ui\": false,\\n                    \"is_crosspostable\": true,\\n                    \"is_meta\": false,\\n                    \"is_original_content\": false,\\n                    \"is_reddit_media_domain\": false,\\n                    \"is_robot_indexable\": true,\\n                    \"is_self\": false,\\n                    \"is_video\": false,\\n                    \"likes\": null,\\n                    \"link_flair_background_color\": \"\",\\n                    \"link_flair_css_class\": null,\\n                    \"link_flair_richtext\": [],\\n                    \"link_flair_text\": null,\\n                    \"link_flair_text_color\": \"dark\",\\n                    \"link_flair_type\": \"text\",\\n                    \"locked\": false,\\n                    \"media\": null,\\n                    \"media_embed\": {},\\n                    \"media_only\": false,\\n                    \"mod_note\": null,\\n                    \"mod_reason_by\": null,\\n                    \"mod_reason_title\": null,\\n                    \"mod_reports\": [],\\n                    \"name\": \"t3_t2t489\",\\n                    \"no_follow\": true,\\n                    \"num_comments\": 0,\\n                    \"num_crossposts\": 0,\\n                    \"num_reports\": null,\\n                    \"over_18\": false,\\n                    \"parent_whitelist_status\": null,\\n                    \"permalink\": \"/r/marineArchaeology/comments/t2t489/girt_scientific_divers_is_a_conservation_focused/\",\\n                    \"pinned\": false,\\n                    \"pwls\": null,\\n                    \"quarantine\": false,\\n                    \"removal_reason\": null,\\n                    \"removed_by\": null,\\n                    \"removed_by_category\": null,\\n                    \"report_reasons\": null,\\n                    \"saved\": false,\\n                    \"score\": 1,\\n                    \"secure_media\": null,\\n                    \"secure_media_embed\": {},\\n                    \"selftext\": \"\",\\n                    \"selftext_html\": null,\\n                    \"send_replies\": true,\\n                    \"spoiler\": false,\\n                    \"stickied\": false,\\n                    \"subreddit\": \"marineArchaeology\",\\n                    \"subreddit_id\": \"t5_5whv67\",\\n                    \"subreddit_name_prefixed\": \"r/marineArchaeology\",\\n                    \"subreddit_subscribers\": 2,\\n                    \"subreddit_type\": \"public\",\\n                    \"suggested_sort\": null,\\n                    \"thumbnail\": \"default\",\\n                    \"thumbnail_height\": null,\\n                    \"thumbnail_width\": null,\\n                    \"title\": \"GIRT Scientific Divers is a conservation focused no-impact citizen-science project that aims to train divers to systematically document observable physical and natural features of historic shipwrecks, submerged aircraft and other underwater cultural artefacts\",\\n                    \"top_awarded_type\": null,\\n                    \"total_awards_received\": 0,\\n                    \"treatment_tags\": [],\\n                    \"ups\": 1,\\n                    \"upvote_ratio\": 1.0,\\n                    \"url\": \"https://www.girtsd.org/\",\\n                    \"url_overridden_by_dest\": \"https://www.girtsd.org/\",\\n                    \"user_reports\": [],\\n                    \"view_count\": null,\\n                    \"visited\": false,\\n                    \"whitelist_status\": null,\\n                    \"wls\": null\\n                }\\n            ],\\n            \"domain\": \"girtsd.org\",\\n            \"full_link\": \"https://www.reddit.com/r/scuba/comments/t2t4m5/girt_scientific_divers_is_a_conservation_focused/\",\\n            \"gildings\": {},\\n            \"id\": \"t2t4m5\",\\n            \"is_created_from_ads_ui\": false,\\n            \"is_crosspostable\": false,\\n            \"is_meta\": false,\\n            \"is_original_content\": false,\\n            \"is_reddit_media_domain\": false,\\n            \"is_robot_indexable\": false,\\n            \"is_self\": false,\\n            \"is_video\": false,\\n            \"link_flair_background_color\": \"\",\\n            \"link_flair_richtext\": [],\\n            \"link_flair_text_color\": \"dark\",\\n            \"link_flair_type\": \"text\",\\n            \"locked\": false,\\n            \"media_only\": false,\\n            \"no_follow\": true,\\n            \"num_comments\": 0,\\n            \"num_crossposts\": 0,\\n            \"over_18\": false,\\n            \"parent_whitelist_status\": \"all_ads\",\\n            \"permalink\": \"/r/scuba/comments/t2t4m5/girt_scientific_divers_is_a_conservation_focused/\",\\n            \"pinned\": false,\\n            \"pwls\": 6,\\n            \"removed_by_category\": \"reddit\",\\n            \"retrieved_on\": 1645982900,\\n            \"score\": 1,\\n            \"selftext\": \"\",\\n            \"send_replies\": true,\\n            \"spoiler\": false,\\n            \"stickied\": false,\\n            \"subreddit\": \"scuba\",\\n            \"subreddit_id\": \"t5_2qhii\",\\n            \"subreddit_subscribers\": 117160,\\n            \"subreddit_type\": \"public\",\\n            \"thumbnail\": \"default\",\\n            \"title\": \"GIRT Scientific Divers is a conservation focused no-impact citizen-science project that aims to train divers to systematically document observable physical and natural features of historic shipwrecks, submerged aircraft and other underwater cultural artefacts\",\\n            \"total_awards_received\": 0,\\n            \"treatment_tags\": [],\\n            \"upvote_ratio\": 1.0,\\n            \"url\": \"https://www.girtsd.org/\",\\n            \"url_overridden_by_dest\": \"https://www.girtsd.org/\",\\n            \"whitelist_status\": \"all_ads\",\\n            \"wls\": 6\\n        },\\n        {\\n            \"all_awardings\": [],\\n            \"allow_live_comments\": false,\\n            \"author\": \"persianmessi\",\\n            \"author_flair_css_class\": null,\\n            \"author_flair_richtext\": [],\\n            \"author_flair_text\": null,\\n            \"author_flair_type\": \"text\",\\n            \"author_fullname\": \"t2_wexx9e4\",\\n            \"author_is_blocked\": false,\\n            \"author_patreon_flair\": false,\\n            \"author_premium\": false,\\n            \"awarders\": [],\\n            \"can_mod_post\": false,\\n            \"contest_mode\": false,\\n            \"created_utc\": 1645982858,\\n            \"domain\": \"self.HomeworkHelpWanted\",\\n            \"full_link\": \"https://www.reddit.com/r/HomeworkHelpWanted/comments/t2t48n/psc_physical_science_weather_lab_help_me/\",\\n            \"gildings\": {},\\n            \"id\": \"t2t48n\",\\n            \"is_created_from_ads_ui\": false,\\n            \"is_crosspostable\": true,\\n            \"is_meta\": false,\\n            \"is_original_content\": false,\\n            \"is_reddit_media_domain\": false,\\n            \"is_robot_indexable\": true,\\n            \"is_self\": true,\\n            \"is_video\": false,\\n            \"link_flair_background_color\": \"#ffd635\",\\n            \"link_flair_richtext\": [\\n                {\\n                    \"e\": \"text\",\\n                    \"t\": \"Student - Bounty Offering\"\\n                }\\n            ],\\n            \"link_flair_template_id\": \"3a6816d0-c4d4-11ea-bab3-0eaa38f8df6b\",\\n            \"link_flair_text\": \"Student - Bounty Offering\",\\n            \"link_flair_text_color\": \"dark\",\\n            \"link_flair_type\": \"richtext\",\\n            \"locked\": false,\\n            \"media_only\": false,\\n            \"no_follow\": true,\\n            \"num_comments\": 1,\\n            \"num_crossposts\": 0,\\n            \"over_18\": false,\\n            \"parent_whitelist_status\": \"all_ads\",\\n            \"permalink\": \"/r/HomeworkHelpWanted/comments/t2t48n/psc_physical_science_weather_lab_help_me/\",\\n            \"pinned\": false,\\n            \"pwls\": 6,\\n            \"retrieved_on\": 1645982868,\\n            \"score\": 1,\\n            \"selftext\": \"need help with a pretty easy homework due today.\",\\n            \"send_replies\": true,\\n            \"spoiler\": false,\\n            \"stickied\": false,\\n            \"subreddit\": \"HomeworkHelpWanted\",\\n            \"subreddit_id\": \"t5_2uypnw\",\\n            \"subreddit_subscribers\": 9750,\\n            \"subreddit_type\": \"public\",\\n            \"thumbnail\": \"self\",\\n            \"title\": \"psc , PHYSICAL SCIENCE WEATHER LAB. help me\",\\n            \"total_awards_received\": 0,\\n            \"treatment_tags\": [],\\n            \"upvote_ratio\": 1.0,\\n            \"url\": \"https://www.reddit.com/r/HomeworkHelpWanted/comments/t2t48n/psc_physical_science_weather_lab_help_me/\",\\n            \"whitelist_status\": \"all_ads\",\\n            \"wls\": 6\\n        },\\n        {\\n            \"all_awardings\": [],\\n            \"allow_live_comments\": false,\\n            \"author\": \"snaresamn\",\\n            \"author_flair_css_class\": null,\\n            \"author_flair_richtext\": [],\\n            \"author_flair_text\": null,\\n            \"author_flair_type\": \"text\",\\n            \"author_fullname\": \"t2_62z5y\",\\n            \"author_is_blocked\": false,\\n            \"author_patreon_flair\": false,\\n            \"author_premium\": false,\\n            \"awarders\": [],\\n            \"can_mod_post\": false,\\n            \"contest_mode\": false,\\n            \"created_utc\": 1645982857,\\n            \"domain\": \"girtsd.org\",\\n            \"full_link\": \"https://www.reddit.com/r/marineArchaeology/comments/t2t489/girt_scientific_divers_is_a_conservation_focused/\",\\n            \"gildings\": {},\\n            \"id\": \"t2t489\",\\n            \"is_created_from_ads_ui\": false,\\n            \"is_crosspostable\": true,\\n            \"is_meta\": false,\\n            \"is_original_content\": false,\\n            \"is_reddit_media_domain\": false,\\n            \"is_robot_indexable\": true,\\n            \"is_self\": false,\\n            \"is_video\": false,\\n            \"link_flair_background_color\": \"\",\\n            \"link_flair_richtext\": [],\\n            \"link_flair_text_color\": \"dark\",\\n            \"link_flair_type\": \"text\",\\n            \"locked\": false,\\n            \"media_only\": false,\\n            \"no_follow\": true,\\n            \"num_comments\": 0,\\n            \"num_crossposts\": 0,\\n            \"over_18\": false,\\n            \"permalink\": \"/r/marineArchaeology/comments/t2t489/girt_scientific_divers_is_a_conservation_focused/\",\\n            \"pinned\": false,\\n            \"retrieved_on\": 1645982868,\\n            \"score\": 1,\\n            \"selftext\": \"\",\\n            \"send_replies\": true,\\n            \"spoiler\": false,\\n            \"stickied\": false,\\n            \"subreddit\": \"marineArchaeology\",\\n            \"subreddit_id\": \"t5_5whv67\",\\n            \"subreddit_subscribers\": 2,\\n            \"subreddit_type\": \"public\",\\n            \"thumbnail\": \"default\",\\n            \"title\": \"GIRT Scientific Divers is a conservation focused no-impact citizen-science project that aims to train divers to systematically document observable physical and natural features of historic shipwrecks, submerged aircraft and other underwater cultural artefacts\",\\n            \"total_awards_received\": 0,\\n            \"treatment_tags\": [],\\n            \"upvote_ratio\": 1.0,\\n            \"url\": \"https://www.girtsd.org/\",\\n            \"url_overridden_by_dest\": \"https://www.girtsd.org/\"\\n        },\\n        {\\n            \"all_awardings\": [],\\n            \"allow_live_comments\": false,\\n            \"author\": \"Ordinary_Craft\",\\n            \"author_flair_css_class\": null,\\n            \"author_flair_richtext\": [],\\n            \"author_flair_text\": null,\\n            \"author_flair_type\": \"text\",\\n            \"author_fullname\": \"t2_6l105jav\",\\n            \"author_is_blocked\": false,\\n            \"author_patreon_flair\": false,\\n            \"author_premium\": false,\\n            \"awarders\": [],\\n            \"can_mod_post\": false,\\n            \"contest_mode\": false,\\n            \"created_utc\": 1645982848,\\n            \"domain\": \"self.Udemy\",\\n            \"full_link\": \"https://www.reddit.com/r/Udemy/comments/t2t43b/ultimate_python_bootcamp_for_data_science_machine/\",\\n            \"gildings\": {},\\n            \"id\": \"t2t43b\",\\n            \"is_created_from_ads_ui\": false,\\n            \"is_crosspostable\": true,\\n            \"is_meta\": false,\\n            \"is_original_content\": false,\\n            \"is_reddit_media_domain\": false,\\n            \"is_robot_indexable\": true,\\n            \"is_self\": true,\\n            \"is_video\": false,\\n            \"link_flair_background_color\": \"\",\\n            \"link_flair_richtext\": [],\\n            \"link_flair_text_color\": \"dark\",\\n            \"link_flair_type\": \"text\",\\n            \"locked\": false,\\n            \"media_only\": false,\\n            \"no_follow\": true,\\n            \"num_comments\": 0,\\n            \"num_crossposts\": 0,\\n            \"over_18\": false,\\n            \"parent_whitelist_status\": \"all_ads\",\\n            \"permalink\": \"/r/Udemy/comments/t2t43b/ultimate_python_bootcamp_for_data_science_machine/\",\\n            \"pinned\": false,\\n            \"post_hint\": \"self\",\\n            \"preview\": {\\n                \"enabled\": false,\\n                \"images\": [\\n                    {\\n                        \"id\": \"FDzekJgf35SCvdmyFx2aOVimlaKD7eKGMvK0TxrO_eE\",\\n                        \"resolutions\": [\\n                            {\\n                                \"height\": 60,\\n                                \"url\": \"https://external-preview.redd.it/l0Q3zbvOynyLczxs4MKek34R3DJFGC_O6TvkG1mWEVA.jpg?width=108&amp;crop=smart&amp;auto=webp&amp;s=0ed73452b5272416f2162ce6228de1f653f6cee5\",\\n                                \"width\": 108\\n                            },\\n                            {\\n                                \"height\": 121,\\n                                \"url\": \"https://external-preview.redd.it/l0Q3zbvOynyLczxs4MKek34R3DJFGC_O6TvkG1mWEVA.jpg?width=216&amp;crop=smart&amp;auto=webp&amp;s=98cf933e5f4be99720c3b2c85818eeaa656c6b67\",\\n                                \"width\": 216\\n                            },\\n                            {\\n                                \"height\": 180,\\n                                \"url\": \"https://external-preview.redd.it/l0Q3zbvOynyLczxs4MKek34R3DJFGC_O6TvkG1mWEVA.jpg?width=320&amp;crop=smart&amp;auto=webp&amp;s=4934dc7488e2cf29323df5cdbf4295760dc05a4c\",\\n                                \"width\": 320\\n                            }\\n                        ],\\n                        \"source\": {\\n                            \"height\": 270,\\n                            \"url\": \"https://external-preview.redd.it/l0Q3zbvOynyLczxs4MKek34R3DJFGC_O6TvkG1mWEVA.jpg?auto=webp&amp;s=059ba80d84d5d3003aa36a7fbe1296639a459219\",\\n                            \"width\": 480\\n                        },\\n                        \"variants\": {}\\n                    }\\n                ]\\n            },\\n            \"pwls\": 6,\\n            \"retrieved_on\": 1645982858,\\n            \"score\": 1,\\n            \"selftext\": \"[https://www.udemy.store/2022/02/ultimate-python-bootcamp-for-data.html](https://www.udemy.store/2022/02/ultimate-python-bootcamp-for-data.html)\",\\n            \"send_replies\": true,\\n            \"spoiler\": false,\\n            \"stickied\": false,\\n            \"subreddit\": \"Udemy\",\\n            \"subreddit_id\": \"t5_2xros\",\\n            \"subreddit_subscribers\": 18395,\\n            \"subreddit_type\": \"public\",\\n            \"thumbnail\": \"self\",\\n            \"title\": \"Ultimate Python Bootcamp For Data Science &amp; Machine Learning\",\\n            \"total_awards_received\": 0,\\n            \"treatment_tags\": [],\\n            \"upvote_ratio\": 1.0,\\n            \"url\": \"https://www.reddit.com/r/Udemy/comments/t2t43b/ultimate_python_bootcamp_for_data_science_machine/\",\\n            \"whitelist_status\": \"all_ads\",\\n            \"wls\": 6\\n        },\\n        {\\n            \"all_awardings\": [],\\n            \"allow_live_comments\": false,\\n            \"author\": \"Ordinary_Craft\",\\n            \"author_flair_css_class\": null,\\n            \"author_flair_richtext\": [],\\n            \"author_flair_text\": null,\\n            \"author_flair_type\": \"text\",\\n            \"author_fullname\": \"t2_6l105jav\",\\n            \"author_is_blocked\": false,\\n            \"author_patreon_flair\": false,\\n            \"author_premium\": false,\\n            \"awarders\": [],\\n            \"can_mod_post\": false,\\n            \"contest_mode\": false,\\n            \"created_utc\": 1645982845,\\n            \"domain\": \"udemy.store\",\\n            \"full_link\": \"https://www.reddit.com/r/FreeCourses_coupons/comments/t2t421/ultimate_python_bootcamp_for_data_science_machine/\",\\n            \"gildings\": {},\\n            \"id\": \"t2t421\",\\n            \"is_created_from_ads_ui\": false,\\n            \"is_crosspostable\": true,\\n            \"is_meta\": false,\\n            \"is_original_content\": false,\\n            \"is_reddit_media_domain\": false,\\n            \"is_robot_indexable\": true,\\n            \"is_self\": false,\\n            \"is_video\": false,\\n            \"link_flair_background_color\": \"\",\\n            \"link_flair_richtext\": [],\\n            \"link_flair_text_color\": \"dark\",\\n            \"link_flair_type\": \"text\",\\n            \"locked\": false,\\n            \"media_only\": false,\\n            \"no_follow\": true,\\n            \"num_comments\": 0,\\n            \"num_crossposts\": 0,\\n            \"over_18\": false,\\n            \"permalink\": \"/r/FreeCourses_coupons/comments/t2t421/ultimate_python_bootcamp_for_data_science_machine/\",\\n            \"pinned\": false,\\n            \"post_hint\": \"link\",\\n            \"preview\": {\\n                \"enabled\": false,\\n                \"images\": [\\n                    {\\n                        \"id\": \"FDzekJgf35SCvdmyFx2aOVimlaKD7eKGMvK0TxrO_eE\",\\n                        \"resolutions\": [\\n                            {\\n                                \"height\": 60,\\n                                \"url\": \"https://external-preview.redd.it/l0Q3zbvOynyLczxs4MKek34R3DJFGC_O6TvkG1mWEVA.jpg?width=108&amp;crop=smart&amp;auto=webp&amp;s=0ed73452b5272416f2162ce6228de1f653f6cee5\",\\n                                \"width\": 108\\n                            },\\n                            {\\n                                \"height\": 121,\\n                                \"url\": \"https://external-preview.redd.it/l0Q3zbvOynyLczxs4MKek34R3DJFGC_O6TvkG1mWEVA.jpg?width=216&amp;crop=smart&amp;auto=webp&amp;s=98cf933e5f4be99720c3b2c85818eeaa656c6b67\",\\n                                \"width\": 216\\n                            },\\n                            {\\n                                \"height\": 180,\\n                                \"url\": \"https://external-preview.redd.it/l0Q3zbvOynyLczxs4MKek34R3DJFGC_O6TvkG1mWEVA.jpg?width=320&amp;crop=smart&amp;auto=webp&amp;s=4934dc7488e2cf29323df5cdbf4295760dc05a4c\",\\n                                \"width\": 320\\n                            }\\n                        ],\\n                        \"source\": {\\n                            \"height\": 270,\\n                            \"url\": \"https://external-preview.redd.it/l0Q3zbvOynyLczxs4MKek34R3DJFGC_O6TvkG1mWEVA.jpg?auto=webp&amp;s=059ba80d84d5d3003aa36a7fbe1296639a459219\",\\n                            \"width\": 480\\n                        },\\n                        \"variants\": {}\\n                    }\\n                ]\\n            },\\n            \"retrieved_on\": 1645982855,\\n            \"score\": 1,\\n            \"selftext\": \"\",\\n            \"send_replies\": true,\\n            \"spoiler\": false,\\n            \"stickied\": false,\\n            \"subreddit\": \"FreeCourses_coupons\",\\n            \"subreddit_id\": \"t5_40r1lg\",\\n            \"subreddit_subscribers\": 404,\\n            \"subreddit_type\": \"restricted\",\\n            \"thumbnail\": \"https://b.thumbs.redditmedia.com/5zrLkniWdZ0tDXrDvUXuo2kGjGnhXMzhO0EkL3gp4_s.jpg\",\\n            \"thumbnail_height\": 78,\\n            \"thumbnail_width\": 140,\\n            \"title\": \"Ultimate Python Bootcamp For Data Science &amp; Machine Learning\",\\n            \"total_awards_received\": 0,\\n            \"treatment_tags\": [],\\n            \"upvote_ratio\": 1.0,\\n            \"url\": \"https://www.udemy.store/2022/02/ultimate-python-bootcamp-for-data.html\",\\n            \"url_overridden_by_dest\": \"https://www.udemy.store/2022/02/ultimate-python-bootcamp-for-data.html\"\\n        },\\n        {\\n            \"all_awardings\": [],\\n            \"allow_live_comments\": false,\\n            \"author\": \"Ordinary_Craft\",\\n            \"author_flair_css_class\": null,\\n            \"author_flair_richtext\": [],\\n            \"author_flair_text\": null,\\n            \"author_flair_type\": \"text\",\\n            \"author_fullname\": \"t2_6l105jav\",\\n            \"author_is_blocked\": false,\\n            \"author_patreon_flair\": false,\\n            \"author_premium\": false,\\n            \"awarders\": [],\\n            \"can_mod_post\": false,\\n            \"contest_mode\": false,\\n            \"created_utc\": 1645982842,\\n            \"domain\": \"udemy.store\",\\n            \"full_link\": \"https://www.reddit.com/r/udemyfreebies/comments/t2t413/ultimate_python_bootcamp_for_data_science_machine/\",\\n            \"gildings\": {},\\n            \"id\": \"t2t413\",\\n            \"is_created_from_ads_ui\": false,\\n            \"is_crosspostable\": true,\\n            \"is_meta\": false,\\n            \"is_original_content\": false,\\n            \"is_reddit_media_domain\": false,\\n            \"is_robot_indexable\": true,\\n            \"is_self\": false,\\n            \"is_video\": false,\\n            \"link_flair_background_color\": \"\",\\n            \"link_flair_richtext\": [],\\n            \"link_flair_text_color\": \"dark\",\\n            \"link_flair_type\": \"text\",\\n            \"locked\": false,\\n            \"media_only\": false,\\n            \"no_follow\": true,\\n            \"num_comments\": 0,\\n            \"num_crossposts\": 0,\\n            \"over_18\": false,\\n            \"parent_whitelist_status\": \"all_ads\",\\n            \"permalink\": \"/r/udemyfreebies/comments/t2t413/ultimate_python_bootcamp_for_data_science_machine/\",\\n            \"pinned\": false,\\n            \"post_hint\": \"link\",\\n            \"preview\": {\\n                \"enabled\": false,\\n                \"images\": [\\n                    {\\n                        \"id\": \"FDzekJgf35SCvdmyFx2aOVimlaKD7eKGMvK0TxrO_eE\",\\n                        \"resolutions\": [\\n                            {\\n                                \"height\": 60,\\n                                \"url\": \"https://external-preview.redd.it/l0Q3zbvOynyLczxs4MKek34R3DJFGC_O6TvkG1mWEVA.jpg?width=108&amp;crop=smart&amp;auto=webp&amp;s=0ed73452b5272416f2162ce6228de1f653f6cee5\",\\n                                \"width\": 108\\n                            },\\n                            {\\n                                \"height\": 121,\\n                                \"url\": \"https://external-preview.redd.it/l0Q3zbvOynyLczxs4MKek34R3DJFGC_O6TvkG1mWEVA.jpg?width=216&amp;crop=smart&amp;auto=webp&amp;s=98cf933e5f4be99720c3b2c85818eeaa656c6b67\",\\n                                \"width\": 216\\n                            },\\n                            {\\n                                \"height\": 180,\\n                                \"url\": \"https://external-preview.redd.it/l0Q3zbvOynyLczxs4MKek34R3DJFGC_O6TvkG1mWEVA.jpg?width=320&amp;crop=smart&amp;auto=webp&amp;s=4934dc7488e2cf29323df5cdbf4295760dc05a4c\",\\n                                \"width\": 320\\n                            }\\n                        ],\\n                        \"source\": {\\n                            \"height\": 270,\\n                            \"url\": \"https://external-preview.redd.it/l0Q3zbvOynyLczxs4MKek34R3DJFGC_O6TvkG1mWEVA.jpg?auto=webp&amp;s=059ba80d84d5d3003aa36a7fbe1296639a459219\",\\n                            \"width\": 480\\n                        },\\n                        \"variants\": {}\\n                    }\\n                ]\\n            },\\n            \"pwls\": 6,\\n            \"retrieved_on\": 1645982853,\\n            \"score\": 1,\\n            \"selftext\": \"\",\\n            \"send_replies\": true,\\n            \"spoiler\": false,\\n            \"stickied\": false,\\n            \"subreddit\": \"udemyfreebies\",\\n            \"subreddit_id\": \"t5_36tut\",\\n            \"subreddit_subscribers\": 32263,\\n            \"subreddit_type\": \"public\",\\n            \"thumbnail\": \"https://b.thumbs.redditmedia.com/5zrLkniWdZ0tDXrDvUXuo2kGjGnhXMzhO0EkL3gp4_s.jpg\",\\n            \"thumbnail_height\": 78,\\n            \"thumbnail_width\": 140,\\n            \"title\": \"Ultimate Python Bootcamp For Data Science &amp; Machine Learning\",\\n            \"total_awards_received\": 0,\\n            \"treatment_tags\": [],\\n            \"upvote_ratio\": 1.0,\\n            \"url\": \"https://www.udemy.store/2022/02/ultimate-python-bootcamp-for-data.html\",\\n            \"url_overridden_by_dest\": \"https://www.udemy.store/2022/02/ultimate-python-bootcamp-for-data.html\",\\n            \"whitelist_status\": \"all_ads\",\\n            \"wls\": 6\\n        },\\n        {\\n            \"all_awardings\": [],\\n            \"allow_live_comments\": false,\\n            \"author\": \"d0l0r3sh4ze\",\\n            \"author_flair_css_class\": null,\\n            \"author_flair_richtext\": [],\\n            \"author_flair_text\": null,\\n            \"author_flair_type\": \"text\",\\n            \"author_fullname\": \"t2_1fz98py2\",\\n            \"author_is_blocked\": false,\\n            \"author_patreon_flair\": false,\\n            \"author_premium\": false,\\n            \"awarders\": [],\\n            \"can_mod_post\": false,\\n            \"contest_mode\": false,\\n            \"created_utc\": 1645982727,\\n            \"domain\": \"self.HowToBeHot\",\\n            \"full_link\": \"https://www.reddit.com/r/HowToBeHot/comments/t2t2lh/can_we_list_every_single_effective_antiaging_food/\",\\n            \"gildings\": {},\\n            \"id\": \"t2t2lh\",\\n            \"is_created_from_ads_ui\": false,\\n            \"is_crosspostable\": true,\\n            \"is_meta\": false,\\n            \"is_original_content\": false,\\n            \"is_reddit_media_domain\": false,\\n            \"is_robot_indexable\": true,\\n            \"is_self\": true,\\n            \"is_video\": false,\\n            \"link_flair_background_color\": \"#46d160\",\\n            \"link_flair_richtext\": [],\\n            \"link_flair_template_id\": \"d408f1f0-6345-11eb-9cf1-0e843303b0b1\",\\n            \"link_flair_text\": \"Health Glow Up\",\\n            \"link_flair_text_color\": \"dark\",\\n            \"link_flair_type\": \"text\",\\n            \"locked\": false,\\n            \"media_only\": false,\\n            \"no_follow\": false,\\n            \"num_comments\": 0,\\n            \"num_crossposts\": 0,\\n            \"over_18\": false,\\n            \"parent_whitelist_status\": \"all_ads\",\\n            \"permalink\": \"/r/HowToBeHot/comments/t2t2lh/can_we_list_every_single_effective_antiaging_food/\",\\n            \"pinned\": false,\\n            \"pwls\": 6,\\n            \"retrieved_on\": 1645982738,\\n            \"score\": 1,\\n            \"selftext\": \"the ones i can think of off the top of my head are:\\\\n\\\\n\\\\\\\\-retinol\\\\n\\\\n\\\\\\\\-cutting out sugar\\\\n\\\\n\\\\\\\\-regular exercise\\\\n\\\\n\\\\\\\\-limiting alcohol \\\\n\\\\n\\\\\\\\-botox\",\\n            \"send_replies\": true,\\n            \"spoiler\": false,\\n            \"stickied\": false,\\n            \"subreddit\": \"HowToBeHot\",\\n            \"subreddit_id\": \"t5_3uv2l6\",\\n            \"subreddit_subscribers\": 11657,\\n            \"subreddit_type\": \"public\",\\n            \"thumbnail\": \"self\",\\n            \"title\": \"Can we list every single effective anti-aging food, habit, ritual, and product we know works/is backed by science?\",\\n            \"total_awards_received\": 0,\\n            \"treatment_tags\": [],\\n            \"upvote_ratio\": 1.0,\\n            \"url\": \"https://www.reddit.com/r/HowToBeHot/comments/t2t2lh/can_we_list_every_single_effective_antiaging_food/\",\\n            \"whitelist_status\": \"all_ads\",\\n            \"wls\": 6\\n        },\\n        {\\n            \"all_awardings\": [],\\n            \"allow_live_comments\": false,\\n            \"author\": \"jim21869\",\\n            \"author_flair_css_class\": null,\\n            \"author_flair_richtext\": [],\\n            \"author_flair_text\": null,\\n            \"author_flair_type\": \"text\",\\n            \"author_fullname\": \"t2_5l749epy\",\\n            \"author_is_blocked\": false,\\n            \"author_patreon_flair\": false,\\n            \"author_premium\": false,\\n            \"awarders\": [],\\n            \"can_mod_post\": false,\\n            \"contest_mode\": false,\\n            \"created_utc\": 1645982706,\\n            \"domain\": \"self.creativewriting\",\\n            \"full_link\": \"https://www.reddit.com/r/creativewriting/comments/t2t2bm/friends_and_family_chapter_19_part_2/\",\\n            \"gildings\": {},\\n            \"id\": \"t2t2bm\",\\n            \"is_created_from_ads_ui\": false,\\n            \"is_crosspostable\": true,\\n            \"is_meta\": false,\\n            \"is_original_content\": false,\\n            \"is_reddit_media_domain\": false,\\n            \"is_robot_indexable\": true,\\n            \"is_self\": true,\\n            \"is_video\": false,\\n            \"link_flair_background_color\": \"\",\\n            \"link_flair_richtext\": [],\\n            \"link_flair_text_color\": \"dark\",\\n            \"link_flair_type\": \"text\",\\n            \"locked\": false,\\n            \"media_only\": false,\\n            \"no_follow\": true,\\n            \"num_comments\": 0,\\n            \"num_crossposts\": 0,\\n            \"over_18\": false,\\n            \"parent_whitelist_status\": \"all_ads\",\\n            \"permalink\": \"/r/creativewriting/comments/t2t2bm/friends_and_family_chapter_19_part_2/\",\\n            \"pinned\": false,\\n            \"pwls\": 6,\\n            \"retrieved_on\": 1645982717,\\n            \"score\": 1,\\n            \"selftext\": \"About two weeks before Christmas, Jim was in his room, watching *Jeopardy!*  Jim heard the phone in the hallway ring.  Wendy answered it.  After about a minute, Wendy shouted, \\\\u201cJim!  Phone call for you!\\\\u201d\\\\n\\\\n Jim got himself up, and he made his way into the hallway.  Jim sat down in the chair beside the table that held the hallway phone.  Jim wondered who would be calling him.  Maybe it was Candi.  Or maybe one of his many friends.  Jim picked up the phone and said, \\\\u201cHello.  Jim Faulkner speaking.\\\\u201d\\\\n\\\\n The voice on the other end said, \\\\u201cHi, Jim Faulkner.  How are you this evening?\\\\u201d\\\\n\\\\n The voice on the other end did not sound familiar to Jim.  That prompted Jim to ask, \\\\u201cMay I ask who\\\\u2019s calling?\\\\u201d\\\\n\\\\n That voice, which was a girl, said to Jim, \\\\u201cI can\\\\u2019t tell you, but I will tell you that I know you.\\\\u201d\\\\n\\\\n \\\\u201cHow so?\\\\u201d Jim asked.\\\\n\\\\n The girl said, \\\\u201cI know you hang out at Eastland Mall quite a lot.\\\\u201d\\\\n\\\\n Jim said, \\\\u201cYes, I do.  I hang out with my friends.  I have quite a bit of friends.\\\\u201d\\\\n\\\\n \\\\u201cI see,\\\\u201d the girl said.\\\\n\\\\n \\\\u201cI should have you know I do have a girlfriend and we are going steady.\\\\u201d\\\\n\\\\n \\\\u201cReally?  Who is she?\\\\u201d\\\\n\\\\n \\\\u201cHer name is Candi Robertson.\\\\u201d\\\\n\\\\n \\\\u201cYou mean Candice Jade Robertson?  Yeah, I know her.\\\\u201d\\\\n\\\\n Once again, Jim asked who the girl was.  She said she could not tell Jim who she is right now, only that she knows him, that he lives on Bethany Street in the Dilworth area of Charlotte, and that he spends some time at Eastland Mall.  Jim had half a mind to ask the girl how she got his phone number.  But he didn\\\\u2019t, because he was quite sure she wouldn\\\\u2019t tell him that, either. \\\\n\\\\nThe girl asked Jim if she could meet him at Eastland Mall the Monday after school let out for the holiday break.  He said he probably could, but he didn\\\\u2019t sound like he was sure.  He told the girl he could not promise anything.  Jim thought one thing.  *To make a promise to a bunch of young people to be friends forever may be one thing.  But to make a promise of any kind to someone I don\\\\u2019t even know, especially a girl around my age, that may be something else again.*\\\\n\\\\n Jim said to the girl, \\\\u201cI\\\\u2019ll see what I can do.  But I\\\\u2019m not sure I can promise anything.\\\\u201d\\\\n\\\\n The girl said, \\\\u201cOkay, Jim.  I\\\\u2019ll be there then.  If you do show up at Eastland Mall, please meet me in front of Chick-fil-A.\\\\u201d\\\\n\\\\n Jim said he would try.  And with that, they ended the call.\\\\n\\\\n A few minutes later, Wendy stepped into Jim\\\\u2019s bedroom, and she asked him, \\\\u201cJim, who was that on the phone?  One of your friends?\\\\u201d\\\\n\\\\n \\\\u201cNo, Mom.  Not exactly.  Some girl who claims she knows me.\\\\u201d\\\\n\\\\n \\\\u201cDoes she have a name?\\\\u201d\\\\n\\\\n \\\\u201cMom, I asked her.  She said she could not tell me her name.\\\\u201d\\\\n\\\\n \\\\u201cOh, Jim.  That sounds rather rude.\\\\u201d\\\\n\\\\n \\\\u201cRude, maybe.  Weird, probably.\\\\u201d\\\\n\\\\n \\\\u201cHow did she get our phone number?\\\\u201d\\\\n\\\\n Jim thought about how to answer that.  He knew their number was never unlisted.  Wendy did want to have the number unlisted at one point, but she decided against it because she was not sure if she could afford to pay to have it unlisted.  After Wendy decided against it, she never thought of it again.  Finally, Jim answered Wendy\\\\u2019s question by saying, \\\\u201cMom, I\\\\u2019m not sure.  The girl did say she knew Candi.  But I don\\\\u2019t think Candi would give anyone our phone number, or even her own.\\\\u201d\\\\n\\\\n \\\\u201cOkay, Jim.  Did she say anything about wanting to meet you?\\\\u201d\\\\n\\\\n \\\\u201cYes, Mom.  She said she wishes to meet with me at Eastland Mall the Monday after school\\\\u2019s out for the holidays.  She said we could meet at Chick-fil-A.\\\\u201d\\\\n\\\\n \\\\u201cAre you planning to meet her?\\\\u201d Wendy asked.\\\\n\\\\n Jim answered, \\\\u201cI guess.  She could be a potential friend.\\\\u201d\\\\n\\\\n Then Wendy said, \\\\u201cOkay, Jim.  Just be careful, okay?\\\\u201d\\\\n\\\\n\\\\u201cOkay, Mom.  You know I am always careful.\\\\u201d\\\\n\\\\n Wendy smiled and headed for the bedroom door.  She opened the door.  Before she stepped out, she turned around and said to Jim, \\\\u201cI will be working tomorrow until around two.  But I won\\\\u2019t be coming straight home.  I have a doctor\\\\u2019s appointment and I may be home quite late tomorrow evening.\\\\u201d\\\\n\\\\n Jim said, \\\\u201cSure, Mom.  What kind of appointment?\\\\u201d\\\\n\\\\n \\\\u201cI\\\\u2019ve not been feeling well lately.  I\\\\u2019m just going to have Doctor Firestone check me out.  Nothing major, nothing earth-shattering for you to worry about.\\\\u201d\\\\n\\\\nJim looked at Wendy and gave her a nod.  After Wendy stepped out of the room, Jim thought, *Nothing to worry about, all right.  The only thing I have to worry about at this point is a girl I don\\\\u2019t know trying to meet me and maybe trying to get me to be her boyfriend.  I have a girlfriend.  Candi.  She\\\\u2019s my one and only*.\\\\n\\\\n Just before Jim went to bed, it hit him.  A few months ago, Candi spoke to a girl at Eastland Mall while Jim and Ariel and Jodi were there.  Was there a possibility that could be the girl who called?  Maybe.  Jim would soon find out.\\\\n\\\\n\\\\ud83d\\\\ude0a\\\\n\\\\nThe next day, Jim worked some after school at Gilmore Auto Sales.  While Jim was washing a car, he said, \\\\u201cPaulina, I feel like some kind of a freak.\\\\u201d\\\\n\\\\n Paulina was washing a car next to the one Jim was washing.  She asked him, \\\\u201cHow can you feel like that?\\\\u201d\\\\n\\\\n \\\\u201cSome girl who I do not know calls me, does not tell me who she is, and claims she knows quite a bit about me.  That\\\\u2019s weird.  How do you explain that?\\\\u201d\\\\n\\\\n \\\\u201cYou\\\\u2019re right, Jim.  That is weird.\\\\u201d\\\\n\\\\n Jim said, \\\\u201cThen I happened to remember something.  A few months ago, Ariel and Jodi and I were hanging out at Eastland Mall.  That same evening, Candi spoke to a girl at the mall who claimed she knows me.  I wonder if that\\\\u2019s the girl who called me last night.\\\\u201d\\\\n\\\\n \\\\u201cJim, she very well could be,\\\\u201d Paulina said.\\\\n\\\\n \\\\u201cShe wants to meet me at Eastland Mall the Monday after school\\\\u2019s out for the holiday break.\\\\u201d\\\\n\\\\n \\\\u201cAre you planning to meet her?\\\\u201d\\\\n\\\\n \\\\u201cI don\\\\u2019t know.  Maybe.  Depends on whether or not I\\\\u2019m at the mall on that day.\\\\u201d\\\\n\\\\n Then Paulina said, \\\\u201cJim, I know a girl at school who had the same thing happen to her.  About a couple months ago, she got a call from some boy.  She met the boy at a Winn-Dixie on East Independence Boulevard.  It turned out the boy was that girl\\\\u2019s brother.  She kept denying it, saying she had always been an only child.\\\\u201d\\\\n\\\\n Jim gave Paulina a rather strange look.  Then he said, \\\\u201cPaulina, I can\\\\u2019t believe you told a story like that.  True, I haven\\\\u2019t seen my father in many years.  But I have no brothers or sisters, at least not that I know of.\\\\u201d\\\\n\\\\n Paulina gave Jim a serious look and said, \\\\u201cJim, it could happen.  You just said it yourself.  You haven\\\\u2019t seen your father in years.  A lot can happen.\\\\u201d\\\\n\\\\n Jim turned around and looked at the Charlotte skyline, took in a deep breath, let it out slowly, and then he said, \\\\u201cYeah, Paulina.  I guess you\\\\u2019re right.  Maybe I should meet this girl and see if she truly is my sister.\\\\u201d\\\\n\\\\n\\\\u201cMy brothers and I haven\\\\u2019t seen our father in about a couple years.  Mom says we may never see him again.  It seems as though Russell and Scout could be all I\\\\u2019ll ever have for brothers, unless there\\\\u2019s a brother or sister out there we don\\\\u2019t know about.\\\\u201d\\\\n\\\\n Then Jim said, \\\\u201cMy Mom had a doctor\\\\u2019s appointment today.\\\\u201d\\\\n\\\\n \\\\u201cDid she say why?\\\\u201d Paulina asked.\\\\n\\\\n \\\\u201cShe didn\\\\u2019t say.  Maybe a check-up or something.\\\\u201d\\\\n\\\\n Paulina said, \\\\u201cYeah.  Or something.\\\\u201d\\\\n\\\\n Then Paulina walked to where Jim was.  Then she said to him, \\\\u201cJim, I have been looking at Wendy a lot at church.  She seemed a little different.\\\\u201d\\\\n\\\\n \\\\u201cHow different?\\\\u201d Jim asked.\\\\n\\\\n Paulina pointed to her belly.  Then she said, \\\\u201cJim, her belly looked different.  Is there any possibility she could be\\\\u2026pregnant?\\\\u201d\\\\n\\\\n Jim gave Paulina a look and said, \\\\u201cNo.  I don\\\\u2019t think so.\\\\u201d\\\\n\\\\n Paulina said, \\\\u201cYeah, sure.  We\\\\u2019ll just drop it.  Forget I asked.\\\\u201d\\\\n\\\\n Then Jim said, \\\\u201cMom has been dating quite a bit.\\\\u201d\\\\n\\\\n Paulina said, \\\\u201cYeah.  So I heard.  Is it serious?\\\\u201d\\\\n\\\\n Jim answered, \\\\u201cNo, I don\\\\u2019t think so.  Nothing more than casual.  At least, as far as I know.\\\\u201d\\\\n\\\\n Then Pam stepped out of the office and walked to where Jim and Paulina were.  Pam walked toward Jim and said, \\\\u201cJim, I wonder if I could see you inside.\\\\u201d\\\\n\\\\n \\\\u201cSure, Pam.  Something wrong?\\\\u201d\\\\n\\\\n \\\\u201cNo, Jim.  Nothing bad.  I just need to speak to you for a minute.\\\\u201d\\\\n\\\\n Jim walked to where Pam was standing.  Pam said, \\\\u201cPaulina, you just keep washing.  Jim will be back in a moment.\\\\u201d\\\\n\\\\n Pam put her arm around Jim while they walked into the office.  Pam told Jim to sit down while she got a couple bottles of Coke.  The stereo in the office was set to a soft rock station.  Roberta Flack and Donny Hathaway.  *The Closer I Get to You*.  Jim listened to it for a minute.  He would listen to some music when he got home.  He hoped that song would play sometime during the evening.  Maybe he would call Candi and put the phone to the speaker and play that song for her.  Or better, maybe Candi would visit his house this evening.  If that would be the case, maybe that song would play while she was there.  Pam stepped into the office with the two bottles of Coke. She gave one of those bottles to Jim.  Then Pam stepped to the stereo and got ready to turn the music down.  The song was still playing.  Jim said to her, \\\\u201cNo, Pam.  Leave it where it\\\\u2019s at.  That\\\\u2019s a beautiful song.\\\\u201d\\\\n\\\\n Pam turned to Jim and said, \\\\u201cOkay, Jim.  If you say so.\\\\u201d\\\\n\\\\n Pam got ready to sit down when she said, \\\\u201cYou, listening to that song.  I\\\\u2019ll bet you\\\\u2019re thinking about Candi, aren\\\\u2019t you?\\\\u201d\\\\n\\\\n\\\\u201cYes, Pam.  I guess you could say I am.\\\\u201d\\\\n\\\\n \\\\u201cI know, Jim.  I\\\\u2019ve also been thinking about someone else.  You.  And your mother.\\\\u201d\\\\n\\\\n \\\\u201cHow so?\\\\u201d\\\\n\\\\n \\\\u201cI understand you got a phone call from a girl last night.\\\\u201d\\\\n\\\\n Jim turned around and got a look at Paulina.  She was now washing another car.  Then Jim said, \\\\u201cWord sure does get around.\\\\u201d\\\\n\\\\n \\\\u201cIt does,\\\\u201d Pam said.\\\\n\\\\n Then Jim asked Pam, \\\\u201cWhere did you hear that?\\\\u201d\\\\n\\\\n Pam answered, \\\\u201cI spoke to your mother this morning.\\\\u201d\\\\n\\\\n Then Jim told Pam about the details about the phone call.  He said, \\\\u201cSome girl who I don\\\\u2019t know but who claims she knows me calls me, won\\\\u2019t tell me who she is or how she got my number, and who wants to meet me after school\\\\u2019s out for the holidays.  Does that just about cover it?\\\\u201d\\\\n\\\\n Then Pam asked Jim, \\\\u201cDoesn\\\\u2019t that strike you as a little strange?\\\\u201d\\\\n\\\\n Jim answered, \\\\u201cI suppose it does.\\\\u201d\\\\n\\\\n \\\\u201cI know it does.  Especially if she does not tell you who she is or why she wants to have any communication with you.\\\\u201d\\\\n\\\\n \\\\u201cI hope she does call again because I wish to find out who she is and how she knows me.\\\\u201d\\\\n\\\\n Then Pam shifted to another subject.  \\\\u201cJim, is your mother okay?\\\\u201d\\\\n\\\\n \\\\u201cShe is.  Why would you ask?\\\\u201d\\\\n\\\\n \\\\u201cI\\\\u2019ve seen her in church.  And I know she\\\\u2019s dating someone.\\\\u201d\\\\n\\\\n Jim said, \\\\u201cI know she is.  She doesn\\\\u2019t bring him by the house.  I haven\\\\u2019t met him.  I don\\\\u2019t think it\\\\u2019s anything serious.  Sometimes she doesn\\\\u2019t get home until quite late.  Then again, I do keep some weird hours between studying and working here.  Maybe I\\\\u2019m out of the house quite a bit.\\\\u201d\\\\n\\\\n \\\\u201cYes, Jim.  And you are doing a good job.  Both at school and for me.\\\\u201d\\\\n\\\\n \\\\u201cThanks, Pam.\\\\u201d\\\\n\\\\n \\\\u201cJim, is it just me or has your mother gained a bit of weight?\\\\u201d\\\\n\\\\n \\\\u201cMom does eat enough to feed a mule.  I must admit I do, too.  Maybe she has gained a little weight.\\\\u201d\\\\n\\\\n Pam began to ask if Wendy was pregnant.  But she didn\\\\u2019t ask.  Instead, she said, \\\\u201cOkay, Jim.  Don\\\\u2019t say anything about that to her.  We won\\\\u2019t hurt her feelings.  Just forget I asked.\\\\u201d\\\\n\\\\n \\\\u201cYeah, Pam.  Sure.\\\\u201d\\\\n\\\\n Pam excused Jim to continue washing cars.  He got ready to finish the car he was working on.  Paulina was playing a radio at the car she was working on.  The radio was set to an oldies station, playing Andy Williams.  *On the Street Where You Live*.  Jim thought it was a nice song.  It made him think not only of Candi, but of Bethany Street, and the neighborhood.  It made him think of his mother, his friends, and their parents.  And of Gilmore Auto Sales.  And of Charlotte, North Carolina. \\\\n\\\\n Paulina asked, \\\\u201cWhat did you and my mother talk about?\\\\u201d\\\\n\\\\n Jim answered, \\\\u201cNot much.  Just about what you and I talked about a while ago.  About that phone call, that girl, and Mom.\\\\u201d\\\\n\\\\n \\\\u201cOh, I see.\\\\u201d\\\\n\\\\n Then Jim got a look at the car Paulina was washing.  It was rather big.  It was white with a red interior and had roof panels.  \\\\u201cWhat kind of car is that?\\\\u201d Jim asked.\\\\n\\\\n \\\\u201cMom just got it yesterday.  It\\\\u2019s an Oldsmobile Toronado.  Mom said it\\\\u2019s a 1978 model.\\\\u201d\\\\n\\\\n \\\\u201cIt\\\\u2019s big but it looks nice.\\\\u201d\\\\n\\\\n Then Paulina pointed to two other cars and said, \\\\u201cMom also got that blue Cadillac and gray Mustang.  Both are 1976.\\\\u201d\\\\n\\\\n \\\\u201cWho brought them?\\\\u201d Jim asked.\\\\n\\\\n Paulina answered, \\\\u201cSome automobile wholesale guy in Charlotte who said he was retiring and had three cars left.  He needed to get rid of them and told Mom she could have them to sell.\\\\u201d\\\\n\\\\n That was when they heard the blast of a car horn.  Jim and Paulina both turned to face Mint Street.  They saw a big gray Dodge with a red roof pass the car lot.  Hands waved out of the windows.  Then Jim and Paulina saw who they were.  Mark and Alex were in the front seat.  And in the back seat, Simon, Sydney and Candi.  And driving the car, their mother, Autumn Cavanaugh (Autumn was now driving a late seventies model Dodge).  They also shouted \\\\u201cHi\\\\u201d to Jim and Paulina.  Autumn was driving toward uptown.\\\\n\\\\n Jim and Paulina kept at it for another hour, washing automobile after automobile.  Finally, at around seven, Pam turned off the lights and closed the car lot. \\\\n\\\\nPam offered to drive Jim home.  He happily accepted.  When Jim got home, the lights were still on, including the porch light.  Pam watched Jim go inside.  Wendy stepped outside and waved at Pam and Paulina.  They waved back. \\\\n\\\\n When Jim got inside, he saw his dinner plate on the table.  On it, hamburger steak with Heinz 57, fries with ketchup, salad with blue cheese dressing, onion rings, a bread roll, and a glass of iced tea.  As Jim ate, Wendy asked him how his day went.  He said, \\\\u201cIt went pretty good.  Paulina and Pam both asked me about that phone call I got last night.\\\\u201d\\\\n\\\\n \\\\u201cI see.  I\\\\u2019ll bet they found that pretty strange also,\\\\u201d Wendy said.\\\\n\\\\n\\\\u201cYes, Mom.  They did.\\\\u201d\\\\n\\\\n \\\\u201cJim, did Pam and Paulina ask anything about me?\\\\u201d\\\\n\\\\n \\\\u201cWhat do you mean, Mom?\\\\u201d\\\\n\\\\n \\\\u201cI know they have been looking at me and so has everybody else.\\\\u201d\\\\n\\\\n \\\\u201cThey did ask about you.  I promised them I wouldn\\\\u2019t say anything to you because they felt it may hurt your feelings.\\\\u201d\\\\n\\\\n \\\\u201cJim, just come out with it.  If it does hurt my feelings, no one will know.\\\\u201d\\\\n\\\\n Jim said, \\\\u201cThey wondered if you were pregnant.\\\\u201d\\\\n\\\\n Wendy said, \\\\u201cI only told Pam I had a doctor\\\\u2019s appointment.  That\\\\u2019s all.\\\\u201d\\\\n\\\\n \\\\u201cIt\\\\u2019s okay, Mom.  I told them that I didn\\\\u2019t think you were.  They knew you were dating.  I knew it wasn\\\\u2019t anything more than that.\\\\u201d\\\\n\\\\n And with that, the subject was dropped.  Jim told her dinner was good.  He washed up the dishes, and then he went upstairs to his room.\\\\n\\\\n\\\\ud83d\\\\ude0a\\\\n\\\\nJim went to his room to see a car magazine on his bed.  It was a *Road and Track*, and it had three racing cars from the United Kingdom on the cover, a Ferrari and a Jaguar and a Porsche.  Some evenings, Jim would watch TV in his room.  But he decided he would just listen to some music and read his magazine since there was nothing good on TV this evening. \\\\n\\\\n Jim lied down on his bed and read his magazine.  About a half an hour into his magazine, the phone rang.  Jim figured it was for Wendy.  Wendy answered the phone.  Then she shouted from downstairs, \\\\u201cJim!  Phone for you!  It\\\\u2019s Candi!\\\\u201d\\\\n\\\\n Jim walked into the hallway and grabbed the cordless phone from the small hallway table.  He took the phone and went back to his room.  He said, \\\\u201cHi, Candi.  How has your day been?\\\\u201d\\\\n\\\\n \\\\u201cMine has been well, sweetheart.  How has yours been?\\\\u201d\\\\n\\\\n \\\\u201cIt\\\\u2019s been good.  I haven\\\\u2019t been home long.  I just got through eating dinner.\\\\u201d\\\\n\\\\n \\\\u201cThat\\\\u2019s good.  I had classes today.  I just got through eating some chicken casserole, breadsticks and salad for dinner.\\\\u201d\\\\n\\\\n \\\\u201cThat sounds good,\\\\u201d Jim said.\\\\n\\\\n Then Candi said, \\\\u201cJim, I was on Mint Street earlier.  I saw you and Paulina having a good time washing cars at Gilmore Auto Sales.\\\\u201d\\\\n\\\\n \\\\u201cYes, we did.  Then again, we always enjoy our job.\\\\u201d\\\\n\\\\n \\\\u201cI\\\\u2019m glad you do.  I am glad to see you and Paulina and Pam get along really well.\\\\u201d\\\\n\\\\nThen, Jim heard that song he was listening to earlier at Gilmore Auto Sales.  He said, \\\\u201cCandi, I want you to listen to something on the radio.  A song I heard earlier.\\\\u201d\\\\n\\\\n Jim put the phone up to the radio speaker so Candi could hear the song.  He left it there for about three minutes.  Then Jim said to her, \\\\u201cThat song made me think of you.\\\\u201d\\\\n\\\\n \\\\u201cJim, that is so beautiful.\\\\u201d\\\\n\\\\n \\\\u201cJust like you, sweetie.\\\\u201d\\\\n\\\\n \\\\u201cJim, you are so sweet.\\\\u201d\\\\n\\\\n Jim and Candi spoke to each other for about five more minutes.  Candi told Jim about college.  She told him about her classes and how she was doing.  She was now taking courses in math and science.  Candi was anxious to get started on studying nursing.  Jim told Candi about school and how he was doing.  Considering this was Jim\\\\u2019s first year of high school and he was dealing with some more challenging courses, he was doing well.  On his last report card, Jim made five A\\\\u2019s and one B.  Jim made a few more friends, but he hung out mostly with those in the neighborhood.  They were very understanding to one another.\\\\n\\\\n Jim also told Candi about English class.  He wrote some poems in that class, and he read some of them to Candi.  She was extremely impressed.\\\\n\\\\n Not once during that phone call did Jim mention the phone call from the girl who said she knew him.  Right now, he decided to just let it drop.\\\\n\\\\n Jim and Candi ended the phone call.  They said \\\\u201cI love you\\\\u201d to one another.\\\\n\\\\n\\\\ud83d\\\\ude0a\\\\n\\\\nThat Wednesday saw school let out for the holiday break.  The day went by quickly.  After school, Jim went straight home.  When he got home, Wendy was there, waiting on him.  Jim offered to make a pizza for dinner.  Wendy accepted.  Jim took out a box of pizza crust mix, a jar of pizza sauce, pepperoni, a jar of mushrooms, some mozzarella and cheddar cheese, and he sliced a green pepper.  Jim baked the pizza for a few minutes.  It turned out really good.  It was the first time Jim had made a pizza from scratch.  He thought he did a good job.  Wendy agreed.  Jim liked to cook and was always happy to do it when he wanted to.\\\\n\\\\n On Friday afternoon, Wendy asked Jim to go with her to do some last-minute Christmas shopping.  Jim agreed to join her.  He wanted to get something for Candi, and for his friends.  They wanted to get everything done this evening.\\\\n\\\\n Wendy drove to the Park Road Shopping Center.  At the time, there was a J.C. Penney store there, along with a Woolworth.  Jim and Wendy went to both stores.  Jim had already got various three-dollar gifts for all the girls except Candi.  Jim still needed to get gifts for the guys.  Jim chose Hot Wheels cars for the guys (in turn, Jim usually got Hot Wheels cars from the guys, so he felt it was the least he could do).  Jim got the guys three cars each because he did not want them to feel short-changed since he got gifts for the girls at three dollars each (each car was about a dollar each).  He got those at Woolworth.\\\\n\\\\n Then Jim went to J.C. Penney.  He still had to find something for Candi.  Jim found a cute teddy bear with a heart on it.  The bear itself was orange.  Candi loved teddy bears so he felt this was something she would like and would make her think of him.  Jim saw he had more than enough money to get it, so he did.  Wendy told Jim not to get her anything, but he did anyway.  He got her a small box of chocolates.  He got that at Eckerd\\\\u2019s, which was also in the Park Road Shopping Center, just a short walk from J.C. Penney.\\\\n\\\\n Jim met Wendy in the parking lot.  After they put their stuff in the car, Wendy drove to a nearby McDonald\\\\u2019s.  Jim ate a Big Mac and Wendy had a fish sandwich.  They split a large order of fries, and both drank Coke.  Jim asked Wendy how her recent doctor\\\\u2019s appointment went.  Wendy said, \\\\u201cOh, it was nothing.  I have had some stomach trouble lately, but the doctor gave me some medicine for it.\\\\u201d\\\\n\\\\n \\\\u201cI hope there\\\\u2019s no bug going around,\\\\u201d Jim said.\\\\n\\\\n Jim knew Wendy had been throwing up quite a bit, especially in the mornings.  In his own mind, Jim was dismissing the possibility that Wendy was pregnant.  Jim said, \\\\u201cMom, whatever it is, I hope it\\\\u2019s nothing serious.\\\\u201d\\\\n\\\\n Wendy said, \\\\u201cJim, it\\\\u2019s nothing for you to worry about.  Nothing life-threatening, and nothing earth shattering.\\\\u201d\\\\n\\\\n \\\\u201cOkay, Mom.  If you say so.\\\\u201d\\\\n\\\\n \\\\u201cMom, I don\\\\u2019t know who this fellow is you have been dating.  But I hope you\\\\u2019re not letting him take advantage of you.  Don\\\\u2019t let temptation get the better of you.\\\\u201d\\\\n\\\\n Wendy looked at Jim for about a minute, and then she said, \\\\u201cJim, of course not.  We\\\\u2019re just friends and nothing more.  We do spend some time at his house.\\\\u201d\\\\n\\\\n Wendy usually drove her car to the guy\\\\u2019s house.  After the date, she usually drove herself back to the house.  Jim did want to ask his mother what she and the guy did on their dates, but he didn\\\\u2019t.  If Wendy said there was nothing serious between her and her date, then so be it.  Jim usually told Wendy what he and Candi did on their dates, and when they spent time together.  Wendy trusted Jim a lot, and she was usually understanding.  Wendy knew Jim and Candi had every intention of saving themselves for marriage.  Wendy seemed very pleased about that.  She never wanted to see Jim get hurt.  And she never wanted to see Jim do anything that would hurt him in any way.  She knew he had dreams and ambitions, and she wanted to see him reach them.\\\\n\\\\n Wendy and Jim started for home.  Jim made a request.  \\\\u201cMom, would it be possible to drive past Gilmore Auto Sales?\\\\u201d\\\\n\\\\n \\\\u201cSure, Jim.  I suppose that\\\\u2019s a can do.\\\\u201d\\\\n\\\\n \\\\u201cPam decked the place out with Christmas lights and I want to see them.\\\\u201d\\\\n\\\\n Wendy drove on some side streets until she finally reached Mint Street.  She drove rather slowly on Mint Street, and then she reached Gilmore Auto Sales.  Sure enough, the place was lit up.  There were lights in almost every color of the rainbow.  Jim and Wendy both thought it was pretty, a sight to make one\\\\u2019s spirits tingle!  Jim thought Pam and Paulina did a pretty good job.  Jim was not working when they hung up the lights.\\\\n\\\\n Jim and Wendy arrived home.  Jim and Wendy spent the better part of two hours wrapping the presents they bought.  After they got done, the phone rang.  Whoever was calling must have timed that right.  Jim answered the phone.  He figured that girl must be the one calling.  It turned out it wasn\\\\u2019t.  Pam was on the other end.  She said, \\\\u201cHi, Jim.  I understand you and your mother went past the car lot this evening.\\\\u201d\\\\n\\\\n Jim said, \\\\u201cYes, Pam.  As a matter of fact, we did.\\\\u201d\\\\n\\\\n \\\\u201cDid you and your mother get your Christmas shopping done?\\\\u201d\\\\n\\\\n \\\\u201cYes, Pam.  We did.  We were on our way home from Park Road Shopping Center when we decided to go past the place.\\\\u201d\\\\n\\\\n Pam asked Jim, \\\\u201cWhat did you two think?\\\\u201d\\\\n\\\\n Jim answered, \\\\u201cPam, you and Paulina did great.\\\\u201d\\\\n\\\\n \\\\u201cThanks, Jim.  And there\\\\u2019s another reason why I\\\\u2019m calling.\\\\u201d\\\\n\\\\n \\\\u201cSure, Pam.  What is it?\\\\u201d\\\\n\\\\n Pam said, \\\\u201cJim, if you wouldn\\\\u2019t mind, please come in about an hour early in the morning.  There\\\\u2019s something I would like you and Paulina to do for me.\\\\u201d\\\\n\\\\n \\\\u201cOkay, Pam.  I can come in at eight.\\\\u201d\\\\n\\\\n Then Pam said, \\\\u201cI\\\\u2019ll tell you two what it is when you get here in the morning.\\\\u201d\\\\n\\\\n \\\\u201cOkay, Pam.  I\\\\u2019ll see you and Paulina tomorrow morning at eight.\\\\u201d\\\\n\\\\n\\\\ud83d\\\\ude0a\\\\n\\\\nJim went to bed around nine.  He had to be up at around seven the next morning so he could be at Gilmore Auto Sales at eight.  Whatever Pam wanted Jim and Paulina to do, it must have been important.  Jim enjoyed working for Pam, so he was only too happy to come in early if he needed to.  Maybe Pam wanted to get in some big sales before the Christmas holiday. \\\\n\\\\nThe next morning, Jim got up a few minutes before seven.  He got a shower and fixed himself a breakfast of toast, yogurt and Coke.  Wendy soon woke up and joined Jim in the kitchen.  Wendy fixed her some toast and a cup of coffee.  After Wendy ate breakfast, she went upstairs to get dressed.  After Wendy got upstairs, the doorbell rang.  Jim answered it.  Pam and Paulina showed up.  Jim took Pam and Paulina into the kitchen.  Jim fixed Pam a cup of coffee and Paulina a cup of Coke.  Jim also made both of them some toast.  Wendy soon showed up in the kitchen.  Wendy asked Pam and Paulina why they were there, and Pam said, \\\\u201cWendy, I called Jim last night and told him to come in at eight this morning.  I have something important I need him and Paulina to do.\\\\u201d\\\\n\\\\n \\\\u201cI guess it\\\\u2019s okay with me.\\\\u201d\\\\n\\\\n \\\\u201cOkay, then.  I guess we best get going.\\\\u201d\\\\n\\\\n Jim, Pam and Paulina left the house and headed for Gilmore Auto Sales.  On the way, Paulina asked Jim, \\\\u201cWhat did you and your mother think of those Christmas lights?\\\\u201d\\\\n\\\\n \\\\u201cThey looked pretty.  I told Mom to drive by the car lot after we got our Christmas shopping done last night.\\\\u201d\\\\n\\\\n \\\\u201cWhere did you two go last night?\\\\u201d Paulina asked.\\\\n\\\\n Jim answered, \\\\u201cPark Road Shopping Center.  We went to Eckerd\\\\u2019s, J.C. Penney and Woolworth.  Then we ate at McDonald\\\\u2019s.\\\\u201d\\\\n\\\\n \\\\u201cSounds good.  What did you have?\\\\u201d\\\\n\\\\n \\\\u201cI had a Big Mac and fries.\\\\u201d\\\\n\\\\n Then Pam asked Jim, \\\\u201cHave you heard from that girl lately?\\\\u201d\\\\n\\\\n Jim answered, \\\\u201cNo, I haven\\\\u2019t.  But I guess I\\\\u2019ll be hearing from her soon. I do have questions and I really do need some answers.\\\\u201d\\\\n\\\\nPam said, \\\\u201cYes, Jim. That\\\\u2019s about the only way you are going to find out anything you need to know about her.\\\\u201d\\\\n\\\\nJim would soon find out about her. Not only would his questions be answered, he would also find out a lot more about her.\\\\n\\\\n\\\\ud83d\\\\ude0a\\\\n\\\\nThey arrived at Gilmore Auto Sales.  Jim saw there were a few more cars than there were Thursday when he last worked.  He also noticed some different ones. \\\\n\\\\nPam soon told Jim and Paulina what she needed done.  \\\\u201cJim and Paulina, I know you two are wondering why you two are here early.  I got some different automobiles.  I need the marquee on the sign changed and I know you are the two who can do just that.\\\\u201d\\\\n\\\\nPam took Jim and Paulina to the storage building behind the office.  In addition to the two wagons used to carry the stuff to clean the cars, Pam had another wagon.  This wagon carried flexible panels for the marquee.  Pam had everything arranged so that the number and letter panels could not be mixed up.  In addition, there were some dollar signs and exclamation marks, and even some smiley faces and special holiday symbols. \\\\n\\\\nPam had Jim pull the wagon to the front of the office.  Jim and Paulina joined Pam in the office.  Pam took two pieces of paper from the desk.  Pam said to them, \\\\u201cJim and Paulina, I need to change the sign outside.  On these two pieces of paper is what I was the sign to say.  One for each side.\\\\u201d\\\\n\\\\nJim and Paulina saw what the pieces of paper said.  On one of them:\\\\n\\\\nHAPPY HOLIDAYS!\\\\n\\\\n1979 PONTIAC TRANS AM\\\\n\\\\nLOW MILES!  $3295\\\\n\\\\nAnd on the other piece of paper:\\\\n\\\\nSEASON\\\\u2019S GREETINGS!\\\\n\\\\n1981 CADILLAC SEVILLE\\\\n\\\\nLOADED!  $4895\\\\n\\\\nPam said, \\\\u201cOkay.  That\\\\u2019s what I want the signs to say.  One for each side.  It doesn\\\\u2019t matter which one you put on what side.  Just get it done.\\\\u201d\\\\n\\\\nJim and Paulina stepped outside.  There were two signs on one side of the lot.  One sign had \\\\u201cGilmore Auto Sales\\\\u201d made out in different colors.  On the bottom of that same sign, the logo for Coke.  Another sign was a marquee.  It had three rows on each side.  Pam used the marquee to advertise automobiles for sale. \\\\n\\\\nPam stepped outside behind Jim and Paulina.  They went back to the storage building.  Jim took, at Pam\\\\u2019s direction, a tall ladder.  Then Pam went back into the office while Jim and Paulina got busy changing the marquee sign.  Jim agreed to use the ladder and change the panels.  Paulina would hand Jim the panels as he needed them.  Jim and Paulina made the decision on which car would be advertised on what side.  They started on the side facing Dilworth.  This side would advertise the Pontiac Trans Am.\\\\n\\\\n Jim climbed up on the ladder.  Paulina watched him on the ground.  Paulina handed Jim panels as he asked for them.  Paulina would tell Jim how to put to each panel in.  She would also tell Jim how far apart to make each word.  Jim started with the top row, the one that would say \\\\u201cHappy Holidays.\\\\u201d  Paulina thought Jim did a good job and caught on quickly.  Now it was on to the second row, the one that would advertise the Pontiac.  Before they could finish that line, there was a blast of a car horn.  It came from a car passing the car lot, going toward uptown.  Jim and Paulina turned toward the passing car.  It was a Mustang, light blue in color.  Jim and Paulina figured it to be about a 1967 model.  There were three people in the car.  They all waved to Jim and Paulina, and they shouted, \\\\u201cHi there, you two!\\\\u201d  Jim and Paulina both waved back.  One of those people, a teenage girl, stuck her head out the window as she waved.  Jim asked Paulina, \\\\u201cDo we know those people?\\\\u201d\\\\n\\\\n Pam stepped outside as Paulina answered, \\\\u201cNo, Jim.  I don\\\\u2019t think so.  They don\\\\u2019t look familiar to me.\\\\u201d\\\\n\\\\n Jim said, \\\\u201cI don\\\\u2019t know them, either.  They don\\\\u2019t look familiar to me.\\\\u201d\\\\n\\\\n Paulina asked, \\\\u201cMom, have we sold a Mustang lately, about a 1967 model?\\\\u201d\\\\n\\\\n \\\\u201cNo, I don\\\\u2019t think so.  The last Mustang I sold was about five weeks ago, a 1972.  And we still have that 1976 Mustang.\\\\u201d\\\\n\\\\n Pam got a look at the marquee and said, \\\\u201cNice job so far, you two.\\\\u201d\\\\n\\\\n Pam turned around and started back for the office.  About halfway, she stopped and turned around and asked Jim and Paulina, \\\\u201cDid you two know those folks in that Mustang that just passed by?\\\\u201d\\\\n\\\\n Jim said, \\\\u201cNo, Pam.  We don\\\\u2019t think so.\\\\u201d\\\\n\\\\n Then Paulina said, \\\\u201cThey didn\\\\u2019t look familiar to us.\\\\u201d\\\\n\\\\n Pam headed back to the office, and Jim and Paulina went back to work.  They finished that one side.  Then they went to the other side, facing uptown.  This side would advertise the Cadillac Seville.  Once again, Jim did a good job.  Just as they got through, Pam opened the car lot. \\\\n\\\\n It seemed to be a good day at Gilmore Auto Sales.  Pam asked Jim to help sell the cars.  During the four-hour working period, they managed to sell four cars.  The Pontiac and the Cadillac were not sold.  Jim and Paulina were hoping whoever was driving that Mustang would drive by the place.  They wanted to get a good look at them.  That did not happen.\\\\n\\\\n\\\\ud83d\\\\ude0a\\\\n\\\\nA little after one, Pam closed the car lot.  Just as she did, Wendy drove into the lot to pick up Jim.  Audrey and Julie were with her. \\\\n\\\\nWendy drove to the Eckerd Drug Store at the corner of Trade and Tryon Streets.  Wendy parked on the side of Tryon Street.  Jim wanted to go into Eckerd\\\\u2019s with Wendy and Audrey, but Julie grabbed Jim by his arm, and she said, \\\\u201cJim, please come with me to the record store.  There\\\\u2019s something we need to check out.\\\\u201d\\\\n\\\\nJim and Julie walked to a record store just a few stores past Eckerd\\\\u2019s.  On the way to the record store, they heard an oldies song coming from a nearby car.  The Coasters.  *That Charlie Brown\\\\u2026he\\\\u2019s gonna get caught!*  Jim asked Julie, \\\\u201cWhy are we going to the record store?\\\\u201d\\\\n\\\\nJulie answered, \\\\u201cThere\\\\u2019s a new record I need to try and find.  I heard the song on the radio yesterday and it sounded good.  I just need someone to go in with me.\\\\u201d\\\\n\\\\n Jim and Julie stepped into the record store.  A song was playing.  It was from a group by the name of DeBarge.  *You Wear It Well*.  As soon as Julie heard it, she said, \\\\u201cThat\\\\u2019s it, Jim.  That\\\\u2019s the song.\\\\u201d\\\\n\\\\n \\\\u201cJulie, I know what you mean.  That sounds like a good song.\\\\u201d\\\\n\\\\n Jim and Julie both found a record of that song.  Just as they did, two girls walked to where Jim and Julie were.  One of those girls said, \\\\u201cHi, Julie.  How\\\\u2019s it going?\\\\u201d\\\\n\\\\n Julie knew the girls from school.  She said to them, \\\\u201cHi, girls.  It\\\\u2019s going okay.  I found that song I was looking for.\\\\u201d\\\\n\\\\n One of those girls asked, \\\\u201cJulie, who\\\\u2019s your cute friend there?\\\\u201d\\\\n\\\\n Julie answered, \\\\u201cA friend of mine.  Jim Faulkner.  We live next to each other.  He works at that used car lot on Mint Street.\\\\u201d\\\\n\\\\n The two girls said together, \\\\u201cHi, gorgeous!\\\\u201d\\\\n\\\\n Jim waved at them.  Then Julie said, \\\\u201cGirls, bad news.  He\\\\u2019s spoken for.\\\\u201d\\\\n\\\\n And with that, the girls left.  Julie said, \\\\u201cDon\\\\u2019t worry, Jim.  Just some girls I know from school.  Let\\\\u2019s pay for our records and let\\\\u2019s head back to Eckerd\\\\u2019s to meet our mothers.\\\\u201d\\\\n\\\\n After Jim and Julie paid for their records, they headed back to Eckerd\\\\u2019s.  When they got there, Wendy and Audrey were still in the store.  Jim and Julie decided they did not need anything from Eckerd\\\\u2019s, so they went back to Wendy\\\\u2019s Volvo.\\\\n\\\\n On the way back home, Julie said to Jim, \\\\u201cI see Pam finally decided to change the sign.\\\\u201d\\\\n\\\\n Jim said, \\\\u201cActually, Paulina and I did that.\\\\u201d\\\\n\\\\n \\\\u201cLooks like you two did a very good job,\\\\u201d Audrey said.\\\\n\\\\n Then Jim said, \\\\u201cSomething strange happened.  While Paulina and I were changing the sign, three people passed us in a Mustang, and they waved at us.\\\\u201d\\\\n\\\\n \\\\u201cWhat did the Mustang look like?\\\\u201d Julie asked.\\\\n\\\\n Jim answered, \\\\u201cA 1967 Mustang.  Light blue in color.  There were three people in it.  One, who looked like a teenage girl, stuck her head out the window.\\\\u201d\\\\n\\\\n Julie looked at Jim strangely, and she said, \\\\u201cThat\\\\u2019s funny.  I don\\\\u2019t know anyone with a car like that.\\\\u201d\\\\n\\\\n \\\\u201cJim, do you have any idea what those three looked like?\\\\u201d Wendy asked.\\\\n\\\\n \\\\u201cA man and a woman, both about your age.  And a teenage girl, I\\\\u2019d say around thirteen.\\\\u201d\\\\n\\\\n Audrey said, \\\\u201cThose descriptions could fit anyone.\\\\u201d\\\\n\\\\nJim said, \\\\u201cI hope I see them again.  I would like to get a better look at them.\\\\u201d\\\\n\\\\n Then Wendy asked, \\\\u201cJim, you don\\\\u2019t think the girl in that Mustang is the one who called you and didn\\\\u2019t tell you who she was?\\\\u201d\\\\n\\\\n Jim thought about it for about a minute.  Then he said, \\\\u201cMom, I don\\\\u2019t know.  I guess I didn\\\\u2019t think much about that.\\\\u201d\\\\n\\\\n\\\\ud83d\\\\ude0a\\\\n\\\\nTuesday of that week was Christmas Eve.  Jim went to work at Gilmore Auto Sales.  Paulina was also working.  Pam kept the car lot closed for the day.  There were also some additions.  Pam asked Wendy, Audrey, Malachi and Julie to work some at the car lot.  Pam needed to clean out the office and she needed some extra help.  Wendy and Audrey took down the Christmas lights since no one would be at the car lot until the following Monday (Pam decided to close the car lot for the Christmas week).  Pam got the younger ones to help her clean out the office.  Jim and Malachi helped Pam dispose of old paperwork and old receipts from past automobile sales that had been piling up and cluttering up the office for some time.  Pam, Jim and Malachi put the old papers in big black Hefty bags.  Paulina and Julie were assigned to dust the office furniture, clean the small microwave oven, clean out the small refrigerator (and put in a fresh box of baking soda), and they cleaned out the restroom and the toilet. \\\\n\\\\n After Jim and Malachi got the old paperwork and trash into the bags, they took them out of the office.  Jim and Malachi got Julie to help them get the big heavy bags out to the curb.  On the way, Jim said, \\\\u201cI wonder if that girl is gonna call again.  And if she does, I hope to find out who she is.\\\\u201d\\\\n\\\\n Julie said, \\\\u201cI\\\\u2019m sure she will.  It\\\\u2019s just not right for her to call you and not tell you who she is.\\\\u201d\\\\n\\\\n Then Malachi said, \\\\u201cAnd you just may wanna find out how she knows you and how she found out about you.\\\\u201d\\\\n\\\\n When they got to the curb, they got a look at the Charlotte skyline.  It was barely visible through the fog.  The sky was very cloudy, and there was a chill in the air.  It seemed like this winter was about to be yet another cold one.  Maybe there would be a major winter storm this winter.  But right now, it was not cold enough for snow.  Everyone hoped for snow for Christmas.  The last time it snowed on Christmas in Charlotte was way back in 1947.  That was thirty-eight years ago. \\\\n\\\\n They got the bags to the curb and ready for pickup.  Jim said, \\\\u201cI sure hope she calls again.  Maybe the mystery will be revealed.  I hope to find out who she is.\\\\u201d\\\\n\\\\n What Jim did not know was this.  She would call again.  And he would find out who she was\\\\u2026and a lot more!\\\\n\\\\n\\\\ud83d\\\\ude0a\\\\n\\\\nMonday came.  That morning, Jim went to Eastland Mall, as he planned.  Wendy drove him there.  Charmaine and Jodi went with them.  Jim was ready to meet this girl.  Jim sat at a table in front of Chick-fil-A.  Jodi sat with him.  They both ate a chicken sandwich and drank a cup of Coke.  When the girl called, she asked Jim to meet him around eleven o\\\\u2019 clock.  Jim and Jodi sat and waited.  Eleven o\\\\u2019 clock came.  Nothing.  No sign of her.  Jim and Jodi sat and waited for another hour. A little after noon, Jim and Jodi finally decided to give up and leave Chick-fil-A.  They met Wendy and Charmaine in front of Belk.  Then they went home.  Maybe the girl chose not to show up.  If she did call Jim again, he decided he would not say anything to her about not showing up.\\\\n\\\\n Christmas turned out to be pretty good.  Jim got a new color TV set for his bedroom, along with some die-cast metal cars and some cassette tapes.\\\\n\\\\n As the week progressed, Wendy took Jim to the parking lot of an abandoned department store on Wilkinson Boulevard.  Wendy taught Jim how to drive.  At this point, Jim had a learner\\\\u2019s permit.  Wendy did not limit Jim\\\\u2019s learning to drive to the parking lot of that abandoned department store.  She did let Jim drive some in the neighborhood, and in some other nearby neighborhoods.  Jim eventually got to drive on Charlotte streets.  He did start out rough, but he got better with time.  By the first week of 1986, Jim would do well enough to get a driver\\\\u2019s license.\",\\n            \"send_replies\": true,\\n            \"spoiler\": false,\\n            \"stickied\": false,\\n            \"subreddit\": \"creativewriting\",\\n            \"subreddit_id\": \"t5_2r69u\",\\n            \"subreddit_subscribers\": 217426,\\n            \"subreddit_type\": \"public\",\\n            \"suggested_sort\": \"confidence\",\\n            \"thumbnail\": \"self\",\\n            \"title\": \"Friends and Family (Chapter 19) Part 2\",\\n            \"total_awards_received\": 0,\\n            \"treatment_tags\": [],\\n            \"upvote_ratio\": 1.0,\\n            \"url\": \"https://www.reddit.com/r/creativewriting/comments/t2t2bm/friends_and_family_chapter_19_part_2/\",\\n            \"whitelist_status\": \"all_ads\",\\n            \"wls\": 6\\n        },\\n        {\\n            \"all_awardings\": [],\\n            \"allow_live_comments\": false,\\n            \"author\": \"Financial_Board_9010\",\\n            \"author_flair_css_class\": null,\\n            \"author_flair_richtext\": [],\\n            \"author_flair_text\": null,\\n            \"author_flair_type\": \"text\",\\n            \"author_fullname\": \"t2_ifollpk9\",\\n            \"author_is_blocked\": false,\\n            \"author_patreon_flair\": false,\\n            \"author_premium\": false,\\n            \"awarders\": [],\\n            \"can_mod_post\": false,\\n            \"contest_mode\": false,\\n            \"created_utc\": 1645982698,\\n            \"domain\": \"self.Financial_Board_9010\",\\n            \"full_link\": \"https://www.reddit.com/r/u_Financial_Board_9010/comments/t2t27e/technology_and_modernity_in_saudi_arabia/\",\\n            \"gildings\": {},\\n            \"id\": \"t2t27e\",\\n            \"is_created_from_ads_ui\": false,\\n            \"is_crosspostable\": true,\\n            \"is_meta\": false,\\n            \"is_original_content\": false,\\n            \"is_reddit_media_domain\": false,\\n            \"is_robot_indexable\": true,\\n            \"is_self\": true,\\n            \"is_video\": false,\\n            \"link_flair_background_color\": \"\",\\n            \"link_flair_richtext\": [],\\n            \"link_flair_text_color\": \"dark\",\\n            \"link_flair_type\": \"text\",\\n            \"locked\": false,\\n            \"media_only\": false,\\n            \"no_follow\": true,\\n            \"num_comments\": 0,\\n            \"num_crossposts\": 0,\\n            \"over_18\": false,\\n            \"permalink\": \"/r/u_Financial_Board_9010/comments/t2t27e/technology_and_modernity_in_saudi_arabia/\",\\n            \"pinned\": false,\\n            \"retrieved_on\": 1645982708,\\n            \"score\": 1,\\n            \"selftext\": \"In the modern age, where a country must keep up to date on science and technology if it is to have a hope of keeping up with the western world, Saudi Arabia is unlike many other Islamic countries.\",\\n            \"send_replies\": true,\\n            \"spoiler\": false,\\n            \"stickied\": false,\\n            \"subreddit\": \"u_Financial_Board_9010\",\\n            \"subreddit_id\": \"t5_5nelsd\",\\n            \"subreddit_subscribers\": 0,\\n            \"subreddit_type\": \"user\",\\n            \"suggested_sort\": \"qa\",\\n            \"thumbnail\": \"self\",\\n            \"title\": \"Technology and Modernity in Saudi Arabia\",\\n            \"total_awards_received\": 0,\\n            \"treatment_tags\": [],\\n            \"upvote_ratio\": 1.0,\\n            \"url\": \"https://www.reddit.com/r/u_Financial_Board_9010/comments/t2t27e/technology_and_modernity_in_saudi_arabia/\"\\n        },\\n        {\\n            \"all_awardings\": [],\\n            \"allow_live_comments\": false,\\n            \"author\": \"emilyalive\",\\n            \"author_flair_css_class\": null,\\n            \"author_flair_richtext\": [],\\n            \"author_flair_text\": null,\\n            \"author_flair_type\": \"text\",\\n            \"author_fullname\": \"t2_zd5cf\",\\n            \"author_is_blocked\": false,\\n            \"author_patreon_flair\": false,\\n            \"author_premium\": false,\\n            \"awarders\": [],\\n            \"can_mod_post\": false,\\n            \"contest_mode\": false,\\n            \"created_utc\": 1645982590,\\n            \"domain\": \"self.DentalAssistant\",\\n            \"full_link\": \"https://www.reddit.com/r/DentalAssistant/comments/t2t0s8/any_das_who_have_also_worked_in_a_labas_a_dental/\",\\n            \"gildings\": {},\\n            \"id\": \"t2t0s8\",\\n            \"is_created_from_ads_ui\": false,\\n            \"is_crosspostable\": true,\\n            \"is_meta\": false,\\n            \"is_original_content\": false,\\n            \"is_reddit_media_domain\": false,\\n            \"is_robot_indexable\": true,\\n            \"is_self\": true,\\n            \"is_video\": false,\\n            \"link_flair_background_color\": \"#dadada\",\\n            \"link_flair_richtext\": [\\n                {\\n                    \"e\": \"text\",\\n                    \"t\": \"Education\"\\n                }\\n            ],\\n            \"link_flair_template_id\": \"5841ee68-6419-11ea-b0f3-0e9dd5a1bb99\",\\n            \"link_flair_text\": \"Education\",\\n            \"link_flair_text_color\": \"dark\",\\n            \"link_flair_type\": \"richtext\",\\n            \"locked\": false,\\n            \"media_only\": false,\\n            \"no_follow\": true,\\n            \"num_comments\": 0,\\n            \"num_crossposts\": 0,\\n            \"over_18\": false,\\n            \"parent_whitelist_status\": \"all_ads\",\\n            \"permalink\": \"/r/DentalAssistant/comments/t2t0s8/any_das_who_have_also_worked_in_a_labas_a_dental/\",\\n            \"pinned\": false,\\n            \"pwls\": 6,\\n            \"retrieved_on\": 1645982600,\\n            \"score\": 1,\\n            \"selftext\": \"Hi all! Looking to see if there is anyone out there who has a similar background to me and how it has benefited your career, or your insight into what you enjoy the most in our field.\\\\n\\\\nSo I\\\\u2019m 28, on track to graduate in a year with an associate\\\\u2019s in applied science along with the DA certification + expanded functions. However, I currently work as a processor (learning waxing and finishing now) in a dental lab (removables). I love what I do currently and want to learn as much as I can in the lab before being chairside, possibly learning tooth setting before I graduate if I feel confident enough with my waxes and finishes. \\\\n\\\\nI know I don\\\\u2019t want to be in the lab forever\\\\u2014and I\\\\u2019m wondering if any other DAs have experience as a dental tech as well. If so, is there one you prefer over the other? And with the overlap in skills, has it given you any extra leverage in the job market? Would love to hear anyone\\\\u2019s experience, thanks!! \\\\u263a\\\\ufe0f\",\\n            \"send_replies\": true,\\n            \"spoiler\": false,\\n            \"stickied\": false,\\n            \"subreddit\": \"DentalAssistant\",\\n            \"subreddit_id\": \"t5_3jubf\",\\n            \"subreddit_subscribers\": 3386,\\n            \"subreddit_type\": \"public\",\\n            \"thumbnail\": \"self\",\\n            \"title\": \"Any DAs who have also worked in a lab/as a dental technician here?\",\\n            \"total_awards_received\": 0,\\n            \"treatment_tags\": [],\\n            \"upvote_ratio\": 1.0,\\n            \"url\": \"https://www.reddit.com/r/DentalAssistant/comments/t2t0s8/any_das_who_have_also_worked_in_a_labas_a_dental/\",\\n            \"whitelist_status\": \"all_ads\",\\n            \"wls\": 6\\n        },\\n        {\\n            \"all_awardings\": [],\\n            \"allow_live_comments\": false,\\n            \"author\": \"AfternoonSnack187\",\\n            \"author_flair_css_class\": null,\\n            \"author_flair_richtext\": [],\\n            \"author_flair_text\": null,\\n            \"author_flair_type\": \"text\",\\n            \"author_fullname\": \"t2_jiy8eway\",\\n            \"author_is_blocked\": false,\\n            \"author_patreon_flair\": false,\\n            \"author_premium\": false,\\n            \"awarders\": [],\\n            \"can_mod_post\": false,\\n            \"contest_mode\": false,\\n            \"created_utc\": 1645982541,\\n            \"domain\": \"self.dirtypenpals\",\\n            \"full_link\": \"https://www.reddit.com/r/dirtypenpals/comments/t2t05d/f4f_taking_down_the_glutton_corporation/\",\\n            \"gildings\": {},\\n            \"id\": \"t2t05d\",\\n            \"is_created_from_ads_ui\": false,\\n            \"is_crosspostable\": true,\\n            \"is_meta\": false,\\n            \"is_original_content\": false,\\n            \"is_reddit_media_domain\": false,\\n            \"is_robot_indexable\": true,\\n            \"is_self\": true,\\n            \"is_video\": false,\\n            \"link_flair_background_color\": \"#373c3f\",\\n            \"link_flair_css_class\": \"roleplay\",\\n            \"link_flair_richtext\": [],\\n            \"link_flair_template_id\": \"7c7670ac-00d5-11e6-8766-0ed56c038c65\",\\n            \"link_flair_text\": \"Long Term RP\",\\n            \"link_flair_text_color\": \"light\",\\n            \"link_flair_type\": \"text\",\\n            \"locked\": false,\\n            \"media_only\": false,\\n            \"no_follow\": true,\\n            \"num_comments\": 0,\\n            \"num_crossposts\": 0,\\n            \"over_18\": true,\\n            \"parent_whitelist_status\": \"no_ads\",\\n            \"permalink\": \"/r/dirtypenpals/comments/t2t05d/f4f_taking_down_the_glutton_corporation/\",\\n            \"pinned\": false,\\n            \"pwls\": 0,\\n            \"retrieved_on\": 1645982551,\\n            \"score\": 1,\\n            \"selftext\": \"A year ago, a virus caused a worldwide pandemic that forced people to stay in, people weren\\'t allowed to visit public places, the fear of contracting the virus sent chills to the spine of every single one of them, and because of this, none of them were able to leave their houses ever since. It\\'s been a month ever since it had been announced, we were finally able to roam the open world again, and everyone went back to their normal lives. You were supposed to leave your town in order to live with her years earlier, but due to the pandemic, your plans were cancelled, and you were forced to meet her a few years later. You\\'ve gained a considerable amount of weight, the laziness and lack of exercise was the main reason as to why this had happened, but there was another reason, one that would make people judge you if you ever mentioned it to them. You liked big women, the feeling of your clothes tightening and sinking in to your fat while you eat massive amounts of food felt hot to you, you were an insatiable glutton with a desire to eat as much as possible, pushing yourself to your limits every single night in order to gain a few pounds. When it was time for you to move, you panicked, you felt that she might hate you due to your new, pudgy figure, you even thought that she might badmouth you for being such a fatass. After arriving to her city, you couldn\\'t help but notice but feel different, the people around you looked a bit strange, thats when you bumped into another lady, however, she was the same size as you, she had blue sparkly eyes alongside her blonde hair colour, donning a blac dress that was clearly having trouble keeping her fat in. Momentarily, she apologized before walking off, now that you think about it, all of the women around you seem to be rather chubbier than usual, however you didn\\'t mind it at all, brushing it off as some kind of dream. Finally, you were able to arrive to her home, a two story modern house, surrounded by a gate and a garden in front of it. As you walked by the pathway leading to the door, you couldn\\'t help but feel nervous, what if she hates you? What if she doesn\\'t accept you for being such a blubber ball? You shivered, holding your bags tightly as you pressed on the doorbell, and for a few seconds there was silence. It started to feel like forever as you thought to yourself, thinking of what might happen next, you decided that it\\'s best for you to leave, fearing that she may never accept you, as you turn around, the door behind you opened. Turning your head around, you couldn\\'t help but be amazed, she was about the same size as you, the same height too, it was like looking at a mirror. You phased out for a few seconds, before the fat woman called out to your name, welcoming you with a warm welcome, her body fat serving as a furnace of sorts, you couldn\\'t help but wonder. How did she get so big? What happened? And why is it hot? You heard a chuckle, as the womans says in a soft and gentle voice\\\\n\\\\n\\\\\"Welcome home, sweetie..~\\\\\"\\\\n\\\\nHiya! If you\\'re still reading here then, congratulations! This is a basic summary of my plot, it\\'s a post pandemic weight gain roleplay in which you play the character that\\'s moving in to my home! Naturally there\\'s multiple ways that we could play this out, we could either be sisters, friends or even long distance lovers! I\\'ve gotten rather big since our last meeting, and who knows? Yet there\\'s something about me and the place that we\\'re living with in that makes you uneasy, and it\\'s up to you to finding the key to solving this mystery\\\\n\\\\nI wanted to make it so that it\\'s secretive, my character suspects you of having a fat fetish, while your character pretty much feels the same, suspecting me of having the same kink, and it will eventually lead to them discovering each other\\'s fetish, there\\'s multiple plot points that I wanted to incorporate in this story such as different ways of gaining weight, story and so much more!\\\\n\\\\nI expect you to be at least fairly literate, I don\\'t need you to write out a whole book per reply, I just want someone who doesn\\'t do one-liners, its okay if you\\'re a male playing a female! Long as both characters are female then we should be all good! I wanted this roleplay to be semi-realistic too, I just enjoy seeing the detail when the other stuffs themselves with so much food as their belly churns, groaning in pain as it was placed on top of the table\\\\n\\\\nThis will be long-term, so please if possible, no ghosting, I would understand if something is wrong or if you\\'re busy, that\\'s alright since our real lives are more important than just roleplay, but if you\\'re disliking the roleplay as we continue, please tell me instead of ghosting me\\\\n\\\\nWell, that\\'s all that I have for this prompt right now! Other details will be explained in DMs, please don\\'t leave me simple blank hello messages, introduce yourself! So if this catches your eye and interests you? Hit me up! I hope to see you soon! If you\\'ve been reading up to here, please tell me what your favorite color is upon messaging me!\\\\n\\\\nKinks: Weight Gain, Chugging, Mutual Gain, Force Feeding, Stuckage, Burping, Science Materials, Belly Play, Teasing, Hugging, Wholesome Relationships, Bloating, Tight Clothes, Feeding, Overstuffed Bellies, Overstuffing\\\\n\\\\nLimits: Vore, Scat, Watersports\\\\n\\\\nThanks for Reading!\",\\n            \"send_replies\": true,\\n            \"spoiler\": false,\\n            \"stickied\": false,\\n            \"subreddit\": \"dirtypenpals\",\\n            \"subreddit_id\": \"t5_2sbbv\",\\n            \"subreddit_subscribers\": 429563,\\n            \"subreddit_type\": \"public\",\\n            \"thumbnail\": \"nsfw\",\\n            \"title\": \"[F4F] Taking down the Glutton Corporation\",\\n            \"total_awards_received\": 0,\\n            \"treatment_tags\": [],\\n            \"upvote_ratio\": 1.0,\\n            \"url\": \"https://www.reddit.com/r/dirtypenpals/comments/t2t05d/f4f_taking_down_the_glutton_corporation/\",\\n            \"whitelist_status\": \"no_ads\",\\n            \"wls\": 0\\n        },\\n        {\\n            \"all_awardings\": [],\\n            \"allow_live_comments\": false,\\n            \"author\": \"professionalcorses\",\\n            \"author_flair_css_class\": null,\\n            \"author_flair_richtext\": [],\\n            \"author_flair_text\": null,\\n            \"author_flair_type\": \"text\",\\n            \"author_fullname\": \"t2_jydo5vbj\",\\n            \"author_is_blocked\": false,\\n            \"author_patreon_flair\": false,\\n            \"author_premium\": false,\\n            \"awarders\": [],\\n            \"can_mod_post\": false,\\n            \"contest_mode\": false,\\n            \"created_utc\": 1645982507,\\n            \"domain\": \"self.professionalcorses\",\\n            \"full_link\": \"https://www.reddit.com/r/u_professionalcorses/comments/t2szoe/top_10_data_science_courses_in_bangalore/\",\\n            \"gildings\": {},\\n            \"id\": \"t2szoe\",\\n            \"is_created_from_ads_ui\": false,\\n            \"is_crosspostable\": true,\\n            \"is_meta\": false,\\n            \"is_original_content\": false,\\n            \"is_reddit_media_domain\": false,\\n            \"is_robot_indexable\": true,\\n            \"is_self\": true,\\n            \"is_video\": false,\\n            \"link_flair_background_color\": \"\",\\n            \"link_flair_richtext\": [],\\n            \"link_flair_text_color\": \"dark\",\\n            \"link_flair_type\": \"text\",\\n            \"locked\": false,\\n            \"media_only\": false,\\n            \"no_follow\": true,\\n            \"num_comments\": 0,\\n            \"num_crossposts\": 0,\\n            \"over_18\": false,\\n            \"permalink\": \"/r/u_professionalcorses/comments/t2szoe/top_10_data_science_courses_in_bangalore/\",\\n            \"pinned\": false,\\n            \"post_hint\": \"self\",\\n            \"preview\": {\\n                \"enabled\": false,\\n                \"images\": [\\n                    {\\n                        \"id\": \"TaahW29hczZ5h042Txt9rJGvQkLQfR2Y6CQXU7eMOYY\",\\n                        \"resolutions\": [\\n                            {\\n                                \"height\": 60,\\n                                \"url\": \"https://external-preview.redd.it/UQX_eD6onm0cDzTRipPc7r69NEn0-zHhAUHNf1B_QLU.jpg?width=108&amp;crop=smart&amp;auto=webp&amp;s=0361ce237479508fef5c2cfcab38df23d7f0434b\",\\n                                \"width\": 108\\n                            },\\n                            {\\n                                \"height\": 121,\\n                                \"url\": \"https://external-preview.redd.it/UQX_eD6onm0cDzTRipPc7r69NEn0-zHhAUHNf1B_QLU.jpg?width=216&amp;crop=smart&amp;auto=webp&amp;s=801700c2da9f80a27d8812a0d8748dfb4b9d2141\",\\n                                \"width\": 216\\n                            },\\n                            {\\n                                \"height\": 180,\\n                                \"url\": \"https://external-preview.redd.it/UQX_eD6onm0cDzTRipPc7r69NEn0-zHhAUHNf1B_QLU.jpg?width=320&amp;crop=smart&amp;auto=webp&amp;s=41d18a97231432ca4fc860f071f4291becd736bd\",\\n                                \"width\": 320\\n                            },\\n                            {\\n                                \"height\": 360,\\n                                \"url\": \"https://external-preview.redd.it/UQX_eD6onm0cDzTRipPc7r69NEn0-zHhAUHNf1B_QLU.jpg?width=640&amp;crop=smart&amp;auto=webp&amp;s=26b46591b290c47aaaaeb3774598bd43ee02a4fb\",\\n                                \"width\": 640\\n                            },\\n                            {\\n                                \"height\": 540,\\n                                \"url\": \"https://external-preview.redd.it/UQX_eD6onm0cDzTRipPc7r69NEn0-zHhAUHNf1B_QLU.jpg?width=960&amp;crop=smart&amp;auto=webp&amp;s=284d5170ecece80ca026d7fe22ac5c9d8ec210f5\",\\n                                \"width\": 960\\n                            },\\n                            {\\n                                \"height\": 607,\\n                                \"url\": \"https://external-preview.redd.it/UQX_eD6onm0cDzTRipPc7r69NEn0-zHhAUHNf1B_QLU.jpg?width=1080&amp;crop=smart&amp;auto=webp&amp;s=05333948e0a366a8113134cb9186a99d9ee0faaf\",\\n                                \"width\": 1080\\n                            }\\n                        ],\\n                        \"source\": {\\n                            \"height\": 720,\\n                            \"url\": \"https://external-preview.redd.it/UQX_eD6onm0cDzTRipPc7r69NEn0-zHhAUHNf1B_QLU.jpg?auto=webp&amp;s=4e2a2df29cfa3d98efffce00d85a579923aedbc5\",\\n                            \"width\": 1280\\n                        },\\n                        \"variants\": {}\\n                    }\\n                ]\\n            },\\n            \"retrieved_on\": 1645982518,\\n            \"score\": 1,\\n            \"selftext\": \" ***The*** [Data Scientist Course](https://www.henryharvin.com/blog/data-science-courses-bangalore/)***offers extensive training on the most in-demand Data Science and Machine Learning skills with hands-on exposure to key tools and  aims to extract valuable insights from a vast collection of data. Experience working with analytical tools such as Hadoop, R, SAS, and many more.***\",\\n            \"send_replies\": true,\\n            \"spoiler\": false,\\n            \"stickied\": false,\\n            \"subreddit\": \"u_professionalcorses\",\\n            \"subreddit_id\": \"t5_5w8472\",\\n            \"subreddit_subscribers\": 0,\\n            \"subreddit_type\": \"user\",\\n            \"suggested_sort\": \"qa\",\\n            \"thumbnail\": \"self\",\\n            \"title\": \"Top 10 Data Science Courses in Bangalore\",\\n            \"total_awards_received\": 0,\\n            \"treatment_tags\": [],\\n            \"upvote_ratio\": 1.0,\\n            \"url\": \"https://www.reddit.com/r/u_professionalcorses/comments/t2szoe/top_10_data_science_courses_in_bangalore/\"\\n        },\\n        {\\n            \"all_awardings\": [],\\n            \"allow_live_comments\": false,\\n            \"author\": \"Canuck_Voyageur\",\\n            \"author_flair_css_class\": null,\\n            \"author_flair_richtext\": [],\\n            \"author_flair_text\": null,\\n            \"author_flair_type\": \"text\",\\n            \"author_fullname\": \"t2_3kvulas2\",\\n            \"author_is_blocked\": false,\\n            \"author_patreon_flair\": false,\\n            \"author_premium\": false,\\n            \"awarders\": [],\\n            \"can_mod_post\": false,\\n            \"contest_mode\": false,\\n            \"created_utc\": 1645982440,\\n            \"domain\": \"self.CPTSD\",\\n            \"full_link\": \"https://www.reddit.com/r/CPTSD/comments/t2sysk/does_anyone_else_think_they_have_cptsd_but_not/\",\\n            \"gildings\": {},\\n            \"id\": \"t2sysk\",\\n            \"is_created_from_ads_ui\": false,\\n            \"is_crosspostable\": true,\\n            \"is_meta\": false,\\n            \"is_original_content\": false,\\n            \"is_reddit_media_domain\": false,\\n            \"is_robot_indexable\": true,\\n            \"is_self\": true,\\n            \"is_video\": false,\\n            \"link_flair_background_color\": \"\",\\n            \"link_flair_richtext\": [],\\n            \"link_flair_template_id\": \"229d9926-37c7-11e9-a230-0ec66f4db52a\",\\n            \"link_flair_text\": \"DAE (Does Anyone Else?)\",\\n            \"link_flair_text_color\": \"dark\",\\n            \"link_flair_type\": \"text\",\\n            \"locked\": false,\\n            \"media_only\": false,\\n            \"no_follow\": true,\\n            \"num_comments\": 1,\\n            \"num_crossposts\": 0,\\n            \"over_18\": false,\\n            \"parent_whitelist_status\": \"no_ads\",\\n            \"permalink\": \"/r/CPTSD/comments/t2sysk/does_anyone_else_think_they_have_cptsd_but_not/\",\\n            \"pinned\": false,\\n            \"pwls\": 0,\\n            \"retrieved_on\": 1645982451,\\n            \"score\": 1,\\n            \"selftext\": \"This can be considered a Vent/Rant.  But I am curious about other experiences.\\\\n\\\\nI\\'m reading:\\\\n\\\\n**Emotional Neglect and Complex PTSD By Pete Walker** an 11 page paper linked from the Wiki.  He spends a lot of time talking about the belittling and dismissive emotional neglect, and the toxic effects. He also says that lots of kids don\\'t recognize it as abuse. Most of his examples are \\\\\"active measures\\\\\" by the parent, even if active means \\\\\"turning away and ignoring\\\\\"\\\\n\\\\nI don\\'t know how to characterize what happened to me.   I never felt that I couldn\\'t go to them and ask for help.  But I didn\\'t want to.  Once I waited until a skinned knee had an infection the size of a quarter and hurting a lot before asking my mom.  (Age 6?  Age 8? Old enough I was bathing myself.)  Shows how much I kept to myself that she didn\\'t notice.  It was summer.  I was in shorts all the time.   Another time I was playing with fire, and spilled burning mineral spirits on my hand, resulting in a big blister on my thumb.  After a few hours of trying to tough it out, I brought it to my dad who promptly lanced the blister, put a burn salve on it, and wrapped it.  This felt much better.  I explained how it happened.  Didn\\'t get in trouble for it.  Asked me how I would keep it from happening again.\\\\n\\\\nBut why was I reluctant to take my owies to my parents? Fear of disapproval?  \\\\n\\\\nI don\\'t remember receiving their disapproval for much of anything.   But I don\\'t remember their approval much either.   I think they were pleased when I won a minor prize in a regional science fair in grade 8, but I don\\'t remember them being there. There was an underlying expectation that someone of my smarts should be bringing home more A\\'s and fewer C\\'s, but there weren\\'t incentives for As or disapproval for C\\'s\\\\n\\\\nBoth parents were chronically sick and didn\\'t have a lot of energy. There was always hot supper. Mom bought me clothes until I was 12 and got a paper route.  My allowance stopped.    I was proud of that.  Meant I had taken a step toward independence. Mom helped me with the paper route book keeping.\\\\n\\\\nSo it wasn\\'t like I was totally neglected.  I played chess with my father.  I had toys and puzzles. I don\\'t remember making envious comparisons to other kids.  Every Tuesday from grade 3 onward was Library night.  I was pretty much illiterate at the end of grade 2.  (Class of 50) So it was a stack of books every week, and after school I would perch on the stool in the kitchen and read out loud to my mom while she was making supper.  I remember Dad reading Winnie the Pooh both of us in a big overstuffed floral print chair (18\\\\\" poppies or peonies).  Snuggled beside him, warm and safe.   \\\\n\\\\nBut I don\\'t remember hugs. I don\\'t remember my parents demonstrating affection for each other.\\\\n\\\\nUsing the list elsewhere in the FAQ, I have a lot of the symptoms (41/56) that correlate with CPTSD, but I don\\'t have anything overt happening.  Now that I\\'m aware of what they are, I sense the odd \\\\\"emo flashback\\\\\"  E.g. this morning, before getting up, I felt fear, but no elevated breathing or pulse.  I wanted to hide.  I thought, \\\\\"I need to hide harder\\\\\"  Odd phrasing that.   Writing about it now, I can trigger that a little bit.  Seems to come with a bit of dissociation.  Have I had these all along, but only with learning about this chaotic illness started to notice?  Or is it that now, since I\\'m trying to dig in, that hidden chunks are saying, \\\\\"He\\'s listening. Boy are we going to give him an earful\\\\\"  If the latter they are still trying to remember how to talk.\\\\n\\\\nBut everything is always so vague.  Mist demons.   Nailing fog to the barn door.  Trying to fix the car engine that almost runs right most of the time.\\\\n\\\\nI \\\\\\\\*really\\\\\\\\* wish that I had an owner\\'s manual.\\\\n\\\\nMy first therapy appointment is Wednesday.  I can hardly wait.\",\\n            \"send_replies\": true,\\n            \"spoiler\": false,\\n            \"stickied\": false,\\n            \"subreddit\": \"CPTSD\",\\n            \"subreddit_id\": \"t5_2vvid\",\\n            \"subreddit_subscribers\": 152712,\\n            \"subreddit_type\": \"public\",\\n            \"thumbnail\": \"self\",\\n            \"title\": \"Does anyone else think they have CPTSD but not have flashbacks, emotional storms, nightmares?\",\\n            \"total_awards_received\": 0,\\n            \"treatment_tags\": [],\\n            \"upvote_ratio\": 1.0,\\n            \"url\": \"https://www.reddit.com/r/CPTSD/comments/t2sysk/does_anyone_else_think_they_have_cptsd_but_not/\",\\n            \"whitelist_status\": \"no_ads\",\\n            \"wls\": 0\\n        },\\n        {\\n            \"all_awardings\": [],\\n            \"allow_live_comments\": false,\\n            \"author\": \"rishipatel23\",\\n            \"author_flair_css_class\": null,\\n            \"author_flair_richtext\": [],\\n            \"author_flair_text\": null,\\n            \"author_flair_type\": \"text\",\\n            \"author_fullname\": \"t2_15sysj\",\\n            \"author_is_blocked\": false,\\n            \"author_patreon_flair\": false,\\n            \"author_premium\": false,\\n            \"awarders\": [],\\n            \"can_mod_post\": false,\\n            \"contest_mode\": false,\\n            \"created_utc\": 1645982435,\\n            \"domain\": \"youtu.be\",\\n            \"full_link\": \"https://www.reddit.com/r/india/comments/t2sypq/a_must_watch_explanation_by_professor_of/\",\\n            \"gildings\": {},\\n            \"id\": \"t2sypq\",\\n            \"is_created_from_ads_ui\": false,\\n            \"is_crosspostable\": true,\\n            \"is_meta\": false,\\n            \"is_original_content\": false,\\n            \"is_reddit_media_domain\": false,\\n            \"is_robot_indexable\": true,\\n            \"is_self\": false,\\n            \"is_video\": false,\\n            \"link_flair_background_color\": \"#fcf590\",\\n            \"link_flair_css_class\": \"Politics\",\\n            \"link_flair_richtext\": [\\n                {\\n                    \"e\": \"text\",\\n                    \"t\": \"Politics\"\\n                }\\n            ],\\n            \"link_flair_template_id\": \"77f04f12-7ea0-11e3-ac66-22000a0b8292\",\\n            \"link_flair_text\": \"Politics\",\\n            \"link_flair_text_color\": \"dark\",\\n            \"link_flair_type\": \"richtext\",\\n            \"locked\": false,\\n            \"media\": {\\n                \"oembed\": {\\n                    \"author_name\": \"King\\'s Politics\",\\n                    \"author_url\": \"https://www.youtube.com/channel/UC38dWYpcCXyAn9RZ8mFdzWA\",\\n                    \"height\": 200,\\n                    \"html\": \"&lt;iframe width=\\\\\"356\\\\\" height=\\\\\"200\\\\\" src=\\\\\"https://www.youtube.com/embed/Nbj1AR_aAcE?feature=oembed&amp;enablejsapi=1\\\\\" frameborder=\\\\\"0\\\\\" allow=\\\\\"accelerometer; autoplay; clipboard-write; encrypted-media; gyroscope; picture-in-picture\\\\\" allowfullscreen&gt;&lt;/iframe&gt;\",\\n                    \"provider_name\": \"YouTube\",\\n                    \"provider_url\": \"https://www.youtube.com/\",\\n                    \"thumbnail_height\": 360,\\n                    \"thumbnail_url\": \"https://i.ytimg.com/vi/Nbj1AR_aAcE/hqdefault.jpg\",\\n                    \"thumbnail_width\": 480,\\n                    \"title\": \"PROFESSOR JOHN MEARSHEIMER: THE SITUATION IN RUSSIA AND UKRAINE | KING\\'S POLITICS\",\\n                    \"type\": \"video\",\\n                    \"version\": \"1.0\",\\n                    \"width\": 356\\n                },\\n                \"type\": \"youtube.com\"\\n            },\\n            \"media_embed\": {\\n                \"content\": \"&lt;iframe width=\\\\\"356\\\\\" height=\\\\\"200\\\\\" src=\\\\\"https://www.youtube.com/embed/Nbj1AR_aAcE?feature=oembed&amp;enablejsapi=1\\\\\" frameborder=\\\\\"0\\\\\" allow=\\\\\"accelerometer; autoplay; clipboard-write; encrypted-media; gyroscope; picture-in-picture\\\\\" allowfullscreen&gt;&lt;/iframe&gt;\",\\n                \"height\": 200,\\n                \"scrolling\": false,\\n                \"width\": 356\\n            },\\n            \"media_only\": false,\\n            \"no_follow\": true,\\n            \"num_comments\": 0,\\n            \"num_crossposts\": 0,\\n            \"over_18\": false,\\n            \"parent_whitelist_status\": \"all_ads\",\\n            \"permalink\": \"/r/india/comments/t2sypq/a_must_watch_explanation_by_professor_of/\",\\n            \"pinned\": false,\\n            \"post_hint\": \"rich:video\",\\n            \"preview\": {\\n                \"enabled\": false,\\n                \"images\": [\\n                    {\\n                        \"id\": \"HWF4pPuhiGWw_Wm8KvWjzPsHtwAawBYRBSKH75RTLVU\",\\n                        \"resolutions\": [\\n                            {\\n                                \"height\": 81,\\n                                \"url\": \"https://external-preview.redd.it/L0gYyzOI6nf2r01jXz15CBC842SxhdzpuwSP6lSdsE8.jpg?width=108&amp;crop=smart&amp;auto=webp&amp;s=f05d1ecef7c4aab8feca125ae33e470effe504d5\",\\n                                \"width\": 108\\n                            },\\n                            {\\n                                \"height\": 162,\\n                                \"url\": \"https://external-preview.redd.it/L0gYyzOI6nf2r01jXz15CBC842SxhdzpuwSP6lSdsE8.jpg?width=216&amp;crop=smart&amp;auto=webp&amp;s=dc20b53b92dac54dceac95f239b76dec07be5b16\",\\n                                \"width\": 216\\n                            },\\n                            {\\n                                \"height\": 240,\\n                                \"url\": \"https://external-preview.redd.it/L0gYyzOI6nf2r01jXz15CBC842SxhdzpuwSP6lSdsE8.jpg?width=320&amp;crop=smart&amp;auto=webp&amp;s=195e3836a571ee005293b8e8f2407b87ebaa4ffe\",\\n                                \"width\": 320\\n                            }\\n                        ],\\n                        \"source\": {\\n                            \"height\": 360,\\n                            \"url\": \"https://external-preview.redd.it/L0gYyzOI6nf2r01jXz15CBC842SxhdzpuwSP6lSdsE8.jpg?auto=webp&amp;s=a7e164a54d16aa8dcdbd723c2478d7ca5ab9963f\",\\n                            \"width\": 480\\n                        },\\n                        \"variants\": {}\\n                    }\\n                ]\\n            },\\n            \"pwls\": 6,\\n            \"retrieved_on\": 1645982445,\\n            \"score\": 1,\\n            \"secure_media\": {\\n                \"oembed\": {\\n                    \"author_name\": \"King\\'s Politics\",\\n                    \"author_url\": \"https://www.youtube.com/channel/UC38dWYpcCXyAn9RZ8mFdzWA\",\\n                    \"height\": 200,\\n                    \"html\": \"&lt;iframe width=\\\\\"356\\\\\" height=\\\\\"200\\\\\" src=\\\\\"https://www.youtube.com/embed/Nbj1AR_aAcE?feature=oembed&amp;enablejsapi=1\\\\\" frameborder=\\\\\"0\\\\\" allow=\\\\\"accelerometer; autoplay; clipboard-write; encrypted-media; gyroscope; picture-in-picture\\\\\" allowfullscreen&gt;&lt;/iframe&gt;\",\\n                    \"provider_name\": \"YouTube\",\\n                    \"provider_url\": \"https://www.youtube.com/\",\\n                    \"thumbnail_height\": 360,\\n                    \"thumbnail_url\": \"https://i.ytimg.com/vi/Nbj1AR_aAcE/hqdefault.jpg\",\\n                    \"thumbnail_width\": 480,\\n                    \"title\": \"PROFESSOR JOHN MEARSHEIMER: THE SITUATION IN RUSSIA AND UKRAINE | KING\\'S POLITICS\",\\n                    \"type\": \"video\",\\n                    \"version\": \"1.0\",\\n                    \"width\": 356\\n                },\\n                \"type\": \"youtube.com\"\\n            },\\n            \"secure_media_embed\": {\\n                \"content\": \"&lt;iframe width=\\\\\"356\\\\\" height=\\\\\"200\\\\\" src=\\\\\"https://www.youtube.com/embed/Nbj1AR_aAcE?feature=oembed&amp;enablejsapi=1\\\\\" frameborder=\\\\\"0\\\\\" allow=\\\\\"accelerometer; autoplay; clipboard-write; encrypted-media; gyroscope; picture-in-picture\\\\\" allowfullscreen&gt;&lt;/iframe&gt;\",\\n                \"height\": 200,\\n                \"media_domain_url\": \"https://www.redditmedia.com/mediaembed/t2sypq\",\\n                \"scrolling\": false,\\n                \"width\": 356\\n            },\\n            \"selftext\": \"\",\\n            \"send_replies\": true,\\n            \"spoiler\": false,\\n            \"stickied\": false,\\n            \"subreddit\": \"india\",\\n            \"subreddit_id\": \"t5_2qh1q\",\\n            \"subreddit_subscribers\": 740583,\\n            \"subreddit_type\": \"public\",\\n            \"thumbnail\": \"https://b.thumbs.redditmedia.com/LnQa6Jir9ccMvFtLxaFYj-OjZZhudH-NA4iTXobBE8U.jpg\",\\n            \"thumbnail_height\": 105,\\n            \"thumbnail_width\": 140,\\n            \"title\": \"A must watch explanation by professor of political science from University of Chicago to understand the ongoing Ukraine crisis\",\\n            \"total_awards_received\": 0,\\n            \"treatment_tags\": [],\\n            \"upvote_ratio\": 1.0,\\n            \"url\": \"https://youtu.be/Nbj1AR_aAcE\",\\n            \"url_overridden_by_dest\": \"https://youtu.be/Nbj1AR_aAcE\",\\n            \"whitelist_status\": \"all_ads\",\\n            \"wls\": 6\\n        },\\n        {\\n            \"all_awardings\": [],\\n            \"allow_live_comments\": false,\\n            \"author\": \"RefuseOk84\",\\n            \"author_flair_css_class\": null,\\n            \"author_flair_richtext\": [],\\n            \"author_flair_text\": null,\\n            \"author_flair_type\": \"text\",\\n            \"author_fullname\": \"t2_js4icqox\",\\n            \"author_is_blocked\": false,\\n            \"author_patreon_flair\": false,\\n            \"author_premium\": false,\\n            \"awarders\": [],\\n            \"can_mod_post\": false,\\n            \"contest_mode\": false,\\n            \"created_utc\": 1645982369,\\n            \"domain\": \"self.RefuseOk84\",\\n            \"full_link\": \"https://www.reddit.com/r/u_RefuseOk84/comments/t2sxrw/teaching_english_to_children_with_learning/\",\\n            \"gildings\": {},\\n            \"id\": \"t2sxrw\",\\n            \"is_created_from_ads_ui\": false,\\n            \"is_crosspostable\": true,\\n            \"is_meta\": false,\\n            \"is_original_content\": false,\\n            \"is_reddit_media_domain\": false,\\n            \"is_robot_indexable\": true,\\n            \"is_self\": true,\\n            \"is_video\": false,\\n            \"link_flair_background_color\": \"\",\\n            \"link_flair_richtext\": [],\\n            \"link_flair_text_color\": \"dark\",\\n            \"link_flair_type\": \"text\",\\n            \"locked\": false,\\n            \"media_only\": false,\\n            \"no_follow\": false,\\n            \"num_comments\": 0,\\n            \"num_crossposts\": 0,\\n            \"over_18\": false,\\n            \"permalink\": \"/r/u_RefuseOk84/comments/t2sxrw/teaching_english_to_children_with_learning/\",\\n            \"pinned\": false,\\n            \"retrieved_on\": 1645982379,\\n            \"score\": 1,\\n            \"selftext\": \"I have decided to approach the issue of the children with learning disabilities, teaching English to them, because although the science and the world have evolved rapidly in the last century, it seems that there are still aspects of the society that are left alone or who are not given sufficient credit, perhaps from ignorance, or perhaps from unknowing what to do.\",\\n            \"send_replies\": true,\\n            \"spoiler\": false,\\n            \"stickied\": false,\\n            \"subreddit\": \"u_RefuseOk84\",\\n            \"subreddit_id\": \"t5_5v7d2w\",\\n            \"subreddit_subscribers\": 0,\\n            \"subreddit_type\": \"user\",\\n            \"suggested_sort\": \"qa\",\\n            \"thumbnail\": \"self\",\\n            \"title\": \"Teaching English To Children With Learning Disabilities\",\\n            \"total_awards_received\": 0,\\n            \"treatment_tags\": [],\\n            \"upvote_ratio\": 1.0,\\n            \"url\": \"https://www.reddit.com/r/u_RefuseOk84/comments/t2sxrw/teaching_english_to_children_with_learning/\"\\n        },\\n        {\\n            \"all_awardings\": [],\\n            \"allow_live_comments\": false,\\n            \"author\": \"vpunia\",\\n            \"author_flair_css_class\": null,\\n            \"author_flair_richtext\": [],\\n            \"author_flair_text\": null,\\n            \"author_flair_type\": \"text\",\\n            \"author_fullname\": \"t2_ju0n5hdp\",\\n            \"author_is_blocked\": false,\\n            \"author_patreon_flair\": false,\\n            \"author_premium\": false,\\n            \"awarders\": [],\\n            \"can_mod_post\": false,\\n            \"contest_mode\": false,\\n            \"created_utc\": 1645982323,\\n            \"domain\": \"self.vpunia\",\\n            \"full_link\": \"https://www.reddit.com/r/u_vpunia/comments/t2sx5c/bscn_humber_or_gbcryerson/\",\\n            \"gildings\": {},\\n            \"id\": \"t2sx5c\",\\n            \"is_created_from_ads_ui\": false,\\n            \"is_crosspostable\": true,\\n            \"is_meta\": false,\\n            \"is_original_content\": false,\\n            \"is_reddit_media_domain\": false,\\n            \"is_robot_indexable\": true,\\n            \"is_self\": true,\\n            \"is_video\": false,\\n            \"link_flair_background_color\": \"\",\\n            \"link_flair_richtext\": [],\\n            \"link_flair_text_color\": \"dark\",\\n            \"link_flair_type\": \"text\",\\n            \"locked\": false,\\n            \"media_only\": false,\\n            \"no_follow\": true,\\n            \"num_comments\": 0,\\n            \"num_crossposts\": 0,\\n            \"over_18\": false,\\n            \"permalink\": \"/r/u_vpunia/comments/t2sx5c/bscn_humber_or_gbcryerson/\",\\n            \"pinned\": false,\\n            \"retrieved_on\": 1645982334,\\n            \"score\": 1,\\n            \"selftext\": \"Hi, I recently got accepted into both Bachelor of Science Nursing programs with Humber college and Geroge Brown with Ryerson. \\\\n\\\\nIf anyone knows the pros and cons of each program please comment down below!!! I am unsure which to choose. (still waiting on McMaster which is my top choice).\",\\n            \"send_replies\": true,\\n            \"spoiler\": false,\\n            \"stickied\": false,\\n            \"subreddit\": \"u_vpunia\",\\n            \"subreddit_id\": \"t5_5vhx1e\",\\n            \"subreddit_subscribers\": 0,\\n            \"subreddit_type\": \"user\",\\n            \"suggested_sort\": \"qa\",\\n            \"thumbnail\": \"self\",\\n            \"title\": \"BScN humber or gbc/ryerson\",\\n            \"total_awards_received\": 0,\\n            \"treatment_tags\": [],\\n            \"upvote_ratio\": 1.0,\\n            \"url\": \"https://www.reddit.com/r/u_vpunia/comments/t2sx5c/bscn_humber_or_gbcryerson/\"\\n        }\\n    ]\\n}'"
     },
     "metadata": {}
    }
   ]
  },
  {
   "cell_type": "code",
   "metadata": {
    "cell_id": "edd6368b-a474-4c6a-a08a-12d5e8c58ee1",
    "tags": [],
    "deepnote_to_be_reexecuted": false,
    "source_hash": "20210a9e",
    "execution_start": 1645983325886,
    "execution_millis": 114,
    "deepnote_cell_height": 111.69999694824219,
    "deepnote_app_coordinates": {
     "x": 0,
     "y": 66,
     "w": 12,
     "h": 5
    },
    "deepnote_cell_type": "code"
   },
   "source": "r.json()",
   "execution_count": null,
   "outputs": [
    {
     "output_type": "execute_result",
     "execution_count": 5,
     "data": {
      "text/plain": "{'data': [{'all_awardings': [],\n   'allow_live_comments': False,\n   'author': 'Acrobatic_Comb1015',\n   'author_flair_css_class': None,\n   'author_flair_richtext': [],\n   'author_flair_text': None,\n   'author_flair_type': 'text',\n   'author_fullname': 't2_8iwiho4l',\n   'author_is_blocked': False,\n   'author_patreon_flair': False,\n   'author_premium': False,\n   'awarders': [],\n   'can_mod_post': False,\n   'contest_mode': False,\n   'created_utc': 1645983289,\n   'domain': 'self.premed',\n   'full_link': 'https://www.reddit.com/r/premed/comments/t2t9v6/high_stats_low_clinical_volunteering_urm_app/',\n   'gildings': {},\n   'id': 't2t9v6',\n   'is_created_from_ads_ui': False,\n   'is_crosspostable': True,\n   'is_meta': False,\n   'is_original_content': False,\n   'is_reddit_media_domain': False,\n   'is_robot_indexable': True,\n   'is_self': True,\n   'is_video': False,\n   'link_flair_background_color': '#007373',\n   'link_flair_css_class': 'standard',\n   'link_flair_richtext': [{'e': 'text', 't': '🔮 App Review'}],\n   'link_flair_template_id': '09e2b230-a339-11e9-b961-0ef4f937b248',\n   'link_flair_text': '🔮 App Review',\n   'link_flair_text_color': 'light',\n   'link_flair_type': 'richtext',\n   'locked': False,\n   'media_only': False,\n   'no_follow': False,\n   'num_comments': 0,\n   'num_crossposts': 0,\n   'over_18': False,\n   'parent_whitelist_status': 'all_ads',\n   'permalink': '/r/premed/comments/t2t9v6/high_stats_low_clinical_volunteering_urm_app/',\n   'pinned': False,\n   'post_hint': 'self',\n   'preview': {'enabled': False,\n    'images': [{'id': '0nNKXOOCvYJSnDMjvX-D72jJTinmsxBmGg-t-SYJJQ8',\n      'resolutions': [{'height': 56,\n        'url': 'https://external-preview.redd.it/_jDV_h6nL_LlzDs5Im3ivxgT-ew5xa52OshHxkA8x_k.jpg?width=108&amp;crop=smart&amp;auto=webp&amp;s=12c4cabfa22f9951c278c8244666696595eb70cf',\n        'width': 108},\n       {'height': 113,\n        'url': 'https://external-preview.redd.it/_jDV_h6nL_LlzDs5Im3ivxgT-ew5xa52OshHxkA8x_k.jpg?width=216&amp;crop=smart&amp;auto=webp&amp;s=39696676c90722563d631f7b9a44610940a62f39',\n        'width': 216},\n       {'height': 168,\n        'url': 'https://external-preview.redd.it/_jDV_h6nL_LlzDs5Im3ivxgT-ew5xa52OshHxkA8x_k.jpg?width=320&amp;crop=smart&amp;auto=webp&amp;s=33814a42ba24b6705a8b1901c5fc42bfc9ec4d32',\n        'width': 320},\n       {'height': 336,\n        'url': 'https://external-preview.redd.it/_jDV_h6nL_LlzDs5Im3ivxgT-ew5xa52OshHxkA8x_k.jpg?width=640&amp;crop=smart&amp;auto=webp&amp;s=bf8728828f748589b29db7f8bc1419a57fb2c163',\n        'width': 640},\n       {'height': 504,\n        'url': 'https://external-preview.redd.it/_jDV_h6nL_LlzDs5Im3ivxgT-ew5xa52OshHxkA8x_k.jpg?width=960&amp;crop=smart&amp;auto=webp&amp;s=4964f5b1577439ed9530337168bde7926d45294d',\n        'width': 960},\n       {'height': 567,\n        'url': 'https://external-preview.redd.it/_jDV_h6nL_LlzDs5Im3ivxgT-ew5xa52OshHxkA8x_k.jpg?width=1080&amp;crop=smart&amp;auto=webp&amp;s=f177f567d843d17c1781a30a1a5a2ed8a4a566bd',\n        'width': 1080}],\n      'source': {'height': 630,\n       'url': 'https://external-preview.redd.it/_jDV_h6nL_LlzDs5Im3ivxgT-ew5xa52OshHxkA8x_k.jpg?auto=webp&amp;s=38ad2b4c3c4d5a08a8d0eeae68040f968e0a75e5',\n       'width': 1200},\n      'variants': {}}]},\n   'pwls': 6,\n   'retrieved_on': 1645983300,\n   'score': 1,\n   'selftext': \"Hi, Im making this post because I've seen mixed opinions among friends and counselors in regards to which schools I should apply for. I have high stats but kind of low clinical volunteering and Im having a hard time acquiring more due to covid (specially since I live with my grandmother and she is immunocompromised). Which tiers of schools should I aim for? Thanks.\\n\\n* State/Country of Residence: Georgia\\n* Ties to other States/Regions: Nope\\n* [URM](https://www.aamc.org/what-we-do/mission-areas/diversity-inclusion/underrepresented-in-medicine)? (Y/N): Y (Hispanic)\\n* Year in School: 4\\n* Undergraduate Major(s)/Minor(s): Major in Biology\\n* Graduate Degrees (if applicable): N/A\\n* Cumulative GPA: 4.0\\n* Science GPA: 4.0\\n* MCAT Score(s): 521\\n* Research Experience: Around 1500 hours on wet lab research on my university, 100 hours on online REU, and 100 hours on a microbiology lab\\n* Publications/Abstracts/Posters (include how you were credited e.g. first author, second author, etc.): 1 poster and 1 thesis \\n* Clinical Experience (paid or volunteer): 100 hours of volunteering on a local group that helped doctors who visited patients on their homes.\\n* Physician Shadowing: 25 hours on person; 25 online\\n* Non-Clinical Volunteering: 300 Red Cross volunteer, 50 working with homeless and 100 working on crisistextline\\n* Other Extracurricular Activities: 200 hours tutoring\\n* Other Employment History: N/A\\n* Immediate family members in medicine? (Y/N):N\\n* Specialty of Interest (if applicable):\\n* Interest in Primary Care (Y/N):N\\n* Interest in Rural Health (Y/N):N\\n* Medical School List: N/A\",\n   'send_replies': True,\n   'spoiler': False,\n   'stickied': False,\n   'subreddit': 'premed',\n   'subreddit_id': 't5_2rlp9',\n   'subreddit_subscribers': 251229,\n   'subreddit_type': 'public',\n   'thumbnail': 'self',\n   'title': 'High Stats, Low Clinical volunteering URM App Review',\n   'total_awards_received': 0,\n   'treatment_tags': [],\n   'upvote_ratio': 1.0,\n   'url': 'https://www.reddit.com/r/premed/comments/t2t9v6/high_stats_low_clinical_volunteering_urm_app/',\n   'whitelist_status': 'all_ads',\n   'wls': 6},\n  {'all_awardings': [],\n   'allow_live_comments': False,\n   'author': 'SoftSeaSpider',\n   'author_flair_css_class': None,\n   'author_flair_richtext': [{'e': 'text', 't': '17'}],\n   'author_flair_template_id': 'f2e6204c-9bc7-11e1-af72-12313b078981',\n   'author_flair_text': '17',\n   'author_flair_text_color': 'dark',\n   'author_flair_type': 'richtext',\n   'author_fullname': 't2_3zp9qwzb',\n   'author_is_blocked': False,\n   'author_patreon_flair': False,\n   'author_premium': True,\n   'awarders': [],\n   'can_mod_post': False,\n   'contest_mode': False,\n   'created_utc': 1645983122,\n   'domain': 'self.teenagers',\n   'full_link': 'https://www.reddit.com/r/teenagers/comments/t2t7r1/babe_wdym_men_cant_cry_theres_literally_science/',\n   'gildings': {},\n   'id': 't2t7r1',\n   'is_created_from_ads_ui': False,\n   'is_crosspostable': True,\n   'is_meta': False,\n   'is_original_content': False,\n   'is_reddit_media_domain': False,\n   'is_robot_indexable': True,\n   'is_self': True,\n   'is_video': False,\n   'link_flair_background_color': '#edeff1',\n   'link_flair_css_class': 'meme',\n   'link_flair_richtext': [{'e': 'text', 't': 'Meme'}],\n   'link_flair_template_id': '68e40d50-6435-11e2-97c8-12313b0c247a',\n   'link_flair_text': 'Meme',\n   'link_flair_text_color': 'dark',\n   'link_flair_type': 'richtext',\n   'locked': False,\n   'media_only': False,\n   'no_follow': True,\n   'num_comments': 0,\n   'num_crossposts': 0,\n   'over_18': False,\n   'parent_whitelist_status': 'no_ads',\n   'permalink': '/r/teenagers/comments/t2t7r1/babe_wdym_men_cant_cry_theres_literally_science/',\n   'pinned': False,\n   'pwls': 0,\n   'retrieved_on': 1645983133,\n   'score': 1,\n   'selftext': 'I don’t care that you’re “having a mental breakdown” not everything is about you. \\n\\nNo you don’t have to apologize, it’s fine. Just stop being so manipulative all the time, it’s not that hard babe \\n\\n\\n(/satire)',\n   'send_replies': True,\n   'spoiler': False,\n   'stickied': False,\n   'subreddit': 'teenagers',\n   'subreddit_id': 't5_2rjli',\n   'subreddit_subscribers': 2744404,\n   'subreddit_type': 'public',\n   'thumbnail': 'self',\n   'title': 'Babe, wdym? Men can’t cry. There’s literally science about why men are just emotionless. Stop talking about your feelings, you’re being so manipulative rn',\n   'total_awards_received': 0,\n   'treatment_tags': [],\n   'upvote_ratio': 1.0,\n   'url': 'https://www.reddit.com/r/teenagers/comments/t2t7r1/babe_wdym_men_cant_cry_theres_literally_science/',\n   'whitelist_status': 'no_ads',\n   'wls': 0},\n  {'all_awardings': [],\n   'allow_live_comments': False,\n   'author': 'Ordinary_Craft',\n   'author_flair_css_class': None,\n   'author_flair_richtext': [],\n   'author_flair_text': None,\n   'author_flair_type': 'text',\n   'author_fullname': 't2_6l105jav',\n   'author_is_blocked': False,\n   'author_patreon_flair': False,\n   'author_premium': False,\n   'awarders': [],\n   'can_mod_post': False,\n   'contest_mode': False,\n   'created_utc': 1645983099,\n   'domain': 'udemy.store',\n   'full_link': 'https://www.reddit.com/r/couponsuk/comments/t2t7fe/ultimate_python_bootcamp_for_data_science_machine/',\n   'gildings': {},\n   'id': 't2t7fe',\n   'is_created_from_ads_ui': False,\n   'is_crosspostable': True,\n   'is_meta': False,\n   'is_original_content': False,\n   'is_reddit_media_domain': False,\n   'is_robot_indexable': True,\n   'is_self': False,\n   'is_video': False,\n   'link_flair_background_color': '',\n   'link_flair_richtext': [],\n   'link_flair_text_color': 'dark',\n   'link_flair_type': 'text',\n   'locked': False,\n   'media_only': False,\n   'no_follow': True,\n   'num_comments': 0,\n   'num_crossposts': 0,\n   'over_18': False,\n   'permalink': '/r/couponsuk/comments/t2t7fe/ultimate_python_bootcamp_for_data_science_machine/',\n   'pinned': False,\n   'post_hint': 'link',\n   'preview': {'enabled': False,\n    'images': [{'id': 'FDzekJgf35SCvdmyFx2aOVimlaKD7eKGMvK0TxrO_eE',\n      'resolutions': [{'height': 60,\n        'url': 'https://external-preview.redd.it/l0Q3zbvOynyLczxs4MKek34R3DJFGC_O6TvkG1mWEVA.jpg?width=108&amp;crop=smart&amp;auto=webp&amp;s=0ed73452b5272416f2162ce6228de1f653f6cee5',\n        'width': 108},\n       {'height': 121,\n        'url': 'https://external-preview.redd.it/l0Q3zbvOynyLczxs4MKek34R3DJFGC_O6TvkG1mWEVA.jpg?width=216&amp;crop=smart&amp;auto=webp&amp;s=98cf933e5f4be99720c3b2c85818eeaa656c6b67',\n        'width': 216},\n       {'height': 180,\n        'url': 'https://external-preview.redd.it/l0Q3zbvOynyLczxs4MKek34R3DJFGC_O6TvkG1mWEVA.jpg?width=320&amp;crop=smart&amp;auto=webp&amp;s=4934dc7488e2cf29323df5cdbf4295760dc05a4c',\n        'width': 320}],\n      'source': {'height': 270,\n       'url': 'https://external-preview.redd.it/l0Q3zbvOynyLczxs4MKek34R3DJFGC_O6TvkG1mWEVA.jpg?auto=webp&amp;s=059ba80d84d5d3003aa36a7fbe1296639a459219',\n       'width': 480},\n      'variants': {}}]},\n   'retrieved_on': 1645983110,\n   'score': 1,\n   'selftext': '',\n   'send_replies': True,\n   'spoiler': False,\n   'stickied': False,\n   'subreddit': 'couponsuk',\n   'subreddit_id': 't5_30fll',\n   'subreddit_subscribers': 1579,\n   'subreddit_type': 'public',\n   'thumbnail': 'https://b.thumbs.redditmedia.com/5zrLkniWdZ0tDXrDvUXuo2kGjGnhXMzhO0EkL3gp4_s.jpg',\n   'thumbnail_height': 78,\n   'thumbnail_width': 140,\n   'title': 'Ultimate Python Bootcamp For Data Science &amp; Machine Learning - free course from udemy for limited time',\n   'total_awards_received': 0,\n   'treatment_tags': [],\n   'upvote_ratio': 1.0,\n   'url': 'https://www.udemy.store/2022/02/ultimate-python-bootcamp-for-data.html',\n   'url_overridden_by_dest': 'https://www.udemy.store/2022/02/ultimate-python-bootcamp-for-data.html'},\n  {'all_awardings': [],\n   'allow_live_comments': False,\n   'author': 'Wise_One6869',\n   'author_flair_css_class': None,\n   'author_flair_richtext': [],\n   'author_flair_text': None,\n   'author_flair_type': 'text',\n   'author_fullname': 't2_j0hppovd',\n   'author_is_blocked': False,\n   'author_patreon_flair': False,\n   'author_premium': False,\n   'awarders': [],\n   'can_mod_post': False,\n   'contest_mode': False,\n   'created_utc': 1645983095,\n   'domain': 'self.EssaysHelper',\n   'full_link': 'https://www.reddit.com/r/EssaysHelper/comments/t2t7dw/hire_me_i_proffer_professional_aid_in_research/',\n   'gildings': {},\n   'id': 't2t7dw',\n   'is_created_from_ads_ui': False,\n   'is_crosspostable': True,\n   'is_meta': False,\n   'is_original_content': False,\n   'is_reddit_media_domain': False,\n   'is_robot_indexable': True,\n   'is_self': True,\n   'is_video': False,\n   'link_flair_background_color': '',\n   'link_flair_richtext': [],\n   'link_flair_text_color': 'dark',\n   'link_flair_type': 'text',\n   'locked': False,\n   'media_only': False,\n   'no_follow': True,\n   'num_comments': 0,\n   'num_crossposts': 0,\n   'over_18': False,\n   'parent_whitelist_status': 'all_ads',\n   'permalink': '/r/EssaysHelper/comments/t2t7dw/hire_me_i_proffer_professional_aid_in_research/',\n   'pinned': False,\n   'pwls': 6,\n   'retrieved_on': 1645983106,\n   'score': 1,\n   'selftext': ' \\n\\nHello students, I am a professional and well-rated writer with seven years of experience. I am well-versed in different fields which include Computer Science, Electrical Engineering, Aeronautics, and Aviation Technology, Political Science, Marketing, Theater and Media Arts, Business Management, Philosophy, Geometry, Management, Engineering, Accounting, History, Nursing, Statistics, English, Literature, (Social Sciences), Finance, Agriculture, Law, Sociology, Biology, Political Science, Accounting Software, Business among Others.\\n\\n**To contact my services; please send your instructions and the deadline to** [homeworkwriter48@gmail.com](mailto:homeworkwriter48@gmail.com)\\n\\n**Services Offered but not limited to.**\\n\\n· Essay writing.\\n\\n· Research Papers.\\n\\n· Online Class Management.\\n\\n· Peer responses/ Class discussions.\\n\\n. Lab Reports.\\n\\n· Research Proposals.\\n\\n**Why use my services?**\\n\\n**I**. I am a reliable, experienced, and trustworthy writer with the capability to provide well-done assignments and essays.\\n\\n**II.** I am time conscious: I deliver assignments before the stipulated deadline so that the client may have time to have a look at the assignment,\\n\\n**III**. I attach Turn It In reports alongside the assignment as proof that the assignment is original and written from scratch.\\n\\n**IV.** I take careful consideration in all the attachments presented by the client which include rubrics and instructions to ensure that I do not miss any important information.\\n\\n**To contact my services; please send your instructions and the deadline to** [homeworkwriter48@gmail.com](mailto:homeworkwriter48@gmail.com)\\n\\n***I charge $ 15 per page*** to all writing formats which include MLA/ HARVARD/ APA, CHICAGO, OSCOLA.\\n\\nEnjoy your family times and holidays as I work on your assignments. It is a guarantee that I will deliver the assignments before the deadline. As earlier mentioned I deliver plagiarized free assignments and will upload a plagiarized report attached to the assignment. Thank you.\\n\\n**FREQUENTLY ASKED QUESTIONS (FAQS).**\\n\\n* *What services do you offer?*\\n\\nI offer writing services in different fields which include Mathematics, Physics, Psychology, Nursing, Medicine, and Chemistry among others.\\n\\n* *Do your prices change with short deadline assignments?*\\n\\nI normally charge a standard $ 15 whether the assignment is given on short notice or has a long deadline.\\n\\n* *Do you give discounts on returning clients?*\\n\\nSure! I give a 30% discount on all returning clients or when they vouch for their loved ones and friends.\\n\\n* *How will I know that my assignment is original and thus not plagiarized?*\\n\\nIt is my obligation to attach a Turn it In Report to all the assignments I upload to clients.\\n\\n* *Do you prefer another payment method apart from PayPal?*\\n\\nI use PayPal as my main payment method. I believe it is the easiest and convenient method for both parties.\\n\\n* *Do I have to pay additional cash for revisions?*\\n\\nTrust me! Due to my experience in the writing industry, revisions or modifications needed are extremely rare. However, in the case of such issues, no additional fee should be paid.\\n\\n**To contact my services; please send your instructions and the deadline to** [homeworkwriter48@gmail.com](mailto:homeworkwriter48@gmail.com)',\n   'send_replies': True,\n   'spoiler': False,\n   'stickied': False,\n   'subreddit': 'EssaysHelper',\n   'subreddit_id': 't5_2nj7ph',\n   'subreddit_subscribers': 1159,\n   'subreddit_type': 'public',\n   'thumbnail': 'self',\n   'title': '[HIRE ME] I Proffer Professional Aid In Research Papers, Anointed Bibliography, News articles, Essay &amp; Exams, Assignments, Mathematics Calculus , Java, C++, Python, SQL, HTML/CSS/JS Programming, Chemistry &amp; Physics. Available Now At homeworkwriter48@gmail.com.',\n   'total_awards_received': 0,\n   'treatment_tags': [],\n   'upvote_ratio': 1.0,\n   'url': 'https://www.reddit.com/r/EssaysHelper/comments/t2t7dw/hire_me_i_proffer_professional_aid_in_research/',\n   'whitelist_status': 'all_ads',\n   'wls': 6},\n  {'all_awardings': [],\n   'allow_live_comments': False,\n   'author': 'bezdenka',\n   'author_flair_css_class': None,\n   'author_flair_richtext': [],\n   'author_flair_text': None,\n   'author_flair_type': 'text',\n   'author_fullname': 't2_ima8ye09',\n   'author_is_blocked': False,\n   'author_patreon_flair': False,\n   'author_premium': False,\n   'awarders': [],\n   'can_mod_post': False,\n   'contest_mode': False,\n   'created_utc': 1645983019,\n   'domain': 'trv-science.ru',\n   'full_link': 'https://www.reddit.com/r/ukraine/comments/t2t6c8/open_letter_of_russian_scientists_and_science/',\n   'gildings': {},\n   'id': 't2t6c8',\n   'is_created_from_ads_ui': False,\n   'is_crosspostable': False,\n   'is_meta': False,\n   'is_original_content': False,\n   'is_reddit_media_domain': False,\n   'is_robot_indexable': False,\n   'is_self': False,\n   'is_video': False,\n   'link_flair_background_color': '',\n   'link_flair_richtext': [],\n   'link_flair_text_color': 'dark',\n   'link_flair_type': 'text',\n   'locked': False,\n   'media_only': False,\n   'no_follow': True,\n   'num_comments': 0,\n   'num_crossposts': 0,\n   'over_18': False,\n   'parent_whitelist_status': 'no_ads',\n   'permalink': '/r/ukraine/comments/t2t6c8/open_letter_of_russian_scientists_and_science/',\n   'pinned': False,\n   'post_hint': 'link',\n   'preview': {'enabled': False,\n    'images': [{'id': 'nqLq9SHd8s9oRixxRVzzD1IJUoHStFCKCjWSKC03WyM',\n      'resolutions': [{'height': 169,\n        'url': 'https://external-preview.redd.it/vaUKVdJECjb1sRPKcon1ggbtDVvtwA4Ey-4t3ACV4Ko.jpg?width=108&amp;crop=smart&amp;auto=webp&amp;s=ae9d2805e7fe7a040b49f16bf1d90754e615e6ce',\n        'width': 108},\n       {'height': 338,\n        'url': 'https://external-preview.redd.it/vaUKVdJECjb1sRPKcon1ggbtDVvtwA4Ey-4t3ACV4Ko.jpg?width=216&amp;crop=smart&amp;auto=webp&amp;s=b610545c0df6bb6e109eb29a205fc2270da7e490',\n        'width': 216},\n       {'height': 502,\n        'url': 'https://external-preview.redd.it/vaUKVdJECjb1sRPKcon1ggbtDVvtwA4Ey-4t3ACV4Ko.jpg?width=320&amp;crop=smart&amp;auto=webp&amp;s=20b15b2f7f1703b661fe6135b1995b7191ac1e03',\n        'width': 320},\n       {'height': 1004,\n        'url': 'https://external-preview.redd.it/vaUKVdJECjb1sRPKcon1ggbtDVvtwA4Ey-4t3ACV4Ko.jpg?width=640&amp;crop=smart&amp;auto=webp&amp;s=b6b5c7c13dea6a547ba398a7220779ee6a6a40f5',\n        'width': 640}],\n      'source': {'height': 1406,\n       'url': 'https://external-preview.redd.it/vaUKVdJECjb1sRPKcon1ggbtDVvtwA4Ey-4t3ACV4Ko.jpg?auto=webp&amp;s=1e8a8a5f63ee540794ca0d500c0c9968838e5e77',\n       'width': 896},\n      'variants': {}}]},\n   'pwls': 0,\n   'removed_by_category': 'moderator',\n   'retrieved_on': 1645983030,\n   'score': 1,\n   'selftext': '',\n   'send_replies': True,\n   'spoiler': False,\n   'stickied': False,\n   'subreddit': 'ukraine',\n   'subreddit_id': 't5_2qqcn',\n   'subreddit_subscribers': 294360,\n   'subreddit_type': 'public',\n   'thumbnail': 'https://a.thumbs.redditmedia.com/KaoeK6CCltqHLF5bCq3LBWWqSdHewcGH_ENCdjqHZr0.jpg',\n   'thumbnail_height': 140,\n   'thumbnail_width': 140,\n   'title': 'Open letter of Russian scientists and science journalists against the war with Ukraine - Троицкий вариант — Наука',\n   'total_awards_received': 0,\n   'treatment_tags': [],\n   'upvote_ratio': 1.0,\n   'url': 'https://trv-science.ru/en/2022/02/we-are-against-war-en/',\n   'url_overridden_by_dest': 'https://trv-science.ru/en/2022/02/we-are-against-war-en/',\n   'whitelist_status': 'no_ads',\n   'wls': 0},\n  {'all_awardings': [],\n   'allow_live_comments': False,\n   'author': 'Furystorm',\n   'author_flair_background_color': '',\n   'author_flair_css_class': None,\n   'author_flair_richtext': [],\n   'author_flair_text': 'RSI Furyman, Trader, Trades: 3066',\n   'author_flair_text_color': 'dark',\n   'author_flair_type': 'text',\n   'author_fullname': 't2_jx9qa',\n   'author_is_blocked': False,\n   'author_patreon_flair': False,\n   'author_premium': False,\n   'awarders': [],\n   'can_mod_post': False,\n   'contest_mode': False,\n   'created_utc': 1645983009,\n   'domain': 'self.Starcitizen_trades',\n   'full_link': 'https://www.reddit.com/r/Starcitizen_trades/comments/t2t66h/wts_furystorms_boutique_ʖ_galaxys_finest_ʖ/',\n   'gildings': {},\n   'id': 't2t66h',\n   'is_created_from_ads_ui': False,\n   'is_crosspostable': True,\n   'is_meta': False,\n   'is_original_content': False,\n   'is_reddit_media_domain': False,\n   'is_robot_indexable': True,\n   'is_self': True,\n   'is_video': False,\n   'link_flair_background_color': '',\n   'link_flair_css_class': 'wts',\n   'link_flair_richtext': [],\n   'link_flair_text': 'selling',\n   'link_flair_text_color': 'dark',\n   'link_flair_type': 'text',\n   'locked': False,\n   'media_only': False,\n   'no_follow': True,\n   'num_comments': 0,\n   'num_crossposts': 0,\n   'over_18': False,\n   'parent_whitelist_status': 'some_ads',\n   'permalink': '/r/Starcitizen_trades/comments/t2t66h/wts_furystorms_boutique_ʖ_galaxys_finest_ʖ/',\n   'pinned': False,\n   'post_hint': 'self',\n   'preview': {'enabled': False,\n    'images': [{'id': 'Jp-3J44SoPbHrjN7kX6A-d5rErPzzB0H91H8uEEisgE',\n      'resolutions': [{'height': 94,\n        'url': 'https://external-preview.redd.it/6_fRNaDRssRLZsqhGZFTcpSvWrfK5N6pFGzsF9XGhk8.png?width=108&amp;crop=smart&amp;auto=webp&amp;s=92f47b22dd9b4b8103c9a546b8d32e4d71b44ff5',\n        'width': 108},\n       {'height': 189,\n        'url': 'https://external-preview.redd.it/6_fRNaDRssRLZsqhGZFTcpSvWrfK5N6pFGzsF9XGhk8.png?width=216&amp;crop=smart&amp;auto=webp&amp;s=95446dae958eb3c8e626e289ebde13c3b6a2c193',\n        'width': 216},\n       {'height': 280,\n        'url': 'https://external-preview.redd.it/6_fRNaDRssRLZsqhGZFTcpSvWrfK5N6pFGzsF9XGhk8.png?width=320&amp;crop=smart&amp;auto=webp&amp;s=623c559d19a35eb0aa6d1fcd94e9f0008ae060f7',\n        'width': 320},\n       {'height': 561,\n        'url': 'https://external-preview.redd.it/6_fRNaDRssRLZsqhGZFTcpSvWrfK5N6pFGzsF9XGhk8.png?width=640&amp;crop=smart&amp;auto=webp&amp;s=cbecd89dff56498ed4d1c592e01069e4e5f393cd',\n        'width': 640}],\n      'source': {'height': 713,\n       'url': 'https://external-preview.redd.it/6_fRNaDRssRLZsqhGZFTcpSvWrfK5N6pFGzsF9XGhk8.png?auto=webp&amp;s=34e861ac6ccf239296a2f8203be862a6935e9d2a',\n       'width': 813},\n      'variants': {}}]},\n   'pwls': 7,\n   'retrieved_on': 1645983020,\n   'score': 1,\n   'selftext': '▓▓▓▓▓▓▓▓▓▓▓▓▓▓▓▓▓▓▓▓▓▓▓▓▓▓▓▓▓▓▓▓▓▓▓▓▓▓▓▓▓▓▓▓▓▓▓▓▓▓▓▓▓▓▓▓▓▓▓▓▓▓▓▓▓▓▓▓▓▓▓▓\\n### 👽👽👽 Welcome to [**Furystorm\\'s boutique**](https://www.reddit.com/r/Starcitizen_trades/comments/dom951/store_furystorms_boutique_%CE%BB8_%CA%96_galaxys_finest_%CA%96/) ( ͡° ͜ʖ ͡°) 👽👽👽\\n\\n[Click here](https://www.reddit.com/r/Starcitizen_trades/comments/8fb9th/inventory_furystorms_boutique_additional_items/) to see links for previous stores with a lot of positive feedback from happy customers\\n▓▓▓▓▓▓▓▓▓▓▓▓▓▓▓▓▓▓▓▓▓▓▓▓▓▓▓▓▓▓▓▓▓▓▓▓▓▓▓▓▓▓▓▓▓▓▓▓▓▓▓▓▓▓▓▓▓▓▓▓▓▓▓▓▓▓▓▓▓▓▓▓\\n\\n&gt; **New players - use this code (STAR-MRG5-2TBJ) on registration to get additional 5000 UEC for free!**\\n\\n&gt; [**(Just click this link)**](https://robertsspaceindustries.com/enlist?referral=STAR-MRG5-2TBJ)\\n\\n▓▓▓▓▓▓▓▓▓▓▓▓▓▓▓▓▓▓▓▓▓▓▓▓▓▓▓▓▓▓▓▓▓▓▓▓▓▓▓▓▓▓▓▓▓▓▓▓▓▓▓▓▓▓▓▓▓▓▓▓▓▓▓▓▓▓▓▓▓▓▓▓\\n\\n**Currencies accepted:** PayPal: [$] [€] [₽], Skrill (+10%): [€], Crypto(+5%): Ƀ (BTC), BCH, can take others \\n___\\n\\n###To make an order [📨 PM me via Reddit](https://www.reddit.com/message/compose?to=Furystorm&amp;subject=Star%20Citizen%20order&amp;message=Order%20list%3A%20%0A%0APaypal%3A%20[Your%20Paypal%20Email]%0A%0ARSI%20Handle%3A%20 ) or [via Discord (Furystorm#4218)](https://discord.gg/BhEP2g4)\\n___\\n\\n╔═══════════════════════╗\\n\\n║ **☭☭☭ STORE CONTENTS ☭☭☭** ║        \\n\\n╚═══════════════════════╝\\n\\nStore is divided into 2 parts due to max. symbol limitations:\\n\\n**Part 1** - Main ships &amp; upgrades in demand\\n\\n    1. Referral Service\\n    2. Special offers\\n    3. Store credits\\n    4. Game and ship combo packages\\n    5. LTI Standalone ships\\n    6. non-LTI ships &amp; packages, common\\n    7. Planetary Vehicles &amp; combo packages\\n    8. Modules, Pods, battlefield upgrade Kits, other items\\n    9. Cross-Chassis Upgrades (CCUs), ships\\n    10. Cross-Chassis Upgrades (CCUs), ships\\n\\n**Part 2**, [click here to see [Inventory]](https://www.reddit.com/r/Starcitizen_trades/comments/8fb9th/inventory_furystorms_boutique_additional_items/) post - Uncommon upgrades, ships, Terms &amp; Useful info\\n\\n    11. Cross-Chassis Upgrades (CCUs), planetary vehicles\\n    12. non-LTI ships &amp; packages, uncommon\\n    13. Cross-Chassis Upgrades (CCUs), Rare &amp; uncommon paths\\n    14. Insurance types explanation\\n    15. Terms\\n    16. Useful information\\n\\n___\\n\\n╔════════════════════╗\\n\\n **►1◄ REFERRAL SERVICE**                \\n\\n╚════════════════════╝\\n\\n&gt; **20 $ per each**\\n\\nInfo about rewards can be found here - https://robertsspaceindustries.com/referral-program\\n\\n___\\n\\n\\n╔══════════════════╗\\n\\n **►2◄ SPECIAL OFFERS**                \\n\\n╚══════════════════╝\\n\\n&gt;╰( ͡° ͜ʖ ͡° )つ──☆\\n\\n**Item** | **Price, $** | \\n:--- | :--- | \\nMisc Razor LX concept with serial #| 200 | \\nUpgrade - Caterpillar to Caterpillar Best in Show Edition  | 60 |\\nUpgrade - Mole to Merchantman Upgrade | 139 | \\nUpgrade - Starfarer Gemini to Merchantman Upgrade | 109 | \\nUpgrade - Constellation Aquila to Orion | 169 | \\nCitizenCon 2951 Digital Goodies   | 9 |\\nUpgrade - 600i EXPLORER TO CARRACK EXPEDITION | 129 |\\nGemini LH86 Pistol - Voyager edition | 6 |\\n\\n___\\n\\n╔═════════════════════════════════╗\\n\\n **►4◄ GAME AND SHIP COMBO PACKAGES**                \\n\\n╚═════════════════════════════════╝\\n\\n\\n**Package** | **Insurance** | **MMO+SQ42 Included** | **Price, $** | **Comments** | \\n:--- | :---: | :---: | :---: | :--- | \\n[Package - Aurora LN](http://i.imgur.com/7KtUecV.png) | 3MI | Yes | 57 | Aurora LN (best aurora) Starter package |\\nMustang Alpha Starter  | 3MI | Yes | 55 | - |  \\n[Anniversary 2017 Mustang Discount Starter](https://i.gyazo.com/2a72772fc836df5bcc12210fe76c1383.png) | 5YI | No | 54 | - | \\n[Nox 2 pack](https://i.imgur.com/udKvufT.png) | LTI | No | 121 | Nox + Nox Kue | \\n[Aopoa Nox 5 Pack](http://i.imgur.com/XCFQpoY.png) | LTI | No | 242 | 4 Nox + 1 Nox Kue | \\n[Race Team Pack](https://i.imgur.com/ot8k151.png) | LTI | No | 168 | X1 + NOX + Dragonfly Black | \\n[Origin X1 THREE-PACK](https://i.imgur.com/2ySJr76.png) | LTI | No | 174 | X1 Baseline + Velocity + Force | \\n[Entrepreneur pack](https://i.imgur.com/C4vYaQk.png) | LTI | Yes | 683 | Prospector + Vulture + Vulcan + Hull B + Ursa Rover | \\n[The Tortoise and the Hurricane](https://i.imgur.com/F7lqFWl.png) | LTI | No | 415 | Anvil Hurricane + Anvil Terrapin | \\n[Starfarer + Nox 2 pack](http://i.imgur.com/7NmvZXv.png) | LTI | No | 431 | Starfarer + Nox + Nox Kue | \\n[Origin 600i Series Combo Pack](http://i.imgur.com/ip05IRz.png) | LTI | No | 977 | 600i Luxury + Exploration + Origin X1 | \\n[Scoundrel Pack](https://i.imgur.com/4w6Gl2y.png) | LTI | Yes | 788 | 7 Items, see picture | \\n[Aegis Wrecking Crew Pack](https://i.imgur.com/AOarYVP.png) | LTI | No | 1155 | Reclaimer + Vulcan + Eclipse + Avenger Warlock/Titan | \\n[Exotic Mega Pack](https://i.imgur.com/C88VvCt.png) | LTI | No | 1260 | Banu MM + Genesis Starliner + Khartu-al + other small ships | \\nUEE Exploration 2948 Pack | LTI | Yes| 850 | Carrack, Terrapin, Freelancer DUR, Cyclone RN | \\n\\n___\\n\\n╔══════════════════════════╗\\n\\n **►5◄ LTI STANDALONE SHIPS**                \\n\\n╚══════════════════════════╝\\n\\nCCU-d ships are upgraded from another ship. Also I have ships from original sale - they may come with different bonuses but are more expensive.\\n\\n&gt; **You can click on the price of original sale item to see it\\'s contents.**\\n\\n**Ship manufacturer** | **Ship model** | **Insurance** | **Price (CCU-d), $** | **Price (Original sale), $** | \\n:--- | :--- | :--- | :--- | :--- | \\n**Aopoa (Xi\\'an)** | Khartu-Al | LTI | 184 | - | \\n- | Nox | LTI | - | [77](http://i.imgur.com/NPnIEQt.png) | \\n- | Nox Kue | LTI | - | [77](http://i.imgur.com/aUXWhcU.png) | \\n- | San\\'Tok.Yai | LTI | 231 | - | \\n**Aegis Dynamics** | Avenger Titan | LTI | 70 | 84 | \\n- | Avenger Titan Renegade | LTI | 95 | [111](https://i.imgur.com/g6z5j4N.png) | \\n- | Avenger Stalker | LTI | 84 | - | \\n- | Avenger Warlock | LTI | 105 | - | \\n- | Eclipse | LTI | 315 | [333](https://i.imgur.com/T3LyjVD.jpg) | \\n- | Gladius | LTI | 116 | - | \\n- | Gladius Valiant | LTI | 132 | [142](https://i.imgur.com/8HaRvJu.png) | \\n- | Hammerhead | LTI | 672 | 777 | \\n- | Hammerhead Best in Show Edition | LTI | 746 | - | \\n- | Nautilus | LTI | 672 | - | \\n- | Reclaimer | LTI | 347 | 550 | \\n- | Reclaimer Best in Show Edition | LTI | 357 | - | \\n- | Redeemer | LTI | 333 | - | \\n- | Retaliator Bomber | LTI | 284 | 305 | \\n- | Sabre | LTI | 184 | 221 | \\n- | Sabre Comet | LTI | 195 | - | \\n- | Vanguard Warden | LTI | 263 | 357 | \\n- | Vanguard Harbinger | LTI | 289 | - | \\n- | Vanguard Sentinel | LTI | 268 | - | \\n- | Vanguard Hoplite | LTI | 231 | [268](https://i.imgur.com/SEWpzJs.png) | \\n- | Vulcan | LTI | 216 | [242](https://i.imgur.com/GX7uAuL.png) | \\n**ARGO Astronautics** | MPUV Cargo | LTI | 74 | [84](http://i.imgur.com/CdGtmc6.png) | \\n- | MPUV Personnel | LTI | - | [89](https://i.imgur.com/IQ5W4VK.png) | \\n- | SRV | LTI | 165 | - | \\n- | Mole | LTI | 321 | - | \\n- | Combo Pack | LTI | - | [111](http://i.imgur.com/nLczdjl.png) | \\n**Anvil Aerospace** | Arrow | LTI | 95 | 137 | \\n- | C8X Pisces Expedition | LTI | - | 74 | \\n- | Carrack | LTI | 441 | - | \\n- | Carrack W/C8X | LTI | 461 | - | \\n- | Carrack Expedition | LTI | 468 | - | \\n- | Carrack Expedition W/C8X | LTI | 489 | - | \\n- | Crucible | LTI | 369 | [431](http://i.imgur.com/uuwAhGr.png) | \\n- | F7C Hornet | LTI | 121 | - | \\n- | F7C Hornet Wildfire | LTI | 189 | 210 | \\n- | F7C-S Hornet Ghost | LTI | 140 | - | \\n- | F7C-R Hornet Tracker | LTI | 155 | - | \\n- | F7C-M Super Hornet | LTI | 199 | 252 | \\n- | F7C-M Hornet Heartseeker | LTI | 200 | - | \\n- | Gladiator | LTI | 177 | 221 | \\n- | Hawk | LTI | 116 | 126 | \\n- | Hurricane | LTI | 210 | 226 | \\n- | Terrapin | LTI | 231 | 252 | \\n- | Valkyrie | LTI | 368 | - | \\n**Banu** | Merchantman | LTI | 420 | [-](https://i.imgur.com/0akyLEL.png) | \\n- | Defender | LTI | 226 | 237 | \\n**Consolidated outland** | Mustang Beta | LTI | 95 | - | \\n- | Mustang Gamma | LTI | 74 | - | \\n- | Mustang Delta | LTI | 84 | - | \\n- | Pioneer | LTI | - | [1399](https://i.imgur.com/wdBUHNk.png) | \\n**Crusader Industries** | Ares Inferno | LTI | 252 | - | \\n- | Ares Ion | LTI | 252 | - | \\n- | Genesis Starliner | LTI | 368 | 499 | \\n- | C2 Hercules | LTI | 378 | - | \\n- | M2 Hercules | LTI | 504 | - | \\n- | A2 Hercules | LTI | 756 | - | \\n- | Mercury Star Runner | LTI | 273 | - | \\n**Drake Interplanetary** | Dragonfly Yellowjacket | LTI | - | [77](http://i.imgur.com/vSDPLko.png) | \\n- | Dragonfly Black | LTI | - | [77](http://i.imgur.com/tWPZ64C.png) | \\n- | Dragonfly Ride Together Two-Pack | LTI | - | [116](http://i.imgur.com/HxHDV9p.png) | \\n- | Buccaneer | LTI | 126 | [142](https://i.imgur.com/xoppcSw.png) | \\n- | Caterpillar | LTI | 336 | - | \\n- | Caterpillar Best in Show Edition | LTI | 347 | - | \\n- | Corsair | LTI | 237 | - | \\n- | Cutlass Black | LTI | 116 | - | \\n- | Cutlass Black Best in Show Edition | LTI | 126 | - | \\n- | Cutlass Steel | LTI | 221 | - | \\n- | Cutlass Red | LTI | 142 | - | \\n- | Cutlass Blue | LTI | 168 | - | \\n- | Herald | LTI | 111 | - | \\n- | Vulture | LTI | 158 | - | \\n**Esperia** | Vanduul Blade | LTI | 284 | [305](http://i.imgur.com/RcYJNg1.png) | \\n- | Vanduul Glaive | LTI | 373 | - | \\n- | Prowler | LTI | 420 | 499 | \\n- | Talon | LTI | 132 | - | \\n- | Talon Shrike | LTI | 132 | - | \\n**Gatac** | Railen | LTI | 242 | - | \\n**Greycat Industrial** | ROC | LTI | 77 | - | \\n**Kruger Intergalactic** | P-72 Archimedes | LTI | - | [74](http://i.imgur.com/jmMOk3S.png) | \\n**MISC** | Endeavor BASE | LTI | 378 | - | \\n- | Endeavor DISCOVERY-CLASS | LTI | - | 630 | \\n- | Endeavor Master Set 2018 | LTI | - | [1399](https://i.imgur.com/DZHuPdC.png) | \\n- | Freelancer | LTI | 121 | - | \\n- | Freelancer DUR | LTI | 147 | - | \\n- | Freelancer MAX | LTI | 163 | - | \\n- | Freelancer MIS | LTI | 184 | - | \\n- | HULL A | LTI | 99 | 116 | \\n- | HULL B | LTI | 147 | 158 | \\n- | HULL C | LTI | 357 | - | \\n- | HULL D | LTI | 462 | - | \\n- | Odyssey | LTI | 609 | - | \\n- | Razor | LTI | 163 | 179 | \\n- | Razor LX | LTI | 168 | - | \\n- | Razor EX | LTI | 174 | - | \\n- | Prospector | LTI | 163 | [179](http://i.imgur.com/A7HNEo0.png) | \\n- | Reliant Kore (Mini Hauler) | LTI | 84 | 105 | \\n- | Reliant Tana (Skirmisher) | LTI | 95 | - | \\n- | Reliant Mako (News Van) | LTI | 121 | - | \\n- | Reliant Sen (Researcher) | LTI | 105 | - | \\n- | Starfarer | LTI | 315 | 389 | \\n- | Starfarer Gemini | LTI | 347 | 441 | \\n**Origin Jumpworks** | X1 Baseline | LTI | - | [63](https://i.imgur.com/yXyGEQW.png) | \\n- | X1 Velocity | LTI | - | 69 | \\n- | X1 Force | LTI | - | 74 | \\n- | M50 | LTI | 121 | 147 | \\n- | 85X | LTI | - | [74](http://i.imgur.com/SfxJ9fh.png) | \\n- | 100I | LTI | 74 | 90 | \\n- | 125A | LTI | 79 | - | \\n- | 135C | LTI | 84 | - | \\n- | 300I | LTI | 77 | - | \\n- | 315P | LTI | 77 | - | \\n- | 325A | LTI | 93 | - | \\n- | 350R | LTI | 137 | - | \\n- | 400i | LTI | 265 | - | \\n- | 600i Touring | LTI | 420 | [473](http://i.imgur.com/s2aG1Ec.png) | \\n- | 600i Exploration | LTI | 441 | [510](http://i.imgur.com/LcH4sz4.png) | \\n**RSI** | Aurora CL | LTI | 74 | - | \\n- | Apollo Triage | LTI | 268 | - | \\n- | Apollo Medivac | LTI | 294 | - | \\n- | Mantis | LTI | 168 | - | \\n- | Perseus | LTI | 583 | [-](http://i.imgur.com/Jv8Onu6.png) | \\n- | Polaris | LTI | 777 | [999](http://i.imgur.com/Jv8Onu6.png) | \\n- | Constellation Taurus | LTI | 179 | - | \\n- | Constellation Andromeda | LTI | 252 | 315 | \\n- | Constellation Aquila | LTI | 321 | - | \\n- | Orion | LTI | 489 | - | \\n\\n\\n\\n___\\n\\n╔════════════════════════════════════╗\\n\\n **►6◄ NON-LTI SHIPS &amp; PACKAGES, COMMON**                \\n\\n╚════════════════════════════════════╝\\n\\n**Ship/Package** | **Insurance** | **Price, $** | **Comments** | \\n:--- | :---: | :---: | :--- | \\n[Consolidated Outland Mustang Alpha Vindicator](https://i.imgur.com/m3xir72.png) | 6MI | 45 | Limited Vindicator version | \\nKruger P-72 Archimedes | 10YI | 55 | - | \\nKruger P-72 Archimedes | 6YI | 45 | - | \\nKruger P-52 Merlin | 6YI | 37 | - | \\nRSI Aurora ES | 10YI | 37 | - | \\nArgo MPUV 1C Cargo | 10YI | 53 | - | \\nMISC Endeavor OLYMPIC-CLASS | 4YI | 578 | Endeavor with modules | \\nRSI Constellation Phoenix | 10YI | 420 | - | \\n[RSI Constellation Phoenix](https://i.imgur.com/eranuZ0.png) | 6YI | 399 | - | \\nOrigin 890 Jump | 6MI | 1099 | - | \\nOrigin 890 Jump | 6YI | 1299 | - | \\nOrigin 890 Jump | 10YI | 1399 | - | \\n___\\n\\n╔══════════════════════════════════════════╗\\n\\n **►7◄ PLANETARY VEHICLES &amp; COMBO PACKAGES**                \\n\\n╚══════════════════════════════════════════╝\\n\\n**Vehicle** | **Insurance** | **Price (CCU-d), $** | **Price (Concept), $** | **Comments** | \\n:--- | :---: | :---: | :---: | :--- | \\nAnvil Ballista | LTI | 153 |  | - | \\n[Greycat PTV](https://i.imgur.com/4EKqXOR.png) | 6YI |  | 27 | - | \\nGreycat PTV | 10YI |  | 37 | - | \\nOrigin G12 | LTI | 74 | - | - | \\nOrigin G12R | LTI | 79 | 84 | - | \\nOrigin G12A | LTI | 84 | 89 | - | \\n[Tumbril Cyclone](https://i.imgur.com/AhhhUXX.png) | LTI |  | 74 | Base version | \\n[Tumbril Cyclone-TR](https://i.imgur.com/wAatRSi.png) | LTI |  | 79 | With ground turret | \\n[Tumbril Cyclone-RC](https://i.imgur.com/gxC9TYD.png) | LTI |  | 79 | Speedster | \\n[Tumbril Cyclone-AA](https://i.imgur.com/8b20uMf.png) | LTI |  | 95 | Anti-air + countermeasures | \\n[Tumbril Cyclone-RN](https://i.imgur.com/euVVN2Y.png) | LTI |  | 79 | Scout &amp; Scan | \\n[Tumbril Ranger RC](https://i.imgur.com/AW2eRMK.png) | LTI | 95 |  | Racer | \\nTumbril Ranger CV | LTI | 100 | 116 | Offroad | \\nTumbril Ranger TR | LTI | 100 |  | With Gun | \\n[Tumbril Nova](https://i.imgur.com/DvSSybC.png) | LTI | 126 | 132 | Tank | \\nRSI URSA Rover | 5YI |  | 63 | - | \\n[RSI URSA Rover Fortuna](https://i.imgur.com/MckeXHa.png) | LTI | 74 |  | Limited green skin edition | \\n\\n\\n___\\n\\nBelow are listed combo packs with different combination of vehicles, or with space ships\\n\\n**Combo packs** | **Insurance** | **Price (Concept), $** | **Comments** | \\n:--- | :---: | :---: | :--- | \\n[Offroad Vehicle Pack](https://i.imgur.com/CsRjBRt.png) | LTI | 137 | Cyclone TR + URSA + Greycat PTV | \\n[Tumbril Cyclone Pack](https://i.imgur.com/THOVLpw.png) | LTI | 305 | All Cyclones | \\n[All-Terrain Vehicle Mega Pack](http://i.imgur.com/NhPs5Ho.png) | LTI | 473 | All Cyclones + Ursa + Lynx + Greycat | \\n[Air and Space Pack LTI](http://i.imgur.com/kCR80Co.png) | LTI | 315 | Terrapin + Cyclone AA | \\n[Ground Vehicle Pack VIP](https://i.imgur.com/NgX7AAV.png) | LTI | 378 | Gragonfly + Nox + X1 + Ursa + Cyclone + Nova + bonus | \\n[Deluxe Ground Vehicle Pack VIP](https://i.imgur.com/dSFX050.png) | LTI | 840 | A lot of items, check screenshot | \\n\\n\\n___\\n\\n╔═══════════════════════════════════════════════╗\\n\\n **►8.1◄ MODULES, PODS, BATTLEFIELD UPGRADE KITS (BUKS)**, OTHER ITEMS                \\n\\n╚═══════════════════════════════════════════════╝\\n\\n**Module** | **Insurance** | **Price, $** | \\n:--- | :---: | :---: | \\n**MISC Endeavor Modules (Pods)** | **-** | **-** | \\n[FUEL POD](http://i.imgur.com/SvEkRMb.png) | **LTI** | **137** | \\n[BIODOME POD](http://i.imgur.com/qvCXaa0.png) | **LTI** | **242** |  \\n[TELESCOPE ARRAY POD](http://i.imgur.com/zFX7rH0.png) | **LTI** | **242** | \\nBIODOME POD | 6YI | 126 | \\nTELESCOPE ARRAY POD | 6YI | 153 | \\nSUPERCOLLIDER POD | 6YI | 155 | \\nSERVICE EQUIPMENT AND CREW POD | 6YI | 53 | \\nGENERAL RESEARCH POD | 6YI | 72 | \\nGENERAL SCIENCE POD | 6YI | 71 | \\nFUEL POD | 6YI | 60 | \\nMEDICAL BAY POD | 6YI | 105 | \\nLANDING BAY | 6YI | 105 | \\n**Aegis Vanguard battlefield upgrade kits** |  |  | \\nSentinel battlefield upgrade kit | LTI| 130 | \\nHarbinger battlefield upgrade kit | LTI | 140 | \\nWarden battlefield upgrade kit | 6MI | 27 | \\nSentinel battlefield upgrade kit | 6MI | 42 | \\nHarbinger battlefield upgrade kit | 6MI | 63 | \\n**Retaliator modules** |  |  | \\nRetaliator cargo rear module | LTI | 99 | \\nRetaliator rear torpedo bay | 24MI | 120 |\\nRetaliator front torpedo bay | 24MI| 120 |\\n**Other stuff** |  |  | \\n[Add-ons - Aegis Idris P after market kit](https://i.imgur.com/DiRQqRJ.png) | - | 294 | \\n\\n\\n___\\n\\n\\n╔════════════════════════════════════════════════════╗\\n\\n **►8.2 ◄ FPS WEAPONS, ARMOR, CLOTHES AND OTHER GEAR**                \\n\\n╚════════════════════════════════════════════════════╝\\n\\n**Module** | **Insurance** | **Price, $** | \\n:--- | :---: | :---: | \\nOverlord \"Dust Storm\" Armor Set  | - | 11 | \\nOverlord \"Riptide\" Armor Set  | - | 11 | \\nOverlord Helmets \"Silent Strike\" Pack | - | 8 | \\nOverlord Helmets \"Forces of Nature\" Pack  | - | 8 | \\nParasite Replica Helmet (Original) | - | 11 | \\nParasite Replica Helmet (Dark Birth)  | - | 11 | \\nStegman\\'s Cordimon \"Voyager\" Complete Outfit | - | 11 | \\nStegman\\'s IndVest “Pathfinder” Complete Outfit | - | 11 | \\nRSI MacFlex Rust Society full armor set (5 items) | - | 21 | \\nRSI Venture Rust Society full armor set (5 items) | - | 32 | \\nMr. Refinement’s Cabinet of Rare &amp; Exquisite Spirits | - | 11 | \\n[Life in the \\'Verse Shirts Pack #1](https://i.imgur.com/qVQGJAE.png) | - | 5 | \\n[Life in the \\'Verse Shirts Pack #2](https://i.imgur.com/vEZZT4Y.png) | - | 5 | \\n[\"Caudillo\" Helmets Pack #1 by CC\\'s Conversions](https://i.imgur.com/8mzqV98.png) | - | 8 | \\n[\"Caudillo\" Helmets Pack #2 by CC\\'s Conversions](https://i.imgur.com/1fzkS4p.png) | - | 8 | \\n[\"Caudillo\" Helmets Pack #3 by CC\\'s Conversions](https://i.gyazo.com/6745697885a27f1651a319cd65efbc56.png) | - | 8 | \\nQuikFlarePro Pack | - | 5 | \\nQuikFlarePro Pack Deluxe | - | 6 | \\nPolar Vortex Collection | - | 7 | \\nCold Front Collection | - | 7 | \\nUltiFlex FSK-8 \"Mirage\" Combat Knife | - | 5 | \\nUltiFlex FSK-8 \"Ghost\" Combat Knife | - | 5 | \\nUrban Collection by Element Authority | - | 11 | \\nAdventurer Collection by Element Authority | - | 11 | \\nManaslu Rust Society Jacket | - | 8 | \\nRSI Horizon Rust Society Helmet | - | 8 | \\nRSI Beacon Rust Society Undersuit | - | 6 | \\nPaladin helmet | - | 10 | \\n\\n╔════════════════════════════════════════╗\\n\\n **►9◄ CROSS-CHASSIS UPGRADES (CCUS), SHIPS**                \\n\\n╚════════════════════════════════════════╝\\n\\n_______\\n\\n&gt; **IAE-insurance upgrades (adds IAE insurance (10 years) to your ship)**\\n\\n_______\\n\\n**Upgrade** | **Price, $** | \\n:--- | :--- |\\nProspector to F7C-M Super Hornet | 50 | \\nVanguard Warden to Caterpillar | 60 | \\n\\n_______\\n\\nSorted by: Manufacturer -&gt; ship\\n\\n**Target ship manufacturer** | **Target ship** | **Upgrade from** | **Price, $** | \\n:--- | :--- | :--- | :--- | \\n**Aegis Dynamics** | **Avenger Titan Renegade** | 325A | 18 | \\n- | **Avenger Warlock** | 325A | 29 | \\n- | Avenger Warlock | Arrow | 26 | \\n- | **Eclipse** | Constellation Andromeda | 78 | \\n- | Eclipse | Vanguard Sentinel | 37 | \\n- | Eclipse | Vanguard Warden | 53 | \\n- | Eclipse | Blade | 37 | \\n- | **Gladius Valiant** | Cutlass Black | 22 | \\n- | Gladius Valiant | M50 | 23 | \\n- | **Hammerhead** | Constellation Aquila | 483 | \\n- | Hammerhead | 600i Touring | 357 | \\n- | Hammerhead | 600i Explorer | 315 | \\n- | Hammerhead | Merchantman | 236 | \\n- | Hammerhead | Hull D | 341 | \\n- | Hammerhead | Crucible | 446 | \\n- | Hammerhead | Carrack | 278 | \\n- | Hammerhead | Reclaimer | 383 | \\n- | Hammerhead | Prowler | 351 | \\n- | Hammerhead | Orion | 210 | \\n- | Hammerhead | Glaive | 446 | \\n- | **Hammerhead** | A2 Hercules | 52 | \\n- | **Nautilus** | Constellation Aquila | 467 | \\n- | Nautilus | Endeavor | 425 | \\n- | Nautilus | Crucible | 425 | \\n- | Nautilus | Genesis Starliner | 372 | \\n- | Nautilus | M2 Hercules | 246 | \\n- | Nautilus | Merchantman | 215 | \\n- | Nautilus | A2 Hercules | 57 | \\n- | Nautilus | 600i Explorer | 294 | \\n- | Nautilus | 600i Touring | 336 | \\n- | Nautilus | Orion | 189 | \\n- | Nautilus | Prowler | 330 | \\n- | Nautilus | Carrack | 278 | \\n- | Nautilus | Reclaimer | 372 | \\n- | Nautilus | Hull D | 320 | \\n- | Nautilus | C2 Hercules | 372 | \\n- | Nautilus | Valkyrie | 399 | \\n- | **Reclaimer** | Constellation Aquila | 115 | \\n- | Reclaimer | Starfarer Gemini | 84 | \\n- | Reclaimer | Endeavor | 73 | \\n- | Reclaimer | Crucible | 73 | \\n- | **Redeemer** | Constellation Andromeda | 78 | \\n- | Redeemer | Vanguard Hoplite | 84 | \\n- | Redeemer | Mole | 26 | \\n- | **Retaliator Bomber** | Constellation Andromeda | 57 | \\n- | **Retaliator Base** | F7C-R Hornet Tracker | 25 | \\n- | **Sabre** | Prospector | 31 | \\n- | Sabre | Gladiator | 16 | \\n- | **Sabre Comet** | Sabre | 31 | \\n- | Sabre Comet | Freelancer MIS | 26 | \\n- | Sabre Comet | Khartu-Al | 31 | \\n- | Sabre Comet | F7C Hornet Wildfire | 23 | \\n- | Sabre Comet | Gladiator | 35 | \\n- | Sabre Comet | F7C-M Super Hornet | 20 | \\n- | **Vanguard Harbinger** | Constellation Andromeda | 68 | \\n- | Vanguard Harbinger | Retaliator Bomber | 31 | \\n- | Vanguard Harbinger | Vanguard Sentinel | 26 | \\n- | Vanguard Harbinger | Vanguard Hoplite | 73 | \\n- | Vanguard Harbinger | Vanguard Warden | 42 | \\n- | **Vanguard Hoplite** | Constellation Taurus | 59 | \\n- | Vanguard Hoplite | San\\'Tok.Yai | 28 | \\n- | Vanguard Hoplite | Defender | 28 | \\n- | Vanguard Hoplite | Corsair | 33 | \\n- | Vanguard Hoplite | F7C-M Super Hornet Heartseeker | 54 | \\n- | Vanguard Hoplite | Hurricane | 54 | \\n- | Vanguard Hoplite | Terrapin | 28 | \\n- | **Vanguard Sentinel** | Constellation Andromeda | 52 | \\n- | Vanguard Sentinel | Vanguard Warden | 31 | \\n- | **Vanguard Warden** | Constellation Andromeda | 31 | \\n- | Vanguard Warden | Vanguard Hoplite | 40 | \\n- | **Vulcan** | Constellation Taurus | 25 | \\n- | Vulcan | Prospector | 61 | \\n**Anvil Aerospace** | **Carrack** | Constellation Aquila | 273 | \\n- | Carrack | Mole | 320 | \\n- | Carrack | M2 Hercules | 99 | \\n- | Carrack | 600i Explorer | 147 | \\n- | Carrack | 600i Touring | 189 | \\n- | Carrack | Orion | 42 | \\n- | Carrack | Prowler | 183 | \\n- | Carrack | Reclaimer | 225 | \\n- | Carrack | Genesis Starliner | 225 | \\n- | Carrack | Valkyrie | 215 | \\n- | Carrack | C2 Hercules | 189 | \\n- | Carrack | Hull D | 178 | \\n- | Carrack | Merchantman | 73 | \\n- | Carrack | Endeavor | 283 | \\n- | Carrack | Crucible | 283 | \\n- | Carrack | Starfarer Gemini | 294 | \\n**-** | **Carrack W/C8X** | Carrack | 38 | \\n- | Carrack Expedition | Carrack | 42 | \\n- | Carrack Expedition W/C8X | Carrack | 63 | \\n- | **Crucible** | Starfarer Gemini | 26 | \\n- | Crucible | Constellation Aquila | 99 | \\n- | F7C-M Super Hornet | Prospector | 37 | \\n- | F7C-M Super Hornet | Khartu-AL | 22 | \\n- | F7C-M Super Hornet | F7C Hornet Wildfire | 16 | \\n- | F7C-M Super Hornet | Gladiator | 27 | \\n- | F7C-M Super Hornet | Freelancer MIS | 16 | \\n- | F7C-M Super Hornet | Sabre | 22 | \\n- | F7C-M Super Hornet | Razor EX | 37 | \\n- | **F7C-M Super Hornet Heartseeker** | Constellation Taurus | 21 | \\n- | F7C-M Super Hornet Heartseeker | Freelancer MAX | 63 | \\n- | F7C-M Super Hornet Heartseeker | Prospector | 57 | \\n- | F7C-M Super Hornet Heartseeker | Razor EX | 57 | \\n- | F7C-M Super Hornet Heartseeker | Gladiator | 47 | \\n- | F7C-M Super Hornet Heartseeker | Khartu-AL | 42 | \\n- | F7C-M Super Hornet Heartseeker | Sabre | 42 | \\n- | F7C-M Super Hornet Heartseeker | Sabre Comet | 26 | \\n- | F7C-M Super Hornet Heartseeker | F7C Hornet Wildfire | 36 | \\n- | F7C-M Super Hornet Heartseeker | Freelancer MIS | 36 | \\n- | **F7C Hornet Wildfire** | Prospector | 31 | \\n- | F7C Hornet Wildfire | Khartu-Al | 16 | \\n- | F7C Hornet Wildfire | Gladiator | 22 | \\n- | F7C Hornet Wildfire | Sabre | 16 | \\n- | **Gladiator** | Prospector | 21 | \\n- | **Hawk** | Gladius | 21 | \\n- | **Hurricane** | Constellation Taurus | 16 | \\n- | Hurricane | Prospector | 53 | \\n- | Hurricane | Gladiator | 43 | \\n- | Hurricane | F7C Hornet Wildfire | 32 | \\n- | Hurricane | F7C-M Super Hornet | 27 | \\n- | Hurricane | Freelancer MIS | 32 | \\n- | Hurricane | Sabre | 37 | \\n- | Hurricane | Sabre Comet | 22 | \\n- | Hurricane | Khartu-Al | 37 | \\n- | **Terrapin** | Prospector | 84 | \\n- | Terrapin | Constellation Taurus | 44 | \\n- | Terrapin | Freelancer MAX | 86 | \\n- | Terrapin | F7C-M Super Hornet | 57 | \\n- | Terrapin | Freelancer MIS | 63 | \\n- | Terrapin | Vulcan | 36 | \\n- | Terrapin | Gladiator | 73 | \\n- | Terrapin | Khartu-Al | 65 | \\n- | Terrapin | Sabre | 65 | \\n- | **Valkyrie** | Constellation Aquila | 84 | \\n- | Valkyrie | Endeavor | 42 | \\n- | Valkyrie | Starfarer Gemini | 52 | \\n- | Valkyrie | Crucible | 42 | \\n- | Valkyrie | Glaive | 42 | \\n**Aopoa (Xi\\'an)** | **Khartu-Al** | Prospector | 29 | \\n- | Khartu-Al | Freelancer MAX | 31 | \\n- | **Nox** | Aurora LN | 27 | \\n- | Nox | Dragonfly Black | 15 | \\n- | Nox | Dragonfly Yellowjacket | 15 | \\n- | Nox | MPUV Cargo | 27 | \\n- | **Nox Kue** | Aurora LN | 23 | \\n- | Nox Kue | Dragonfly Black | 15 | \\n- | Nox Kue | Dragonfly Yellowjacket | 15 | \\n- | Nox Kue | Mustang Beta | 15 | \\n- | Nox Kue | MPUV Personnel | 15 | \\n- | Nox Kue | X1 Baseline | 15 | \\n- | Nox Kue | MPUV Cargo | 22 | \\n- | **San\\'Tok.Yai** | Constellation Taurus | 46 | \\n- | San\\'Tok.Yai | Hurricane | 40 | \\n- | San\\'Tok.Yai | Vulcan | 35 | \\n**ARGO Astronautics** | **MPUV Personnel** | Aurora LN | 15 | \\n- | **MPUV Cargo** | Mustang Alpha | 15 | \\n- | **SRV** | F7C-R Hornet Tracker | 21 | \\n- | SRV | Vulture | 21 | \\n- | SRV | Razor | 15 | \\n**Banu** | **Merchantman** | Mole | 145 | \\n- | Merchantman | Starfarer Gemini | 119 | \\n- | Merchantman | Prowler | 126 | \\n- | Merchantman | 600i Touring | 131 | \\n- | Merchantman | 600i Explorer | 89 | \\n- | Merchantman | Genesis Starliner | 168 | \\n- | **Defender** | Constellation Taurus | 42 | \\n- | Defender | Retaliator Base | 84 | \\n- | Defender | Cutlass Blue | 57 | \\n- | Defender | Freelancer MIS | 65 | \\n- | Defender | Gladiator | 70 | \\n- | Defender | Khartu-Al | 65 | \\n- | Defender | Sabre | 65 | \\n- | Defender | F7C Hornet Wildfire | 59 | \\n- | Defender | F7C-M Super Hornet | 55 | \\n**Consolidated outland** | **Mustang Delta** | Mustang Gamma | 22 | \\n- | Mustang Delta | Avenger Stalker | 15 | \\n**Crusader Industries** | **Genesis Starliner** | Constellation Aquila | 120 | \\n- | Genesis Starliner | Endeavor | 73 | \\n- | **Ares Inferno** | Constellation Andromeda | 26 | \\n- | Ares Ion | Constellation Andromeda | 26 | \\n- | **A2 Hercules** | 600i Touring | 341 | \\n- | A2 Hercules | 600i Explorer | 299 | \\n- | A2 Hercules | Carrack | 273 | \\n- | A2 Hercules | Constellation Aquila | 472 | \\n- | A2 Hercules | Crucible | 430 | \\n- | A2 Hercules | Endeavor | 430 | \\n- | A2 Hercules | Hull D | 325 | \\n- | A2 Hercules | Merchantman | 220 | \\n- | A2 Hercules | Orion | 194 | \\n- | A2 Hercules | Prowler | 336 | \\n- | A2 Hercules | Reclaimer | 378 | \\n- | A2 Hercules | Starfarer Gemini | 451 | \\n- | **C2 Hercules** | Constellation Aquila | 115 | \\n- | C2 Hercules | Valkyrie | 47 | \\n- | C2 Hercules | Crucible | 73 | \\n- | C2 Hercules | Endeavor | 73 | \\n- | C2 Hercules | Glaive | 73 | \\n- | C2 Hercules | Starfarer Gemini | 84 | \\n- | **M2 Hercules** | Constellation Aquila | 241 | \\n- | M2 Hercules | 600i Touring | 110 | \\n- | M2 Hercules | 600i Explorer | 68 | \\n- | M2 Hercules | C2 Hercules | 147 | \\n- | M2 Hercules | Crucible | 199 | \\n- | M2 Hercules | Endeavor | 199 | \\n- | M2 Hercules | Genesis Starliner | 147 | \\n- | M2 Hercules | Hull D | 94 | \\n- | M2 Hercules | Prowler | 105 | \\n- | M2 Hercules | Reclaimer | 147 | \\n- | M2 Hercules | Starfarer Gemini | 210 | \\n- | **Mercury Star Runner** | Prospector | 120 | \\n- | Mercury Star Runner | San\\'tok.yai | 52 | \\n- | Mercury Star Runner | Defender | 52 | \\n- | Mercury Star Runner | F7C Hornet Wildfire | 99 | \\n- | Mercury Star Runner | F7C-M Super Hornet | 94 | \\n- | Mercury Star Runner | Freelancer MIS | 99 | \\n- | Mercury Star Runner | Hurricane | 78 | \\n- | Mercury Star Runner | Khartu-Al | 105 | \\n- | Mercury Star Runner | Razor EX | 120 | \\n- | Mercury Star Runner | Sabre Comet | 89 | \\n- | Mercury Star Runner | Sabre | 105 | \\n- | Mercury Star Runner | Terrapin | 52 | \\n- | Mercury Star Runner | Vulcan | 73 | \\n**Drake Interplanetary** | **Buccaneer** | Cutlass Black | 21 | \\n- | **Caterpillar** | Constellation Andromeda | 116 | \\n- | Caterpillar | Constellation Aquila | 36 | \\n- | Caterpillar | Retaliator Bomber | 78 | \\n- | Caterpillar | Redeemer | 26 | \\n- | **Corsair** | Prospector | 78 | \\n- | Corsair | Constellation Taurus | 42 | \\n- | Corsair | Freelancer MAX | 84 | \\n- | Corsair | Freelancer MIS | 57 | \\n- | Corsair | Sabre | 63 | \\n- | Corsair | Sabre Comet | 47 | \\n- | Corsair | Gladiator | 68 | \\n- | Corsair | F7C-M Super Hornet | 52 | \\n- | Corsair | F7C-M Super Hornet Heartseeker | 36 | \\n- | Corsair | F7C Hornet Wildfire | 57 | \\n- | Corsair | Vulcan | 31 | \\n- | Corsair | Hurricane | 36 | \\n- | Corsair | Razor EX | 78 | \\n- | Corsair | Khartu-Al | 63 | \\n- | **Cutlass Black BIS** | Gladius | 42 | \\n- | **Cutlass Blue** | F7C-R Hornet Tracker | 47 | \\n- | Cutlass Blue | Razor | 36 | \\n- | Cutlass Blue | Prospector | 31 | \\n- | **Dragonfly Black** | Aurora LN | 15 | \\n- | Dragonfly Black | MPUV Cargo | 15 | \\n- | **Herald** | 325A | 26 | \\n- | Herald | Avenger Titan Renegade | 21 | \\n- | **Vulture** | Freelancer DUR | 15 | \\n**Esperia** | **Blade** | Constellation Andromeda | 52 | \\n- | **Glaive** | Constellation Aquila | 99 | \\n- | Glaive | Starfarer Gemini | 63 | \\n- | **Talon** | Gladius | 36 | \\n- | Talon | Reliant Mako (News Van) | 31 | \\n- | Talon Shrike | Gladius | 36 | \\n- | Talon Shrike | Reliant Mako (News Van) | 31 | \\n- | **Prowler** | Constellation Aquila | 162 | \\n- | Prowler | Reclaimer | 68 | \\n- | Prowler | Genesis Starliner | 68 | \\n- | Prowler | Endeavor | 120 | \\n- | Prowler | Crucible | 120 | \\n- | Prowler | 600i Touring | 42 | \\n**MISC** | **Freelancer MIS** | Prospector | 32 | \\n- | Freelancer MIS | Freelancer MAX | 37 | \\n- | Freelancer MIS | Gladiator | 22 | \\n- | Freelancer MIS | Sabre | 16 | \\n- | Freelancer MIS | Razor EX | 32 | \\n- | **Endeavor** | Constellation Aquila | 84 | \\n- | Endeavor | Starfarer Gemini | 52 | \\n- | **Hull A** | 300I | 36 | \\n- | Hull A | Mustang Gamma | 36 | \\n- | **Hull B** | 325A | 94 | \\n- | **Hull C** | Constellation Andromeda | 136 | \\n- | **Hull D** | Constellation Aquila | 178 | \\n- | Hull D | Starfarer Gemini | 157 | \\n- | **Razor** | F7C-R Hornet Tracker | 15 | \\n- | **Razor LX** | F7C-R Hornet Tracker | 21 | \\n- | Razor LX | Razor | 15 | \\n- | **Razor EX** | Freelancer MAX | 15 | \\n- | Razor EX | SRV | 15 | \\n- | Razor EX | Retaliator Base | 15 | \\n- | Razor EX | Razor LX | 15 | \\n- | **Reliant Tana (Skirmisher)** | 325a | 15 | \\n- | **Reliant Sen (Researcher)** | Arrow | 21 | \\n- | **Reliant Mako (News Van)** | Gladius | 15 | \\n- | **Starfarer** | Constellation Andromeda | 76 | \\n- | Starfarer | Vanguard Warden | 55 | \\n- | Starfarer | Vanguard Harbinger | 24 | \\n- | Starfarer | Vanguard Sentinel | 39 | \\n- | Starfarer | Vanguard Hoplite | 81 | \\n- | Starfarer | Blade | 39 | \\n- | Starfarer | Retaliator Bomber | 39 | \\n- | Starfarer | Apollo Medivac | 39 | \\n- | **Starfarer Gemini** | Constellation Aquila | 63 | \\n- | Starfarer Gemini | Mole | 47 | \\n**Origin Jumpworks** | **350r** | Freelancer | 28 | \\n- | 350r | F7C Hornet | 28 | \\n- | **M50** | Gladius | 22 | \\n- | **85X** | Aurora CL | 15 | \\n- | **100i** | Dragonfly Black | 18 | \\n- | 100i | Dragonfly Yellowjacket | 18 | \\n- | 100i | MPUV Personnel | 22 | \\n- | 100i | Mustang Beta | 22 | \\n- | 100i | X1 Baseline | 22 | \\n- | **125a** | 100i | 22 | \\n- | 125a | 85X | 19 | \\n- | 125a | Avenger Titan | 14 | \\n- | 125a | Ursa Rover | 19 | \\n- | 125a | X1 Force | 19 | \\n- | **135C** | 100i | 27 | \\n- | 135C | 125a | 15 | \\n- | 135C | 300i | 19 | \\n- | 135C | Cyclone | 19 | \\n- | 135C | Mustang Gamma | 19 | \\n- | **X1 Baseline** | Mustang Alpha | 21 | \\n- | X1 Baseline | Aurora LN | 15 | \\n- | X1 Baseline | MPUV Cargo | 15 | \\n- | **X1 Velocity** | Mustang Beta | 15 | \\n- | X1 Velocity | MPUV Personnel | 15 | \\n- | X1 Velocity | X1 Baseline | 15 | \\n- | **X1 Force** | Aurora CL | 15 | \\n- | X1 Force | X1 Velocity | 15 | \\n- | X1 Force | Nox | 15 | \\n- | **600i Touring** | Constellation Aquila | 152 | \\n- | 600i Touring | Constellation Phoenix | 110 | \\n- | 600i Touring | Reclaimer | 57 | \\n- | 600i Touring | Starfarer Gemini | 120 | \\n- | 600i Touring | Endeavor | 110 | \\n- | 600i Touring | Crucible | 110 | \\n- | 600i Touring | Eclipse | 162 | \\n- | 600i Touring | Genesis Starliner | 57 | \\n- | 600i Touring | C2 Hercules | 57 | \\n- | **600i Explorer** | 600i Touring | 63 | \\n- | 600i Explorer | Constellation Aquila | 194 | \\n- | 600i Explorer | Prowler | 57 | \\n- | 600i Explorer | Genesis Starliner | 99 | \\n- | 600i Explorer | Starfarer Gemini | 162 | \\n- | 600i Explorer | Endeavor | 152 | \\n- | 600i Explorer | Reclaimer | 99 | \\n- | 600i Explorer | Crucible | 152 | \\n- | 600i Explorer | Hull D | 47 | \\n- | 600i Explorer | C2 Hercules | 99 | \\n**RSI** | **Apollo Triage** | Constellation Andromeda | 23 | \\n- | Apollo Triage | San\\'tok.yai | 44 | \\n- | **Apollo Medivac** | Constellation Andromeda | 49 | \\n- | Apollo Medivac | Vanguard Warden | 26 | \\n- | Apollo Medivac | Apollo Triage | 36 | \\n- | Apollo Medivac | Vanguard Hoplite | 52 | \\n- | **Constellation Taurus** | F7C-R Hornet Tracker | 47 | \\n- | Constellation Taurus | Razor | 42 | \\n- | **Mantis** | F7C-R Hornet Tracker | 21 | \\n- | Mantis | Vulture | 21 | \\n- | Mantis | Razor | 15 | \\n- | Mantis | Ballista | 21 | \\n- | **Perseus** | Mole | 409 | \\n- | Perseus | Carrack | 110 | \\n- | Perseus | Carrack W/C8X | 89 | \\n- | Perseus | Carrack Expedition | 84 | \\n- | Perseus | Carrack Expedition W/C8X | 63 | \\n- | Perseus | Merchantman | 162 | \\n- | Perseus | Orion | 136 | \\n- | Perseus | 600i Explorer | 241 | \\n- | Perseus | M2 Hercules | 194 | \\n- | Perseus | Hull D | 267 | \\n- | **Polaris** | Constellation Aquila | 535 | \\n- | Polaris | Perseus | 183 | \\n- | Polaris | A2 Hercules | 175 | \\n- | Polaris | M2 Hercules | 357 | \\n- | Polaris | Nautilus Solstice Edition | 149 | \\n- | Polaris | Hammerhead | 149 | \\n- | Polaris | Carrack | 367 | \\n- | Polaris | Crucible | 499 | \\n- | Polaris | Merchantman | 315 | \\n- | Polaris | Orion | 257 | \\n- | **Orion** | Constellation Aquila | 246 | \\n- | Orion | Merchantman | 57 | \\n- | Orion | Starfarer | 246 | \\n- | Orion | 600i Touring | 194 | \\n- | Orion | Reclaimer | 215 | \\n- | Orion | Genesis Starliner | 215 | \\n- | Orion | Prowler | 173 | \\n\\n\\n╔════════════════════════════════════════╗\\n\\n **►10◄ CROSS-CHASSIS UPGRADES (CCUS), DOWNGRADE**                \\n\\n╚════════════════════════════════════════╝\\n\\nCCUs from more to less expensive ships\\n\\n**Target ship manufacturer** | **Target ship** | **Upgrade from** | **Price, $** | \\n:--- | :--- | :--- | :--- | \\n**Aegis Dynamics** | **Eclipse** | Redeemer | 64 | \\n- | Eclipse | Caterpillar | 17 | \\n- | **Vanguard Harbinger** | Constellation Aquila | 17 | \\n- | **Vanguard Hoplite** | Constellation Andromeda | 30 | \\n- | **Reclaimer** | Hull D | 94 | \\n- | Reclaimer | Merchantman | 78 | \\n- | **Vulcan** | Defender | 26 | \\n- | Vulcan | Terrapin | 15 | \\n- | **Sabre** | Constellation Taurus | 32 | \\n- | Sabre | Freelancer MIS | 16 | \\n- | Sabre Comet | Constellation Taurus | 52 | \\n- | Retaliator Bomber | Redeemer | 36 | \\n- | **Vanguard Harbinger** | Redeemer | 57 | \\n- | **Vanguard Sentinel** | Redeemer | 42 | \\n- | **Vanguard Warden** | Redeemer | 26 | \\n- | Vanguard Warden | Hull C | 26 | \\n**Anvil Aerospace** | **F7C-M Super Hornet** | Constellation Taurus | 47 | \\n- | **F7C Hornet Wildfire** | Constellation Taurus | 37 | \\n- | **Gladiator** | Constellation Taurus | 26 | \\n- | F7C-M Super Hornet Heartseeker | Defender | 21 | \\n- | Hurricane | Defender | 21 | \\n- | **Gladiator** | Constellation Taurus | 26 | \\n- | Gladiator | Cutlass Blue | 28 | \\n- | Valkyrie | Hull D | 42 | \\n- | Valkyrie | Merchantman | 47 | \\n- | Valkyrie | C2 Hercules | 31 | \\n**Aopoa (Xi\\'an)** | **Khartu-Al** | Constellation Taurus | 31 | \\n**Consolidated outland** | **Mustang Delta** | Hull A | 15 | \\n**Crusader Industries** | Genesis Starliner | Hull D | 73 | \\n- | Genesis Starliner | Merchantman | 73 | \\n- | C2 Hercules | Hull D | 31 | \\n- | C2 Hercules | Merchantman | 42 | \\n- | M2 Hercules | Orion | 52 | \\n**Drake Interplanetary** | Corsair | Defender | 42 | \\n**Esperia** | Prowler | Merchantman | 120 | \\n- | Prowler | Hull D | 105 | \\n**MISC** | **Freelancer MIS** | Constellation Taurus | 37 | \\n- | Freelancer MIS | Cutlass Blue | 37 | \\n- | Razor | Freelancer MAX | 15 | \\n- | **Razor EX** | Constellation Taurus | 15 | \\n- | Razor EX | Cutlass Blue | 15 | \\n- | **Starfarer** | Constellation Aquila | 37 | \\n**-** | Starfarer | Caterpillar | 18 | \\n**Origin Jumpworks** | **350r** | Cutlass Red | 15 | \\n- | 600i Touring | Hull D | 110 | \\n- | 600i Touring | Prowler | 110 | \\n- | 600i Explorer | Merchantman | 152 | \\n- | 600i Explorer | Carrack | 99 | \\n**RSI** | Apollo Triage | Mercury Star Runner | 42 | \\n- | Orion | Carrack | 120 | \\n\\n\\n\\n___\\n\\n╔═══════════════════════════════╗\\n\\n**[Click here](https://www.reddit.com/r/Starcitizen_trades/comments/8fb9th/inventory_furystorms_boutique_additional_items/) to continue to\\n2nd part of the store**            \\n\\n╚═══════════════════════════════╝\\n\\n___\\n\\n[*New players - use this code (STAR-MRG5-2TBJ) on registration to get additional 5000 UEC for free! (just click this link)*](https://robertsspaceindustries.com/enlist?referral=STAR-MRG5-2TBJ)',\n   'send_replies': True,\n   'spoiler': False,\n   'stickied': False,\n   'subreddit': 'Starcitizen_trades',\n   'subreddit_id': 't5_2xwvq',\n   'subreddit_subscribers': 25628,\n   'subreddit_type': 'public',\n   'thumbnail': 'self',\n   'title': \"[WTS] Furystorm's boutique™ (⌐ ͡■ ͜ʖ ͡■) Galaxy's Finest (⌐ ͡■ ͜ʖ ͡■) ✪ LTI/Starter packages ✪ Original concepts ✪ Carrack ✪ Polaris ★ Orion ★ LTI ships &amp; upgrades (Banu Merchantman/Caterpillar/Sabre/Vanguard/Warden/Glaive etc.) ★ Vanguard BUKs ★ Planetary Vehicles ★ Flair items ★\",\n   'total_awards_received': 0,\n   'treatment_tags': [],\n   'upvote_ratio': 1.0,\n   'url': 'https://www.reddit.com/r/Starcitizen_trades/comments/t2t66h/wts_furystorms_boutique_ʖ_galaxys_finest_ʖ/',\n   'whitelist_status': 'some_ads',\n   'wls': 7},\n  {'all_awardings': [],\n   'allow_live_comments': False,\n   'author': 'natureboyldn',\n   'author_flair_css_class': None,\n   'author_flair_richtext': [],\n   'author_flair_text': None,\n   'author_flair_type': 'text',\n   'author_fullname': 't2_1hlfgaqr',\n   'author_is_blocked': False,\n   'author_patreon_flair': False,\n   'author_premium': False,\n   'awarders': [],\n   'can_mod_post': False,\n   'contest_mode': False,\n   'created_utc': 1645982911,\n   'domain': 'politico.eu',\n   'full_link': 'https://www.reddit.com/r/worldnews/comments/t2t4wn/russian_official_apologizes_to_ukraine_at_climate/',\n   'gildings': {},\n   'id': 't2t4wn',\n   'is_created_from_ads_ui': False,\n   'is_crosspostable': True,\n   'is_meta': False,\n   'is_original_content': False,\n   'is_reddit_media_domain': False,\n   'is_robot_indexable': True,\n   'is_self': False,\n   'is_video': False,\n   'link_flair_background_color': '',\n   'link_flair_css_class': 'russia',\n   'link_flair_richtext': [],\n   'link_flair_text': 'Russia/Ukraine',\n   'link_flair_text_color': 'dark',\n   'link_flair_type': 'text',\n   'locked': False,\n   'media_only': False,\n   'no_follow': False,\n   'num_comments': 0,\n   'num_crossposts': 0,\n   'over_18': False,\n   'parent_whitelist_status': 'all_ads',\n   'permalink': '/r/worldnews/comments/t2t4wn/russian_official_apologizes_to_ukraine_at_climate/',\n   'pinned': False,\n   'post_hint': 'link',\n   'preview': {'enabled': False,\n    'images': [{'id': 'mw7JlWGej5DIAC8xqe1sFSl3YdDxE5NGP-KrxQi0-Vo',\n      'resolutions': [{'height': 56,\n        'url': 'https://external-preview.redd.it/YW5hfDAMX0uD41rpC6OLa-wJ-Wml5fU7fxd7Gpe9UQE.jpg?width=108&amp;crop=smart&amp;auto=webp&amp;s=2ea83d2cc32de7dcb0888c1c23a0f379c755518f',\n        'width': 108},\n       {'height': 113,\n        'url': 'https://external-preview.redd.it/YW5hfDAMX0uD41rpC6OLa-wJ-Wml5fU7fxd7Gpe9UQE.jpg?width=216&amp;crop=smart&amp;auto=webp&amp;s=4c61c35f463f53acb7a6f4ffb4dd05d20126e218',\n        'width': 216},\n       {'height': 168,\n        'url': 'https://external-preview.redd.it/YW5hfDAMX0uD41rpC6OLa-wJ-Wml5fU7fxd7Gpe9UQE.jpg?width=320&amp;crop=smart&amp;auto=webp&amp;s=81dfc97a9566fa4dadda95ceabb6553ccde4d313',\n        'width': 320},\n       {'height': 336,\n        'url': 'https://external-preview.redd.it/YW5hfDAMX0uD41rpC6OLa-wJ-Wml5fU7fxd7Gpe9UQE.jpg?width=640&amp;crop=smart&amp;auto=webp&amp;s=aaaeaea6e202ce6904abdae54d12872a8087294e',\n        'width': 640},\n       {'height': 504,\n        'url': 'https://external-preview.redd.it/YW5hfDAMX0uD41rpC6OLa-wJ-Wml5fU7fxd7Gpe9UQE.jpg?width=960&amp;crop=smart&amp;auto=webp&amp;s=e8399bef73f4fd13f5a2402758da26a1d592f6ad',\n        'width': 960},\n       {'height': 567,\n        'url': 'https://external-preview.redd.it/YW5hfDAMX0uD41rpC6OLa-wJ-Wml5fU7fxd7Gpe9UQE.jpg?width=1080&amp;crop=smart&amp;auto=webp&amp;s=b39c1a11b8f0a4d46ebc57b192e9a34a579f6cdc',\n        'width': 1080}],\n      'source': {'height': 630,\n       'url': 'https://external-preview.redd.it/YW5hfDAMX0uD41rpC6OLa-wJ-Wml5fU7fxd7Gpe9UQE.jpg?auto=webp&amp;s=5a159554434c970c9dab97cd8c8cc9ebac49ba5d',\n       'width': 1200},\n      'variants': {}}]},\n   'pwls': 6,\n   'retrieved_on': 1645982921,\n   'score': 2,\n   'selftext': '',\n   'send_replies': True,\n   'spoiler': False,\n   'stickied': False,\n   'subreddit': 'worldnews',\n   'subreddit_id': 't5_2qh13',\n   'subreddit_subscribers': 27991989,\n   'subreddit_type': 'public',\n   'thumbnail': 'default',\n   'thumbnail_height': 73,\n   'thumbnail_width': 140,\n   'title': 'Russian official apologizes to Ukraine at climate science meeting',\n   'total_awards_received': 0,\n   'treatment_tags': [],\n   'upvote_ratio': 1.0,\n   'url': 'https://www.politico.eu/article/russian-official-apologizes-to-ukraine-at-climate-science-meeting/',\n   'url_overridden_by_dest': 'https://www.politico.eu/article/russian-official-apologizes-to-ukraine-at-climate-science-meeting/',\n   'whitelist_status': 'all_ads',\n   'wls': 6},\n  {'all_awardings': [],\n   'allow_live_comments': False,\n   'author': 'NapoleonBoneparty',\n   'author_flair_css_class': None,\n   'author_flair_richtext': [{'e': 'text', 't': '17'}],\n   'author_flair_template_id': 'f2e6204c-9bc7-11e1-af72-12313b078981',\n   'author_flair_text': '17',\n   'author_flair_text_color': 'dark',\n   'author_flair_type': 'richtext',\n   'author_fullname': 't2_ctsxhj9m',\n   'author_is_blocked': False,\n   'author_patreon_flair': False,\n   'author_premium': False,\n   'awarders': [],\n   'can_mod_post': False,\n   'contest_mode': False,\n   'created_utc': 1645982902,\n   'domain': 'self.teenagers',\n   'full_link': 'https://www.reddit.com/r/teenagers/comments/t2t4s6/i_take_the_act_in_over_a_month_any_tips_and/',\n   'gildings': {},\n   'id': 't2t4s6',\n   'is_created_from_ads_ui': False,\n   'is_crosspostable': True,\n   'is_meta': False,\n   'is_original_content': False,\n   'is_reddit_media_domain': False,\n   'is_robot_indexable': True,\n   'is_self': True,\n   'is_video': False,\n   'link_flair_background_color': '',\n   'link_flair_css_class': 'other',\n   'link_flair_richtext': [{'e': 'text', 't': 'Other'}],\n   'link_flair_template_id': '855d88d0-845f-11e3-8645-12313d18400c',\n   'link_flair_text': 'Other',\n   'link_flair_text_color': 'dark',\n   'link_flair_type': 'richtext',\n   'locked': False,\n   'media_only': False,\n   'no_follow': True,\n   'num_comments': 0,\n   'num_crossposts': 0,\n   'over_18': False,\n   'parent_whitelist_status': 'no_ads',\n   'permalink': '/r/teenagers/comments/t2t4s6/i_take_the_act_in_over_a_month_any_tips_and/',\n   'pinned': False,\n   'pwls': 0,\n   'retrieved_on': 1645982912,\n   'score': 1,\n   'selftext': ' I’m  nervous. But to be honest, I’m not worried about the math and reading  sections. What scares me to shits, is the math and science parts. With  science, I think I’m really going to sit there and analyse the data. So  I’m definitely going to take my time. But math is going to be a terrible. Especially because my math teacher is terrible and doesn’t  teach properly. For those that have took the ACT, what was your score?',\n   'send_replies': True,\n   'spoiler': False,\n   'stickied': False,\n   'subreddit': 'teenagers',\n   'subreddit_id': 't5_2rjli',\n   'subreddit_subscribers': 2744405,\n   'subreddit_type': 'public',\n   'thumbnail': 'self',\n   'title': 'I take the ACT in over a month. Any tips and suggestions?',\n   'total_awards_received': 0,\n   'treatment_tags': [],\n   'upvote_ratio': 1.0,\n   'url': 'https://www.reddit.com/r/teenagers/comments/t2t4s6/i_take_the_act_in_over_a_month_any_tips_and/',\n   'whitelist_status': 'no_ads',\n   'wls': 0},\n  {'all_awardings': [],\n   'allow_live_comments': False,\n   'author': 'Leg__Day',\n   'author_flair_background_color': '#dadada',\n   'author_flair_css_class': None,\n   'author_flair_richtext': [{'e': 'text', 't': 'Simrell MVS'}],\n   'author_flair_template_id': '0cb0a36e-6f1b-11eb-9019-0e6c65a023cd',\n   'author_flair_text': 'Simrell MVS',\n   'author_flair_text_color': 'dark',\n   'author_flair_type': 'richtext',\n   'author_fullname': 't2_jn23h',\n   'author_is_blocked': False,\n   'author_patreon_flair': False,\n   'author_premium': False,\n   'awarders': [],\n   'can_mod_post': False,\n   'contest_mode': False,\n   'created_utc': 1645982898,\n   'domain': 'self.vaporents',\n   'full_link': 'https://www.reddit.com/r/vaporents/comments/t2t4pv/science_of_glass/',\n   'gildings': {},\n   'id': 't2t4pv',\n   'is_created_from_ads_ui': False,\n   'is_crosspostable': True,\n   'is_meta': False,\n   'is_original_content': False,\n   'is_reddit_media_domain': False,\n   'is_robot_indexable': True,\n   'is_self': True,\n   'is_video': False,\n   'link_flair_background_color': '#c1e3e6',\n   'link_flair_css_class': 'beginner',\n   'link_flair_richtext': [{'e': 'text', 't': 'Beginner'}],\n   'link_flair_template_id': 'd33d02bc-13ea-11e5-9049-0e4ea2f1c787',\n   'link_flair_text': 'Beginner',\n   'link_flair_text_color': 'dark',\n   'link_flair_type': 'richtext',\n   'locked': False,\n   'media_only': False,\n   'no_follow': True,\n   'num_comments': 0,\n   'num_crossposts': 0,\n   'over_18': False,\n   'parent_whitelist_status': 'no_ads',\n   'permalink': '/r/vaporents/comments/t2t4pv/science_of_glass/',\n   'pinned': False,\n   'pwls': 0,\n   'retrieved_on': 1645982908,\n   'score': 1,\n   'selftext': 'Hey experts, I have a question about the effects of vaping through glass. This might be anecdotal and not the case for everyone, but when I vape my MVS through my little 7” Grav bubbler glass piece the high and taste is greatly reduced versus if I go straight to the face. Why is this? Stupid noob question I know but I would love to know why and if it’s possible to achieve similar high’s and great flavor through glass?',\n   'send_replies': True,\n   'spoiler': False,\n   'stickied': False,\n   'subreddit': 'vaporents',\n   'subreddit_id': 't5_2upjd',\n   'subreddit_subscribers': 186982,\n   'subreddit_type': 'public',\n   'thumbnail': 'self',\n   'title': 'Science of Glass?',\n   'total_awards_received': 0,\n   'treatment_tags': [],\n   'upvote_ratio': 1.0,\n   'url': 'https://www.reddit.com/r/vaporents/comments/t2t4pv/science_of_glass/',\n   'whitelist_status': 'no_ads',\n   'wls': 0},\n  {'all_awardings': [],\n   'allow_live_comments': False,\n   'author': 'snaresamn',\n   'author_flair_css_class': None,\n   'author_flair_richtext': [],\n   'author_flair_text': None,\n   'author_flair_type': 'text',\n   'author_fullname': 't2_62z5y',\n   'author_is_blocked': False,\n   'author_patreon_flair': False,\n   'author_premium': False,\n   'awarders': [],\n   'can_mod_post': False,\n   'contest_mode': False,\n   'created_utc': 1645982890,\n   'crosspost_parent': 't3_t2t489',\n   'crosspost_parent_list': [{'all_awardings': [],\n     'allow_live_comments': False,\n     'approved_at_utc': None,\n     'approved_by': None,\n     'archived': False,\n     'author': 'snaresamn',\n     'author_flair_background_color': None,\n     'author_flair_css_class': None,\n     'author_flair_richtext': [],\n     'author_flair_template_id': None,\n     'author_flair_text': None,\n     'author_flair_text_color': None,\n     'author_flair_type': 'text',\n     'author_fullname': 't2_62z5y',\n     'author_is_blocked': False,\n     'author_patreon_flair': False,\n     'author_premium': False,\n     'awarders': [],\n     'banned_at_utc': None,\n     'banned_by': None,\n     'can_gild': True,\n     'can_mod_post': False,\n     'category': None,\n     'clicked': False,\n     'content_categories': None,\n     'contest_mode': False,\n     'created': 1645982857.0,\n     'created_utc': 1645982857.0,\n     'discussion_type': None,\n     'distinguished': None,\n     'domain': 'girtsd.org',\n     'downs': 0,\n     'edited': False,\n     'gilded': 0,\n     'gildings': {},\n     'hidden': False,\n     'hide_score': True,\n     'id': 't2t489',\n     'is_created_from_ads_ui': False,\n     'is_crosspostable': True,\n     'is_meta': False,\n     'is_original_content': False,\n     'is_reddit_media_domain': False,\n     'is_robot_indexable': True,\n     'is_self': False,\n     'is_video': False,\n     'likes': None,\n     'link_flair_background_color': '',\n     'link_flair_css_class': None,\n     'link_flair_richtext': [],\n     'link_flair_text': None,\n     'link_flair_text_color': 'dark',\n     'link_flair_type': 'text',\n     'locked': False,\n     'media': None,\n     'media_embed': {},\n     'media_only': False,\n     'mod_note': None,\n     'mod_reason_by': None,\n     'mod_reason_title': None,\n     'mod_reports': [],\n     'name': 't3_t2t489',\n     'no_follow': True,\n     'num_comments': 0,\n     'num_crossposts': 0,\n     'num_reports': None,\n     'over_18': False,\n     'parent_whitelist_status': None,\n     'permalink': '/r/marineArchaeology/comments/t2t489/girt_scientific_divers_is_a_conservation_focused/',\n     'pinned': False,\n     'pwls': None,\n     'quarantine': False,\n     'removal_reason': None,\n     'removed_by': None,\n     'removed_by_category': None,\n     'report_reasons': None,\n     'saved': False,\n     'score': 1,\n     'secure_media': None,\n     'secure_media_embed': {},\n     'selftext': '',\n     'selftext_html': None,\n     'send_replies': True,\n     'spoiler': False,\n     'stickied': False,\n     'subreddit': 'marineArchaeology',\n     'subreddit_id': 't5_5whv67',\n     'subreddit_name_prefixed': 'r/marineArchaeology',\n     'subreddit_subscribers': 2,\n     'subreddit_type': 'public',\n     'suggested_sort': None,\n     'thumbnail': 'default',\n     'thumbnail_height': None,\n     'thumbnail_width': None,\n     'title': 'GIRT Scientific Divers is a conservation focused no-impact citizen-science project that aims to train divers to systematically document observable physical and natural features of historic shipwrecks, submerged aircraft and other underwater cultural artefacts',\n     'top_awarded_type': None,\n     'total_awards_received': 0,\n     'treatment_tags': [],\n     'ups': 1,\n     'upvote_ratio': 1.0,\n     'url': 'https://www.girtsd.org/',\n     'url_overridden_by_dest': 'https://www.girtsd.org/',\n     'user_reports': [],\n     'view_count': None,\n     'visited': False,\n     'whitelist_status': None,\n     'wls': None}],\n   'domain': 'girtsd.org',\n   'full_link': 'https://www.reddit.com/r/scuba/comments/t2t4m5/girt_scientific_divers_is_a_conservation_focused/',\n   'gildings': {},\n   'id': 't2t4m5',\n   'is_created_from_ads_ui': False,\n   'is_crosspostable': False,\n   'is_meta': False,\n   'is_original_content': False,\n   'is_reddit_media_domain': False,\n   'is_robot_indexable': False,\n   'is_self': False,\n   'is_video': False,\n   'link_flair_background_color': '',\n   'link_flair_richtext': [],\n   'link_flair_text_color': 'dark',\n   'link_flair_type': 'text',\n   'locked': False,\n   'media_only': False,\n   'no_follow': True,\n   'num_comments': 0,\n   'num_crossposts': 0,\n   'over_18': False,\n   'parent_whitelist_status': 'all_ads',\n   'permalink': '/r/scuba/comments/t2t4m5/girt_scientific_divers_is_a_conservation_focused/',\n   'pinned': False,\n   'pwls': 6,\n   'removed_by_category': 'reddit',\n   'retrieved_on': 1645982900,\n   'score': 1,\n   'selftext': '',\n   'send_replies': True,\n   'spoiler': False,\n   'stickied': False,\n   'subreddit': 'scuba',\n   'subreddit_id': 't5_2qhii',\n   'subreddit_subscribers': 117160,\n   'subreddit_type': 'public',\n   'thumbnail': 'default',\n   'title': 'GIRT Scientific Divers is a conservation focused no-impact citizen-science project that aims to train divers to systematically document observable physical and natural features of historic shipwrecks, submerged aircraft and other underwater cultural artefacts',\n   'total_awards_received': 0,\n   'treatment_tags': [],\n   'upvote_ratio': 1.0,\n   'url': 'https://www.girtsd.org/',\n   'url_overridden_by_dest': 'https://www.girtsd.org/',\n   'whitelist_status': 'all_ads',\n   'wls': 6},\n  {'all_awardings': [],\n   'allow_live_comments': False,\n   'author': 'persianmessi',\n   'author_flair_css_class': None,\n   'author_flair_richtext': [],\n   'author_flair_text': None,\n   'author_flair_type': 'text',\n   'author_fullname': 't2_wexx9e4',\n   'author_is_blocked': False,\n   'author_patreon_flair': False,\n   'author_premium': False,\n   'awarders': [],\n   'can_mod_post': False,\n   'contest_mode': False,\n   'created_utc': 1645982858,\n   'domain': 'self.HomeworkHelpWanted',\n   'full_link': 'https://www.reddit.com/r/HomeworkHelpWanted/comments/t2t48n/psc_physical_science_weather_lab_help_me/',\n   'gildings': {},\n   'id': 't2t48n',\n   'is_created_from_ads_ui': False,\n   'is_crosspostable': True,\n   'is_meta': False,\n   'is_original_content': False,\n   'is_reddit_media_domain': False,\n   'is_robot_indexable': True,\n   'is_self': True,\n   'is_video': False,\n   'link_flair_background_color': '#ffd635',\n   'link_flair_richtext': [{'e': 'text', 't': 'Student - Bounty Offering'}],\n   'link_flair_template_id': '3a6816d0-c4d4-11ea-bab3-0eaa38f8df6b',\n   'link_flair_text': 'Student - Bounty Offering',\n   'link_flair_text_color': 'dark',\n   'link_flair_type': 'richtext',\n   'locked': False,\n   'media_only': False,\n   'no_follow': True,\n   'num_comments': 1,\n   'num_crossposts': 0,\n   'over_18': False,\n   'parent_whitelist_status': 'all_ads',\n   'permalink': '/r/HomeworkHelpWanted/comments/t2t48n/psc_physical_science_weather_lab_help_me/',\n   'pinned': False,\n   'pwls': 6,\n   'retrieved_on': 1645982868,\n   'score': 1,\n   'selftext': 'need help with a pretty easy homework due today.',\n   'send_replies': True,\n   'spoiler': False,\n   'stickied': False,\n   'subreddit': 'HomeworkHelpWanted',\n   'subreddit_id': 't5_2uypnw',\n   'subreddit_subscribers': 9750,\n   'subreddit_type': 'public',\n   'thumbnail': 'self',\n   'title': 'psc , PHYSICAL SCIENCE WEATHER LAB. help me',\n   'total_awards_received': 0,\n   'treatment_tags': [],\n   'upvote_ratio': 1.0,\n   'url': 'https://www.reddit.com/r/HomeworkHelpWanted/comments/t2t48n/psc_physical_science_weather_lab_help_me/',\n   'whitelist_status': 'all_ads',\n   'wls': 6},\n  {'all_awardings': [],\n   'allow_live_comments': False,\n   'author': 'snaresamn',\n   'author_flair_css_class': None,\n   'author_flair_richtext': [],\n   'author_flair_text': None,\n   'author_flair_type': 'text',\n   'author_fullname': 't2_62z5y',\n   'author_is_blocked': False,\n   'author_patreon_flair': False,\n   'author_premium': False,\n   'awarders': [],\n   'can_mod_post': False,\n   'contest_mode': False,\n   'created_utc': 1645982857,\n   'domain': 'girtsd.org',\n   'full_link': 'https://www.reddit.com/r/marineArchaeology/comments/t2t489/girt_scientific_divers_is_a_conservation_focused/',\n   'gildings': {},\n   'id': 't2t489',\n   'is_created_from_ads_ui': False,\n   'is_crosspostable': True,\n   'is_meta': False,\n   'is_original_content': False,\n   'is_reddit_media_domain': False,\n   'is_robot_indexable': True,\n   'is_self': False,\n   'is_video': False,\n   'link_flair_background_color': '',\n   'link_flair_richtext': [],\n   'link_flair_text_color': 'dark',\n   'link_flair_type': 'text',\n   'locked': False,\n   'media_only': False,\n   'no_follow': True,\n   'num_comments': 0,\n   'num_crossposts': 0,\n   'over_18': False,\n   'permalink': '/r/marineArchaeology/comments/t2t489/girt_scientific_divers_is_a_conservation_focused/',\n   'pinned': False,\n   'retrieved_on': 1645982868,\n   'score': 1,\n   'selftext': '',\n   'send_replies': True,\n   'spoiler': False,\n   'stickied': False,\n   'subreddit': 'marineArchaeology',\n   'subreddit_id': 't5_5whv67',\n   'subreddit_subscribers': 2,\n   'subreddit_type': 'public',\n   'thumbnail': 'default',\n   'title': 'GIRT Scientific Divers is a conservation focused no-impact citizen-science project that aims to train divers to systematically document observable physical and natural features of historic shipwrecks, submerged aircraft and other underwater cultural artefacts',\n   'total_awards_received': 0,\n   'treatment_tags': [],\n   'upvote_ratio': 1.0,\n   'url': 'https://www.girtsd.org/',\n   'url_overridden_by_dest': 'https://www.girtsd.org/'},\n  {'all_awardings': [],\n   'allow_live_comments': False,\n   'author': 'Ordinary_Craft',\n   'author_flair_css_class': None,\n   'author_flair_richtext': [],\n   'author_flair_text': None,\n   'author_flair_type': 'text',\n   'author_fullname': 't2_6l105jav',\n   'author_is_blocked': False,\n   'author_patreon_flair': False,\n   'author_premium': False,\n   'awarders': [],\n   'can_mod_post': False,\n   'contest_mode': False,\n   'created_utc': 1645982848,\n   'domain': 'self.Udemy',\n   'full_link': 'https://www.reddit.com/r/Udemy/comments/t2t43b/ultimate_python_bootcamp_for_data_science_machine/',\n   'gildings': {},\n   'id': 't2t43b',\n   'is_created_from_ads_ui': False,\n   'is_crosspostable': True,\n   'is_meta': False,\n   'is_original_content': False,\n   'is_reddit_media_domain': False,\n   'is_robot_indexable': True,\n   'is_self': True,\n   'is_video': False,\n   'link_flair_background_color': '',\n   'link_flair_richtext': [],\n   'link_flair_text_color': 'dark',\n   'link_flair_type': 'text',\n   'locked': False,\n   'media_only': False,\n   'no_follow': True,\n   'num_comments': 0,\n   'num_crossposts': 0,\n   'over_18': False,\n   'parent_whitelist_status': 'all_ads',\n   'permalink': '/r/Udemy/comments/t2t43b/ultimate_python_bootcamp_for_data_science_machine/',\n   'pinned': False,\n   'post_hint': 'self',\n   'preview': {'enabled': False,\n    'images': [{'id': 'FDzekJgf35SCvdmyFx2aOVimlaKD7eKGMvK0TxrO_eE',\n      'resolutions': [{'height': 60,\n        'url': 'https://external-preview.redd.it/l0Q3zbvOynyLczxs4MKek34R3DJFGC_O6TvkG1mWEVA.jpg?width=108&amp;crop=smart&amp;auto=webp&amp;s=0ed73452b5272416f2162ce6228de1f653f6cee5',\n        'width': 108},\n       {'height': 121,\n        'url': 'https://external-preview.redd.it/l0Q3zbvOynyLczxs4MKek34R3DJFGC_O6TvkG1mWEVA.jpg?width=216&amp;crop=smart&amp;auto=webp&amp;s=98cf933e5f4be99720c3b2c85818eeaa656c6b67',\n        'width': 216},\n       {'height': 180,\n        'url': 'https://external-preview.redd.it/l0Q3zbvOynyLczxs4MKek34R3DJFGC_O6TvkG1mWEVA.jpg?width=320&amp;crop=smart&amp;auto=webp&amp;s=4934dc7488e2cf29323df5cdbf4295760dc05a4c',\n        'width': 320}],\n      'source': {'height': 270,\n       'url': 'https://external-preview.redd.it/l0Q3zbvOynyLczxs4MKek34R3DJFGC_O6TvkG1mWEVA.jpg?auto=webp&amp;s=059ba80d84d5d3003aa36a7fbe1296639a459219',\n       'width': 480},\n      'variants': {}}]},\n   'pwls': 6,\n   'retrieved_on': 1645982858,\n   'score': 1,\n   'selftext': '[https://www.udemy.store/2022/02/ultimate-python-bootcamp-for-data.html](https://www.udemy.store/2022/02/ultimate-python-bootcamp-for-data.html)',\n   'send_replies': True,\n   'spoiler': False,\n   'stickied': False,\n   'subreddit': 'Udemy',\n   'subreddit_id': 't5_2xros',\n   'subreddit_subscribers': 18395,\n   'subreddit_type': 'public',\n   'thumbnail': 'self',\n   'title': 'Ultimate Python Bootcamp For Data Science &amp; Machine Learning',\n   'total_awards_received': 0,\n   'treatment_tags': [],\n   'upvote_ratio': 1.0,\n   'url': 'https://www.reddit.com/r/Udemy/comments/t2t43b/ultimate_python_bootcamp_for_data_science_machine/',\n   'whitelist_status': 'all_ads',\n   'wls': 6},\n  {'all_awardings': [],\n   'allow_live_comments': False,\n   'author': 'Ordinary_Craft',\n   'author_flair_css_class': None,\n   'author_flair_richtext': [],\n   'author_flair_text': None,\n   'author_flair_type': 'text',\n   'author_fullname': 't2_6l105jav',\n   'author_is_blocked': False,\n   'author_patreon_flair': False,\n   'author_premium': False,\n   'awarders': [],\n   'can_mod_post': False,\n   'contest_mode': False,\n   'created_utc': 1645982845,\n   'domain': 'udemy.store',\n   'full_link': 'https://www.reddit.com/r/FreeCourses_coupons/comments/t2t421/ultimate_python_bootcamp_for_data_science_machine/',\n   'gildings': {},\n   'id': 't2t421',\n   'is_created_from_ads_ui': False,\n   'is_crosspostable': True,\n   'is_meta': False,\n   'is_original_content': False,\n   'is_reddit_media_domain': False,\n   'is_robot_indexable': True,\n   'is_self': False,\n   'is_video': False,\n   'link_flair_background_color': '',\n   'link_flair_richtext': [],\n   'link_flair_text_color': 'dark',\n   'link_flair_type': 'text',\n   'locked': False,\n   'media_only': False,\n   'no_follow': True,\n   'num_comments': 0,\n   'num_crossposts': 0,\n   'over_18': False,\n   'permalink': '/r/FreeCourses_coupons/comments/t2t421/ultimate_python_bootcamp_for_data_science_machine/',\n   'pinned': False,\n   'post_hint': 'link',\n   'preview': {'enabled': False,\n    'images': [{'id': 'FDzekJgf35SCvdmyFx2aOVimlaKD7eKGMvK0TxrO_eE',\n      'resolutions': [{'height': 60,\n        'url': 'https://external-preview.redd.it/l0Q3zbvOynyLczxs4MKek34R3DJFGC_O6TvkG1mWEVA.jpg?width=108&amp;crop=smart&amp;auto=webp&amp;s=0ed73452b5272416f2162ce6228de1f653f6cee5',\n        'width': 108},\n       {'height': 121,\n        'url': 'https://external-preview.redd.it/l0Q3zbvOynyLczxs4MKek34R3DJFGC_O6TvkG1mWEVA.jpg?width=216&amp;crop=smart&amp;auto=webp&amp;s=98cf933e5f4be99720c3b2c85818eeaa656c6b67',\n        'width': 216},\n       {'height': 180,\n        'url': 'https://external-preview.redd.it/l0Q3zbvOynyLczxs4MKek34R3DJFGC_O6TvkG1mWEVA.jpg?width=320&amp;crop=smart&amp;auto=webp&amp;s=4934dc7488e2cf29323df5cdbf4295760dc05a4c',\n        'width': 320}],\n      'source': {'height': 270,\n       'url': 'https://external-preview.redd.it/l0Q3zbvOynyLczxs4MKek34R3DJFGC_O6TvkG1mWEVA.jpg?auto=webp&amp;s=059ba80d84d5d3003aa36a7fbe1296639a459219',\n       'width': 480},\n      'variants': {}}]},\n   'retrieved_on': 1645982855,\n   'score': 1,\n   'selftext': '',\n   'send_replies': True,\n   'spoiler': False,\n   'stickied': False,\n   'subreddit': 'FreeCourses_coupons',\n   'subreddit_id': 't5_40r1lg',\n   'subreddit_subscribers': 404,\n   'subreddit_type': 'restricted',\n   'thumbnail': 'https://b.thumbs.redditmedia.com/5zrLkniWdZ0tDXrDvUXuo2kGjGnhXMzhO0EkL3gp4_s.jpg',\n   'thumbnail_height': 78,\n   'thumbnail_width': 140,\n   'title': 'Ultimate Python Bootcamp For Data Science &amp; Machine Learning',\n   'total_awards_received': 0,\n   'treatment_tags': [],\n   'upvote_ratio': 1.0,\n   'url': 'https://www.udemy.store/2022/02/ultimate-python-bootcamp-for-data.html',\n   'url_overridden_by_dest': 'https://www.udemy.store/2022/02/ultimate-python-bootcamp-for-data.html'},\n  {'all_awardings': [],\n   'allow_live_comments': False,\n   'author': 'Ordinary_Craft',\n   'author_flair_css_class': None,\n   'author_flair_richtext': [],\n   'author_flair_text': None,\n   'author_flair_type': 'text',\n   'author_fullname': 't2_6l105jav',\n   'author_is_blocked': False,\n   'author_patreon_flair': False,\n   'author_premium': False,\n   'awarders': [],\n   'can_mod_post': False,\n   'contest_mode': False,\n   'created_utc': 1645982842,\n   'domain': 'udemy.store',\n   'full_link': 'https://www.reddit.com/r/udemyfreebies/comments/t2t413/ultimate_python_bootcamp_for_data_science_machine/',\n   'gildings': {},\n   'id': 't2t413',\n   'is_created_from_ads_ui': False,\n   'is_crosspostable': True,\n   'is_meta': False,\n   'is_original_content': False,\n   'is_reddit_media_domain': False,\n   'is_robot_indexable': True,\n   'is_self': False,\n   'is_video': False,\n   'link_flair_background_color': '',\n   'link_flair_richtext': [],\n   'link_flair_text_color': 'dark',\n   'link_flair_type': 'text',\n   'locked': False,\n   'media_only': False,\n   'no_follow': True,\n   'num_comments': 0,\n   'num_crossposts': 0,\n   'over_18': False,\n   'parent_whitelist_status': 'all_ads',\n   'permalink': '/r/udemyfreebies/comments/t2t413/ultimate_python_bootcamp_for_data_science_machine/',\n   'pinned': False,\n   'post_hint': 'link',\n   'preview': {'enabled': False,\n    'images': [{'id': 'FDzekJgf35SCvdmyFx2aOVimlaKD7eKGMvK0TxrO_eE',\n      'resolutions': [{'height': 60,\n        'url': 'https://external-preview.redd.it/l0Q3zbvOynyLczxs4MKek34R3DJFGC_O6TvkG1mWEVA.jpg?width=108&amp;crop=smart&amp;auto=webp&amp;s=0ed73452b5272416f2162ce6228de1f653f6cee5',\n        'width': 108},\n       {'height': 121,\n        'url': 'https://external-preview.redd.it/l0Q3zbvOynyLczxs4MKek34R3DJFGC_O6TvkG1mWEVA.jpg?width=216&amp;crop=smart&amp;auto=webp&amp;s=98cf933e5f4be99720c3b2c85818eeaa656c6b67',\n        'width': 216},\n       {'height': 180,\n        'url': 'https://external-preview.redd.it/l0Q3zbvOynyLczxs4MKek34R3DJFGC_O6TvkG1mWEVA.jpg?width=320&amp;crop=smart&amp;auto=webp&amp;s=4934dc7488e2cf29323df5cdbf4295760dc05a4c',\n        'width': 320}],\n      'source': {'height': 270,\n       'url': 'https://external-preview.redd.it/l0Q3zbvOynyLczxs4MKek34R3DJFGC_O6TvkG1mWEVA.jpg?auto=webp&amp;s=059ba80d84d5d3003aa36a7fbe1296639a459219',\n       'width': 480},\n      'variants': {}}]},\n   'pwls': 6,\n   'retrieved_on': 1645982853,\n   'score': 1,\n   'selftext': '',\n   'send_replies': True,\n   'spoiler': False,\n   'stickied': False,\n   'subreddit': 'udemyfreebies',\n   'subreddit_id': 't5_36tut',\n   'subreddit_subscribers': 32263,\n   'subreddit_type': 'public',\n   'thumbnail': 'https://b.thumbs.redditmedia.com/5zrLkniWdZ0tDXrDvUXuo2kGjGnhXMzhO0EkL3gp4_s.jpg',\n   'thumbnail_height': 78,\n   'thumbnail_width': 140,\n   'title': 'Ultimate Python Bootcamp For Data Science &amp; Machine Learning',\n   'total_awards_received': 0,\n   'treatment_tags': [],\n   'upvote_ratio': 1.0,\n   'url': 'https://www.udemy.store/2022/02/ultimate-python-bootcamp-for-data.html',\n   'url_overridden_by_dest': 'https://www.udemy.store/2022/02/ultimate-python-bootcamp-for-data.html',\n   'whitelist_status': 'all_ads',\n   'wls': 6},\n  {'all_awardings': [],\n   'allow_live_comments': False,\n   'author': 'd0l0r3sh4ze',\n   'author_flair_css_class': None,\n   'author_flair_richtext': [],\n   'author_flair_text': None,\n   'author_flair_type': 'text',\n   'author_fullname': 't2_1fz98py2',\n   'author_is_blocked': False,\n   'author_patreon_flair': False,\n   'author_premium': False,\n   'awarders': [],\n   'can_mod_post': False,\n   'contest_mode': False,\n   'created_utc': 1645982727,\n   'domain': 'self.HowToBeHot',\n   'full_link': 'https://www.reddit.com/r/HowToBeHot/comments/t2t2lh/can_we_list_every_single_effective_antiaging_food/',\n   'gildings': {},\n   'id': 't2t2lh',\n   'is_created_from_ads_ui': False,\n   'is_crosspostable': True,\n   'is_meta': False,\n   'is_original_content': False,\n   'is_reddit_media_domain': False,\n   'is_robot_indexable': True,\n   'is_self': True,\n   'is_video': False,\n   'link_flair_background_color': '#46d160',\n   'link_flair_richtext': [],\n   'link_flair_template_id': 'd408f1f0-6345-11eb-9cf1-0e843303b0b1',\n   'link_flair_text': 'Health Glow Up',\n   'link_flair_text_color': 'dark',\n   'link_flair_type': 'text',\n   'locked': False,\n   'media_only': False,\n   'no_follow': False,\n   'num_comments': 0,\n   'num_crossposts': 0,\n   'over_18': False,\n   'parent_whitelist_status': 'all_ads',\n   'permalink': '/r/HowToBeHot/comments/t2t2lh/can_we_list_every_single_effective_antiaging_food/',\n   'pinned': False,\n   'pwls': 6,\n   'retrieved_on': 1645982738,\n   'score': 1,\n   'selftext': 'the ones i can think of off the top of my head are:\\n\\n\\\\-retinol\\n\\n\\\\-cutting out sugar\\n\\n\\\\-regular exercise\\n\\n\\\\-limiting alcohol \\n\\n\\\\-botox',\n   'send_replies': True,\n   'spoiler': False,\n   'stickied': False,\n   'subreddit': 'HowToBeHot',\n   'subreddit_id': 't5_3uv2l6',\n   'subreddit_subscribers': 11657,\n   'subreddit_type': 'public',\n   'thumbnail': 'self',\n   'title': 'Can we list every single effective anti-aging food, habit, ritual, and product we know works/is backed by science?',\n   'total_awards_received': 0,\n   'treatment_tags': [],\n   'upvote_ratio': 1.0,\n   'url': 'https://www.reddit.com/r/HowToBeHot/comments/t2t2lh/can_we_list_every_single_effective_antiaging_food/',\n   'whitelist_status': 'all_ads',\n   'wls': 6},\n  {'all_awardings': [],\n   'allow_live_comments': False,\n   'author': 'jim21869',\n   'author_flair_css_class': None,\n   'author_flair_richtext': [],\n   'author_flair_text': None,\n   'author_flair_type': 'text',\n   'author_fullname': 't2_5l749epy',\n   'author_is_blocked': False,\n   'author_patreon_flair': False,\n   'author_premium': False,\n   'awarders': [],\n   'can_mod_post': False,\n   'contest_mode': False,\n   'created_utc': 1645982706,\n   'domain': 'self.creativewriting',\n   'full_link': 'https://www.reddit.com/r/creativewriting/comments/t2t2bm/friends_and_family_chapter_19_part_2/',\n   'gildings': {},\n   'id': 't2t2bm',\n   'is_created_from_ads_ui': False,\n   'is_crosspostable': True,\n   'is_meta': False,\n   'is_original_content': False,\n   'is_reddit_media_domain': False,\n   'is_robot_indexable': True,\n   'is_self': True,\n   'is_video': False,\n   'link_flair_background_color': '',\n   'link_flair_richtext': [],\n   'link_flair_text_color': 'dark',\n   'link_flair_type': 'text',\n   'locked': False,\n   'media_only': False,\n   'no_follow': True,\n   'num_comments': 0,\n   'num_crossposts': 0,\n   'over_18': False,\n   'parent_whitelist_status': 'all_ads',\n   'permalink': '/r/creativewriting/comments/t2t2bm/friends_and_family_chapter_19_part_2/',\n   'pinned': False,\n   'pwls': 6,\n   'retrieved_on': 1645982717,\n   'score': 1,\n   'selftext': 'About two weeks before Christmas, Jim was in his room, watching *Jeopardy!*  Jim heard the phone in the hallway ring.  Wendy answered it.  After about a minute, Wendy shouted, “Jim!  Phone call for you!”\\n\\n Jim got himself up, and he made his way into the hallway.  Jim sat down in the chair beside the table that held the hallway phone.  Jim wondered who would be calling him.  Maybe it was Candi.  Or maybe one of his many friends.  Jim picked up the phone and said, “Hello.  Jim Faulkner speaking.”\\n\\n The voice on the other end said, “Hi, Jim Faulkner.  How are you this evening?”\\n\\n The voice on the other end did not sound familiar to Jim.  That prompted Jim to ask, “May I ask who’s calling?”\\n\\n That voice, which was a girl, said to Jim, “I can’t tell you, but I will tell you that I know you.”\\n\\n “How so?” Jim asked.\\n\\n The girl said, “I know you hang out at Eastland Mall quite a lot.”\\n\\n Jim said, “Yes, I do.  I hang out with my friends.  I have quite a bit of friends.”\\n\\n “I see,” the girl said.\\n\\n “I should have you know I do have a girlfriend and we are going steady.”\\n\\n “Really?  Who is she?”\\n\\n “Her name is Candi Robertson.”\\n\\n “You mean Candice Jade Robertson?  Yeah, I know her.”\\n\\n Once again, Jim asked who the girl was.  She said she could not tell Jim who she is right now, only that she knows him, that he lives on Bethany Street in the Dilworth area of Charlotte, and that he spends some time at Eastland Mall.  Jim had half a mind to ask the girl how she got his phone number.  But he didn’t, because he was quite sure she wouldn’t tell him that, either. \\n\\nThe girl asked Jim if she could meet him at Eastland Mall the Monday after school let out for the holiday break.  He said he probably could, but he didn’t sound like he was sure.  He told the girl he could not promise anything.  Jim thought one thing.  *To make a promise to a bunch of young people to be friends forever may be one thing.  But to make a promise of any kind to someone I don’t even know, especially a girl around my age, that may be something else again.*\\n\\n Jim said to the girl, “I’ll see what I can do.  But I’m not sure I can promise anything.”\\n\\n The girl said, “Okay, Jim.  I’ll be there then.  If you do show up at Eastland Mall, please meet me in front of Chick-fil-A.”\\n\\n Jim said he would try.  And with that, they ended the call.\\n\\n A few minutes later, Wendy stepped into Jim’s bedroom, and she asked him, “Jim, who was that on the phone?  One of your friends?”\\n\\n “No, Mom.  Not exactly.  Some girl who claims she knows me.”\\n\\n “Does she have a name?”\\n\\n “Mom, I asked her.  She said she could not tell me her name.”\\n\\n “Oh, Jim.  That sounds rather rude.”\\n\\n “Rude, maybe.  Weird, probably.”\\n\\n “How did she get our phone number?”\\n\\n Jim thought about how to answer that.  He knew their number was never unlisted.  Wendy did want to have the number unlisted at one point, but she decided against it because she was not sure if she could afford to pay to have it unlisted.  After Wendy decided against it, she never thought of it again.  Finally, Jim answered Wendy’s question by saying, “Mom, I’m not sure.  The girl did say she knew Candi.  But I don’t think Candi would give anyone our phone number, or even her own.”\\n\\n “Okay, Jim.  Did she say anything about wanting to meet you?”\\n\\n “Yes, Mom.  She said she wishes to meet with me at Eastland Mall the Monday after school’s out for the holidays.  She said we could meet at Chick-fil-A.”\\n\\n “Are you planning to meet her?” Wendy asked.\\n\\n Jim answered, “I guess.  She could be a potential friend.”\\n\\n Then Wendy said, “Okay, Jim.  Just be careful, okay?”\\n\\n“Okay, Mom.  You know I am always careful.”\\n\\n Wendy smiled and headed for the bedroom door.  She opened the door.  Before she stepped out, she turned around and said to Jim, “I will be working tomorrow until around two.  But I won’t be coming straight home.  I have a doctor’s appointment and I may be home quite late tomorrow evening.”\\n\\n Jim said, “Sure, Mom.  What kind of appointment?”\\n\\n “I’ve not been feeling well lately.  I’m just going to have Doctor Firestone check me out.  Nothing major, nothing earth-shattering for you to worry about.”\\n\\nJim looked at Wendy and gave her a nod.  After Wendy stepped out of the room, Jim thought, *Nothing to worry about, all right.  The only thing I have to worry about at this point is a girl I don’t know trying to meet me and maybe trying to get me to be her boyfriend.  I have a girlfriend.  Candi.  She’s my one and only*.\\n\\n Just before Jim went to bed, it hit him.  A few months ago, Candi spoke to a girl at Eastland Mall while Jim and Ariel and Jodi were there.  Was there a possibility that could be the girl who called?  Maybe.  Jim would soon find out.\\n\\n😊\\n\\nThe next day, Jim worked some after school at Gilmore Auto Sales.  While Jim was washing a car, he said, “Paulina, I feel like some kind of a freak.”\\n\\n Paulina was washing a car next to the one Jim was washing.  She asked him, “How can you feel like that?”\\n\\n “Some girl who I do not know calls me, does not tell me who she is, and claims she knows quite a bit about me.  That’s weird.  How do you explain that?”\\n\\n “You’re right, Jim.  That is weird.”\\n\\n Jim said, “Then I happened to remember something.  A few months ago, Ariel and Jodi and I were hanging out at Eastland Mall.  That same evening, Candi spoke to a girl at the mall who claimed she knows me.  I wonder if that’s the girl who called me last night.”\\n\\n “Jim, she very well could be,” Paulina said.\\n\\n “She wants to meet me at Eastland Mall the Monday after school’s out for the holiday break.”\\n\\n “Are you planning to meet her?”\\n\\n “I don’t know.  Maybe.  Depends on whether or not I’m at the mall on that day.”\\n\\n Then Paulina said, “Jim, I know a girl at school who had the same thing happen to her.  About a couple months ago, she got a call from some boy.  She met the boy at a Winn-Dixie on East Independence Boulevard.  It turned out the boy was that girl’s brother.  She kept denying it, saying she had always been an only child.”\\n\\n Jim gave Paulina a rather strange look.  Then he said, “Paulina, I can’t believe you told a story like that.  True, I haven’t seen my father in many years.  But I have no brothers or sisters, at least not that I know of.”\\n\\n Paulina gave Jim a serious look and said, “Jim, it could happen.  You just said it yourself.  You haven’t seen your father in years.  A lot can happen.”\\n\\n Jim turned around and looked at the Charlotte skyline, took in a deep breath, let it out slowly, and then he said, “Yeah, Paulina.  I guess you’re right.  Maybe I should meet this girl and see if she truly is my sister.”\\n\\n“My brothers and I haven’t seen our father in about a couple years.  Mom says we may never see him again.  It seems as though Russell and Scout could be all I’ll ever have for brothers, unless there’s a brother or sister out there we don’t know about.”\\n\\n Then Jim said, “My Mom had a doctor’s appointment today.”\\n\\n “Did she say why?” Paulina asked.\\n\\n “She didn’t say.  Maybe a check-up or something.”\\n\\n Paulina said, “Yeah.  Or something.”\\n\\n Then Paulina walked to where Jim was.  Then she said to him, “Jim, I have been looking at Wendy a lot at church.  She seemed a little different.”\\n\\n “How different?” Jim asked.\\n\\n Paulina pointed to her belly.  Then she said, “Jim, her belly looked different.  Is there any possibility she could be…pregnant?”\\n\\n Jim gave Paulina a look and said, “No.  I don’t think so.”\\n\\n Paulina said, “Yeah, sure.  We’ll just drop it.  Forget I asked.”\\n\\n Then Jim said, “Mom has been dating quite a bit.”\\n\\n Paulina said, “Yeah.  So I heard.  Is it serious?”\\n\\n Jim answered, “No, I don’t think so.  Nothing more than casual.  At least, as far as I know.”\\n\\n Then Pam stepped out of the office and walked to where Jim and Paulina were.  Pam walked toward Jim and said, “Jim, I wonder if I could see you inside.”\\n\\n “Sure, Pam.  Something wrong?”\\n\\n “No, Jim.  Nothing bad.  I just need to speak to you for a minute.”\\n\\n Jim walked to where Pam was standing.  Pam said, “Paulina, you just keep washing.  Jim will be back in a moment.”\\n\\n Pam put her arm around Jim while they walked into the office.  Pam told Jim to sit down while she got a couple bottles of Coke.  The stereo in the office was set to a soft rock station.  Roberta Flack and Donny Hathaway.  *The Closer I Get to You*.  Jim listened to it for a minute.  He would listen to some music when he got home.  He hoped that song would play sometime during the evening.  Maybe he would call Candi and put the phone to the speaker and play that song for her.  Or better, maybe Candi would visit his house this evening.  If that would be the case, maybe that song would play while she was there.  Pam stepped into the office with the two bottles of Coke. She gave one of those bottles to Jim.  Then Pam stepped to the stereo and got ready to turn the music down.  The song was still playing.  Jim said to her, “No, Pam.  Leave it where it’s at.  That’s a beautiful song.”\\n\\n Pam turned to Jim and said, “Okay, Jim.  If you say so.”\\n\\n Pam got ready to sit down when she said, “You, listening to that song.  I’ll bet you’re thinking about Candi, aren’t you?”\\n\\n“Yes, Pam.  I guess you could say I am.”\\n\\n “I know, Jim.  I’ve also been thinking about someone else.  You.  And your mother.”\\n\\n “How so?”\\n\\n “I understand you got a phone call from a girl last night.”\\n\\n Jim turned around and got a look at Paulina.  She was now washing another car.  Then Jim said, “Word sure does get around.”\\n\\n “It does,” Pam said.\\n\\n Then Jim asked Pam, “Where did you hear that?”\\n\\n Pam answered, “I spoke to your mother this morning.”\\n\\n Then Jim told Pam about the details about the phone call.  He said, “Some girl who I don’t know but who claims she knows me calls me, won’t tell me who she is or how she got my number, and who wants to meet me after school’s out for the holidays.  Does that just about cover it?”\\n\\n Then Pam asked Jim, “Doesn’t that strike you as a little strange?”\\n\\n Jim answered, “I suppose it does.”\\n\\n “I know it does.  Especially if she does not tell you who she is or why she wants to have any communication with you.”\\n\\n “I hope she does call again because I wish to find out who she is and how she knows me.”\\n\\n Then Pam shifted to another subject.  “Jim, is your mother okay?”\\n\\n “She is.  Why would you ask?”\\n\\n “I’ve seen her in church.  And I know she’s dating someone.”\\n\\n Jim said, “I know she is.  She doesn’t bring him by the house.  I haven’t met him.  I don’t think it’s anything serious.  Sometimes she doesn’t get home until quite late.  Then again, I do keep some weird hours between studying and working here.  Maybe I’m out of the house quite a bit.”\\n\\n “Yes, Jim.  And you are doing a good job.  Both at school and for me.”\\n\\n “Thanks, Pam.”\\n\\n “Jim, is it just me or has your mother gained a bit of weight?”\\n\\n “Mom does eat enough to feed a mule.  I must admit I do, too.  Maybe she has gained a little weight.”\\n\\n Pam began to ask if Wendy was pregnant.  But she didn’t ask.  Instead, she said, “Okay, Jim.  Don’t say anything about that to her.  We won’t hurt her feelings.  Just forget I asked.”\\n\\n “Yeah, Pam.  Sure.”\\n\\n Pam excused Jim to continue washing cars.  He got ready to finish the car he was working on.  Paulina was playing a radio at the car she was working on.  The radio was set to an oldies station, playing Andy Williams.  *On the Street Where You Live*.  Jim thought it was a nice song.  It made him think not only of Candi, but of Bethany Street, and the neighborhood.  It made him think of his mother, his friends, and their parents.  And of Gilmore Auto Sales.  And of Charlotte, North Carolina. \\n\\n Paulina asked, “What did you and my mother talk about?”\\n\\n Jim answered, “Not much.  Just about what you and I talked about a while ago.  About that phone call, that girl, and Mom.”\\n\\n “Oh, I see.”\\n\\n Then Jim got a look at the car Paulina was washing.  It was rather big.  It was white with a red interior and had roof panels.  “What kind of car is that?” Jim asked.\\n\\n “Mom just got it yesterday.  It’s an Oldsmobile Toronado.  Mom said it’s a 1978 model.”\\n\\n “It’s big but it looks nice.”\\n\\n Then Paulina pointed to two other cars and said, “Mom also got that blue Cadillac and gray Mustang.  Both are 1976.”\\n\\n “Who brought them?” Jim asked.\\n\\n Paulina answered, “Some automobile wholesale guy in Charlotte who said he was retiring and had three cars left.  He needed to get rid of them and told Mom she could have them to sell.”\\n\\n That was when they heard the blast of a car horn.  Jim and Paulina both turned to face Mint Street.  They saw a big gray Dodge with a red roof pass the car lot.  Hands waved out of the windows.  Then Jim and Paulina saw who they were.  Mark and Alex were in the front seat.  And in the back seat, Simon, Sydney and Candi.  And driving the car, their mother, Autumn Cavanaugh (Autumn was now driving a late seventies model Dodge).  They also shouted “Hi” to Jim and Paulina.  Autumn was driving toward uptown.\\n\\n Jim and Paulina kept at it for another hour, washing automobile after automobile.  Finally, at around seven, Pam turned off the lights and closed the car lot. \\n\\nPam offered to drive Jim home.  He happily accepted.  When Jim got home, the lights were still on, including the porch light.  Pam watched Jim go inside.  Wendy stepped outside and waved at Pam and Paulina.  They waved back. \\n\\n When Jim got inside, he saw his dinner plate on the table.  On it, hamburger steak with Heinz 57, fries with ketchup, salad with blue cheese dressing, onion rings, a bread roll, and a glass of iced tea.  As Jim ate, Wendy asked him how his day went.  He said, “It went pretty good.  Paulina and Pam both asked me about that phone call I got last night.”\\n\\n “I see.  I’ll bet they found that pretty strange also,” Wendy said.\\n\\n“Yes, Mom.  They did.”\\n\\n “Jim, did Pam and Paulina ask anything about me?”\\n\\n “What do you mean, Mom?”\\n\\n “I know they have been looking at me and so has everybody else.”\\n\\n “They did ask about you.  I promised them I wouldn’t say anything to you because they felt it may hurt your feelings.”\\n\\n “Jim, just come out with it.  If it does hurt my feelings, no one will know.”\\n\\n Jim said, “They wondered if you were pregnant.”\\n\\n Wendy said, “I only told Pam I had a doctor’s appointment.  That’s all.”\\n\\n “It’s okay, Mom.  I told them that I didn’t think you were.  They knew you were dating.  I knew it wasn’t anything more than that.”\\n\\n And with that, the subject was dropped.  Jim told her dinner was good.  He washed up the dishes, and then he went upstairs to his room.\\n\\n😊\\n\\nJim went to his room to see a car magazine on his bed.  It was a *Road and Track*, and it had three racing cars from the United Kingdom on the cover, a Ferrari and a Jaguar and a Porsche.  Some evenings, Jim would watch TV in his room.  But he decided he would just listen to some music and read his magazine since there was nothing good on TV this evening. \\n\\n Jim lied down on his bed and read his magazine.  About a half an hour into his magazine, the phone rang.  Jim figured it was for Wendy.  Wendy answered the phone.  Then she shouted from downstairs, “Jim!  Phone for you!  It’s Candi!”\\n\\n Jim walked into the hallway and grabbed the cordless phone from the small hallway table.  He took the phone and went back to his room.  He said, “Hi, Candi.  How has your day been?”\\n\\n “Mine has been well, sweetheart.  How has yours been?”\\n\\n “It’s been good.  I haven’t been home long.  I just got through eating dinner.”\\n\\n “That’s good.  I had classes today.  I just got through eating some chicken casserole, breadsticks and salad for dinner.”\\n\\n “That sounds good,” Jim said.\\n\\n Then Candi said, “Jim, I was on Mint Street earlier.  I saw you and Paulina having a good time washing cars at Gilmore Auto Sales.”\\n\\n “Yes, we did.  Then again, we always enjoy our job.”\\n\\n “I’m glad you do.  I am glad to see you and Paulina and Pam get along really well.”\\n\\nThen, Jim heard that song he was listening to earlier at Gilmore Auto Sales.  He said, “Candi, I want you to listen to something on the radio.  A song I heard earlier.”\\n\\n Jim put the phone up to the radio speaker so Candi could hear the song.  He left it there for about three minutes.  Then Jim said to her, “That song made me think of you.”\\n\\n “Jim, that is so beautiful.”\\n\\n “Just like you, sweetie.”\\n\\n “Jim, you are so sweet.”\\n\\n Jim and Candi spoke to each other for about five more minutes.  Candi told Jim about college.  She told him about her classes and how she was doing.  She was now taking courses in math and science.  Candi was anxious to get started on studying nursing.  Jim told Candi about school and how he was doing.  Considering this was Jim’s first year of high school and he was dealing with some more challenging courses, he was doing well.  On his last report card, Jim made five A’s and one B.  Jim made a few more friends, but he hung out mostly with those in the neighborhood.  They were very understanding to one another.\\n\\n Jim also told Candi about English class.  He wrote some poems in that class, and he read some of them to Candi.  She was extremely impressed.\\n\\n Not once during that phone call did Jim mention the phone call from the girl who said she knew him.  Right now, he decided to just let it drop.\\n\\n Jim and Candi ended the phone call.  They said “I love you” to one another.\\n\\n😊\\n\\nThat Wednesday saw school let out for the holiday break.  The day went by quickly.  After school, Jim went straight home.  When he got home, Wendy was there, waiting on him.  Jim offered to make a pizza for dinner.  Wendy accepted.  Jim took out a box of pizza crust mix, a jar of pizza sauce, pepperoni, a jar of mushrooms, some mozzarella and cheddar cheese, and he sliced a green pepper.  Jim baked the pizza for a few minutes.  It turned out really good.  It was the first time Jim had made a pizza from scratch.  He thought he did a good job.  Wendy agreed.  Jim liked to cook and was always happy to do it when he wanted to.\\n\\n On Friday afternoon, Wendy asked Jim to go with her to do some last-minute Christmas shopping.  Jim agreed to join her.  He wanted to get something for Candi, and for his friends.  They wanted to get everything done this evening.\\n\\n Wendy drove to the Park Road Shopping Center.  At the time, there was a J.C. Penney store there, along with a Woolworth.  Jim and Wendy went to both stores.  Jim had already got various three-dollar gifts for all the girls except Candi.  Jim still needed to get gifts for the guys.  Jim chose Hot Wheels cars for the guys (in turn, Jim usually got Hot Wheels cars from the guys, so he felt it was the least he could do).  Jim got the guys three cars each because he did not want them to feel short-changed since he got gifts for the girls at three dollars each (each car was about a dollar each).  He got those at Woolworth.\\n\\n Then Jim went to J.C. Penney.  He still had to find something for Candi.  Jim found a cute teddy bear with a heart on it.  The bear itself was orange.  Candi loved teddy bears so he felt this was something she would like and would make her think of him.  Jim saw he had more than enough money to get it, so he did.  Wendy told Jim not to get her anything, but he did anyway.  He got her a small box of chocolates.  He got that at Eckerd’s, which was also in the Park Road Shopping Center, just a short walk from J.C. Penney.\\n\\n Jim met Wendy in the parking lot.  After they put their stuff in the car, Wendy drove to a nearby McDonald’s.  Jim ate a Big Mac and Wendy had a fish sandwich.  They split a large order of fries, and both drank Coke.  Jim asked Wendy how her recent doctor’s appointment went.  Wendy said, “Oh, it was nothing.  I have had some stomach trouble lately, but the doctor gave me some medicine for it.”\\n\\n “I hope there’s no bug going around,” Jim said.\\n\\n Jim knew Wendy had been throwing up quite a bit, especially in the mornings.  In his own mind, Jim was dismissing the possibility that Wendy was pregnant.  Jim said, “Mom, whatever it is, I hope it’s nothing serious.”\\n\\n Wendy said, “Jim, it’s nothing for you to worry about.  Nothing life-threatening, and nothing earth shattering.”\\n\\n “Okay, Mom.  If you say so.”\\n\\n “Mom, I don’t know who this fellow is you have been dating.  But I hope you’re not letting him take advantage of you.  Don’t let temptation get the better of you.”\\n\\n Wendy looked at Jim for about a minute, and then she said, “Jim, of course not.  We’re just friends and nothing more.  We do spend some time at his house.”\\n\\n Wendy usually drove her car to the guy’s house.  After the date, she usually drove herself back to the house.  Jim did want to ask his mother what she and the guy did on their dates, but he didn’t.  If Wendy said there was nothing serious between her and her date, then so be it.  Jim usually told Wendy what he and Candi did on their dates, and when they spent time together.  Wendy trusted Jim a lot, and she was usually understanding.  Wendy knew Jim and Candi had every intention of saving themselves for marriage.  Wendy seemed very pleased about that.  She never wanted to see Jim get hurt.  And she never wanted to see Jim do anything that would hurt him in any way.  She knew he had dreams and ambitions, and she wanted to see him reach them.\\n\\n Wendy and Jim started for home.  Jim made a request.  “Mom, would it be possible to drive past Gilmore Auto Sales?”\\n\\n “Sure, Jim.  I suppose that’s a can do.”\\n\\n “Pam decked the place out with Christmas lights and I want to see them.”\\n\\n Wendy drove on some side streets until she finally reached Mint Street.  She drove rather slowly on Mint Street, and then she reached Gilmore Auto Sales.  Sure enough, the place was lit up.  There were lights in almost every color of the rainbow.  Jim and Wendy both thought it was pretty, a sight to make one’s spirits tingle!  Jim thought Pam and Paulina did a pretty good job.  Jim was not working when they hung up the lights.\\n\\n Jim and Wendy arrived home.  Jim and Wendy spent the better part of two hours wrapping the presents they bought.  After they got done, the phone rang.  Whoever was calling must have timed that right.  Jim answered the phone.  He figured that girl must be the one calling.  It turned out it wasn’t.  Pam was on the other end.  She said, “Hi, Jim.  I understand you and your mother went past the car lot this evening.”\\n\\n Jim said, “Yes, Pam.  As a matter of fact, we did.”\\n\\n “Did you and your mother get your Christmas shopping done?”\\n\\n “Yes, Pam.  We did.  We were on our way home from Park Road Shopping Center when we decided to go past the place.”\\n\\n Pam asked Jim, “What did you two think?”\\n\\n Jim answered, “Pam, you and Paulina did great.”\\n\\n “Thanks, Jim.  And there’s another reason why I’m calling.”\\n\\n “Sure, Pam.  What is it?”\\n\\n Pam said, “Jim, if you wouldn’t mind, please come in about an hour early in the morning.  There’s something I would like you and Paulina to do for me.”\\n\\n “Okay, Pam.  I can come in at eight.”\\n\\n Then Pam said, “I’ll tell you two what it is when you get here in the morning.”\\n\\n “Okay, Pam.  I’ll see you and Paulina tomorrow morning at eight.”\\n\\n😊\\n\\nJim went to bed around nine.  He had to be up at around seven the next morning so he could be at Gilmore Auto Sales at eight.  Whatever Pam wanted Jim and Paulina to do, it must have been important.  Jim enjoyed working for Pam, so he was only too happy to come in early if he needed to.  Maybe Pam wanted to get in some big sales before the Christmas holiday. \\n\\nThe next morning, Jim got up a few minutes before seven.  He got a shower and fixed himself a breakfast of toast, yogurt and Coke.  Wendy soon woke up and joined Jim in the kitchen.  Wendy fixed her some toast and a cup of coffee.  After Wendy ate breakfast, she went upstairs to get dressed.  After Wendy got upstairs, the doorbell rang.  Jim answered it.  Pam and Paulina showed up.  Jim took Pam and Paulina into the kitchen.  Jim fixed Pam a cup of coffee and Paulina a cup of Coke.  Jim also made both of them some toast.  Wendy soon showed up in the kitchen.  Wendy asked Pam and Paulina why they were there, and Pam said, “Wendy, I called Jim last night and told him to come in at eight this morning.  I have something important I need him and Paulina to do.”\\n\\n “I guess it’s okay with me.”\\n\\n “Okay, then.  I guess we best get going.”\\n\\n Jim, Pam and Paulina left the house and headed for Gilmore Auto Sales.  On the way, Paulina asked Jim, “What did you and your mother think of those Christmas lights?”\\n\\n “They looked pretty.  I told Mom to drive by the car lot after we got our Christmas shopping done last night.”\\n\\n “Where did you two go last night?” Paulina asked.\\n\\n Jim answered, “Park Road Shopping Center.  We went to Eckerd’s, J.C. Penney and Woolworth.  Then we ate at McDonald’s.”\\n\\n “Sounds good.  What did you have?”\\n\\n “I had a Big Mac and fries.”\\n\\n Then Pam asked Jim, “Have you heard from that girl lately?”\\n\\n Jim answered, “No, I haven’t.  But I guess I’ll be hearing from her soon. I do have questions and I really do need some answers.”\\n\\nPam said, “Yes, Jim. That’s about the only way you are going to find out anything you need to know about her.”\\n\\nJim would soon find out about her. Not only would his questions be answered, he would also find out a lot more about her.\\n\\n😊\\n\\nThey arrived at Gilmore Auto Sales.  Jim saw there were a few more cars than there were Thursday when he last worked.  He also noticed some different ones. \\n\\nPam soon told Jim and Paulina what she needed done.  “Jim and Paulina, I know you two are wondering why you two are here early.  I got some different automobiles.  I need the marquee on the sign changed and I know you are the two who can do just that.”\\n\\nPam took Jim and Paulina to the storage building behind the office.  In addition to the two wagons used to carry the stuff to clean the cars, Pam had another wagon.  This wagon carried flexible panels for the marquee.  Pam had everything arranged so that the number and letter panels could not be mixed up.  In addition, there were some dollar signs and exclamation marks, and even some smiley faces and special holiday symbols. \\n\\nPam had Jim pull the wagon to the front of the office.  Jim and Paulina joined Pam in the office.  Pam took two pieces of paper from the desk.  Pam said to them, “Jim and Paulina, I need to change the sign outside.  On these two pieces of paper is what I was the sign to say.  One for each side.”\\n\\nJim and Paulina saw what the pieces of paper said.  On one of them:\\n\\nHAPPY HOLIDAYS!\\n\\n1979 PONTIAC TRANS AM\\n\\nLOW MILES!  $3295\\n\\nAnd on the other piece of paper:\\n\\nSEASON’S GREETINGS!\\n\\n1981 CADILLAC SEVILLE\\n\\nLOADED!  $4895\\n\\nPam said, “Okay.  That’s what I want the signs to say.  One for each side.  It doesn’t matter which one you put on what side.  Just get it done.”\\n\\nJim and Paulina stepped outside.  There were two signs on one side of the lot.  One sign had “Gilmore Auto Sales” made out in different colors.  On the bottom of that same sign, the logo for Coke.  Another sign was a marquee.  It had three rows on each side.  Pam used the marquee to advertise automobiles for sale. \\n\\nPam stepped outside behind Jim and Paulina.  They went back to the storage building.  Jim took, at Pam’s direction, a tall ladder.  Then Pam went back into the office while Jim and Paulina got busy changing the marquee sign.  Jim agreed to use the ladder and change the panels.  Paulina would hand Jim the panels as he needed them.  Jim and Paulina made the decision on which car would be advertised on what side.  They started on the side facing Dilworth.  This side would advertise the Pontiac Trans Am.\\n\\n Jim climbed up on the ladder.  Paulina watched him on the ground.  Paulina handed Jim panels as he asked for them.  Paulina would tell Jim how to put to each panel in.  She would also tell Jim how far apart to make each word.  Jim started with the top row, the one that would say “Happy Holidays.”  Paulina thought Jim did a good job and caught on quickly.  Now it was on to the second row, the one that would advertise the Pontiac.  Before they could finish that line, there was a blast of a car horn.  It came from a car passing the car lot, going toward uptown.  Jim and Paulina turned toward the passing car.  It was a Mustang, light blue in color.  Jim and Paulina figured it to be about a 1967 model.  There were three people in the car.  They all waved to Jim and Paulina, and they shouted, “Hi there, you two!”  Jim and Paulina both waved back.  One of those people, a teenage girl, stuck her head out the window as she waved.  Jim asked Paulina, “Do we know those people?”\\n\\n Pam stepped outside as Paulina answered, “No, Jim.  I don’t think so.  They don’t look familiar to me.”\\n\\n Jim said, “I don’t know them, either.  They don’t look familiar to me.”\\n\\n Paulina asked, “Mom, have we sold a Mustang lately, about a 1967 model?”\\n\\n “No, I don’t think so.  The last Mustang I sold was about five weeks ago, a 1972.  And we still have that 1976 Mustang.”\\n\\n Pam got a look at the marquee and said, “Nice job so far, you two.”\\n\\n Pam turned around and started back for the office.  About halfway, she stopped and turned around and asked Jim and Paulina, “Did you two know those folks in that Mustang that just passed by?”\\n\\n Jim said, “No, Pam.  We don’t think so.”\\n\\n Then Paulina said, “They didn’t look familiar to us.”\\n\\n Pam headed back to the office, and Jim and Paulina went back to work.  They finished that one side.  Then they went to the other side, facing uptown.  This side would advertise the Cadillac Seville.  Once again, Jim did a good job.  Just as they got through, Pam opened the car lot. \\n\\n It seemed to be a good day at Gilmore Auto Sales.  Pam asked Jim to help sell the cars.  During the four-hour working period, they managed to sell four cars.  The Pontiac and the Cadillac were not sold.  Jim and Paulina were hoping whoever was driving that Mustang would drive by the place.  They wanted to get a good look at them.  That did not happen.\\n\\n😊\\n\\nA little after one, Pam closed the car lot.  Just as she did, Wendy drove into the lot to pick up Jim.  Audrey and Julie were with her. \\n\\nWendy drove to the Eckerd Drug Store at the corner of Trade and Tryon Streets.  Wendy parked on the side of Tryon Street.  Jim wanted to go into Eckerd’s with Wendy and Audrey, but Julie grabbed Jim by his arm, and she said, “Jim, please come with me to the record store.  There’s something we need to check out.”\\n\\nJim and Julie walked to a record store just a few stores past Eckerd’s.  On the way to the record store, they heard an oldies song coming from a nearby car.  The Coasters.  *That Charlie Brown…he’s gonna get caught!*  Jim asked Julie, “Why are we going to the record store?”\\n\\nJulie answered, “There’s a new record I need to try and find.  I heard the song on the radio yesterday and it sounded good.  I just need someone to go in with me.”\\n\\n Jim and Julie stepped into the record store.  A song was playing.  It was from a group by the name of DeBarge.  *You Wear It Well*.  As soon as Julie heard it, she said, “That’s it, Jim.  That’s the song.”\\n\\n “Julie, I know what you mean.  That sounds like a good song.”\\n\\n Jim and Julie both found a record of that song.  Just as they did, two girls walked to where Jim and Julie were.  One of those girls said, “Hi, Julie.  How’s it going?”\\n\\n Julie knew the girls from school.  She said to them, “Hi, girls.  It’s going okay.  I found that song I was looking for.”\\n\\n One of those girls asked, “Julie, who’s your cute friend there?”\\n\\n Julie answered, “A friend of mine.  Jim Faulkner.  We live next to each other.  He works at that used car lot on Mint Street.”\\n\\n The two girls said together, “Hi, gorgeous!”\\n\\n Jim waved at them.  Then Julie said, “Girls, bad news.  He’s spoken for.”\\n\\n And with that, the girls left.  Julie said, “Don’t worry, Jim.  Just some girls I know from school.  Let’s pay for our records and let’s head back to Eckerd’s to meet our mothers.”\\n\\n After Jim and Julie paid for their records, they headed back to Eckerd’s.  When they got there, Wendy and Audrey were still in the store.  Jim and Julie decided they did not need anything from Eckerd’s, so they went back to Wendy’s Volvo.\\n\\n On the way back home, Julie said to Jim, “I see Pam finally decided to change the sign.”\\n\\n Jim said, “Actually, Paulina and I did that.”\\n\\n “Looks like you two did a very good job,” Audrey said.\\n\\n Then Jim said, “Something strange happened.  While Paulina and I were changing the sign, three people passed us in a Mustang, and they waved at us.”\\n\\n “What did the Mustang look like?” Julie asked.\\n\\n Jim answered, “A 1967 Mustang.  Light blue in color.  There were three people in it.  One, who looked like a teenage girl, stuck her head out the window.”\\n\\n Julie looked at Jim strangely, and she said, “That’s funny.  I don’t know anyone with a car like that.”\\n\\n “Jim, do you have any idea what those three looked like?” Wendy asked.\\n\\n “A man and a woman, both about your age.  And a teenage girl, I’d say around thirteen.”\\n\\n Audrey said, “Those descriptions could fit anyone.”\\n\\nJim said, “I hope I see them again.  I would like to get a better look at them.”\\n\\n Then Wendy asked, “Jim, you don’t think the girl in that Mustang is the one who called you and didn’t tell you who she was?”\\n\\n Jim thought about it for about a minute.  Then he said, “Mom, I don’t know.  I guess I didn’t think much about that.”\\n\\n😊\\n\\nTuesday of that week was Christmas Eve.  Jim went to work at Gilmore Auto Sales.  Paulina was also working.  Pam kept the car lot closed for the day.  There were also some additions.  Pam asked Wendy, Audrey, Malachi and Julie to work some at the car lot.  Pam needed to clean out the office and she needed some extra help.  Wendy and Audrey took down the Christmas lights since no one would be at the car lot until the following Monday (Pam decided to close the car lot for the Christmas week).  Pam got the younger ones to help her clean out the office.  Jim and Malachi helped Pam dispose of old paperwork and old receipts from past automobile sales that had been piling up and cluttering up the office for some time.  Pam, Jim and Malachi put the old papers in big black Hefty bags.  Paulina and Julie were assigned to dust the office furniture, clean the small microwave oven, clean out the small refrigerator (and put in a fresh box of baking soda), and they cleaned out the restroom and the toilet. \\n\\n After Jim and Malachi got the old paperwork and trash into the bags, they took them out of the office.  Jim and Malachi got Julie to help them get the big heavy bags out to the curb.  On the way, Jim said, “I wonder if that girl is gonna call again.  And if she does, I hope to find out who she is.”\\n\\n Julie said, “I’m sure she will.  It’s just not right for her to call you and not tell you who she is.”\\n\\n Then Malachi said, “And you just may wanna find out how she knows you and how she found out about you.”\\n\\n When they got to the curb, they got a look at the Charlotte skyline.  It was barely visible through the fog.  The sky was very cloudy, and there was a chill in the air.  It seemed like this winter was about to be yet another cold one.  Maybe there would be a major winter storm this winter.  But right now, it was not cold enough for snow.  Everyone hoped for snow for Christmas.  The last time it snowed on Christmas in Charlotte was way back in 1947.  That was thirty-eight years ago. \\n\\n They got the bags to the curb and ready for pickup.  Jim said, “I sure hope she calls again.  Maybe the mystery will be revealed.  I hope to find out who she is.”\\n\\n What Jim did not know was this.  She would call again.  And he would find out who she was…and a lot more!\\n\\n😊\\n\\nMonday came.  That morning, Jim went to Eastland Mall, as he planned.  Wendy drove him there.  Charmaine and Jodi went with them.  Jim was ready to meet this girl.  Jim sat at a table in front of Chick-fil-A.  Jodi sat with him.  They both ate a chicken sandwich and drank a cup of Coke.  When the girl called, she asked Jim to meet him around eleven o’ clock.  Jim and Jodi sat and waited.  Eleven o’ clock came.  Nothing.  No sign of her.  Jim and Jodi sat and waited for another hour. A little after noon, Jim and Jodi finally decided to give up and leave Chick-fil-A.  They met Wendy and Charmaine in front of Belk.  Then they went home.  Maybe the girl chose not to show up.  If she did call Jim again, he decided he would not say anything to her about not showing up.\\n\\n Christmas turned out to be pretty good.  Jim got a new color TV set for his bedroom, along with some die-cast metal cars and some cassette tapes.\\n\\n As the week progressed, Wendy took Jim to the parking lot of an abandoned department store on Wilkinson Boulevard.  Wendy taught Jim how to drive.  At this point, Jim had a learner’s permit.  Wendy did not limit Jim’s learning to drive to the parking lot of that abandoned department store.  She did let Jim drive some in the neighborhood, and in some other nearby neighborhoods.  Jim eventually got to drive on Charlotte streets.  He did start out rough, but he got better with time.  By the first week of 1986, Jim would do well enough to get a driver’s license.',\n   'send_replies': True,\n   'spoiler': False,\n   'stickied': False,\n   'subreddit': 'creativewriting',\n   'subreddit_id': 't5_2r69u',\n   'subreddit_subscribers': 217426,\n   'subreddit_type': 'public',\n   'suggested_sort': 'confidence',\n   'thumbnail': 'self',\n   'title': 'Friends and Family (Chapter 19) Part 2',\n   'total_awards_received': 0,\n   'treatment_tags': [],\n   'upvote_ratio': 1.0,\n   'url': 'https://www.reddit.com/r/creativewriting/comments/t2t2bm/friends_and_family_chapter_19_part_2/',\n   'whitelist_status': 'all_ads',\n   'wls': 6},\n  {'all_awardings': [],\n   'allow_live_comments': False,\n   'author': 'Financial_Board_9010',\n   'author_flair_css_class': None,\n   'author_flair_richtext': [],\n   'author_flair_text': None,\n   'author_flair_type': 'text',\n   'author_fullname': 't2_ifollpk9',\n   'author_is_blocked': False,\n   'author_patreon_flair': False,\n   'author_premium': False,\n   'awarders': [],\n   'can_mod_post': False,\n   'contest_mode': False,\n   'created_utc': 1645982698,\n   'domain': 'self.Financial_Board_9010',\n   'full_link': 'https://www.reddit.com/r/u_Financial_Board_9010/comments/t2t27e/technology_and_modernity_in_saudi_arabia/',\n   'gildings': {},\n   'id': 't2t27e',\n   'is_created_from_ads_ui': False,\n   'is_crosspostable': True,\n   'is_meta': False,\n   'is_original_content': False,\n   'is_reddit_media_domain': False,\n   'is_robot_indexable': True,\n   'is_self': True,\n   'is_video': False,\n   'link_flair_background_color': '',\n   'link_flair_richtext': [],\n   'link_flair_text_color': 'dark',\n   'link_flair_type': 'text',\n   'locked': False,\n   'media_only': False,\n   'no_follow': True,\n   'num_comments': 0,\n   'num_crossposts': 0,\n   'over_18': False,\n   'permalink': '/r/u_Financial_Board_9010/comments/t2t27e/technology_and_modernity_in_saudi_arabia/',\n   'pinned': False,\n   'retrieved_on': 1645982708,\n   'score': 1,\n   'selftext': 'In the modern age, where a country must keep up to date on science and technology if it is to have a hope of keeping up with the western world, Saudi Arabia is unlike many other Islamic countries.',\n   'send_replies': True,\n   'spoiler': False,\n   'stickied': False,\n   'subreddit': 'u_Financial_Board_9010',\n   'subreddit_id': 't5_5nelsd',\n   'subreddit_subscribers': 0,\n   'subreddit_type': 'user',\n   'suggested_sort': 'qa',\n   'thumbnail': 'self',\n   'title': 'Technology and Modernity in Saudi Arabia',\n   'total_awards_received': 0,\n   'treatment_tags': [],\n   'upvote_ratio': 1.0,\n   'url': 'https://www.reddit.com/r/u_Financial_Board_9010/comments/t2t27e/technology_and_modernity_in_saudi_arabia/'},\n  {'all_awardings': [],\n   'allow_live_comments': False,\n   'author': 'emilyalive',\n   'author_flair_css_class': None,\n   'author_flair_richtext': [],\n   'author_flair_text': None,\n   'author_flair_type': 'text',\n   'author_fullname': 't2_zd5cf',\n   'author_is_blocked': False,\n   'author_patreon_flair': False,\n   'author_premium': False,\n   'awarders': [],\n   'can_mod_post': False,\n   'contest_mode': False,\n   'created_utc': 1645982590,\n   'domain': 'self.DentalAssistant',\n   'full_link': 'https://www.reddit.com/r/DentalAssistant/comments/t2t0s8/any_das_who_have_also_worked_in_a_labas_a_dental/',\n   'gildings': {},\n   'id': 't2t0s8',\n   'is_created_from_ads_ui': False,\n   'is_crosspostable': True,\n   'is_meta': False,\n   'is_original_content': False,\n   'is_reddit_media_domain': False,\n   'is_robot_indexable': True,\n   'is_self': True,\n   'is_video': False,\n   'link_flair_background_color': '#dadada',\n   'link_flair_richtext': [{'e': 'text', 't': 'Education'}],\n   'link_flair_template_id': '5841ee68-6419-11ea-b0f3-0e9dd5a1bb99',\n   'link_flair_text': 'Education',\n   'link_flair_text_color': 'dark',\n   'link_flair_type': 'richtext',\n   'locked': False,\n   'media_only': False,\n   'no_follow': True,\n   'num_comments': 0,\n   'num_crossposts': 0,\n   'over_18': False,\n   'parent_whitelist_status': 'all_ads',\n   'permalink': '/r/DentalAssistant/comments/t2t0s8/any_das_who_have_also_worked_in_a_labas_a_dental/',\n   'pinned': False,\n   'pwls': 6,\n   'retrieved_on': 1645982600,\n   'score': 1,\n   'selftext': 'Hi all! Looking to see if there is anyone out there who has a similar background to me and how it has benefited your career, or your insight into what you enjoy the most in our field.\\n\\nSo I’m 28, on track to graduate in a year with an associate’s in applied science along with the DA certification + expanded functions. However, I currently work as a processor (learning waxing and finishing now) in a dental lab (removables). I love what I do currently and want to learn as much as I can in the lab before being chairside, possibly learning tooth setting before I graduate if I feel confident enough with my waxes and finishes. \\n\\nI know I don’t want to be in the lab forever—and I’m wondering if any other DAs have experience as a dental tech as well. If so, is there one you prefer over the other? And with the overlap in skills, has it given you any extra leverage in the job market? Would love to hear anyone’s experience, thanks!! ☺️',\n   'send_replies': True,\n   'spoiler': False,\n   'stickied': False,\n   'subreddit': 'DentalAssistant',\n   'subreddit_id': 't5_3jubf',\n   'subreddit_subscribers': 3386,\n   'subreddit_type': 'public',\n   'thumbnail': 'self',\n   'title': 'Any DAs who have also worked in a lab/as a dental technician here?',\n   'total_awards_received': 0,\n   'treatment_tags': [],\n   'upvote_ratio': 1.0,\n   'url': 'https://www.reddit.com/r/DentalAssistant/comments/t2t0s8/any_das_who_have_also_worked_in_a_labas_a_dental/',\n   'whitelist_status': 'all_ads',\n   'wls': 6},\n  {'all_awardings': [],\n   'allow_live_comments': False,\n   'author': 'AfternoonSnack187',\n   'author_flair_css_class': None,\n   'author_flair_richtext': [],\n   'author_flair_text': None,\n   'author_flair_type': 'text',\n   'author_fullname': 't2_jiy8eway',\n   'author_is_blocked': False,\n   'author_patreon_flair': False,\n   'author_premium': False,\n   'awarders': [],\n   'can_mod_post': False,\n   'contest_mode': False,\n   'created_utc': 1645982541,\n   'domain': 'self.dirtypenpals',\n   'full_link': 'https://www.reddit.com/r/dirtypenpals/comments/t2t05d/f4f_taking_down_the_glutton_corporation/',\n   'gildings': {},\n   'id': 't2t05d',\n   'is_created_from_ads_ui': False,\n   'is_crosspostable': True,\n   'is_meta': False,\n   'is_original_content': False,\n   'is_reddit_media_domain': False,\n   'is_robot_indexable': True,\n   'is_self': True,\n   'is_video': False,\n   'link_flair_background_color': '#373c3f',\n   'link_flair_css_class': 'roleplay',\n   'link_flair_richtext': [],\n   'link_flair_template_id': '7c7670ac-00d5-11e6-8766-0ed56c038c65',\n   'link_flair_text': 'Long Term RP',\n   'link_flair_text_color': 'light',\n   'link_flair_type': 'text',\n   'locked': False,\n   'media_only': False,\n   'no_follow': True,\n   'num_comments': 0,\n   'num_crossposts': 0,\n   'over_18': True,\n   'parent_whitelist_status': 'no_ads',\n   'permalink': '/r/dirtypenpals/comments/t2t05d/f4f_taking_down_the_glutton_corporation/',\n   'pinned': False,\n   'pwls': 0,\n   'retrieved_on': 1645982551,\n   'score': 1,\n   'selftext': 'A year ago, a virus caused a worldwide pandemic that forced people to stay in, people weren\\'t allowed to visit public places, the fear of contracting the virus sent chills to the spine of every single one of them, and because of this, none of them were able to leave their houses ever since. It\\'s been a month ever since it had been announced, we were finally able to roam the open world again, and everyone went back to their normal lives. You were supposed to leave your town in order to live with her years earlier, but due to the pandemic, your plans were cancelled, and you were forced to meet her a few years later. You\\'ve gained a considerable amount of weight, the laziness and lack of exercise was the main reason as to why this had happened, but there was another reason, one that would make people judge you if you ever mentioned it to them. You liked big women, the feeling of your clothes tightening and sinking in to your fat while you eat massive amounts of food felt hot to you, you were an insatiable glutton with a desire to eat as much as possible, pushing yourself to your limits every single night in order to gain a few pounds. When it was time for you to move, you panicked, you felt that she might hate you due to your new, pudgy figure, you even thought that she might badmouth you for being such a fatass. After arriving to her city, you couldn\\'t help but notice but feel different, the people around you looked a bit strange, thats when you bumped into another lady, however, she was the same size as you, she had blue sparkly eyes alongside her blonde hair colour, donning a blac dress that was clearly having trouble keeping her fat in. Momentarily, she apologized before walking off, now that you think about it, all of the women around you seem to be rather chubbier than usual, however you didn\\'t mind it at all, brushing it off as some kind of dream. Finally, you were able to arrive to her home, a two story modern house, surrounded by a gate and a garden in front of it. As you walked by the pathway leading to the door, you couldn\\'t help but feel nervous, what if she hates you? What if she doesn\\'t accept you for being such a blubber ball? You shivered, holding your bags tightly as you pressed on the doorbell, and for a few seconds there was silence. It started to feel like forever as you thought to yourself, thinking of what might happen next, you decided that it\\'s best for you to leave, fearing that she may never accept you, as you turn around, the door behind you opened. Turning your head around, you couldn\\'t help but be amazed, she was about the same size as you, the same height too, it was like looking at a mirror. You phased out for a few seconds, before the fat woman called out to your name, welcoming you with a warm welcome, her body fat serving as a furnace of sorts, you couldn\\'t help but wonder. How did she get so big? What happened? And why is it hot? You heard a chuckle, as the womans says in a soft and gentle voice\\n\\n\"Welcome home, sweetie..~\"\\n\\nHiya! If you\\'re still reading here then, congratulations! This is a basic summary of my plot, it\\'s a post pandemic weight gain roleplay in which you play the character that\\'s moving in to my home! Naturally there\\'s multiple ways that we could play this out, we could either be sisters, friends or even long distance lovers! I\\'ve gotten rather big since our last meeting, and who knows? Yet there\\'s something about me and the place that we\\'re living with in that makes you uneasy, and it\\'s up to you to finding the key to solving this mystery\\n\\nI wanted to make it so that it\\'s secretive, my character suspects you of having a fat fetish, while your character pretty much feels the same, suspecting me of having the same kink, and it will eventually lead to them discovering each other\\'s fetish, there\\'s multiple plot points that I wanted to incorporate in this story such as different ways of gaining weight, story and so much more!\\n\\nI expect you to be at least fairly literate, I don\\'t need you to write out a whole book per reply, I just want someone who doesn\\'t do one-liners, its okay if you\\'re a male playing a female! Long as both characters are female then we should be all good! I wanted this roleplay to be semi-realistic too, I just enjoy seeing the detail when the other stuffs themselves with so much food as their belly churns, groaning in pain as it was placed on top of the table\\n\\nThis will be long-term, so please if possible, no ghosting, I would understand if something is wrong or if you\\'re busy, that\\'s alright since our real lives are more important than just roleplay, but if you\\'re disliking the roleplay as we continue, please tell me instead of ghosting me\\n\\nWell, that\\'s all that I have for this prompt right now! Other details will be explained in DMs, please don\\'t leave me simple blank hello messages, introduce yourself! So if this catches your eye and interests you? Hit me up! I hope to see you soon! If you\\'ve been reading up to here, please tell me what your favorite color is upon messaging me!\\n\\nKinks: Weight Gain, Chugging, Mutual Gain, Force Feeding, Stuckage, Burping, Science Materials, Belly Play, Teasing, Hugging, Wholesome Relationships, Bloating, Tight Clothes, Feeding, Overstuffed Bellies, Overstuffing\\n\\nLimits: Vore, Scat, Watersports\\n\\nThanks for Reading!',\n   'send_replies': True,\n   'spoiler': False,\n   'stickied': False,\n   'subreddit': 'dirtypenpals',\n   'subreddit_id': 't5_2sbbv',\n   'subreddit_subscribers': 429563,\n   'subreddit_type': 'public',\n   'thumbnail': 'nsfw',\n   'title': '[F4F] Taking down the Glutton Corporation',\n   'total_awards_received': 0,\n   'treatment_tags': [],\n   'upvote_ratio': 1.0,\n   'url': 'https://www.reddit.com/r/dirtypenpals/comments/t2t05d/f4f_taking_down_the_glutton_corporation/',\n   'whitelist_status': 'no_ads',\n   'wls': 0},\n  {'all_awardings': [],\n   'allow_live_comments': False,\n   'author': 'professionalcorses',\n   'author_flair_css_class': None,\n   'author_flair_richtext': [],\n   'author_flair_text': None,\n   'author_flair_type': 'text',\n   'author_fullname': 't2_jydo5vbj',\n   'author_is_blocked': False,\n   'author_patreon_flair': False,\n   'author_premium': False,\n   'awarders': [],\n   'can_mod_post': False,\n   'contest_mode': False,\n   'created_utc': 1645982507,\n   'domain': 'self.professionalcorses',\n   'full_link': 'https://www.reddit.com/r/u_professionalcorses/comments/t2szoe/top_10_data_science_courses_in_bangalore/',\n   'gildings': {},\n   'id': 't2szoe',\n   'is_created_from_ads_ui': False,\n   'is_crosspostable': True,\n   'is_meta': False,\n   'is_original_content': False,\n   'is_reddit_media_domain': False,\n   'is_robot_indexable': True,\n   'is_self': True,\n   'is_video': False,\n   'link_flair_background_color': '',\n   'link_flair_richtext': [],\n   'link_flair_text_color': 'dark',\n   'link_flair_type': 'text',\n   'locked': False,\n   'media_only': False,\n   'no_follow': True,\n   'num_comments': 0,\n   'num_crossposts': 0,\n   'over_18': False,\n   'permalink': '/r/u_professionalcorses/comments/t2szoe/top_10_data_science_courses_in_bangalore/',\n   'pinned': False,\n   'post_hint': 'self',\n   'preview': {'enabled': False,\n    'images': [{'id': 'TaahW29hczZ5h042Txt9rJGvQkLQfR2Y6CQXU7eMOYY',\n      'resolutions': [{'height': 60,\n        'url': 'https://external-preview.redd.it/UQX_eD6onm0cDzTRipPc7r69NEn0-zHhAUHNf1B_QLU.jpg?width=108&amp;crop=smart&amp;auto=webp&amp;s=0361ce237479508fef5c2cfcab38df23d7f0434b',\n        'width': 108},\n       {'height': 121,\n        'url': 'https://external-preview.redd.it/UQX_eD6onm0cDzTRipPc7r69NEn0-zHhAUHNf1B_QLU.jpg?width=216&amp;crop=smart&amp;auto=webp&amp;s=801700c2da9f80a27d8812a0d8748dfb4b9d2141',\n        'width': 216},\n       {'height': 180,\n        'url': 'https://external-preview.redd.it/UQX_eD6onm0cDzTRipPc7r69NEn0-zHhAUHNf1B_QLU.jpg?width=320&amp;crop=smart&amp;auto=webp&amp;s=41d18a97231432ca4fc860f071f4291becd736bd',\n        'width': 320},\n       {'height': 360,\n        'url': 'https://external-preview.redd.it/UQX_eD6onm0cDzTRipPc7r69NEn0-zHhAUHNf1B_QLU.jpg?width=640&amp;crop=smart&amp;auto=webp&amp;s=26b46591b290c47aaaaeb3774598bd43ee02a4fb',\n        'width': 640},\n       {'height': 540,\n        'url': 'https://external-preview.redd.it/UQX_eD6onm0cDzTRipPc7r69NEn0-zHhAUHNf1B_QLU.jpg?width=960&amp;crop=smart&amp;auto=webp&amp;s=284d5170ecece80ca026d7fe22ac5c9d8ec210f5',\n        'width': 960},\n       {'height': 607,\n        'url': 'https://external-preview.redd.it/UQX_eD6onm0cDzTRipPc7r69NEn0-zHhAUHNf1B_QLU.jpg?width=1080&amp;crop=smart&amp;auto=webp&amp;s=05333948e0a366a8113134cb9186a99d9ee0faaf',\n        'width': 1080}],\n      'source': {'height': 720,\n       'url': 'https://external-preview.redd.it/UQX_eD6onm0cDzTRipPc7r69NEn0-zHhAUHNf1B_QLU.jpg?auto=webp&amp;s=4e2a2df29cfa3d98efffce00d85a579923aedbc5',\n       'width': 1280},\n      'variants': {}}]},\n   'retrieved_on': 1645982518,\n   'score': 1,\n   'selftext': ' ***The*** [Data Scientist Course](https://www.henryharvin.com/blog/data-science-courses-bangalore/)***offers extensive training on the most in-demand Data Science and Machine Learning skills with hands-on exposure to key tools and  aims to extract valuable insights from a vast collection of data. Experience working with analytical tools such as Hadoop, R, SAS, and many more.***',\n   'send_replies': True,\n   'spoiler': False,\n   'stickied': False,\n   'subreddit': 'u_professionalcorses',\n   'subreddit_id': 't5_5w8472',\n   'subreddit_subscribers': 0,\n   'subreddit_type': 'user',\n   'suggested_sort': 'qa',\n   'thumbnail': 'self',\n   'title': 'Top 10 Data Science Courses in Bangalore',\n   'total_awards_received': 0,\n   'treatment_tags': [],\n   'upvote_ratio': 1.0,\n   'url': 'https://www.reddit.com/r/u_professionalcorses/comments/t2szoe/top_10_data_science_courses_in_bangalore/'},\n  {'all_awardings': [],\n   'allow_live_comments': False,\n   'author': 'Canuck_Voyageur',\n   'author_flair_css_class': None,\n   'author_flair_richtext': [],\n   'author_flair_text': None,\n   'author_flair_type': 'text',\n   'author_fullname': 't2_3kvulas2',\n   'author_is_blocked': False,\n   'author_patreon_flair': False,\n   'author_premium': False,\n   'awarders': [],\n   'can_mod_post': False,\n   'contest_mode': False,\n   'created_utc': 1645982440,\n   'domain': 'self.CPTSD',\n   'full_link': 'https://www.reddit.com/r/CPTSD/comments/t2sysk/does_anyone_else_think_they_have_cptsd_but_not/',\n   'gildings': {},\n   'id': 't2sysk',\n   'is_created_from_ads_ui': False,\n   'is_crosspostable': True,\n   'is_meta': False,\n   'is_original_content': False,\n   'is_reddit_media_domain': False,\n   'is_robot_indexable': True,\n   'is_self': True,\n   'is_video': False,\n   'link_flair_background_color': '',\n   'link_flair_richtext': [],\n   'link_flair_template_id': '229d9926-37c7-11e9-a230-0ec66f4db52a',\n   'link_flair_text': 'DAE (Does Anyone Else?)',\n   'link_flair_text_color': 'dark',\n   'link_flair_type': 'text',\n   'locked': False,\n   'media_only': False,\n   'no_follow': True,\n   'num_comments': 1,\n   'num_crossposts': 0,\n   'over_18': False,\n   'parent_whitelist_status': 'no_ads',\n   'permalink': '/r/CPTSD/comments/t2sysk/does_anyone_else_think_they_have_cptsd_but_not/',\n   'pinned': False,\n   'pwls': 0,\n   'retrieved_on': 1645982451,\n   'score': 1,\n   'selftext': 'This can be considered a Vent/Rant.  But I am curious about other experiences.\\n\\nI\\'m reading:\\n\\n**Emotional Neglect and Complex PTSD By Pete Walker** an 11 page paper linked from the Wiki.  He spends a lot of time talking about the belittling and dismissive emotional neglect, and the toxic effects. He also says that lots of kids don\\'t recognize it as abuse. Most of his examples are \"active measures\" by the parent, even if active means \"turning away and ignoring\"\\n\\nI don\\'t know how to characterize what happened to me.   I never felt that I couldn\\'t go to them and ask for help.  But I didn\\'t want to.  Once I waited until a skinned knee had an infection the size of a quarter and hurting a lot before asking my mom.  (Age 6?  Age 8? Old enough I was bathing myself.)  Shows how much I kept to myself that she didn\\'t notice.  It was summer.  I was in shorts all the time.   Another time I was playing with fire, and spilled burning mineral spirits on my hand, resulting in a big blister on my thumb.  After a few hours of trying to tough it out, I brought it to my dad who promptly lanced the blister, put a burn salve on it, and wrapped it.  This felt much better.  I explained how it happened.  Didn\\'t get in trouble for it.  Asked me how I would keep it from happening again.\\n\\nBut why was I reluctant to take my owies to my parents? Fear of disapproval?  \\n\\nI don\\'t remember receiving their disapproval for much of anything.   But I don\\'t remember their approval much either.   I think they were pleased when I won a minor prize in a regional science fair in grade 8, but I don\\'t remember them being there. There was an underlying expectation that someone of my smarts should be bringing home more A\\'s and fewer C\\'s, but there weren\\'t incentives for As or disapproval for C\\'s\\n\\nBoth parents were chronically sick and didn\\'t have a lot of energy. There was always hot supper. Mom bought me clothes until I was 12 and got a paper route.  My allowance stopped.    I was proud of that.  Meant I had taken a step toward independence. Mom helped me with the paper route book keeping.\\n\\nSo it wasn\\'t like I was totally neglected.  I played chess with my father.  I had toys and puzzles. I don\\'t remember making envious comparisons to other kids.  Every Tuesday from grade 3 onward was Library night.  I was pretty much illiterate at the end of grade 2.  (Class of 50) So it was a stack of books every week, and after school I would perch on the stool in the kitchen and read out loud to my mom while she was making supper.  I remember Dad reading Winnie the Pooh both of us in a big overstuffed floral print chair (18\" poppies or peonies).  Snuggled beside him, warm and safe.   \\n\\nBut I don\\'t remember hugs. I don\\'t remember my parents demonstrating affection for each other.\\n\\nUsing the list elsewhere in the FAQ, I have a lot of the symptoms (41/56) that correlate with CPTSD, but I don\\'t have anything overt happening.  Now that I\\'m aware of what they are, I sense the odd \"emo flashback\"  E.g. this morning, before getting up, I felt fear, but no elevated breathing or pulse.  I wanted to hide.  I thought, \"I need to hide harder\"  Odd phrasing that.   Writing about it now, I can trigger that a little bit.  Seems to come with a bit of dissociation.  Have I had these all along, but only with learning about this chaotic illness started to notice?  Or is it that now, since I\\'m trying to dig in, that hidden chunks are saying, \"He\\'s listening. Boy are we going to give him an earful\"  If the latter they are still trying to remember how to talk.\\n\\nBut everything is always so vague.  Mist demons.   Nailing fog to the barn door.  Trying to fix the car engine that almost runs right most of the time.\\n\\nI \\\\*really\\\\* wish that I had an owner\\'s manual.\\n\\nMy first therapy appointment is Wednesday.  I can hardly wait.',\n   'send_replies': True,\n   'spoiler': False,\n   'stickied': False,\n   'subreddit': 'CPTSD',\n   'subreddit_id': 't5_2vvid',\n   'subreddit_subscribers': 152712,\n   'subreddit_type': 'public',\n   'thumbnail': 'self',\n   'title': 'Does anyone else think they have CPTSD but not have flashbacks, emotional storms, nightmares?',\n   'total_awards_received': 0,\n   'treatment_tags': [],\n   'upvote_ratio': 1.0,\n   'url': 'https://www.reddit.com/r/CPTSD/comments/t2sysk/does_anyone_else_think_they_have_cptsd_but_not/',\n   'whitelist_status': 'no_ads',\n   'wls': 0},\n  {'all_awardings': [],\n   'allow_live_comments': False,\n   'author': 'rishipatel23',\n   'author_flair_css_class': None,\n   'author_flair_richtext': [],\n   'author_flair_text': None,\n   'author_flair_type': 'text',\n   'author_fullname': 't2_15sysj',\n   'author_is_blocked': False,\n   'author_patreon_flair': False,\n   'author_premium': False,\n   'awarders': [],\n   'can_mod_post': False,\n   'contest_mode': False,\n   'created_utc': 1645982435,\n   'domain': 'youtu.be',\n   'full_link': 'https://www.reddit.com/r/india/comments/t2sypq/a_must_watch_explanation_by_professor_of/',\n   'gildings': {},\n   'id': 't2sypq',\n   'is_created_from_ads_ui': False,\n   'is_crosspostable': True,\n   'is_meta': False,\n   'is_original_content': False,\n   'is_reddit_media_domain': False,\n   'is_robot_indexable': True,\n   'is_self': False,\n   'is_video': False,\n   'link_flair_background_color': '#fcf590',\n   'link_flair_css_class': 'Politics',\n   'link_flair_richtext': [{'e': 'text', 't': 'Politics'}],\n   'link_flair_template_id': '77f04f12-7ea0-11e3-ac66-22000a0b8292',\n   'link_flair_text': 'Politics',\n   'link_flair_text_color': 'dark',\n   'link_flair_type': 'richtext',\n   'locked': False,\n   'media': {'oembed': {'author_name': \"King's Politics\",\n     'author_url': 'https://www.youtube.com/channel/UC38dWYpcCXyAn9RZ8mFdzWA',\n     'height': 200,\n     'html': '&lt;iframe width=\"356\" height=\"200\" src=\"https://www.youtube.com/embed/Nbj1AR_aAcE?feature=oembed&amp;enablejsapi=1\" frameborder=\"0\" allow=\"accelerometer; autoplay; clipboard-write; encrypted-media; gyroscope; picture-in-picture\" allowfullscreen&gt;&lt;/iframe&gt;',\n     'provider_name': 'YouTube',\n     'provider_url': 'https://www.youtube.com/',\n     'thumbnail_height': 360,\n     'thumbnail_url': 'https://i.ytimg.com/vi/Nbj1AR_aAcE/hqdefault.jpg',\n     'thumbnail_width': 480,\n     'title': \"PROFESSOR JOHN MEARSHEIMER: THE SITUATION IN RUSSIA AND UKRAINE | KING'S POLITICS\",\n     'type': 'video',\n     'version': '1.0',\n     'width': 356},\n    'type': 'youtube.com'},\n   'media_embed': {'content': '&lt;iframe width=\"356\" height=\"200\" src=\"https://www.youtube.com/embed/Nbj1AR_aAcE?feature=oembed&amp;enablejsapi=1\" frameborder=\"0\" allow=\"accelerometer; autoplay; clipboard-write; encrypted-media; gyroscope; picture-in-picture\" allowfullscreen&gt;&lt;/iframe&gt;',\n    'height': 200,\n    'scrolling': False,\n    'width': 356},\n   'media_only': False,\n   'no_follow': True,\n   'num_comments': 0,\n   'num_crossposts': 0,\n   'over_18': False,\n   'parent_whitelist_status': 'all_ads',\n   'permalink': '/r/india/comments/t2sypq/a_must_watch_explanation_by_professor_of/',\n   'pinned': False,\n   'post_hint': 'rich:video',\n   'preview': {'enabled': False,\n    'images': [{'id': 'HWF4pPuhiGWw_Wm8KvWjzPsHtwAawBYRBSKH75RTLVU',\n      'resolutions': [{'height': 81,\n        'url': 'https://external-preview.redd.it/L0gYyzOI6nf2r01jXz15CBC842SxhdzpuwSP6lSdsE8.jpg?width=108&amp;crop=smart&amp;auto=webp&amp;s=f05d1ecef7c4aab8feca125ae33e470effe504d5',\n        'width': 108},\n       {'height': 162,\n        'url': 'https://external-preview.redd.it/L0gYyzOI6nf2r01jXz15CBC842SxhdzpuwSP6lSdsE8.jpg?width=216&amp;crop=smart&amp;auto=webp&amp;s=dc20b53b92dac54dceac95f239b76dec07be5b16',\n        'width': 216},\n       {'height': 240,\n        'url': 'https://external-preview.redd.it/L0gYyzOI6nf2r01jXz15CBC842SxhdzpuwSP6lSdsE8.jpg?width=320&amp;crop=smart&amp;auto=webp&amp;s=195e3836a571ee005293b8e8f2407b87ebaa4ffe',\n        'width': 320}],\n      'source': {'height': 360,\n       'url': 'https://external-preview.redd.it/L0gYyzOI6nf2r01jXz15CBC842SxhdzpuwSP6lSdsE8.jpg?auto=webp&amp;s=a7e164a54d16aa8dcdbd723c2478d7ca5ab9963f',\n       'width': 480},\n      'variants': {}}]},\n   'pwls': 6,\n   'retrieved_on': 1645982445,\n   'score': 1,\n   'secure_media': {'oembed': {'author_name': \"King's Politics\",\n     'author_url': 'https://www.youtube.com/channel/UC38dWYpcCXyAn9RZ8mFdzWA',\n     'height': 200,\n     'html': '&lt;iframe width=\"356\" height=\"200\" src=\"https://www.youtube.com/embed/Nbj1AR_aAcE?feature=oembed&amp;enablejsapi=1\" frameborder=\"0\" allow=\"accelerometer; autoplay; clipboard-write; encrypted-media; gyroscope; picture-in-picture\" allowfullscreen&gt;&lt;/iframe&gt;',\n     'provider_name': 'YouTube',\n     'provider_url': 'https://www.youtube.com/',\n     'thumbnail_height': 360,\n     'thumbnail_url': 'https://i.ytimg.com/vi/Nbj1AR_aAcE/hqdefault.jpg',\n     'thumbnail_width': 480,\n     'title': \"PROFESSOR JOHN MEARSHEIMER: THE SITUATION IN RUSSIA AND UKRAINE | KING'S POLITICS\",\n     'type': 'video',\n     'version': '1.0',\n     'width': 356},\n    'type': 'youtube.com'},\n   'secure_media_embed': {'content': '&lt;iframe width=\"356\" height=\"200\" src=\"https://www.youtube.com/embed/Nbj1AR_aAcE?feature=oembed&amp;enablejsapi=1\" frameborder=\"0\" allow=\"accelerometer; autoplay; clipboard-write; encrypted-media; gyroscope; picture-in-picture\" allowfullscreen&gt;&lt;/iframe&gt;',\n    'height': 200,\n    'media_domain_url': 'https://www.redditmedia.com/mediaembed/t2sypq',\n    'scrolling': False,\n    'width': 356},\n   'selftext': '',\n   'send_replies': True,\n   'spoiler': False,\n   'stickied': False,\n   'subreddit': 'india',\n   'subreddit_id': 't5_2qh1q',\n   'subreddit_subscribers': 740583,\n   'subreddit_type': 'public',\n   'thumbnail': 'https://b.thumbs.redditmedia.com/LnQa6Jir9ccMvFtLxaFYj-OjZZhudH-NA4iTXobBE8U.jpg',\n   'thumbnail_height': 105,\n   'thumbnail_width': 140,\n   'title': 'A must watch explanation by professor of political science from University of Chicago to understand the ongoing Ukraine crisis',\n   'total_awards_received': 0,\n   'treatment_tags': [],\n   'upvote_ratio': 1.0,\n   'url': 'https://youtu.be/Nbj1AR_aAcE',\n   'url_overridden_by_dest': 'https://youtu.be/Nbj1AR_aAcE',\n   'whitelist_status': 'all_ads',\n   'wls': 6},\n  {'all_awardings': [],\n   'allow_live_comments': False,\n   'author': 'RefuseOk84',\n   'author_flair_css_class': None,\n   'author_flair_richtext': [],\n   'author_flair_text': None,\n   'author_flair_type': 'text',\n   'author_fullname': 't2_js4icqox',\n   'author_is_blocked': False,\n   'author_patreon_flair': False,\n   'author_premium': False,\n   'awarders': [],\n   'can_mod_post': False,\n   'contest_mode': False,\n   'created_utc': 1645982369,\n   'domain': 'self.RefuseOk84',\n   'full_link': 'https://www.reddit.com/r/u_RefuseOk84/comments/t2sxrw/teaching_english_to_children_with_learning/',\n   'gildings': {},\n   'id': 't2sxrw',\n   'is_created_from_ads_ui': False,\n   'is_crosspostable': True,\n   'is_meta': False,\n   'is_original_content': False,\n   'is_reddit_media_domain': False,\n   'is_robot_indexable': True,\n   'is_self': True,\n   'is_video': False,\n   'link_flair_background_color': '',\n   'link_flair_richtext': [],\n   'link_flair_text_color': 'dark',\n   'link_flair_type': 'text',\n   'locked': False,\n   'media_only': False,\n   'no_follow': False,\n   'num_comments': 0,\n   'num_crossposts': 0,\n   'over_18': False,\n   'permalink': '/r/u_RefuseOk84/comments/t2sxrw/teaching_english_to_children_with_learning/',\n   'pinned': False,\n   'retrieved_on': 1645982379,\n   'score': 1,\n   'selftext': 'I have decided to approach the issue of the children with learning disabilities, teaching English to them, because although the science and the world have evolved rapidly in the last century, it seems that there are still aspects of the society that are left alone or who are not given sufficient credit, perhaps from ignorance, or perhaps from unknowing what to do.',\n   'send_replies': True,\n   'spoiler': False,\n   'stickied': False,\n   'subreddit': 'u_RefuseOk84',\n   'subreddit_id': 't5_5v7d2w',\n   'subreddit_subscribers': 0,\n   'subreddit_type': 'user',\n   'suggested_sort': 'qa',\n   'thumbnail': 'self',\n   'title': 'Teaching English To Children With Learning Disabilities',\n   'total_awards_received': 0,\n   'treatment_tags': [],\n   'upvote_ratio': 1.0,\n   'url': 'https://www.reddit.com/r/u_RefuseOk84/comments/t2sxrw/teaching_english_to_children_with_learning/'},\n  {'all_awardings': [],\n   'allow_live_comments': False,\n   'author': 'vpunia',\n   'author_flair_css_class': None,\n   'author_flair_richtext': [],\n   'author_flair_text': None,\n   'author_flair_type': 'text',\n   'author_fullname': 't2_ju0n5hdp',\n   'author_is_blocked': False,\n   'author_patreon_flair': False,\n   'author_premium': False,\n   'awarders': [],\n   'can_mod_post': False,\n   'contest_mode': False,\n   'created_utc': 1645982323,\n   'domain': 'self.vpunia',\n   'full_link': 'https://www.reddit.com/r/u_vpunia/comments/t2sx5c/bscn_humber_or_gbcryerson/',\n   'gildings': {},\n   'id': 't2sx5c',\n   'is_created_from_ads_ui': False,\n   'is_crosspostable': True,\n   'is_meta': False,\n   'is_original_content': False,\n   'is_reddit_media_domain': False,\n   'is_robot_indexable': True,\n   'is_self': True,\n   'is_video': False,\n   'link_flair_background_color': '',\n   'link_flair_richtext': [],\n   'link_flair_text_color': 'dark',\n   'link_flair_type': 'text',\n   'locked': False,\n   'media_only': False,\n   'no_follow': True,\n   'num_comments': 0,\n   'num_crossposts': 0,\n   'over_18': False,\n   'permalink': '/r/u_vpunia/comments/t2sx5c/bscn_humber_or_gbcryerson/',\n   'pinned': False,\n   'retrieved_on': 1645982334,\n   'score': 1,\n   'selftext': 'Hi, I recently got accepted into both Bachelor of Science Nursing programs with Humber college and Geroge Brown with Ryerson. \\n\\nIf anyone knows the pros and cons of each program please comment down below!!! I am unsure which to choose. (still waiting on McMaster which is my top choice).',\n   'send_replies': True,\n   'spoiler': False,\n   'stickied': False,\n   'subreddit': 'u_vpunia',\n   'subreddit_id': 't5_5vhx1e',\n   'subreddit_subscribers': 0,\n   'subreddit_type': 'user',\n   'suggested_sort': 'qa',\n   'thumbnail': 'self',\n   'title': 'BScN humber or gbc/ryerson',\n   'total_awards_received': 0,\n   'treatment_tags': [],\n   'upvote_ratio': 1.0,\n   'url': 'https://www.reddit.com/r/u_vpunia/comments/t2sx5c/bscn_humber_or_gbcryerson/'}]}"
     },
     "metadata": {}
    }
   ]
  },
  {
   "cell_type": "markdown",
   "source": "## Using the request library to query Wikipedia\n\nHave a look at https://stats.wikimedia.org/#/en.wikipedia.org, this is what WP is made under the hook! You can get programmatic access to all of that: pages, pageviews, user contributions, etc.\n\n### Wikipedia API\n\nWikimedia Foundation hosts several initiatives (e.g.,  Wikipedia, Wikibooks, Wikidata, etc.). All of the Wikimedia Wikis have specific endpoints. For example, an English Wikipedia has the following endpoint - https://en.wikipedia.org/w/api.php. For more examples, check out https://mediawiki.org/wiki/API:Main_page. \n\nFurther, there are several necessary parameters that are required in an URL string:\n- `action`\n- `format`\n- and some combination of `list`, `prop`, or `meta` depending on the requirement\n\n`action` tells the endpoint what type of action is to be performed. For requesting data, we need `action` to be `query`. We will ask for the data in JSON format, so `format` is set to `json`. Finally, there are three broad types of query actions we can perform:\n\n   - prop (https://www.mediawiki.org/wiki/Special:MyLanguage/API:Properties) - get properties of pages  \n   - list (https://www.mediawiki.org/wiki/Special:MyLanguage/API:Lists) - get list of pages matching a certain criterion\n   - meta (https://www.mediawiki.org/wiki/Special:MyLanguage/API:Meta) - get meta information about the wiki and user\n\n\nThe rest of the parameters will depend on the type of query action that is to be performed.",
   "metadata": {
    "cell_id": "d1d9a692-23b9-4e5a-8eb2-6720ecde63f5",
    "tags": [],
    "deepnote_cell_height": 70,
    "deepnote_app_coordinates": {
     "x": 0,
     "y": 6,
     "w": 12,
     "h": 5
    },
    "deepnote_cell_type": "markdown"
   }
  },
  {
   "cell_type": "markdown",
   "source": "### Exercise 1: Querying the main Wikipedia API",
   "metadata": {
    "cell_id": "11bb52c8-ad91-4153-ad78-92d5590e6f47",
    "tags": [],
    "deepnote_app_coordinates": {
     "x": 0,
     "y": 72,
     "w": 12,
     "h": 5
    },
    "deepnote_cell_type": "markdown"
   }
  },
  {
   "cell_type": "markdown",
   "source": "<div class=\"alert alert-info\">\n\n**Exercise 1.1:** Use `requests` to search for English Wikipedia articles containing the term “Oxford”. Here are the parameters that we will need:\n1. API endpoint: http://en.wikipedia.org/w/api.php\n2. Parameters\n   - `action=query`\n   - `format=json`\n   - `list=search`\n   - `srsearch=oxford`\n\n- Call `requests.get` with appropriate endpooint and parameters \n- Print the url that was accessed through the above call\n- Print the response of the above call, i.e., use `.json()` method\n- Read through some of the key-value pairs in the above `.json()` output. Which key corresponds to the search results? Is the value a `list` or a `dict`?\n- Make a pandas `DataFrame` of the search results. What are the various columns available? Count the number of search articles that were returned by the query \n\n</div>",
   "metadata": {
    "cell_id": "210db550-fe4d-4e4f-a250-da92c07137d1",
    "tags": [],
    "deepnote_cell_height": 229.8000030517578,
    "deepnote_app_coordinates": {
     "x": 0,
     "y": 78,
     "w": 12,
     "h": 5
    },
    "deepnote_cell_type": "markdown"
   }
  },
  {
   "cell_type": "code",
   "metadata": {
    "cell_id": "2213eef4-6c53-47e6-8be1-5ea843a79f7a",
    "tags": [],
    "deepnote_to_be_reexecuted": false,
    "source_hash": "561e8f53",
    "execution_start": 1646038810161,
    "execution_millis": 343,
    "deepnote_cell_height": 189,
    "deepnote_app_coordinates": {
     "x": 0,
     "y": 84,
     "w": 12,
     "h": 5
    },
    "deepnote_cell_type": "code"
   },
   "source": "# Specific parameters for the Wikipedia API:\nparams = {\n    \"action\": \"query\",\n    \"list\": \"search\",\n    \"srsearch\": \"oxford\",\n    \"format\": \"json\"\n}\n\n# Finally, we need to add some meta information identifying us so that the WikiMedia\n# foundation can know who is querying what. This is speceified by the headers variable.\n\n# Replace the User-Agent with your own ‘user agent’, a unique name of your choosing that\n# the Wikimedia sysadmin staff can identify in case of abuse. We provide a suggestion, but\n# do replace the email address with your own email adddress so that Wikimedia can contact you\n# if your scripts use too many resources:\n\nWP_HEADERS = {\n    'User-Agent': 'OIIARDCourse/1.0 (ssi@oii.ox.ac.uk)', \n}\n\n\nr = requests.get(\"http://en.wikipedia.org/w/api.php\", params=params, headers=WP_HEADERS)",
   "execution_count": null,
   "outputs": []
  },
  {
   "cell_type": "code",
   "metadata": {
    "cell_id": "9196af2b-8eb8-4320-96c3-60ac9607938a",
    "tags": [],
    "deepnote_to_be_reexecuted": false,
    "source_hash": "efa21cb7",
    "execution_start": 1645985832700,
    "execution_millis": 3,
    "deepnote_output_heights": [
     21.1875
    ],
    "deepnote_cell_height": 111.69999694824219,
    "deepnote_app_coordinates": {
     "x": 0,
     "y": 90,
     "w": 12,
     "h": 5
    },
    "deepnote_cell_type": "code"
   },
   "source": "# Which URL was accessed?\nprint(r.url)",
   "execution_count": null,
   "outputs": [
    {
     "name": "stdout",
     "text": "https://en.wikipedia.org/w/api.php?action=query&list=search&srsearch=oxford&format=json\n",
     "output_type": "stream"
    }
   ]
  },
  {
   "cell_type": "code",
   "metadata": {
    "cell_id": "d16b1544-1513-4bde-a2a0-e297eb15237f",
    "tags": [],
    "deepnote_to_be_reexecuted": false,
    "source_hash": "1824bf1a",
    "execution_start": 1645983330556,
    "execution_millis": 6,
    "deepnote_output_heights": [
     611
    ],
    "deepnote_cell_height": 708,
    "deepnote_app_coordinates": {
     "x": 0,
     "y": 96,
     "w": 12,
     "h": 5
    },
    "deepnote_cell_type": "code"
   },
   "source": "# Result of the query to the API, automatically formatted as a Python dictionary by requests:\nr.json()",
   "execution_count": null,
   "outputs": [
    {
     "output_type": "execute_result",
     "execution_count": 8,
     "data": {
      "text/plain": "{'batchcomplete': '',\n 'continue': {'sroffset': 10, 'continue': '-||'},\n 'query': {'searchinfo': {'totalhits': 291617},\n  'search': [{'ns': 0,\n    'title': 'Oxford',\n    'pageid': 22308,\n    'size': 133381,\n    'wordcount': 11466,\n    'snippet': '<span class=\"searchmatch\">Oxford</span> (/ˈɒksfərd/) is a city in England. It is the county town and only city of Oxfordshire. In 2017, its population was estimated at 152,450. It is 56',\n    'timestamp': '2022-02-26T16:42:12Z'},\n   {'ns': 0,\n    'title': 'University of Oxford',\n    'pageid': 31797,\n    'size': 192050,\n    'wordcount': 17347,\n    'snippet': 'The University of <span class=\"searchmatch\">Oxford</span> is a collegiate research university in <span class=\"searchmatch\">Oxford</span>, England. There is evidence of teaching as early as 1096, making it the oldest university',\n    'timestamp': '2022-02-24T22:08:14Z'},\n   {'ns': 0,\n    'title': 'Oxford University Press',\n    'pageid': 48518,\n    'size': 69921,\n    'wordcount': 9393,\n    'snippet': '<span class=\"searchmatch\">Oxford</span> University Press (OUP) is the university press of the University of <span class=\"searchmatch\">Oxford</span>. It is the largest university press in the world, and the second oldest',\n    'timestamp': '2022-02-06T15:17:33Z'},\n   {'ns': 0,\n    'title': 'Earl of Oxford',\n    'pageid': 249282,\n    'size': 11926,\n    'wordcount': 1008,\n    'snippet': 'Earl of <span class=\"searchmatch\">Oxford</span> is a dormant title in the Peerage of England, first created for Aubrey de Vere by the Empress Matilda in 1141. His family was to hold the',\n    'timestamp': '2022-01-11T09:25:11Z'},\n   {'ns': 0,\n    'title': 'The Boat Race',\n    'pageid': 247877,\n    'size': 81707,\n    'wordcount': 6744,\n    'snippet': 'set of rowing races between the Cambridge University Boat Club and the <span class=\"searchmatch\">Oxford</span> University Boat Club, traditionally rowed between open-weight eights on',\n    'timestamp': '2022-02-24T14:40:23Z'},\n   {'ns': 0,\n    'title': 'Oxford–AstraZeneca COVID-19 vaccine',\n    'pageid': 64586749,\n    'size': 205328,\n    'wordcount': 16251,\n    'snippet': 'The <span class=\"searchmatch\">Oxford</span>–AstraZeneca COVID-19 vaccine, codenamed AZD1222, and sold under the brand names Covishield and Vaxzevria among others, is a viral vector vaccine',\n    'timestamp': '2022-02-10T16:38:14Z'},\n   {'ns': 0,\n    'title': 'Oxford dictionary',\n    'pageid': 37819174,\n    'size': 815,\n    'wordcount': 96,\n    'snippet': '<span class=\"searchmatch\">Oxford</span> dictionary may refer to any dictionary published by <span class=\"searchmatch\">Oxford</span> University Press, particularly: <span class=\"searchmatch\">Oxford</span> English Dictionary (OED) Shorter <span class=\"searchmatch\">Oxford</span> English',\n    'timestamp': '2021-06-21T06:58:39Z'},\n   {'ns': 0,\n    'title': 'Oxford (cloth)',\n    'pageid': 2259236,\n    'size': 1839,\n    'wordcount': 164,\n    'snippet': '<span class=\"searchmatch\">Oxford</span> cloth is a type of woven dress shirt fabric, employed to make dress shirts sometimes called <span class=\"searchmatch\">Oxford</span> shirts worn on casual to formal occasions. Oxford',\n    'timestamp': '2022-02-08T11:51:52Z'},\n   {'ns': 0,\n    'title': 'Oxford, Mississippi',\n    'pageid': 122337,\n    'size': 33409,\n    'wordcount': 3022,\n    'snippet': '<span class=\"searchmatch\">Oxford</span> is a city in, and the county seat of, Lafayette County, Mississippi, United States. Founded in 1837, it was named after the British city of Oxford',\n    'timestamp': '2022-02-23T01:54:09Z'},\n   {'ns': 0,\n    'title': 'Oxford English Dictionary',\n    'pageid': 22641,\n    'size': 87709,\n    'wordcount': 9114,\n    'snippet': 'The <span class=\"searchmatch\">Oxford</span> English Dictionary (OED) is the principal historical dictionary of the English language, published by <span class=\"searchmatch\">Oxford</span> University Press (OUP). It traces',\n    'timestamp': '2022-02-26T01:59:58Z'}]}}"
     },
     "metadata": {}
    }
   ]
  },
  {
   "cell_type": "code",
   "metadata": {
    "cell_id": "4908acf3-2959-46b6-8e13-875b17c43dda",
    "tags": [],
    "deepnote_to_be_reexecuted": false,
    "source_hash": "9e7e9891",
    "execution_start": 1645983331822,
    "execution_millis": 4,
    "deepnote_app_coordinates": {
     "x": 0,
     "y": 102,
     "w": 12,
     "h": 5
    },
    "deepnote_cell_type": "code"
   },
   "source": "# Let's select all the articles and import them into a pandas DataFrame:\nresult = r.json()\npages = result['query']['search']\n\ndf_pages_oxford = pd.DataFrame(pages)",
   "execution_count": null,
   "outputs": []
  },
  {
   "cell_type": "code",
   "metadata": {
    "cell_id": "7823fbf9-dee2-420a-a8f1-259e6f043185",
    "tags": [],
    "deepnote_to_be_reexecuted": false,
    "source_hash": "9177b855",
    "execution_start": 1645983336191,
    "execution_millis": 5,
    "deepnote_app_coordinates": {
     "x": 0,
     "y": 108,
     "w": 12,
     "h": 5
    },
    "deepnote_cell_type": "code"
   },
   "source": "df_pages_oxford.columns",
   "execution_count": null,
   "outputs": [
    {
     "output_type": "execute_result",
     "execution_count": 10,
     "data": {
      "text/plain": "Index(['ns', 'title', 'pageid', 'size', 'wordcount', 'snippet', 'timestamp'], dtype='object')"
     },
     "metadata": {}
    }
   ]
  },
  {
   "cell_type": "code",
   "metadata": {
    "cell_id": "39c8f950-62bd-474a-a4b7-b5eee8b79f30",
    "tags": [],
    "deepnote_to_be_reexecuted": false,
    "source_hash": "93cb9a53",
    "execution_start": 1645983336760,
    "execution_millis": 4,
    "deepnote_app_coordinates": {
     "x": 0,
     "y": 114,
     "w": 12,
     "h": 5
    },
    "deepnote_cell_type": "code"
   },
   "source": "print(\"nb of search articles returned by the query:\", len(df_pages_oxford))",
   "execution_count": null,
   "outputs": [
    {
     "name": "stdout",
     "text": "nb of search articles returned by the query: 10\n",
     "output_type": "stream"
    }
   ]
  },
  {
   "cell_type": "code",
   "metadata": {
    "cell_id": "766cf333-84fd-4c1e-8d78-d4b7742f607e",
    "tags": [],
    "deepnote_to_be_reexecuted": false,
    "source_hash": "e668a49e",
    "execution_start": 1645983337486,
    "execution_millis": 22,
    "deepnote_app_coordinates": {
     "x": 0,
     "y": 120,
     "w": 12,
     "h": 5
    },
    "deepnote_cell_type": "code"
   },
   "source": "df_pages_oxford.head()",
   "execution_count": null,
   "outputs": [
    {
     "output_type": "execute_result",
     "execution_count": 12,
     "data": {
      "application/vnd.deepnote.dataframe.v3+json": {
       "column_count": 7,
       "row_count": 5,
       "columns": [
        {
         "name": "ns",
         "dtype": "int64",
         "stats": {
          "unique_count": 1,
          "nan_count": 0,
          "min": "0",
          "max": "0",
          "histogram": [
           {
            "bin_start": -0.5,
            "bin_end": -0.4,
            "count": 0
           },
           {
            "bin_start": -0.4,
            "bin_end": -0.3,
            "count": 0
           },
           {
            "bin_start": -0.3,
            "bin_end": -0.19999999999999996,
            "count": 0
           },
           {
            "bin_start": -0.19999999999999996,
            "bin_end": -0.09999999999999998,
            "count": 0
           },
           {
            "bin_start": -0.09999999999999998,
            "bin_end": 0,
            "count": 0
           },
           {
            "bin_start": 0,
            "bin_end": 0.10000000000000009,
            "count": 5
           },
           {
            "bin_start": 0.10000000000000009,
            "bin_end": 0.20000000000000007,
            "count": 0
           },
           {
            "bin_start": 0.20000000000000007,
            "bin_end": 0.30000000000000004,
            "count": 0
           },
           {
            "bin_start": 0.30000000000000004,
            "bin_end": 0.4,
            "count": 0
           },
           {
            "bin_start": 0.4,
            "bin_end": 0.5,
            "count": 0
           }
          ]
         }
        },
        {
         "name": "title",
         "dtype": "object",
         "stats": {
          "unique_count": 5,
          "nan_count": 0,
          "categories": [
           {
            "name": "Oxford",
            "count": 1
           },
           {
            "name": "University of Oxford",
            "count": 1
           },
           {
            "name": "3 others",
            "count": 3
           }
          ]
         }
        },
        {
         "name": "pageid",
         "dtype": "int64",
         "stats": {
          "unique_count": 5,
          "nan_count": 0,
          "min": "22308",
          "max": "249282",
          "histogram": [
           {
            "bin_start": 22308,
            "bin_end": 45005.4,
            "count": 2
           },
           {
            "bin_start": 45005.4,
            "bin_end": 67702.8,
            "count": 1
           },
           {
            "bin_start": 67702.8,
            "bin_end": 90400.20000000001,
            "count": 0
           },
           {
            "bin_start": 90400.20000000001,
            "bin_end": 113097.6,
            "count": 0
           },
           {
            "bin_start": 113097.6,
            "bin_end": 135795,
            "count": 0
           },
           {
            "bin_start": 135795,
            "bin_end": 158492.40000000002,
            "count": 0
           },
           {
            "bin_start": 158492.40000000002,
            "bin_end": 181189.80000000002,
            "count": 0
           },
           {
            "bin_start": 181189.80000000002,
            "bin_end": 203887.2,
            "count": 0
           },
           {
            "bin_start": 203887.2,
            "bin_end": 226584.6,
            "count": 0
           },
           {
            "bin_start": 226584.6,
            "bin_end": 249282,
            "count": 2
           }
          ]
         }
        },
        {
         "name": "size",
         "dtype": "int64",
         "stats": {
          "unique_count": 5,
          "nan_count": 0,
          "min": "11926",
          "max": "192050",
          "histogram": [
           {
            "bin_start": 11926,
            "bin_end": 29938.4,
            "count": 1
           },
           {
            "bin_start": 29938.4,
            "bin_end": 47950.8,
            "count": 0
           },
           {
            "bin_start": 47950.8,
            "bin_end": 65963.20000000001,
            "count": 0
           },
           {
            "bin_start": 65963.20000000001,
            "bin_end": 83975.6,
            "count": 2
           },
           {
            "bin_start": 83975.6,
            "bin_end": 101988,
            "count": 0
           },
           {
            "bin_start": 101988,
            "bin_end": 120000.40000000001,
            "count": 0
           },
           {
            "bin_start": 120000.40000000001,
            "bin_end": 138012.80000000002,
            "count": 1
           },
           {
            "bin_start": 138012.80000000002,
            "bin_end": 156025.2,
            "count": 0
           },
           {
            "bin_start": 156025.2,
            "bin_end": 174037.6,
            "count": 0
           },
           {
            "bin_start": 174037.6,
            "bin_end": 192050,
            "count": 1
           }
          ]
         }
        },
        {
         "name": "wordcount",
         "dtype": "int64",
         "stats": {
          "unique_count": 5,
          "nan_count": 0,
          "min": "1008",
          "max": "17347",
          "histogram": [
           {
            "bin_start": 1008,
            "bin_end": 2641.9,
            "count": 1
           },
           {
            "bin_start": 2641.9,
            "bin_end": 4275.8,
            "count": 0
           },
           {
            "bin_start": 4275.8,
            "bin_end": 5909.700000000001,
            "count": 0
           },
           {
            "bin_start": 5909.700000000001,
            "bin_end": 7543.6,
            "count": 1
           },
           {
            "bin_start": 7543.6,
            "bin_end": 9177.5,
            "count": 0
           },
           {
            "bin_start": 9177.5,
            "bin_end": 10811.400000000001,
            "count": 1
           },
           {
            "bin_start": 10811.400000000001,
            "bin_end": 12445.300000000001,
            "count": 1
           },
           {
            "bin_start": 12445.300000000001,
            "bin_end": 14079.2,
            "count": 0
           },
           {
            "bin_start": 14079.2,
            "bin_end": 15713.1,
            "count": 0
           },
           {
            "bin_start": 15713.1,
            "bin_end": 17347,
            "count": 1
           }
          ]
         }
        },
        {
         "name": "snippet",
         "dtype": "object",
         "stats": {
          "unique_count": 5,
          "nan_count": 0,
          "categories": [
           {
            "name": "<span class=\"searchmatch\">Oxford</span> (/ˈɒksfərd/) is a city in England. It is the county town and only city of Oxfordshire. In 2017, its population was estimated at 152,450. It is 56",
            "count": 1
           },
           {
            "name": "The University of <span class=\"searchmatch\">Oxford</span> is a collegiate research university in <span class=\"searchmatch\">Oxford</span>, England. There is evidence of teaching as early as 1096, making it the oldest university",
            "count": 1
           },
           {
            "name": "3 others",
            "count": 3
           }
          ]
         }
        },
        {
         "name": "timestamp",
         "dtype": "object",
         "stats": {
          "unique_count": 5,
          "nan_count": 0,
          "categories": [
           {
            "name": "2022-02-26T16:42:12Z",
            "count": 1
           },
           {
            "name": "2022-02-24T22:08:14Z",
            "count": 1
           },
           {
            "name": "3 others",
            "count": 3
           }
          ]
         }
        },
        {
         "name": "_deepnote_index_column",
         "dtype": "int64"
        }
       ],
       "rows": [
        {
         "ns": 0,
         "title": "Oxford",
         "pageid": 22308,
         "size": 133381,
         "wordcount": 11466,
         "snippet": "<span class=\"searchmatch\">Oxford</span> (/ˈɒksfərd/) is a city in England. It is the county town an…",
         "timestamp": "2022-02-26T16:42:12Z",
         "_deepnote_index_column": 0
        },
        {
         "ns": 0,
         "title": "University of Oxford",
         "pageid": 31797,
         "size": 192050,
         "wordcount": 17347,
         "snippet": "The University of <span class=\"searchmatch\">Oxford</span> is a collegiate research university in <s…",
         "timestamp": "2022-02-24T22:08:14Z",
         "_deepnote_index_column": 1
        },
        {
         "ns": 0,
         "title": "Oxford University Press",
         "pageid": 48518,
         "size": 69921,
         "wordcount": 9393,
         "snippet": "<span class=\"searchmatch\">Oxford</span> University Press (OUP) is the university press of the Unive…",
         "timestamp": "2022-02-06T15:17:33Z",
         "_deepnote_index_column": 2
        },
        {
         "ns": 0,
         "title": "Earl of Oxford",
         "pageid": 249282,
         "size": 11926,
         "wordcount": 1008,
         "snippet": "Earl of <span class=\"searchmatch\">Oxford</span> is a dormant title in the Peerage of England, first…",
         "timestamp": "2022-01-11T09:25:11Z",
         "_deepnote_index_column": 3
        },
        {
         "ns": 0,
         "title": "The Boat Race",
         "pageid": 247877,
         "size": 81707,
         "wordcount": 6744,
         "snippet": "set of rowing races between the Cambridge University Boat Club and the <span class=\"searchmatch\">Ox…",
         "timestamp": "2022-02-24T14:40:23Z",
         "_deepnote_index_column": 4
        }
       ]
      },
      "text/plain": "   ns                    title  pageid    size  wordcount  \\\n0   0                   Oxford   22308  133381      11466   \n1   0     University of Oxford   31797  192050      17347   \n2   0  Oxford University Press   48518   69921       9393   \n3   0           Earl of Oxford  249282   11926       1008   \n4   0            The Boat Race  247877   81707       6744   \n\n                                             snippet             timestamp  \n0  <span class=\"searchmatch\">Oxford</span> (/ˈɒks...  2022-02-26T16:42:12Z  \n1  The University of <span class=\"searchmatch\">Ox...  2022-02-24T22:08:14Z  \n2  <span class=\"searchmatch\">Oxford</span> Univer...  2022-02-06T15:17:33Z  \n3  Earl of <span class=\"searchmatch\">Oxford</span...  2022-01-11T09:25:11Z  \n4  set of rowing races between the Cambridge Univ...  2022-02-24T14:40:23Z  ",
      "text/html": "<div>\n<style scoped>\n    .dataframe tbody tr th:only-of-type {\n        vertical-align: middle;\n    }\n\n    .dataframe tbody tr th {\n        vertical-align: top;\n    }\n\n    .dataframe thead th {\n        text-align: right;\n    }\n</style>\n<table border=\"1\" class=\"dataframe\">\n  <thead>\n    <tr style=\"text-align: right;\">\n      <th></th>\n      <th>ns</th>\n      <th>title</th>\n      <th>pageid</th>\n      <th>size</th>\n      <th>wordcount</th>\n      <th>snippet</th>\n      <th>timestamp</th>\n    </tr>\n  </thead>\n  <tbody>\n    <tr>\n      <th>0</th>\n      <td>0</td>\n      <td>Oxford</td>\n      <td>22308</td>\n      <td>133381</td>\n      <td>11466</td>\n      <td>&lt;span class=\"searchmatch\"&gt;Oxford&lt;/span&gt; (/ˈɒks...</td>\n      <td>2022-02-26T16:42:12Z</td>\n    </tr>\n    <tr>\n      <th>1</th>\n      <td>0</td>\n      <td>University of Oxford</td>\n      <td>31797</td>\n      <td>192050</td>\n      <td>17347</td>\n      <td>The University of &lt;span class=\"searchmatch\"&gt;Ox...</td>\n      <td>2022-02-24T22:08:14Z</td>\n    </tr>\n    <tr>\n      <th>2</th>\n      <td>0</td>\n      <td>Oxford University Press</td>\n      <td>48518</td>\n      <td>69921</td>\n      <td>9393</td>\n      <td>&lt;span class=\"searchmatch\"&gt;Oxford&lt;/span&gt; Univer...</td>\n      <td>2022-02-06T15:17:33Z</td>\n    </tr>\n    <tr>\n      <th>3</th>\n      <td>0</td>\n      <td>Earl of Oxford</td>\n      <td>249282</td>\n      <td>11926</td>\n      <td>1008</td>\n      <td>Earl of &lt;span class=\"searchmatch\"&gt;Oxford&lt;/span...</td>\n      <td>2022-01-11T09:25:11Z</td>\n    </tr>\n    <tr>\n      <th>4</th>\n      <td>0</td>\n      <td>The Boat Race</td>\n      <td>247877</td>\n      <td>81707</td>\n      <td>6744</td>\n      <td>set of rowing races between the Cambridge Univ...</td>\n      <td>2022-02-24T14:40:23Z</td>\n    </tr>\n  </tbody>\n</table>\n</div>"
     },
     "metadata": {}
    }
   ]
  },
  {
   "cell_type": "markdown",
   "source": "<div class=\"alert alert-info\">\n\n**Exercise 1.2 (optional):** Write a function that takes as a string input, `query`, and returns the wikipedia pages corresponding to that `query`. Call this function with the `query` as `oxford`. \n\n</div>",
   "metadata": {
    "cell_id": "0a5b8119-64a4-47d7-b4a0-c3075ccfacce",
    "tags": [],
    "deepnote_app_coordinates": {
     "x": 0,
     "y": 126,
     "w": 12,
     "h": 5
    },
    "deepnote_cell_type": "markdown"
   }
  },
  {
   "cell_type": "code",
   "metadata": {
    "cell_id": "8623152e-2b6c-4b83-ae29-441782333b3f",
    "tags": [],
    "deepnote_to_be_reexecuted": false,
    "source_hash": "254deb7f",
    "execution_start": 1645983339075,
    "execution_millis": 12,
    "deepnote_app_coordinates": {
     "x": 0,
     "y": 132,
     "w": 12,
     "h": 5
    },
    "deepnote_cell_type": "code"
   },
   "source": "def search_pages(query):\n    \"\"\"\n    Search for pages on Wikipedia matching a given query.\n    Return a pandas DataFrame where each row is one Wikipedia page.\n    \"\"\"\n\n    params = {\n        \"action\": \"query\",\n        \"list\": \"search\",\n        \"srsearch\": query,\n        \"format\": \"json\"\n    }\n    r = requests.get(\"http://en.wikipedia.org/w/api.php\", params=params, headers=WP_HEADERS)\n\n    results = r.json()\n    pages = result['query']['search']\n    df_pages_query = pd.DataFrame(pages)\n\n    return df_pages_query\n    ",
   "execution_count": null,
   "outputs": []
  },
  {
   "cell_type": "code",
   "metadata": {
    "cell_id": "a7c65c80-f4f7-407f-a6ed-ac9d2963d8d1",
    "tags": [],
    "deepnote_to_be_reexecuted": false,
    "source_hash": "886bbb67",
    "execution_start": 1645983339950,
    "execution_millis": 382,
    "deepnote_app_coordinates": {
     "x": 0,
     "y": 138,
     "w": 12,
     "h": 5
    },
    "deepnote_cell_type": "code"
   },
   "source": "df_pages_oxford = search_pages(\"oxford\")\ndf_pages_oxford.head()",
   "execution_count": null,
   "outputs": [
    {
     "output_type": "execute_result",
     "execution_count": 14,
     "data": {
      "application/vnd.deepnote.dataframe.v3+json": {
       "column_count": 7,
       "row_count": 5,
       "columns": [
        {
         "name": "ns",
         "dtype": "int64",
         "stats": {
          "unique_count": 1,
          "nan_count": 0,
          "min": "0",
          "max": "0",
          "histogram": [
           {
            "bin_start": -0.5,
            "bin_end": -0.4,
            "count": 0
           },
           {
            "bin_start": -0.4,
            "bin_end": -0.3,
            "count": 0
           },
           {
            "bin_start": -0.3,
            "bin_end": -0.19999999999999996,
            "count": 0
           },
           {
            "bin_start": -0.19999999999999996,
            "bin_end": -0.09999999999999998,
            "count": 0
           },
           {
            "bin_start": -0.09999999999999998,
            "bin_end": 0,
            "count": 0
           },
           {
            "bin_start": 0,
            "bin_end": 0.10000000000000009,
            "count": 5
           },
           {
            "bin_start": 0.10000000000000009,
            "bin_end": 0.20000000000000007,
            "count": 0
           },
           {
            "bin_start": 0.20000000000000007,
            "bin_end": 0.30000000000000004,
            "count": 0
           },
           {
            "bin_start": 0.30000000000000004,
            "bin_end": 0.4,
            "count": 0
           },
           {
            "bin_start": 0.4,
            "bin_end": 0.5,
            "count": 0
           }
          ]
         }
        },
        {
         "name": "title",
         "dtype": "object",
         "stats": {
          "unique_count": 5,
          "nan_count": 0,
          "categories": [
           {
            "name": "Oxford",
            "count": 1
           },
           {
            "name": "University of Oxford",
            "count": 1
           },
           {
            "name": "3 others",
            "count": 3
           }
          ]
         }
        },
        {
         "name": "pageid",
         "dtype": "int64",
         "stats": {
          "unique_count": 5,
          "nan_count": 0,
          "min": "22308",
          "max": "249282",
          "histogram": [
           {
            "bin_start": 22308,
            "bin_end": 45005.4,
            "count": 2
           },
           {
            "bin_start": 45005.4,
            "bin_end": 67702.8,
            "count": 1
           },
           {
            "bin_start": 67702.8,
            "bin_end": 90400.20000000001,
            "count": 0
           },
           {
            "bin_start": 90400.20000000001,
            "bin_end": 113097.6,
            "count": 0
           },
           {
            "bin_start": 113097.6,
            "bin_end": 135795,
            "count": 0
           },
           {
            "bin_start": 135795,
            "bin_end": 158492.40000000002,
            "count": 0
           },
           {
            "bin_start": 158492.40000000002,
            "bin_end": 181189.80000000002,
            "count": 0
           },
           {
            "bin_start": 181189.80000000002,
            "bin_end": 203887.2,
            "count": 0
           },
           {
            "bin_start": 203887.2,
            "bin_end": 226584.6,
            "count": 0
           },
           {
            "bin_start": 226584.6,
            "bin_end": 249282,
            "count": 2
           }
          ]
         }
        },
        {
         "name": "size",
         "dtype": "int64",
         "stats": {
          "unique_count": 5,
          "nan_count": 0,
          "min": "11926",
          "max": "192050",
          "histogram": [
           {
            "bin_start": 11926,
            "bin_end": 29938.4,
            "count": 1
           },
           {
            "bin_start": 29938.4,
            "bin_end": 47950.8,
            "count": 0
           },
           {
            "bin_start": 47950.8,
            "bin_end": 65963.20000000001,
            "count": 0
           },
           {
            "bin_start": 65963.20000000001,
            "bin_end": 83975.6,
            "count": 2
           },
           {
            "bin_start": 83975.6,
            "bin_end": 101988,
            "count": 0
           },
           {
            "bin_start": 101988,
            "bin_end": 120000.40000000001,
            "count": 0
           },
           {
            "bin_start": 120000.40000000001,
            "bin_end": 138012.80000000002,
            "count": 1
           },
           {
            "bin_start": 138012.80000000002,
            "bin_end": 156025.2,
            "count": 0
           },
           {
            "bin_start": 156025.2,
            "bin_end": 174037.6,
            "count": 0
           },
           {
            "bin_start": 174037.6,
            "bin_end": 192050,
            "count": 1
           }
          ]
         }
        },
        {
         "name": "wordcount",
         "dtype": "int64",
         "stats": {
          "unique_count": 5,
          "nan_count": 0,
          "min": "1008",
          "max": "17347",
          "histogram": [
           {
            "bin_start": 1008,
            "bin_end": 2641.9,
            "count": 1
           },
           {
            "bin_start": 2641.9,
            "bin_end": 4275.8,
            "count": 0
           },
           {
            "bin_start": 4275.8,
            "bin_end": 5909.700000000001,
            "count": 0
           },
           {
            "bin_start": 5909.700000000001,
            "bin_end": 7543.6,
            "count": 1
           },
           {
            "bin_start": 7543.6,
            "bin_end": 9177.5,
            "count": 0
           },
           {
            "bin_start": 9177.5,
            "bin_end": 10811.400000000001,
            "count": 1
           },
           {
            "bin_start": 10811.400000000001,
            "bin_end": 12445.300000000001,
            "count": 1
           },
           {
            "bin_start": 12445.300000000001,
            "bin_end": 14079.2,
            "count": 0
           },
           {
            "bin_start": 14079.2,
            "bin_end": 15713.1,
            "count": 0
           },
           {
            "bin_start": 15713.1,
            "bin_end": 17347,
            "count": 1
           }
          ]
         }
        },
        {
         "name": "snippet",
         "dtype": "object",
         "stats": {
          "unique_count": 5,
          "nan_count": 0,
          "categories": [
           {
            "name": "<span class=\"searchmatch\">Oxford</span> (/ˈɒksfərd/) is a city in England. It is the county town and only city of Oxfordshire. In 2017, its population was estimated at 152,450. It is 56",
            "count": 1
           },
           {
            "name": "The University of <span class=\"searchmatch\">Oxford</span> is a collegiate research university in <span class=\"searchmatch\">Oxford</span>, England. There is evidence of teaching as early as 1096, making it the oldest university",
            "count": 1
           },
           {
            "name": "3 others",
            "count": 3
           }
          ]
         }
        },
        {
         "name": "timestamp",
         "dtype": "object",
         "stats": {
          "unique_count": 5,
          "nan_count": 0,
          "categories": [
           {
            "name": "2022-02-26T16:42:12Z",
            "count": 1
           },
           {
            "name": "2022-02-24T22:08:14Z",
            "count": 1
           },
           {
            "name": "3 others",
            "count": 3
           }
          ]
         }
        },
        {
         "name": "_deepnote_index_column",
         "dtype": "int64"
        }
       ],
       "rows": [
        {
         "ns": 0,
         "title": "Oxford",
         "pageid": 22308,
         "size": 133381,
         "wordcount": 11466,
         "snippet": "<span class=\"searchmatch\">Oxford</span> (/ˈɒksfərd/) is a city in England. It is the county town an…",
         "timestamp": "2022-02-26T16:42:12Z",
         "_deepnote_index_column": 0
        },
        {
         "ns": 0,
         "title": "University of Oxford",
         "pageid": 31797,
         "size": 192050,
         "wordcount": 17347,
         "snippet": "The University of <span class=\"searchmatch\">Oxford</span> is a collegiate research university in <s…",
         "timestamp": "2022-02-24T22:08:14Z",
         "_deepnote_index_column": 1
        },
        {
         "ns": 0,
         "title": "Oxford University Press",
         "pageid": 48518,
         "size": 69921,
         "wordcount": 9393,
         "snippet": "<span class=\"searchmatch\">Oxford</span> University Press (OUP) is the university press of the Unive…",
         "timestamp": "2022-02-06T15:17:33Z",
         "_deepnote_index_column": 2
        },
        {
         "ns": 0,
         "title": "Earl of Oxford",
         "pageid": 249282,
         "size": 11926,
         "wordcount": 1008,
         "snippet": "Earl of <span class=\"searchmatch\">Oxford</span> is a dormant title in the Peerage of England, first…",
         "timestamp": "2022-01-11T09:25:11Z",
         "_deepnote_index_column": 3
        },
        {
         "ns": 0,
         "title": "The Boat Race",
         "pageid": 247877,
         "size": 81707,
         "wordcount": 6744,
         "snippet": "set of rowing races between the Cambridge University Boat Club and the <span class=\"searchmatch\">Ox…",
         "timestamp": "2022-02-24T14:40:23Z",
         "_deepnote_index_column": 4
        }
       ]
      },
      "text/plain": "   ns                    title  pageid    size  wordcount  \\\n0   0                   Oxford   22308  133381      11466   \n1   0     University of Oxford   31797  192050      17347   \n2   0  Oxford University Press   48518   69921       9393   \n3   0           Earl of Oxford  249282   11926       1008   \n4   0            The Boat Race  247877   81707       6744   \n\n                                             snippet             timestamp  \n0  <span class=\"searchmatch\">Oxford</span> (/ˈɒks...  2022-02-26T16:42:12Z  \n1  The University of <span class=\"searchmatch\">Ox...  2022-02-24T22:08:14Z  \n2  <span class=\"searchmatch\">Oxford</span> Univer...  2022-02-06T15:17:33Z  \n3  Earl of <span class=\"searchmatch\">Oxford</span...  2022-01-11T09:25:11Z  \n4  set of rowing races between the Cambridge Univ...  2022-02-24T14:40:23Z  ",
      "text/html": "<div>\n<style scoped>\n    .dataframe tbody tr th:only-of-type {\n        vertical-align: middle;\n    }\n\n    .dataframe tbody tr th {\n        vertical-align: top;\n    }\n\n    .dataframe thead th {\n        text-align: right;\n    }\n</style>\n<table border=\"1\" class=\"dataframe\">\n  <thead>\n    <tr style=\"text-align: right;\">\n      <th></th>\n      <th>ns</th>\n      <th>title</th>\n      <th>pageid</th>\n      <th>size</th>\n      <th>wordcount</th>\n      <th>snippet</th>\n      <th>timestamp</th>\n    </tr>\n  </thead>\n  <tbody>\n    <tr>\n      <th>0</th>\n      <td>0</td>\n      <td>Oxford</td>\n      <td>22308</td>\n      <td>133381</td>\n      <td>11466</td>\n      <td>&lt;span class=\"searchmatch\"&gt;Oxford&lt;/span&gt; (/ˈɒks...</td>\n      <td>2022-02-26T16:42:12Z</td>\n    </tr>\n    <tr>\n      <th>1</th>\n      <td>0</td>\n      <td>University of Oxford</td>\n      <td>31797</td>\n      <td>192050</td>\n      <td>17347</td>\n      <td>The University of &lt;span class=\"searchmatch\"&gt;Ox...</td>\n      <td>2022-02-24T22:08:14Z</td>\n    </tr>\n    <tr>\n      <th>2</th>\n      <td>0</td>\n      <td>Oxford University Press</td>\n      <td>48518</td>\n      <td>69921</td>\n      <td>9393</td>\n      <td>&lt;span class=\"searchmatch\"&gt;Oxford&lt;/span&gt; Univer...</td>\n      <td>2022-02-06T15:17:33Z</td>\n    </tr>\n    <tr>\n      <th>3</th>\n      <td>0</td>\n      <td>Earl of Oxford</td>\n      <td>249282</td>\n      <td>11926</td>\n      <td>1008</td>\n      <td>Earl of &lt;span class=\"searchmatch\"&gt;Oxford&lt;/span...</td>\n      <td>2022-01-11T09:25:11Z</td>\n    </tr>\n    <tr>\n      <th>4</th>\n      <td>0</td>\n      <td>The Boat Race</td>\n      <td>247877</td>\n      <td>81707</td>\n      <td>6744</td>\n      <td>set of rowing races between the Cambridge Univ...</td>\n      <td>2022-02-24T14:40:23Z</td>\n    </tr>\n  </tbody>\n</table>\n</div>"
     },
     "metadata": {}
    }
   ]
  },
  {
   "cell_type": "markdown",
   "source": "### Exercise 2: Accessing categories of a WP page",
   "metadata": {
    "cell_id": "57d78a62-f3d1-4447-912b-372f84dc0c0f",
    "tags": [],
    "deepnote_app_coordinates": {
     "x": 0,
     "y": 144,
     "w": 12,
     "h": 5
    },
    "deepnote_cell_type": "markdown"
   }
  },
  {
   "cell_type": "markdown",
   "source": "<div class=\"alert alert-info\">\n\n**Exercise 2.1:** List all the categories for the Wikipedia page of Ada Lovelace (https://en.wikipedia.org/wiki/Ada_Lovelace)\n\n- Think of the parameters that you will pass along with the endpoint. What will be  `action`, `format`?\n- Go back to the top of this notebok and read through the section on `wikipedia API`. Which one of `prop`, `list`, or `meta` will you use?\n- For example, if you think `prop` is what we need, head over to the corresponding URL, i.e., https://www.mediawiki.org/wiki/API:Properties to check what are other related parameters that are neded. In this case, we need `titles` key to define our query, i.e, Ada Lovelace, and we are interested in `categories` property of this page, so `prop` must be `categories`. \n- (optional) click on the corresponding `categories` link on that page, i.e., https://www.mediawiki.org/wiki/Special:MyLanguage/API:Categories to check additional parameters that can be passed to this endpoint. We will set `cllimit` to `max` so that we get back all possible categories instead of just 10 (defafult). \n\n\n</div>",
   "metadata": {
    "cell_id": "f7cee406-302d-4cb3-86e7-698359f46d53",
    "tags": [],
    "deepnote_app_coordinates": {
     "x": 0,
     "y": 150,
     "w": 12,
     "h": 5
    },
    "deepnote_cell_type": "markdown"
   }
  },
  {
   "cell_type": "code",
   "metadata": {
    "cell_id": "0285dd35-7639-4675-a017-1bf5b921e3c7",
    "tags": [],
    "deepnote_to_be_reexecuted": false,
    "source_hash": "a0b2d5ea",
    "execution_start": 1645983342628,
    "execution_millis": 195,
    "deepnote_app_coordinates": {
     "x": 0,
     "y": 156,
     "w": 12,
     "h": 5
    },
    "deepnote_cell_type": "code"
   },
   "source": "params = {\n    \"action\": \"query\",\n    \"prop\": \"categories\",\n    \"titles\": \"Ada Lovelace\",\n    \"format\": \"json\",\n    \"cllimit\": \"max\",\n}\n\nr = requests.get(\"http://en.wikipedia.org/w/api.php\", params=params, headers=WP_HEADERS)",
   "execution_count": null,
   "outputs": []
  },
  {
   "cell_type": "markdown",
   "source": "<div class=\"alert alert-info\">\n\n**Exercise 2.2:** Access the categories of the resulting response \n\n- Look at the returned response from the API, i.e., investigate `.json()` output of the `requests.get` formulated above\n- How do you access the categories of the query? \n- Print all those categories\n\n</div>",
   "metadata": {
    "cell_id": "d19cb29a-c54e-49b4-a109-363ed3fcabaf",
    "tags": [],
    "deepnote_app_coordinates": {
     "x": 0,
     "y": 162,
     "w": 12,
     "h": 5
    },
    "deepnote_cell_type": "markdown"
   }
  },
  {
   "cell_type": "code",
   "metadata": {
    "cell_id": "eff96c69-0a1f-4af3-8cf7-35f12c9c1b4e",
    "tags": [],
    "deepnote_to_be_reexecuted": false,
    "source_hash": "f723c12e",
    "execution_start": 1645983346396,
    "execution_millis": 14,
    "deepnote_app_coordinates": {
     "x": 0,
     "y": 168,
     "w": 12,
     "h": 5
    },
    "deepnote_cell_type": "code"
   },
   "source": "response = r.json()\nresponse\n",
   "execution_count": null,
   "outputs": [
    {
     "output_type": "execute_result",
     "execution_count": 16,
     "data": {
      "text/plain": "{'batchcomplete': '',\n 'query': {'pages': {'974': {'pageid': 974,\n    'ns': 0,\n    'title': 'Ada Lovelace',\n    'categories': [{'ns': 14, 'title': 'Category:1815 births'},\n     {'ns': 14, 'title': 'Category:1852 deaths'},\n     {'ns': 14, 'title': 'Category:19th-century British inventors'},\n     {'ns': 14, 'title': 'Category:19th-century British women scientists'},\n     {'ns': 14, 'title': 'Category:19th-century British writers'},\n     {'ns': 14, 'title': 'Category:19th-century English mathematicians'},\n     {'ns': 14, 'title': 'Category:19th-century English nobility'},\n     {'ns': 14, 'title': 'Category:19th-century English women writers'},\n     {'ns': 14, 'title': 'Category:Ada (programming language)'},\n     {'ns': 14, 'title': 'Category:All articles with unsourced statements'},\n     {'ns': 14, 'title': 'Category:Articles with BIBSYS identifiers'},\n     {'ns': 14, 'title': 'Category:Articles with BNE identifiers'},\n     {'ns': 14, 'title': 'Category:Articles with BNF identifiers'},\n     {'ns': 14, 'title': 'Category:Articles with CANTIC identifiers'},\n     {'ns': 14, 'title': 'Category:Articles with DTBIO identifiers'},\n     {'ns': 14, 'title': 'Category:Articles with FAST identifiers'},\n     {'ns': 14, 'title': 'Category:Articles with GND identifiers'},\n     {'ns': 14, 'title': 'Category:Articles with ISNI identifiers'},\n     {'ns': 14, 'title': 'Category:Articles with J9U identifiers'},\n     {'ns': 14, 'title': 'Category:Articles with LCCN identifiers'},\n     {'ns': 14, 'title': 'Category:Articles with NDL identifiers'},\n     {'ns': 14, 'title': 'Category:Articles with NKC identifiers'},\n     {'ns': 14, 'title': 'Category:Articles with NLK identifiers'},\n     {'ns': 14, 'title': 'Category:Articles with NTA identifiers'},\n     {'ns': 14, 'title': 'Category:Articles with Open Library links'},\n     {'ns': 14, 'title': 'Category:Articles with PLWABN identifiers'},\n     {'ns': 14, 'title': 'Category:Articles with SELIBR identifiers'},\n     {'ns': 14, 'title': 'Category:Articles with SNAC-ID identifiers'},\n     {'ns': 14, 'title': 'Category:Articles with SUDOC identifiers'},\n     {'ns': 14, 'title': 'Category:Articles with VIAF identifiers'},\n     {'ns': 14, 'title': 'Category:Articles with WORLDCATID identifiers'},\n     {'ns': 14, 'title': 'Category:Articles with ZBMATH identifiers'},\n     {'ns': 14, 'title': 'Category:Articles with hCards'},\n     {'ns': 14, 'title': 'Category:Articles with multiple identifiers'},\n     {'ns': 14, 'title': 'Category:Articles with short description'},\n     {'ns': 14,\n      'title': 'Category:Articles with unsourced statements from November 2020'},\n     {'ns': 14, 'title': 'Category:Biography with signature'},\n     {'ns': 14, 'title': 'Category:British countesses'},\n     {'ns': 14, 'title': 'Category:British women computer scientists'},\n     {'ns': 14, 'title': 'Category:British women mathematicians'},\n     {'ns': 14,\n      'title': 'Category:Burials at the Church of St Mary Magdalene, Hucknall'},\n     {'ns': 14, 'title': 'Category:Burials in Nottinghamshire'},\n     {'ns': 14, 'title': 'Category:Byron family'},\n     {'ns': 14, 'title': 'Category:CS1: Julian–Gregorian uncertainty'},\n     {'ns': 14, 'title': 'Category:CS1 Spanish-language sources (es)'},\n     {'ns': 14, 'title': 'Category:Commons category link from Wikidata'},\n     {'ns': 14, 'title': 'Category:Computer designers'},\n     {'ns': 14, 'title': 'Category:Daughters of barons'},\n     {'ns': 14, 'title': 'Category:Deaths from cancer in England'},\n     {'ns': 14, 'title': 'Category:Deaths from uterine cancer'},\n     {'ns': 14, 'title': 'Category:English computer programmers'},\n     {'ns': 14, 'title': 'Category:English people of Scottish descent'},\n     {'ns': 14, 'title': 'Category:English women poets'},\n     {'ns': 14, 'title': 'Category:Lord Byron'},\n     {'ns': 14, 'title': 'Category:Mathematicians from London'},\n     {'ns': 14, 'title': 'Category:Open Library ID different from Wikidata'},\n     {'ns': 14,\n      'title': 'Category:Short description is different from Wikidata'},\n     {'ns': 14, 'title': 'Category:Use British English from November 2019'},\n     {'ns': 14, 'title': 'Category:Use dmy dates from September 2020'},\n     {'ns': 14,\n      'title': 'Category:Wikipedia indefinitely semi-protected pages'},\n     {'ns': 14, 'title': 'Category:Women computer scientists'},\n     {'ns': 14, 'title': 'Category:Women of the Victorian era'}]}}},\n 'limits': {'categories': 500}}"
     },
     "metadata": {}
    }
   ]
  },
  {
   "cell_type": "code",
   "metadata": {
    "cell_id": "87323e3e-ae9f-45fb-87e7-2000bdebc322",
    "tags": [],
    "deepnote_to_be_reexecuted": false,
    "source_hash": "e434e0b8",
    "execution_start": 1645983356972,
    "execution_millis": 6,
    "deepnote_app_coordinates": {
     "x": 0,
     "y": 174,
     "w": 12,
     "h": 5
    },
    "deepnote_cell_type": "code"
   },
   "source": "page_information = list(response['query']['pages'].values())[0]\n\nfor cat in page_information['categories']:\n    print(cat['title'])",
   "execution_count": null,
   "outputs": [
    {
     "name": "stdout",
     "text": "Category:1815 births\nCategory:1852 deaths\nCategory:19th-century British inventors\nCategory:19th-century British women scientists\nCategory:19th-century British writers\nCategory:19th-century English mathematicians\nCategory:19th-century English nobility\nCategory:19th-century English women writers\nCategory:Ada (programming language)\nCategory:All articles with unsourced statements\nCategory:Articles with BIBSYS identifiers\nCategory:Articles with BNE identifiers\nCategory:Articles with BNF identifiers\nCategory:Articles with CANTIC identifiers\nCategory:Articles with DTBIO identifiers\nCategory:Articles with FAST identifiers\nCategory:Articles with GND identifiers\nCategory:Articles with ISNI identifiers\nCategory:Articles with J9U identifiers\nCategory:Articles with LCCN identifiers\nCategory:Articles with NDL identifiers\nCategory:Articles with NKC identifiers\nCategory:Articles with NLK identifiers\nCategory:Articles with NTA identifiers\nCategory:Articles with Open Library links\nCategory:Articles with PLWABN identifiers\nCategory:Articles with SELIBR identifiers\nCategory:Articles with SNAC-ID identifiers\nCategory:Articles with SUDOC identifiers\nCategory:Articles with VIAF identifiers\nCategory:Articles with WORLDCATID identifiers\nCategory:Articles with ZBMATH identifiers\nCategory:Articles with hCards\nCategory:Articles with multiple identifiers\nCategory:Articles with short description\nCategory:Articles with unsourced statements from November 2020\nCategory:Biography with signature\nCategory:British countesses\nCategory:British women computer scientists\nCategory:British women mathematicians\nCategory:Burials at the Church of St Mary Magdalene, Hucknall\nCategory:Burials in Nottinghamshire\nCategory:Byron family\nCategory:CS1: Julian–Gregorian uncertainty\nCategory:CS1 Spanish-language sources (es)\nCategory:Commons category link from Wikidata\nCategory:Computer designers\nCategory:Daughters of barons\nCategory:Deaths from cancer in England\nCategory:Deaths from uterine cancer\nCategory:English computer programmers\nCategory:English people of Scottish descent\nCategory:English women poets\nCategory:Lord Byron\nCategory:Mathematicians from London\nCategory:Open Library ID different from Wikidata\nCategory:Short description is different from Wikidata\nCategory:Use British English from November 2019\nCategory:Use dmy dates from September 2020\nCategory:Wikipedia indefinitely semi-protected pages\nCategory:Women computer scientists\nCategory:Women of the Victorian era\n",
     "output_type": "stream"
    }
   ]
  },
  {
   "cell_type": "markdown",
   "source": "<div class=\"alert alert-info\">\n\n**Exercise 2.3:** Let's do the opposite. We are going to list all the pages for a given category, such as https://en.wikipedia.org/wiki/Category:19th-century_British_women_scientists\n\nAgain, there's a specific set of action, list, and prop for to do so (you can read more at https://www.mediawiki.org/wiki/API:Categorymembers). Run the code below.\n\n- Fill in the appropriate values for the keys in `params`\n- Complete the API call with appropriate arguments\n- investigate the response from the API call\n- print the list of all the women scientists\n\n</div>",
   "metadata": {
    "cell_id": "905e4e0c-ec12-41b4-a870-7761289c7dad",
    "tags": [],
    "deepnote_app_coordinates": {
     "x": 0,
     "y": 180,
     "w": 12,
     "h": 5
    },
    "deepnote_cell_type": "markdown"
   }
  },
  {
   "cell_type": "code",
   "metadata": {
    "cell_id": "27b627c2-61c3-4921-acf2-df18a49f31ec",
    "tags": [],
    "deepnote_to_be_reexecuted": false,
    "source_hash": "5ff30c79",
    "execution_start": 1646038821338,
    "execution_millis": 218,
    "deepnote_app_coordinates": {
     "x": 0,
     "y": 186,
     "w": 12,
     "h": 5
    },
    "deepnote_cell_type": "code"
   },
   "source": "params = {\n    \"action\": \"query\",\n    \"list\": \"categorymembers\",\n    \"cmtitle\": \"Category:19th-century British women scientists\", # (c)ategory (m)ember: title\n    \"format\": \"json\",\n    \"cmlimit\": \"max\" # (c)ategory (m)member: limit on the number of returned items\n}\n\nr = requests.get(\"http://en.wikipedia.org/w/api.php\", params=params, headers=WP_HEADERS)\nresponse = r.json()\n\nresponse",
   "execution_count": null,
   "outputs": [
    {
     "output_type": "execute_result",
     "execution_count": 5,
     "data": {
      "text/plain": "{'batchcomplete': '',\n 'limits': {'categorymembers': 500},\n 'query': {'categorymembers': [{'pageid': 38334,\n    'ns': 0,\n    'title': 'Mary Anning'},\n   {'pageid': 56459269, 'ns': 0, 'title': 'Emily Aston'},\n   {'pageid': 3329579, 'ns': 0, 'title': 'Anna Atkins'},\n   {'pageid': 1805181, 'ns': 0, 'title': 'Hertha Ayrton'},\n   {'pageid': 43626398, 'ns': 0, 'title': 'Alice Blanche Balfour'},\n   {'pageid': 5346209, 'ns': 0, 'title': 'Sarah Sophia Banks'},\n   {'pageid': 37384258, 'ns': 0, 'title': 'Mary Elizabeth Barber'},\n   {'pageid': 421866, 'ns': 0, 'title': 'Etheldred Benett'},\n   {'pageid': 39005794, 'ns': 0, 'title': 'Margaret Jane Benson'},\n   {'pageid': 43973894, 'ns': 0, 'title': 'Marion Bidder'},\n   {'pageid': 34678179, 'ns': 0, 'title': 'Ellen Blackwell'},\n   {'pageid': 37385494, 'ns': 0, 'title': 'Elizabeth Brown (astronomer)'},\n   {'pageid': 30078546, 'ns': 0, 'title': 'Margaret Bryan (philosopher)'},\n   {'pageid': 14360112, 'ns': 0, 'title': 'Priscilla Susan Bury'},\n   {'pageid': 14352056, 'ns': 0, 'title': 'Elizabeth Carne'},\n   {'pageid': 41260157, 'ns': 0, 'title': 'Margaret Crosfield'},\n   {'pageid': 55497682, 'ns': 0, 'title': 'Clare de Brereton Evans'},\n   {'pageid': 63974334, 'ns': 0, 'title': 'Lettice Digby (scientist)'},\n   {'pageid': 49639249, 'ns': 0, 'title': 'Thereza Dillwyn Llewelyn'},\n   {'pageid': 56278327, 'ns': 0, 'title': 'Margaret Douie Dougal'},\n   {'pageid': 13245530, 'ns': 0, 'title': 'Sarah Drake'},\n   {'pageid': 37436314, 'ns': 0, 'title': 'Marian Farquharson'},\n   {'pageid': 55497163, 'ns': 0, 'title': 'Emily Fortey'},\n   {'pageid': 37387826, 'ns': 0, 'title': 'Ida Freund'},\n   {'pageid': 54855876, 'ns': 0, 'title': 'Ethel Sarel Gepp'},\n   {'pageid': 58696233, 'ns': 0, 'title': 'Isabella Gifford'},\n   {'pageid': 55726465, 'ns': 0, 'title': 'Eliza Maria Gordon-Cumming'},\n   {'pageid': 20952313, 'ns': 0, 'title': 'Maria Gordon'},\n   {'pageid': 49845615, 'ns': 0, 'title': 'Lilian Jane Gould'},\n   {'pageid': 25754272, 'ns': 0, 'title': 'Amelia Griffiths'},\n   {'pageid': 453672, 'ns': 0, 'title': 'Jane Ellen Harrison'},\n   {'pageid': 207843, 'ns': 0, 'title': 'Caroline Herschel'},\n   {'pageid': 41259616, 'ns': 0, 'title': 'Mary Horner Lyell'},\n   {'pageid': 42111071, 'ns': 0, 'title': 'Edith Humphrey'},\n   {'pageid': 26287868, 'ns': 0, 'title': 'Anna Maria Hussey'},\n   {'pageid': 56958913, 'ns': 0, 'title': 'Emma Hutchinson'},\n   {'pageid': 29178517, 'ns': 0, 'title': 'Agnes Ibbetson'},\n   {'pageid': 45576944, 'ns': 0, 'title': 'Maria Elizabetha Jacson'},\n   {'pageid': 53424238, 'ns': 0, 'title': 'Mariamne Johnes'},\n   {'pageid': 48444839, 'ns': 0, 'title': 'Alice Johnson (zoologist)'},\n   {'pageid': 46308574, 'ns': 0, 'title': 'Catharine Johnston'},\n   {'pageid': 45320819, 'ns': 0, 'title': 'Charlotte Knight'},\n   {'pageid': 47599740, 'ns': 0, 'title': 'Phoebe Lankester'},\n   {'pageid': 46822411, 'ns': 0, 'title': 'Mary Leebody'},\n   {'pageid': 46656676, 'ns': 0, 'title': 'Gulielma Lister'},\n   {'pageid': 54261556, 'ns': 0, 'title': 'Emily Lloyd (chemist)'},\n   {'pageid': 48917694, 'ns': 0, 'title': 'Elizabeth Lomax'},\n   {'pageid': 974, 'ns': 0, 'title': 'Ada Lovelace'},\n   {'pageid': 48669031, 'ns': 0, 'title': 'Katharine Murray Lyell'},\n   {'pageid': 9144326, 'ns': 0, 'title': 'Mary Ann Mantell'},\n   {'pageid': 62634745, 'ns': 0, 'title': 'Lilian Martin-Leake'},\n   {'pageid': 213936, 'ns': 0, 'title': 'Harriet Martineau'},\n   {'pageid': 52149480, 'ns': 0, 'title': 'Katherine Clerk Maxwell'},\n   {'pageid': 52505273, 'ns': 0, 'title': 'Frances Micklethwait'},\n   {'pageid': 63628095, 'ns': 0, 'title': 'Rose Monteiro'},\n   {'pageid': 63620023, 'ns': 0, 'title': 'Mary De la Beche Nicholl'},\n   {'pageid': 759204, 'ns': 0, 'title': 'Eleanor Anne Ormerod'},\n   {'pageid': 40802030, 'ns': 0, 'title': 'Jessica Duncan Piazzi Smyth'},\n   {'pageid': 54870902, 'ns': 0, 'title': 'Margaret Plues'},\n   {'pageid': 37410375, 'ns': 0, 'title': 'Isis Pogson'},\n   {'pageid': 53426695, 'ns': 0, 'title': 'Margaretta Riley'},\n   {'pageid': 67214100, 'ns': 0, 'title': 'Anne Rudge'},\n   {'pageid': 47747452, 'ns': 0, 'title': 'Anna Russell (botanist)'},\n   {'pageid': 9125531, 'ns': 0, 'title': 'Ethel Sargant'},\n   {'pageid': 48449484, 'ns': 0, 'title': 'Lilian Sheldon'},\n   {'pageid': 7502109, 'ns': 0, 'title': 'Annie Lorrain Smith'},\n   {'pageid': 600171, 'ns': 0, 'title': 'Mary Somerville'},\n   {'pageid': 48978653, 'ns': 0, 'title': 'Frances Stackhouse Acton'},\n   {'pageid': 49859683, 'ns': 0, 'title': 'Emily Stackhouse'},\n   {'pageid': 66470395, 'ns': 0, 'title': 'Eliza Fanny Staveley'},\n   {'pageid': 42895806, 'ns': 0, 'title': 'Edith Anne Stoney'},\n   {'pageid': 40066460, 'ns': 0, 'title': 'Janet Taylor'},\n   {'pageid': 33939840, 'ns': 0, 'title': 'Anna Thynne'},\n   {'pageid': 60413235, 'ns': 0, 'title': 'Charlotte Georgina Trower'},\n   {'pageid': 49846780, 'ns': 0, 'title': 'Anna Vickers'},\n   {'pageid': 49856829, 'ns': 0, 'title': 'Elizabeth Andrew Warren'},\n   {'pageid': 39533448, 'ns': 0, 'title': 'Mary Anne Whitby'},\n   {'pageid': 42335308, 'ns': 0, 'title': 'Martha Annie Whiteley'},\n   {'pageid': 53258689, 'ns': 0, 'title': 'Sibyl Taite Widdows'},\n   {'pageid': 58124683, 'ns': 0, 'title': 'Caroline Catharine Wilkinson'},\n   {'pageid': 55855023, 'ns': 0, 'title': 'Rosina Zornlin'}]}}"
     },
     "metadata": {}
    }
   ]
  },
  {
   "cell_type": "code",
   "metadata": {
    "cell_id": "110847f1-1d43-41ab-a736-4e1a2d0b008d",
    "tags": [],
    "deepnote_to_be_reexecuted": false,
    "source_hash": "9e0e3c48",
    "execution_start": 1646038830688,
    "execution_millis": 17,
    "deepnote_app_coordinates": {
     "x": 0,
     "y": 192,
     "w": 12,
     "h": 5
    },
    "deepnote_table_state": {
     "pageSize": 10,
     "pageIndex": 0,
     "filters": [],
     "sortBy": []
    },
    "deepnote_table_loading": false,
    "deepnote_cell_type": "code"
   },
   "source": "df = pd.DataFrame(response['query']['categorymembers'])\ndf",
   "execution_count": null,
   "outputs": [
    {
     "output_type": "execute_result",
     "execution_count": 7,
     "data": {
      "application/vnd.deepnote.dataframe.v3+json": {
       "column_count": 3,
       "row_count": 81,
       "columns": [
        {
         "name": "pageid",
         "dtype": "int64",
         "stats": {
          "unique_count": 81,
          "nan_count": 0,
          "min": "974",
          "max": "67214100",
          "histogram": [
           {
            "bin_start": 974,
            "bin_end": 6722286.6,
            "count": 11
           },
           {
            "bin_start": 6722286.6,
            "bin_end": 13443599.2,
            "count": 4
           },
           {
            "bin_start": 13443599.2,
            "bin_end": 20164911.799999997,
            "count": 2
           },
           {
            "bin_start": 20164911.799999997,
            "bin_end": 26886224.4,
            "count": 3
           },
           {
            "bin_start": 26886224.4,
            "bin_end": 33607537,
            "count": 2
           },
           {
            "bin_start": 33607537,
            "bin_end": 40328849.599999994,
            "count": 10
           },
           {
            "bin_start": 40328849.599999994,
            "bin_end": 47050162.199999996,
            "count": 13
           },
           {
            "bin_start": 47050162.199999996,
            "bin_end": 53771474.8,
            "count": 17
           },
           {
            "bin_start": 53771474.8,
            "bin_end": 60492787.4,
            "count": 13
           },
           {
            "bin_start": 60492787.4,
            "bin_end": 67214100,
            "count": 6
           }
          ]
         }
        },
        {
         "name": "ns",
         "dtype": "int64",
         "stats": {
          "unique_count": 1,
          "nan_count": 0,
          "min": "0",
          "max": "0",
          "histogram": [
           {
            "bin_start": -0.5,
            "bin_end": -0.4,
            "count": 0
           },
           {
            "bin_start": -0.4,
            "bin_end": -0.3,
            "count": 0
           },
           {
            "bin_start": -0.3,
            "bin_end": -0.19999999999999996,
            "count": 0
           },
           {
            "bin_start": -0.19999999999999996,
            "bin_end": -0.09999999999999998,
            "count": 0
           },
           {
            "bin_start": -0.09999999999999998,
            "bin_end": 0,
            "count": 0
           },
           {
            "bin_start": 0,
            "bin_end": 0.10000000000000009,
            "count": 81
           },
           {
            "bin_start": 0.10000000000000009,
            "bin_end": 0.20000000000000007,
            "count": 0
           },
           {
            "bin_start": 0.20000000000000007,
            "bin_end": 0.30000000000000004,
            "count": 0
           },
           {
            "bin_start": 0.30000000000000004,
            "bin_end": 0.4,
            "count": 0
           },
           {
            "bin_start": 0.4,
            "bin_end": 0.5,
            "count": 0
           }
          ]
         }
        },
        {
         "name": "title",
         "dtype": "object",
         "stats": {
          "unique_count": 81,
          "nan_count": 0,
          "categories": [
           {
            "name": "Mary Anning",
            "count": 1
           },
           {
            "name": "Emily Aston",
            "count": 1
           },
           {
            "name": "79 others",
            "count": 79
           }
          ]
         }
        },
        {
         "name": "_deepnote_index_column",
         "dtype": "int64"
        }
       ],
       "rows": [
        {
         "pageid": 38334,
         "ns": 0,
         "title": "Mary Anning",
         "_deepnote_index_column": 0
        },
        {
         "pageid": 56459269,
         "ns": 0,
         "title": "Emily Aston",
         "_deepnote_index_column": 1
        },
        {
         "pageid": 3329579,
         "ns": 0,
         "title": "Anna Atkins",
         "_deepnote_index_column": 2
        },
        {
         "pageid": 1805181,
         "ns": 0,
         "title": "Hertha Ayrton",
         "_deepnote_index_column": 3
        },
        {
         "pageid": 43626398,
         "ns": 0,
         "title": "Alice Blanche Balfour",
         "_deepnote_index_column": 4
        },
        {
         "pageid": 5346209,
         "ns": 0,
         "title": "Sarah Sophia Banks",
         "_deepnote_index_column": 5
        },
        {
         "pageid": 37384258,
         "ns": 0,
         "title": "Mary Elizabeth Barber",
         "_deepnote_index_column": 6
        },
        {
         "pageid": 421866,
         "ns": 0,
         "title": "Etheldred Benett",
         "_deepnote_index_column": 7
        },
        {
         "pageid": 39005794,
         "ns": 0,
         "title": "Margaret Jane Benson",
         "_deepnote_index_column": 8
        },
        {
         "pageid": 43973894,
         "ns": 0,
         "title": "Marion Bidder",
         "_deepnote_index_column": 9
        }
       ]
      },
      "text/plain": "      pageid  ns                         title\n0      38334   0                   Mary Anning\n1   56459269   0                   Emily Aston\n2    3329579   0                   Anna Atkins\n3    1805181   0                 Hertha Ayrton\n4   43626398   0         Alice Blanche Balfour\n..       ...  ..                           ...\n76  39533448   0              Mary Anne Whitby\n77  42335308   0         Martha Annie Whiteley\n78  53258689   0           Sibyl Taite Widdows\n79  58124683   0  Caroline Catharine Wilkinson\n80  55855023   0                Rosina Zornlin\n\n[81 rows x 3 columns]",
      "text/html": "<div>\n<style scoped>\n    .dataframe tbody tr th:only-of-type {\n        vertical-align: middle;\n    }\n\n    .dataframe tbody tr th {\n        vertical-align: top;\n    }\n\n    .dataframe thead th {\n        text-align: right;\n    }\n</style>\n<table border=\"1\" class=\"dataframe\">\n  <thead>\n    <tr style=\"text-align: right;\">\n      <th></th>\n      <th>pageid</th>\n      <th>ns</th>\n      <th>title</th>\n    </tr>\n  </thead>\n  <tbody>\n    <tr>\n      <th>0</th>\n      <td>38334</td>\n      <td>0</td>\n      <td>Mary Anning</td>\n    </tr>\n    <tr>\n      <th>1</th>\n      <td>56459269</td>\n      <td>0</td>\n      <td>Emily Aston</td>\n    </tr>\n    <tr>\n      <th>2</th>\n      <td>3329579</td>\n      <td>0</td>\n      <td>Anna Atkins</td>\n    </tr>\n    <tr>\n      <th>3</th>\n      <td>1805181</td>\n      <td>0</td>\n      <td>Hertha Ayrton</td>\n    </tr>\n    <tr>\n      <th>4</th>\n      <td>43626398</td>\n      <td>0</td>\n      <td>Alice Blanche Balfour</td>\n    </tr>\n    <tr>\n      <th>...</th>\n      <td>...</td>\n      <td>...</td>\n      <td>...</td>\n    </tr>\n    <tr>\n      <th>76</th>\n      <td>39533448</td>\n      <td>0</td>\n      <td>Mary Anne Whitby</td>\n    </tr>\n    <tr>\n      <th>77</th>\n      <td>42335308</td>\n      <td>0</td>\n      <td>Martha Annie Whiteley</td>\n    </tr>\n    <tr>\n      <th>78</th>\n      <td>53258689</td>\n      <td>0</td>\n      <td>Sibyl Taite Widdows</td>\n    </tr>\n    <tr>\n      <th>79</th>\n      <td>58124683</td>\n      <td>0</td>\n      <td>Caroline Catharine Wilkinson</td>\n    </tr>\n    <tr>\n      <th>80</th>\n      <td>55855023</td>\n      <td>0</td>\n      <td>Rosina Zornlin</td>\n    </tr>\n  </tbody>\n</table>\n<p>81 rows × 3 columns</p>\n</div>"
     },
     "metadata": {}
    }
   ]
  },
  {
   "cell_type": "markdown",
   "source": "We now have a dataframe with the unique ID and the page title of all 19th-century British women scientists on Wikipedia.",
   "metadata": {
    "cell_id": "696eefe3-5f6b-43c8-ad9e-edba79336b70",
    "tags": [],
    "deepnote_app_coordinates": {
     "x": 0,
     "y": 198,
     "w": 12,
     "h": 5
    },
    "deepnote_cell_type": "markdown"
   }
  },
  {
   "cell_type": "code",
   "metadata": {
    "cell_id": "668f8896-2748-41ec-8023-ca32ad72782c",
    "tags": [],
    "deepnote_to_be_reexecuted": false,
    "source_hash": "417abf22",
    "execution_start": 1645898946592,
    "execution_millis": 237,
    "deepnote_app_coordinates": {
     "x": 0,
     "y": 204,
     "w": 12,
     "h": 5
    },
    "deepnote_cell_type": "code"
   },
   "source": "# Now, if you want to have a list of all the page titles, you can use:\nlist_of_women_scientists = list(df['title'])\n\nprint(list_of_women_scientists)",
   "execution_count": null,
   "outputs": [
    {
     "name": "stdout",
     "text": "['Mary Anning', 'Emily Aston', 'Anna Atkins', 'Hertha Ayrton', 'Alice Blanche Balfour', 'Sarah Sophia Banks', 'Mary Elizabeth Barber', 'Etheldred Benett', 'Margaret Jane Benson', 'Marion Bidder', 'Ellen Blackwell', 'Elizabeth Brown (astronomer)', 'Margaret Bryan (philosopher)', 'Priscilla Susan Bury', 'Elizabeth Carne', 'Margaret Crosfield', 'Clare de Brereton Evans', 'Lettice Digby (scientist)', 'Thereza Dillwyn Llewelyn', 'Margaret Douie Dougal', 'Sarah Drake', 'Marian Farquharson', 'Emily Fortey', 'Ida Freund', 'Ethel Sarel Gepp', 'Isabella Gifford', 'Eliza Maria Gordon-Cumming', 'Maria Gordon', 'Lilian Jane Gould', 'Amelia Griffiths', 'Jane Ellen Harrison', 'Caroline Herschel', 'Mary Horner Lyell', 'Edith Humphrey', 'Anna Maria Hussey', 'Emma Hutchinson', 'Agnes Ibbetson', 'Maria Elizabetha Jacson', 'Mariamne Johnes', 'Alice Johnson (zoologist)', 'Catharine Johnston', 'Charlotte Knight', 'Phoebe Lankester', 'Mary Leebody', 'Gulielma Lister', 'Emily Lloyd (chemist)', 'Elizabeth Lomax', 'Ada Lovelace', 'Katharine Murray Lyell', 'Mary Ann Mantell', 'Lilian Martin-Leake', 'Harriet Martineau', 'Katherine Clerk Maxwell', 'Frances Micklethwait', 'Rose Monteiro', 'Mary De la Beche Nicholl', 'Eleanor Anne Ormerod', 'Jessica Duncan Piazzi Smyth', 'Margaret Plues', 'Isis Pogson', 'Margaretta Riley', 'Anne Rudge', 'Anna Russell (botanist)', 'Ethel Sargant', 'Lilian Sheldon', 'Annie Lorrain Smith', 'Mary Somerville', 'Frances Stackhouse Acton', 'Emily Stackhouse', 'Eliza Fanny Staveley', 'Edith Anne Stoney', 'Janet Taylor', 'Anna Thynne', 'Charlotte Georgina Trower', 'Anna Vickers', 'Elizabeth Andrew Warren', 'Mary Anne Whitby', 'Martha Annie Whiteley', 'Sibyl Taite Widdows', 'Caroline Catharine Wilkinson', 'Rosina Zornlin']\n",
     "output_type": "stream"
    }
   ]
  },
  {
   "cell_type": "markdown",
   "source": "<div class=\"alert alert-warning\">\n\nThis Wikipedia API is very powerful and there are also many more services that aggregate and complement it. We will stop here on the content, but there's a lot more you can query.\n\nIf you're interested in doing more with Wikipedia, you can look at XTools: https://xtools.wmflabs.org/articleinfo/en.wikipedia.org/Oxford.\n\nIt's a visual tool that shows you the sort of information you could query on Wikipedia users, pages, categories, etc. It even has its own advanced API.\n\n</div>",
   "metadata": {
    "cell_id": "fc240bac-e706-441b-84c9-011aa121b3a2",
    "tags": [],
    "deepnote_app_coordinates": {
     "x": 0,
     "y": 210,
     "w": 12,
     "h": 5
    },
    "deepnote_cell_type": "markdown"
   }
  },
  {
   "cell_type": "markdown",
   "source": "### Exercise 3: Accessing metrics about Wikipedia visits\n\nLet's now look at statistics on how users browse Wikipedia. This is also something we can query with an API.\nWe are going to the the Pageview API, another API published by the Wikimedia Foundation. You can find documentation and information here: https://wikitech.wikimedia.org/wiki/Analytics/AQS/Pageviews\n\n\nThis API is quite different from the one we used above. There's no need for parameters, and every parameter is specified by a set of words between trailing slash (/). For example, to access number of monthly pageviews on the page \"blah blah\" between 01-01-2020 and 31-12-2020, our URL will look like:\n\n    https://wikimedia.org/api/rest_v1/metrics/pageviews/per-article/en.wikipedia/all-access/all-agents/blah_blah/monthly/2020010100/2020123100\n\n<br />",
   "metadata": {
    "cell_id": "e2930ae1-e7de-49ef-a9f0-928841b97f7c",
    "tags": [],
    "deepnote_app_coordinates": {
     "x": 0,
     "y": 222,
     "w": 12,
     "h": 5
    },
    "deepnote_cell_type": "markdown"
   }
  },
  {
   "cell_type": "markdown",
   "source": "<div class=\"alert alert-info\">\n\n**Exercise 3.1:** Construct a `requests.get` query to retrieve number of monthly pageviews for the page on \"Oxford\" between 01-01-2020 and 31-12-2020\n- Look at the response of the above call\n- Where can you find the number of pageviews in this response?\n- Make a dataframe with each row as a month and the corresponding number pf pageviews.\n\n</div>",
   "metadata": {
    "cell_id": "2c64e5db-b6a9-4bb7-8ca8-55f230c26e6a",
    "tags": [],
    "deepnote_app_coordinates": {
     "x": 0,
     "y": 228,
     "w": 12,
     "h": 5
    },
    "deepnote_cell_type": "markdown"
   }
  },
  {
   "cell_type": "code",
   "metadata": {
    "cell_id": "62da1f7e-8aa2-4a59-a973-7b06d89e1ade",
    "tags": [],
    "deepnote_to_be_reexecuted": false,
    "source_hash": "85fdfd6b",
    "execution_start": 1645983480084,
    "execution_millis": 170,
    "deepnote_app_coordinates": {
     "x": 0,
     "y": 234,
     "w": 12,
     "h": 5
    },
    "deepnote_cell_type": "code"
   },
   "source": "api_location = 'https://wikimedia.org/api/rest_v1/metrics/pageviews/per-article/en.wikipedia/all-access/all-agents/Oxford/monthly/2020010100/2020123100'\n\nWP_HEADERS = {\n    'User-Agent': 'OIIARDCourse/1.0 (ssi@oii.ox.ac.uk)', \n}\n\nresponse = requests.get(api_location, headers=WP_HEADERS)\nresult = response.json()",
   "execution_count": null,
   "outputs": []
  },
  {
   "cell_type": "code",
   "metadata": {
    "cell_id": "8ff55385-3f95-4924-98cc-da825c5cde81",
    "tags": [],
    "deepnote_to_be_reexecuted": false,
    "source_hash": "bae0e1b5",
    "execution_start": 1645983481117,
    "execution_millis": 8,
    "deepnote_app_coordinates": {
     "x": 0,
     "y": 240,
     "w": 12,
     "h": 5
    },
    "deepnote_cell_type": "code"
   },
   "source": "result",
   "execution_count": null,
   "outputs": [
    {
     "output_type": "execute_result",
     "execution_count": 19,
     "data": {
      "text/plain": "{'items': [{'project': 'en.wikipedia',\n   'article': 'Oxford',\n   'granularity': 'monthly',\n   'timestamp': '2020010100',\n   'access': 'all-access',\n   'agent': 'all-agents',\n   'views': 58449},\n  {'project': 'en.wikipedia',\n   'article': 'Oxford',\n   'granularity': 'monthly',\n   'timestamp': '2020020100',\n   'access': 'all-access',\n   'agent': 'all-agents',\n   'views': 55215},\n  {'project': 'en.wikipedia',\n   'article': 'Oxford',\n   'granularity': 'monthly',\n   'timestamp': '2020030100',\n   'access': 'all-access',\n   'agent': 'all-agents',\n   'views': 47932},\n  {'project': 'en.wikipedia',\n   'article': 'Oxford',\n   'granularity': 'monthly',\n   'timestamp': '2020040100',\n   'access': 'all-access',\n   'agent': 'all-agents',\n   'views': 57936},\n  {'project': 'en.wikipedia',\n   'article': 'Oxford',\n   'granularity': 'monthly',\n   'timestamp': '2020050100',\n   'access': 'all-access',\n   'agent': 'all-agents',\n   'views': 57420},\n  {'project': 'en.wikipedia',\n   'article': 'Oxford',\n   'granularity': 'monthly',\n   'timestamp': '2020060100',\n   'access': 'all-access',\n   'agent': 'all-agents',\n   'views': 44263},\n  {'project': 'en.wikipedia',\n   'article': 'Oxford',\n   'granularity': 'monthly',\n   'timestamp': '2020070100',\n   'access': 'all-access',\n   'agent': 'all-agents',\n   'views': 50040},\n  {'project': 'en.wikipedia',\n   'article': 'Oxford',\n   'granularity': 'monthly',\n   'timestamp': '2020080100',\n   'access': 'all-access',\n   'agent': 'all-agents',\n   'views': 47738},\n  {'project': 'en.wikipedia',\n   'article': 'Oxford',\n   'granularity': 'monthly',\n   'timestamp': '2020090100',\n   'access': 'all-access',\n   'agent': 'all-agents',\n   'views': 46745},\n  {'project': 'en.wikipedia',\n   'article': 'Oxford',\n   'granularity': 'monthly',\n   'timestamp': '2020100100',\n   'access': 'all-access',\n   'agent': 'all-agents',\n   'views': 53715},\n  {'project': 'en.wikipedia',\n   'article': 'Oxford',\n   'granularity': 'monthly',\n   'timestamp': '2020110100',\n   'access': 'all-access',\n   'agent': 'all-agents',\n   'views': 53888},\n  {'project': 'en.wikipedia',\n   'article': 'Oxford',\n   'granularity': 'monthly',\n   'timestamp': '2020120100',\n   'access': 'all-access',\n   'agent': 'all-agents',\n   'views': 54489}]}"
     },
     "metadata": {}
    }
   ]
  },
  {
   "cell_type": "code",
   "metadata": {
    "cell_id": "a0be09aa-5088-42a1-b001-2ccc08421b9f",
    "tags": [],
    "deepnote_to_be_reexecuted": false,
    "source_hash": "7b1515ca",
    "execution_start": 1645983483148,
    "execution_millis": 13,
    "deepnote_app_coordinates": {
     "x": 0,
     "y": 246,
     "w": 12,
     "h": 5
    },
    "deepnote_cell_type": "code"
   },
   "source": "df_views = pd.DataFrame(result['items'])\ndf_views.head()",
   "execution_count": null,
   "outputs": [
    {
     "output_type": "execute_result",
     "execution_count": 20,
     "data": {
      "application/vnd.deepnote.dataframe.v3+json": {
       "column_count": 7,
       "row_count": 5,
       "columns": [
        {
         "name": "project",
         "dtype": "object",
         "stats": {
          "unique_count": 1,
          "nan_count": 0,
          "categories": [
           {
            "name": "en.wikipedia",
            "count": 5
           }
          ]
         }
        },
        {
         "name": "article",
         "dtype": "object",
         "stats": {
          "unique_count": 1,
          "nan_count": 0,
          "categories": [
           {
            "name": "Oxford",
            "count": 5
           }
          ]
         }
        },
        {
         "name": "granularity",
         "dtype": "object",
         "stats": {
          "unique_count": 1,
          "nan_count": 0,
          "categories": [
           {
            "name": "monthly",
            "count": 5
           }
          ]
         }
        },
        {
         "name": "timestamp",
         "dtype": "object",
         "stats": {
          "unique_count": 5,
          "nan_count": 0,
          "categories": [
           {
            "name": "2020010100",
            "count": 1
           },
           {
            "name": "2020020100",
            "count": 1
           },
           {
            "name": "3 others",
            "count": 3
           }
          ]
         }
        },
        {
         "name": "access",
         "dtype": "object",
         "stats": {
          "unique_count": 1,
          "nan_count": 0,
          "categories": [
           {
            "name": "all-access",
            "count": 5
           }
          ]
         }
        },
        {
         "name": "agent",
         "dtype": "object",
         "stats": {
          "unique_count": 1,
          "nan_count": 0,
          "categories": [
           {
            "name": "all-agents",
            "count": 5
           }
          ]
         }
        },
        {
         "name": "views",
         "dtype": "int64",
         "stats": {
          "unique_count": 5,
          "nan_count": 0,
          "min": "47932",
          "max": "58449",
          "histogram": [
           {
            "bin_start": 47932,
            "bin_end": 48983.7,
            "count": 1
           },
           {
            "bin_start": 48983.7,
            "bin_end": 50035.4,
            "count": 0
           },
           {
            "bin_start": 50035.4,
            "bin_end": 51087.1,
            "count": 0
           },
           {
            "bin_start": 51087.1,
            "bin_end": 52138.8,
            "count": 0
           },
           {
            "bin_start": 52138.8,
            "bin_end": 53190.5,
            "count": 0
           },
           {
            "bin_start": 53190.5,
            "bin_end": 54242.2,
            "count": 0
           },
           {
            "bin_start": 54242.2,
            "bin_end": 55293.9,
            "count": 1
           },
           {
            "bin_start": 55293.9,
            "bin_end": 56345.6,
            "count": 0
           },
           {
            "bin_start": 56345.6,
            "bin_end": 57397.3,
            "count": 0
           },
           {
            "bin_start": 57397.3,
            "bin_end": 58449,
            "count": 3
           }
          ]
         }
        },
        {
         "name": "_deepnote_index_column",
         "dtype": "int64"
        }
       ],
       "rows": [
        {
         "project": "en.wikipedia",
         "article": "Oxford",
         "granularity": "monthly",
         "timestamp": "2020010100",
         "access": "all-access",
         "agent": "all-agents",
         "views": 58449,
         "_deepnote_index_column": 0
        },
        {
         "project": "en.wikipedia",
         "article": "Oxford",
         "granularity": "monthly",
         "timestamp": "2020020100",
         "access": "all-access",
         "agent": "all-agents",
         "views": 55215,
         "_deepnote_index_column": 1
        },
        {
         "project": "en.wikipedia",
         "article": "Oxford",
         "granularity": "monthly",
         "timestamp": "2020030100",
         "access": "all-access",
         "agent": "all-agents",
         "views": 47932,
         "_deepnote_index_column": 2
        },
        {
         "project": "en.wikipedia",
         "article": "Oxford",
         "granularity": "monthly",
         "timestamp": "2020040100",
         "access": "all-access",
         "agent": "all-agents",
         "views": 57936,
         "_deepnote_index_column": 3
        },
        {
         "project": "en.wikipedia",
         "article": "Oxford",
         "granularity": "monthly",
         "timestamp": "2020050100",
         "access": "all-access",
         "agent": "all-agents",
         "views": 57420,
         "_deepnote_index_column": 4
        }
       ]
      },
      "text/plain": "        project article granularity   timestamp      access       agent  views\n0  en.wikipedia  Oxford     monthly  2020010100  all-access  all-agents  58449\n1  en.wikipedia  Oxford     monthly  2020020100  all-access  all-agents  55215\n2  en.wikipedia  Oxford     monthly  2020030100  all-access  all-agents  47932\n3  en.wikipedia  Oxford     monthly  2020040100  all-access  all-agents  57936\n4  en.wikipedia  Oxford     monthly  2020050100  all-access  all-agents  57420",
      "text/html": "<div>\n<style scoped>\n    .dataframe tbody tr th:only-of-type {\n        vertical-align: middle;\n    }\n\n    .dataframe tbody tr th {\n        vertical-align: top;\n    }\n\n    .dataframe thead th {\n        text-align: right;\n    }\n</style>\n<table border=\"1\" class=\"dataframe\">\n  <thead>\n    <tr style=\"text-align: right;\">\n      <th></th>\n      <th>project</th>\n      <th>article</th>\n      <th>granularity</th>\n      <th>timestamp</th>\n      <th>access</th>\n      <th>agent</th>\n      <th>views</th>\n    </tr>\n  </thead>\n  <tbody>\n    <tr>\n      <th>0</th>\n      <td>en.wikipedia</td>\n      <td>Oxford</td>\n      <td>monthly</td>\n      <td>2020010100</td>\n      <td>all-access</td>\n      <td>all-agents</td>\n      <td>58449</td>\n    </tr>\n    <tr>\n      <th>1</th>\n      <td>en.wikipedia</td>\n      <td>Oxford</td>\n      <td>monthly</td>\n      <td>2020020100</td>\n      <td>all-access</td>\n      <td>all-agents</td>\n      <td>55215</td>\n    </tr>\n    <tr>\n      <th>2</th>\n      <td>en.wikipedia</td>\n      <td>Oxford</td>\n      <td>monthly</td>\n      <td>2020030100</td>\n      <td>all-access</td>\n      <td>all-agents</td>\n      <td>47932</td>\n    </tr>\n    <tr>\n      <th>3</th>\n      <td>en.wikipedia</td>\n      <td>Oxford</td>\n      <td>monthly</td>\n      <td>2020040100</td>\n      <td>all-access</td>\n      <td>all-agents</td>\n      <td>57936</td>\n    </tr>\n    <tr>\n      <th>4</th>\n      <td>en.wikipedia</td>\n      <td>Oxford</td>\n      <td>monthly</td>\n      <td>2020050100</td>\n      <td>all-access</td>\n      <td>all-agents</td>\n      <td>57420</td>\n    </tr>\n  </tbody>\n</table>\n</div>"
     },
     "metadata": {}
    }
   ]
  },
  {
   "cell_type": "markdown",
   "source": "<div class=\"alert alert-info\">\n\n**Exercise 3.2:** Complete the function below that takes a string input `page` and returns a dataframe containing monthly pageviews.\n\n</div>",
   "metadata": {
    "cell_id": "2b483979-f360-4600-a27a-ecd1cfc5e2af",
    "tags": [],
    "deepnote_app_coordinates": {
     "x": 0,
     "y": 252,
     "w": 12,
     "h": 5
    },
    "deepnote_cell_type": "markdown"
   }
  },
  {
   "cell_type": "code",
   "metadata": {
    "cell_id": "72c5dcb7-2f0a-4071-a9a9-c35bceead029",
    "tags": [],
    "deepnote_to_be_reexecuted": false,
    "source_hash": "4ffd2909",
    "execution_start": 1645983522240,
    "execution_millis": 0,
    "deepnote_app_coordinates": {
     "x": 0,
     "y": 258,
     "w": 12,
     "h": 5
    },
    "deepnote_cell_type": "code"
   },
   "source": "def pageviews(page):\n    page_with_underscore = page.replace(' ', '_')\n    # We insert page_with_underscore into the URL of this Wikipedia API: \n    api_location = f'https://wikimedia.org/api/rest_v1/metrics/pageviews/per-article/en.wikipedia/all-access/all-agents/{page_with_underscore}/monthly/2020010100/2021123100'\n\n    response = requests.get(api_location, headers=WP_HEADERS)\n    result = response.json()\n    df = pd.DataFrame(result['items'])\n\n    df['timestamp'] = pd.to_datetime(df.timestamp, format='%Y%m%d%H')\n    return df",
   "execution_count": null,
   "outputs": []
  },
  {
   "cell_type": "markdown",
   "source": "<div class=\"alert alert-info\">\n\n**Exercise 3.3:** Call the function defined above to find out monthly pageviews on the following pages:\n- \"Ukraine\"\n- \"Russia\"\n\nFinally, plot their monthly pageviews. You can use Pandas inbuilt function to plot a timeseries. Checkout `DataFrame.plot` documentation on how to do it: https://pandas.pydata.org/docs/reference/api/pandas.DataFrame.plot.html\n\n</div>",
   "metadata": {
    "cell_id": "95e1caa3-c1c4-4679-9fea-823467093697",
    "tags": [],
    "deepnote_app_coordinates": {
     "x": 0,
     "y": 264,
     "w": 12,
     "h": 5
    },
    "deepnote_cell_type": "markdown"
   }
  },
  {
   "cell_type": "code",
   "metadata": {
    "cell_id": "a6fa6415-29db-460e-978b-4f8349f28bc3",
    "tags": [],
    "deepnote_to_be_reexecuted": false,
    "source_hash": "11707b99",
    "execution_start": 1645983522874,
    "execution_millis": 536,
    "deepnote_app_coordinates": {
     "x": 0,
     "y": 270,
     "w": 12,
     "h": 5
    },
    "deepnote_cell_type": "code"
   },
   "source": "df_oii = pageviews('Ukraine')\ndf_oii.head()",
   "execution_count": null,
   "outputs": [
    {
     "output_type": "execute_result",
     "execution_count": 24,
     "data": {
      "application/vnd.deepnote.dataframe.v3+json": {
       "column_count": 7,
       "row_count": 5,
       "columns": [
        {
         "name": "project",
         "dtype": "object",
         "stats": {
          "unique_count": 1,
          "nan_count": 0,
          "categories": [
           {
            "name": "en.wikipedia",
            "count": 5
           }
          ]
         }
        },
        {
         "name": "article",
         "dtype": "object",
         "stats": {
          "unique_count": 1,
          "nan_count": 0,
          "categories": [
           {
            "name": "Ukraine",
            "count": 5
           }
          ]
         }
        },
        {
         "name": "granularity",
         "dtype": "object",
         "stats": {
          "unique_count": 1,
          "nan_count": 0,
          "categories": [
           {
            "name": "monthly",
            "count": 5
           }
          ]
         }
        },
        {
         "name": "timestamp",
         "dtype": "datetime64[ns]",
         "stats": {
          "unique_count": 5,
          "nan_count": 0,
          "min": "2020-01-01 00:00:00",
          "max": "2020-05-01 00:00:00",
          "histogram": [
           {
            "bin_start": 1577836800000000000,
            "bin_end": 1578882240000000000,
            "count": 1
           },
           {
            "bin_start": 1578882240000000000,
            "bin_end": 1579927680000000000,
            "count": 0
           },
           {
            "bin_start": 1579927680000000000,
            "bin_end": 1580973120000000000,
            "count": 1
           },
           {
            "bin_start": 1580973120000000000,
            "bin_end": 1582018560000000000,
            "count": 0
           },
           {
            "bin_start": 1582018560000000000,
            "bin_end": 1583064000000000000,
            "count": 1
           },
           {
            "bin_start": 1583064000000000000,
            "bin_end": 1584109440000000000,
            "count": 0
           },
           {
            "bin_start": 1584109440000000000,
            "bin_end": 1585154880000000000,
            "count": 0
           },
           {
            "bin_start": 1585154880000000000,
            "bin_end": 1586200320000000000,
            "count": 1
           },
           {
            "bin_start": 1586200320000000000,
            "bin_end": 1587245760000000000,
            "count": 0
           },
           {
            "bin_start": 1587245760000000000,
            "bin_end": 1588291200000000000,
            "count": 1
           }
          ]
         }
        },
        {
         "name": "access",
         "dtype": "object",
         "stats": {
          "unique_count": 1,
          "nan_count": 0,
          "categories": [
           {
            "name": "all-access",
            "count": 5
           }
          ]
         }
        },
        {
         "name": "agent",
         "dtype": "object",
         "stats": {
          "unique_count": 1,
          "nan_count": 0,
          "categories": [
           {
            "name": "all-agents",
            "count": 5
           }
          ]
         }
        },
        {
         "name": "views",
         "dtype": "int64",
         "stats": {
          "unique_count": 5,
          "nan_count": 0,
          "min": "211943",
          "max": "353748",
          "histogram": [
           {
            "bin_start": 211943,
            "bin_end": 226123.5,
            "count": 1
           },
           {
            "bin_start": 226123.5,
            "bin_end": 240304,
            "count": 1
           },
           {
            "bin_start": 240304,
            "bin_end": 254484.5,
            "count": 1
           },
           {
            "bin_start": 254484.5,
            "bin_end": 268665,
            "count": 1
           },
           {
            "bin_start": 268665,
            "bin_end": 282845.5,
            "count": 0
           },
           {
            "bin_start": 282845.5,
            "bin_end": 297026,
            "count": 0
           },
           {
            "bin_start": 297026,
            "bin_end": 311206.5,
            "count": 0
           },
           {
            "bin_start": 311206.5,
            "bin_end": 325387,
            "count": 0
           },
           {
            "bin_start": 325387,
            "bin_end": 339567.5,
            "count": 0
           },
           {
            "bin_start": 339567.5,
            "bin_end": 353748,
            "count": 1
           }
          ]
         }
        },
        {
         "name": "_deepnote_index_column",
         "dtype": "int64"
        }
       ],
       "rows": [
        {
         "project": "en.wikipedia",
         "article": "Ukraine",
         "granularity": "monthly",
         "timestamp": "2020-01-01T00:00:00.000000",
         "access": "all-access",
         "agent": "all-agents",
         "views": 353748,
         "_deepnote_index_column": 0
        },
        {
         "project": "en.wikipedia",
         "article": "Ukraine",
         "granularity": "monthly",
         "timestamp": "2020-02-01T00:00:00.000000",
         "access": "all-access",
         "agent": "all-agents",
         "views": 211943,
         "_deepnote_index_column": 1
        },
        {
         "project": "en.wikipedia",
         "article": "Ukraine",
         "granularity": "monthly",
         "timestamp": "2020-03-01T00:00:00.000000",
         "access": "all-access",
         "agent": "all-agents",
         "views": 262364,
         "_deepnote_index_column": 2
        },
        {
         "project": "en.wikipedia",
         "article": "Ukraine",
         "granularity": "monthly",
         "timestamp": "2020-04-01T00:00:00.000000",
         "access": "all-access",
         "agent": "all-agents",
         "views": 244259,
         "_deepnote_index_column": 3
        },
        {
         "project": "en.wikipedia",
         "article": "Ukraine",
         "granularity": "monthly",
         "timestamp": "2020-05-01T00:00:00.000000",
         "access": "all-access",
         "agent": "all-agents",
         "views": 240272,
         "_deepnote_index_column": 4
        }
       ]
      },
      "text/plain": "        project  article granularity  timestamp      access       agent  \\\n0  en.wikipedia  Ukraine     monthly 2020-01-01  all-access  all-agents   \n1  en.wikipedia  Ukraine     monthly 2020-02-01  all-access  all-agents   \n2  en.wikipedia  Ukraine     monthly 2020-03-01  all-access  all-agents   \n3  en.wikipedia  Ukraine     monthly 2020-04-01  all-access  all-agents   \n4  en.wikipedia  Ukraine     monthly 2020-05-01  all-access  all-agents   \n\n    views  \n0  353748  \n1  211943  \n2  262364  \n3  244259  \n4  240272  ",
      "text/html": "<div>\n<style scoped>\n    .dataframe tbody tr th:only-of-type {\n        vertical-align: middle;\n    }\n\n    .dataframe tbody tr th {\n        vertical-align: top;\n    }\n\n    .dataframe thead th {\n        text-align: right;\n    }\n</style>\n<table border=\"1\" class=\"dataframe\">\n  <thead>\n    <tr style=\"text-align: right;\">\n      <th></th>\n      <th>project</th>\n      <th>article</th>\n      <th>granularity</th>\n      <th>timestamp</th>\n      <th>access</th>\n      <th>agent</th>\n      <th>views</th>\n    </tr>\n  </thead>\n  <tbody>\n    <tr>\n      <th>0</th>\n      <td>en.wikipedia</td>\n      <td>Ukraine</td>\n      <td>monthly</td>\n      <td>2020-01-01</td>\n      <td>all-access</td>\n      <td>all-agents</td>\n      <td>353748</td>\n    </tr>\n    <tr>\n      <th>1</th>\n      <td>en.wikipedia</td>\n      <td>Ukraine</td>\n      <td>monthly</td>\n      <td>2020-02-01</td>\n      <td>all-access</td>\n      <td>all-agents</td>\n      <td>211943</td>\n    </tr>\n    <tr>\n      <th>2</th>\n      <td>en.wikipedia</td>\n      <td>Ukraine</td>\n      <td>monthly</td>\n      <td>2020-03-01</td>\n      <td>all-access</td>\n      <td>all-agents</td>\n      <td>262364</td>\n    </tr>\n    <tr>\n      <th>3</th>\n      <td>en.wikipedia</td>\n      <td>Ukraine</td>\n      <td>monthly</td>\n      <td>2020-04-01</td>\n      <td>all-access</td>\n      <td>all-agents</td>\n      <td>244259</td>\n    </tr>\n    <tr>\n      <th>4</th>\n      <td>en.wikipedia</td>\n      <td>Ukraine</td>\n      <td>monthly</td>\n      <td>2020-05-01</td>\n      <td>all-access</td>\n      <td>all-agents</td>\n      <td>240272</td>\n    </tr>\n  </tbody>\n</table>\n</div>"
     },
     "metadata": {}
    }
   ]
  },
  {
   "cell_type": "markdown",
   "source": "We can now quickly visualise the number of page views per month using pandas:",
   "metadata": {
    "cell_id": "9bdc726e-c9f7-4959-b071-dcd4a845b1a6",
    "tags": [],
    "deepnote_app_coordinates": {
     "x": 0,
     "y": 276,
     "w": 12,
     "h": 5
    },
    "deepnote_cell_type": "markdown"
   }
  },
  {
   "cell_type": "code",
   "metadata": {
    "cell_id": "2a04d956-5c62-4bee-953b-ba51c60d0eaa",
    "tags": [],
    "deepnote_to_be_reexecuted": false,
    "source_hash": "1ea2d061",
    "execution_start": 1645983526942,
    "execution_millis": 2556,
    "deepnote_app_coordinates": {
     "x": 0,
     "y": 282,
     "w": 12,
     "h": 5
    },
    "deepnote_cell_type": "code"
   },
   "source": "df_oii.plot('timestamp', 'views');",
   "execution_count": null,
   "outputs": [
    {
     "data": {
      "text/plain": "<Figure size 432x288 with 1 Axes>",
      "image/png": "[encoded data removed]"
     },
     "metadata": {
      "needs_background": "light",
      "image/png": {
       "width": 393,
       "height": 274
      }
     },
     "output_type": "display_data"
    }
   ]
  },
  {
   "cell_type": "code",
   "metadata": {
    "cell_id": "4e16b59f-51eb-4171-81f6-d0d32994b980",
    "tags": [],
    "deepnote_to_be_reexecuted": false,
    "source_hash": "80ca84ce",
    "execution_start": 1645983534451,
    "execution_millis": 244,
    "deepnote_app_coordinates": {
     "x": 0,
     "y": 288,
     "w": 12,
     "h": 5
    },
    "deepnote_cell_type": "code"
   },
   "source": "df_brexit = pageviews('Russia')\ndf_brexit.head()",
   "execution_count": null,
   "outputs": [
    {
     "output_type": "execute_result",
     "execution_count": 26,
     "data": {
      "application/vnd.deepnote.dataframe.v3+json": {
       "column_count": 7,
       "row_count": 5,
       "columns": [
        {
         "name": "project",
         "dtype": "object",
         "stats": {
          "unique_count": 1,
          "nan_count": 0,
          "categories": [
           {
            "name": "en.wikipedia",
            "count": 5
           }
          ]
         }
        },
        {
         "name": "article",
         "dtype": "object",
         "stats": {
          "unique_count": 1,
          "nan_count": 0,
          "categories": [
           {
            "name": "Russia",
            "count": 5
           }
          ]
         }
        },
        {
         "name": "granularity",
         "dtype": "object",
         "stats": {
          "unique_count": 1,
          "nan_count": 0,
          "categories": [
           {
            "name": "monthly",
            "count": 5
           }
          ]
         }
        },
        {
         "name": "timestamp",
         "dtype": "datetime64[ns]",
         "stats": {
          "unique_count": 5,
          "nan_count": 0,
          "min": "2020-01-01 00:00:00",
          "max": "2020-05-01 00:00:00",
          "histogram": [
           {
            "bin_start": 1577836800000000000,
            "bin_end": 1578882240000000000,
            "count": 1
           },
           {
            "bin_start": 1578882240000000000,
            "bin_end": 1579927680000000000,
            "count": 0
           },
           {
            "bin_start": 1579927680000000000,
            "bin_end": 1580973120000000000,
            "count": 1
           },
           {
            "bin_start": 1580973120000000000,
            "bin_end": 1582018560000000000,
            "count": 0
           },
           {
            "bin_start": 1582018560000000000,
            "bin_end": 1583064000000000000,
            "count": 1
           },
           {
            "bin_start": 1583064000000000000,
            "bin_end": 1584109440000000000,
            "count": 0
           },
           {
            "bin_start": 1584109440000000000,
            "bin_end": 1585154880000000000,
            "count": 0
           },
           {
            "bin_start": 1585154880000000000,
            "bin_end": 1586200320000000000,
            "count": 1
           },
           {
            "bin_start": 1586200320000000000,
            "bin_end": 1587245760000000000,
            "count": 0
           },
           {
            "bin_start": 1587245760000000000,
            "bin_end": 1588291200000000000,
            "count": 1
           }
          ]
         }
        },
        {
         "name": "access",
         "dtype": "object",
         "stats": {
          "unique_count": 1,
          "nan_count": 0,
          "categories": [
           {
            "name": "all-access",
            "count": 5
           }
          ]
         }
        },
        {
         "name": "agent",
         "dtype": "object",
         "stats": {
          "unique_count": 1,
          "nan_count": 0,
          "categories": [
           {
            "name": "all-agents",
            "count": 5
           }
          ]
         }
        },
        {
         "name": "views",
         "dtype": "int64",
         "stats": {
          "unique_count": 5,
          "nan_count": 0,
          "min": "467814",
          "max": "701076",
          "histogram": [
           {
            "bin_start": 467814,
            "bin_end": 491140.2,
            "count": 1
           },
           {
            "bin_start": 491140.2,
            "bin_end": 514466.4,
            "count": 0
           },
           {
            "bin_start": 514466.4,
            "bin_end": 537792.6,
            "count": 0
           },
           {
            "bin_start": 537792.6,
            "bin_end": 561118.8,
            "count": 0
           },
           {
            "bin_start": 561118.8,
            "bin_end": 584445,
            "count": 1
           },
           {
            "bin_start": 584445,
            "bin_end": 607771.2,
            "count": 1
           },
           {
            "bin_start": 607771.2,
            "bin_end": 631097.4,
            "count": 1
           },
           {
            "bin_start": 631097.4,
            "bin_end": 654423.6,
            "count": 0
           },
           {
            "bin_start": 654423.6,
            "bin_end": 677749.8,
            "count": 0
           },
           {
            "bin_start": 677749.8,
            "bin_end": 701076,
            "count": 1
           }
          ]
         }
        },
        {
         "name": "_deepnote_index_column",
         "dtype": "int64"
        }
       ],
       "rows": [
        {
         "project": "en.wikipedia",
         "article": "Russia",
         "granularity": "monthly",
         "timestamp": "2020-01-01T00:00:00.000000",
         "access": "all-access",
         "agent": "all-agents",
         "views": 568966,
         "_deepnote_index_column": 0
        },
        {
         "project": "en.wikipedia",
         "article": "Russia",
         "granularity": "monthly",
         "timestamp": "2020-02-01T00:00:00.000000",
         "access": "all-access",
         "agent": "all-agents",
         "views": 467814,
         "_deepnote_index_column": 1
        },
        {
         "project": "en.wikipedia",
         "article": "Russia",
         "granularity": "monthly",
         "timestamp": "2020-03-01T00:00:00.000000",
         "access": "all-access",
         "agent": "all-agents",
         "views": 587419,
         "_deepnote_index_column": 2
        },
        {
         "project": "en.wikipedia",
         "article": "Russia",
         "granularity": "monthly",
         "timestamp": "2020-04-01T00:00:00.000000",
         "access": "all-access",
         "agent": "all-agents",
         "views": 701076,
         "_deepnote_index_column": 3
        },
        {
         "project": "en.wikipedia",
         "article": "Russia",
         "granularity": "monthly",
         "timestamp": "2020-05-01T00:00:00.000000",
         "access": "all-access",
         "agent": "all-agents",
         "views": 630985,
         "_deepnote_index_column": 4
        }
       ]
      },
      "text/plain": "        project article granularity  timestamp      access       agent   views\n0  en.wikipedia  Russia     monthly 2020-01-01  all-access  all-agents  568966\n1  en.wikipedia  Russia     monthly 2020-02-01  all-access  all-agents  467814\n2  en.wikipedia  Russia     monthly 2020-03-01  all-access  all-agents  587419\n3  en.wikipedia  Russia     monthly 2020-04-01  all-access  all-agents  701076\n4  en.wikipedia  Russia     monthly 2020-05-01  all-access  all-agents  630985",
      "text/html": "<div>\n<style scoped>\n    .dataframe tbody tr th:only-of-type {\n        vertical-align: middle;\n    }\n\n    .dataframe tbody tr th {\n        vertical-align: top;\n    }\n\n    .dataframe thead th {\n        text-align: right;\n    }\n</style>\n<table border=\"1\" class=\"dataframe\">\n  <thead>\n    <tr style=\"text-align: right;\">\n      <th></th>\n      <th>project</th>\n      <th>article</th>\n      <th>granularity</th>\n      <th>timestamp</th>\n      <th>access</th>\n      <th>agent</th>\n      <th>views</th>\n    </tr>\n  </thead>\n  <tbody>\n    <tr>\n      <th>0</th>\n      <td>en.wikipedia</td>\n      <td>Russia</td>\n      <td>monthly</td>\n      <td>2020-01-01</td>\n      <td>all-access</td>\n      <td>all-agents</td>\n      <td>568966</td>\n    </tr>\n    <tr>\n      <th>1</th>\n      <td>en.wikipedia</td>\n      <td>Russia</td>\n      <td>monthly</td>\n      <td>2020-02-01</td>\n      <td>all-access</td>\n      <td>all-agents</td>\n      <td>467814</td>\n    </tr>\n    <tr>\n      <th>2</th>\n      <td>en.wikipedia</td>\n      <td>Russia</td>\n      <td>monthly</td>\n      <td>2020-03-01</td>\n      <td>all-access</td>\n      <td>all-agents</td>\n      <td>587419</td>\n    </tr>\n    <tr>\n      <th>3</th>\n      <td>en.wikipedia</td>\n      <td>Russia</td>\n      <td>monthly</td>\n      <td>2020-04-01</td>\n      <td>all-access</td>\n      <td>all-agents</td>\n      <td>701076</td>\n    </tr>\n    <tr>\n      <th>4</th>\n      <td>en.wikipedia</td>\n      <td>Russia</td>\n      <td>monthly</td>\n      <td>2020-05-01</td>\n      <td>all-access</td>\n      <td>all-agents</td>\n      <td>630985</td>\n    </tr>\n  </tbody>\n</table>\n</div>"
     },
     "metadata": {}
    }
   ]
  },
  {
   "cell_type": "code",
   "metadata": {
    "cell_id": "adccd0bc-ac81-4590-acab-c6d21c9812e4",
    "tags": [],
    "deepnote_to_be_reexecuted": false,
    "source_hash": "9b6ba042",
    "execution_start": 1645983536225,
    "execution_millis": 332,
    "deepnote_app_coordinates": {
     "x": 0,
     "y": 294,
     "w": 12,
     "h": 5
    },
    "deepnote_cell_type": "code"
   },
   "source": "df_brexit.plot('timestamp', 'views');",
   "execution_count": null,
   "outputs": [
    {
     "data": {
      "text/plain": "<Figure size 432x288 with 1 Axes>",
      "image/png": "[encoded data removed]"
     },
     "metadata": {
      "needs_background": "light",
      "image/png": {
       "width": 393,
       "height": 274
      }
     },
     "output_type": "display_data"
    }
   ]
  },
  {
   "cell_type": "markdown",
   "source": "### Wikipedia-API Python Library\n\n<div class=\"alert alert-warning\">\n\nIn this notebook, we learned to manually craft queries for the Wikipedia API (and then the PageViews API). There's actually an unoffical Python library for the Wikipedia API, called…  `Wikipedia-API` (https://wikipedia-api.readthedocs.io/en/latest/README.html). This library makes it easier to query Wikipedia (only).\n\nThe documentation has several examples on how to use it, however, it will not be able to make complex queries. At those times, it would be necessary to delve deeper into the specifics of the Wikimedia APIs and manually craft queries.\n\n</div>",
   "metadata": {
    "cell_id": "f83b9558-2951-43ce-848e-310b252be766",
    "tags": [],
    "deepnote_cell_height": 130.8000030517578,
    "deepnote_app_coordinates": {
     "x": 0,
     "y": 312,
     "w": 12,
     "h": 5
    },
    "deepnote_cell_type": "markdown"
   }
  },
  {
   "cell_type": "markdown",
   "source": "# Homework\n\n<div class=\"alert-info alert\">\n\nCompute average number of monthly page views for 19th century male and female British mathematicians\n\n</div>\n\n",
   "metadata": {
    "cell_id": "f2cd8fc8-9b5f-4983-91d6-0764125f30f9",
    "tags": [],
    "deepnote_app_coordinates": {
     "x": 0,
     "y": 300,
     "w": 12,
     "h": 5
    },
    "deepnote_cell_type": "markdown"
   }
  },
  {
   "cell_type": "markdown",
   "source": "\nLet's break this exercise down into the following steps - \n\n<div class=\"alert-info alert\">\n\n1. Query the WP API for (a) the list of all ‘19th century British female mathematicians’ and (b) the list of all ‘19th century British male mathematicians’.\n\n2. Iterate over each page in the above two lists and query the number of page views for them\n\n3. Report the average number of page views for male and female British mathematicians.\n\n4. Prepare a CSV file (or two files) to save the two lists and the associated pageviews. How would you structure your dataset?\n\n5. Optional: The Wikipedia articles are sometimes renamed, merged, or deleted. How would you ensure that the data you extract and report in your CSV file can still be reused by researchers if the title change?\n\n</div>",
   "metadata": {
    "cell_id": "b246c682-fae5-4a0e-95b7-d40c2bca96bf",
    "tags": [],
    "deepnote_app_coordinates": {
     "x": 0,
     "y": 0,
     "w": 12,
     "h": 5
    },
    "deepnote_cell_type": "markdown"
   }
  },
  {
   "cell_type": "markdown",
   "source": "<div class=\"alert-info alert\">\n\n**HW1:** Query the WP API for (a) the list of all ‘19th century British female mathematicians’ and (b) the list of all ‘19th century British male mathematicians’.\n\n-   Complete the function `all_pages_from_category` defined below\n-   Call this function on (a) \"Category:19th-century British women scientists\" and store the result in `articles_women`, and (b) \"Category:19th-century British scientists\" and store the result in `articles_all`\n-   Make a list `articles_men` excluding those scientists which are already present in `articles_women`\n-   Print the number of women scientists and men scientists\n\n</div>",
   "metadata": {
    "cell_id": "2e6042fd-ec47-43a1-9cd8-c39dfd9911d9",
    "tags": [],
    "deepnote_app_coordinates": {
     "x": 0,
     "y": 0,
     "w": 12,
     "h": 5
    },
    "deepnote_cell_type": "markdown"
   }
  },
  {
   "cell_type": "code",
   "metadata": {
    "cell_id": "099afa18-d2e5-4b3d-94f2-74a29d6cb920",
    "tags": [],
    "deepnote_app_coordinates": {
     "x": 0,
     "y": 0,
     "w": 12,
     "h": 5
    },
    "deepnote_to_be_reexecuted": false,
    "source_hash": "72f9cde7",
    "execution_start": 1646040588678,
    "execution_millis": 393,
    "deepnote_cell_type": "code"
   },
   "source": "WP_HEADERS = {\n    'User-Agent': 'OIIARDCourse/1.0 (ssi@oii.ox.ac.uk)',\n}\n\ndef all_pages_from_category(cat_name):\n    \"\"\" Return all the pages in a category from Wikipedia EN. \"\"\"\n    params = {\n        \"action\": \"query\",\n        \"list\": \"categorymembers\",\n        \"cmtitle\": cat_name,\n        \"format\": \"json\",\n        \"cmlimit\": \"max\"\n    }\n\n    r = requests.get(\"http://en.wikipedia.org/w/api.php\", params=params, headers=WP_HEADERS)\n    response = r.json()\n\n    df = pd.DataFrame(response['query']['categorymembers'])\n    title_of_pages = list(df['title'])\n\n    # We remove ‘sub categories’, to keep only true articles:\n    return [title for title in title_of_pages if 'Category' not in title]\n\n\n# Wikipedia has a very male-dominated hierarchical structure: women have their categories (women scientists), but men are simply listed as scientists.\n\narticles_women = all_pages_from_category(\"Category:19th-century British women scientists\")\narticles_all = all_pages_from_category(\"Category:19th-century_British_scientists\")\n\n# We use a list comprehension to exclude women from the ‘all’ list, returning all the pages about men:\narticles_men = [name for name in articles_all if name not in articles_women]",
   "execution_count": null,
   "outputs": []
  },
  {
   "cell_type": "code",
   "metadata": {
    "cell_id": "df380e5b-60dd-49d9-8339-fb3c6da2f55e",
    "tags": [],
    "deepnote_app_coordinates": {
     "x": 0,
     "y": 0,
     "w": 12,
     "h": 5
    },
    "deepnote_to_be_reexecuted": false,
    "source_hash": "312c4c8b",
    "execution_start": 1646040590546,
    "execution_millis": 9,
    "deepnote_cell_type": "code"
   },
   "source": "# Observation 1: the two lists are not balanced and many male scientists are missing.\n# That's because the categorisation is more precise for men (physicist, chemist, etc.).\n# In theory, you also need to crawl pages about 19th century British chemist, etc.\n\nprint(f\"nb of men scientists: {len(articles_men)}\")\nprint(f\"nb of women scientists: {len(articles_women)}\")",
   "execution_count": null,
   "outputs": [
    {
     "name": "stdout",
     "text": "nb of men scientists: 31\nnb of women scientists: 81\n",
     "output_type": "stream"
    }
   ]
  },
  {
   "cell_type": "markdown",
   "source": "<div class=\"alert-info alert\">\n\n**HW2:** Iterate over each page in the above two lists and query the number of page views for them\n\n- Complete the function `pageviews` below. It queries WP and retrieves monthly pageviews for a `page`.\n- Complete the function `pageviews_list_of_pages`. It calls `pageviews` on each of the pages listed in `list_of_pages` and returns average monthly views for each of those pages. \n- Call `pageviews_list_of_pages` on the list of women and men scientists\n\n</div>",
   "metadata": {
    "cell_id": "e0c5526c-2d3f-4b06-8793-3eff3ec12cdd",
    "tags": [],
    "deepnote_app_coordinates": {
     "x": 0,
     "y": 0,
     "w": 12,
     "h": 5
    },
    "deepnote_cell_type": "markdown"
   }
  },
  {
   "cell_type": "code",
   "metadata": {
    "cell_id": "7820bbf2-2d6f-4b3b-9b9a-e53a80fc72b2",
    "tags": [],
    "deepnote_app_coordinates": {
     "x": 0,
     "y": 0,
     "w": 12,
     "h": 5
    },
    "deepnote_to_be_reexecuted": false,
    "source_hash": "ba627bf",
    "execution_start": 1645984873882,
    "execution_millis": 4,
    "deepnote_cell_type": "code"
   },
   "source": "# We reuse the function coded previously to collect the monthly pageviews.\n\ndef pageviews(page):\n    \"\"\" Return the monthly pageviews for a given Wikipedia page. \"\"\"\n    page_with_underscore = page.replace(' ', '_')\n    # We insert page_with_underscore into the URL of this Wikipedia API: \n    api_location = f'https://wikimedia.org/api/rest_v1/metrics/pageviews/per-article/en.wikipedia/all-access/all-agents/{page_with_underscore}/monthly/2020010100/2021123100'\n\n    response = requests.get(api_location, headers=WP_HEADERS)\n    result = response.json()\n    df = pd.DataFrame(result['items'])\n\n    df['timestamp'] = pd.to_datetime(df.timestamp, format='%Y%m%d%H')\n    return df",
   "execution_count": null,
   "outputs": []
  },
  {
   "cell_type": "code",
   "metadata": {
    "cell_id": "6a1ebe87-d5f6-4511-b643-f60a893f942f",
    "tags": [],
    "deepnote_app_coordinates": {
     "x": 0,
     "y": 0,
     "w": 12,
     "h": 5
    },
    "deepnote_to_be_reexecuted": false,
    "source_hash": "61ee22fe",
    "execution_start": 1645984958969,
    "execution_millis": 12,
    "deepnote_cell_type": "code"
   },
   "source": "def pageviews_list_of_pages(list_of_pages):\n    \"\"\" Return the average monthly pageview for all the pages in a list of pages. \"\"\"\n\n    views_articles = []\n\n    for article_title in list_of_pages:\n        # The try-except block is used to not raise an error when the PageViews API\n        # returns no data (for articles without enough views).\n        try:\n            df_pv = pageviews(article_title) # We call the Wikipedia PageViews API\n            average_views_per_month = df_pv.views.mean()\n            views_articles.append(average_views_per_month)\n        except:\n            print(\"! Error for article:\", article_title)\n\n    return views_articles",
   "execution_count": null,
   "outputs": []
  },
  {
   "cell_type": "code",
   "metadata": {
    "cell_id": "d6d5d650-ae21-47a4-8f14-b9c6b1790967",
    "tags": [],
    "deepnote_app_coordinates": {
     "x": 0,
     "y": 0,
     "w": 12,
     "h": 5
    },
    "deepnote_to_be_reexecuted": false,
    "source_hash": "a3b1961c",
    "execution_start": 1645984959665,
    "execution_millis": 14988,
    "deepnote_cell_type": "code"
   },
   "source": "pageviews_women = pageviews_list_of_pages(articles_women)",
   "execution_count": null,
   "outputs": []
  },
  {
   "cell_type": "code",
   "metadata": {
    "cell_id": "123f5a6e-a216-43ed-b454-3a8aa97d3a68",
    "tags": [],
    "deepnote_app_coordinates": {
     "x": 0,
     "y": 0,
     "w": 12,
     "h": 5
    },
    "deepnote_to_be_reexecuted": false,
    "source_hash": "f36689c9",
    "execution_start": 1645984928804,
    "execution_millis": 3606,
    "deepnote_cell_type": "code"
   },
   "source": "pageviews_men = pageviews_list_of_pages(articles_men)",
   "execution_count": null,
   "outputs": [
    {
     "name": "stdout",
     "text": "! Error for article: Hardy progeny of the North\n",
     "output_type": "stream"
    }
   ]
  },
  {
   "cell_type": "markdown",
   "source": "<div class=\"alert-info alert\">\n\n**HW3:** \n\n- Print the average number of monthly view for a 19th century female scientist \n- Print the average number of monthly view for a 19th century male scientist \n\n</div>",
   "metadata": {
    "cell_id": "7a0926c7-3fa5-4ff7-9335-b3764a05ad66",
    "tags": [],
    "deepnote_app_coordinates": {
     "x": 0,
     "y": 0,
     "w": 12,
     "h": 5
    },
    "deepnote_cell_type": "markdown"
   }
  },
  {
   "cell_type": "code",
   "metadata": {
    "cell_id": "832f6bc9-9233-461d-a069-5b5961729cd3",
    "tags": [],
    "deepnote_app_coordinates": {
     "x": 0,
     "y": 0,
     "w": 12,
     "h": 5
    },
    "deepnote_to_be_reexecuted": false,
    "source_hash": "4a7691dd",
    "execution_start": 1645985001197,
    "execution_millis": 271,
    "deepnote_cell_type": "code"
   },
   "source": "# Average number of monthly view for a 19th century female scientist:\nsum(pageviews_women) / len(pageviews_women)",
   "execution_count": null,
   "outputs": [
    {
     "output_type": "execute_result",
     "execution_count": 69,
     "data": {
      "text/plain": "2591.306687242799"
     },
     "metadata": {}
    }
   ]
  },
  {
   "cell_type": "code",
   "metadata": {
    "cell_id": "1b26e6b1-3b62-4651-b20e-fb5e2758a251",
    "tags": [],
    "deepnote_app_coordinates": {
     "x": 0,
     "y": 0,
     "w": 12,
     "h": 5
    },
    "deepnote_to_be_reexecuted": false,
    "source_hash": "8141ca00",
    "execution_start": 1645985013522,
    "execution_millis": 6,
    "deepnote_cell_type": "code"
   },
   "source": "# Average number of monthly view for a 19th century male scientist:\nsum(pageviews_men) / len(pageviews_men)",
   "execution_count": null,
   "outputs": [
    {
     "output_type": "execute_result",
     "execution_count": 70,
     "data": {
      "text/plain": "1492.9928571428575"
     },
     "metadata": {}
    }
   ]
  },
  {
   "cell_type": "markdown",
   "source": "<div class=\"alert-info alert\">\n\n**HW4:** \nPrepare a CSV file (or two files) to save the two lists and the associated pageviews. How would you structure your dataset?\n\n</div>",
   "metadata": {
    "cell_id": "9834dfe8-7342-41de-aaa3-e71a35177be6",
    "tags": [],
    "deepnote_app_coordinates": {
     "x": 0,
     "y": 0,
     "w": 12,
     "h": 5
    },
    "deepnote_cell_type": "markdown"
   }
  },
  {
   "cell_type": "code",
   "metadata": {
    "cell_id": "df0ec5cd-ffc0-4269-bf2c-a8ba9fb190df",
    "tags": [],
    "deepnote_app_coordinates": {
     "x": 0,
     "y": 0,
     "w": 12,
     "h": 5
    },
    "deepnote_cell_type": "code"
   },
   "source": "# Option 1: Save the two dataframes separately - \npageviews_men.to_csv('men_scientist.csv', index=False)\npageviews_women.to_csv('women_scientist.csv', index=False)\n\n# Option 2: Save a single csv of all the scientists\npageviews_men['gender'] = \"male\"\npageviews_women['gender'] = \"female\"\nall_scientists = pd.concat([pageviews_women, pageviews_men])\nall_scientists.to_csv(\"all.csv\", index=False)",
   "execution_count": null,
   "outputs": []
  },
  {
   "cell_type": "markdown",
   "source": "<div class=\"alert-info alert\">\n\n**HW5 (optional):** \nThe Wikipedia articles are sometimes renamed, merged, or deleted. How would you ensure that the data you extract and report in your CSV file can still be reused by researchers if the title change?\n\n</div>",
   "metadata": {
    "cell_id": "262979be-1b37-4968-81ff-b79d40a09b0a",
    "tags": [],
    "deepnote_app_coordinates": {
     "x": 0,
     "y": 0,
     "w": 12,
     "h": 5
    },
    "deepnote_cell_type": "markdown"
   }
  },
  {
   "cell_type": "code",
   "metadata": {
    "cell_id": "c36aa96e-df5a-4e18-aedd-e507a2119e76",
    "tags": [],
    "deepnote_app_coordinates": {
     "x": 0,
     "y": 0,
     "w": 12,
     "h": 5
    },
    "deepnote_cell_type": "code"
   },
   "source": "# The solution is simple: the pageid column is a unique identifier that doesn't change over time,\n# compared to the page title that can change.\n\n# This will be left as an exercise. You could for instance start by modifying all_pages_from_category()\n# to return both the page title and the page id.",
   "execution_count": null,
   "outputs": []
  },
  {
   "cell_type": "markdown",
   "source": "<div class=\"alert alert-warning\">\n\nBy now, you should have obtained empirical results.\nBut do reflect on the quality of the experiment: were all female/male pages correctly crawled? What about this page called ‘Hardy progeny of the North’?\nAre you confident enough in the quality of the data to report your results?\n\nEven if the data are publicly available, a lot of rigor is needed to not overlook the potential biases associated with data creation and curation.\n\n</div>",
   "metadata": {
    "cell_id": "9c2ee6ec-0bca-4614-bcf2-3c0c66906d48",
    "tags": [],
    "deepnote_app_coordinates": {
     "x": 0,
     "y": 0,
     "w": 12,
     "h": 5
    },
    "deepnote_cell_type": "markdown"
   }
  },
  {
   "cell_type": "markdown",
   "source": "",
   "metadata": {
    "cell_id": "5d7c2a34-0023-48fb-8559-130316088dd5",
    "tags": [],
    "deepnote_app_coordinates": {
     "x": 0,
     "y": 0,
     "w": 12,
     "h": 5
    },
    "deepnote_cell_type": "markdown"
   }
  },
  {
   "cell_type": "markdown",
   "source": "",
   "metadata": {
    "cell_id": "06e934cc-cdba-4b13-9a1e-4690ba09133a",
    "tags": [],
    "deepnote_app_coordinates": {
     "x": 0,
     "y": 0,
     "w": 12,
     "h": 5
    },
    "deepnote_cell_type": "markdown"
   }
  },
  {
   "cell_type": "markdown",
   "source": "\n## This week's Datasheet questions ",
   "metadata": {
    "cell_id": "952cdc5d-2d44-4bb9-9de5-4f187c804418",
    "tags": [],
    "deepnote_cell_height": 70,
    "deepnote_app_coordinates": {
     "x": 0,
     "y": 318,
     "w": 12,
     "h": 5
    },
    "deepnote_cell_type": "markdown"
   }
  },
  {
   "cell_type": "markdown",
   "source": "Throughout this course, we will aim to build on the practice of documenting our datasets, using the Datasheet for Datasets framework (here is an <a href=\"https://github.com/zykls/folktables/blob/main/datasheet.md\">example of a datasheet\"</a>). In the homework for this week, you designed a small dataset of pageviews for British male and female mathematicians. Let's assume you plan to release this dataset online.\n\nHow would you structure your Datasheet for this small dataset? For this week's homework, please answer the following questions:",
   "metadata": {
    "cell_id": "36d3024e-a6f9-4bbe-aa50-fbe6a29a8837",
    "tags": [],
    "deepnote_cell_height": 133.60000610351562,
    "deepnote_app_coordinates": {
     "x": 0,
     "y": 324,
     "w": 12,
     "h": 5
    },
    "deepnote_cell_type": "markdown"
   }
  },
  {
   "cell_type": "markdown",
   "source": ">**What data does each instance consist of?** \"Raw\" data (e.g., unprocessed text or images) or features? In either case, please provide a description.\n>\n>...\n\n\n>**Are there any errors, sources of noise, or redundancies in the dataset?** If so, please provide a description.\n>\n>...\n\n>**Does the dataset contain data that, if viewed directly, might be offensive, insulting, threatening, or might otherwise cause anxiety?** If so, please describe why.\n>\n>...\n\n>**Is the dataset self-contained, or does it link to or otherwise rely on external resources (e.g., websites, tweets, other datasets)?** If it links to or relies on external resources, a) are there guarantees that they will exist, and remain constant, over time; b) are there official archival versions of the complete dataset (i.e., including the external resources as they existed at the time the dataset was created); c) are there any restrictions (e.g., licenses, fees) associated with any of the external resources that might apply to a future user? Please provide descriptions of all external resources and any restrictions associated with them, as well as links or other access points, as appropriate.\n>\n>...\n\n\n",
   "metadata": {
    "cell_id": "e778344e-d69b-4c34-8530-b8f07f28395e",
    "tags": [],
    "deepnote_cell_height": 461.20001220703125,
    "deepnote_app_coordinates": {
     "x": 0,
     "y": 330,
     "w": 12,
     "h": 5
    },
    "deepnote_cell_type": "markdown"
   }
  },
  {
   "cell_type": "markdown",
   "source": "## Advanced and Optional: going further with the WikiWho API\n\nIf you are bored and want to go further at this stage, there are a lot of advanced tools developed by researchers to study Wikipedia. One of them is WikiWho by fabian flöck of the Leibniz Institute for the Social Sciences.\n\n<div class=\"alert alert-info\">\n\nFrom https://f-squared.org/wikiwho/:\n> the core functionality of wikiwho is to parse the complete set of all historical revisions (versions) of a wikipedia article in order to find out who wrote and/or removed which exact text at what point in time. this means that given a specific revision of an article (e.g., the current one) wikiwho can determine for each word and special character which user first introduced that word and if and how it was deleted/reintroduced afterwards. this functionality is not offered by wikipedia as such and wikiwho was shown to perform this task with very high accuracy (~95%) and very efficiently, being the only tool that has been scientifically proven to perform this task that well\n\nWikiWho is a service that reports the editions on Wikipedia articles. Have a look at what it outputs for the ‘Oxford Internet Institute’ page:\n\n<a href=\"https://api.wikiwho.net/en/api/v1.0.0-beta/rev_content/Oxford Internet Institute/?o_rev_id=true&editor=true&token_id=true&out=true&in=true\">Oxford Internet Institute through the WikiWho API</a>\n\nWhat sort of research could you do using WikiWho?\n\n</div>",
   "metadata": {
    "cell_id": "a1c28883-1249-4843-ad60-1e1ebd3028c2",
    "tags": [],
    "deepnote_app_coordinates": {
     "x": 0,
     "y": 336,
     "w": 12,
     "h": 5
    },
    "deepnote_cell_type": "markdown"
   }
  },
  {
   "cell_type": "code",
   "metadata": {
    "tags": [],
    "cell_id": "147d5d70-a0f3-4d1e-bbd4-b712dd6fb913",
    "deepnote_cell_height": 66,
    "deepnote_app_coordinates": {
     "x": 0,
     "y": 342,
     "w": 12,
     "h": 5
    },
    "deepnote_cell_type": "code"
   },
   "source": "# Start writing code here...",
   "execution_count": null,
   "outputs": []
  },
  {
   "cell_type": "markdown",
   "source": "<a style='text-decoration:none;line-height:16px;display:flex;color:#5B5B62;padding:10px;justify-content:end;' href='https://deepnote.com?utm_source=created-in-deepnote-cell&projectId=f746e373-dc41-4dbe-b3f9-5f3af42ff658' target=\"_blank\">\n<img alt='Created in deepnote.com' style='display:inline;max-height:16px;margin:0px;margin-right:7.5px;' src='data:image/svg+xml;base64,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' > </img>\nCreated in <span style='font-weight:600;margin-left:4px;'>Deepnote</span></a>",
   "metadata": {
    "tags": [],
    "created_in_deepnote_cell": true,
    "deepnote_cell_type": "markdown"
   }
  }
 ],
 "nbformat": 4,
 "nbformat_minor": 2,
 "metadata": {
  "orig_nbformat": 2,
  "deepnote": {
   "is_reactive": false
  },
  "deepnote_notebook_id": "e14e0833-7f70-4764-8920-14303e12f9cc",
  "deepnote_execution_queue": [],
  "deepnote_app_layout": "article"
 }
}