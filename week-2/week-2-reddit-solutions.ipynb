{
 "cells": [
  {
   "cell_type": "markdown",
   "source": "# Week 2A: Accessing data from Reddit\n\n## Overview\n\nReddit is an online bulletin board system to host user-generated content, e.g., text, image, video, audio `posts`. It is categorized into `subreddits` which are communities or user-groups meant to serve as a bulletin board on a specific topic or for a specific group of people. The users can `comment` on posts, which can then be `upvoted` or `downvoted` by other users. Each subreddit is moderated by `moderators` who try to enforce community rules to the comments and discussion therein.\n\n## APIs\n\nThere are two APIs that are widely used to scrape data from Reddit\n- Reddit API (https://www.reddit.com/dev/api/) - This is the most detailed API with endpoints that can enable us to find almost anything on Reddit. There is a Python wrapper, `praw`,  that helps us access this API (https://praw.readthedocs.io/en/stable/index.html). \n- Pushshift API (https://www.reddit.com/r/pushshift/comments/bcxguf/new_to_pushshift_read_this_faq/) - Pushshift is a big-data storage and analytics project that enables access to the Reddit data albeit with some delay related to specific content (e.g, editing of comments might not be included instantly). It allows us to process data before accessing it, e.g., counting comments by specific users. In a raw Reddit API, we will need to do it locally, while Pushshift API enables us to do this without the hassle of downloading data. There is a Python wrapper, `psaw`, that helps us access Reddit data easily using Pushshit API (https://pypi.org/project/psaw/). \n\nIn this exercise, we will use `psaw`. ",
   "metadata": {
    "tags": [],
    "cell_id": "6bc34ed3-9ded-4a9a-b40c-9b046b2c468e",
    "deepnote_cell_type": "markdown",
    "deepnote_cell_height": 744.5999755859375
   }
  },
  {
   "cell_type": "code",
   "metadata": {
    "tags": [],
    "deepnote_to_be_reexecuted": false,
    "source_hash": "4f02b477",
    "execution_start": 1645983168884,
    "execution_millis": 9085,
    "cell_id": "00001-e39ee5e7-e0e1-4400-9966-8f1da14b0264",
    "deepnote_cell_type": "code",
    "deepnote_cell_height": 134.3333282470703
   },
   "source": "%%capture\n# We call the Python package manager pip to install the psaw package\n# (advanced) Using ! in ipython notebook runs the command in the bash shell and not in the python; try running !ls in a new cell\n!pip install --upgrade psaw",
   "execution_count": null,
   "outputs": []
  },
  {
   "cell_type": "markdown",
   "source": "### Pushshift API\n\nThere are two ways to access this API \n- Plain API through https://api.pushshift.io/.  \n- (advanced) Elasticsearch search engine through https://elastic.pushshift.io/. This search engine is designed for fast aggregation and query on big-data. \n\nThe full API is documented here https://github.com/pushshift/api. However, in this exercise, we will learn how to use the plain API through https://api.pushshift.io/ and `psaw`. ",
   "metadata": {
    "tags": [],
    "cell_id": "00002-10b1d5d2-f827-480a-a86b-897dbec20e2b",
    "deepnote_cell_type": "markdown",
    "deepnote_cell_height": 243.39999389648438
   }
  },
  {
   "cell_type": "markdown",
   "source": "### Querying Pushshift API manually\n\nTo use the Pushshift API, we need to know the endpoints that are accessible. Each endpoint serves a specific purpose. There are two endpoints available for this API:\n- `/reddit/search/comment` to search for comments\n- `/reddit/search/submission` to search for posts\n\nThus, for example, if we need to search for comments, they can be accessed via https://api.pushshift.io/reddit/search/comment. \n\nOnce we have the correct address, we need a query to search the database. Any data that is sent to an API is included only after a `?` in the URL link. For example, if we need to look up submissions that have word \"science\" in them, our query will look like:\n\n```\nhttps://api.pushshift.io/reddit/search/submission/?q=science\n```\n\nIf we click on the above link or copy and paste the above link in any browser, we will see a JSON response from this enddpoint giving us 25 (by default) most recent posts containing the word \"science\". Each post is in the form of key-value pair. An example response of a post is as follows:",
   "metadata": {
    "tags": [],
    "cell_id": "00003-b80e11db-d01c-4044-a8d9-704a0fe6078c",
    "deepnote_cell_type": "markdown",
    "deepnote_cell_height": 446.6000061035156
   }
  },
  {
   "cell_type": "markdown",
   "source": "        {\n            \"all_awardings\": [],\n            \"allow_live_comments\": false,\n            \"author\": \"Own_Professional_190\",\n            \"author_flair_css_class\": null,\n            \"author_flair_richtext\": [],\n            \"author_flair_text\": null,\n            \"author_flair_type\": \"text\",\n            \"author_fullname\": \"t2_jaz08fd5\",\n            \"author_is_blocked\": false,\n            \"author_patreon_flair\": false,\n            \"author_premium\": false,\n            \"awarders\": [],\n            \"can_mod_post\": false,\n            \"contest_mode\": false,\n            \"created_utc\": 1644227451,\n            \"domain\": \"self.UToledo\",\n            \"full_link\": \"https://www.reddit.com/r/UToledo/comments/smmgy3/questions_about_transferring/\",\n            \"gildings\": {},\n            \"id\": \"smmgy3\",\n            \"is_created_from_ads_ui\": false,\n            \"is_crosspostable\": true,\n            \"is_meta\": false,\n            \"is_original_content\": false,\n            \"is_reddit_media_domain\": false,\n            \"is_robot_indexable\": true,\n            \"is_self\": true,\n            \"is_video\": false,\n            \"link_flair_background_color\": \"\",\n            \"link_flair_richtext\": [],\n            \"link_flair_text_color\": \"dark\",\n            \"link_flair_type\": \"text\",\n            \"locked\": false,\n            \"media_only\": false,\n            \"no_follow\": true,\n            \"num_comments\": 0,\n            \"num_crossposts\": 0,\n            \"over_18\": false,\n            \"permalink\": \"/r/UToledo/comments/smmgy3/questions_about_transferring/\",\n            \"pinned\": false,\n            \"retrieved_on\": 1644227461,\n            \"score\": 1,\n            \"selftext\": \"Hi, \\n\\nI am an international student looking for universities to transfer. I heard that Toledo is known for its engineering program and co-op program. I am interested in computer science and data science. Can anybody tell me about general thoughts on university life at Toledo? It can include anything - reputation, class experience, dorm life, life outside of university, and so on. \\n\\nThank you in advance and stay safe :D\",\n            \"send_replies\": true,\n            \"spoiler\": false,\n            \"stickied\": false,\n            \"subreddit\": \"UToledo\",\n            \"subreddit_id\": \"t5_2wpwg\",\n            \"subreddit_subscribers\": 182,\n            \"subreddit_type\": \"public\",\n            \"thumbnail\": \"self\",\n            \"title\": \"Questions about transferring\",\n            \"total_awards_received\": 0,\n            \"treatment_tags\": [],\n            \"upvote_ratio\": 1.0,\n            \"url\": \"https://www.reddit.com/r/UToledo/comments/smmgy3/questions_about_transferring/\"\n        }",
   "metadata": {
    "tags": [],
    "cell_id": "00004-99c2b125-5320-427b-a3bd-b360b5cc104a",
    "deepnote_cell_type": "markdown",
    "deepnote_cell_height": 1380.5333251953125
   }
  },
  {
   "cell_type": "markdown",
   "source": "There are many ways to query this API. Head over to https://github.com/pushshift/api#search-parameters-for-comments to check the paramaters that you can pass to the API to enhance your queries.",
   "metadata": {
    "tags": [],
    "cell_id": "00005-a9f3e456-863a-4f79-aed9-7006bb7899a9",
    "deepnote_cell_type": "markdown",
    "deepnote_cell_height": 96.53334045410156
   }
  },
  {
   "cell_type": "markdown",
   "source": "\n### Understanding the JSON response\n\nHere are a few keys returned by the API and what they mean. Most of them are self-explanatory, and which ones are needed will depend heavily on the specific use cases. \n\n----\n\n| **Key**        \t|   \t| **Description**                                               \t|\n|----------------\t|---\t|---------------------------------------------------------------\t|\n| _url_          \t|   \t| url of the `post` or `comment`                                \t|\n| _author_       \t|   \t| username of the redditor who created this `post` or `comment` \t|\n| _created_utc_  \t|   \t| time in UTC when this `post` or `comment` was created         \t|\n| _subreddit_    \t|   \t| `subreddit` on which this `post` or `comment` was created     \t|\n| _title_        \t|   \t| title of the `post`                                           \t|\n| _selftext_     \t|   \t| content of the `post` or the `comment`                        \t|\n| _retrieved_on_ \t|   \t| time in UTC when this data was extracted by the Pushshift API \t|\n\n----",
   "metadata": {
    "tags": [],
    "cell_id": "00006-83d85e13-7ad9-4e88-b058-e24379eed339",
    "deepnote_cell_type": "markdown",
    "deepnote_cell_height": 332.66668701171875
   }
  },
  {
   "cell_type": "markdown",
   "source": "### Querying Pushshift API using Python\n\n\nThere are several parameters that can be passed to this search query. We will work through some of those parameters in this notebook. From here on, we will make use of `psaw` API. ",
   "metadata": {
    "tags": [],
    "cell_id": "00007-0e8a0ad6-234c-495e-9106-450100887b56",
    "deepnote_cell_type": "markdown",
    "deepnote_cell_height": 122.13333129882812
   }
  },
  {
   "cell_type": "code",
   "metadata": {
    "tags": [],
    "deepnote_to_be_reexecuted": false,
    "source_hash": "fdfcfc6c",
    "execution_start": 1645983182505,
    "execution_millis": 71,
    "cell_id": "00008-9bdd3042-a1d6-4c06-a5d7-227c69332859",
    "deepnote_cell_type": "code",
    "deepnote_cell_height": 152.3333282470703
   },
   "source": "import pandas as pd\nfrom psaw import PushshiftAPI\n\n# This command instantiates an object, with methods that will be used through out the exercise:\napi = PushshiftAPI()",
   "execution_count": null,
   "outputs": []
  },
  {
   "cell_type": "markdown",
   "source": "The instance `PushshiftAPI()` has two main functions \n1. `search_submissions` to query `/reddit/search/submission` endpoint\n2. `search_comments` to query `/reddit/search/comment` endpoint\n\n\nThere are lots of parameters taht the above two functions can take. You can check them out here - https://pushshift.io/api-parameters/. Their use will be highly dependent on what you want to do with these APIs, at which point, it's merely a matter of reading the documentation. We will be using some common parameters in the exercises that follow. ",
   "metadata": {
    "tags": [],
    "cell_id": "00009-02f938b3-a051-4334-bef2-216931768d47",
    "deepnote_cell_type": "markdown",
    "deepnote_cell_height": 217.13333129882812
   }
  },
  {
   "cell_type": "markdown",
   "source": "<div class=\"alert alert-info\">\n\n**Exercise 0.1:** We are going to start with collecting 50 most recents posts on Reddit, from the subreddit Ask me Anything (IAmA; https://www.reddit.com/r/AMA/) with more than 1,000 upvotes:\n</div>",
   "metadata": {
    "tags": [],
    "cell_id": "00010-3bf8f5b8-7eef-4081-adb2-95cdef9af027",
    "deepnote_cell_type": "markdown",
    "deepnote_cell_height": 147.86666870117188
   }
  },
  {
   "cell_type": "code",
   "metadata": {
    "tags": [],
    "deepnote_to_be_reexecuted": false,
    "source_hash": "c15fdde6",
    "execution_start": 1645983186940,
    "execution_millis": 6,
    "cell_id": "00011-cbc4327e-1296-4da2-b50c-005c191131db",
    "deepnote_cell_type": "code",
    "deepnote_cell_height": 80.33332824707031
   },
   "source": "posts = api.search_submissions(subreddit='IAmA', score=\">1000\", limit=50)",
   "execution_count": null,
   "outputs": []
  },
  {
   "cell_type": "code",
   "metadata": {
    "tags": [],
    "deepnote_to_be_reexecuted": false,
    "source_hash": "d7410215",
    "execution_start": 1645983191370,
    "execution_millis": 412,
    "cell_id": "00012-365923da-2b21-4bd4-b7b4-ec1dd80d13ef",
    "deepnote_cell_type": "code",
    "deepnote_cell_height": 117,
    "deepnote_output_heights": [
     21
    ]
   },
   "source": "type(posts) # what is the type of the above object",
   "execution_count": null,
   "outputs": [
    {
     "output_type": "execute_result",
     "execution_count": 4,
     "data": {
      "text/plain": "generator"
     },
     "metadata": {}
    }
   ]
  },
  {
   "cell_type": "markdown",
   "source": "The API returns a generator object, which is an iterator over the list. We can only access the elements of this list through iteration in a sequential manner, i.e, we can not index on this generator like `posts[0]`. ",
   "metadata": {
    "tags": [],
    "cell_id": "00013-d8e2c374-fa65-4c2c-8b23-c5c2d327de80",
    "deepnote_cell_type": "markdown",
    "deepnote_cell_height": 96.53334045410156
   }
  },
  {
   "cell_type": "markdown",
   "source": "<div class=\"alert alert-info\">\n\n**Exercise 0.2:** Make a pandas dataframe of the entries returned by the API\n</div>",
   "metadata": {
    "tags": [],
    "cell_id": "00014-81b2c78c-857a-40dd-bc67-3a614c39aae2",
    "deepnote_cell_type": "markdown",
    "deepnote_cell_height": 103.06666564941406
   }
  },
  {
   "cell_type": "markdown",
   "source": "The code below is a list comprehension that loops through the generator and extracts relevant data for each matching Reddit post. It then turns that list into a Pandas DataFrame.\n\nNote: Each element of `posts` is of type `psaw.PushshiftAPI.submission` which is a special object. This object provides an attribute `d_` to extract a Python dictinary, with easier access to all collected attributes. We will use this attribute to build a better representation for our purpose.",
   "metadata": {
    "tags": [],
    "cell_id": "00015-2981a081-65b5-4eb6-857e-d50773a7f7f1",
    "deepnote_cell_type": "markdown",
    "deepnote_cell_height": 155.3333282470703
   }
  },
  {
   "cell_type": "code",
   "metadata": {
    "tags": [],
    "deepnote_to_be_reexecuted": false,
    "source_hash": "442db682",
    "execution_start": 1645983198393,
    "execution_millis": 1006,
    "cell_id": "00016-7adb98b4-9a97-4e3f-89db-947969a3b15d",
    "deepnote_cell_type": "code",
    "deepnote_cell_height": 148.06666564941406
   },
   "source": "df_posts = pd.DataFrame([p.d_ for p in posts]) # We iterate over the generator",
   "execution_count": null,
   "outputs": [
    {
     "name": "stderr",
     "text": "/root/venv/lib/python3.7/site-packages/psaw/PushshiftAPI.py:252: UserWarning: Not all PushShift shards are active. Query results may be incomplete\n  warnings.warn(shards_down_message)\n",
     "output_type": "stream"
    }
   ]
  },
  {
   "cell_type": "markdown",
   "source": "<div class=\"alert alert-info\">\n\n**Exercise 0.3:** Now check for yourself the following - \n\n1. Number of rows and columns in the resulting dataframe \n2. The list of fieldnames that are returned by the API\n3. Look at 10 random rows of data only for the columns \"authors\", \"subreddit\", “title”, and upvote “score.”\n\n</div>",
   "metadata": {
    "tags": [],
    "cell_id": "00017-75a42ea1-e6f6-48f6-a598-c9c26955728c",
    "deepnote_cell_type": "markdown",
    "deepnote_cell_height": 212.6666717529297
   }
  },
  {
   "cell_type": "code",
   "metadata": {
    "tags": [],
    "deepnote_to_be_reexecuted": false,
    "source_hash": "de7e7e1b",
    "execution_start": 1645983200534,
    "execution_millis": 14,
    "cell_id": "00018-ddfe76b3-7450-47a0-9d10-fe1d92ba677f",
    "deepnote_cell_type": "code",
    "deepnote_cell_height": 110.86666870117188
   },
   "source": "print(\"Shape (nb of rows, nb of columns):\", df_posts.shape)",
   "execution_count": null,
   "outputs": [
    {
     "name": "stdout",
     "text": "Shape (nb of rows, nb of columns): (50, 73)\n",
     "output_type": "stream"
    }
   ]
  },
  {
   "cell_type": "code",
   "metadata": {
    "tags": [],
    "deepnote_to_be_reexecuted": false,
    "source_hash": "b2185722",
    "execution_start": 1645983201226,
    "execution_millis": 26,
    "cell_id": "00019-08abd486-6eec-4c9a-8852-4717070b7e18",
    "deepnote_cell_type": "code",
    "deepnote_cell_height": 519,
    "deepnote_output_heights": [
     405
    ]
   },
   "source": "# Which attributes do we now have access to?\ndf_posts.columns",
   "execution_count": null,
   "outputs": [
    {
     "output_type": "execute_result",
     "execution_count": 7,
     "data": {
      "text/plain": "Index(['all_awardings', 'allow_live_comments', 'author',\n       'author_flair_css_class', 'author_flair_richtext', 'author_flair_text',\n       'author_flair_type', 'author_fullname', 'author_is_blocked',\n       'author_patreon_flair', 'author_premium', 'awarders', 'can_mod_post',\n       'contest_mode', 'created_utc', 'domain', 'full_link', 'gildings', 'id',\n       'is_created_from_ads_ui', 'is_crosspostable', 'is_meta',\n       'is_original_content', 'is_reddit_media_domain', 'is_robot_indexable',\n       'is_self', 'is_video', 'link_flair_background_color',\n       'link_flair_css_class', 'link_flair_richtext', 'link_flair_template_id',\n       'link_flair_text', 'link_flair_text_color', 'link_flair_type', 'locked',\n       'media_only', 'no_follow', 'num_comments', 'num_crossposts', 'over_18',\n       'parent_whitelist_status', 'permalink', 'pinned', 'post_hint',\n       'preview', 'pwls', 'retrieved_on', 'score', 'selftext', 'send_replies',\n       'spoiler', 'stickied', 'subreddit', 'subreddit_id',\n       'subreddit_subscribers', 'subreddit_type', 'thumbnail', 'title',\n       'total_awards_received', 'treatment_tags', 'upvote_ratio', 'url',\n       'whitelist_status', 'wls', 'created', 'edited', 'gilded',\n       'suggested_sort', 'author_flair_background_color',\n       'author_flair_text_color', 'author_flair_template_id',\n       'steward_reports', 'updated_utc'],\n      dtype='object')"
     },
     "metadata": {}
    }
   ]
  },
  {
   "cell_type": "code",
   "metadata": {
    "tags": [],
    "deepnote_to_be_reexecuted": false,
    "source_hash": "514b1a72",
    "execution_start": 1645983202477,
    "execution_millis": 80,
    "cell_id": "00020-ecaf0378-5f0c-43b4-b994-54511a7ccd8e",
    "deepnote_cell_type": "code",
    "deepnote_cell_height": 596.6666870117188
   },
   "source": "df_posts[['author', 'subreddit', 'title', 'score']].sample(10)",
   "execution_count": null,
   "outputs": [
    {
     "output_type": "execute_result",
     "execution_count": 8,
     "data": {
      "application/vnd.deepnote.dataframe.v3+json": {
       "column_count": 4,
       "row_count": 10,
       "columns": [
        {
         "name": "author",
         "dtype": "object",
         "stats": {
          "unique_count": 9,
          "nan_count": 0,
          "categories": [
           {
            "name": "iamthatis",
            "count": 2
           },
           {
            "name": "mister4string",
            "count": 1
           },
           {
            "name": "7 others",
            "count": 7
           }
          ]
         }
        },
        {
         "name": "subreddit",
         "dtype": "object",
         "stats": {
          "unique_count": 1,
          "nan_count": 0,
          "categories": [
           {
            "name": "IAmA",
            "count": 10
           }
          ]
         }
        },
        {
         "name": "title",
         "dtype": "object",
         "stats": {
          "unique_count": 10,
          "nan_count": 0,
          "categories": [
           {
            "name": "On the first night of Christmas, a stranger gave to me...a new heart. IamA heart transplant recipient, AMA",
            "count": 1
           },
           {
            "name": "I am a full time nerd therapist! I run Dungeons &amp; Dragons, Minecraft, Roblox, Civ 6 and Fortnite as therapy. AMA!",
            "count": 1
           },
           {
            "name": "8 others",
            "count": 8
           }
          ]
         }
        },
        {
         "name": "score",
         "dtype": "int64",
         "stats": {
          "unique_count": 10,
          "nan_count": 0,
          "min": "1567",
          "max": "23850",
          "histogram": [
           {
            "bin_start": 1567,
            "bin_end": 3795.3,
            "count": 4
           },
           {
            "bin_start": 3795.3,
            "bin_end": 6023.6,
            "count": 0
           },
           {
            "bin_start": 6023.6,
            "bin_end": 8251.900000000001,
            "count": 1
           },
           {
            "bin_start": 8251.900000000001,
            "bin_end": 10480.2,
            "count": 0
           },
           {
            "bin_start": 10480.2,
            "bin_end": 12708.5,
            "count": 3
           },
           {
            "bin_start": 12708.5,
            "bin_end": 14936.800000000001,
            "count": 0
           },
           {
            "bin_start": 14936.800000000001,
            "bin_end": 17165.100000000002,
            "count": 0
           },
           {
            "bin_start": 17165.100000000002,
            "bin_end": 19393.4,
            "count": 1
           },
           {
            "bin_start": 19393.4,
            "bin_end": 21621.7,
            "count": 0
           },
           {
            "bin_start": 21621.7,
            "bin_end": 23850,
            "count": 1
           }
          ]
         }
        },
        {
         "name": "_deepnote_index_column",
         "dtype": "int64"
        }
       ],
       "rows": [
        {
         "author": "mister4string",
         "subreddit": "IAmA",
         "title": "On the first night of Christmas, a stranger gave to me...a new heart. IamA heart transplant recipie…",
         "score": 10490,
         "_deepnote_index_column": 17
        },
        {
         "author": "PerthNerdTherapist",
         "subreddit": "IAmA",
         "title": "I am a full time nerd therapist! I run Dungeons &amp; Dragons, Minecraft, Roblox, Civ 6 and Fortnit…",
         "score": 1567,
         "_deepnote_index_column": 2
        },
        {
         "author": "EmDawgrzz",
         "subreddit": "IAmA",
         "title": "I am a 19 year old gal making a living by working at a small, family-run slaughterhouse. AMA!",
         "score": 1885,
         "_deepnote_index_column": 4
        },
        {
         "author": "iamthatis",
         "subreddit": "IAmA",
         "title": "I'm Christian Selig, I used to work at Apple and now I work full-time on building the Apollo Reddit…",
         "score": 2674,
         "_deepnote_index_column": 28
        },
        {
         "author": "ReviewMeta",
         "subreddit": "IAmA",
         "title": "I'm Tommy, I built ReviewMeta - a site that detects \"fake\" reviews on Amazon. AMA!",
         "score": 19338,
         "_deepnote_index_column": 47
        },
        {
         "author": "meigom",
         "subreddit": "IAmA",
         "title": "My name is Meigo Märk and I walked 20,000 kilometers or 12,427 miles in 22 countries 👣🌍 It took me …",
         "score": 11523,
         "_deepnote_index_column": 42
        },
        {
         "author": "Rick_Smith_Axon",
         "subreddit": "IAmA",
         "title": "I am Rick Smith, the founder and CEO of Axon Enterprise. Years ago, we were almost brought down by …",
         "score": 23850,
         "_deepnote_index_column": 15
        },
        {
         "author": "MainlyMozartSD",
         "subreddit": "IAmA",
         "title": "I'm the Principal Bass of the San Francisco Symphony. (I performed with Metallica!) In one week, I'…",
         "score": 6719,
         "_deepnote_index_column": 14
        },
        {
         "author": "PhilipRosedale",
         "subreddit": "IAmA",
         "title": "I am Philip Rosedale, founder of Second Life and High Fidelity. Ask me anything about immersive spa…",
         "score": 2665,
         "_deepnote_index_column": 13
        },
        {
         "author": "iamthatis",
         "subreddit": "IAmA",
         "title": "[Update on yesterday's Apollo SPCA Fundraiser] We raised $42,749.29 yesterday for the SPCA Animal S…",
         "score": 12560,
         "_deepnote_index_column": 26
        }
       ]
      },
      "text/plain": "                author subreddit  \\\n17       mister4string      IAmA   \n2   PerthNerdTherapist      IAmA   \n4            EmDawgrzz      IAmA   \n28           iamthatis      IAmA   \n47          ReviewMeta      IAmA   \n42              meigom      IAmA   \n15     Rick_Smith_Axon      IAmA   \n14      MainlyMozartSD      IAmA   \n13      PhilipRosedale      IAmA   \n26           iamthatis      IAmA   \n\n                                                title  score  \n17  On the first night of Christmas, a stranger ga...  10490  \n2   I am a full time nerd therapist! I run Dungeon...   1567  \n4   I am a 19 year old gal making a living by work...   1885  \n28  I'm Christian Selig, I used to work at Apple a...   2674  \n47  I'm Tommy, I built ReviewMeta - a site that de...  19338  \n42  My name is Meigo Märk and I walked 20,000 kilo...  11523  \n15  I am Rick Smith, the founder and CEO of Axon E...  23850  \n14  I'm the Principal Bass of the San Francisco Sy...   6719  \n13  I am Philip Rosedale, founder of Second Life a...   2665  \n26  [Update on yesterday's Apollo SPCA Fundraiser]...  12560  ",
      "text/html": "<div>\n<style scoped>\n    .dataframe tbody tr th:only-of-type {\n        vertical-align: middle;\n    }\n\n    .dataframe tbody tr th {\n        vertical-align: top;\n    }\n\n    .dataframe thead th {\n        text-align: right;\n    }\n</style>\n<table border=\"1\" class=\"dataframe\">\n  <thead>\n    <tr style=\"text-align: right;\">\n      <th></th>\n      <th>author</th>\n      <th>subreddit</th>\n      <th>title</th>\n      <th>score</th>\n    </tr>\n  </thead>\n  <tbody>\n    <tr>\n      <th>17</th>\n      <td>mister4string</td>\n      <td>IAmA</td>\n      <td>On the first night of Christmas, a stranger ga...</td>\n      <td>10490</td>\n    </tr>\n    <tr>\n      <th>2</th>\n      <td>PerthNerdTherapist</td>\n      <td>IAmA</td>\n      <td>I am a full time nerd therapist! I run Dungeon...</td>\n      <td>1567</td>\n    </tr>\n    <tr>\n      <th>4</th>\n      <td>EmDawgrzz</td>\n      <td>IAmA</td>\n      <td>I am a 19 year old gal making a living by work...</td>\n      <td>1885</td>\n    </tr>\n    <tr>\n      <th>28</th>\n      <td>iamthatis</td>\n      <td>IAmA</td>\n      <td>I'm Christian Selig, I used to work at Apple a...</td>\n      <td>2674</td>\n    </tr>\n    <tr>\n      <th>47</th>\n      <td>ReviewMeta</td>\n      <td>IAmA</td>\n      <td>I'm Tommy, I built ReviewMeta - a site that de...</td>\n      <td>19338</td>\n    </tr>\n    <tr>\n      <th>42</th>\n      <td>meigom</td>\n      <td>IAmA</td>\n      <td>My name is Meigo Märk and I walked 20,000 kilo...</td>\n      <td>11523</td>\n    </tr>\n    <tr>\n      <th>15</th>\n      <td>Rick_Smith_Axon</td>\n      <td>IAmA</td>\n      <td>I am Rick Smith, the founder and CEO of Axon E...</td>\n      <td>23850</td>\n    </tr>\n    <tr>\n      <th>14</th>\n      <td>MainlyMozartSD</td>\n      <td>IAmA</td>\n      <td>I'm the Principal Bass of the San Francisco Sy...</td>\n      <td>6719</td>\n    </tr>\n    <tr>\n      <th>13</th>\n      <td>PhilipRosedale</td>\n      <td>IAmA</td>\n      <td>I am Philip Rosedale, founder of Second Life a...</td>\n      <td>2665</td>\n    </tr>\n    <tr>\n      <th>26</th>\n      <td>iamthatis</td>\n      <td>IAmA</td>\n      <td>[Update on yesterday's Apollo SPCA Fundraiser]...</td>\n      <td>12560</td>\n    </tr>\n  </tbody>\n</table>\n</div>"
     },
     "metadata": {}
    }
   ]
  },
  {
   "cell_type": "markdown",
   "source": "### Exercise 1: Extracting texts from Reddit posts\n\n<div class=\"alert alert-info\">\n\n**Exercise 1.1:** Let's now collect submissions related to the Oxford Internet Institute. \n- search for the exact keyword \"Oxford Internet Institute\", and select only posts with at least 10 upvotes\n- make a relevant dataframe where each row consists of a single entry returned by the API. \n- Check the number of rows and columns in the resulting dataframe\n</div>\n\nYou will have to check the parameters and their description here - https://github.com/pushshift/api#search-parameters-for-submissions. For example (make sure you double check the corresponding entries in the documentation),\n- `q` takes in the query, i.e., the keyword that you search for in the posts\n- `score` takes in a string to constrain the score range of the posts\n\n",
   "metadata": {
    "tags": [],
    "cell_id": "00021-3dd13f9f-9bd8-4daa-991b-af5235e376af",
    "deepnote_cell_type": "markdown",
    "deepnote_cell_height": 405.33331298828125
   }
  },
  {
   "cell_type": "code",
   "metadata": {
    "tags": [],
    "deepnote_to_be_reexecuted": false,
    "source_hash": "f986bf6b",
    "execution_start": 1645983209293,
    "execution_millis": 9813,
    "cell_id": "00022-9239b7dc-fda3-4bca-ad01-dc9b9e72d1bc",
    "deepnote_cell_type": "code",
    "deepnote_cell_height": 166.06666564941406
   },
   "source": "posts = api.search_submissions(q='\"Oxford Internet Institute\"', score=\">10\")\ndf_posts = pd.DataFrame([p.d_ for p in posts])",
   "execution_count": null,
   "outputs": [
    {
     "name": "stderr",
     "text": "/root/venv/lib/python3.7/site-packages/psaw/PushshiftAPI.py:252: UserWarning: Not all PushShift shards are active. Query results may be incomplete\n  warnings.warn(shards_down_message)\n",
     "output_type": "stream"
    }
   ]
  },
  {
   "cell_type": "markdown",
   "source": "\n<div class=\"alert alert-info\">\n\n**Exercise 1.2:** Let's look at some of the columns \n- have a look at the titles, number of comments, and the date\n- Can you interpret the date column? Head over to https://pandas.pydata.org/docs/reference/api/pandas.to_datetime.html and use `pd.to_datetime` for conversion of this column to an appropriate human-readable format. \n\n</div>",
   "metadata": {
    "tags": [],
    "cell_id": "00023-e2b8074a-ae77-482e-bd62-aaae5acda857",
    "deepnote_cell_type": "markdown",
    "deepnote_cell_height": 210.3333282470703
   }
  },
  {
   "cell_type": "code",
   "metadata": {
    "tags": [],
    "deepnote_to_be_reexecuted": false,
    "source_hash": "5d910d05",
    "execution_start": 1645983219129,
    "execution_millis": 72,
    "cell_id": "00024-b82f7adc-b320-43f0-acf5-e12496f0b413",
    "deepnote_cell_type": "code",
    "deepnote_cell_height": 596.6666870117188
   },
   "source": "df_posts[['title', 'num_comments', 'created_utc']]",
   "execution_count": null,
   "outputs": [
    {
     "output_type": "execute_result",
     "execution_count": 10,
     "data": {
      "application/vnd.deepnote.dataframe.v3+json": {
       "column_count": 3,
       "row_count": 12,
       "columns": [
        {
         "name": "title",
         "dtype": "object",
         "stats": {
          "unique_count": 12,
          "nan_count": 0,
          "categories": [
           {
            "name": "Brasil tem 'tropa cibernética' de desinformação, diz estudo da Oxford",
            "count": 1
           },
           {
            "name": "China becomes a 'global disinformation superpower' says report into online proaganda",
            "count": 1
           },
           {
            "name": "10 others",
            "count": 10
           }
          ]
         }
        },
        {
         "name": "num_comments",
         "dtype": "int64",
         "stats": {
          "unique_count": 11,
          "nan_count": 0,
          "min": "0",
          "max": "48",
          "histogram": [
           {
            "bin_start": 0,
            "bin_end": 4.8,
            "count": 5
           },
           {
            "bin_start": 4.8,
            "bin_end": 9.6,
            "count": 3
           },
           {
            "bin_start": 9.6,
            "bin_end": 14.399999999999999,
            "count": 1
           },
           {
            "bin_start": 14.399999999999999,
            "bin_end": 19.2,
            "count": 0
           },
           {
            "bin_start": 19.2,
            "bin_end": 24,
            "count": 1
           },
           {
            "bin_start": 24,
            "bin_end": 28.799999999999997,
            "count": 0
           },
           {
            "bin_start": 28.799999999999997,
            "bin_end": 33.6,
            "count": 1
           },
           {
            "bin_start": 33.6,
            "bin_end": 38.4,
            "count": 0
           },
           {
            "bin_start": 38.4,
            "bin_end": 43.199999999999996,
            "count": 0
           },
           {
            "bin_start": 43.199999999999996,
            "bin_end": 48,
            "count": 1
           }
          ]
         }
        },
        {
         "name": "created_utc",
         "dtype": "int64",
         "stats": {
          "unique_count": 12,
          "nan_count": 0,
          "min": "1305028561",
          "max": "1612477350",
          "histogram": [
           {
            "bin_start": 1305028561,
            "bin_end": 1335773439.9,
            "count": 1
           },
           {
            "bin_start": 1335773439.9,
            "bin_end": 1366518318.8,
            "count": 0
           },
           {
            "bin_start": 1366518318.8,
            "bin_end": 1397263197.7,
            "count": 0
           },
           {
            "bin_start": 1397263197.7,
            "bin_end": 1428008076.6,
            "count": 1
           },
           {
            "bin_start": 1428008076.6,
            "bin_end": 1458752955.5,
            "count": 1
           },
           {
            "bin_start": 1458752955.5,
            "bin_end": 1489497834.4,
            "count": 0
           },
           {
            "bin_start": 1489497834.4,
            "bin_end": 1520242713.3,
            "count": 2
           },
           {
            "bin_start": 1520242713.3,
            "bin_end": 1550987592.2,
            "count": 1
           },
           {
            "bin_start": 1550987592.2,
            "bin_end": 1581732471.1,
            "count": 5
           },
           {
            "bin_start": 1581732471.1,
            "bin_end": 1612477350,
            "count": 1
           }
          ]
         }
        },
        {
         "name": "_deepnote_index_column",
         "dtype": "int64"
        }
       ],
       "rows": [
        {
         "title": "Brasil tem 'tropa cibernética' de desinformação, diz estudo da Oxford",
         "num_comments": 2,
         "created_utc": 1612477350,
         "_deepnote_index_column": 0
        },
        {
         "title": "China becomes a 'global disinformation superpower' says report into online proaganda",
         "num_comments": 0,
         "created_utc": 1569513960,
         "_deepnote_index_column": 1
        },
        {
         "title": "[Research] Chinese computational propaganda: Automation, algorithms and the manipulation of informa…",
         "num_comments": 6,
         "created_utc": 1566340373,
         "_deepnote_index_column": 2
        },
        {
         "title": "Oxford Internet Institute Webcam",
         "num_comments": 1,
         "created_utc": 1560682628,
         "_deepnote_index_column": 3
        },
        {
         "title": "Computational Propaganda in Poland: False Amplifiers and the Digital Public Sphere — Oxford Interne…",
         "num_comments": 3,
         "created_utc": 1556360041,
         "_deepnote_index_column": 4
        },
        {
         "title": "[christchurch attack] Retaliation &amp; suppression narrative tracker",
         "num_comments": 48,
         "created_utc": 1552723267,
         "_deepnote_index_column": 5
        },
        {
         "title": "The world's fibre-optic connections imagined as a metro system by The Oxford Internet Institute [35…",
         "num_comments": 7,
         "created_utc": 1533230055,
         "_deepnote_index_column": 6
        },
        {
         "title": "Raport: polski internet to pole bitwy politycznych botów. Polskie media społecznościowe pełne są fa…",
         "num_comments": 22,
         "created_utc": 1498279539,
         "_deepnote_index_column": 7
        },
        {
         "title": "Pay crash expected in online gig economy as millions seek work - \"A huge number of people in South-…",
         "num_comments": 11,
         "created_utc": 1490520330,
         "_deepnote_index_column": 8
        },
        {
         "title": "\"Facebook is no charity, and the ‘free’ in #FreeBasics comes at a price\" Oxford Internet Institute",
         "num_comments": 31,
         "created_utc": 1452535430,
         "_deepnote_index_column": 9
        }
       ]
      },
      "text/plain": "                                                title  num_comments  \\\n0   Brasil tem 'tropa cibernética' de desinformaçã...             2   \n1   China becomes a 'global disinformation superpo...             0   \n2   [Research] Chinese computational propaganda: A...             6   \n3                    Oxford Internet Institute Webcam             1   \n4   Computational Propaganda in Poland: False Ampl...             3   \n5   [christchurch attack] Retaliation &amp; suppre...            48   \n6   The world's fibre-optic connections imagined a...             7   \n7   Raport: polski internet to pole bitwy politycz...            22   \n8   Pay crash expected in online gig economy as mi...            11   \n9   \"Facebook is no charity, and the ‘free’ in #Fr...            31   \n10                                  Sharing is magic!             7   \n11  Hey Reddit, I did some Social Network Analysis...             4   \n\n    created_utc  \n0    1612477350  \n1    1569513960  \n2    1566340373  \n3    1560682628  \n4    1556360041  \n5    1552723267  \n6    1533230055  \n7    1498279539  \n8    1490520330  \n9    1452535430  \n10   1422801767  \n11   1305028561  ",
      "text/html": "<div>\n<style scoped>\n    .dataframe tbody tr th:only-of-type {\n        vertical-align: middle;\n    }\n\n    .dataframe tbody tr th {\n        vertical-align: top;\n    }\n\n    .dataframe thead th {\n        text-align: right;\n    }\n</style>\n<table border=\"1\" class=\"dataframe\">\n  <thead>\n    <tr style=\"text-align: right;\">\n      <th></th>\n      <th>title</th>\n      <th>num_comments</th>\n      <th>created_utc</th>\n    </tr>\n  </thead>\n  <tbody>\n    <tr>\n      <th>0</th>\n      <td>Brasil tem 'tropa cibernética' de desinformaçã...</td>\n      <td>2</td>\n      <td>1612477350</td>\n    </tr>\n    <tr>\n      <th>1</th>\n      <td>China becomes a 'global disinformation superpo...</td>\n      <td>0</td>\n      <td>1569513960</td>\n    </tr>\n    <tr>\n      <th>2</th>\n      <td>[Research] Chinese computational propaganda: A...</td>\n      <td>6</td>\n      <td>1566340373</td>\n    </tr>\n    <tr>\n      <th>3</th>\n      <td>Oxford Internet Institute Webcam</td>\n      <td>1</td>\n      <td>1560682628</td>\n    </tr>\n    <tr>\n      <th>4</th>\n      <td>Computational Propaganda in Poland: False Ampl...</td>\n      <td>3</td>\n      <td>1556360041</td>\n    </tr>\n    <tr>\n      <th>5</th>\n      <td>[christchurch attack] Retaliation &amp;amp; suppre...</td>\n      <td>48</td>\n      <td>1552723267</td>\n    </tr>\n    <tr>\n      <th>6</th>\n      <td>The world's fibre-optic connections imagined a...</td>\n      <td>7</td>\n      <td>1533230055</td>\n    </tr>\n    <tr>\n      <th>7</th>\n      <td>Raport: polski internet to pole bitwy politycz...</td>\n      <td>22</td>\n      <td>1498279539</td>\n    </tr>\n    <tr>\n      <th>8</th>\n      <td>Pay crash expected in online gig economy as mi...</td>\n      <td>11</td>\n      <td>1490520330</td>\n    </tr>\n    <tr>\n      <th>9</th>\n      <td>\"Facebook is no charity, and the ‘free’ in #Fr...</td>\n      <td>31</td>\n      <td>1452535430</td>\n    </tr>\n    <tr>\n      <th>10</th>\n      <td>Sharing is magic!</td>\n      <td>7</td>\n      <td>1422801767</td>\n    </tr>\n    <tr>\n      <th>11</th>\n      <td>Hey Reddit, I did some Social Network Analysis...</td>\n      <td>4</td>\n      <td>1305028561</td>\n    </tr>\n  </tbody>\n</table>\n</div>"
     },
     "metadata": {}
    }
   ]
  },
  {
   "cell_type": "markdown",
   "source": "`created_utc` is not interpretable as this is a common format that is shared across the systems in the world. Let's convert this to a time that humans can read. ",
   "metadata": {
    "tags": [],
    "cell_id": "00025-e71016b6-18a7-447c-850a-3b6b82064f4f",
    "deepnote_cell_type": "markdown",
    "deepnote_cell_height": 74.13333129882812
   }
  },
  {
   "cell_type": "code",
   "metadata": {
    "tags": [],
    "deepnote_to_be_reexecuted": false,
    "source_hash": "5fb1e0ab",
    "execution_start": 1645983225045,
    "execution_millis": 2,
    "cell_id": "00026-d4c13dbc-2c62-4af4-aa70-e5d0c541a199",
    "deepnote_cell_type": "code",
    "deepnote_cell_height": 80.33332824707031
   },
   "source": "df_posts['created_utc'] = pd.to_datetime(df_posts['created_utc'], utc=True, unit='s')",
   "execution_count": null,
   "outputs": []
  },
  {
   "cell_type": "code",
   "metadata": {
    "tags": [],
    "deepnote_to_be_reexecuted": false,
    "source_hash": "3ecc3d3a",
    "execution_start": 1645983225722,
    "execution_millis": 12,
    "cell_id": "00027-a4df5fce-320f-4821-a126-1e2a38b624a3",
    "deepnote_cell_type": "code",
    "deepnote_cell_height": 596.6666870117188
   },
   "source": "df_posts[['title', 'num_comments', 'created_utc']].sample(10)",
   "execution_count": null,
   "outputs": [
    {
     "output_type": "execute_result",
     "execution_count": 12,
     "data": {
      "application/vnd.deepnote.dataframe.v3+json": {
       "column_count": 3,
       "row_count": 10,
       "columns": [
        {
         "name": "title",
         "dtype": "object",
         "stats": {
          "unique_count": 10,
          "nan_count": 0,
          "categories": [
           {
            "name": "Oxford Internet Institute Webcam",
            "count": 1
           },
           {
            "name": "Computational Propaganda in Poland: False Amplifiers and the Digital Public Sphere — Oxford Internet Institute",
            "count": 1
           },
           {
            "name": "8 others",
            "count": 8
           }
          ]
         }
        },
        {
         "name": "num_comments",
         "dtype": "int64",
         "stats": {
          "unique_count": 9,
          "nan_count": 0,
          "min": "0",
          "max": "48",
          "histogram": [
           {
            "bin_start": 0,
            "bin_end": 4.8,
            "count": 4
           },
           {
            "bin_start": 4.8,
            "bin_end": 9.6,
            "count": 3
           },
           {
            "bin_start": 9.6,
            "bin_end": 14.399999999999999,
            "count": 0
           },
           {
            "bin_start": 14.399999999999999,
            "bin_end": 19.2,
            "count": 0
           },
           {
            "bin_start": 19.2,
            "bin_end": 24,
            "count": 1
           },
           {
            "bin_start": 24,
            "bin_end": 28.799999999999997,
            "count": 0
           },
           {
            "bin_start": 28.799999999999997,
            "bin_end": 33.6,
            "count": 1
           },
           {
            "bin_start": 33.6,
            "bin_end": 38.4,
            "count": 0
           },
           {
            "bin_start": 38.4,
            "bin_end": 43.199999999999996,
            "count": 0
           },
           {
            "bin_start": 43.199999999999996,
            "bin_end": 48,
            "count": 1
           }
          ]
         }
        },
        {
         "name": "created_utc",
         "dtype": "datetime64[ns, UTC]",
         "stats": {
          "unique_count": 10,
          "nan_count": 0,
          "min": "2015-02-01 14:42:47+00:00",
          "max": "2021-02-04 22:22:30+00:00",
          "histogram": [
           {
            "bin_start": 1422801767000000000,
            "bin_end": 1441769325300000000,
            "count": 1
           },
           {
            "bin_start": 1441769325300000000,
            "bin_end": 1460736883600000000,
            "count": 1
           },
           {
            "bin_start": 1460736883600000000,
            "bin_end": 1479704441900000000,
            "count": 0
           },
           {
            "bin_start": 1479704441900000000,
            "bin_end": 1498672000200000000,
            "count": 1
           },
           {
            "bin_start": 1498672000200000000,
            "bin_end": 1517639558500000000,
            "count": 0
           },
           {
            "bin_start": 1517639558500000000,
            "bin_end": 1536607116800000000,
            "count": 1
           },
           {
            "bin_start": 1536607116800000000,
            "bin_end": 1555574675100000000,
            "count": 1
           },
           {
            "bin_start": 1555574675100000000,
            "bin_end": 1574542233400000000,
            "count": 4
           },
           {
            "bin_start": 1574542233400000000,
            "bin_end": 1593509791700000000,
            "count": 0
           },
           {
            "bin_start": 1593509791700000000,
            "bin_end": 1612477350000000000,
            "count": 1
           }
          ]
         }
        },
        {
         "name": "_deepnote_index_column",
         "dtype": "int64"
        }
       ],
       "rows": [
        {
         "title": "Oxford Internet Institute Webcam",
         "num_comments": 1,
         "created_utc": "2019-06-16T10:57:08.000000",
         "_deepnote_index_column": 3
        },
        {
         "title": "Computational Propaganda in Poland: False Amplifiers and the Digital Public Sphere — Oxford Interne…",
         "num_comments": 3,
         "created_utc": "2019-04-27T10:14:01.000000",
         "_deepnote_index_column": 4
        },
        {
         "title": "[Research] Chinese computational propaganda: Automation, algorithms and the manipulation of informa…",
         "num_comments": 6,
         "created_utc": "2019-08-20T22:32:53.000000",
         "_deepnote_index_column": 2
        },
        {
         "title": "\"Facebook is no charity, and the ‘free’ in #FreeBasics comes at a price\" Oxford Internet Institute",
         "num_comments": 31,
         "created_utc": "2016-01-11T18:03:50.000000",
         "_deepnote_index_column": 9
        },
        {
         "title": "Sharing is magic!",
         "num_comments": 7,
         "created_utc": "2015-02-01T14:42:47.000000",
         "_deepnote_index_column": 10
        },
        {
         "title": "China becomes a 'global disinformation superpower' says report into online proaganda",
         "num_comments": 0,
         "created_utc": "2019-09-26T16:06:00.000000",
         "_deepnote_index_column": 1
        },
        {
         "title": "The world's fibre-optic connections imagined as a metro system by The Oxford Internet Institute [35…",
         "num_comments": 7,
         "created_utc": "2018-08-02T17:14:15.000000",
         "_deepnote_index_column": 6
        },
        {
         "title": "[christchurch attack] Retaliation &amp; suppression narrative tracker",
         "num_comments": 48,
         "created_utc": "2019-03-16T08:01:07.000000",
         "_deepnote_index_column": 5
        },
        {
         "title": "Raport: polski internet to pole bitwy politycznych botów. Polskie media społecznościowe pełne są fa…",
         "num_comments": 22,
         "created_utc": "2017-06-24T04:45:39.000000",
         "_deepnote_index_column": 7
        },
        {
         "title": "Brasil tem 'tropa cibernética' de desinformação, diz estudo da Oxford",
         "num_comments": 2,
         "created_utc": "2021-02-04T22:22:30.000000",
         "_deepnote_index_column": 0
        }
       ]
      },
      "text/plain": "                                                title  num_comments  \\\n3                    Oxford Internet Institute Webcam             1   \n4   Computational Propaganda in Poland: False Ampl...             3   \n2   [Research] Chinese computational propaganda: A...             6   \n9   \"Facebook is no charity, and the ‘free’ in #Fr...            31   \n10                                  Sharing is magic!             7   \n1   China becomes a 'global disinformation superpo...             0   \n6   The world's fibre-optic connections imagined a...             7   \n5   [christchurch attack] Retaliation &amp; suppre...            48   \n7   Raport: polski internet to pole bitwy politycz...            22   \n0   Brasil tem 'tropa cibernética' de desinformaçã...             2   \n\n                 created_utc  \n3  2019-06-16 10:57:08+00:00  \n4  2019-04-27 10:14:01+00:00  \n2  2019-08-20 22:32:53+00:00  \n9  2016-01-11 18:03:50+00:00  \n10 2015-02-01 14:42:47+00:00  \n1  2019-09-26 16:06:00+00:00  \n6  2018-08-02 17:14:15+00:00  \n5  2019-03-16 08:01:07+00:00  \n7  2017-06-24 04:45:39+00:00  \n0  2021-02-04 22:22:30+00:00  ",
      "text/html": "<div>\n<style scoped>\n    .dataframe tbody tr th:only-of-type {\n        vertical-align: middle;\n    }\n\n    .dataframe tbody tr th {\n        vertical-align: top;\n    }\n\n    .dataframe thead th {\n        text-align: right;\n    }\n</style>\n<table border=\"1\" class=\"dataframe\">\n  <thead>\n    <tr style=\"text-align: right;\">\n      <th></th>\n      <th>title</th>\n      <th>num_comments</th>\n      <th>created_utc</th>\n    </tr>\n  </thead>\n  <tbody>\n    <tr>\n      <th>3</th>\n      <td>Oxford Internet Institute Webcam</td>\n      <td>1</td>\n      <td>2019-06-16 10:57:08+00:00</td>\n    </tr>\n    <tr>\n      <th>4</th>\n      <td>Computational Propaganda in Poland: False Ampl...</td>\n      <td>3</td>\n      <td>2019-04-27 10:14:01+00:00</td>\n    </tr>\n    <tr>\n      <th>2</th>\n      <td>[Research] Chinese computational propaganda: A...</td>\n      <td>6</td>\n      <td>2019-08-20 22:32:53+00:00</td>\n    </tr>\n    <tr>\n      <th>9</th>\n      <td>\"Facebook is no charity, and the ‘free’ in #Fr...</td>\n      <td>31</td>\n      <td>2016-01-11 18:03:50+00:00</td>\n    </tr>\n    <tr>\n      <th>10</th>\n      <td>Sharing is magic!</td>\n      <td>7</td>\n      <td>2015-02-01 14:42:47+00:00</td>\n    </tr>\n    <tr>\n      <th>1</th>\n      <td>China becomes a 'global disinformation superpo...</td>\n      <td>0</td>\n      <td>2019-09-26 16:06:00+00:00</td>\n    </tr>\n    <tr>\n      <th>6</th>\n      <td>The world's fibre-optic connections imagined a...</td>\n      <td>7</td>\n      <td>2018-08-02 17:14:15+00:00</td>\n    </tr>\n    <tr>\n      <th>5</th>\n      <td>[christchurch attack] Retaliation &amp;amp; suppre...</td>\n      <td>48</td>\n      <td>2019-03-16 08:01:07+00:00</td>\n    </tr>\n    <tr>\n      <th>7</th>\n      <td>Raport: polski internet to pole bitwy politycz...</td>\n      <td>22</td>\n      <td>2017-06-24 04:45:39+00:00</td>\n    </tr>\n    <tr>\n      <th>0</th>\n      <td>Brasil tem 'tropa cibernética' de desinformaçã...</td>\n      <td>2</td>\n      <td>2021-02-04 22:22:30+00:00</td>\n    </tr>\n  </tbody>\n</table>\n</div>"
     },
     "metadata": {}
    }
   ]
  },
  {
   "cell_type": "code",
   "metadata": {
    "tags": [],
    "deepnote_to_be_reexecuted": false,
    "source_hash": "99bbf001",
    "execution_start": 1645983226745,
    "execution_millis": 4,
    "cell_id": "00028-98010361-7d08-466a-854e-d7a0b2782ff6",
    "deepnote_cell_type": "code",
    "deepnote_cell_height": 558,
    "deepnote_output_heights": [
     444
    ]
   },
   "source": "# Reminder: this is all the columns you can access:\ndf_posts.columns",
   "execution_count": null,
   "outputs": [
    {
     "output_type": "execute_result",
     "execution_count": 13,
     "data": {
      "text/plain": "Index(['all_awardings', 'allow_live_comments', 'author',\n       'author_flair_css_class', 'author_flair_richtext', 'author_flair_text',\n       'author_flair_type', 'author_fullname', 'author_patreon_flair',\n       'author_premium', 'awarders', 'can_mod_post', 'contest_mode',\n       'created_utc', 'domain', 'full_link', 'gildings', 'id',\n       'is_crosspostable', 'is_meta', 'is_original_content',\n       'is_reddit_media_domain', 'is_robot_indexable', 'is_self', 'is_video',\n       'link_flair_background_color', 'link_flair_richtext',\n       'link_flair_template_id', 'link_flair_text', 'link_flair_text_color',\n       'link_flair_type', 'locked', 'media_only', 'no_follow', 'num_comments',\n       'num_crossposts', 'over_18', 'permalink', 'pinned', 'post_hint',\n       'preview', 'retrieved_on', 'score', 'selftext', 'send_replies',\n       'spoiler', 'stickied', 'subreddit', 'subreddit_id',\n       'subreddit_subscribers', 'subreddit_type', 'thumbnail', 'title',\n       'total_awards_received', 'treatment_tags', 'upvote_ratio', 'url',\n       'created', 'steward_reports', 'suggested_sort', 'updated_utc',\n       'link_flair_css_class', 'parent_whitelist_status', 'pwls',\n       'whitelist_status', 'wls', 'author_flair_background_color',\n       'author_flair_template_id', 'author_flair_text_color', 'gilded',\n       'rte_mode', 'approved_at_utc', 'author_created_utc', 'banned_at_utc',\n       'brand_safe', 'media_embed', 'secure_media_embed', 'thumbnail_height',\n       'thumbnail_width'],\n      dtype='object')"
     },
     "metadata": {}
    }
   ]
  },
  {
   "cell_type": "markdown",
   "source": "\n<div class=\"alert alert-info\">\n\n**Exercise 1.3:** How would you list the subreddit of posts mentioning the OII?\n\n</div>\n",
   "metadata": {
    "tags": [],
    "cell_id": "00029-5d3e1c5c-d7d1-44bf-9653-28d9b8146396",
    "deepnote_cell_type": "markdown",
    "deepnote_cell_height": 103.06666564941406
   }
  },
  {
   "cell_type": "code",
   "metadata": {
    "tags": [],
    "deepnote_to_be_reexecuted": false,
    "source_hash": "4b05a17f",
    "execution_start": 1645983227937,
    "execution_millis": 5,
    "output_cleared": false,
    "cell_id": "00030-7a22ecd0-cac9-46e1-872a-2d11fbddcce4",
    "deepnote_cell_type": "code",
    "deepnote_cell_height": 146.1999969482422
   },
   "source": "list_subreddits = list(df_posts.subreddit)\nprint(list_subreddits)",
   "execution_count": null,
   "outputs": [
    {
     "name": "stdout",
     "text": "['DireitoDigital', 'autotldr', 'Sino', 'oxforduni', 'Polska', 'kotakuinaction2', 'Map_Porn', 'Polska', 'technology', 'india', 'mylittlepony', 'science']\n",
     "output_type": "stream"
    }
   ]
  },
  {
   "cell_type": "markdown",
   "source": "\n<div class=\"alert alert-info\">\n\n**Exercise 1.4:** How would you list the usernames mentioning the OII?\n\n</div>\n",
   "metadata": {
    "tags": [],
    "cell_id": "00031-5b938652-7fe2-432a-873d-371e42888d52",
    "deepnote_cell_type": "markdown",
    "deepnote_cell_height": 103.06666564941406
   }
  },
  {
   "cell_type": "code",
   "metadata": {
    "tags": [],
    "deepnote_to_be_reexecuted": false,
    "source_hash": "f43c7d20",
    "execution_start": 1645983229535,
    "execution_millis": 4,
    "cell_id": "00032-069b7b30-a2bc-4f2a-96f5-0cfc5d241973",
    "deepnote_cell_type": "code",
    "deepnote_cell_height": 146.1999969482422
   },
   "source": "list_usernames = list(df_posts.author)\nprint(list_usernames)",
   "execution_count": null,
   "outputs": [
    {
     "name": "stdout",
     "text": "['Cianobaxter', 'autotldr', 'rocco25', 'streamingcat', 'Kacu5610', 'missbp2189', 'iRoost', 'HaHard', 'mvea', 'hargup', 'fantomedanslamachine', 'okwherearemypants']\n",
     "output_type": "stream"
    }
   ]
  },
  {
   "cell_type": "markdown",
   "source": "\n<div class=\"alert alert-info\">\n\n**Exercise 1.5:** Collect 100 posts related to ```policy``` regulation from the subreddits ```climatechange``` and ```datascience```. For this, modify the query below and the subreddit list:\n\n</div>",
   "metadata": {
    "tags": [],
    "cell_id": "00033-8b79b3ab-4e0c-4f08-8e87-e9d8e967971d",
    "deepnote_cell_type": "markdown",
    "deepnote_cell_height": 125.46665954589844
   }
  },
  {
   "cell_type": "code",
   "metadata": {
    "tags": [],
    "deepnote_to_be_reexecuted": false,
    "source_hash": "cc6117b0",
    "execution_start": 1645983232361,
    "execution_millis": 783,
    "cell_id": "00034-3cefc45d-ec4d-4641-a1e5-7c853eb0d0d2",
    "deepnote_cell_type": "code",
    "deepnote_cell_height": 805.4000244140625
   },
   "source": "query = \"policy\"\nsubreddit = \"climatechange, datascience\"\n\nposts = api.search_submissions(q=query, limit=100, subreddit=subreddit)\ndf_posts = pd.DataFrame([p.d_ for p in posts])\ndf_posts['created_utc'] = pd.to_datetime(df_posts['created_utc'], utc=True, unit='s')\n\ndf_posts[['title', 'num_comments', 'created_utc']].sample(10)",
   "execution_count": null,
   "outputs": [
    {
     "name": "stderr",
     "text": "/root/venv/lib/python3.7/site-packages/psaw/PushshiftAPI.py:252: UserWarning: Not all PushShift shards are active. Query results may be incomplete\n  warnings.warn(shards_down_message)\n",
     "output_type": "stream"
    },
    {
     "output_type": "execute_result",
     "execution_count": 16,
     "data": {
      "application/vnd.deepnote.dataframe.v3+json": {
       "column_count": 3,
       "row_count": 10,
       "columns": [
        {
         "name": "title",
         "dtype": "object",
         "stats": {
          "unique_count": 10,
          "nan_count": 0,
          "categories": [
           {
            "name": "Have you read \"Climate Crisis and the Global Green New Deal\" by Chomsky and Pollin?",
            "count": 1
           },
           {
            "name": "Guidebook for Operationalizing the NDOT Policy for Station",
            "count": 1
           },
           {
            "name": "8 others",
            "count": 8
           }
          ]
         }
        },
        {
         "name": "num_comments",
         "dtype": "int64",
         "stats": {
          "unique_count": 7,
          "nan_count": 0,
          "min": "0",
          "max": "60",
          "histogram": [
           {
            "bin_start": 0,
            "bin_end": 6,
            "count": 7
           },
           {
            "bin_start": 6,
            "bin_end": 12,
            "count": 0
           },
           {
            "bin_start": 12,
            "bin_end": 18,
            "count": 1
           },
           {
            "bin_start": 18,
            "bin_end": 24,
            "count": 0
           },
           {
            "bin_start": 24,
            "bin_end": 30,
            "count": 0
           },
           {
            "bin_start": 30,
            "bin_end": 36,
            "count": 1
           },
           {
            "bin_start": 36,
            "bin_end": 42,
            "count": 0
           },
           {
            "bin_start": 42,
            "bin_end": 48,
            "count": 0
           },
           {
            "bin_start": 48,
            "bin_end": 54,
            "count": 0
           },
           {
            "bin_start": 54,
            "bin_end": 60,
            "count": 1
           }
          ]
         }
        },
        {
         "name": "created_utc",
         "dtype": "datetime64[ns, UTC]",
         "stats": {
          "unique_count": 10,
          "nan_count": 0,
          "min": "2019-10-01 17:30:18+00:00",
          "max": "2022-02-04 15:49:27+00:00",
          "histogram": [
           {
            "bin_start": 1569951018000000000,
            "bin_end": 1577354892900000000,
            "count": 1
           },
           {
            "bin_start": 1577354892900000000,
            "bin_end": 1584758767800000000,
            "count": 1
           },
           {
            "bin_start": 1584758767800000000,
            "bin_end": 1592162642700000000,
            "count": 1
           },
           {
            "bin_start": 1592162642700000000,
            "bin_end": 1599566517600000000,
            "count": 1
           },
           {
            "bin_start": 1599566517600000000,
            "bin_end": 1606970392500000000,
            "count": 0
           },
           {
            "bin_start": 1606970392500000000,
            "bin_end": 1614374267400000000,
            "count": 0
           },
           {
            "bin_start": 1614374267400000000,
            "bin_end": 1621778142300000000,
            "count": 1
           },
           {
            "bin_start": 1621778142300000000,
            "bin_end": 1629182017200000000,
            "count": 2
           },
           {
            "bin_start": 1629182017200000000,
            "bin_end": 1636585892100000000,
            "count": 1
           },
           {
            "bin_start": 1636585892100000000,
            "bin_end": 1643989767000000000,
            "count": 2
           }
          ]
         }
        },
        {
         "name": "_deepnote_index_column",
         "dtype": "int64"
        }
       ],
       "rows": [
        {
         "title": "Have you read \"Climate Crisis and the Global Green New Deal\" by Chomsky and Pollin?",
         "num_comments": 0,
         "created_utc": "2021-07-14T19:16:37.000000",
         "_deepnote_index_column": 30
        },
        {
         "title": "Guidebook for Operationalizing the NDOT Policy for Station",
         "num_comments": 0,
         "created_utc": "2022-02-04T15:49:27.000000",
         "_deepnote_index_column": 2
        },
        {
         "title": "Mark your Calendars: UN NDC report, Sept 17",
         "num_comments": 4,
         "created_utc": "2021-09-16T05:40:08.000000",
         "_deepnote_index_column": 20
        },
        {
         "title": "How much would you be willing to sacrifice climate change?",
         "num_comments": 31,
         "created_utc": "2020-06-05T03:38:34.000000",
         "_deepnote_index_column": 65
        },
        {
         "title": "Where can I find official data on climate change?",
         "num_comments": 14,
         "created_utc": "2020-02-29T20:47:26.000000",
         "_deepnote_index_column": 71
        },
        {
         "title": "What it's like to live with a +3.5°C warming",
         "num_comments": 60,
         "created_utc": "2021-06-27T16:30:56.000000",
         "_deepnote_index_column": 33
        },
        {
         "title": "Study shows 'dark side of ambition' in climate policy - \"More countries need to invest in robust an…",
         "num_comments": 4,
         "created_utc": "2021-11-19T01:06:40.000000",
         "_deepnote_index_column": 10
        },
        {
         "title": "Climate policy for cities",
         "num_comments": 2,
         "created_utc": "2019-10-01T17:30:18.000000",
         "_deepnote_index_column": 85
        },
        {
         "title": "Eco-friendly banks (USA) - looking for recommendations",
         "num_comments": 1,
         "created_utc": "2020-07-17T21:38:10.000000",
         "_deepnote_index_column": 63
        },
        {
         "title": "Some recent commentary on China's 14th Five Year Plan.",
         "num_comments": 2,
         "created_utc": "2021-03-14T22:59:19.000000",
         "_deepnote_index_column": 38
        }
       ]
      },
      "text/plain": "                                                title  num_comments  \\\n30  Have you read \"Climate Crisis and the Global G...             0   \n2   Guidebook for Operationalizing the NDOT Policy...             0   \n20        Mark your Calendars: UN NDC report, Sept 17             4   \n65  How much would you be willing to sacrifice cli...            31   \n71  Where can I find official data on climate change?            14   \n33       What it's like to live with a +3.5°C warming            60   \n10  Study shows 'dark side of ambition' in climate...             4   \n85                          Climate policy for cities             2   \n63  Eco-friendly banks (USA) - looking for recomme...             1   \n38  Some recent commentary on China's 14th Five Ye...             2   \n\n                 created_utc  \n30 2021-07-14 19:16:37+00:00  \n2  2022-02-04 15:49:27+00:00  \n20 2021-09-16 05:40:08+00:00  \n65 2020-06-05 03:38:34+00:00  \n71 2020-02-29 20:47:26+00:00  \n33 2021-06-27 16:30:56+00:00  \n10 2021-11-19 01:06:40+00:00  \n85 2019-10-01 17:30:18+00:00  \n63 2020-07-17 21:38:10+00:00  \n38 2021-03-14 22:59:19+00:00  ",
      "text/html": "<div>\n<style scoped>\n    .dataframe tbody tr th:only-of-type {\n        vertical-align: middle;\n    }\n\n    .dataframe tbody tr th {\n        vertical-align: top;\n    }\n\n    .dataframe thead th {\n        text-align: right;\n    }\n</style>\n<table border=\"1\" class=\"dataframe\">\n  <thead>\n    <tr style=\"text-align: right;\">\n      <th></th>\n      <th>title</th>\n      <th>num_comments</th>\n      <th>created_utc</th>\n    </tr>\n  </thead>\n  <tbody>\n    <tr>\n      <th>30</th>\n      <td>Have you read \"Climate Crisis and the Global G...</td>\n      <td>0</td>\n      <td>2021-07-14 19:16:37+00:00</td>\n    </tr>\n    <tr>\n      <th>2</th>\n      <td>Guidebook for Operationalizing the NDOT Policy...</td>\n      <td>0</td>\n      <td>2022-02-04 15:49:27+00:00</td>\n    </tr>\n    <tr>\n      <th>20</th>\n      <td>Mark your Calendars: UN NDC report, Sept 17</td>\n      <td>4</td>\n      <td>2021-09-16 05:40:08+00:00</td>\n    </tr>\n    <tr>\n      <th>65</th>\n      <td>How much would you be willing to sacrifice cli...</td>\n      <td>31</td>\n      <td>2020-06-05 03:38:34+00:00</td>\n    </tr>\n    <tr>\n      <th>71</th>\n      <td>Where can I find official data on climate change?</td>\n      <td>14</td>\n      <td>2020-02-29 20:47:26+00:00</td>\n    </tr>\n    <tr>\n      <th>33</th>\n      <td>What it's like to live with a +3.5°C warming</td>\n      <td>60</td>\n      <td>2021-06-27 16:30:56+00:00</td>\n    </tr>\n    <tr>\n      <th>10</th>\n      <td>Study shows 'dark side of ambition' in climate...</td>\n      <td>4</td>\n      <td>2021-11-19 01:06:40+00:00</td>\n    </tr>\n    <tr>\n      <th>85</th>\n      <td>Climate policy for cities</td>\n      <td>2</td>\n      <td>2019-10-01 17:30:18+00:00</td>\n    </tr>\n    <tr>\n      <th>63</th>\n      <td>Eco-friendly banks (USA) - looking for recomme...</td>\n      <td>1</td>\n      <td>2020-07-17 21:38:10+00:00</td>\n    </tr>\n    <tr>\n      <th>38</th>\n      <td>Some recent commentary on China's 14th Five Ye...</td>\n      <td>2</td>\n      <td>2021-03-14 22:59:19+00:00</td>\n    </tr>\n  </tbody>\n</table>\n</div>"
     },
     "metadata": {}
    }
   ]
  },
  {
   "cell_type": "markdown",
   "source": "### Exercise 2: Accessing Comments in Reddit\n\nThe comments are accessible via the psaw method `api.search_comments`. For the list of acceptable parameters, head over https://github.com/pushshift/api#search-parameters-for-comments. \n\n<div class=\"alert alert-info\">\n\n**Exercise 2.1:** Search comments containing the words \"sociology\" with `score` greater than 1000. Do the following afterwards - \n- Make a dataframe of the entried returned by the query\n- convert the `created_utc` column to a more human-readable datetime format\n</div>\n\n",
   "metadata": {
    "tags": [],
    "cell_id": "00035-fae1ef7a-ee8b-4b13-82b9-30959f414965",
    "deepnote_cell_type": "markdown",
    "deepnote_cell_height": 317.1333312988281
   }
  },
  {
   "cell_type": "code",
   "metadata": {
    "tags": [],
    "deepnote_to_be_reexecuted": false,
    "source_hash": "c38626df",
    "execution_start": 1645983236101,
    "execution_millis": 9283,
    "cell_id": "00036-8975515f-ee45-44d2-bd1c-9f76b6df782a",
    "deepnote_cell_type": "code",
    "deepnote_cell_height": 184.06666564941406
   },
   "source": "comments = api.search_comments(q=\"sociology\", score=\">1000\")\ncomments = pd.DataFrame([c.d_ for c in comments])\ncomments['created_utc'] = pd.to_datetime(comments['created_utc'], utc=True, unit='s')",
   "execution_count": null,
   "outputs": [
    {
     "name": "stderr",
     "text": "/root/venv/lib/python3.7/site-packages/psaw/PushshiftAPI.py:252: UserWarning: Not all PushShift shards are active. Query results may be incomplete\n  warnings.warn(shards_down_message)\n",
     "output_type": "stream"
    }
   ]
  },
  {
   "cell_type": "markdown",
   "source": "<div class=\"alert alert-info\">\n\n**Exercise 2.2:** Let's look at the content of the comments\n- Check which key of the entries contain the content of the comments\n- have a look at the score, text and subreddit of the comments we collected\n</div>\n",
   "metadata": {
    "tags": [],
    "cell_id": "00037-2d6ada7e-12d2-4ffb-a5c3-3845a026264a",
    "deepnote_cell_type": "markdown",
    "deepnote_cell_height": 165.53334045410156
   }
  },
  {
   "cell_type": "code",
   "metadata": {
    "tags": [],
    "deepnote_to_be_reexecuted": false,
    "source_hash": "7c0f2877",
    "execution_start": 1645983245402,
    "execution_millis": 21,
    "cell_id": "00038-20ee9730-90d0-4e8e-b3b9-3a7211270952",
    "deepnote_cell_type": "code",
    "deepnote_cell_height": 596.6666870117188
   },
   "source": "comments[['score', 'body', 'subreddit']].sample(10)",
   "execution_count": null,
   "outputs": [
    {
     "output_type": "execute_result",
     "execution_count": 18,
     "data": {
      "application/vnd.deepnote.dataframe.v3+json": {
       "column_count": 3,
       "row_count": 10,
       "columns": [
        {
         "name": "score",
         "dtype": "int64",
         "stats": {
          "unique_count": 10,
          "nan_count": 0,
          "min": "1049",
          "max": "14770",
          "histogram": [
           {
            "bin_start": 1049,
            "bin_end": 2421.1,
            "count": 7
           },
           {
            "bin_start": 2421.1,
            "bin_end": 3793.2,
            "count": 0
           },
           {
            "bin_start": 3793.2,
            "bin_end": 5165.299999999999,
            "count": 1
           },
           {
            "bin_start": 5165.299999999999,
            "bin_end": 6537.4,
            "count": 0
           },
           {
            "bin_start": 6537.4,
            "bin_end": 7909.5,
            "count": 0
           },
           {
            "bin_start": 7909.5,
            "bin_end": 9281.599999999999,
            "count": 0
           },
           {
            "bin_start": 9281.599999999999,
            "bin_end": 10653.699999999999,
            "count": 0
           },
           {
            "bin_start": 10653.699999999999,
            "bin_end": 12025.8,
            "count": 1
           },
           {
            "bin_start": 12025.8,
            "bin_end": 13397.9,
            "count": 0
           },
           {
            "bin_start": 13397.9,
            "bin_end": 14770,
            "count": 1
           }
          ]
         }
        },
        {
         "name": "body",
         "dtype": "object",
         "stats": {
          "unique_count": 10,
          "nan_count": 0,
          "categories": [
           {
            "name": "Since few actual former KKK members are responding, I might be able to provide some insight. I attended a few neo-nazi rallies and conducted some informal interviews as a sociology student. It's different than the KKK, but I imagine the reasons for joining are similar.   \n   \nSo, I interviewed about 10 members individually, spoke with a few groups of 3 or 4, and then one larger group of about a dozen. When I asked the individuals why they joined, most seemed genuinely confused or mildly insulted. The confused seemed to never have considered not being a member, and they claimed to have joined as youths and affirmed their beliefs through their teen years. They were raised in it, and all of their friends and family were of similar mindsets.    \n   \nThose who were insulted seemed to think there was an inherent weakness in not actively fighting the \"race war\". They didn't like \"black culture\" or Mexicans or, of course, Jews. But, they also saw cultural trends like smoking, crime, gays and women working as influences of the \"lesser races\". So, I guess you could say they felt obligated to join to support their beliefs.    \n   \nWhen I talked to the small groups (which were mostly the same people), the answers shifted away from growing up in it and more toward duty and obligation. Then, when I talked with the group (again, many of the same people), there was almost no hint of the idea that they were just born into it. All of them were adamant that joining was there choice, and that they made the choice during their late teens or early adult years.    \n   \nI tried really hard not to antagonize or even challenge their beliefs, but after so many changed their stories about joining, I asked the parents in the group if their children were members, and all of them confirmed their kids were members. The kid's ages ranged from 1 to maybe 15ish.    \n    \nOh, and since I was in a hall of members, there weren't any with insight into why they left, but, I could tell during my talks that a few were not active and some were actively not participating in some of their groups functions - presumably because the group think gets to be a bit much for them. There was also one parent who was clearly trying to keep his young boy out of it. That kid was one of the few who believed in things like evolution and global warming.    \n   \nHope that helps, and feel free to ask follow ups if your interested in more of that. It was certainly one of my more interesting weekends.   \n    \nEdits: Apparently people wanted paragraphs... ",
            "count": 1
           },
           {
            "name": "Ok, so last semester I had an intro to sociology class.\n\nWe had a blind girl in the class.  Like not kind of blind, but 100% blind.\n\nThere was a really awkward brony guy who quite obviously had a crush on the blind girl, which is fine.  But his way of getting her attention and flirting was just terrible.\n\nAt the start of the year he'd just sit by her and guide her to her desk (against her wishes, she was quite independent, she had one of those walking cane things) and he'd always try to talk to her and stuff.  And she would talk back, but she obviously wasn't interested.\n\nTowards the end of the year he began to get frustrated with his repeat failed attempts and flirting with her, so he resorted to blind jokes in class.\n\nThis class was a very discussion oriented class and so there was a lot of talking and discussion.  The weird guy would fit in a blind joke any opportunity he could and then after he'd finish laughing to himself outloud (they weren't even funny jokes.  It was so awkward listening to him saying things like, 'MAYBE THEY WERE DEVIANT BECAUSE THEY WERE BLIND' and then laughing to himself very audibly) and then after he finished laughing he'd lean over to the blind girl and say, \"Haha, you know I'm just kidding, right?\" and she'd just nod and say, \"Sure.\"\n\nThere isn't anything in particular that he said that was especially stupid, it was just all stupid.  His constant attempts at flirting, his blind jokes, the awkward laugh he'd do to himself.  Trying to bring up MLP in the class discussions was not uncommon. \n\nHe was really awkward and kind of rude.",
            "count": 1
           },
           {
            "name": "8 others",
            "count": 8
           }
          ]
         }
        },
        {
         "name": "subreddit",
         "dtype": "object",
         "stats": {
          "unique_count": 5,
          "nan_count": 0,
          "categories": [
           {
            "name": "AskReddit",
            "count": 6
           },
           {
            "name": "TrollXChromosomes",
            "count": 1
           },
           {
            "name": "3 others",
            "count": 3
           }
          ]
         }
        },
        {
         "name": "_deepnote_index_column",
         "dtype": "int64"
        }
       ],
       "rows": [
        {
         "score": 1229,
         "body": "Since few actual former KKK members are responding, I might be able to provide some insight. I atte…",
         "subreddit": "AskReddit",
         "_deepnote_index_column": 154
        },
        {
         "score": 1618,
         "body": "Ok, so last semester I had an intro to sociology class.\n\nWe had a blind girl in the class.  Like no…",
         "subreddit": "AskReddit",
         "_deepnote_index_column": 150
        },
        {
         "score": 1049,
         "body": "I had a professor for my first sociology class that had us shout out insults for each gender and sh…",
         "subreddit": "TrollXChromosomes",
         "_deepnote_index_column": 100
        },
        {
         "score": 1725,
         "body": "My sociology teacher in high school used to keep a cabinet full of things to wake sleeping classmat…",
         "subreddit": "funny",
         "_deepnote_index_column": 159
        },
        {
         "score": 1215,
         "body": "This may be the first time that this has been reported in sociology circles, but I remember reading…",
         "subreddit": "science",
         "_deepnote_index_column": 69
        },
        {
         "score": 4314,
         "body": "The Giver- that book made my 9-10 year old mind really think about what was important in society. I…",
         "subreddit": "AskReddit",
         "_deepnote_index_column": 14
        },
        {
         "score": 1660,
         "body": "Basically the worst thing you can do for society and your kids is to be a single mother; by largely…",
         "subreddit": "dataisbeautiful",
         "_deepnote_index_column": 82
        },
        {
         "score": 11028,
         "body": "I hired a man with a bachelor's in psychology, a masters in sociology, and a masters in anthropolog…",
         "subreddit": "AskReddit",
         "_deepnote_index_column": 87
        },
        {
         "score": 1184,
         "body": "I really like these arguments, and - as a pinko, commie, liberal - I think they can be adapted to b…",
         "subreddit": "AskReddit",
         "_deepnote_index_column": 171
        },
        {
         "score": 14770,
         "body": "This was a long time ago, I'm not a teacher but was doing a co-op placement as an educational assis…",
         "subreddit": "AskReddit",
         "_deepnote_index_column": 62
        }
       ]
      },
      "text/plain": "     score                                               body  \\\n154   1229  Since few actual former KKK members are respon...   \n150   1618  Ok, so last semester I had an intro to sociolo...   \n100   1049  I had a professor for my first sociology class...   \n159   1725  My sociology teacher in high school used to ke...   \n69    1215  This may be the first time that this has been ...   \n14    4314  The Giver- that book made my 9-10 year old min...   \n82    1660  Basically the worst thing you can do for socie...   \n87   11028  I hired a man with a bachelor's in psychology,...   \n171   1184  I really like these arguments, and - as a pink...   \n62   14770  This was a long time ago, I'm not a teacher bu...   \n\n             subreddit  \n154          AskReddit  \n150          AskReddit  \n100  TrollXChromosomes  \n159              funny  \n69             science  \n14           AskReddit  \n82     dataisbeautiful  \n87           AskReddit  \n171          AskReddit  \n62           AskReddit  ",
      "text/html": "<div>\n<style scoped>\n    .dataframe tbody tr th:only-of-type {\n        vertical-align: middle;\n    }\n\n    .dataframe tbody tr th {\n        vertical-align: top;\n    }\n\n    .dataframe thead th {\n        text-align: right;\n    }\n</style>\n<table border=\"1\" class=\"dataframe\">\n  <thead>\n    <tr style=\"text-align: right;\">\n      <th></th>\n      <th>score</th>\n      <th>body</th>\n      <th>subreddit</th>\n    </tr>\n  </thead>\n  <tbody>\n    <tr>\n      <th>154</th>\n      <td>1229</td>\n      <td>Since few actual former KKK members are respon...</td>\n      <td>AskReddit</td>\n    </tr>\n    <tr>\n      <th>150</th>\n      <td>1618</td>\n      <td>Ok, so last semester I had an intro to sociolo...</td>\n      <td>AskReddit</td>\n    </tr>\n    <tr>\n      <th>100</th>\n      <td>1049</td>\n      <td>I had a professor for my first sociology class...</td>\n      <td>TrollXChromosomes</td>\n    </tr>\n    <tr>\n      <th>159</th>\n      <td>1725</td>\n      <td>My sociology teacher in high school used to ke...</td>\n      <td>funny</td>\n    </tr>\n    <tr>\n      <th>69</th>\n      <td>1215</td>\n      <td>This may be the first time that this has been ...</td>\n      <td>science</td>\n    </tr>\n    <tr>\n      <th>14</th>\n      <td>4314</td>\n      <td>The Giver- that book made my 9-10 year old min...</td>\n      <td>AskReddit</td>\n    </tr>\n    <tr>\n      <th>82</th>\n      <td>1660</td>\n      <td>Basically the worst thing you can do for socie...</td>\n      <td>dataisbeautiful</td>\n    </tr>\n    <tr>\n      <th>87</th>\n      <td>11028</td>\n      <td>I hired a man with a bachelor's in psychology,...</td>\n      <td>AskReddit</td>\n    </tr>\n    <tr>\n      <th>171</th>\n      <td>1184</td>\n      <td>I really like these arguments, and - as a pink...</td>\n      <td>AskReddit</td>\n    </tr>\n    <tr>\n      <th>62</th>\n      <td>14770</td>\n      <td>This was a long time ago, I'm not a teacher bu...</td>\n      <td>AskReddit</td>\n    </tr>\n  </tbody>\n</table>\n</div>"
     },
     "metadata": {}
    }
   ]
  },
  {
   "cell_type": "markdown",
   "source": "To search for multiple phrases in posts — such as posts that mention sociology AND internet — we can use parentheses and the bitwise AND operator &: `query = \"(sociology) & (internet)\"`\n\n<div class=\"alert alert-info\">\n\n**Exercise 2.3:** Let's look at the comments that contain the above query\n- make a dataframe of the entries returned by the above query\n- convert the `created_utc` column in a human-readable format\n- Sort the resulting dataframe by ascending value of their scores;  check out https://pandas.pydata.org/docs/reference/api/pandas.DataFrame.sort_values.html\n- have a look at the score, text and subreddit of the comments we collected\n</div>\n",
   "metadata": {
    "tags": [],
    "cell_id": "00039-360ae031-9719-4eac-a3e7-bece3b310c6a",
    "deepnote_cell_type": "markdown",
    "deepnote_cell_height": 298.20001220703125
   }
  },
  {
   "cell_type": "code",
   "metadata": {
    "tags": [],
    "deepnote_to_be_reexecuted": false,
    "source_hash": "6578dd32",
    "execution_start": 1645983245428,
    "execution_millis": 778,
    "cell_id": "00040-016377d9-31a1-4465-87ea-346764654f27",
    "deepnote_cell_type": "code",
    "deepnote_cell_height": 220.06666564941406
   },
   "source": "query = \"(sociology) & (internet)\"\n\ncomments = api.search_comments(q=query, score=\">100\")\ncomments = pd.DataFrame([c.d_ for c in comments])\ncomments['created_utc'] = pd.to_datetime(comments['created_utc'], utc=True, unit='s')",
   "execution_count": null,
   "outputs": [
    {
     "name": "stderr",
     "text": "/root/venv/lib/python3.7/site-packages/psaw/PushshiftAPI.py:252: UserWarning: Not all PushShift shards are active. Query results may be incomplete\n  warnings.warn(shards_down_message)\n",
     "output_type": "stream"
    }
   ]
  },
  {
   "cell_type": "code",
   "metadata": {
    "tags": [],
    "deepnote_to_be_reexecuted": false,
    "source_hash": "942f1de",
    "execution_start": 1645983245995,
    "execution_millis": 0,
    "cell_id": "00041-6946258a-3291-4290-9cad-f254c7ea4153",
    "deepnote_cell_type": "code",
    "deepnote_cell_height": 98.33332824707031
   },
   "source": "# Let's sort comments by decreasing score:\ncomments = comments.sort_values(by='score', ascending=False)",
   "execution_count": null,
   "outputs": []
  },
  {
   "cell_type": "code",
   "metadata": {
    "tags": [],
    "deepnote_to_be_reexecuted": false,
    "source_hash": "89d08070",
    "execution_start": 1645983245996,
    "execution_millis": 391,
    "cell_id": "00042-13088c2a-81ec-4e41-a869-500a8a8bf844",
    "deepnote_cell_type": "code",
    "deepnote_cell_height": 614.6666870117188
   },
   "source": "# The top 10 comments:\ncomments[['score', 'body', 'subreddit']].head(10)",
   "execution_count": null,
   "outputs": [
    {
     "output_type": "execute_result",
     "execution_count": 21,
     "data": {
      "application/vnd.deepnote.dataframe.v3+json": {
       "column_count": 3,
       "row_count": 10,
       "columns": [
        {
         "name": "score",
         "dtype": "int64",
         "stats": {
          "unique_count": 10,
          "nan_count": 0,
          "min": "666",
          "max": "3099",
          "histogram": [
           {
            "bin_start": 666,
            "bin_end": 909.3,
            "count": 7
           },
           {
            "bin_start": 909.3,
            "bin_end": 1152.6,
            "count": 0
           },
           {
            "bin_start": 1152.6,
            "bin_end": 1395.9,
            "count": 1
           },
           {
            "bin_start": 1395.9,
            "bin_end": 1639.2,
            "count": 0
           },
           {
            "bin_start": 1639.2,
            "bin_end": 1882.5,
            "count": 0
           },
           {
            "bin_start": 1882.5,
            "bin_end": 2125.8,
            "count": 0
           },
           {
            "bin_start": 2125.8,
            "bin_end": 2369.1000000000004,
            "count": 1
           },
           {
            "bin_start": 2369.1000000000004,
            "bin_end": 2612.4,
            "count": 0
           },
           {
            "bin_start": 2612.4,
            "bin_end": 2855.7000000000003,
            "count": 0
           },
           {
            "bin_start": 2855.7000000000003,
            "bin_end": 3099,
            "count": 1
           }
          ]
         }
        },
        {
         "name": "body",
         "dtype": "object",
         "stats": {
          "unique_count": 10,
          "nan_count": 0,
          "categories": [
           {
            "name": "From the link:\n\nMartino’s tirade in the video, however, isn’t related to an actual classroom rule. It’s a lesson in negative reinforcement, and the over-the-top antics, she said, were all part of the lesson. Of course, that part of her class wasn't videotaped and shared.\n\n“If you only tell kids what not to do, all you’re doing is filling their heads with garbage. Instead, if you say, ‘Hey how about a kiwi, shouldn’t we have a kiwi now,’ the kid might go, ‘OK.’ If you tell them what not to do, then that’s what’s going in,” Martino told a local NBC affiliate.\n\nThe video, however, doesn’t convey the underlying psychological principles of the exercise. Cut up and posted on the internet, it's a perfect mix for going viral, being both bizarre and seemingly inexplicable.\n\nFar-right news site Breitbart ran an article on the video -- titled \"Iowa Professor Goes on Bizarre Rant About Pomegranates\" -- where commenters pounced on the notion of a screaming liberal professor.\n\n“In my personal experience, psychology professors are all nuts,” the top comment reads. “Sociology professors hate society, and psychology professors hate themselves.”\nIn a later reply, a commenter calls social workers “left-wing nuts” and labels psychology “a joke.”\n\nThose who have actually taken Martino’s classes, on the other hand, had positive things to say, telling the NBC affiliate that she treats them like family.\n\n“Don’t judge someone by a little 20-second video. Just be sure to know the full details, and then after that you can actually judge them and see what you think is right and wrong,\" said Bernardo Pantoja, one of Martino's students.",
            "count": 1
           },
           {
            "name": "I'm a huge fan of Milgram's Small World Experiment. It is more sociology than psychology, but I still think it is really cool.\nMilgram sends out 160 letters containing the name and address of a stockbroker in Boston to people in Omaha, Nebraska. They had to send it to someone they thought would get the letter closer, but they couldn't mail it directly to the stockbroker.\nInterestingly, most people that sent on the letter sent it on to the same group of people on the 5th degree. It only took 6 people (hence the six degrees of separation) to arrive, on average. It shows how interconnected our world is, even before the internet, which is happy to think about.",
            "count": 1
           },
           {
            "name": "8 others",
            "count": 8
           }
          ]
         }
        },
        {
         "name": "subreddit",
         "dtype": "object",
         "stats": {
          "unique_count": 7,
          "nan_count": 0,
          "categories": [
           {
            "name": "AskReddit",
            "count": 4
           },
           {
            "name": "todayilearned",
            "count": 1
           },
           {
            "name": "5 others",
            "count": 5
           }
          ]
         }
        },
        {
         "name": "_deepnote_index_column",
         "dtype": "int64"
        }
       ],
       "rows": [
        {
         "score": 3099,
         "body": "From the link:\n\nMartino’s tirade in the video, however, isn’t related to an actual classroom rule. …",
         "subreddit": "AskReddit",
         "_deepnote_index_column": 8
        },
        {
         "score": 2141,
         "body": "I'm a huge fan of Milgram's Small World Experiment. It is more sociology than psychology, but I sti…",
         "subreddit": "AskReddit",
         "_deepnote_index_column": 10
        },
        {
         "score": 1196,
         "body": "I had to attend one of those \"don't touch kid\" seminars to work at a Catholic school. You start by …",
         "subreddit": "AskReddit",
         "_deepnote_index_column": 55
        },
        {
         "score": 876,
         "body": "Reformed (former) employee of the Textbook industry here.  I would do an AMA for a nickel, but I am…",
         "subreddit": "todayilearned",
         "_deepnote_index_column": 44
        },
        {
         "score": 863,
         "body": "*Final edit: Science, the reason no one listens to us is because our unrelenting need for absolute …",
         "subreddit": "explainlikeimfive",
         "_deepnote_index_column": 52
        },
        {
         "score": 833,
         "body": "I have insomnia and it's Sunday. I have nothing but time!\n\nI'll preface this with saying I am not a…",
         "subreddit": "AskReddit",
         "_deepnote_index_column": 58
        },
        {
         "score": 819,
         "body": "You gotta understand your internet goblin demographics and sociology for this one. Reddit isnt that…",
         "subreddit": "memes",
         "_deepnote_index_column": 2
        },
        {
         "score": 722,
         "body": "Block 11, and we're getting to the important questions! Starred stuff isn't from me, and I can't vo…",
         "subreddit": "xkcd",
         "_deepnote_index_column": 50
        },
        {
         "score": 670,
         "body": "Maybe the OP won't ever read this, but I'm writing it as much for me as for him.\n\nIn the real world…",
         "subreddit": "atheism",
         "_deepnote_index_column": 59
        },
        {
         "score": 666,
         "body": "Don't worry. It's just a bunch of young twenty somethings with massive amounts of debt unable to co…",
         "subreddit": "worldnews",
         "_deepnote_index_column": 33
        }
       ]
      },
      "text/plain": "    score                                               body  \\\n8    3099  From the link:\\n\\nMartino’s tirade in the vide...   \n10   2141  I'm a huge fan of Milgram's Small World Experi...   \n55   1196  I had to attend one of those \"don't touch kid\"...   \n44    876  Reformed (former) employee of the Textbook ind...   \n52    863  *Final edit: Science, the reason no one listen...   \n58    833  I have insomnia and it's Sunday. I have nothin...   \n2     819  You gotta understand your internet goblin demo...   \n50    722  Block 11, and we're getting to the important q...   \n59    670  Maybe the OP won't ever read this, but I'm wri...   \n33    666  Don't worry. It's just a bunch of young twenty...   \n\n            subreddit  \n8           AskReddit  \n10          AskReddit  \n55          AskReddit  \n44      todayilearned  \n52  explainlikeimfive  \n58          AskReddit  \n2               memes  \n50               xkcd  \n59            atheism  \n33          worldnews  ",
      "text/html": "<div>\n<style scoped>\n    .dataframe tbody tr th:only-of-type {\n        vertical-align: middle;\n    }\n\n    .dataframe tbody tr th {\n        vertical-align: top;\n    }\n\n    .dataframe thead th {\n        text-align: right;\n    }\n</style>\n<table border=\"1\" class=\"dataframe\">\n  <thead>\n    <tr style=\"text-align: right;\">\n      <th></th>\n      <th>score</th>\n      <th>body</th>\n      <th>subreddit</th>\n    </tr>\n  </thead>\n  <tbody>\n    <tr>\n      <th>8</th>\n      <td>3099</td>\n      <td>From the link:\\n\\nMartino’s tirade in the vide...</td>\n      <td>AskReddit</td>\n    </tr>\n    <tr>\n      <th>10</th>\n      <td>2141</td>\n      <td>I'm a huge fan of Milgram's Small World Experi...</td>\n      <td>AskReddit</td>\n    </tr>\n    <tr>\n      <th>55</th>\n      <td>1196</td>\n      <td>I had to attend one of those \"don't touch kid\"...</td>\n      <td>AskReddit</td>\n    </tr>\n    <tr>\n      <th>44</th>\n      <td>876</td>\n      <td>Reformed (former) employee of the Textbook ind...</td>\n      <td>todayilearned</td>\n    </tr>\n    <tr>\n      <th>52</th>\n      <td>863</td>\n      <td>*Final edit: Science, the reason no one listen...</td>\n      <td>explainlikeimfive</td>\n    </tr>\n    <tr>\n      <th>58</th>\n      <td>833</td>\n      <td>I have insomnia and it's Sunday. I have nothin...</td>\n      <td>AskReddit</td>\n    </tr>\n    <tr>\n      <th>2</th>\n      <td>819</td>\n      <td>You gotta understand your internet goblin demo...</td>\n      <td>memes</td>\n    </tr>\n    <tr>\n      <th>50</th>\n      <td>722</td>\n      <td>Block 11, and we're getting to the important q...</td>\n      <td>xkcd</td>\n    </tr>\n    <tr>\n      <th>59</th>\n      <td>670</td>\n      <td>Maybe the OP won't ever read this, but I'm wri...</td>\n      <td>atheism</td>\n    </tr>\n    <tr>\n      <th>33</th>\n      <td>666</td>\n      <td>Don't worry. It's just a bunch of young twenty...</td>\n      <td>worldnews</td>\n    </tr>\n  </tbody>\n</table>\n</div>"
     },
     "metadata": {}
    }
   ]
  },
  {
   "cell_type": "markdown",
   "source": "### Exercise 3: Accessing User data in Reddit\n\n<div class=\"alert alert-info\">\n\n**Exercise 3.1:** Find comments made by a user `nasa`: limit the query to 1000 entries. \n- Make a dataframe of the entries returned by the API\n- convert `created_utc` to a human-readable format\n- count the number of comments that `nasa` made on each subreddit. checkout https://pandas.pydata.org/docs/reference/api/pandas.Series.value_counts.html to do so.\n</div>",
   "metadata": {
    "tags": [],
    "cell_id": "00043-39d7a4c6-a88e-47f6-908b-2093e0753a52",
    "deepnote_cell_type": "markdown",
    "deepnote_cell_height": 261.66668701171875
   }
  },
  {
   "cell_type": "code",
   "metadata": {
    "tags": [],
    "deepnote_to_be_reexecuted": false,
    "source_hash": "51b42223",
    "execution_start": 1645983246013,
    "execution_millis": 9270,
    "cell_id": "00044-96c19cc8-90aa-4b61-b9e5-d793d6d7436c",
    "deepnote_cell_type": "code",
    "deepnote_cell_height": 281.5333251953125
   },
   "source": "user_comments = api.search_comments(author='nasa', limit=1000)\ndf_user_comments = pd.DataFrame([c.d_ for c in user_comments])\ndf_user_comments['created_utc'] = pd.to_datetime(df_user_comments['created_utc'], utc=True, unit='s')\n",
   "execution_count": null,
   "outputs": [
    {
     "name": "stderr",
     "text": "/root/venv/lib/python3.7/site-packages/psaw/PushshiftAPI.py:252: UserWarning: Not all PushShift shards are active. Query results may be incomplete\n  warnings.warn(shards_down_message)\n/root/venv/lib/python3.7/site-packages/psaw/PushshiftAPI.py:192: UserWarning: Got non 200 code 429\n  warnings.warn(\"Got non 200 code %s\" % response.status_code)\n/root/venv/lib/python3.7/site-packages/psaw/PushshiftAPI.py:180: UserWarning: Unable to connect to pushshift.io. Retrying after backoff.\n  warnings.warn(\"Unable to connect to pushshift.io. Retrying after backoff.\")\n",
     "output_type": "stream"
    }
   ]
  },
  {
   "cell_type": "code",
   "metadata": {
    "tags": [],
    "deepnote_to_be_reexecuted": false,
    "source_hash": "e4f50b8e",
    "execution_start": 1645983255314,
    "execution_millis": 23,
    "cell_id": "00045-baf0e4b9-c6ef-416a-937f-020ca4b4f572",
    "deepnote_cell_type": "code",
    "deepnote_cell_height": 596.6666870117188
   },
   "source": "df_user_comments[['subreddit', 'created_utc']].sample(10)",
   "execution_count": null,
   "outputs": [
    {
     "output_type": "execute_result",
     "execution_count": 23,
     "data": {
      "application/vnd.deepnote.dataframe.v3+json": {
       "column_count": 2,
       "row_count": 10,
       "columns": [
        {
         "name": "subreddit",
         "dtype": "object",
         "stats": {
          "unique_count": 3,
          "nan_count": 0,
          "categories": [
           {
            "name": "space",
            "count": 6
           },
           {
            "name": "askscience",
            "count": 2
           },
           {
            "name": "u_nasa",
            "count": 2
           }
          ]
         }
        },
        {
         "name": "created_utc",
         "dtype": "datetime64[ns, UTC]",
         "stats": {
          "unique_count": 10,
          "nan_count": 0,
          "min": "2021-03-16 18:25:12+00:00",
          "max": "2022-02-11 20:12:00+00:00",
          "histogram": [
           {
            "bin_start": 1615919112000000000,
            "bin_end": 1618788232800000000,
            "count": 3
           },
           {
            "bin_start": 1618788232800000000,
            "bin_end": 1621657353600000000,
            "count": 2
           },
           {
            "bin_start": 1621657353600000000,
            "bin_end": 1624526474400000000,
            "count": 0
           },
           {
            "bin_start": 1624526474400000000,
            "bin_end": 1627395595200000000,
            "count": 0
           },
           {
            "bin_start": 1627395595200000000,
            "bin_end": 1630264716000000000,
            "count": 2
           },
           {
            "bin_start": 1630264716000000000,
            "bin_end": 1633133836800000000,
            "count": 0
           },
           {
            "bin_start": 1633133836800000000,
            "bin_end": 1636002957600000000,
            "count": 0
           },
           {
            "bin_start": 1636002957600000000,
            "bin_end": 1638872078400000000,
            "count": 0
           },
           {
            "bin_start": 1638872078400000000,
            "bin_end": 1641741199200000000,
            "count": 2
           },
           {
            "bin_start": 1641741199200000000,
            "bin_end": 1644610320000000000,
            "count": 1
           }
          ]
         }
        },
        {
         "name": "_deepnote_index_column",
         "dtype": "int64"
        }
       ],
       "rows": [
        {
         "subreddit": "space",
         "created_utc": "2021-08-24T19:58:10.000000",
         "_deepnote_index_column": 302
        },
        {
         "subreddit": "space",
         "created_utc": "2021-04-16T18:55:39.000000",
         "_deepnote_index_column": 774
        },
        {
         "subreddit": "space",
         "created_utc": "2021-05-07T18:18:26.000000",
         "_deepnote_index_column": 494
        },
        {
         "subreddit": "space",
         "created_utc": "2021-03-16T18:25:12.000000",
         "_deepnote_index_column": 861
        },
        {
         "subreddit": "askscience",
         "created_utc": "2021-12-16T18:23:56.000000",
         "_deepnote_index_column": 91
        },
        {
         "subreddit": "askscience",
         "created_utc": "2021-08-17T20:25:25.000000",
         "_deepnote_index_column": 331
        },
        {
         "subreddit": "u_nasa",
         "created_utc": "2021-12-14T22:32:22.000000",
         "_deepnote_index_column": 109
        },
        {
         "subreddit": "space",
         "created_utc": "2021-04-19T20:10:44.000000",
         "_deepnote_index_column": 703
        },
        {
         "subreddit": "u_nasa",
         "created_utc": "2022-02-11T20:12:00.000000",
         "_deepnote_index_column": 4
        },
        {
         "subreddit": "space",
         "created_utc": "2021-03-16T18:25:38.000000",
         "_deepnote_index_column": 860
        }
       ]
      },
      "text/plain": "      subreddit               created_utc\n302       space 2021-08-24 19:58:10+00:00\n774       space 2021-04-16 18:55:39+00:00\n494       space 2021-05-07 18:18:26+00:00\n861       space 2021-03-16 18:25:12+00:00\n91   askscience 2021-12-16 18:23:56+00:00\n331  askscience 2021-08-17 20:25:25+00:00\n109      u_nasa 2021-12-14 22:32:22+00:00\n703       space 2021-04-19 20:10:44+00:00\n4        u_nasa 2022-02-11 20:12:00+00:00\n860       space 2021-03-16 18:25:38+00:00",
      "text/html": "<div>\n<style scoped>\n    .dataframe tbody tr th:only-of-type {\n        vertical-align: middle;\n    }\n\n    .dataframe tbody tr th {\n        vertical-align: top;\n    }\n\n    .dataframe thead th {\n        text-align: right;\n    }\n</style>\n<table border=\"1\" class=\"dataframe\">\n  <thead>\n    <tr style=\"text-align: right;\">\n      <th></th>\n      <th>subreddit</th>\n      <th>created_utc</th>\n    </tr>\n  </thead>\n  <tbody>\n    <tr>\n      <th>302</th>\n      <td>space</td>\n      <td>2021-08-24 19:58:10+00:00</td>\n    </tr>\n    <tr>\n      <th>774</th>\n      <td>space</td>\n      <td>2021-04-16 18:55:39+00:00</td>\n    </tr>\n    <tr>\n      <th>494</th>\n      <td>space</td>\n      <td>2021-05-07 18:18:26+00:00</td>\n    </tr>\n    <tr>\n      <th>861</th>\n      <td>space</td>\n      <td>2021-03-16 18:25:12+00:00</td>\n    </tr>\n    <tr>\n      <th>91</th>\n      <td>askscience</td>\n      <td>2021-12-16 18:23:56+00:00</td>\n    </tr>\n    <tr>\n      <th>331</th>\n      <td>askscience</td>\n      <td>2021-08-17 20:25:25+00:00</td>\n    </tr>\n    <tr>\n      <th>109</th>\n      <td>u_nasa</td>\n      <td>2021-12-14 22:32:22+00:00</td>\n    </tr>\n    <tr>\n      <th>703</th>\n      <td>space</td>\n      <td>2021-04-19 20:10:44+00:00</td>\n    </tr>\n    <tr>\n      <th>4</th>\n      <td>u_nasa</td>\n      <td>2022-02-11 20:12:00+00:00</td>\n    </tr>\n    <tr>\n      <th>860</th>\n      <td>space</td>\n      <td>2021-03-16 18:25:38+00:00</td>\n    </tr>\n  </tbody>\n</table>\n</div>"
     },
     "metadata": {}
    }
   ]
  },
  {
   "cell_type": "code",
   "metadata": {
    "tags": [],
    "deepnote_to_be_reexecuted": false,
    "source_hash": "957eee61",
    "execution_start": 1645983255335,
    "execution_millis": 8,
    "cell_id": "00046-81e0eabb-ee1f-46b4-ba42-274235f2983c",
    "deepnote_cell_type": "code",
    "deepnote_cell_height": 290,
    "deepnote_output_heights": [
     194
    ]
   },
   "source": "df_user_comments['subreddit'].value_counts()",
   "execution_count": null,
   "outputs": [
    {
     "output_type": "execute_result",
     "execution_count": 24,
     "data": {
      "text/plain": "space         402\naskscience    219\nIAmA          203\nFuturology     42\nsoftware       36\nu_nasa         35\nhistory        35\nnasa           27\nsurvivor        1\nName: subreddit, dtype: int64"
     },
     "metadata": {}
    }
   ]
  },
  {
   "cell_type": "markdown",
   "source": "## Homework: Subreddits of users that posts about OII\n\n\n<div class=\"alert alert-info\">\n\n- Write a function `subreddit_of_user` that takes in a string input `username` and returns a `list` of unique subreddits on which that `username` comments. \n- Find out all those posts with score `>10` that contain the keyword - \"Oxford Internet Institute\" \n- Find out the list of unique authors in the entries returned above\n- call `subreddit_of_user` on each of the authors found above\n</div>\n\n",
   "metadata": {
    "tags": [],
    "cell_id": "00047-c7bb3bfa-b073-4ac4-a0dc-aea6a6b0cb78",
    "deepnote_cell_type": "markdown",
    "deepnote_cell_height": 302
   }
  },
  {
   "cell_type": "code",
   "metadata": {
    "tags": [],
    "deepnote_to_be_reexecuted": false,
    "source_hash": "13d578e0",
    "execution_start": 1645983255344,
    "execution_millis": 2,
    "cell_id": "00048-e4d2b32e-db56-44aa-b7fb-d9f8cd72f0df",
    "deepnote_cell_type": "code",
    "deepnote_cell_height": 152.3333282470703
   },
   "source": "def subreddits_of_user(username):\n    user_comments = api.search_comments(author=username, limit=1000)\n    df_user_comments = pd.DataFrame([c.d_ for c in user_comments])\n    \n    return list(set(df_user_comments.subreddit))",
   "execution_count": null,
   "outputs": []
  },
  {
   "cell_type": "code",
   "metadata": {
    "tags": [],
    "deepnote_to_be_reexecuted": false,
    "source_hash": "c28b548c",
    "execution_start": 1645983257296,
    "execution_millis": 46264,
    "cell_id": "00049-fab021c8-c68d-4b6c-8a7f-84508740e9e9",
    "deepnote_cell_type": "code",
    "deepnote_cell_height": 491
   },
   "source": "posts_oii = api.search_submissions(q='\"Oxford Internet Institute\"', score=\">10\")\ndf_posts_oii = pd.DataFrame([p.d_ for p in posts_oii])\n\nlist_of_usernames = df_posts_oii.author\n\nfor user in list_of_usernames:\n    print(user)\n    print(subreddits_of_user(user))",
   "execution_count": null,
   "outputs": [
    {
     "name": "stderr",
     "text": "/root/venv/lib/python3.7/site-packages/psaw/PushshiftAPI.py:252: UserWarning: Not all PushShift shards are active. Query results may be incomplete\n  warnings.warn(shards_down_message)\nCianobaxter\n['gadgets', 'holdmycosmo', 'DireitoDigital', 'direitoetecnologia', 'aww', 'ProgrammerHumor', 'brasil', 'direito']\nautotldr\n/root/venv/lib/python3.7/site-packages/psaw/PushshiftAPI.py:192: UserWarning: Got non 200 code 429\n  warnings.warn(\"Got non 200 code %s\" % response.status_code)\n/root/venv/lib/python3.7/site-packages/psaw/PushshiftAPI.py:180: UserWarning: Unable to connect to pushshift.io. Retrying after backoff.\n  warnings.warn(\"Unable to connect to pushshift.io. Retrying after backoff.\")\n",
     "output_type": "stream"
    },
    {
     "output_type": "error",
     "ename": "KeyboardInterrupt",
     "evalue": "",
     "traceback": [
      "\u001b[0;31m---------------------------------------------------------------------------\u001b[0m",
      "\u001b[0;31mKeyboardInterrupt\u001b[0m                         Traceback (most recent call last)",
      "\u001b[0;32m<ipython-input-26-42b5e557b9dd>\u001b[0m in \u001b[0;36m<module>\u001b[0;34m\u001b[0m\n\u001b[1;32m      6\u001b[0m \u001b[0;32mfor\u001b[0m \u001b[0muser\u001b[0m \u001b[0;32min\u001b[0m \u001b[0mlist_of_usernames\u001b[0m\u001b[0;34m:\u001b[0m\u001b[0;34m\u001b[0m\u001b[0;34m\u001b[0m\u001b[0m\n\u001b[1;32m      7\u001b[0m     \u001b[0mprint\u001b[0m\u001b[0;34m(\u001b[0m\u001b[0muser\u001b[0m\u001b[0;34m)\u001b[0m\u001b[0;34m\u001b[0m\u001b[0;34m\u001b[0m\u001b[0m\n\u001b[0;32m----> 8\u001b[0;31m     \u001b[0mprint\u001b[0m\u001b[0;34m(\u001b[0m\u001b[0msubreddits_of_user\u001b[0m\u001b[0;34m(\u001b[0m\u001b[0muser\u001b[0m\u001b[0;34m)\u001b[0m\u001b[0;34m)\u001b[0m\u001b[0;34m\u001b[0m\u001b[0;34m\u001b[0m\u001b[0m\n\u001b[0m",
      "\u001b[0;32m<ipython-input-25-83ad4b02b593>\u001b[0m in \u001b[0;36msubreddits_of_user\u001b[0;34m(username)\u001b[0m\n\u001b[1;32m      1\u001b[0m \u001b[0;32mdef\u001b[0m \u001b[0msubreddits_of_user\u001b[0m\u001b[0;34m(\u001b[0m\u001b[0musername\u001b[0m\u001b[0;34m)\u001b[0m\u001b[0;34m:\u001b[0m\u001b[0;34m\u001b[0m\u001b[0;34m\u001b[0m\u001b[0m\n\u001b[1;32m      2\u001b[0m     \u001b[0muser_comments\u001b[0m \u001b[0;34m=\u001b[0m \u001b[0mapi\u001b[0m\u001b[0;34m.\u001b[0m\u001b[0msearch_comments\u001b[0m\u001b[0;34m(\u001b[0m\u001b[0mauthor\u001b[0m\u001b[0;34m=\u001b[0m\u001b[0musername\u001b[0m\u001b[0;34m,\u001b[0m \u001b[0mlimit\u001b[0m\u001b[0;34m=\u001b[0m\u001b[0;36m1000\u001b[0m\u001b[0;34m)\u001b[0m\u001b[0;34m\u001b[0m\u001b[0;34m\u001b[0m\u001b[0m\n\u001b[0;32m----> 3\u001b[0;31m     \u001b[0mdf_user_comments\u001b[0m \u001b[0;34m=\u001b[0m \u001b[0mpd\u001b[0m\u001b[0;34m.\u001b[0m\u001b[0mDataFrame\u001b[0m\u001b[0;34m(\u001b[0m\u001b[0;34m[\u001b[0m\u001b[0mc\u001b[0m\u001b[0;34m.\u001b[0m\u001b[0md_\u001b[0m \u001b[0;32mfor\u001b[0m \u001b[0mc\u001b[0m \u001b[0;32min\u001b[0m \u001b[0muser_comments\u001b[0m\u001b[0;34m]\u001b[0m\u001b[0;34m)\u001b[0m\u001b[0;34m\u001b[0m\u001b[0;34m\u001b[0m\u001b[0m\n\u001b[0m\u001b[1;32m      4\u001b[0m \u001b[0;34m\u001b[0m\u001b[0m\n\u001b[1;32m      5\u001b[0m     \u001b[0;32mreturn\u001b[0m \u001b[0mlist\u001b[0m\u001b[0;34m(\u001b[0m\u001b[0mset\u001b[0m\u001b[0;34m(\u001b[0m\u001b[0mdf_user_comments\u001b[0m\u001b[0;34m.\u001b[0m\u001b[0msubreddit\u001b[0m\u001b[0;34m)\u001b[0m\u001b[0;34m)\u001b[0m\u001b[0;34m\u001b[0m\u001b[0;34m\u001b[0m\u001b[0m\n",
      "\u001b[0;32m<ipython-input-25-83ad4b02b593>\u001b[0m in \u001b[0;36m<listcomp>\u001b[0;34m(.0)\u001b[0m\n\u001b[1;32m      1\u001b[0m \u001b[0;32mdef\u001b[0m \u001b[0msubreddits_of_user\u001b[0m\u001b[0;34m(\u001b[0m\u001b[0musername\u001b[0m\u001b[0;34m)\u001b[0m\u001b[0;34m:\u001b[0m\u001b[0;34m\u001b[0m\u001b[0;34m\u001b[0m\u001b[0m\n\u001b[1;32m      2\u001b[0m     \u001b[0muser_comments\u001b[0m \u001b[0;34m=\u001b[0m \u001b[0mapi\u001b[0m\u001b[0;34m.\u001b[0m\u001b[0msearch_comments\u001b[0m\u001b[0;34m(\u001b[0m\u001b[0mauthor\u001b[0m\u001b[0;34m=\u001b[0m\u001b[0musername\u001b[0m\u001b[0;34m,\u001b[0m \u001b[0mlimit\u001b[0m\u001b[0;34m=\u001b[0m\u001b[0;36m1000\u001b[0m\u001b[0;34m)\u001b[0m\u001b[0;34m\u001b[0m\u001b[0;34m\u001b[0m\u001b[0m\n\u001b[0;32m----> 3\u001b[0;31m     \u001b[0mdf_user_comments\u001b[0m \u001b[0;34m=\u001b[0m \u001b[0mpd\u001b[0m\u001b[0;34m.\u001b[0m\u001b[0mDataFrame\u001b[0m\u001b[0;34m(\u001b[0m\u001b[0;34m[\u001b[0m\u001b[0mc\u001b[0m\u001b[0;34m.\u001b[0m\u001b[0md_\u001b[0m \u001b[0;32mfor\u001b[0m \u001b[0mc\u001b[0m \u001b[0;32min\u001b[0m \u001b[0muser_comments\u001b[0m\u001b[0;34m]\u001b[0m\u001b[0;34m)\u001b[0m\u001b[0;34m\u001b[0m\u001b[0;34m\u001b[0m\u001b[0m\n\u001b[0m\u001b[1;32m      4\u001b[0m \u001b[0;34m\u001b[0m\u001b[0m\n\u001b[1;32m      5\u001b[0m     \u001b[0;32mreturn\u001b[0m \u001b[0mlist\u001b[0m\u001b[0;34m(\u001b[0m\u001b[0mset\u001b[0m\u001b[0;34m(\u001b[0m\u001b[0mdf_user_comments\u001b[0m\u001b[0;34m.\u001b[0m\u001b[0msubreddit\u001b[0m\u001b[0;34m)\u001b[0m\u001b[0;34m)\u001b[0m\u001b[0;34m\u001b[0m\u001b[0;34m\u001b[0m\u001b[0m\n",
      "\u001b[0;32m~/venv/lib/python3.7/site-packages/psaw/PushshiftAPI.py\u001b[0m in \u001b[0;36m_search\u001b[0;34m(self, kind, stop_condition, return_batch, dataset, **kwargs)\u001b[0m\n\u001b[1;32m    236\u001b[0m         \u001b[0mendpoint\u001b[0m \u001b[0;34m=\u001b[0m \u001b[0;34m'{dataset}/{kind}/search'\u001b[0m\u001b[0;34m.\u001b[0m\u001b[0mformat\u001b[0m\u001b[0;34m(\u001b[0m\u001b[0mdataset\u001b[0m\u001b[0;34m=\u001b[0m\u001b[0mdataset\u001b[0m\u001b[0;34m,\u001b[0m \u001b[0mkind\u001b[0m\u001b[0;34m=\u001b[0m\u001b[0mkind\u001b[0m\u001b[0;34m)\u001b[0m\u001b[0;34m\u001b[0m\u001b[0;34m\u001b[0m\u001b[0m\n\u001b[1;32m    237\u001b[0m         \u001b[0murl\u001b[0m \u001b[0;34m=\u001b[0m \u001b[0mself\u001b[0m\u001b[0;34m.\u001b[0m\u001b[0mbase_url\u001b[0m\u001b[0;34m.\u001b[0m\u001b[0mformat\u001b[0m\u001b[0;34m(\u001b[0m\u001b[0mendpoint\u001b[0m\u001b[0;34m=\u001b[0m\u001b[0mendpoint\u001b[0m\u001b[0;34m)\u001b[0m\u001b[0;34m\u001b[0m\u001b[0;34m\u001b[0m\u001b[0m\n\u001b[0;32m--> 238\u001b[0;31m         \u001b[0;32mfor\u001b[0m \u001b[0mresponse\u001b[0m \u001b[0;32min\u001b[0m \u001b[0mself\u001b[0m\u001b[0;34m.\u001b[0m\u001b[0m_handle_paging\u001b[0m\u001b[0;34m(\u001b[0m\u001b[0murl\u001b[0m\u001b[0;34m)\u001b[0m\u001b[0;34m:\u001b[0m\u001b[0;34m\u001b[0m\u001b[0;34m\u001b[0m\u001b[0m\n\u001b[0m\u001b[1;32m    239\u001b[0m             \u001b[0;32mif\u001b[0m \u001b[0;34m'aggs'\u001b[0m \u001b[0;32min\u001b[0m \u001b[0mresponse\u001b[0m\u001b[0;34m:\u001b[0m\u001b[0;34m\u001b[0m\u001b[0;34m\u001b[0m\u001b[0m\n\u001b[1;32m    240\u001b[0m                 \u001b[0;32myield\u001b[0m \u001b[0mresponse\u001b[0m\u001b[0;34m[\u001b[0m\u001b[0;34m'aggs'\u001b[0m\u001b[0;34m]\u001b[0m\u001b[0;34m\u001b[0m\u001b[0;34m\u001b[0m\u001b[0m\n",
      "\u001b[0;32m~/venv/lib/python3.7/site-packages/psaw/PushshiftAPI.py\u001b[0m in \u001b[0;36m_handle_paging\u001b[0;34m(self, url)\u001b[0m\n\u001b[1;32m    213\u001b[0m             \u001b[0mself\u001b[0m\u001b[0;34m.\u001b[0m\u001b[0m_add_nec_args\u001b[0m\u001b[0;34m(\u001b[0m\u001b[0mself\u001b[0m\u001b[0;34m.\u001b[0m\u001b[0mpayload\u001b[0m\u001b[0;34m)\u001b[0m\u001b[0;34m\u001b[0m\u001b[0;34m\u001b[0m\u001b[0m\n\u001b[1;32m    214\u001b[0m \u001b[0;34m\u001b[0m\u001b[0m\n\u001b[0;32m--> 215\u001b[0;31m             \u001b[0mdata\u001b[0m \u001b[0;34m=\u001b[0m \u001b[0mself\u001b[0m\u001b[0;34m.\u001b[0m\u001b[0m_get\u001b[0m\u001b[0;34m(\u001b[0m\u001b[0murl\u001b[0m\u001b[0;34m,\u001b[0m \u001b[0mself\u001b[0m\u001b[0;34m.\u001b[0m\u001b[0mpayload\u001b[0m\u001b[0;34m)\u001b[0m\u001b[0;34m\u001b[0m\u001b[0;34m\u001b[0m\u001b[0m\n\u001b[0m\u001b[1;32m    216\u001b[0m             \u001b[0;32myield\u001b[0m \u001b[0mdata\u001b[0m\u001b[0;34m\u001b[0m\u001b[0;34m\u001b[0m\u001b[0m\n\u001b[1;32m    217\u001b[0m             \u001b[0;32mif\u001b[0m \u001b[0mlimit\u001b[0m \u001b[0;32mis\u001b[0m \u001b[0;32mnot\u001b[0m \u001b[0;32mNone\u001b[0m\u001b[0;34m:\u001b[0m\u001b[0;34m\u001b[0m\u001b[0;34m\u001b[0m\u001b[0m\n",
      "\u001b[0;32m~/venv/lib/python3.7/site-packages/psaw/PushshiftAPI.py\u001b[0m in \u001b[0;36m_get\u001b[0;34m(self, url, payload)\u001b[0m\n\u001b[1;32m    182\u001b[0m             \u001b[0mi\u001b[0m\u001b[0;34m+=\u001b[0m\u001b[0;36m1\u001b[0m\u001b[0;34m\u001b[0m\u001b[0;34m\u001b[0m\u001b[0m\n\u001b[1;32m    183\u001b[0m             \u001b[0;32mtry\u001b[0m\u001b[0;34m:\u001b[0m\u001b[0;34m\u001b[0m\u001b[0;34m\u001b[0m\u001b[0m\n\u001b[0;32m--> 184\u001b[0;31m                 \u001b[0mresponse\u001b[0m \u001b[0;34m=\u001b[0m \u001b[0mrequests\u001b[0m\u001b[0;34m.\u001b[0m\u001b[0mget\u001b[0m\u001b[0;34m(\u001b[0m\u001b[0murl\u001b[0m\u001b[0;34m,\u001b[0m \u001b[0mparams\u001b[0m\u001b[0;34m=\u001b[0m\u001b[0mpayload\u001b[0m\u001b[0;34m,\u001b[0m \u001b[0mproxies\u001b[0m\u001b[0;34m=\u001b[0m\u001b[0mself\u001b[0m\u001b[0;34m.\u001b[0m\u001b[0mproxies\u001b[0m\u001b[0;34m)\u001b[0m\u001b[0;34m\u001b[0m\u001b[0;34m\u001b[0m\u001b[0m\n\u001b[0m\u001b[1;32m    185\u001b[0m                 \u001b[0mlog\u001b[0m\u001b[0;34m.\u001b[0m\u001b[0minfo\u001b[0m\u001b[0;34m(\u001b[0m\u001b[0mresponse\u001b[0m\u001b[0;34m.\u001b[0m\u001b[0murl\u001b[0m\u001b[0;34m)\u001b[0m\u001b[0;34m\u001b[0m\u001b[0;34m\u001b[0m\u001b[0m\n\u001b[1;32m    186\u001b[0m                 \u001b[0mlog\u001b[0m\u001b[0;34m.\u001b[0m\u001b[0mdebug\u001b[0m\u001b[0;34m(\u001b[0m\u001b[0;34m'Response status code: %s'\u001b[0m \u001b[0;34m%\u001b[0m \u001b[0mresponse\u001b[0m\u001b[0;34m.\u001b[0m\u001b[0mstatus_code\u001b[0m\u001b[0;34m)\u001b[0m\u001b[0;34m\u001b[0m\u001b[0;34m\u001b[0m\u001b[0m\n",
      "\u001b[0;32m/shared-libs/python3.7/py/lib/python3.7/site-packages/requests/api.py\u001b[0m in \u001b[0;36mget\u001b[0;34m(url, params, **kwargs)\u001b[0m\n\u001b[1;32m     73\u001b[0m     \"\"\"\n\u001b[1;32m     74\u001b[0m \u001b[0;34m\u001b[0m\u001b[0m\n\u001b[0;32m---> 75\u001b[0;31m     \u001b[0;32mreturn\u001b[0m \u001b[0mrequest\u001b[0m\u001b[0;34m(\u001b[0m\u001b[0;34m'get'\u001b[0m\u001b[0;34m,\u001b[0m \u001b[0murl\u001b[0m\u001b[0;34m,\u001b[0m \u001b[0mparams\u001b[0m\u001b[0;34m=\u001b[0m\u001b[0mparams\u001b[0m\u001b[0;34m,\u001b[0m \u001b[0;34m**\u001b[0m\u001b[0mkwargs\u001b[0m\u001b[0;34m)\u001b[0m\u001b[0;34m\u001b[0m\u001b[0;34m\u001b[0m\u001b[0m\n\u001b[0m\u001b[1;32m     76\u001b[0m \u001b[0;34m\u001b[0m\u001b[0m\n\u001b[1;32m     77\u001b[0m \u001b[0;34m\u001b[0m\u001b[0m\n",
      "\u001b[0;32m/shared-libs/python3.7/py/lib/python3.7/site-packages/requests/api.py\u001b[0m in \u001b[0;36mrequest\u001b[0;34m(method, url, **kwargs)\u001b[0m\n\u001b[1;32m     59\u001b[0m     \u001b[0;31m# cases, and look like a memory leak in others.\u001b[0m\u001b[0;34m\u001b[0m\u001b[0;34m\u001b[0m\u001b[0;34m\u001b[0m\u001b[0m\n\u001b[1;32m     60\u001b[0m     \u001b[0;32mwith\u001b[0m \u001b[0msessions\u001b[0m\u001b[0;34m.\u001b[0m\u001b[0mSession\u001b[0m\u001b[0;34m(\u001b[0m\u001b[0;34m)\u001b[0m \u001b[0;32mas\u001b[0m \u001b[0msession\u001b[0m\u001b[0;34m:\u001b[0m\u001b[0;34m\u001b[0m\u001b[0;34m\u001b[0m\u001b[0m\n\u001b[0;32m---> 61\u001b[0;31m         \u001b[0;32mreturn\u001b[0m \u001b[0msession\u001b[0m\u001b[0;34m.\u001b[0m\u001b[0mrequest\u001b[0m\u001b[0;34m(\u001b[0m\u001b[0mmethod\u001b[0m\u001b[0;34m=\u001b[0m\u001b[0mmethod\u001b[0m\u001b[0;34m,\u001b[0m \u001b[0murl\u001b[0m\u001b[0;34m=\u001b[0m\u001b[0murl\u001b[0m\u001b[0;34m,\u001b[0m \u001b[0;34m**\u001b[0m\u001b[0mkwargs\u001b[0m\u001b[0;34m)\u001b[0m\u001b[0;34m\u001b[0m\u001b[0;34m\u001b[0m\u001b[0m\n\u001b[0m\u001b[1;32m     62\u001b[0m \u001b[0;34m\u001b[0m\u001b[0m\n\u001b[1;32m     63\u001b[0m \u001b[0;34m\u001b[0m\u001b[0m\n",
      "\u001b[0;32m/shared-libs/python3.7/py/lib/python3.7/site-packages/requests/sessions.py\u001b[0m in \u001b[0;36mrequest\u001b[0;34m(self, method, url, params, data, headers, cookies, files, auth, timeout, allow_redirects, proxies, hooks, stream, verify, cert, json)\u001b[0m\n\u001b[1;32m    527\u001b[0m         }\n\u001b[1;32m    528\u001b[0m         \u001b[0msend_kwargs\u001b[0m\u001b[0;34m.\u001b[0m\u001b[0mupdate\u001b[0m\u001b[0;34m(\u001b[0m\u001b[0msettings\u001b[0m\u001b[0;34m)\u001b[0m\u001b[0;34m\u001b[0m\u001b[0;34m\u001b[0m\u001b[0m\n\u001b[0;32m--> 529\u001b[0;31m         \u001b[0mresp\u001b[0m \u001b[0;34m=\u001b[0m \u001b[0mself\u001b[0m\u001b[0;34m.\u001b[0m\u001b[0msend\u001b[0m\u001b[0;34m(\u001b[0m\u001b[0mprep\u001b[0m\u001b[0;34m,\u001b[0m \u001b[0;34m**\u001b[0m\u001b[0msend_kwargs\u001b[0m\u001b[0;34m)\u001b[0m\u001b[0;34m\u001b[0m\u001b[0;34m\u001b[0m\u001b[0m\n\u001b[0m\u001b[1;32m    530\u001b[0m \u001b[0;34m\u001b[0m\u001b[0m\n\u001b[1;32m    531\u001b[0m         \u001b[0;32mreturn\u001b[0m \u001b[0mresp\u001b[0m\u001b[0;34m\u001b[0m\u001b[0;34m\u001b[0m\u001b[0m\n",
      "\u001b[0;32m/shared-libs/python3.7/py/lib/python3.7/site-packages/requests/sessions.py\u001b[0m in \u001b[0;36msend\u001b[0;34m(self, request, **kwargs)\u001b[0m\n\u001b[1;32m    643\u001b[0m \u001b[0;34m\u001b[0m\u001b[0m\n\u001b[1;32m    644\u001b[0m         \u001b[0;31m# Send the request\u001b[0m\u001b[0;34m\u001b[0m\u001b[0;34m\u001b[0m\u001b[0;34m\u001b[0m\u001b[0m\n\u001b[0;32m--> 645\u001b[0;31m         \u001b[0mr\u001b[0m \u001b[0;34m=\u001b[0m \u001b[0madapter\u001b[0m\u001b[0;34m.\u001b[0m\u001b[0msend\u001b[0m\u001b[0;34m(\u001b[0m\u001b[0mrequest\u001b[0m\u001b[0;34m,\u001b[0m \u001b[0;34m**\u001b[0m\u001b[0mkwargs\u001b[0m\u001b[0;34m)\u001b[0m\u001b[0;34m\u001b[0m\u001b[0;34m\u001b[0m\u001b[0m\n\u001b[0m\u001b[1;32m    646\u001b[0m \u001b[0;34m\u001b[0m\u001b[0m\n\u001b[1;32m    647\u001b[0m         \u001b[0;31m# Total elapsed time of the request (approximately)\u001b[0m\u001b[0;34m\u001b[0m\u001b[0;34m\u001b[0m\u001b[0;34m\u001b[0m\u001b[0m\n",
      "\u001b[0;32m/shared-libs/python3.7/py/lib/python3.7/site-packages/requests/adapters.py\u001b[0m in \u001b[0;36msend\u001b[0;34m(self, request, stream, timeout, verify, cert, proxies)\u001b[0m\n\u001b[1;32m    448\u001b[0m                     \u001b[0mdecode_content\u001b[0m\u001b[0;34m=\u001b[0m\u001b[0;32mFalse\u001b[0m\u001b[0;34m,\u001b[0m\u001b[0;34m\u001b[0m\u001b[0;34m\u001b[0m\u001b[0m\n\u001b[1;32m    449\u001b[0m                     \u001b[0mretries\u001b[0m\u001b[0;34m=\u001b[0m\u001b[0mself\u001b[0m\u001b[0;34m.\u001b[0m\u001b[0mmax_retries\u001b[0m\u001b[0;34m,\u001b[0m\u001b[0;34m\u001b[0m\u001b[0;34m\u001b[0m\u001b[0m\n\u001b[0;32m--> 450\u001b[0;31m                     \u001b[0mtimeout\u001b[0m\u001b[0;34m=\u001b[0m\u001b[0mtimeout\u001b[0m\u001b[0;34m\u001b[0m\u001b[0;34m\u001b[0m\u001b[0m\n\u001b[0m\u001b[1;32m    451\u001b[0m                 )\n\u001b[1;32m    452\u001b[0m \u001b[0;34m\u001b[0m\u001b[0m\n",
      "\u001b[0;32m/shared-libs/python3.7/py/lib/python3.7/site-packages/urllib3/connectionpool.py\u001b[0m in \u001b[0;36murlopen\u001b[0;34m(self, method, url, body, headers, retries, redirect, assert_same_host, timeout, pool_timeout, release_conn, chunked, body_pos, **response_kw)\u001b[0m\n\u001b[1;32m    708\u001b[0m                 \u001b[0mbody\u001b[0m\u001b[0;34m=\u001b[0m\u001b[0mbody\u001b[0m\u001b[0;34m,\u001b[0m\u001b[0;34m\u001b[0m\u001b[0;34m\u001b[0m\u001b[0m\n\u001b[1;32m    709\u001b[0m                 \u001b[0mheaders\u001b[0m\u001b[0;34m=\u001b[0m\u001b[0mheaders\u001b[0m\u001b[0;34m,\u001b[0m\u001b[0;34m\u001b[0m\u001b[0;34m\u001b[0m\u001b[0m\n\u001b[0;32m--> 710\u001b[0;31m                 \u001b[0mchunked\u001b[0m\u001b[0;34m=\u001b[0m\u001b[0mchunked\u001b[0m\u001b[0;34m,\u001b[0m\u001b[0;34m\u001b[0m\u001b[0;34m\u001b[0m\u001b[0m\n\u001b[0m\u001b[1;32m    711\u001b[0m             )\n\u001b[1;32m    712\u001b[0m \u001b[0;34m\u001b[0m\u001b[0m\n",
      "\u001b[0;32m/shared-libs/python3.7/py/lib/python3.7/site-packages/urllib3/connectionpool.py\u001b[0m in \u001b[0;36m_make_request\u001b[0;34m(self, conn, method, url, timeout, chunked, **httplib_request_kw)\u001b[0m\n\u001b[1;32m    447\u001b[0m                     \u001b[0;31m# Python 3 (including for exceptions like SystemExit).\u001b[0m\u001b[0;34m\u001b[0m\u001b[0;34m\u001b[0m\u001b[0;34m\u001b[0m\u001b[0m\n\u001b[1;32m    448\u001b[0m                     \u001b[0;31m# Otherwise it looks like a bug in the code.\u001b[0m\u001b[0;34m\u001b[0m\u001b[0;34m\u001b[0m\u001b[0;34m\u001b[0m\u001b[0m\n\u001b[0;32m--> 449\u001b[0;31m                     \u001b[0msix\u001b[0m\u001b[0;34m.\u001b[0m\u001b[0mraise_from\u001b[0m\u001b[0;34m(\u001b[0m\u001b[0me\u001b[0m\u001b[0;34m,\u001b[0m \u001b[0;32mNone\u001b[0m\u001b[0;34m)\u001b[0m\u001b[0;34m\u001b[0m\u001b[0;34m\u001b[0m\u001b[0m\n\u001b[0m\u001b[1;32m    450\u001b[0m         \u001b[0;32mexcept\u001b[0m \u001b[0;34m(\u001b[0m\u001b[0mSocketTimeout\u001b[0m\u001b[0;34m,\u001b[0m \u001b[0mBaseSSLError\u001b[0m\u001b[0;34m,\u001b[0m \u001b[0mSocketError\u001b[0m\u001b[0;34m)\u001b[0m \u001b[0;32mas\u001b[0m \u001b[0me\u001b[0m\u001b[0;34m:\u001b[0m\u001b[0;34m\u001b[0m\u001b[0;34m\u001b[0m\u001b[0m\n\u001b[1;32m    451\u001b[0m             \u001b[0mself\u001b[0m\u001b[0;34m.\u001b[0m\u001b[0m_raise_timeout\u001b[0m\u001b[0;34m(\u001b[0m\u001b[0merr\u001b[0m\u001b[0;34m=\u001b[0m\u001b[0me\u001b[0m\u001b[0;34m,\u001b[0m \u001b[0murl\u001b[0m\u001b[0;34m=\u001b[0m\u001b[0murl\u001b[0m\u001b[0;34m,\u001b[0m \u001b[0mtimeout_value\u001b[0m\u001b[0;34m=\u001b[0m\u001b[0mread_timeout\u001b[0m\u001b[0;34m)\u001b[0m\u001b[0;34m\u001b[0m\u001b[0;34m\u001b[0m\u001b[0m\n",
      "\u001b[0;32m/shared-libs/python3.7/py/lib/python3.7/site-packages/urllib3/packages/six.py\u001b[0m in \u001b[0;36mraise_from\u001b[0;34m(value, from_value)\u001b[0m\n",
      "\u001b[0;32m/shared-libs/python3.7/py/lib/python3.7/site-packages/urllib3/connectionpool.py\u001b[0m in \u001b[0;36m_make_request\u001b[0;34m(self, conn, method, url, timeout, chunked, **httplib_request_kw)\u001b[0m\n\u001b[1;32m    442\u001b[0m                 \u001b[0;31m# Python 3\u001b[0m\u001b[0;34m\u001b[0m\u001b[0;34m\u001b[0m\u001b[0;34m\u001b[0m\u001b[0m\n\u001b[1;32m    443\u001b[0m                 \u001b[0;32mtry\u001b[0m\u001b[0;34m:\u001b[0m\u001b[0;34m\u001b[0m\u001b[0;34m\u001b[0m\u001b[0m\n\u001b[0;32m--> 444\u001b[0;31m                     \u001b[0mhttplib_response\u001b[0m \u001b[0;34m=\u001b[0m \u001b[0mconn\u001b[0m\u001b[0;34m.\u001b[0m\u001b[0mgetresponse\u001b[0m\u001b[0;34m(\u001b[0m\u001b[0;34m)\u001b[0m\u001b[0;34m\u001b[0m\u001b[0;34m\u001b[0m\u001b[0m\n\u001b[0m\u001b[1;32m    445\u001b[0m                 \u001b[0;32mexcept\u001b[0m \u001b[0mBaseException\u001b[0m \u001b[0;32mas\u001b[0m \u001b[0me\u001b[0m\u001b[0;34m:\u001b[0m\u001b[0;34m\u001b[0m\u001b[0;34m\u001b[0m\u001b[0m\n\u001b[1;32m    446\u001b[0m                     \u001b[0;31m# Remove the TypeError from the exception chain in\u001b[0m\u001b[0;34m\u001b[0m\u001b[0;34m\u001b[0m\u001b[0;34m\u001b[0m\u001b[0m\n",
      "\u001b[0;32m/usr/local/lib/python3.7/http/client.py\u001b[0m in \u001b[0;36mgetresponse\u001b[0;34m(self)\u001b[0m\n\u001b[1;32m   1371\u001b[0m         \u001b[0;32mtry\u001b[0m\u001b[0;34m:\u001b[0m\u001b[0;34m\u001b[0m\u001b[0;34m\u001b[0m\u001b[0m\n\u001b[1;32m   1372\u001b[0m             \u001b[0;32mtry\u001b[0m\u001b[0;34m:\u001b[0m\u001b[0;34m\u001b[0m\u001b[0;34m\u001b[0m\u001b[0m\n\u001b[0;32m-> 1373\u001b[0;31m                 \u001b[0mresponse\u001b[0m\u001b[0;34m.\u001b[0m\u001b[0mbegin\u001b[0m\u001b[0;34m(\u001b[0m\u001b[0;34m)\u001b[0m\u001b[0;34m\u001b[0m\u001b[0;34m\u001b[0m\u001b[0m\n\u001b[0m\u001b[1;32m   1374\u001b[0m             \u001b[0;32mexcept\u001b[0m \u001b[0mConnectionError\u001b[0m\u001b[0;34m:\u001b[0m\u001b[0;34m\u001b[0m\u001b[0;34m\u001b[0m\u001b[0m\n\u001b[1;32m   1375\u001b[0m                 \u001b[0mself\u001b[0m\u001b[0;34m.\u001b[0m\u001b[0mclose\u001b[0m\u001b[0;34m(\u001b[0m\u001b[0;34m)\u001b[0m\u001b[0;34m\u001b[0m\u001b[0;34m\u001b[0m\u001b[0m\n",
      "\u001b[0;32m/usr/local/lib/python3.7/http/client.py\u001b[0m in \u001b[0;36mbegin\u001b[0;34m(self)\u001b[0m\n\u001b[1;32m    317\u001b[0m         \u001b[0;31m# read until we get a non-100 response\u001b[0m\u001b[0;34m\u001b[0m\u001b[0;34m\u001b[0m\u001b[0;34m\u001b[0m\u001b[0m\n\u001b[1;32m    318\u001b[0m         \u001b[0;32mwhile\u001b[0m \u001b[0;32mTrue\u001b[0m\u001b[0;34m:\u001b[0m\u001b[0;34m\u001b[0m\u001b[0;34m\u001b[0m\u001b[0m\n\u001b[0;32m--> 319\u001b[0;31m             \u001b[0mversion\u001b[0m\u001b[0;34m,\u001b[0m \u001b[0mstatus\u001b[0m\u001b[0;34m,\u001b[0m \u001b[0mreason\u001b[0m \u001b[0;34m=\u001b[0m \u001b[0mself\u001b[0m\u001b[0;34m.\u001b[0m\u001b[0m_read_status\u001b[0m\u001b[0;34m(\u001b[0m\u001b[0;34m)\u001b[0m\u001b[0;34m\u001b[0m\u001b[0;34m\u001b[0m\u001b[0m\n\u001b[0m\u001b[1;32m    320\u001b[0m             \u001b[0;32mif\u001b[0m \u001b[0mstatus\u001b[0m \u001b[0;34m!=\u001b[0m \u001b[0mCONTINUE\u001b[0m\u001b[0;34m:\u001b[0m\u001b[0;34m\u001b[0m\u001b[0;34m\u001b[0m\u001b[0m\n\u001b[1;32m    321\u001b[0m                 \u001b[0;32mbreak\u001b[0m\u001b[0;34m\u001b[0m\u001b[0;34m\u001b[0m\u001b[0m\n",
      "\u001b[0;32m/usr/local/lib/python3.7/http/client.py\u001b[0m in \u001b[0;36m_read_status\u001b[0;34m(self)\u001b[0m\n\u001b[1;32m    278\u001b[0m \u001b[0;34m\u001b[0m\u001b[0m\n\u001b[1;32m    279\u001b[0m     \u001b[0;32mdef\u001b[0m \u001b[0m_read_status\u001b[0m\u001b[0;34m(\u001b[0m\u001b[0mself\u001b[0m\u001b[0;34m)\u001b[0m\u001b[0;34m:\u001b[0m\u001b[0;34m\u001b[0m\u001b[0;34m\u001b[0m\u001b[0m\n\u001b[0;32m--> 280\u001b[0;31m         \u001b[0mline\u001b[0m \u001b[0;34m=\u001b[0m \u001b[0mstr\u001b[0m\u001b[0;34m(\u001b[0m\u001b[0mself\u001b[0m\u001b[0;34m.\u001b[0m\u001b[0mfp\u001b[0m\u001b[0;34m.\u001b[0m\u001b[0mreadline\u001b[0m\u001b[0;34m(\u001b[0m\u001b[0m_MAXLINE\u001b[0m \u001b[0;34m+\u001b[0m \u001b[0;36m1\u001b[0m\u001b[0;34m)\u001b[0m\u001b[0;34m,\u001b[0m \u001b[0;34m\"iso-8859-1\"\u001b[0m\u001b[0;34m)\u001b[0m\u001b[0;34m\u001b[0m\u001b[0;34m\u001b[0m\u001b[0m\n\u001b[0m\u001b[1;32m    281\u001b[0m         \u001b[0;32mif\u001b[0m \u001b[0mlen\u001b[0m\u001b[0;34m(\u001b[0m\u001b[0mline\u001b[0m\u001b[0;34m)\u001b[0m \u001b[0;34m>\u001b[0m \u001b[0m_MAXLINE\u001b[0m\u001b[0;34m:\u001b[0m\u001b[0;34m\u001b[0m\u001b[0;34m\u001b[0m\u001b[0m\n\u001b[1;32m    282\u001b[0m             \u001b[0;32mraise\u001b[0m \u001b[0mLineTooLong\u001b[0m\u001b[0;34m(\u001b[0m\u001b[0;34m\"status line\"\u001b[0m\u001b[0;34m)\u001b[0m\u001b[0;34m\u001b[0m\u001b[0;34m\u001b[0m\u001b[0m\n",
      "\u001b[0;32m/usr/local/lib/python3.7/socket.py\u001b[0m in \u001b[0;36mreadinto\u001b[0;34m(self, b)\u001b[0m\n\u001b[1;32m    587\u001b[0m         \u001b[0;32mwhile\u001b[0m \u001b[0;32mTrue\u001b[0m\u001b[0;34m:\u001b[0m\u001b[0;34m\u001b[0m\u001b[0;34m\u001b[0m\u001b[0m\n\u001b[1;32m    588\u001b[0m             \u001b[0;32mtry\u001b[0m\u001b[0;34m:\u001b[0m\u001b[0;34m\u001b[0m\u001b[0;34m\u001b[0m\u001b[0m\n\u001b[0;32m--> 589\u001b[0;31m                 \u001b[0;32mreturn\u001b[0m \u001b[0mself\u001b[0m\u001b[0;34m.\u001b[0m\u001b[0m_sock\u001b[0m\u001b[0;34m.\u001b[0m\u001b[0mrecv_into\u001b[0m\u001b[0;34m(\u001b[0m\u001b[0mb\u001b[0m\u001b[0;34m)\u001b[0m\u001b[0;34m\u001b[0m\u001b[0;34m\u001b[0m\u001b[0m\n\u001b[0m\u001b[1;32m    590\u001b[0m             \u001b[0;32mexcept\u001b[0m \u001b[0mtimeout\u001b[0m\u001b[0;34m:\u001b[0m\u001b[0;34m\u001b[0m\u001b[0;34m\u001b[0m\u001b[0m\n\u001b[1;32m    591\u001b[0m                 \u001b[0mself\u001b[0m\u001b[0;34m.\u001b[0m\u001b[0m_timeout_occurred\u001b[0m \u001b[0;34m=\u001b[0m \u001b[0;32mTrue\u001b[0m\u001b[0;34m\u001b[0m\u001b[0;34m\u001b[0m\u001b[0m\n",
      "\u001b[0;32m/usr/local/lib/python3.7/ssl.py\u001b[0m in \u001b[0;36mrecv_into\u001b[0;34m(self, buffer, nbytes, flags)\u001b[0m\n\u001b[1;32m   1069\u001b[0m                   \u001b[0;34m\"non-zero flags not allowed in calls to recv_into() on %s\"\u001b[0m \u001b[0;34m%\u001b[0m\u001b[0;34m\u001b[0m\u001b[0;34m\u001b[0m\u001b[0m\n\u001b[1;32m   1070\u001b[0m                   self.__class__)\n\u001b[0;32m-> 1071\u001b[0;31m             \u001b[0;32mreturn\u001b[0m \u001b[0mself\u001b[0m\u001b[0;34m.\u001b[0m\u001b[0mread\u001b[0m\u001b[0;34m(\u001b[0m\u001b[0mnbytes\u001b[0m\u001b[0;34m,\u001b[0m \u001b[0mbuffer\u001b[0m\u001b[0;34m)\u001b[0m\u001b[0;34m\u001b[0m\u001b[0;34m\u001b[0m\u001b[0m\n\u001b[0m\u001b[1;32m   1072\u001b[0m         \u001b[0;32melse\u001b[0m\u001b[0;34m:\u001b[0m\u001b[0;34m\u001b[0m\u001b[0;34m\u001b[0m\u001b[0m\n\u001b[1;32m   1073\u001b[0m             \u001b[0;32mreturn\u001b[0m \u001b[0msuper\u001b[0m\u001b[0;34m(\u001b[0m\u001b[0;34m)\u001b[0m\u001b[0;34m.\u001b[0m\u001b[0mrecv_into\u001b[0m\u001b[0;34m(\u001b[0m\u001b[0mbuffer\u001b[0m\u001b[0;34m,\u001b[0m \u001b[0mnbytes\u001b[0m\u001b[0;34m,\u001b[0m \u001b[0mflags\u001b[0m\u001b[0;34m)\u001b[0m\u001b[0;34m\u001b[0m\u001b[0;34m\u001b[0m\u001b[0m\n",
      "\u001b[0;32m/usr/local/lib/python3.7/ssl.py\u001b[0m in \u001b[0;36mread\u001b[0;34m(self, len, buffer)\u001b[0m\n\u001b[1;32m    927\u001b[0m         \u001b[0;32mtry\u001b[0m\u001b[0;34m:\u001b[0m\u001b[0;34m\u001b[0m\u001b[0;34m\u001b[0m\u001b[0m\n\u001b[1;32m    928\u001b[0m             \u001b[0;32mif\u001b[0m \u001b[0mbuffer\u001b[0m \u001b[0;32mis\u001b[0m \u001b[0;32mnot\u001b[0m \u001b[0;32mNone\u001b[0m\u001b[0;34m:\u001b[0m\u001b[0;34m\u001b[0m\u001b[0;34m\u001b[0m\u001b[0m\n\u001b[0;32m--> 929\u001b[0;31m                 \u001b[0;32mreturn\u001b[0m \u001b[0mself\u001b[0m\u001b[0;34m.\u001b[0m\u001b[0m_sslobj\u001b[0m\u001b[0;34m.\u001b[0m\u001b[0mread\u001b[0m\u001b[0;34m(\u001b[0m\u001b[0mlen\u001b[0m\u001b[0;34m,\u001b[0m \u001b[0mbuffer\u001b[0m\u001b[0;34m)\u001b[0m\u001b[0;34m\u001b[0m\u001b[0;34m\u001b[0m\u001b[0m\n\u001b[0m\u001b[1;32m    930\u001b[0m             \u001b[0;32melse\u001b[0m\u001b[0;34m:\u001b[0m\u001b[0;34m\u001b[0m\u001b[0;34m\u001b[0m\u001b[0m\n\u001b[1;32m    931\u001b[0m                 \u001b[0;32mreturn\u001b[0m \u001b[0mself\u001b[0m\u001b[0;34m.\u001b[0m\u001b[0m_sslobj\u001b[0m\u001b[0;34m.\u001b[0m\u001b[0mread\u001b[0m\u001b[0;34m(\u001b[0m\u001b[0mlen\u001b[0m\u001b[0;34m)\u001b[0m\u001b[0;34m\u001b[0m\u001b[0;34m\u001b[0m\u001b[0m\n",
      "\u001b[0;31mKeyboardInterrupt\u001b[0m: "
     ]
    }
   ]
  },
  {
   "cell_type": "markdown",
   "source": "<a style='text-decoration:none;line-height:16px;display:flex;color:#5B5B62;padding:10px;justify-content:end;' href='https://deepnote.com?utm_source=created-in-deepnote-cell&projectId=f746e373-dc41-4dbe-b3f9-5f3af42ff658' target=\"_blank\">\n<img alt='Created in deepnote.com' style='display:inline;max-height:16px;margin:0px;margin-right:7.5px;' src='data:image/svg+xml;base64,PD94bWwgdmVyc2lvbj0iMS4wIiBlbmNvZGluZz0iVVRGLTgiPz4KPHN2ZyB3aWR0aD0iODBweCIgaGVpZ2h0PSI4MHB4IiB2aWV3Qm94PSIwIDAgODAgODAiIHZlcnNpb249IjEuMSIgeG1sbnM9Imh0dHA6Ly93d3cudzMub3JnLzIwMDAvc3ZnIiB4bWxuczp4bGluaz0iaHR0cDovL3d3dy53My5vcmcvMTk5OS94bGluayI+CiAgICA8IS0tIEdlbmVyYXRvcjogU2tldGNoIDU0LjEgKDc2NDkwKSAtIGh0dHBzOi8vc2tldGNoYXBwLmNvbSAtLT4KICAgIDx0aXRsZT5Hcm91cCAzPC90aXRsZT4KICAgIDxkZXNjPkNyZWF0ZWQgd2l0aCBTa2V0Y2guPC9kZXNjPgogICAgPGcgaWQ9IkxhbmRpbmciIHN0cm9rZT0ibm9uZSIgc3Ryb2tlLXdpZHRoPSIxIiBmaWxsPSJub25lIiBmaWxsLXJ1bGU9ImV2ZW5vZGQiPgogICAgICAgIDxnIGlkPSJBcnRib2FyZCIgdHJhbnNmb3JtPSJ0cmFuc2xhdGUoLTEyMzUuMDAwMDAwLCAtNzkuMDAwMDAwKSI+CiAgICAgICAgICAgIDxnIGlkPSJHcm91cC0zIiB0cmFuc2Zvcm09InRyYW5zbGF0ZSgxMjM1LjAwMDAwMCwgNzkuMDAwMDAwKSI+CiAgICAgICAgICAgICAgICA8cG9seWdvbiBpZD0iUGF0aC0yMCIgZmlsbD0iIzAyNjVCNCIgcG9pbnRzPSIyLjM3NjIzNzYyIDgwIDM4LjA0NzY2NjcgODAgNTcuODIxNzgyMiA3My44MDU3NTkyIDU3LjgyMTc4MjIgMzIuNzU5MjczOSAzOS4xNDAyMjc4IDMxLjY4MzE2ODMiPjwvcG9seWdvbj4KICAgICAgICAgICAgICAgIDxwYXRoIGQ9Ik0zNS4wMDc3MTgsODAgQzQyLjkwNjIwMDcsNzYuNDU0OTM1OCA0Ny41NjQ5MTY3LDcxLjU0MjI2NzEgNDguOTgzODY2LDY1LjI2MTk5MzkgQzUxLjExMjI4OTksNTUuODQxNTg0MiA0MS42NzcxNzk1LDQ5LjIxMjIyODQgMjUuNjIzOTg0Niw0OS4yMTIyMjg0IEMyNS40ODQ5Mjg5LDQ5LjEyNjg0NDggMjkuODI2MTI5Niw0My4yODM4MjQ4IDM4LjY0NzU4NjksMzEuNjgzMTY4MyBMNzIuODcxMjg3MSwzMi41NTQ0MjUgTDY1LjI4MDk3Myw2Ny42NzYzNDIxIEw1MS4xMTIyODk5LDc3LjM3NjE0NCBMMzUuMDA3NzE4LDgwIFoiIGlkPSJQYXRoLTIyIiBmaWxsPSIjMDAyODY4Ij48L3BhdGg+CiAgICAgICAgICAgICAgICA8cGF0aCBkPSJNMCwzNy43MzA0NDA1IEwyNy4xMTQ1MzcsMC4yNTcxMTE0MzYgQzYyLjM3MTUxMjMsLTEuOTkwNzE3MDEgODAsMTAuNTAwMzkyNyA4MCwzNy43MzA0NDA1IEM4MCw2NC45NjA0ODgyIDY0Ljc3NjUwMzgsNzkuMDUwMzQxNCAzNC4zMjk1MTEzLDgwIEM0Ny4wNTUzNDg5LDc3LjU2NzA4MDggNTMuNDE4MjY3Nyw3MC4zMTM2MTAzIDUzLjQxODI2NzcsNTguMjM5NTg4NSBDNTMuNDE4MjY3Nyw0MC4xMjg1NTU3IDM2LjMwMzk1NDQsMzcuNzMwNDQwNSAyNS4yMjc0MTcsMzcuNzMwNDQwNSBDMTcuODQzMDU4NiwzNy43MzA0NDA1IDkuNDMzOTE5NjYsMzcuNzMwNDQwNSAwLDM3LjczMDQ0MDUgWiIgaWQ9IlBhdGgtMTkiIGZpbGw9IiMzNzkzRUYiPjwvcGF0aD4KICAgICAgICAgICAgPC9nPgogICAgICAgIDwvZz4KICAgIDwvZz4KPC9zdmc+' > </img>\nCreated in <span style='font-weight:600;margin-left:4px;'>Deepnote</span></a>",
   "metadata": {
    "tags": [],
    "created_in_deepnote_cell": true,
    "deepnote_cell_type": "markdown"
   }
  }
 ],
 "nbformat": 4,
 "nbformat_minor": 2,
 "metadata": {
  "orig_nbformat": 2,
  "deepnote": {
   "is_reactive": false
  },
  "deepnote_notebook_id": "4a686dea-4756-4795-91b0-7a9bf46a8405",
  "deepnote_execution_queue": []
 }
}